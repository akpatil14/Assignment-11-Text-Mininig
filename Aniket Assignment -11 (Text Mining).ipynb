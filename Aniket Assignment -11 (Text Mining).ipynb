<!DOCTYPE html>
<!-- saved from url=(0089)https://gist.github.com/perlineanisha/a095ff17abce95212da043f9c5e05909?short_path=11c46c6 -->
<html lang="en" data-color-mode="light" data-light-theme="light" data-dark-theme="dark" data-a11y-animated-images="system" data-turbo-loaded=""><head><meta http-equiv="Content-Type" content="text/html; charset=UTF-8"><style type="text/css">.turbo-progress-bar {
  position: fixed;
  display: block;
  top: 0;
  left: 0;
  height: 3px;
  background: #0076ff;
  z-index: 2147483647;
  transition:
    width 300ms ease-out,
    opacity 150ms 150ms ease-in;
  transform: translate3d(0, 0, 0);
}
</style>
    
  <link rel="dns-prefetch" href="https://github.githubassets.com/">
  <link rel="dns-prefetch" href="https://avatars.githubusercontent.com/">
  <link rel="dns-prefetch" href="https://github-cloud.s3.amazonaws.com/">
  <link rel="dns-prefetch" href="https://user-images.githubusercontent.com/">
  <link rel="preconnect" href="https://github.githubassets.com/" crossorigin="">
  <link rel="preconnect" href="https://avatars.githubusercontent.com/">



  <link crossorigin="anonymous" media="all" rel="stylesheet" href="./Aniket Assignment -11 (Text Mining)_files/light-5178aee0ee76.css"><link data-color-theme="dark" crossorigin="anonymous" media="all" rel="stylesheet" data-href="https://github.githubassets.com/assets/dark-217d4f9c8e70.css"><link data-color-theme="dark_dimmed" crossorigin="anonymous" media="all" rel="stylesheet" data-href="https://github.githubassets.com/assets/dark_dimmed-0adfa28f0e68.css"><link data-color-theme="dark_high_contrast" crossorigin="anonymous" media="all" rel="stylesheet" data-href="https://github.githubassets.com/assets/dark_high_contrast-1c8575b36644.css"><link data-color-theme="dark_colorblind" crossorigin="anonymous" media="all" rel="stylesheet" data-href="https://github.githubassets.com/assets/dark_colorblind-5113d2be20b0.css"><link data-color-theme="light_colorblind" crossorigin="anonymous" media="all" rel="stylesheet" data-href="https://github.githubassets.com/assets/light_colorblind-c96add742484.css"><link data-color-theme="light_high_contrast" crossorigin="anonymous" media="all" rel="stylesheet" data-href="https://github.githubassets.com/assets/light_high_contrast-290f92f5e867.css"><link data-color-theme="light_tritanopia" crossorigin="anonymous" media="all" rel="stylesheet" data-href="https://github.githubassets.com/assets/light_tritanopia-cdd88f146bf7.css"><link data-color-theme="dark_tritanopia" crossorigin="anonymous" media="all" rel="stylesheet" data-href="https://github.githubassets.com/assets/dark_tritanopia-2171ea0f078b.css">
  
    <link crossorigin="anonymous" media="all" rel="stylesheet" href="./Aniket Assignment -11 (Text Mining)_files/primer-e1b46f4d01ea.css">
    <link crossorigin="anonymous" media="all" rel="stylesheet" href="./Aniket Assignment -11 (Text Mining)_files/global-bc7f0f8b53a0.css">
    <link crossorigin="anonymous" media="all" rel="stylesheet" href="./Aniket Assignment -11 (Text Mining)_files/github-92ffe3571a94.css">
  



  <script crossorigin="anonymous" defer="defer" type="application/javascript" src="./Aniket Assignment -11 (Text Mining)_files/wp-runtime-5ed10d76fb7e.js.download"></script>
<script crossorigin="anonymous" defer="defer" type="application/javascript" src="./Aniket Assignment -11 (Text Mining)_files/vendors-node_modules_manuelpuyol_turbo_dist_turbo_es2017-esm_js-7ca92c8d513d.js.download"></script>
<script crossorigin="anonymous" defer="defer" type="application/javascript" src="./Aniket Assignment -11 (Text Mining)_files/vendors-node_modules_stacktrace-parser_dist_stack-trace-parser_esm_js-node_modules_github_bro-d351f6-c1d63d230b29.js.download"></script>
<script crossorigin="anonymous" defer="defer" type="application/javascript" src="./Aniket Assignment -11 (Text Mining)_files/environment-019ad8aaeab3.js.download"></script>
<script crossorigin="anonymous" defer="defer" type="application/javascript" src="./Aniket Assignment -11 (Text Mining)_files/vendors-node_modules_selector-observer_dist_index_esm_js-650337916dbd.js.download"></script>
<script crossorigin="anonymous" defer="defer" type="application/javascript" src="./Aniket Assignment -11 (Text Mining)_files/vendors-node_modules_delegated-events_dist_index_js-node_modules_github_details-dialog-elemen-63debe-4a2f37f7419e.js.download"></script>
<script crossorigin="anonymous" defer="defer" type="application/javascript" src="./Aniket Assignment -11 (Text Mining)_files/vendors-node_modules_github_auto-complete-element_dist_index_js-node_modules_github_catalyst_-6afc16-accdbcccdc1b.js.download"></script>
<script crossorigin="anonymous" defer="defer" type="application/javascript" src="./Aniket Assignment -11 (Text Mining)_files/vendors-node_modules_fzy_js_index_js-node_modules_github_markdown-toolbar-element_dist_index_js-6f74e8e38aad.js.download"></script>
<script crossorigin="anonymous" defer="defer" type="application/javascript" src="./Aniket Assignment -11 (Text Mining)_files/vendors-node_modules_github_time-elements_dist_index_js-74b4ec51ce20.js.download"></script>
<script crossorigin="anonymous" defer="defer" type="application/javascript" src="./Aniket Assignment -11 (Text Mining)_files/vendors-node_modules_github_file-attachment-element_dist_index_js-node_modules_github_filter--6a5bff-e7b3d0c97a2e.js.download"></script>
<script crossorigin="anonymous" defer="defer" type="application/javascript" src="./Aniket Assignment -11 (Text Mining)_files/github-elements-49dd186cf077.js.download"></script>
<script crossorigin="anonymous" defer="defer" type="application/javascript" src="./Aniket Assignment -11 (Text Mining)_files/element-registry-943fd83b27c5.js.download"></script>
<script crossorigin="anonymous" defer="defer" type="application/javascript" src="./Aniket Assignment -11 (Text Mining)_files/vendors-node_modules_lit-html_lit-html_js-e954e8c01c93.js.download"></script>
<script crossorigin="anonymous" defer="defer" type="application/javascript" src="./Aniket Assignment -11 (Text Mining)_files/vendors-node_modules_github_paste-markdown_dist_index_esm_js-node_modules_koddsson_textarea-c-586f78-aad0fa01c792.js.download"></script>
<script crossorigin="anonymous" defer="defer" type="application/javascript" src="./Aniket Assignment -11 (Text Mining)_files/vendors-node_modules_github_mini-throttle_dist_index_js-node_modules_github_remote-form_dist_-ece2b0-917c0dad4566.js.download"></script>
<script crossorigin="anonymous" defer="defer" type="application/javascript" src="./Aniket Assignment -11 (Text Mining)_files/vendors-node_modules_github_alive-client_dist_index_js-node_modules_github_memoize_dist_esm_i-fab77c-ff9d9fde6bc6.js.download"></script>
<script crossorigin="anonymous" defer="defer" type="application/javascript" src="./Aniket Assignment -11 (Text Mining)_files/vendors-node_modules_primer_behaviors_dist_esm_dimensions_js-node_modules_github_hydro-analyt-f69502-65a022907302.js.download"></script>
<script crossorigin="anonymous" defer="defer" type="application/javascript" src="./Aniket Assignment -11 (Text Mining)_files/vendors-node_modules_github_filter-input-element_dist_index_js-node_modules_github_quote-sele-7bbf9f-45d498057c64.js.download"></script>
<script crossorigin="anonymous" defer="defer" type="application/javascript" src="./Aniket Assignment -11 (Text Mining)_files/app_assets_modules_github_updatable-content_ts-62df1309213c.js.download"></script>
<script crossorigin="anonymous" defer="defer" type="application/javascript" src="./Aniket Assignment -11 (Text Mining)_files/app_assets_modules_github_sticky-scroll-into-view_ts-6483ace64969.js.download"></script>
<script crossorigin="anonymous" defer="defer" type="application/javascript" src="./Aniket Assignment -11 (Text Mining)_files/app_assets_modules_github_behaviors_keyboard-shortcuts-helper_ts-app_assets_modules_github_be-ac2ea2-fda9c90f5f33.js.download"></script>
<script crossorigin="anonymous" defer="defer" type="application/javascript" src="./Aniket Assignment -11 (Text Mining)_files/app_assets_modules_github_behaviors_commenting_edit_ts-app_assets_modules_github_behaviors_ht-83c235-02b38260d85d.js.download"></script>
<script crossorigin="anonymous" defer="defer" type="application/javascript" src="./Aniket Assignment -11 (Text Mining)_files/app_assets_modules_github_behaviors_batch-deferred-content_ts-app_assets_modules_github_behav-dc1370-0661d7836317.js.download"></script>
<script crossorigin="anonymous" defer="defer" type="application/javascript" src="./Aniket Assignment -11 (Text Mining)_files/behaviors-d582afae12bc.js.download"></script>
<script crossorigin="anonymous" defer="defer" type="application/javascript" src="./Aniket Assignment -11 (Text Mining)_files/vendors-node_modules_delegated-events_dist_index_js-node_modules_github_catalyst_lib_index_js-06ff533-b01316754e20.js.download"></script>
<script crossorigin="anonymous" defer="defer" type="application/javascript" src="./Aniket Assignment -11 (Text Mining)_files/notifications-global-e71e7f99b10d.js.download"></script>
    <script crossorigin="anonymous" defer="defer" type="application/javascript" src="./Aniket Assignment -11 (Text Mining)_files/vendors-node_modules_github_clipboard-copy-element_dist_index_esm_js-node_modules_github_remo-8e6bec-4a54aa10cc28.js.download"></script>
<script crossorigin="anonymous" defer="defer" type="application/javascript" src="./Aniket Assignment -11 (Text Mining)_files/vendors-node_modules_primer_behaviors_dist_esm_dimensions_js-node_modules_delegated-events_di-330ce3-d25b18f5fbd5.js.download"></script>
<script crossorigin="anonymous" defer="defer" type="application/javascript" src="./Aniket Assignment -11 (Text Mining)_files/app_assets_modules_github_diffs_blob-lines_ts-app_assets_modules_github_diffs_linkable-line-n-dca161-214c4b337bf2.js.download"></script>
<script crossorigin="anonymous" defer="defer" type="application/javascript" src="./Aniket Assignment -11 (Text Mining)_files/gist-ede85a0b937a.js.download"></script>


  <title>Assignment 11 - Text Mining.ipynb</title>



    

  <meta name="request-id" content="F8B7:1AD8:746E1F:84B65A:6346C005" data-turbo-transient="true"><meta name="html-safe-nonce" content="69c6042b5b7fe7502ef9cd7c8735feb76b1c7df920ea2a8d4831f0333602aac3" data-turbo-transient="true"><meta name="visitor-payload" content="eyJyZWZlcnJlciI6Imh0dHBzOi8vd3d3Lmdvb2dsZS5jb20vIiwicmVxdWVzdF9pZCI6IkY4Qjc6MUFEODo3NDZFMUY6ODRCNjVBOjYzNDZDMDA1IiwidmlzaXRvcl9pZCI6IjM4ODI5ODY4NzA2MjczMTM0ODIiLCJyZWdpb25fZWRnZSI6ImNlbnRyYWxpbmRpYSIsInJlZ2lvbl9yZW5kZXIiOiJpYWQifQ==" data-turbo-transient="true"><meta name="visitor-hmac" content="ce8c02ef157ce634394270c2b4a3b659afb4b17e91b55f3bacfdd4f72a3c4889" data-turbo-transient="true">



  <meta name="github-keyboard-shortcuts" content="" data-turbo-transient="true">
  

  <meta name="selected-link" value="gist_code" data-turbo-transient="">

    <meta name="google-site-verification" content="c1kuD-K2HIVF635lypcsWPoD4kilo5-jA_wBFyT4uMY">
  <meta name="google-site-verification" content="KT5gs8h0wvaagLKAVWq8bbeNwnZZK1r1XQysX3xurLU">
  <meta name="google-site-verification" content="ZzhVyEFwb7w3e0-uOTltm8Jsck2F5StVihD0exw2fsA">
  <meta name="google-site-verification" content="GXs5KoUUkNCoaAZn7wPN-t01Pywp9M3sEjnt_3_ZWPc">
  <meta name="google-site-verification" content="Apib7-x98H0j5cPqHWwSMm6dNU4GmODRoqxLiDzdx9I">

<meta name="octolytics-url" content="https://collector.github.com/github/collect"><meta name="octolytics-actor-id" content="111117662"><meta name="octolytics-actor-login" content="akpatil14"><meta name="octolytics-actor-hash" content="6250deefc23af503a1ee72e6d4236698634ba36665dfc034cfcbbad0efcd0fa2">

  <meta name="analytics-location" content="/&lt;user-name&gt;/&lt;gist-id&gt;" data-turbo-transient="true">

  




    <meta name="octolytics-dimension-public" content="true"><meta name="octolytics-dimension-gist_id" content="108953700"><meta name="octolytics-dimension-gist_name" content="a095ff17abce95212da043f9c5e05909"><meta name="octolytics-dimension-anonymous" content="false"><meta name="octolytics-dimension-owner_id" content="71762267"><meta name="octolytics-dimension-owner_login" content="perlineanisha"><meta name="octolytics-dimension-forked" content="false">


    <meta name="user-login" content="akpatil14">

  <link rel="sudo-modal" href="https://gist.github.com/sessions/sudo_modal">

    <meta name="viewport" content="width=device-width">
    
      <meta name="description" content="Assignment 11 - Text Mining.ipynb. GitHub Gist: instantly share code, notes, and snippets.">
      <link rel="search" type="application/opensearchdescription+xml" href="https://gist.github.com/opensearch-gist.xml" title="Gist">
    <link rel="fluid-icon" href="https://gist.github.com/fluidicon.png" title="GitHub">
    <meta property="fb:app_id" content="1401488693436528">
    <meta name="apple-itunes-app" content="app-id=1477376905">
      <meta name="twitter:image:src" content="https://github.githubassets.com/images/modules/gists/gist-og-image.png"><meta name="twitter:site" content="@github"><meta name="twitter:card" content="summary_large_image"><meta name="twitter:title" content="Assignment 11 - Text Mining.ipynb"><meta name="twitter:description" content="Assignment 11 - Text Mining.ipynb. GitHub Gist: instantly share code, notes, and snippets.">
      <meta property="og:image" content="https://github.githubassets.com/images/modules/gists/gist-og-image.png"><meta property="og:image:alt" content="Assignment 11 - Text Mining.ipynb. GitHub Gist: instantly share code, notes, and snippets."><meta property="og:site_name" content="Gist"><meta property="og:type" content="article"><meta property="og:title" content="Assignment 11 - Text Mining.ipynb"><meta property="og:url" content="https://gist.github.com/perlineanisha/a095ff17abce95212da043f9c5e05909"><meta property="og:description" content="Assignment 11 - Text Mining.ipynb. GitHub Gist: instantly share code, notes, and snippets."><meta property="article:author" content="262588213843476"><meta property="article:publisher" content="262588213843476">
      
    <link rel="assets" href="https://github.githubassets.com/">
      <link rel="shared-web-socket" href="wss://alive.github.com/_sockets/u/111117662/ws?session=eyJ2IjoiVjMiLCJ1IjoxMTExMTc2NjIsInMiOjk2Njk0MDg0NSwiYyI6OTQ2NTUwNzA2LCJ0IjoxNjY1NTgxMDYzfQ==--afcc720ef021a95260900385a8b62934e601ee4abd51b17195700aa8f10a553f" data-refresh-url="/_alive" data-session-id="f10280326ce27967b22e67f928fb15bae4267d7c46bf4272f8691419ae5a1b94">
      <link rel="shared-web-socket-src" href="https://gist.github.com/assets-cdn/worker/socket-worker-b87581f5816c.js">


        <meta name="hostname" content="gist.github.com">


      <meta name="keyboard-shortcuts-preference" content="all">
      <script type="application/json" id="memex_keyboard_shortcuts_preference">"all"</script>

        <meta name="expected-hostname" content="gist.github.com">

    <meta name="enabled-features" content="ACTIONS_RUN_NAME,IMAGE_METRIC_TRACKING,GEOJSON_AZURE_MAPS,STRICT_DEFERRED_DIFF_LINES_CHECKS,STRICT_DEFERRED_DIFF_LINES_CHECKS_REPORTING">


  <meta http-equiv="x-pjax-version" content="8ab6b9e589fdb5d368fa8dea3650d326dda93b85a36fa20ad36bce2e7acf81b9" data-turbo-track="reload">
  <meta http-equiv="x-pjax-csp-version" content="fb95bc9a124b6b6d8a2e004152f99e30988dc83929a5c9d6cc6341ce348909f3" data-turbo-track="reload">
  <meta http-equiv="x-pjax-css-version" content="dc2ef0e83d3a076661e235d2250e47201edcb4ff4b502e9e2eef14f18eeba636" data-turbo-track="reload">
  <meta http-equiv="x-pjax-js-version" content="cae15cc24d90ab07f311dd2d32b5f6f5b66d6c2d224d66fb610b8eddc58d21c3" data-turbo-track="reload">

  <meta name="turbo-cache-control" content="no-preview" data-turbo-transient="">

      <link href="https://gist.github.com/perlineanisha.atom" rel="alternate" title="atom" type="application/atom+xml">


  <link crossorigin="anonymous" media="all" rel="stylesheet" href="./Aniket Assignment -11 (Text Mining)_files/gist-b21db28d2f80.css">



  <meta name="turbo-body-classes" content="logged-in env-production page-responsive">


  <meta name="browser-stats-url" content="https://api.github.com/_private/browser/stats">

  <meta name="browser-errors-url" content="https://api.github.com/_private/browser/errors">

  <meta name="browser-optimizely-client-errors-url" content="https://api.github.com/_private/browser/optimizely_client/errors">

  <link rel="mask-icon" href="https://github.githubassets.com/pinned-octocat.svg" color="#000000">
  <link rel="alternate icon" class="js-site-favicon" type="image/png" href="https://github.githubassets.com/favicons/favicon.png">
  <link rel="icon" class="js-site-favicon" type="image/svg+xml" href="https://github.githubassets.com/favicons/favicon.svg">

<meta name="theme-color" content="#1e2327">
<meta name="color-scheme" content="light dark">



  <style type="text/css">@font-face { font-family: Roboto; src: url("chrome-extension://mcgbeeipkmelnpldkobichboakdfaeon/css/Roboto-Regular.ttf"); }</style></head>

  <body class="logged-in env-production page-responsive" style="word-wrap: break-word;">
    

    <div class="position-relative js-header-wrapper ">
      <a href="https://gist.github.com/perlineanisha/a095ff17abce95212da043f9c5e05909?short_path=11c46c6#start-of-content" class="p-3 color-bg-accent-emphasis color-fg-on-emphasis show-on-focus js-skip-to-content">Skip to content</a>
      <span data-view-component="true" class="progress-pjax-loader Progress position-fixed width-full">
    <span style="width: 0%;" data-view-component="true" class="Progress-item progress-pjax-loader-bar left-0 top-0 color-bg-accent-emphasis"></span>
</span>      
      


          <div class="Header js-details-container Details flex-wrap flex-md-nowrap p-responsive" role="banner">
  <div class="Header-item d-none d-md-flex">
    <a class="Header-link" data-hotkey="g d" aria-label="Gist Homepage " href="https://gist.github.com/">
  <svg aria-hidden="true" height="24" viewBox="0 0 16 16" version="1.1" width="24" data-view-component="true" class="octicon octicon-mark-github v-align-middle d-inline-block d-md-none">
    <path fill-rule="evenodd" d="M8 0C3.58 0 0 3.58 0 8c0 3.54 2.29 6.53 5.47 7.59.4.07.55-.17.55-.38 0-.19-.01-.82-.01-1.49-2.01.37-2.53-.49-2.69-.94-.09-.23-.48-.94-.82-1.13-.28-.15-.68-.52-.01-.53.63-.01 1.08.58 1.23.82.72 1.21 1.87.87 2.33.66.07-.52.28-.87.51-1.07-1.78-.2-3.64-.89-3.64-3.95 0-.87.31-1.59.82-2.15-.08-.2-.36-1.02.08-2.12 0 0 .67-.21 2.2.82.64-.18 1.32-.27 2-.27.68 0 1.36.09 2 .27 1.53-1.04 2.2-.82 2.2-.82.44 1.1.16 1.92.08 2.12.51.56.82 1.27.82 2.15 0 3.07-1.87 3.75-3.65 3.95.29.25.54.73.54 1.48 0 1.07-.01 1.93-.01 2.2 0 .21.15.46.55.38A8.013 8.013 0 0016 8c0-4.42-3.58-8-8-8z"></path>
</svg>
  <svg aria-hidden="true" height="24" viewBox="0 0 45 16" version="1.1" width="67" data-view-component="true" class="octicon octicon-logo-github v-align-middle d-none d-md-inline-block">
    <path fill-rule="evenodd" d="M18.53 12.03h-.02c.009 0 .015.01.024.011h.006l-.01-.01zm.004.011c-.093.001-.327.05-.574.05-.78 0-1.05-.36-1.05-.83V8.13h1.59c.09 0 .16-.08.16-.19v-1.7c0-.09-.08-.17-.16-.17h-1.59V3.96c0-.08-.05-.13-.14-.13h-2.16c-.09 0-.14.05-.14.13v2.17s-1.09.27-1.16.28c-.08.02-.13.09-.13.17v1.36c0 .11.08.19.17.19h1.11v3.28c0 2.44 1.7 2.69 2.86 2.69.53 0 1.17-.17 1.27-.22.06-.02.09-.09.09-.16v-1.5a.177.177 0 00-.146-.18zM42.23 9.84c0-1.81-.73-2.05-1.5-1.97-.6.04-1.08.34-1.08.34v3.52s.49.34 1.22.36c1.03.03 1.36-.34 1.36-2.25zm2.43-.16c0 3.43-1.11 4.41-3.05 4.41-1.64 0-2.52-.83-2.52-.83s-.04.46-.09.52c-.03.06-.08.08-.14.08h-1.48c-.1 0-.19-.08-.19-.17l.02-11.11c0-.09.08-.17.17-.17h2.13c.09 0 .17.08.17.17v3.77s.82-.53 2.02-.53l-.01-.02c1.2 0 2.97.45 2.97 3.88zm-8.72-3.61h-2.1c-.11 0-.17.08-.17.19v5.44s-.55.39-1.3.39-.97-.34-.97-1.09V6.25c0-.09-.08-.17-.17-.17h-2.14c-.09 0-.17.08-.17.17v5.11c0 2.2 1.23 2.75 2.92 2.75 1.39 0 2.52-.77 2.52-.77s.05.39.08.45c.02.05.09.09.16.09h1.34c.11 0 .17-.08.17-.17l.02-7.47c0-.09-.08-.17-.19-.17zm-23.7-.01h-2.13c-.09 0-.17.09-.17.2v7.34c0 .2.13.27.3.27h1.92c.2 0 .25-.09.25-.27V6.23c0-.09-.08-.17-.17-.17zm-1.05-3.38c-.77 0-1.38.61-1.38 1.38 0 .77.61 1.38 1.38 1.38.75 0 1.36-.61 1.36-1.38 0-.77-.61-1.38-1.36-1.38zm16.49-.25h-2.11c-.09 0-.17.08-.17.17v4.09h-3.31V2.6c0-.09-.08-.17-.17-.17h-2.13c-.09 0-.17.08-.17.17v11.11c0 .09.09.17.17.17h2.13c.09 0 .17-.08.17-.17V8.96h3.31l-.02 4.75c0 .09.08.17.17.17h2.13c.09 0 .17-.08.17-.17V2.6c0-.09-.08-.17-.17-.17zM8.81 7.35v5.74c0 .04-.01.11-.06.13 0 0-1.25.89-3.31.89-2.49 0-5.44-.78-5.44-5.92S2.58 1.99 5.1 2c2.18 0 3.06.49 3.2.58.04.05.06.09.06.14L7.94 4.5c0 .09-.09.2-.2.17-.36-.11-.9-.33-2.17-.33-1.47 0-3.05.42-3.05 3.73s1.5 3.7 2.58 3.7c.92 0 1.25-.11 1.25-.11v-2.3H4.88c-.11 0-.19-.08-.19-.17V7.35c0-.09.08-.17.19-.17h3.74c.11 0 .19.08.19.17z"></path>
</svg>
  <svg aria-hidden="true" height="24" viewBox="0 0 25 16" version="1.1" width="37" data-view-component="true" class="octicon octicon-logo-gist v-align-middle d-none d-md-inline-block">
    <path fill-rule="evenodd" d="M4.7 8.73h2.45v4.02c-.55.27-1.64.34-2.53.34-2.56 0-3.47-2.2-3.47-5.05 0-2.85.91-5.06 3.48-5.06 1.28 0 2.06.23 3.28.73V2.66C7.27 2.33 6.25 2 4.63 2 1.13 2 0 4.69 0 8.03c0 3.34 1.11 6.03 4.63 6.03 1.64 0 2.81-.27 3.59-.64V7.73H4.7v1zm6.39 3.72V6.06h-1.05v6.28c0 1.25.58 1.72 1.72 1.72v-.89c-.48 0-.67-.16-.67-.7v-.02zm.25-8.72c0-.44-.33-.78-.78-.78s-.77.34-.77.78.33.78.77.78.78-.34.78-.78zm4.34 5.69c-1.5-.13-1.78-.48-1.78-1.17 0-.77.33-1.34 1.88-1.34 1.05 0 1.66.16 2.27.36v-.94c-.69-.3-1.52-.39-2.25-.39-2.2 0-2.92 1.2-2.92 2.31 0 1.08.47 1.88 2.73 2.08 1.55.13 1.77.63 1.77 1.34 0 .73-.44 1.42-2.06 1.42-1.11 0-1.86-.19-2.33-.36v.94c.5.2 1.58.39 2.33.39 2.38 0 3.14-1.2 3.14-2.41 0-1.28-.53-2.03-2.75-2.23h-.03zm8.58-2.47v-.86h-2.42v-2.5l-1.08.31v2.11l-1.56.44v.48h1.56v5c0 1.53 1.19 2.13 2.5 2.13.19 0 .52-.02.69-.05v-.89c-.19.03-.41.03-.61.03-.97 0-1.5-.39-1.5-1.34V6.94h2.42v.02-.01z"></path>
</svg>
</a>
  </div>

  <div class="Header-item d-md-none">
      <button aria-label="Toggle navigation" aria-expanded="false" type="button" data-view-component="true" class="Header-link js-details-target btn-link">    <svg aria-hidden="true" height="24" viewBox="0 0 16 16" version="1.1" width="24" data-view-component="true" class="octicon octicon-three-bars">
    <path fill-rule="evenodd" d="M1 2.75A.75.75 0 011.75 2h12.5a.75.75 0 110 1.5H1.75A.75.75 0 011 2.75zm0 5A.75.75 0 011.75 7h12.5a.75.75 0 110 1.5H1.75A.75.75 0 011 7.75zM1.75 12a.75.75 0 100 1.5h12.5a.75.75 0 100-1.5H1.75z"></path>
</svg>
</button>  </div>

  <div class="Header-item Header-item--full js-site-search flex-column flex-md-row width-full flex-order-2 flex-md-order-none mr-0 mr-md-3 mt-3 mt-md-0 Details-content--hidden-not-important d-md-flex">
      <div class="header-search flex-self-stretch flex-md-self-auto mr-0 mr-md-3 mb-3 mb-md-0">
  <!-- '"` --><!-- </textarea></xmp> --><form class="position-relative js-quicksearch-form" role="search" aria-label="Site" data-turbo="false" action="https://gist.github.com/search" accept-charset="UTF-8" method="get">
    <div class="header-search-wrapper form-control input-sm js-chromeless-input-container">
      <input type="text" class="form-control input-sm js-site-search-focus header-search-input js-navigation-enable js-quicksearch-field" data-hotkey="s,/" name="q" aria-label="Search" placeholder="Search…" autocorrect="off" autocomplete="off" autocapitalize="off">
    </div>

      <div class="gist-quicksearch-results js-quicksearch-results js-navigation-container" data-quicksearch-url="/search/quick"></div>
</form></div>


    <nav aria-label="Global" class="d-flex flex-column flex-md-row flex-self-stretch flex-md-self-auto">
  <a class="Header-link mr-0 mr-md-3 py-2 py-md-0 border-top border-md-top-0 border-white-fade" data-ga-click="Header, go to all gists, text:all gists" href="https://gist.github.com/discover">All gists</a>

  <a class="Header-link mr-0 mr-md-3 py-2 py-md-0 border-top border-md-top-0 border-white-fade" data-ga-click="Header, go to GitHub, text:Back to GitHub" href="https://github.com/">Back to GitHub</a>

    <a class="Header-link d-block d-md-none mr-0 mr-md-3 py-2 py-md-0 border-top border-md-top-0 border-white-fade" aria-label="View profile and more" aria-expanded="false" aria-haspopup="false" href="https://gist.github.com/akpatil14">
      <img class="avatar avatar-user" src="./Aniket Assignment -11 (Text Mining)_files/111117662" width="20" height="20" alt="@akpatil14">
      akpatil14
</a>
    <!-- '"` --><!-- </textarea></xmp> --><form data-turbo="false" action="https://gist.github.com/auth/github/logout" accept-charset="UTF-8" method="post"><input type="hidden" name="authenticity_token" value="7TKprmXeVIUsyg4d7wvWRykUl7wspqeg-XGJVT8A3-MtvVfAyXBj6YpM5M5didd0C3wPduQOVtRPtihr3ZnEog">
      <button type="submit" class="Header-link mr-0 mr-md-3 py-2 py-md-0 border-top border-md-top-0 border-white-fade d-md-none btn-link d-block width-full text-left" style="padding-left: 2px;" data-analytics-event="{&quot;category&quot;:&quot;Header&quot;,&quot;action&quot;:&quot;sign out&quot;,&quot;label&quot;:&quot;icon:logout&quot;}">
        <svg aria-hidden="true" height="16" viewBox="0 0 16 16" version="1.1" width="16" data-view-component="true" class="octicon octicon-sign-out v-align-middle">
    <path fill-rule="evenodd" d="M2 2.75C2 1.784 2.784 1 3.75 1h2.5a.75.75 0 010 1.5h-2.5a.25.25 0 00-.25.25v10.5c0 .138.112.25.25.25h2.5a.75.75 0 010 1.5h-2.5A1.75 1.75 0 012 13.25V2.75zm10.44 4.5H6.75a.75.75 0 000 1.5h5.69l-1.97 1.97a.75.75 0 101.06 1.06l3.25-3.25a.75.75 0 000-1.06l-3.25-3.25a.75.75 0 10-1.06 1.06l1.97 1.97z"></path>
</svg>
        Sign out
      </button>
</form></nav>

  </div>

  <div class="Header-item Header-item--full flex-justify-center d-md-none position-relative">
    <a class="Header-link" data-hotkey="g d" aria-label="Gist Homepage " href="https://gist.github.com/">
  <svg aria-hidden="true" height="24" viewBox="0 0 16 16" version="1.1" width="24" data-view-component="true" class="octicon octicon-mark-github v-align-middle d-inline-block d-md-none">
    <path fill-rule="evenodd" d="M8 0C3.58 0 0 3.58 0 8c0 3.54 2.29 6.53 5.47 7.59.4.07.55-.17.55-.38 0-.19-.01-.82-.01-1.49-2.01.37-2.53-.49-2.69-.94-.09-.23-.48-.94-.82-1.13-.28-.15-.68-.52-.01-.53.63-.01 1.08.58 1.23.82.72 1.21 1.87.87 2.33.66.07-.52.28-.87.51-1.07-1.78-.2-3.64-.89-3.64-3.95 0-.87.31-1.59.82-2.15-.08-.2-.36-1.02.08-2.12 0 0 .67-.21 2.2.82.64-.18 1.32-.27 2-.27.68 0 1.36.09 2 .27 1.53-1.04 2.2-.82 2.2-.82.44 1.1.16 1.92.08 2.12.51.56.82 1.27.82 2.15 0 3.07-1.87 3.75-3.65 3.95.29.25.54.73.54 1.48 0 1.07-.01 1.93-.01 2.2 0 .21.15.46.55.38A8.013 8.013 0 0016 8c0-4.42-3.58-8-8-8z"></path>
</svg>
  <svg aria-hidden="true" height="24" viewBox="0 0 45 16" version="1.1" width="67" data-view-component="true" class="octicon octicon-logo-github v-align-middle d-none d-md-inline-block">
    <path fill-rule="evenodd" d="M18.53 12.03h-.02c.009 0 .015.01.024.011h.006l-.01-.01zm.004.011c-.093.001-.327.05-.574.05-.78 0-1.05-.36-1.05-.83V8.13h1.59c.09 0 .16-.08.16-.19v-1.7c0-.09-.08-.17-.16-.17h-1.59V3.96c0-.08-.05-.13-.14-.13h-2.16c-.09 0-.14.05-.14.13v2.17s-1.09.27-1.16.28c-.08.02-.13.09-.13.17v1.36c0 .11.08.19.17.19h1.11v3.28c0 2.44 1.7 2.69 2.86 2.69.53 0 1.17-.17 1.27-.22.06-.02.09-.09.09-.16v-1.5a.177.177 0 00-.146-.18zM42.23 9.84c0-1.81-.73-2.05-1.5-1.97-.6.04-1.08.34-1.08.34v3.52s.49.34 1.22.36c1.03.03 1.36-.34 1.36-2.25zm2.43-.16c0 3.43-1.11 4.41-3.05 4.41-1.64 0-2.52-.83-2.52-.83s-.04.46-.09.52c-.03.06-.08.08-.14.08h-1.48c-.1 0-.19-.08-.19-.17l.02-11.11c0-.09.08-.17.17-.17h2.13c.09 0 .17.08.17.17v3.77s.82-.53 2.02-.53l-.01-.02c1.2 0 2.97.45 2.97 3.88zm-8.72-3.61h-2.1c-.11 0-.17.08-.17.19v5.44s-.55.39-1.3.39-.97-.34-.97-1.09V6.25c0-.09-.08-.17-.17-.17h-2.14c-.09 0-.17.08-.17.17v5.11c0 2.2 1.23 2.75 2.92 2.75 1.39 0 2.52-.77 2.52-.77s.05.39.08.45c.02.05.09.09.16.09h1.34c.11 0 .17-.08.17-.17l.02-7.47c0-.09-.08-.17-.19-.17zm-23.7-.01h-2.13c-.09 0-.17.09-.17.2v7.34c0 .2.13.27.3.27h1.92c.2 0 .25-.09.25-.27V6.23c0-.09-.08-.17-.17-.17zm-1.05-3.38c-.77 0-1.38.61-1.38 1.38 0 .77.61 1.38 1.38 1.38.75 0 1.36-.61 1.36-1.38 0-.77-.61-1.38-1.36-1.38zm16.49-.25h-2.11c-.09 0-.17.08-.17.17v4.09h-3.31V2.6c0-.09-.08-.17-.17-.17h-2.13c-.09 0-.17.08-.17.17v11.11c0 .09.09.17.17.17h2.13c.09 0 .17-.08.17-.17V8.96h3.31l-.02 4.75c0 .09.08.17.17.17h2.13c.09 0 .17-.08.17-.17V2.6c0-.09-.08-.17-.17-.17zM8.81 7.35v5.74c0 .04-.01.11-.06.13 0 0-1.25.89-3.31.89-2.49 0-5.44-.78-5.44-5.92S2.58 1.99 5.1 2c2.18 0 3.06.49 3.2.58.04.05.06.09.06.14L7.94 4.5c0 .09-.09.2-.2.17-.36-.11-.9-.33-2.17-.33-1.47 0-3.05.42-3.05 3.73s1.5 3.7 2.58 3.7c.92 0 1.25-.11 1.25-.11v-2.3H4.88c-.11 0-.19-.08-.19-.17V7.35c0-.09.08-.17.19-.17h3.74c.11 0 .19.08.19.17z"></path>
</svg>
  <svg aria-hidden="true" height="24" viewBox="0 0 25 16" version="1.1" width="37" data-view-component="true" class="octicon octicon-logo-gist v-align-middle d-none d-md-inline-block">
    <path fill-rule="evenodd" d="M4.7 8.73h2.45v4.02c-.55.27-1.64.34-2.53.34-2.56 0-3.47-2.2-3.47-5.05 0-2.85.91-5.06 3.48-5.06 1.28 0 2.06.23 3.28.73V2.66C7.27 2.33 6.25 2 4.63 2 1.13 2 0 4.69 0 8.03c0 3.34 1.11 6.03 4.63 6.03 1.64 0 2.81-.27 3.59-.64V7.73H4.7v1zm6.39 3.72V6.06h-1.05v6.28c0 1.25.58 1.72 1.72 1.72v-.89c-.48 0-.67-.16-.67-.7v-.02zm.25-8.72c0-.44-.33-.78-.78-.78s-.77.34-.77.78.33.78.77.78.78-.34.78-.78zm4.34 5.69c-1.5-.13-1.78-.48-1.78-1.17 0-.77.33-1.34 1.88-1.34 1.05 0 1.66.16 2.27.36v-.94c-.69-.3-1.52-.39-2.25-.39-2.2 0-2.92 1.2-2.92 2.31 0 1.08.47 1.88 2.73 2.08 1.55.13 1.77.63 1.77 1.34 0 .73-.44 1.42-2.06 1.42-1.11 0-1.86-.19-2.33-.36v.94c.5.2 1.58.39 2.33.39 2.38 0 3.14-1.2 3.14-2.41 0-1.28-.53-2.03-2.75-2.23h-.03zm8.58-2.47v-.86h-2.42v-2.5l-1.08.31v2.11l-1.56.44v.48h1.56v5c0 1.53 1.19 2.13 2.5 2.13.19 0 .52-.02.69-.05v-.89c-.19.03-.41.03-.61.03-.97 0-1.5-.39-1.5-1.34V6.94h2.42v.02-.01z"></path>
</svg>
</a>
  </div>

    <div class="Header-item">
      

<notification-indicator data-channel="eyJjIjoibm90aWZpY2F0aW9uLWNoYW5nZWQ6MTExMTE3NjYyIiwidCI6MTY2NTU4MTA2M30=--9e21037e7865b8166bdc905dda20edd44a5f5d8ce8eb38c1a30331735923b57c" data-indicator-mode="none" data-tooltip-global="You have unread notifications" data-tooltip-unavailable="Notifications are unavailable at the moment." data-tooltip-none="You have no unread notifications" data-view-component="true" class="js-socket-channel" data-catalyst="">
  <a id="AppHeader-notifications-button" href="https://gist.github.com/notifications" class="Header-link notification-indicator position-relative tooltipped tooltipped-sw" data-hotkey="g n" data-target="notification-indicator.link" aria-label="You have no unread notifications" data-analytics-event="{&quot;category&quot;:&quot;Header&quot;,&quot;action&quot;:&quot;go to notifications&quot;,&quot;label&quot;:&quot;icon:read&quot;}">

    <span data-target="notification-indicator.badge" class="mail-status unread" hidden="">
    </span>

      <svg aria-hidden="true" height="16" viewBox="0 0 16 16" version="1.1" width="16" data-view-component="true" class="octicon octicon-bell">
    <path d="M8 16a2 2 0 001.985-1.75c.017-.137-.097-.25-.235-.25h-3.5c-.138 0-.252.113-.235.25A2 2 0 008 16z"></path><path fill-rule="evenodd" d="M8 1.5A3.5 3.5 0 004.5 5v2.947c0 .346-.102.683-.294.97l-1.703 2.556a.018.018 0 00-.003.01l.001.006c0 .002.002.004.004.006a.017.017 0 00.006.004l.007.001h10.964l.007-.001a.016.016 0 00.006-.004.016.016 0 00.004-.006l.001-.007a.017.017 0 00-.003-.01l-1.703-2.554a1.75 1.75 0 01-.294-.97V5A3.5 3.5 0 008 1.5zM3 5a5 5 0 0110 0v2.947c0 .05.015.098.042.139l1.703 2.555A1.518 1.518 0 0113.482 13H2.518a1.518 1.518 0 01-1.263-2.36l1.703-2.554A.25.25 0 003 7.947V5z"></path>
</svg>
  </a>

</notification-indicator>
    </div>

    <div class="Header-item mr-0 mr-md-3">
      <a class="Header-link" data-ga-click="Header, go to new gist, text:new gist" aria-label="Create new gist" href="https://gist.github.com/">
        <svg aria-hidden="true" height="16" viewBox="0 0 16 16" version="1.1" width="16" data-view-component="true" class="octicon octicon-plus d-md-none">
    <path fill-rule="evenodd" d="M7.75 2a.75.75 0 01.75.75V7h4.25a.75.75 0 110 1.5H8.5v4.25a.75.75 0 11-1.5 0V8.5H2.75a.75.75 0 010-1.5H7V2.75A.75.75 0 017.75 2z"></path>
</svg>
        <svg aria-hidden="true" height="16" viewBox="0 0 16 16" version="1.1" width="16" data-view-component="true" class="octicon octicon-plus d-none d-md-inline-block">
    <path fill-rule="evenodd" d="M7.75 2a.75.75 0 01.75.75V7h4.25a.75.75 0 110 1.5H8.5v4.25a.75.75 0 11-1.5 0V8.5H2.75a.75.75 0 010-1.5H7V2.75A.75.75 0 017.75 2z"></path>
</svg>
</a>    </div>

    <div class="Header-item position-relative mr-0 d-none d-md-flex" id="user-links">

      <details class="details-overlay details-reset">
        <summary class="Header-link name" aria-label="View profile and more" data-analytics-event="{&quot;category&quot;:&quot;Header&quot;,&quot;action&quot;:&quot;show menu&quot;,&quot;label&quot;:&quot;icon:avatar&quot;}" aria-haspopup="menu" role="button">
          <img class="avatar avatar-user" src="./Aniket Assignment -11 (Text Mining)_files/111117662" width="20" height="20" alt="@akpatil14">
          <span class="dropdown-caret"></span>
        </summary>
        <details-menu class="dropdown-menu dropdown-menu-sw" style="width: 180px" role="menu">
          <div class="css-truncate">
            <a role="menuitem" class="color-fg-default no-underline px-3 pt-2 pb-2 mb-n2 mt-n1 d-block" href="https://gist.github.com/akpatil14" data-analytics-event="{&quot;category&quot;:&quot;Header&quot;,&quot;action&quot;:&quot;go to profile&quot;,&quot;label&quot;:&quot;text:Signed in as&quot;}">
              Signed in as <strong class="css-truncate-target">akpatil14</strong>
            </a>
          </div>
          <div role="none" class="dropdown-divider"></div>
          <a role="menuitem" class="dropdown-item" href="https://gist.github.com/akpatil14" data-analytics-event="{&quot;category&quot;:&quot;Header&quot;,&quot;action&quot;:&quot;go to your gists&quot;,&quot;label&quot;:&quot;text:your gists&quot;}">
            Your gists
          </a>
          <a role="menuitem" class="dropdown-item" href="https://gist.github.com/akpatil14/starred" data-analytics-event="{&quot;category&quot;:&quot;Header&quot;,&quot;action&quot;:&quot;go to starred gists&quot;,&quot;label&quot;:&quot;text:starred gists&quot;}">
            Starred gists
          </a>
          <a role="menuitem" class="dropdown-item" href="https://docs.github.com/" data-analytics-event="{&quot;category&quot;:&quot;Header&quot;,&quot;action&quot;:&quot;go to help&quot;,&quot;label&quot;:&quot;text:help&quot;}">
            Help
          </a>
          <div role="none" class="dropdown-divider"></div>
          <a role="menuitem" class="dropdown-item" href="https://github.com/akpatil14" data-analytics-event="{&quot;category&quot;:&quot;Header&quot;,&quot;action&quot;:&quot;go to profile&quot;,&quot;label&quot;:&quot;text:your profile&quot;}">
            Your GitHub profile
          </a>
          <div role="none" class="dropdown-divider"></div>
          <!-- '"` --><!-- </textarea></xmp> --><form class="logout-form" data-turbo="false" action="https://gist.github.com/auth/github/logout" accept-charset="UTF-8" method="post"><input type="hidden" name="authenticity_token" value="3hnX_qtfz0CpivHBV8doY2e8Cep1QKpQY7XXEmQdavcelimQB_H4LA8MGxLlRWlQRdSRIL3oWyTVcnYshoRxtg">
            <button type="submit" class="dropdown-item dropdown-signout" role="menuitem" data-analytics-event="{&quot;category&quot;:&quot;Header&quot;,&quot;action&quot;:&quot;sign out&quot;,&quot;label&quot;:&quot;icon:logout&quot;}">
              Sign out
            </button>
</form>        </details-menu>
      </details>
    </div>
</div>



            
    </div>

  <div id="start-of-content" class="show-on-focus"></div>







    <div id="js-flash-container" data-turbo-replace="">




  <template class="js-flash-template"></template>
</div>


    
  <include-fragment class="js-notification-shelf-include-fragment" data-base-src="https://github.com/notifications/beta/shelf"></include-fragment>





      <details class="details-reset details-overlay details-overlay-dark js-command-palette-dialog" id="command-palette-pjax-container" data-turbo-replace="">
  <summary aria-label="command palette trigger" role="button">
  </summary>
  <details-dialog class="command-palette-details-dialog d-flex flex-column flex-justify-center height-fit" aria-label="command palette" role="dialog" aria-modal="true">
    <command-palette class="command-palette color-bg-default rounded-3 border color-shadow-small" return-to="/perlineanisha/a095ff17abce95212da043f9c5e05909?short_path=11c46c6" user-id="111117662" activation-hotkey="Mod+k,Mod+Alt+k" command-mode-hotkey="Mod+Shift+k" data-action="
        command-palette-input-ready:command-palette#inputReady
        command-palette-page-stack-updated:command-palette#updateInputScope
        itemsUpdated:command-palette#itemsUpdated
        keydown:command-palette#onKeydown
        loadingStateChanged:command-palette#loadingStateChanged
        selectedItemChanged:command-palette#selectedItemChanged
        pageFetchError:command-palette#pageFetchError
      " data-catalyst="">

        <command-palette-mode data-char="#" data-scope-types="[&quot;&quot;]" data-placeholder="Search issues and pull requests"></command-palette-mode>
        <command-palette-mode data-char="#" data-scope-types="[&quot;owner&quot;,&quot;repository&quot;]" data-placeholder="Search issues, pull requests, discussions, and projects"></command-palette-mode>
        <command-palette-mode data-char="!" data-scope-types="[&quot;owner&quot;,&quot;repository&quot;]" data-placeholder="Search projects"></command-palette-mode>
        <command-palette-mode data-char="@" data-scope-types="[&quot;&quot;]" data-placeholder="Search or jump to a user, organization, or repository"></command-palette-mode>
        <command-palette-mode data-char="@" data-scope-types="[&quot;owner&quot;]" data-placeholder="Search or jump to a repository"></command-palette-mode>
        <command-palette-mode data-char="/" data-scope-types="[&quot;repository&quot;]" data-placeholder="Search files"></command-palette-mode>
        <command-palette-mode data-char="?"></command-palette-mode>
        <command-palette-mode data-char="&gt;" data-placeholder="Run a command"></command-palette-mode>
        <command-palette-mode data-char="" data-scope-types="[&quot;&quot;]" data-placeholder="Search or jump to..."></command-palette-mode>
        <command-palette-mode data-char="" data-scope-types="[&quot;owner&quot;]" data-placeholder="Search or jump to..."></command-palette-mode>
      <command-palette-mode class="js-command-palette-default-mode" data-char="" data-placeholder="Search or jump to..."></command-palette-mode>

      <command-palette-input placeholder="Search or jump to..." data-action="
          command-palette-input:command-palette#onInput
          command-palette-select:command-palette#onSelect
          command-palette-descope:command-palette#onDescope
          command-palette-cleared:command-palette#onInputClear
        ">
        <div class="js-search-icon d-flex flex-items-center mr-2" style="height: 26px">
          <svg aria-hidden="true" height="16" viewBox="0 0 16 16" version="1.1" width="16" data-view-component="true" class="octicon octicon-search color-fg-muted">
    <path fill-rule="evenodd" d="M11.5 7a4.499 4.499 0 11-8.998 0A4.499 4.499 0 0111.5 7zm-.82 4.74a6 6 0 111.06-1.06l3.04 3.04a.75.75 0 11-1.06 1.06l-3.04-3.04z"></path>
</svg>
        </div>
        <div class="js-spinner d-flex flex-items-center mr-2 color-fg-muted" hidden="">
          <svg aria-label="Loading" class="anim-rotate" viewBox="0 0 16 16" fill="none" width="16" height="16">
            <circle cx="8" cy="8" r="7" stroke="currentColor" stroke-opacity="0.25" stroke-width="2" vector-effect="non-scaling-stroke"></circle>
            <path d="M15 8a7.002 7.002 0 00-7-7" stroke="currentColor" stroke-width="2" stroke-linecap="round" vector-effect="non-scaling-stroke"></path>
          </svg>
        </div>
        <command-palette-scope data-catalyst="" class="d-inline-flex">
          <div data-target="command-palette-scope.placeholder" hidden="" class="color-fg-subtle">/&nbsp;&nbsp;<span class="text-semibold color-fg-default">...</span>&nbsp;&nbsp;/&nbsp;&nbsp;</div>
              <command-palette-token data-text="perlineanisha" data-id="MDQ6VXNlcjcxNzYyMjY3" data-type="owner" data-value="perlineanisha" data-targets="command-palette-scope.tokens" class="color-fg-default text-semibold" style="white-space:nowrap;line-height:20px;">perlineanisha<span class="color-fg-subtle text-normal">&nbsp;&nbsp;/&nbsp;&nbsp;</span></command-palette-token>
        </command-palette-scope>
        <div class="command-palette-input-group flex-1 form-control border-0 box-shadow-none" style="z-index: 0">
          <div class="command-palette-typeahead position-absolute d-flex flex-items-center Truncate">
            <span class="typeahead-segment input-mirror" data-target="command-palette-input.mirror"></span>
            <span class="Truncate-text" data-target="command-palette-input.typeaheadText"></span>
            <span class="typeahead-segment" data-target="command-palette-input.typeaheadPlaceholder"></span>
          </div>
          <input class="js-overlay-input typeahead-input d-none" disabled="" tabindex="-1" aria-label="Hidden input for typeahead">
          <input type="text" autocomplete="off" autocorrect="off" autocapitalize="off" spellcheck="false" class="js-input typeahead-input form-control border-0 box-shadow-none input-block width-full no-focus-indicator" aria-label="Command palette input" aria-haspopup="listbox" aria-expanded="false" aria-autocomplete="list" aria-controls="command-palette-page-stack" role="combobox" data-action="
              input:command-palette-input#onInput
              keydown:command-palette-input#onKeydown
            ">
        </div>
          <div data-view-component="true" class="position-relative d-inline-block">
    <button aria-keyshortcuts="Control+Backspace" data-action="click:command-palette-input#onClear keypress:command-palette-input#onClear" data-target="command-palette-input.clearButton" id="command-palette-clear-button" hidden="hidden" type="button" data-view-component="true" class="btn-octicon command-palette-input-clear-button" aria-labelledby="tooltip-1665581062696-7591">      <svg aria-hidden="true" height="16" viewBox="0 0 16 16" version="1.1" width="16" data-view-component="true" class="octicon octicon-x-circle-fill">
    <path fill-rule="evenodd" d="M2.343 13.657A8 8 0 1113.657 2.343 8 8 0 012.343 13.657zM6.03 4.97a.75.75 0 00-1.06 1.06L6.94 8 4.97 9.97a.75.75 0 101.06 1.06L8 9.06l1.97 1.97a.75.75 0 101.06-1.06L9.06 8l1.97-1.97a.75.75 0 10-1.06-1.06L8 6.94 6.03 4.97z"></path>
</svg>
</button>    <tool-tip for="command-palette-clear-button" data-direction="w" data-type="label" data-view-component="true" class="sr-only position-absolute" id="tooltip-1665581062696-7591" aria-hidden="true" role="tooltip">Clear Command Palette</tool-tip>
</div>
      </command-palette-input>

      <command-palette-page-stack data-default-scope-id="MDQ6VXNlcjcxNzYyMjY3" data-default-scope-type="User" data-action="command-palette-page-octicons-cached:command-palette-page-stack#cacheOcticons" data-current-mode="" data-catalyst="" data-target="command-palette.pageStack" data-current-query-text="">
          <command-palette-tip class="color-fg-muted f6 px-3 py-1 my-2" data-scope-types="[&quot;&quot;,&quot;owner&quot;,&quot;repository&quot;]" data-mode="" data-value="">
            <div class="d-flex flex-items-start flex-justify-between">
              <div>
                <span class="text-bold">Tip:</span>
                  Type <kbd class="hx_kbd">#</kbd> to search pull requests
              </div>
              <div class="ml-2 flex-shrink-0">
                Type <kbd class="hx_kbd">?</kbd> for help and tips
              </div>
            </div>
          </command-palette-tip>
          <command-palette-tip class="color-fg-muted f6 px-3 py-1 my-2" data-scope-types="[&quot;&quot;,&quot;owner&quot;,&quot;repository&quot;]" data-mode="" data-value="">
            <div class="d-flex flex-items-start flex-justify-between">
              <div>
                <span class="text-bold">Tip:</span>
                  Type <kbd class="hx_kbd">#</kbd> to search issues
              </div>
              <div class="ml-2 flex-shrink-0">
                Type <kbd class="hx_kbd">?</kbd> for help and tips
              </div>
            </div>
          </command-palette-tip>
          <command-palette-tip class="color-fg-muted f6 px-3 py-1 my-2" data-scope-types="[&quot;owner&quot;,&quot;repository&quot;]" data-mode="" data-value="">
            <div class="d-flex flex-items-start flex-justify-between">
              <div>
                <span class="text-bold">Tip:</span>
                  Type <kbd class="hx_kbd">#</kbd> to search discussions
              </div>
              <div class="ml-2 flex-shrink-0">
                Type <kbd class="hx_kbd">?</kbd> for help and tips
              </div>
            </div>
          </command-palette-tip>
          <command-palette-tip class="color-fg-muted f6 px-3 py-1 my-2" data-scope-types="[&quot;owner&quot;,&quot;repository&quot;]" data-mode="" data-value="">
            <div class="d-flex flex-items-start flex-justify-between">
              <div>
                <span class="text-bold">Tip:</span>
                  Type <kbd class="hx_kbd">!</kbd> to search projects
              </div>
              <div class="ml-2 flex-shrink-0">
                Type <kbd class="hx_kbd">?</kbd> for help and tips
              </div>
            </div>
          </command-palette-tip>
          <command-palette-tip class="color-fg-muted f6 px-3 py-1 my-2" data-scope-types="[&quot;owner&quot;]" data-mode="" data-value="">
            <div class="d-flex flex-items-start flex-justify-between">
              <div>
                <span class="text-bold">Tip:</span>
                  Type <kbd class="hx_kbd">@</kbd> to search teams
              </div>
              <div class="ml-2 flex-shrink-0">
                Type <kbd class="hx_kbd">?</kbd> for help and tips
              </div>
            </div>
          </command-palette-tip>
          <command-palette-tip class="color-fg-muted f6 px-3 py-1 my-2" data-scope-types="[&quot;&quot;]" data-mode="" data-value="">
            <div class="d-flex flex-items-start flex-justify-between">
              <div>
                <span class="text-bold">Tip:</span>
                  Type <kbd class="hx_kbd">@</kbd> to search people and organizations
              </div>
              <div class="ml-2 flex-shrink-0">
                Type <kbd class="hx_kbd">?</kbd> for help and tips
              </div>
            </div>
          </command-palette-tip>
          <command-palette-tip class="color-fg-muted f6 px-3 py-1 my-2" data-scope-types="[&quot;&quot;,&quot;owner&quot;,&quot;repository&quot;]" data-mode="" data-value="">
            <div class="d-flex flex-items-start flex-justify-between">
              <div>
                <span class="text-bold">Tip:</span>
                  Type <kbd class="hx_kbd">&gt;</kbd> to activate command mode
              </div>
              <div class="ml-2 flex-shrink-0">
                Type <kbd class="hx_kbd">?</kbd> for help and tips
              </div>
            </div>
          </command-palette-tip>
          <command-palette-tip class="color-fg-muted f6 px-3 py-1 my-2" data-scope-types="[&quot;&quot;,&quot;owner&quot;,&quot;repository&quot;]" data-mode="" data-value="">
            <div class="d-flex flex-items-start flex-justify-between">
              <div>
                <span class="text-bold">Tip:</span>
                  Go to your accessibility settings to change your keyboard shortcuts
              </div>
              <div class="ml-2 flex-shrink-0">
                Type <kbd class="hx_kbd">?</kbd> for help and tips
              </div>
            </div>
          </command-palette-tip>
          <command-palette-tip class="color-fg-muted f6 px-3 py-1 my-2" data-scope-types="[&quot;&quot;,&quot;owner&quot;,&quot;repository&quot;]" data-mode="#" data-value="">
            <div class="d-flex flex-items-start flex-justify-between">
              <div>
                <span class="text-bold">Tip:</span>
                  Type author:@me to search your content
              </div>
              <div class="ml-2 flex-shrink-0">
                Type <kbd class="hx_kbd">?</kbd> for help and tips
              </div>
            </div>
          </command-palette-tip>
          <command-palette-tip class="color-fg-muted f6 px-3 py-1 my-2" data-scope-types="[&quot;&quot;,&quot;owner&quot;,&quot;repository&quot;]" data-mode="#" data-value="">
            <div class="d-flex flex-items-start flex-justify-between">
              <div>
                <span class="text-bold">Tip:</span>
                  Type is:pr to filter to pull requests
              </div>
              <div class="ml-2 flex-shrink-0">
                Type <kbd class="hx_kbd">?</kbd> for help and tips
              </div>
            </div>
          </command-palette-tip>
          <command-palette-tip class="color-fg-muted f6 px-3 py-1 my-2" data-scope-types="[&quot;&quot;,&quot;owner&quot;,&quot;repository&quot;]" data-mode="#" data-value="">
            <div class="d-flex flex-items-start flex-justify-between">
              <div>
                <span class="text-bold">Tip:</span>
                  Type is:issue to filter to issues
              </div>
              <div class="ml-2 flex-shrink-0">
                Type <kbd class="hx_kbd">?</kbd> for help and tips
              </div>
            </div>
          </command-palette-tip>
          <command-palette-tip class="color-fg-muted f6 px-3 py-1 my-2" data-scope-types="[&quot;owner&quot;,&quot;repository&quot;]" data-mode="#" data-value="">
            <div class="d-flex flex-items-start flex-justify-between">
              <div>
                <span class="text-bold">Tip:</span>
                  Type is:project to filter to projects
              </div>
              <div class="ml-2 flex-shrink-0">
                Type <kbd class="hx_kbd">?</kbd> for help and tips
              </div>
            </div>
          </command-palette-tip>
          <command-palette-tip class="color-fg-muted f6 px-3 py-1 my-2" data-scope-types="[&quot;&quot;,&quot;owner&quot;,&quot;repository&quot;]" data-mode="#" data-value="">
            <div class="d-flex flex-items-start flex-justify-between">
              <div>
                <span class="text-bold">Tip:</span>
                  Type is:open to filter to open content
              </div>
              <div class="ml-2 flex-shrink-0">
                Type <kbd class="hx_kbd">?</kbd> for help and tips
              </div>
            </div>
          </command-palette-tip>
        <command-palette-tip class="mx-3 my-2 flash flash-error d-flex flex-items-center" data-scope-types="*" data-on-error="">
          <div>
            <svg aria-hidden="true" height="16" viewBox="0 0 16 16" version="1.1" width="16" data-view-component="true" class="octicon octicon-alert">
    <path fill-rule="evenodd" d="M8.22 1.754a.25.25 0 00-.44 0L1.698 13.132a.25.25 0 00.22.368h12.164a.25.25 0 00.22-.368L8.22 1.754zm-1.763-.707c.659-1.234 2.427-1.234 3.086 0l6.082 11.378A1.75 1.75 0 0114.082 15H1.918a1.75 1.75 0 01-1.543-2.575L6.457 1.047zM9 11a1 1 0 11-2 0 1 1 0 012 0zm-.25-5.25a.75.75 0 00-1.5 0v2.5a.75.75 0 001.5 0v-2.5z"></path>
</svg>
          </div>
          <div class="px-2">
            We’ve encountered an error and some results aren't available at this time. Type a new search or try again later.
          </div>
        </command-palette-tip>
        <command-palette-tip class="h4 color-fg-default pl-3 pb-2 pt-3" data-on-empty="" data-scope-types="*" data-match-mode="[^?]|^$">
          No results matched your search
        </command-palette-tip>

        <div hidden="">

            <div data-targets="command-palette-page-stack.localOcticons" data-octicon-id="arrow-right-color-fg-muted">
              <svg height="16" class="octicon octicon-arrow-right color-fg-muted" viewBox="0 0 16 16" version="1.1" width="16" aria-hidden="true"><path fill-rule="evenodd" d="M8.22 2.97a.75.75 0 011.06 0l4.25 4.25a.75.75 0 010 1.06l-4.25 4.25a.75.75 0 01-1.06-1.06l2.97-2.97H3.75a.75.75 0 010-1.5h7.44L8.22 4.03a.75.75 0 010-1.06z"></path></svg>
            </div>
            <div data-targets="command-palette-page-stack.localOcticons" data-octicon-id="arrow-right-color-fg-default">
              <svg height="16" class="octicon octicon-arrow-right color-fg-default" viewBox="0 0 16 16" version="1.1" width="16" aria-hidden="true"><path fill-rule="evenodd" d="M8.22 2.97a.75.75 0 011.06 0l4.25 4.25a.75.75 0 010 1.06l-4.25 4.25a.75.75 0 01-1.06-1.06l2.97-2.97H3.75a.75.75 0 010-1.5h7.44L8.22 4.03a.75.75 0 010-1.06z"></path></svg>
            </div>
            <div data-targets="command-palette-page-stack.localOcticons" data-octicon-id="codespaces-color-fg-muted">
              <svg height="16" class="octicon octicon-codespaces color-fg-muted" viewBox="0 0 16 16" version="1.1" width="16" aria-hidden="true"><path fill-rule="evenodd" d="M2 1.75C2 .784 2.784 0 3.75 0h8.5C13.216 0 14 .784 14 1.75v5a1.75 1.75 0 01-1.75 1.75h-8.5A1.75 1.75 0 012 6.75v-5zm1.75-.25a.25.25 0 00-.25.25v5c0 .138.112.25.25.25h8.5a.25.25 0 00.25-.25v-5a.25.25 0 00-.25-.25h-8.5zM0 11.25c0-.966.784-1.75 1.75-1.75h12.5c.966 0 1.75.784 1.75 1.75v3A1.75 1.75 0 0114.25 16H1.75A1.75 1.75 0 010 14.25v-3zM1.75 11a.25.25 0 00-.25.25v3c0 .138.112.25.25.25h12.5a.25.25 0 00.25-.25v-3a.25.25 0 00-.25-.25H1.75z"></path><path fill-rule="evenodd" d="M3 12.75a.75.75 0 01.75-.75h.5a.75.75 0 010 1.5h-.5a.75.75 0 01-.75-.75zm4 0a.75.75 0 01.75-.75h4.5a.75.75 0 010 1.5h-4.5a.75.75 0 01-.75-.75z"></path></svg>
            </div>
            <div data-targets="command-palette-page-stack.localOcticons" data-octicon-id="copy-color-fg-muted">
              <svg height="16" class="octicon octicon-copy color-fg-muted" viewBox="0 0 16 16" version="1.1" width="16" aria-hidden="true"><path fill-rule="evenodd" d="M0 6.75C0 5.784.784 5 1.75 5h1.5a.75.75 0 010 1.5h-1.5a.25.25 0 00-.25.25v7.5c0 .138.112.25.25.25h7.5a.25.25 0 00.25-.25v-1.5a.75.75 0 011.5 0v1.5A1.75 1.75 0 019.25 16h-7.5A1.75 1.75 0 010 14.25v-7.5z"></path><path fill-rule="evenodd" d="M5 1.75C5 .784 5.784 0 6.75 0h7.5C15.216 0 16 .784 16 1.75v7.5A1.75 1.75 0 0114.25 11h-7.5A1.75 1.75 0 015 9.25v-7.5zm1.75-.25a.25.25 0 00-.25.25v7.5c0 .138.112.25.25.25h7.5a.25.25 0 00.25-.25v-7.5a.25.25 0 00-.25-.25h-7.5z"></path></svg>
            </div>
            <div data-targets="command-palette-page-stack.localOcticons" data-octicon-id="dash-color-fg-muted">
              <svg height="16" class="octicon octicon-dash color-fg-muted" viewBox="0 0 16 16" version="1.1" width="16" aria-hidden="true"><path fill-rule="evenodd" d="M2 7.75A.75.75 0 012.75 7h10a.75.75 0 010 1.5h-10A.75.75 0 012 7.75z"></path></svg>
            </div>
            <div data-targets="command-palette-page-stack.localOcticons" data-octicon-id="file-color-fg-muted">
              <svg height="16" class="octicon octicon-file color-fg-muted" viewBox="0 0 16 16" version="1.1" width="16" aria-hidden="true"><path fill-rule="evenodd" d="M3.75 1.5a.25.25 0 00-.25.25v12.5c0 .138.112.25.25.25h9.5a.25.25 0 00.25-.25V6h-2.75A1.75 1.75 0 019 4.25V1.5H3.75zm6.75.062V4.25c0 .138.112.25.25.25h2.688a.252.252 0 00-.011-.013l-2.914-2.914a.272.272 0 00-.013-.011zM2 1.75C2 .784 2.784 0 3.75 0h6.586c.464 0 .909.184 1.237.513l2.914 2.914c.329.328.513.773.513 1.237v9.586A1.75 1.75 0 0113.25 16h-9.5A1.75 1.75 0 012 14.25V1.75z"></path></svg>
            </div>
            <div data-targets="command-palette-page-stack.localOcticons" data-octicon-id="gear-color-fg-muted">
              <svg height="16" class="octicon octicon-gear color-fg-muted" viewBox="0 0 16 16" version="1.1" width="16" aria-hidden="true"><path fill-rule="evenodd" d="M7.429 1.525a6.593 6.593 0 011.142 0c.036.003.108.036.137.146l.289 1.105c.147.56.55.967.997 1.189.174.086.341.183.501.29.417.278.97.423 1.53.27l1.102-.303c.11-.03.175.016.195.046.219.31.41.641.573.989.014.031.022.11-.059.19l-.815.806c-.411.406-.562.957-.53 1.456a4.588 4.588 0 010 .582c-.032.499.119 1.05.53 1.456l.815.806c.08.08.073.159.059.19a6.494 6.494 0 01-.573.99c-.02.029-.086.074-.195.045l-1.103-.303c-.559-.153-1.112-.008-1.529.27-.16.107-.327.204-.5.29-.449.222-.851.628-.998 1.189l-.289 1.105c-.029.11-.101.143-.137.146a6.613 6.613 0 01-1.142 0c-.036-.003-.108-.037-.137-.146l-.289-1.105c-.147-.56-.55-.967-.997-1.189a4.502 4.502 0 01-.501-.29c-.417-.278-.97-.423-1.53-.27l-1.102.303c-.11.03-.175-.016-.195-.046a6.492 6.492 0 01-.573-.989c-.014-.031-.022-.11.059-.19l.815-.806c.411-.406.562-.957.53-1.456a4.587 4.587 0 010-.582c.032-.499-.119-1.05-.53-1.456l-.815-.806c-.08-.08-.073-.159-.059-.19a6.44 6.44 0 01.573-.99c.02-.029.086-.075.195-.045l1.103.303c.559.153 1.112.008 1.529-.27.16-.107.327-.204.5-.29.449-.222.851-.628.998-1.189l.289-1.105c.029-.11.101-.143.137-.146zM8 0c-.236 0-.47.01-.701.03-.743.065-1.29.615-1.458 1.261l-.29 1.106c-.017.066-.078.158-.211.224a5.994 5.994 0 00-.668.386c-.123.082-.233.09-.3.071L3.27 2.776c-.644-.177-1.392.02-1.82.63a7.977 7.977 0 00-.704 1.217c-.315.675-.111 1.422.363 1.891l.815.806c.05.048.098.147.088.294a6.084 6.084 0 000 .772c.01.147-.038.246-.088.294l-.815.806c-.474.469-.678 1.216-.363 1.891.2.428.436.835.704 1.218.428.609 1.176.806 1.82.63l1.103-.303c.066-.019.176-.011.299.071.213.143.436.272.668.386.133.066.194.158.212.224l.289 1.106c.169.646.715 1.196 1.458 1.26a8.094 8.094 0 001.402 0c.743-.064 1.29-.614 1.458-1.26l.29-1.106c.017-.066.078-.158.211-.224a5.98 5.98 0 00.668-.386c.123-.082.233-.09.3-.071l1.102.302c.644.177 1.392-.02 1.82-.63.268-.382.505-.789.704-1.217.315-.675.111-1.422-.364-1.891l-.814-.806c-.05-.048-.098-.147-.088-.294a6.1 6.1 0 000-.772c-.01-.147.039-.246.088-.294l.814-.806c.475-.469.679-1.216.364-1.891a7.992 7.992 0 00-.704-1.218c-.428-.609-1.176-.806-1.82-.63l-1.103.303c-.066.019-.176.011-.299-.071a5.991 5.991 0 00-.668-.386c-.133-.066-.194-.158-.212-.224L10.16 1.29C9.99.645 9.444.095 8.701.031A8.094 8.094 0 008 0zm1.5 8a1.5 1.5 0 11-3 0 1.5 1.5 0 013 0zM11 8a3 3 0 11-6 0 3 3 0 016 0z"></path></svg>
            </div>
            <div data-targets="command-palette-page-stack.localOcticons" data-octicon-id="lock-color-fg-muted">
              <svg height="16" class="octicon octicon-lock color-fg-muted" viewBox="0 0 16 16" version="1.1" width="16" aria-hidden="true"><path fill-rule="evenodd" d="M4 4v2h-.25A1.75 1.75 0 002 7.75v5.5c0 .966.784 1.75 1.75 1.75h8.5A1.75 1.75 0 0014 13.25v-5.5A1.75 1.75 0 0012.25 6H12V4a4 4 0 10-8 0zm6.5 2V4a2.5 2.5 0 00-5 0v2h5zM12 7.5h.25a.25.25 0 01.25.25v5.5a.25.25 0 01-.25.25h-8.5a.25.25 0 01-.25-.25v-5.5a.25.25 0 01.25-.25H12z"></path></svg>
            </div>
            <div data-targets="command-palette-page-stack.localOcticons" data-octicon-id="moon-color-fg-muted">
              <svg height="16" class="octicon octicon-moon color-fg-muted" viewBox="0 0 16 16" version="1.1" width="16" aria-hidden="true"><path fill-rule="evenodd" d="M9.598 1.591a.75.75 0 01.785-.175 7 7 0 11-8.967 8.967.75.75 0 01.961-.96 5.5 5.5 0 007.046-7.046.75.75 0 01.175-.786zm1.616 1.945a7 7 0 01-7.678 7.678 5.5 5.5 0 107.678-7.678z"></path></svg>
            </div>
            <div data-targets="command-palette-page-stack.localOcticons" data-octicon-id="person-color-fg-muted">
              <svg height="16" class="octicon octicon-person color-fg-muted" viewBox="0 0 16 16" version="1.1" width="16" aria-hidden="true"><path fill-rule="evenodd" d="M10.5 5a2.5 2.5 0 11-5 0 2.5 2.5 0 015 0zm.061 3.073a4 4 0 10-5.123 0 6.004 6.004 0 00-3.431 5.142.75.75 0 001.498.07 4.5 4.5 0 018.99 0 .75.75 0 101.498-.07 6.005 6.005 0 00-3.432-5.142z"></path></svg>
            </div>
            <div data-targets="command-palette-page-stack.localOcticons" data-octicon-id="pencil-color-fg-muted">
              <svg height="16" class="octicon octicon-pencil color-fg-muted" viewBox="0 0 16 16" version="1.1" width="16" aria-hidden="true"><path fill-rule="evenodd" d="M11.013 1.427a1.75 1.75 0 012.474 0l1.086 1.086a1.75 1.75 0 010 2.474l-8.61 8.61c-.21.21-.47.364-.756.445l-3.251.93a.75.75 0 01-.927-.928l.929-3.25a1.75 1.75 0 01.445-.758l8.61-8.61zm1.414 1.06a.25.25 0 00-.354 0L10.811 3.75l1.439 1.44 1.263-1.263a.25.25 0 000-.354l-1.086-1.086zM11.189 6.25L9.75 4.81l-6.286 6.287a.25.25 0 00-.064.108l-.558 1.953 1.953-.558a.249.249 0 00.108-.064l6.286-6.286z"></path></svg>
            </div>
            <div data-targets="command-palette-page-stack.localOcticons" data-octicon-id="issue-opened-open">
              <svg height="16" class="octicon octicon-issue-opened open" viewBox="0 0 16 16" version="1.1" width="16" aria-hidden="true"><path d="M8 9.5a1.5 1.5 0 100-3 1.5 1.5 0 000 3z"></path><path fill-rule="evenodd" d="M8 0a8 8 0 100 16A8 8 0 008 0zM1.5 8a6.5 6.5 0 1113 0 6.5 6.5 0 01-13 0z"></path></svg>
            </div>
            <div data-targets="command-palette-page-stack.localOcticons" data-octicon-id="git-pull-request-draft-color-fg-muted">
              <svg height="16" class="octicon octicon-git-pull-request-draft color-fg-muted" viewBox="0 0 16 16" version="1.1" width="16" aria-hidden="true"><path fill-rule="evenodd" d="M2.5 3.25a.75.75 0 111.5 0 .75.75 0 01-1.5 0zM3.25 1a2.25 2.25 0 00-.75 4.372v5.256a2.251 2.251 0 101.5 0V5.372A2.25 2.25 0 003.25 1zm0 11a.75.75 0 100 1.5.75.75 0 000-1.5zm9.5 3a2.25 2.25 0 100-4.5 2.25 2.25 0 000 4.5zm0-3a.75.75 0 100 1.5.75.75 0 000-1.5z"></path><path d="M14 7.5a1.25 1.25 0 11-2.5 0 1.25 1.25 0 012.5 0zm0-4.25a1.25 1.25 0 11-2.5 0 1.25 1.25 0 012.5 0z"></path></svg>
            </div>
            <div data-targets="command-palette-page-stack.localOcticons" data-octicon-id="search-color-fg-muted">
              <svg height="16" class="octicon octicon-search color-fg-muted" viewBox="0 0 16 16" version="1.1" width="16" aria-hidden="true"><path fill-rule="evenodd" d="M11.5 7a4.499 4.499 0 11-8.998 0A4.499 4.499 0 0111.5 7zm-.82 4.74a6 6 0 111.06-1.06l3.04 3.04a.75.75 0 11-1.06 1.06l-3.04-3.04z"></path></svg>
            </div>
            <div data-targets="command-palette-page-stack.localOcticons" data-octicon-id="sun-color-fg-muted">
              <svg height="16" class="octicon octicon-sun color-fg-muted" viewBox="0 0 16 16" version="1.1" width="16" aria-hidden="true"><path fill-rule="evenodd" d="M8 10.5a2.5 2.5 0 100-5 2.5 2.5 0 000 5zM8 12a4 4 0 100-8 4 4 0 000 8zM8 0a.75.75 0 01.75.75v1.5a.75.75 0 01-1.5 0V.75A.75.75 0 018 0zm0 13a.75.75 0 01.75.75v1.5a.75.75 0 01-1.5 0v-1.5A.75.75 0 018 13zM2.343 2.343a.75.75 0 011.061 0l1.06 1.061a.75.75 0 01-1.06 1.06l-1.06-1.06a.75.75 0 010-1.06zm9.193 9.193a.75.75 0 011.06 0l1.061 1.06a.75.75 0 01-1.06 1.061l-1.061-1.06a.75.75 0 010-1.061zM16 8a.75.75 0 01-.75.75h-1.5a.75.75 0 010-1.5h1.5A.75.75 0 0116 8zM3 8a.75.75 0 01-.75.75H.75a.75.75 0 010-1.5h1.5A.75.75 0 013 8zm10.657-5.657a.75.75 0 010 1.061l-1.061 1.06a.75.75 0 11-1.06-1.06l1.06-1.06a.75.75 0 011.06 0zm-9.193 9.193a.75.75 0 010 1.06l-1.06 1.061a.75.75 0 11-1.061-1.06l1.06-1.061a.75.75 0 011.061 0z"></path></svg>
            </div>
            <div data-targets="command-palette-page-stack.localOcticons" data-octicon-id="sync-color-fg-muted">
              <svg height="16" class="octicon octicon-sync color-fg-muted" viewBox="0 0 16 16" version="1.1" width="16" aria-hidden="true"><path fill-rule="evenodd" d="M8 2.5a5.487 5.487 0 00-4.131 1.869l1.204 1.204A.25.25 0 014.896 6H1.25A.25.25 0 011 5.75V2.104a.25.25 0 01.427-.177l1.38 1.38A7.001 7.001 0 0114.95 7.16a.75.75 0 11-1.49.178A5.501 5.501 0 008 2.5zM1.705 8.005a.75.75 0 01.834.656 5.501 5.501 0 009.592 2.97l-1.204-1.204a.25.25 0 01.177-.427h3.646a.25.25 0 01.25.25v3.646a.25.25 0 01-.427.177l-1.38-1.38A7.001 7.001 0 011.05 8.84a.75.75 0 01.656-.834z"></path></svg>
            </div>
            <div data-targets="command-palette-page-stack.localOcticons" data-octicon-id="trash-color-fg-muted">
              <svg height="16" class="octicon octicon-trash color-fg-muted" viewBox="0 0 16 16" version="1.1" width="16" aria-hidden="true"><path fill-rule="evenodd" d="M6.5 1.75a.25.25 0 01.25-.25h2.5a.25.25 0 01.25.25V3h-3V1.75zm4.5 0V3h2.25a.75.75 0 010 1.5H2.75a.75.75 0 010-1.5H5V1.75C5 .784 5.784 0 6.75 0h2.5C10.216 0 11 .784 11 1.75zM4.496 6.675a.75.75 0 10-1.492.15l.66 6.6A1.75 1.75 0 005.405 15h5.19c.9 0 1.652-.681 1.741-1.576l.66-6.6a.75.75 0 00-1.492-.149l-.66 6.6a.25.25 0 01-.249.225h-5.19a.25.25 0 01-.249-.225l-.66-6.6z"></path></svg>
            </div>
            <div data-targets="command-palette-page-stack.localOcticons" data-octicon-id="key-color-fg-muted">
              <svg height="16" class="octicon octicon-key color-fg-muted" viewBox="0 0 16 16" version="1.1" width="16" aria-hidden="true"><path fill-rule="evenodd" d="M6.5 5.5a4 4 0 112.731 3.795.75.75 0 00-.768.18L7.44 10.5H6.25a.75.75 0 00-.75.75v1.19l-.06.06H4.25a.75.75 0 00-.75.75v1.19l-.06.06H1.75a.25.25 0 01-.25-.25v-1.69l5.024-5.023a.75.75 0 00.181-.768A3.995 3.995 0 016.5 5.5zm4-5.5a5.5 5.5 0 00-5.348 6.788L.22 11.72a.75.75 0 00-.22.53v2C0 15.216.784 16 1.75 16h2a.75.75 0 00.53-.22l.5-.5a.75.75 0 00.22-.53V14h.75a.75.75 0 00.53-.22l.5-.5a.75.75 0 00.22-.53V12h.75a.75.75 0 00.53-.22l.932-.932A5.5 5.5 0 1010.5 0zm.5 6a1 1 0 100-2 1 1 0 000 2z"></path></svg>
            </div>
            <div data-targets="command-palette-page-stack.localOcticons" data-octicon-id="comment-discussion-color-fg-muted">
              <svg height="16" class="octicon octicon-comment-discussion color-fg-muted" viewBox="0 0 16 16" version="1.1" width="16" aria-hidden="true"><path fill-rule="evenodd" d="M1.5 2.75a.25.25 0 01.25-.25h8.5a.25.25 0 01.25.25v5.5a.25.25 0 01-.25.25h-3.5a.75.75 0 00-.53.22L3.5 11.44V9.25a.75.75 0 00-.75-.75h-1a.25.25 0 01-.25-.25v-5.5zM1.75 1A1.75 1.75 0 000 2.75v5.5C0 9.216.784 10 1.75 10H2v1.543a1.457 1.457 0 002.487 1.03L7.061 10h3.189A1.75 1.75 0 0012 8.25v-5.5A1.75 1.75 0 0010.25 1h-8.5zM14.5 4.75a.25.25 0 00-.25-.25h-.5a.75.75 0 110-1.5h.5c.966 0 1.75.784 1.75 1.75v5.5A1.75 1.75 0 0114.25 12H14v1.543a1.457 1.457 0 01-2.487 1.03L9.22 12.28a.75.75 0 111.06-1.06l2.22 2.22v-2.19a.75.75 0 01.75-.75h1a.25.25 0 00.25-.25v-5.5z"></path></svg>
            </div>
            <div data-targets="command-palette-page-stack.localOcticons" data-octicon-id="bell-color-fg-muted">
              <svg height="16" class="octicon octicon-bell color-fg-muted" viewBox="0 0 16 16" version="1.1" width="16" aria-hidden="true"><path d="M8 16a2 2 0 001.985-1.75c.017-.137-.097-.25-.235-.25h-3.5c-.138 0-.252.113-.235.25A2 2 0 008 16z"></path><path fill-rule="evenodd" d="M8 1.5A3.5 3.5 0 004.5 5v2.947c0 .346-.102.683-.294.97l-1.703 2.556a.018.018 0 00-.003.01l.001.006c0 .002.002.004.004.006a.017.017 0 00.006.004l.007.001h10.964l.007-.001a.016.016 0 00.006-.004.016.016 0 00.004-.006l.001-.007a.017.017 0 00-.003-.01l-1.703-2.554a1.75 1.75 0 01-.294-.97V5A3.5 3.5 0 008 1.5zM3 5a5 5 0 0110 0v2.947c0 .05.015.098.042.139l1.703 2.555A1.518 1.518 0 0113.482 13H2.518a1.518 1.518 0 01-1.263-2.36l1.703-2.554A.25.25 0 003 7.947V5z"></path></svg>
            </div>
            <div data-targets="command-palette-page-stack.localOcticons" data-octicon-id="bell-slash-color-fg-muted">
              <svg height="16" class="octicon octicon-bell-slash color-fg-muted" viewBox="0 0 16 16" version="1.1" width="16" aria-hidden="true"><path fill-rule="evenodd" d="M8 1.5c-.997 0-1.895.416-2.534 1.086A.75.75 0 014.38 1.55 5 5 0 0113 5v2.373a.75.75 0 01-1.5 0V5A3.5 3.5 0 008 1.5zM4.182 4.31L1.19 2.143a.75.75 0 10-.88 1.214L3 5.305v2.642a.25.25 0 01-.042.139L1.255 10.64A1.518 1.518 0 002.518 13h11.108l1.184.857a.75.75 0 10.88-1.214l-1.375-.996a1.196 1.196 0 00-.013-.01L4.198 4.321a.733.733 0 00-.016-.011zm7.373 7.19L4.5 6.391v1.556c0 .346-.102.683-.294.97l-1.703 2.556a.018.018 0 00-.003.01.015.015 0 00.005.012.017.017 0 00.006.004l.007.001h9.037zM8 16a2 2 0 001.985-1.75c.017-.137-.097-.25-.235-.25h-3.5c-.138 0-.252.113-.235.25A2 2 0 008 16z"></path></svg>
            </div>
            <div data-targets="command-palette-page-stack.localOcticons" data-octicon-id="paintbrush-color-fg-muted">
              <svg height="16" class="octicon octicon-paintbrush color-fg-muted" viewBox="0 0 16 16" version="1.1" width="16" aria-hidden="true"><path fill-rule="evenodd" d="M11.134 1.535C9.722 2.562 8.16 4.057 6.889 5.312 5.8 6.387 5.041 7.401 4.575 8.294a3.745 3.745 0 00-3.227 1.054c-.43.431-.69 1.066-.86 1.657a11.982 11.982 0 00-.358 1.914A21.263 21.263 0 000 15.203v.054l.75-.007-.007.75h.054a14.404 14.404 0 00.654-.012 21.243 21.243 0 001.63-.118c.62-.07 1.3-.18 1.914-.357.592-.17 1.226-.43 1.657-.861a3.745 3.745 0 001.055-3.217c.908-.461 1.942-1.216 3.04-2.3 1.279-1.262 2.764-2.825 3.775-4.249.501-.706.923-1.428 1.125-2.096.2-.659.235-1.469-.368-2.07-.606-.607-1.42-.55-2.069-.34-.66.213-1.376.646-2.076 1.155zm-3.95 8.48a3.76 3.76 0 00-1.19-1.192 9.758 9.758 0 011.161-1.607l1.658 1.658a9.853 9.853 0 01-1.63 1.142zM.742 16l.007-.75-.75.008A.75.75 0 00.743 16zM12.016 2.749c-1.224.89-2.605 2.189-3.822 3.384l1.718 1.718c1.21-1.205 2.51-2.597 3.387-3.833.47-.662.78-1.227.912-1.662.134-.444.032-.551.009-.575h-.001V1.78c-.014-.014-.112-.113-.548.027-.432.14-.995.462-1.655.942zM1.62 13.089a19.56 19.56 0 00-.104 1.395 19.55 19.55 0 001.396-.104 10.528 10.528 0 001.668-.309c.526-.151.856-.325 1.011-.48a2.25 2.25 0 00-3.182-3.182c-.155.155-.329.485-.48 1.01a10.515 10.515 0 00-.309 1.67z"></path></svg>
            </div>

            <command-palette-item-group data-group-id="top" data-group-title="Top result" data-group-hint="" data-group-limits="{}" data-default-priority="0" data-catalyst="" class="py-2 border-top" hidden="true" data-skip-template="">
            
          <div class="d-flex flex-justify-between my-2 px-3">
            <span data-target="command-palette-item-group.header" class="color-fg-muted text-bold f6 text-normal">
              Top result
            </span>
            <span data-target="command-palette-item-group.header" class="color-fg-muted f6 text-normal">
              
            </span>
          </div>
          <div role="listbox" class="list-style-none" data-target="command-palette-item-group.list" aria-label="Top result results"></div>
        </command-palette-item-group>
            <command-palette-item-group data-group-id="commands" data-group-title="Commands" data-group-hint="Type &gt; to filter" data-group-limits="{&quot;static_items_page&quot;:50,&quot;issue&quot;:50,&quot;pull_request&quot;:50,&quot;discussion&quot;:50}" data-default-priority="1" data-catalyst="" class="py-2 border-top" hidden="true" data-skip-template="">
            
          <div class="d-flex flex-justify-between my-2 px-3">
            <span data-target="command-palette-item-group.header" class="color-fg-muted text-bold f6 text-normal">
              Commands
            </span>
            <span data-target="command-palette-item-group.header" class="color-fg-muted f6 text-normal">
              Type &gt; to filter
            </span>
          </div>
          <div role="listbox" class="list-style-none" data-target="command-palette-item-group.list" aria-label="Commands results"></div>
        </command-palette-item-group>
            <command-palette-item-group data-group-id="global_commands" data-group-title="Global Commands" data-group-hint="Type &gt; to filter" data-group-limits="{&quot;issue&quot;:0,&quot;pull_request&quot;:0,&quot;discussion&quot;:0}" data-default-priority="2" data-catalyst="" class="py-2 border-top" hidden="true" data-skip-template="">
            
          <div class="d-flex flex-justify-between my-2 px-3">
            <span data-target="command-palette-item-group.header" class="color-fg-muted text-bold f6 text-normal">
              Global Commands
            </span>
            <span data-target="command-palette-item-group.header" class="color-fg-muted f6 text-normal">
              Type &gt; to filter
            </span>
          </div>
          <div role="listbox" class="list-style-none" data-target="command-palette-item-group.list" aria-label="Global Commands results"></div>
        </command-palette-item-group>
            <command-palette-item-group data-group-id="this_page" data-group-title="This Page" data-group-hint="" data-group-limits="{}" data-default-priority="3" data-catalyst="" class="py-2 border-top" hidden="true" data-skip-template="">
            
          <div class="d-flex flex-justify-between my-2 px-3">
            <span data-target="command-palette-item-group.header" class="color-fg-muted text-bold f6 text-normal">
              This Page
            </span>
            <span data-target="command-palette-item-group.header" class="color-fg-muted f6 text-normal">
              
            </span>
          </div>
          <div role="listbox" class="list-style-none" data-target="command-palette-item-group.list" aria-label="This Page results"></div>
        </command-palette-item-group>
            <command-palette-item-group data-group-id="files" data-group-title="Files" data-group-hint="" data-group-limits="{}" data-default-priority="4" data-catalyst="" class="py-2 border-top" hidden="true" data-skip-template="">
            
          <div class="d-flex flex-justify-between my-2 px-3">
            <span data-target="command-palette-item-group.header" class="color-fg-muted text-bold f6 text-normal">
              Files
            </span>
            <span data-target="command-palette-item-group.header" class="color-fg-muted f6 text-normal">
              
            </span>
          </div>
          <div role="listbox" class="list-style-none" data-target="command-palette-item-group.list" aria-label="Files results"></div>
        </command-palette-item-group>
            <command-palette-item-group data-group-id="default" data-group-title="Default" data-group-hint="" data-group-limits="{&quot;static_items_page&quot;:50}" data-default-priority="5" data-catalyst="" class="py-2 border-top" hidden="true" data-skip-template="">
            
          <div role="listbox" class="list-style-none" data-target="command-palette-item-group.list" aria-label="Default results"></div>
        </command-palette-item-group>
            <command-palette-item-group data-group-id="pages" data-group-title="Pages" data-group-hint="" data-group-limits="{&quot;repository&quot;:10}" data-default-priority="6" data-catalyst="" class="py-2 border-top" hidden="true" data-skip-template="">
            
          <div class="d-flex flex-justify-between my-2 px-3">
            <span data-target="command-palette-item-group.header" class="color-fg-muted text-bold f6 text-normal">
              Pages
            </span>
            <span data-target="command-palette-item-group.header" class="color-fg-muted f6 text-normal">
              
            </span>
          </div>
          <div role="listbox" class="list-style-none" data-target="command-palette-item-group.list" aria-label="Pages results"></div>
        </command-palette-item-group>
            <command-palette-item-group data-group-id="access_policies" data-group-title="Access Policies" data-group-hint="" data-group-limits="{}" data-default-priority="7" data-catalyst="" class="py-2 border-top" hidden="true" data-skip-template="">
            
          <div class="d-flex flex-justify-between my-2 px-3">
            <span data-target="command-palette-item-group.header" class="color-fg-muted text-bold f6 text-normal">
              Access Policies
            </span>
            <span data-target="command-palette-item-group.header" class="color-fg-muted f6 text-normal">
              
            </span>
          </div>
          <div role="listbox" class="list-style-none" data-target="command-palette-item-group.list" aria-label="Access Policies results"></div>
        </command-palette-item-group>
            <command-palette-item-group data-group-id="organizations" data-group-title="Organizations" data-group-hint="" data-group-limits="{}" data-default-priority="8" data-catalyst="" class="py-2 border-top" hidden="true" data-skip-template="">
            
          <div class="d-flex flex-justify-between my-2 px-3">
            <span data-target="command-palette-item-group.header" class="color-fg-muted text-bold f6 text-normal">
              Organizations
            </span>
            <span data-target="command-palette-item-group.header" class="color-fg-muted f6 text-normal">
              
            </span>
          </div>
          <div role="listbox" class="list-style-none" data-target="command-palette-item-group.list" aria-label="Organizations results"></div>
        </command-palette-item-group>
            <command-palette-item-group data-group-id="repositories" data-group-title="Repositories" data-group-hint="" data-group-limits="{}" data-default-priority="9" data-catalyst="" class="py-2 border-top" hidden="true" data-skip-template="">
            
          <div class="d-flex flex-justify-between my-2 px-3">
            <span data-target="command-palette-item-group.header" class="color-fg-muted text-bold f6 text-normal">
              Repositories
            </span>
            <span data-target="command-palette-item-group.header" class="color-fg-muted f6 text-normal">
              
            </span>
          </div>
          <div role="listbox" class="list-style-none" data-target="command-palette-item-group.list" aria-label="Repositories results"></div>
        </command-palette-item-group>
            <command-palette-item-group data-group-id="references" data-group-title="Issues, pull requests, and discussions" data-group-hint="Type # to filter" data-group-limits="{}" data-default-priority="10" data-catalyst="" class="py-2 border-top" hidden="true" data-skip-template="">
            
          <div class="d-flex flex-justify-between my-2 px-3">
            <span data-target="command-palette-item-group.header" class="color-fg-muted text-bold f6 text-normal">
              Issues, pull requests, and discussions
            </span>
            <span data-target="command-palette-item-group.header" class="color-fg-muted f6 text-normal">
              Type # to filter
            </span>
          </div>
          <div role="listbox" class="list-style-none" data-target="command-palette-item-group.list" aria-label="Issues, pull requests, and discussions results"></div>
        </command-palette-item-group>
            <command-palette-item-group data-group-id="teams" data-group-title="Teams" data-group-hint="" data-group-limits="{}" data-default-priority="11" data-catalyst="" class="py-2 border-top" hidden="true" data-skip-template="">
            
          <div class="d-flex flex-justify-between my-2 px-3">
            <span data-target="command-palette-item-group.header" class="color-fg-muted text-bold f6 text-normal">
              Teams
            </span>
            <span data-target="command-palette-item-group.header" class="color-fg-muted f6 text-normal">
              
            </span>
          </div>
          <div role="listbox" class="list-style-none" data-target="command-palette-item-group.list" aria-label="Teams results"></div>
        </command-palette-item-group>
            <command-palette-item-group data-group-id="users" data-group-title="Users" data-group-hint="" data-group-limits="{}" data-default-priority="12" data-catalyst="" class="py-2 border-top" hidden="true" data-skip-template="">
            
          <div class="d-flex flex-justify-between my-2 px-3">
            <span data-target="command-palette-item-group.header" class="color-fg-muted text-bold f6 text-normal">
              Users
            </span>
            <span data-target="command-palette-item-group.header" class="color-fg-muted f6 text-normal">
              
            </span>
          </div>
          <div role="listbox" class="list-style-none" data-target="command-palette-item-group.list" aria-label="Users results"></div>
        </command-palette-item-group>
            <command-palette-item-group data-group-id="projects" data-group-title="Projects" data-group-hint="" data-group-limits="{}" data-default-priority="13" data-catalyst="" class="py-2 border-top" hidden="true" data-skip-template="">
            
          <div class="d-flex flex-justify-between my-2 px-3">
            <span data-target="command-palette-item-group.header" class="color-fg-muted text-bold f6 text-normal">
              Projects
            </span>
            <span data-target="command-palette-item-group.header" class="color-fg-muted f6 text-normal">
              
            </span>
          </div>
          <div role="listbox" class="list-style-none" data-target="command-palette-item-group.list" aria-label="Projects results"></div>
        </command-palette-item-group>
            <command-palette-item-group data-group-id="footer" data-group-title="Footer" data-group-hint="" data-group-limits="{}" data-default-priority="14" data-catalyst="" class="py-2 border-top" hidden="true" data-skip-template="">
            
          <div role="listbox" class="list-style-none" data-target="command-palette-item-group.list" aria-label="Footer results"></div>
        </command-palette-item-group>
            <command-palette-item-group data-group-id="modes_help" data-group-title="Modes" data-group-hint="" data-group-limits="{}" data-default-priority="15" data-catalyst="" class="py-2 border-top" hidden="true" data-skip-template="">
            
          <div class="d-flex flex-justify-between my-2 px-3">
            <span data-target="command-palette-item-group.header" class="color-fg-muted text-bold f6 text-normal">
              Modes
            </span>
            <span data-target="command-palette-item-group.header" class="color-fg-muted f6 text-normal">
              
            </span>
          </div>
          <div role="listbox" class="list-style-none" data-target="command-palette-item-group.list" aria-label="Modes results"></div>
        </command-palette-item-group>
            <command-palette-item-group data-group-id="filters_help" data-group-title="Use filters in issues, pull requests, discussions, and projects" data-group-hint="" data-group-limits="{}" data-default-priority="16" data-catalyst="" class="py-2 border-top" hidden="true" data-skip-template="">
            
          <div class="d-flex flex-justify-between my-2 px-3">
            <span data-target="command-palette-item-group.header" class="color-fg-muted text-bold f6 text-normal">
              Use filters in issues, pull requests, discussions, and projects
            </span>
            <span data-target="command-palette-item-group.header" class="color-fg-muted f6 text-normal">
              
            </span>
          </div>
          <div role="listbox" class="list-style-none" data-target="command-palette-item-group.list" aria-label="Use filters in issues, pull requests, discussions, and projects results"></div>
        </command-palette-item-group>

            <command-palette-page data-page-title="perlineanisha" data-scope-id="MDQ6VXNlcjcxNzYyMjY3" data-scope-type="owner" data-targets="command-palette-page-stack.defaultPages" hidden="" data-catalyst="" class="rounded-bottom-2 page-stack-transition-height" style="max-height:400px;">
            </command-palette-page>
        </div>

        <command-palette-page data-is-root="" hidden="" data-page-title="" data-catalyst="" class="rounded-bottom-2 page-stack-transition-height" data-targets="command-palette-page-stack.pages" style="max-height:400px;" data-scope-id="" data-scope-type="">
        </command-palette-page>
          <command-palette-page data-page-title="perlineanisha" data-scope-id="MDQ6VXNlcjcxNzYyMjY3" data-scope-type="owner" hidden="" data-catalyst="" class="rounded-bottom-2 page-stack-transition-height" data-targets="command-palette-page-stack.pages" style="max-height:400px;">
          </command-palette-page>
      </command-palette-page-stack>

      <server-defined-provider data-type="search-links" data-targets="command-palette.serverDefinedProviderElements"></server-defined-provider>
      <server-defined-provider data-type="help" data-targets="command-palette.serverDefinedProviderElements">
          <command-palette-help data-group="modes_help" data-prefix="#" data-scope-types="[&quot;&quot;]">
            <span data-target="command-palette-help.titleElement">Search for <strong>issues</strong> and <strong>pull requests</strong></span>
              <span data-target="command-palette-help.hintElement">
                <kbd class="hx_kbd">#</kbd>
              </span>
          </command-palette-help>
          <command-palette-help data-group="modes_help" data-prefix="#" data-scope-types="[&quot;owner&quot;,&quot;repository&quot;]">
            <span data-target="command-palette-help.titleElement">Search for <strong>issues, pull requests, discussions,</strong> and <strong>projects</strong></span>
              <span data-target="command-palette-help.hintElement">
                <kbd class="hx_kbd">#</kbd>
              </span>
          </command-palette-help>
          <command-palette-help data-group="modes_help" data-prefix="@" data-scope-types="[&quot;&quot;]">
            <span data-target="command-palette-help.titleElement">Search for <strong>organizations, repositories,</strong> and <strong>users</strong></span>
              <span data-target="command-palette-help.hintElement">
                <kbd class="hx_kbd">@</kbd>
              </span>
          </command-palette-help>
          <command-palette-help data-group="modes_help" data-prefix="!" data-scope-types="[&quot;owner&quot;,&quot;repository&quot;]">
            <span data-target="command-palette-help.titleElement">Search for <strong>projects</strong></span>
              <span data-target="command-palette-help.hintElement">
                <kbd class="hx_kbd">!</kbd>
              </span>
          </command-palette-help>
          <command-palette-help data-group="modes_help" data-prefix="/" data-scope-types="[&quot;repository&quot;]">
            <span data-target="command-palette-help.titleElement">Search for <strong>files</strong></span>
              <span data-target="command-palette-help.hintElement">
                <kbd class="hx_kbd">/</kbd>
              </span>
          </command-palette-help>
          <command-palette-help data-group="modes_help" data-prefix="&gt;">
            <span data-target="command-palette-help.titleElement">Activate <strong>command mode</strong></span>
              <span data-target="command-palette-help.hintElement">
                <kbd class="hx_kbd">&gt;</kbd>
              </span>
          </command-palette-help>
          <command-palette-help data-group="filters_help" data-prefix="# author:@me">
            <span data-target="command-palette-help.titleElement">Search your issues, pull requests, and discussions</span>
              <span data-target="command-palette-help.hintElement">
                <kbd class="hx_kbd"># author:@me</kbd>
              </span>
          </command-palette-help>
          <command-palette-help data-group="filters_help" data-prefix="# author:@me">
            <span data-target="command-palette-help.titleElement">Search your issues, pull requests, and discussions</span>
              <span data-target="command-palette-help.hintElement">
                <kbd class="hx_kbd"># author:@me</kbd>
              </span>
          </command-palette-help>
          <command-palette-help data-group="filters_help" data-prefix="# is:pr">
            <span data-target="command-palette-help.titleElement">Filter to pull requests</span>
              <span data-target="command-palette-help.hintElement">
                <kbd class="hx_kbd"># is:pr</kbd>
              </span>
          </command-palette-help>
          <command-palette-help data-group="filters_help" data-prefix="# is:issue">
            <span data-target="command-palette-help.titleElement">Filter to issues</span>
              <span data-target="command-palette-help.hintElement">
                <kbd class="hx_kbd"># is:issue</kbd>
              </span>
          </command-palette-help>
          <command-palette-help data-group="filters_help" data-prefix="# is:discussion" data-scope-types="[&quot;owner&quot;,&quot;repository&quot;]">
            <span data-target="command-palette-help.titleElement">Filter to discussions</span>
              <span data-target="command-palette-help.hintElement">
                <kbd class="hx_kbd"># is:discussion</kbd>
              </span>
          </command-palette-help>
          <command-palette-help data-group="filters_help" data-prefix="# is:project" data-scope-types="[&quot;owner&quot;,&quot;repository&quot;]">
            <span data-target="command-palette-help.titleElement">Filter to projects</span>
              <span data-target="command-palette-help.hintElement">
                <kbd class="hx_kbd"># is:project</kbd>
              </span>
          </command-palette-help>
          <command-palette-help data-group="filters_help" data-prefix="# is:open">
            <span data-target="command-palette-help.titleElement">Filter to open issues, pull requests, and discussions</span>
              <span data-target="command-palette-help.hintElement">
                <kbd class="hx_kbd"># is:open</kbd>
              </span>
          </command-palette-help>
      </server-defined-provider>

        <server-defined-provider data-type="commands" data-fetch-debounce="0" data-src="/command_palette/commands" data-supported-modes="[]" data-supports-commands="" data-targets="command-palette.serverDefinedProviderElements"></server-defined-provider>
        <server-defined-provider data-type="prefetched" data-fetch-debounce="0" data-src="/command_palette/jump_to_page_navigation" data-supported-modes="[&quot;&quot;]" data-supported-scope-types="[&quot;&quot;,&quot;owner&quot;,&quot;repository&quot;]" data-targets="command-palette.serverDefinedProviderElements"></server-defined-provider>
        <server-defined-provider data-type="remote" data-fetch-debounce="200" data-src="/command_palette/issues" data-supported-modes="[&quot;#&quot;,&quot;#&quot;]" data-supported-scope-types="[&quot;owner&quot;,&quot;repository&quot;,&quot;&quot;]" data-targets="command-palette.serverDefinedProviderElements"></server-defined-provider>
        <server-defined-provider data-type="remote" data-fetch-debounce="200" data-src="/command_palette/jump_to" data-supported-modes="[&quot;@&quot;,&quot;@&quot;]" data-supported-scope-types="[&quot;&quot;,&quot;owner&quot;]" data-targets="command-palette.serverDefinedProviderElements"></server-defined-provider>
        <server-defined-provider data-type="remote" data-fetch-debounce="200" data-src="/command_palette/jump_to_members_only" data-supported-modes="[&quot;@&quot;,&quot;@&quot;,&quot;&quot;,&quot;&quot;]" data-supported-scope-types="[&quot;&quot;,&quot;owner&quot;]" data-targets="command-palette.serverDefinedProviderElements"></server-defined-provider>
        <server-defined-provider data-type="prefetched" data-fetch-debounce="0" data-src="/command_palette/jump_to_members_only_prefetched" data-supported-modes="[&quot;@&quot;,&quot;@&quot;,&quot;&quot;,&quot;&quot;]" data-supported-scope-types="[&quot;&quot;,&quot;owner&quot;]" data-targets="command-palette.serverDefinedProviderElements"></server-defined-provider>
        <server-defined-provider data-type="files" data-fetch-debounce="0" data-src="/command_palette/files" data-supported-modes="[&quot;/&quot;]" data-supported-scope-types="[&quot;repository&quot;]" data-targets="command-palette.serverDefinedProviderElements"></server-defined-provider>
        <server-defined-provider data-type="remote" data-fetch-debounce="200" data-src="/command_palette/discussions" data-supported-modes="[&quot;#&quot;]" data-supported-scope-types="[&quot;owner&quot;,&quot;repository&quot;]" data-targets="command-palette.serverDefinedProviderElements"></server-defined-provider>
        <server-defined-provider data-type="remote" data-fetch-debounce="200" data-src="/command_palette/projects" data-supported-modes="[&quot;#&quot;,&quot;!&quot;]" data-supported-scope-types="[&quot;owner&quot;,&quot;repository&quot;]" data-targets="command-palette.serverDefinedProviderElements"></server-defined-provider>
        <server-defined-provider data-type="prefetched" data-fetch-debounce="0" data-src="/command_palette/recent_issues" data-supported-modes="[&quot;#&quot;,&quot;#&quot;]" data-supported-scope-types="[&quot;owner&quot;,&quot;repository&quot;,&quot;&quot;]" data-targets="command-palette.serverDefinedProviderElements"></server-defined-provider>
        <server-defined-provider data-type="remote" data-fetch-debounce="200" data-src="/command_palette/teams" data-supported-modes="[&quot;@&quot;,&quot;&quot;]" data-supported-scope-types="[&quot;owner&quot;]" data-targets="command-palette.serverDefinedProviderElements"></server-defined-provider>
        <server-defined-provider data-type="remote" data-fetch-debounce="200" data-src="/command_palette/name_with_owner_repository" data-supported-modes="[&quot;@&quot;,&quot;@&quot;,&quot;&quot;,&quot;&quot;]" data-supported-scope-types="[&quot;&quot;,&quot;owner&quot;]" data-targets="command-palette.serverDefinedProviderElements"></server-defined-provider>
    </command-palette>
  </details-dialog>
</details>

<div class="position-fixed bottom-0 left-0 ml-5 mb-5 js-command-palette-toasts" style="z-index: 1000">
  <div hidden="" class="Toast Toast--loading">
    <span class="Toast-icon">
      <svg class="Toast--spinner" viewBox="0 0 32 32" width="18" height="18" aria-hidden="true">
        <path fill="#959da5" d="M16 0 A16 16 0 0 0 16 32 A16 16 0 0 0 16 0 M16 4 A12 12 0 0 1 16 28 A12 12 0 0 1 16 4"></path>
        <path fill="#ffffff" d="M16 0 A16 16 0 0 1 32 16 L28 16 A12 12 0 0 0 16 4z"></path>
      </svg>
    </span>
    <span class="Toast-content"></span>
  </div>

  <div hidden="" class="anim-fade-in fast Toast Toast--error">
    <span class="Toast-icon">
      <svg aria-hidden="true" height="16" viewBox="0 0 16 16" version="1.1" width="16" data-view-component="true" class="octicon octicon-stop">
    <path fill-rule="evenodd" d="M4.47.22A.75.75 0 015 0h6a.75.75 0 01.53.22l4.25 4.25c.141.14.22.331.22.53v6a.75.75 0 01-.22.53l-4.25 4.25A.75.75 0 0111 16H5a.75.75 0 01-.53-.22L.22 11.53A.75.75 0 010 11V5a.75.75 0 01.22-.53L4.47.22zm.84 1.28L1.5 5.31v5.38l3.81 3.81h5.38l3.81-3.81V5.31L10.69 1.5H5.31zM8 4a.75.75 0 01.75.75v3.5a.75.75 0 01-1.5 0v-3.5A.75.75 0 018 4zm0 8a1 1 0 100-2 1 1 0 000 2z"></path>
</svg>
    </span>
    <span class="Toast-content"></span>
  </div>

  <div hidden="" class="anim-fade-in fast Toast Toast--warning">
    <span class="Toast-icon">
      <svg aria-hidden="true" height="16" viewBox="0 0 16 16" version="1.1" width="16" data-view-component="true" class="octicon octicon-alert">
    <path fill-rule="evenodd" d="M8.22 1.754a.25.25 0 00-.44 0L1.698 13.132a.25.25 0 00.22.368h12.164a.25.25 0 00.22-.368L8.22 1.754zm-1.763-.707c.659-1.234 2.427-1.234 3.086 0l6.082 11.378A1.75 1.75 0 0114.082 15H1.918a1.75 1.75 0 01-1.543-2.575L6.457 1.047zM9 11a1 1 0 11-2 0 1 1 0 012 0zm-.25-5.25a.75.75 0 00-1.5 0v2.5a.75.75 0 001.5 0v-2.5z"></path>
</svg>
    </span>
    <span class="Toast-content"></span>
  </div>


  <div hidden="" class="anim-fade-in fast Toast Toast--success">
    <span class="Toast-icon">
      <svg aria-hidden="true" height="16" viewBox="0 0 16 16" version="1.1" width="16" data-view-component="true" class="octicon octicon-check">
    <path fill-rule="evenodd" d="M13.78 4.22a.75.75 0 010 1.06l-7.25 7.25a.75.75 0 01-1.06 0L2.22 9.28a.75.75 0 011.06-1.06L6 10.94l6.72-6.72a.75.75 0 011.06 0z"></path>
</svg>
    </span>
    <span class="Toast-content"></span>
  </div>

  <div hidden="" class="anim-fade-in fast Toast">
    <span class="Toast-icon">
      <svg aria-hidden="true" height="16" viewBox="0 0 16 16" version="1.1" width="16" data-view-component="true" class="octicon octicon-info">
    <path fill-rule="evenodd" d="M8 1.5a6.5 6.5 0 100 13 6.5 6.5 0 000-13zM0 8a8 8 0 1116 0A8 8 0 010 8zm6.5-.25A.75.75 0 017.25 7h1a.75.75 0 01.75.75v2.75h.25a.75.75 0 010 1.5h-2a.75.75 0 010-1.5h.25v-2h-.25a.75.75 0 01-.75-.75zM8 6a1 1 0 100-2 1 1 0 000 2z"></path>
</svg>
    </span>
    <span class="Toast-content"></span>
  </div>
</div>


  <div class="application-main " data-commit-hovercards-enabled="" data-discussion-hovercards-enabled="" data-issue-and-pr-hovercards-enabled="">
        <div itemscope="" itemtype="http://schema.org/Code">
    <main id="gist-pjax-container">
      




<div class="gisthead pagehead pb-0 pt-3 mb-4">
  <div class="px-0">
    
  

<div class="mb-3 d-flex px-3 px-md-3 px-lg-5">
  <div class="flex-auto min-width-0 width-fit mr-3">
    <div class="d-flex">
      <div class="d-none d-md-block">
        <a class="mr-2 flex-shrink-0" data-hovercard-type="user" data-hovercard-url="/users/perlineanisha/hovercard" data-octo-click="hovercard-link-click" data-octo-dimensions="link_type:self" href="https://gist.github.com/perlineanisha"><img class="avatar avatar-user" src="./Aniket Assignment -11 (Text Mining)_files/71762267" width="32" height="32" alt="@perlineanisha"></a>
      </div>
      <div class="d-flex flex-column width-full">
          <div class="d-flex flex-row width-full">
            <h1 class="wb-break-word f3 text-normal mb-md-0 mb-1">
              <span class="author"><a data-hovercard-type="user" data-hovercard-url="/users/perlineanisha/hovercard" data-octo-click="hovercard-link-click" data-octo-dimensions="link_type:self" href="https://gist.github.com/perlineanisha">perlineanisha</a></span><!--
                  --><span class="mx-1 color-fg-muted">/</span><!--
                  --><strong itemprop="name" class="css-truncate-target mr-1" style="max-width: 410px"><a href="https://gist.github.com/perlineanisha/a095ff17abce95212da043f9c5e05909">Assignment 11 - Text Mining.ipynb</a></strong>
            </h1>

        </div>

        <div class="note m-0">
          Created <time-ago datetime="2021-04-12T06:44:52Z" data-view-component="true" class="no-wrap" title="Apr 12, 2021, 12:14 PM GMT+5:30">2 years ago</time-ago>
            •
            <a class="color-fg-muted" href="https://gist.github.com/contact/report-content?content_url=https%3A%2F%2Fgist.github.com%2Fa095ff17abce95212da043f9c5e05909&amp;report=perlineanisha+%28user%29">Report abuse</a>
        </div>
      </div>
    </div>
  </div>

  <ul class="d-md-flex d-none pagehead-actions float-none">


        <li class="d-lg-block d-none">
          <div class="thread-subscription-status js-socket-channel js-updatable-content" data-replace-remote-form-target="" data-channel="eyJjIjoibGlzdC1zdWJzY3JpcHRpb246dXNlcjo3MTc2MjI2NzoxMTExMTc2NjIiLCJ0IjoxNjY1NTgxMDYzfQ==--615e7b726eda8b63248bac1974566fff55d211d54ed7b12a0178708b6014bf77 eyJjIjoidGhyZWFkLXN1YnNjcmlwdGlvbjoxMDg5NTM3MDA6MTExMTE3NjYyIiwidCI6MTY2NTU4MTA2M30=--9c4fb55947504305b30c738995d5fcc11aee1ff128da223c33022f88aea3b89a" data-url="/perlineanisha/a095ff17abce95212da043f9c5e05909/subscription">
    <form data-replace-remote-form="true" class="thread-subscribe-form" data-turbo="false" action="https://gist.github.com/perlineanisha/a095ff17abce95212da043f9c5e05909/subscribe" accept-charset="UTF-8" method="post"><input type="hidden" name="authenticity_token" value="P59wEHAE1XcQodUHKEoZDNw7M4tFf-nim82zII3R4S_2JSdEiBKYEi3pDuSavIzrzPPRzeLGtnMjFD_5s330Mg" autocomplete="off">      <input type="hidden" name="repository_id" value="71762267">
      <input type="hidden" name="thread_id" value="108953700">
      <input type="hidden" name="thread_class" value="Gist">
      <input type="hidden" name="id" value="subscribe">
        <button data-disable-with="" aria-describedby="notification-subscribe-button-reason" type="submit" data-view-component="true" class="thread-subscribe-button btn-sm btn btn-block">    <svg aria-hidden="true" height="16" viewBox="0 0 16 16" version="1.1" width="16" data-view-component="true" class="octicon octicon-bell mr-2">
    <path d="M8 16a2 2 0 001.985-1.75c.017-.137-.097-.25-.235-.25h-3.5c-.138 0-.252.113-.235.25A2 2 0 008 16z"></path><path fill-rule="evenodd" d="M8 1.5A3.5 3.5 0 004.5 5v2.947c0 .346-.102.683-.294.97l-1.703 2.556a.018.018 0 00-.003.01l.001.006c0 .002.002.004.004.006a.017.017 0 00.006.004l.007.001h10.964l.007-.001a.016.016 0 00.006-.004.016.016 0 00.004-.006l.001-.007a.017.017 0 00-.003-.01l-1.703-2.554a1.75 1.75 0 01-.294-.97V5A3.5 3.5 0 008 1.5zM3 5a5 5 0 0110 0v2.947c0 .05.015.098.042.139l1.703 2.555A1.518 1.518 0 0113.482 13H2.518a1.518 1.518 0 01-1.263-2.36l1.703-2.554A.25.25 0 003 7.947V5z"></path>
</svg>Subscribe
</button></form></div>

        </li>

      <li>
            <template class="js-unstar-confirmation-dialog-template"></template>

  <div data-view-component="true" class="js-toggler-container js-social-container starring-container d-block">
    <div data-view-component="true" class="starred flex-1">
      <form class="js-social-form width-full" data-turbo="false" action="https://gist.github.com/perlineanisha/a095ff17abce95212da043f9c5e05909/unstar" accept-charset="UTF-8" method="post"><input type="hidden" name="authenticity_token" value="aJw_EhQc7md6iH5ikb8JFwisL45-yuI7goR5oxgmp576JkTUkxibKTB94cUdDn_v6vedf8BkXWFpGiDsDs3elA" autocomplete="off">
        <input type="hidden" name="context" value="gist">
          <button data-ga-click="Repository, click unstar button, action:gists/gists#show; text:Unstar" aria-label="Unstar this gist" type="submit" data-view-component="true" class="btn-with-count js-toggler-target btn-sm btn">    <svg aria-hidden="true" height="16" viewBox="0 0 16 16" version="1.1" width="16" data-view-component="true" class="octicon octicon-star-fill d-inline-block mr-2">
    <path fill-rule="evenodd" d="M8 .25a.75.75 0 01.673.418l1.882 3.815 4.21.612a.75.75 0 01.416 1.279l-3.046 2.97.719 4.192a.75.75 0 01-1.088.791L8 12.347l-3.766 1.98a.75.75 0 01-1.088-.79l.72-4.194L.818 6.374a.75.75 0 01.416-1.28l4.21-.611L7.327.668A.75.75 0 018 .25z"></path>
</svg><span data-view-component="true" class="d-inline">
            Unstar
</span>
</button>          <a class="social-count js-social-count" href="https://gist.github.com/perlineanisha/a095ff17abce95212da043f9c5e05909/stargazers" aria-label="0 users starred this repository" data-singular-suffix="user starred this repository" data-plural-suffix="users starred this repository">
            0
          </a>
</form></div>
    <div data-view-component="true" class="unstarred flex-1">
      <form class="js-social-form width-full" data-turbo="false" action="https://gist.github.com/perlineanisha/a095ff17abce95212da043f9c5e05909/star" accept-charset="UTF-8" method="post"><input type="hidden" name="authenticity_token" value="iUVbF82g_pFtaU_2Wu_kMbyNuQWq0bOG9vAjaev01vZGbFSVwX_c4IDIzN5RQGBMSuvv70Or67cDVo_qx_rckQ" autocomplete="off">
        <input type="hidden" name="context" value="gist">
          <button data-ga-click="Repository, click star button, action:gists/gists#show; text:Star" aria-label="Star this gist" type="submit" data-view-component="true" class="js-toggler-target btn-with-count btn-sm btn">    <svg aria-hidden="true" height="16" viewBox="0 0 16 16" version="1.1" width="16" data-view-component="true" class="octicon octicon-star d-inline-block mr-2">
    <path fill-rule="evenodd" d="M8 .25a.75.75 0 01.673.418l1.882 3.815 4.21.612a.75.75 0 01.416 1.279l-3.046 2.97.719 4.192a.75.75 0 01-1.088.791L8 12.347l-3.766 1.98a.75.75 0 01-1.088-.79l.72-4.194L.818 6.374a.75.75 0 01.416-1.28l4.21-.611L7.327.668A.75.75 0 018 .25zm0 2.445L6.615 5.5a.75.75 0 01-.564.41l-3.097.45 2.24 2.184a.75.75 0 01.216.664l-.528 3.084 2.769-1.456a.75.75 0 01.698 0l2.77 1.456-.53-3.084a.75.75 0 01.216-.664l2.24-2.183-3.096-.45a.75.75 0 01-.564-.41L8 2.694v.001z"></path>
</svg><span data-view-component="true" class="d-inline">
            Star
</span>
</button>          <a class="social-count js-social-count" href="https://gist.github.com/perlineanisha/a095ff17abce95212da043f9c5e05909/stargazers" aria-label="0 users starred this repository" data-singular-suffix="user starred this repository" data-plural-suffix="users starred this repository">
            0
          </a>
</form></div></div>

      </li>

        <li>
            <!-- '"` --><!-- </textarea></xmp> --><form data-turbo="false" action="https://gist.github.com/perlineanisha/a095ff17abce95212da043f9c5e05909/fork" accept-charset="UTF-8" method="post"><input type="hidden" name="authenticity_token" value="roe4Yaj7eIgGjR0CAsyxDKzTM_oLhRV1fqOxs06rz27MMR26uleg2g00Cm6fIoVBIjOIQuBzwJxuOiccCICLVQ">
      <button type="submit" data-view-component="true" class="btn-with-count btn-sm btn">    <svg aria-hidden="true" height="16" viewBox="0 0 16 16" version="1.1" width="16" data-view-component="true" class="octicon octicon-repo-forked">
    <path fill-rule="evenodd" d="M5 3.25a.75.75 0 11-1.5 0 .75.75 0 011.5 0zm0 2.122a2.25 2.25 0 10-1.5 0v.878A2.25 2.25 0 005.75 8.5h1.5v2.128a2.251 2.251 0 101.5 0V8.5h1.5a2.25 2.25 0 002.25-2.25v-.878a2.25 2.25 0 10-1.5 0v.878a.75.75 0 01-.75.75h-4.5A.75.75 0 015 6.25v-.878zm3.75 7.378a.75.75 0 11-1.5 0 .75.75 0 011.5 0zm3-8.75a.75.75 0 100-1.5.75.75 0 000 1.5z"></path>
</svg>
      Fork
</button>      <span class="social-count">0</span>
</form>
        </li>
  </ul>
</div>

  <div class="d-block d-md-none px-3 px-md-3 px-lg-5 mb-3">
        <template class="js-unstar-confirmation-dialog-template"></template>

  <div data-view-component="true" class="js-toggler-container js-social-container starring-container d-block">
    <div data-view-component="true" class="starred flex-1">
      <form class="js-social-form width-full" data-turbo="false" action="https://gist.github.com/perlineanisha/a095ff17abce95212da043f9c5e05909/unstar" accept-charset="UTF-8" method="post"><input type="hidden" name="authenticity_token" value="m_lc6AfnUQG6Xc1OBmJPxHdJjAL7Ol3cIxbeCRfF3GIJQycugOMkT_CoUumK0zk8lRI-80WU4obIiIdGAS6laA" autocomplete="off">
        <input type="hidden" name="context" value="gist">
          <button data-ga-click="Repository, click unstar button, action:gists/gists#show; text:Unstar" aria-label="Unstar this gist" type="submit" data-view-component="true" class="js-toggler-target btn-sm btn btn-block">    <svg aria-hidden="true" height="16" viewBox="0 0 16 16" version="1.1" width="16" data-view-component="true" class="octicon octicon-star-fill d-inline-block mr-2">
    <path fill-rule="evenodd" d="M8 .25a.75.75 0 01.673.418l1.882 3.815 4.21.612a.75.75 0 01.416 1.279l-3.046 2.97.719 4.192a.75.75 0 01-1.088.791L8 12.347l-3.766 1.98a.75.75 0 01-1.088-.79l.72-4.194L.818 6.374a.75.75 0 01.416-1.28l4.21-.611L7.327.668A.75.75 0 018 .25z"></path>
</svg><span data-view-component="true" class="d-inline">
            Unstar
</span>
</button></form></div>
    <div data-view-component="true" class="unstarred flex-1">
      <form class="js-social-form width-full" data-turbo="false" action="https://gist.github.com/perlineanisha/a095ff17abce95212da043f9c5e05909/star" accept-charset="UTF-8" method="post"><input type="hidden" name="authenticity_token" value="8Gkjxq7Iij8KSbhbI7izPgc7Yh6lYZNv5-yfGqMkz-g_QCxEoheoTufoO3MoFzdD8V009Ewby14SSjOZjyrFjw" autocomplete="off">
        <input type="hidden" name="context" value="gist">
          <button data-ga-click="Repository, click star button, action:gists/gists#show; text:Star" aria-label="Star this gist" type="submit" data-view-component="true" class="js-toggler-target btn-sm btn btn-block">    <svg aria-hidden="true" height="16" viewBox="0 0 16 16" version="1.1" width="16" data-view-component="true" class="octicon octicon-star d-inline-block mr-2">
    <path fill-rule="evenodd" d="M8 .25a.75.75 0 01.673.418l1.882 3.815 4.21.612a.75.75 0 01.416 1.279l-3.046 2.97.719 4.192a.75.75 0 01-1.088.791L8 12.347l-3.766 1.98a.75.75 0 01-1.088-.79l.72-4.194L.818 6.374a.75.75 0 01.416-1.28l4.21-.611L7.327.668A.75.75 0 018 .25zm0 2.445L6.615 5.5a.75.75 0 01-.564.41l-3.097.45 2.24 2.184a.75.75 0 01.216.664l-.528 3.084 2.769-1.456a.75.75 0 01.698 0l2.77 1.456-.53-3.084a.75.75 0 01.216-.664l2.24-2.183-3.096-.45a.75.75 0 01-.564-.41L8 2.694v.001z"></path>
</svg><span data-view-component="true" class="d-inline">
            Star
</span>
</button></form></div></div>

  </div>

<div class="d-flex flex-md-row flex-column px-0 pr-md-3 px-lg-5">
  <div class="flex-md-order-1 flex-order-2 flex-auto">
    <nav class="UnderlineNav box-shadow-none px-3 px-lg-0 " aria-label="Gist" data-pjax="#gist-pjax-container">

  <div class="UnderlineNav-body">
    <a class="js-selected-navigation-item selected UnderlineNav-item" data-pjax="true" data-hotkey="g c" aria-current="page" data-selected-links="gist_code /perlineanisha/a095ff17abce95212da043f9c5e05909" href="https://gist.github.com/perlineanisha/a095ff17abce95212da043f9c5e05909">
      <svg aria-hidden="true" height="16" viewBox="0 0 16 16" version="1.1" width="16" data-view-component="true" class="octicon octicon-code UnderlineNav-octicon">
    <path fill-rule="evenodd" d="M4.72 3.22a.75.75 0 011.06 1.06L2.06 8l3.72 3.72a.75.75 0 11-1.06 1.06L.47 8.53a.75.75 0 010-1.06l4.25-4.25zm6.56 0a.75.75 0 10-1.06 1.06L13.94 8l-3.72 3.72a.75.75 0 101.06 1.06l4.25-4.25a.75.75 0 000-1.06l-4.25-4.25z"></path>
</svg>
      Code
</a>
      <a class="js-selected-navigation-item UnderlineNav-item" data-pjax="true" data-hotkey="g r" data-selected-links="gist_revisions /perlineanisha/a095ff17abce95212da043f9c5e05909/revisions" href="https://gist.github.com/perlineanisha/a095ff17abce95212da043f9c5e05909/revisions">
        <svg aria-hidden="true" height="16" viewBox="0 0 16 16" version="1.1" width="16" data-view-component="true" class="octicon octicon-git-commit">
    <path fill-rule="evenodd" d="M10.5 7.75a2.5 2.5 0 11-5 0 2.5 2.5 0 015 0zm1.43.75a4.002 4.002 0 01-7.86 0H.75a.75.75 0 110-1.5h3.32a4.001 4.001 0 017.86 0h3.32a.75.75 0 110 1.5h-3.32z"></path>
</svg>
        Revisions
        <span title="1" data-view-component="true" class="Counter hx_reponav_item_counter">1</span>
</a>

  </div>
</nav>

  </div>

  <div class="d-md-flex d-none flex-items-center flex-md-order-2 flex-order-1 file-navigation-options" data-multiple="">

    <div class="d-lg-table d-none">
      <div class="file-navigation-option v-align-middle">

  <div class="d-md-flex d-none">
    <div class="input-group">
      <div class="input-group-button">
        <details class="details-reset details-overlay select-menu">
            <summary data-ga-click="Repository, clone Embed, location:repo overview" data-view-component="true" class="select-menu-button btn-sm btn" aria-haspopup="menu" role="button">    <span data-menu-button="">Embed</span>
</summary>          <details-menu class="select-menu-modal position-absolute" data-menu-input="gist-share-url" style="z-index: 99;" aria-label="Clone options" role="menu">
            <div class="select-menu-header">
              <span class="select-menu-title">What would you like to do?</span>
            </div>
            <div class="select-menu-list">
                <button name="button" type="button" class="select-menu-item width-full" aria-checked="true" role="menuitemradio" value="&lt;script src=&quot;https://gist.github.com/perlineanisha/a095ff17abce95212da043f9c5e05909.js&quot;&gt;&lt;/script&gt;" data-hydro-click="{&quot;event_type&quot;:&quot;clone_or_download.click&quot;,&quot;payload&quot;:{&quot;feature_clicked&quot;:&quot;EMBED&quot;,&quot;git_repository_type&quot;:&quot;GIST&quot;,&quot;gist_id&quot;:108953700,&quot;originating_url&quot;:&quot;https://gist.github.com/perlineanisha/a095ff17abce95212da043f9c5e05909?short_path=11c46c6&quot;,&quot;user_id&quot;:111117662}}" data-hydro-click-hmac="93522a04deffd759abafeed3f51425988a795d8361aa7f317a45185ab8fa676d">
                  <svg aria-hidden="true" height="16" viewBox="0 0 16 16" version="1.1" width="16" data-view-component="true" class="octicon octicon-check select-menu-item-icon">
    <path fill-rule="evenodd" d="M13.78 4.22a.75.75 0 010 1.06l-7.25 7.25a.75.75 0 01-1.06 0L2.22 9.28a.75.75 0 011.06-1.06L6 10.94l6.72-6.72a.75.75 0 011.06 0z"></path>
</svg>
                  <div class="select-menu-item-text">
                    <span class="select-menu-item-heading" data-menu-button-text="">
                      
                      Embed
                    </span>
                      <span class="description">
                        Embed this gist in your website.
                      </span>
                  </div>
</button>                <button name="button" type="button" class="select-menu-item width-full" aria-checked="false" role="menuitemradio" value="https://gist.github.com/perlineanisha/a095ff17abce95212da043f9c5e05909" data-hydro-click="{&quot;event_type&quot;:&quot;clone_or_download.click&quot;,&quot;payload&quot;:{&quot;feature_clicked&quot;:&quot;SHARE&quot;,&quot;git_repository_type&quot;:&quot;GIST&quot;,&quot;gist_id&quot;:108953700,&quot;originating_url&quot;:&quot;https://gist.github.com/perlineanisha/a095ff17abce95212da043f9c5e05909?short_path=11c46c6&quot;,&quot;user_id&quot;:111117662}}" data-hydro-click-hmac="fa32cf1f97b31b950c5b7148651bb6f06bd5ab19944555b4aa07d305adaa0428">
                  <svg aria-hidden="true" height="16" viewBox="0 0 16 16" version="1.1" width="16" data-view-component="true" class="octicon octicon-check select-menu-item-icon">
    <path fill-rule="evenodd" d="M13.78 4.22a.75.75 0 010 1.06l-7.25 7.25a.75.75 0 01-1.06 0L2.22 9.28a.75.75 0 011.06-1.06L6 10.94l6.72-6.72a.75.75 0 011.06 0z"></path>
</svg>
                  <div class="select-menu-item-text">
                    <span class="select-menu-item-heading" data-menu-button-text="">
                      
                      Share
                    </span>
                      <span class="description">
                        Copy sharable link for this gist.
                      </span>
                  </div>
</button>                <button name="button" type="button" class="select-menu-item width-full" aria-checked="false" role="menuitemradio" value="https://gist.github.com/a095ff17abce95212da043f9c5e05909.git" data-hydro-click="{&quot;event_type&quot;:&quot;clone_or_download.click&quot;,&quot;payload&quot;:{&quot;feature_clicked&quot;:&quot;USE_HTTPS&quot;,&quot;git_repository_type&quot;:&quot;GIST&quot;,&quot;gist_id&quot;:108953700,&quot;originating_url&quot;:&quot;https://gist.github.com/perlineanisha/a095ff17abce95212da043f9c5e05909?short_path=11c46c6&quot;,&quot;user_id&quot;:111117662}}" data-hydro-click-hmac="d9cc066e1ffabdaf47e53a668764e3c3d7c28edd37f8885c3eb7a445bd6e2c26">
                  <svg aria-hidden="true" height="16" viewBox="0 0 16 16" version="1.1" width="16" data-view-component="true" class="octicon octicon-check select-menu-item-icon">
    <path fill-rule="evenodd" d="M13.78 4.22a.75.75 0 010 1.06l-7.25 7.25a.75.75 0 01-1.06 0L2.22 9.28a.75.75 0 011.06-1.06L6 10.94l6.72-6.72a.75.75 0 011.06 0z"></path>
</svg>
                  <div class="select-menu-item-text">
                    <span class="select-menu-item-heading" data-menu-button-text="">
                      Clone via
                      HTTPS
                    </span>
                      <span class="description">
                        Clone with Git or checkout with SVN using the repository’s web address.
                      </span>
                  </div>
</button>                <button name="button" type="button" class="select-menu-item width-full" aria-checked="false" role="menuitemradio" value="git@gist.github.com:a095ff17abce95212da043f9c5e05909.git" data-hydro-click="{&quot;event_type&quot;:&quot;clone_or_download.click&quot;,&quot;payload&quot;:{&quot;feature_clicked&quot;:&quot;USE_SSH&quot;,&quot;git_repository_type&quot;:&quot;GIST&quot;,&quot;gist_id&quot;:108953700,&quot;originating_url&quot;:&quot;https://gist.github.com/perlineanisha/a095ff17abce95212da043f9c5e05909?short_path=11c46c6&quot;,&quot;user_id&quot;:111117662}}" data-hydro-click-hmac="60e9837866e069b15ce17f94bbe75be7c310be57febb171d3c11d6df8972860a">
                  <svg aria-hidden="true" height="16" viewBox="0 0 16 16" version="1.1" width="16" data-view-component="true" class="octicon octicon-check select-menu-item-icon">
    <path fill-rule="evenodd" d="M13.78 4.22a.75.75 0 010 1.06l-7.25 7.25a.75.75 0 01-1.06 0L2.22 9.28a.75.75 0 011.06-1.06L6 10.94l6.72-6.72a.75.75 0 011.06 0z"></path>
</svg>
                  <div class="select-menu-item-text">
                    <span class="select-menu-item-heading" data-menu-button-text="">
                      Clone via
                      SSH
                    </span>
                      <span class="description">
                        Clone with an SSH key and passphrase from your GitHub settings.
                      </span>
                  </div>
</button>            </div>
            <div class="select-menu-list">
              <a role="link" class="select-menu-item select-menu-action" href="https://docs.github.com/articles/which-remote-url-should-i-use" target="_blank">
                <svg aria-hidden="true" height="16" viewBox="0 0 16 16" version="1.1" width="16" data-view-component="true" class="octicon octicon-question select-menu-item-icon">
    <path fill-rule="evenodd" d="M8 1.5a6.5 6.5 0 100 13 6.5 6.5 0 000-13zM0 8a8 8 0 1116 0A8 8 0 010 8zm9 3a1 1 0 11-2 0 1 1 0 012 0zM6.92 6.085c.081-.16.19-.299.34-.398.145-.097.371-.187.74-.187.28 0 .553.087.738.225A.613.613 0 019 6.25c0 .177-.04.264-.077.318a.956.956 0 01-.277.245c-.076.051-.158.1-.258.161l-.007.004a7.728 7.728 0 00-.313.195 2.416 2.416 0 00-.692.661.75.75 0 001.248.832.956.956 0 01.276-.245 6.3 6.3 0 01.26-.16l.006-.004c.093-.057.204-.123.313-.195.222-.149.487-.355.692-.662.214-.32.329-.702.329-1.15 0-.76-.36-1.348-.863-1.725A2.76 2.76 0 008 4c-.631 0-1.155.16-1.572.438-.413.276-.68.638-.849.977a.75.75 0 101.342.67z"></path>
</svg>
                <div class="select-menu-item-text">
                  Learn more about clone URLs
                </div>
              </a>
            </div>
          </details-menu>
        </details>
      </div>

      <input id="gist-share-url" type="text" data-autoselect="" class="form-control input-monospace input-sm" value="&lt;script src=&quot;https://gist.github.com/perlineanisha/a095ff17abce95212da043f9c5e05909.js&quot;&gt;&lt;/script&gt;" aria-label="Clone this repository at &lt;script src=&quot;https://gist.github.com/perlineanisha/a095ff17abce95212da043f9c5e05909.js&quot;&gt;&lt;/script&gt;" readonly="">

      <div class="input-group-button">
        <clipboard-copy for="gist-share-url" aria-label="Copy to clipboard" class="btn btn-sm zeroclipboard-button" data-hydro-click="{&quot;event_type&quot;:&quot;clone_or_download.click&quot;,&quot;payload&quot;:{&quot;feature_clicked&quot;:&quot;COPY_URL&quot;,&quot;git_repository_type&quot;:&quot;GIST&quot;,&quot;gist_id&quot;:108953700,&quot;originating_url&quot;:&quot;https://gist.github.com/perlineanisha/a095ff17abce95212da043f9c5e05909?short_path=11c46c6&quot;,&quot;user_id&quot;:111117662}}" data-hydro-click-hmac="2689784d20b8078f2141a67cfc6acf8479017c279eca5e7fd29986bf95937b8b" tabindex="0" role="button"><svg aria-hidden="true" height="16" viewBox="0 0 16 16" version="1.1" width="16" data-view-component="true" class="octicon octicon-copy">
    <path fill-rule="evenodd" d="M0 6.75C0 5.784.784 5 1.75 5h1.5a.75.75 0 010 1.5h-1.5a.25.25 0 00-.25.25v7.5c0 .138.112.25.25.25h7.5a.25.25 0 00.25-.25v-1.5a.75.75 0 011.5 0v1.5A1.75 1.75 0 019.25 16h-7.5A1.75 1.75 0 010 14.25v-7.5z"></path><path fill-rule="evenodd" d="M5 1.75C5 .784 5.784 0 6.75 0h7.5C15.216 0 16 .784 16 1.75v7.5A1.75 1.75 0 0114.25 11h-7.5A1.75 1.75 0 015 9.25v-7.5zm1.75-.25a.25.25 0 00-.25.25v7.5c0 .138.112.25.25.25h7.5a.25.25 0 00.25-.25v-7.5a.25.25 0 00-.25-.25h-7.5z"></path>
</svg></clipboard-copy>
      </div>
    </div>
  </div>
</div>

    </div>

    <div class="ml-2 file-navigation-option">
    <a class="btn btn-sm tooltipped tooltipped-s tooltipped-multiline js-remove-unless-platform" data-platforms="windows,mac" aria-label="Save perlineanisha/a095ff17abce95212da043f9c5e05909 to your computer and use it in GitHub Desktop." data-hydro-click="{&quot;event_type&quot;:&quot;clone_or_download.click&quot;,&quot;payload&quot;:{&quot;feature_clicked&quot;:&quot;OPEN_IN_DESKTOP&quot;,&quot;git_repository_type&quot;:&quot;GIST&quot;,&quot;gist_id&quot;:108953700,&quot;originating_url&quot;:&quot;https://gist.github.com/perlineanisha/a095ff17abce95212da043f9c5e05909?short_path=11c46c6&quot;,&quot;user_id&quot;:111117662}}" data-hydro-click-hmac="cf5de3bce06b30995056603a939dd22b43f377f5b8b77557588e66337f492ae0" href="x-github-client://openRepo/https://gist.github.com/a095ff17abce95212da043f9c5e05909"><svg aria-hidden="true" height="16" viewBox="0 0 16 16" version="1.1" width="16" data-view-component="true" class="octicon octicon-desktop-download">
    <path d="M4.927 5.427l2.896 2.896a.25.25 0 00.354 0l2.896-2.896A.25.25 0 0010.896 5H8.75V.75a.75.75 0 10-1.5 0V5H5.104a.25.25 0 00-.177.427z"></path><path d="M1.573 2.573a.25.25 0 00-.073.177v7.5a.25.25 0 00.25.25h12.5a.25.25 0 00.25-.25v-7.5a.25.25 0 00-.25-.25h-3a.75.75 0 110-1.5h3A1.75 1.75 0 0116 2.75v7.5A1.75 1.75 0 0114.25 12h-3.727c.099 1.041.52 1.872 1.292 2.757A.75.75 0 0111.25 16h-6.5a.75.75 0 01-.565-1.243c.772-.885 1.192-1.716 1.292-2.757H1.75A1.75 1.75 0 010 10.25v-7.5A1.75 1.75 0 011.75 1h3a.75.75 0 010 1.5h-3a.25.25 0 00-.177.073zM6.982 12a5.72 5.72 0 01-.765 2.5h3.566a5.72 5.72 0 01-.765-2.5H6.982z"></path>
</svg></a>
</div>


    <div class="ml-2">
      <a class="btn btn-sm" rel="nofollow" data-hydro-click="{&quot;event_type&quot;:&quot;clone_or_download.click&quot;,&quot;payload&quot;:{&quot;feature_clicked&quot;:&quot;DOWNLOAD_ZIP&quot;,&quot;git_repository_type&quot;:&quot;GIST&quot;,&quot;gist_id&quot;:108953700,&quot;originating_url&quot;:&quot;https://gist.github.com/perlineanisha/a095ff17abce95212da043f9c5e05909?short_path=11c46c6&quot;,&quot;user_id&quot;:111117662}}" data-hydro-click-hmac="e14aa1b7e941f7e4ada45d99c23b86a107cdfce68cef598ba026e0ad4aaf28ce" data-ga-click="Gist, download zip, location:gist overview" href="https://gist.github.com/perlineanisha/a095ff17abce95212da043f9c5e05909/archive/8b39c05ebe8252fd9bde2e7ebb1096a84bf299bf.zip">Download ZIP</a>
    </div>
  </div>
</div>


  </div>
</div>

<div class="container-lg px-3">
  <div class="repository-content gist-content">
    
  <div>
      <div itemprop="about">
    Assignment 11 - Text Mining.ipynb
  </div>

        <div class="js-gist-file-update-container js-task-list-container file-box">
  <div id="file-assignment-11-text-mining-ipynb" class="file my-2">
      <div class="file-header d-flex flex-md-items-center flex-items-start">
        <div class="file-actions flex-order-2 pt-0">
            <div class="BtnGroup">
              <a class="btn btn-sm BtnGroup-item tooltipped tooltipped tooltipped-n source selected" href="https://gist.github.com/perlineanisha/a095ff17abce95212da043f9c5e05909?short_path=11c46c6" aria-label="Display the source blob"><svg aria-hidden="true" height="16" viewBox="0 0 16 16" version="1.1" width="16" data-view-component="true" class="octicon octicon-code">
    <path fill-rule="evenodd" d="M4.72 3.22a.75.75 0 011.06 1.06L2.06 8l3.72 3.72a.75.75 0 11-1.06 1.06L.47 8.53a.75.75 0 010-1.06l4.25-4.25zm6.56 0a.75.75 0 10-1.06 1.06L13.94 8l-3.72 3.72a.75.75 0 101.06 1.06l4.25-4.25a.75.75 0 000-1.06l-4.25-4.25z"></path>
</svg></a>
              <a class="btn btn-sm BtnGroup-item tooltipped tooltipped-n rendered" href="https://gist.github.com/perlineanisha/a095ff17abce95212da043f9c5e05909" aria-label="Display the rendered blob"><svg aria-hidden="true" height="16" viewBox="0 0 16 16" version="1.1" width="16" data-view-component="true" class="octicon octicon-file">
    <path fill-rule="evenodd" d="M3.75 1.5a.25.25 0 00-.25.25v12.5c0 .138.112.25.25.25h9.5a.25.25 0 00.25-.25V6h-2.75A1.75 1.75 0 019 4.25V1.5H3.75zm6.75.062V4.25c0 .138.112.25.25.25h2.688a.252.252 0 00-.011-.013l-2.914-2.914a.272.272 0 00-.013-.011zM2 1.75C2 .784 2.784 0 3.75 0h6.586c.464 0 .909.184 1.237.513l2.914 2.914c.329.328.513.773.513 1.237v9.586A1.75 1.75 0 0113.25 16h-9.5A1.75 1.75 0 012 14.25V1.75z"></path>
</svg></a>
            </div>

            <a href="https://gist.github.com/perlineanisha/a095ff17abce95212da043f9c5e05909/raw/8b39c05ebe8252fd9bde2e7ebb1096a84bf299bf/Assignment%252011%2520-%2520Text%2520Mining.ipynb" data-view-component="true" class="btn-sm btn">    Raw
</a>
        </div>
        <div class="file-info pr-4 d-flex flex-md-items-center flex-items-start flex-order-1 flex-auto">
          <span class="mr-1">
            <svg aria-hidden="true" height="16" viewBox="0 0 16 16" version="1.1" width="16" data-view-component="true" class="octicon octicon-code-square color-fg-muted">
    <path fill-rule="evenodd" d="M1.75 1.5a.25.25 0 00-.25.25v12.5c0 .138.112.25.25.25h12.5a.25.25 0 00.25-.25V1.75a.25.25 0 00-.25-.25H1.75zM0 1.75C0 .784.784 0 1.75 0h12.5C15.216 0 16 .784 16 1.75v12.5A1.75 1.75 0 0114.25 16H1.75A1.75 1.75 0 010 14.25V1.75zm9.22 3.72a.75.75 0 000 1.06L10.69 8 9.22 9.47a.75.75 0 101.06 1.06l2-2a.75.75 0 000-1.06l-2-2a.75.75 0 00-1.06 0zM6.78 6.53a.75.75 0 00-1.06-1.06l-2 2a.75.75 0 000 1.06l2 2a.75.75 0 101.06-1.06L5.31 8l1.47-1.47z"></path>
</svg>
          </span>
          <a class="wb-break-all" href="https://gist.github.com/perlineanisha/a095ff17abce95212da043f9c5e05909?short_path=11c46c6#file-assignment-11-text-mining-ipynb">
            <strong class="user-select-contain gist-blob-name css-truncate-target">
              Assignment 11 - Text Mining.ipynb
            </strong>
          </a>
        </div>
      </div>
    
    <div itemprop="text" class="Box-body p-0 blob-wrapper data type-jupyter-notebook  gist-border-0">

        
<div class="js-blob-code-container blob-code-content">

  <template class="js-file-alert-template"></template>
<template class="js-line-alert-template"></template>

  <table data-hpc="" class="highlight tab-size js-file-line-container js-code-nav-container js-tagsearch-file" data-tab-size="8" data-paste-markdown-skip="" data-tagsearch-lang="Jupyter Notebook" data-tagsearch-path="Assignment 11 - Text Mining.ipynb">
        <tbody><tr>
          <td id="file-assignment-11-text-mining-ipynb-L1" class="blob-num js-line-number js-code-nav-line-number js-blob-rnum" data-line-number="1"></td>
          <td id="file-assignment-11-text-mining-ipynb-LC1" class="blob-code blob-code-inner js-file-line">{</td>
        </tr>
        <tr>
          <td id="file-assignment-11-text-mining-ipynb-L2" class="blob-num js-line-number js-code-nav-line-number js-blob-rnum" data-line-number="2"></td>
          <td id="file-assignment-11-text-mining-ipynb-LC2" class="blob-code blob-code-inner js-file-line">  <span class="pl-ent">"cells"</span>: [</td>
        </tr>
        <tr>
          <td id="file-assignment-11-text-mining-ipynb-L3" class="blob-num js-line-number js-code-nav-line-number js-blob-rnum" data-line-number="3"></td>
          <td id="file-assignment-11-text-mining-ipynb-LC3" class="blob-code blob-code-inner js-file-line">    {</td>
        </tr>
        <tr>
          <td id="file-assignment-11-text-mining-ipynb-L4" class="blob-num js-line-number js-code-nav-line-number js-blob-rnum" data-line-number="4"></td>
          <td id="file-assignment-11-text-mining-ipynb-LC4" class="blob-code blob-code-inner js-file-line">      <span class="pl-ent">"metadata"</span>: {},</td>
        </tr>
        <tr>
          <td id="file-assignment-11-text-mining-ipynb-L5" class="blob-num js-line-number js-code-nav-line-number js-blob-rnum" data-line-number="5"></td>
          <td id="file-assignment-11-text-mining-ipynb-LC5" class="blob-code blob-code-inner js-file-line">      <span class="pl-ent">"cell_type"</span>: <span class="pl-s"><span class="pl-pds">"</span>markdown<span class="pl-pds">"</span></span>,</td>
        </tr>
        <tr>
          <td id="file-assignment-11-text-mining-ipynb-L6" class="blob-num js-line-number js-code-nav-line-number js-blob-rnum" data-line-number="6"></td>
          <td id="file-assignment-11-text-mining-ipynb-LC6" class="blob-code blob-code-inner js-file-line">      <span class="pl-ent">"source"</span>: <span class="pl-s"><span class="pl-pds">"</span>For Text Mining assignment<span class="pl-cce">\n\n</span>ONE: 1) Perform sentimental analysis on the Elon-musk tweets (Exlon-musk.csv)<span class="pl-cce">\n\n</span>TWO: 1) Extract reviews of any product from ecommerce website like amazon<span class="pl-cce">\n\n</span>2) Perform emotion mining<span class="pl-pds">"</span></span></td>
        </tr>
        <tr>
          <td id="file-assignment-11-text-mining-ipynb-L7" class="blob-num js-line-number js-code-nav-line-number js-blob-rnum" data-line-number="7"></td>
          <td id="file-assignment-11-text-mining-ipynb-LC7" class="blob-code blob-code-inner js-file-line">    },</td>
        </tr>
        <tr>
          <td id="file-assignment-11-text-mining-ipynb-L8" class="blob-num js-line-number js-code-nav-line-number js-blob-rnum" data-line-number="8"></td>
          <td id="file-assignment-11-text-mining-ipynb-LC8" class="blob-code blob-code-inner js-file-line">    {</td>
        </tr>
        <tr>
          <td id="file-assignment-11-text-mining-ipynb-L9" class="blob-num js-line-number js-code-nav-line-number js-blob-rnum" data-line-number="9"></td>
          <td id="file-assignment-11-text-mining-ipynb-LC9" class="blob-code blob-code-inner js-file-line">      <span class="pl-ent">"metadata"</span>: {},</td>
        </tr>
        <tr>
          <td id="file-assignment-11-text-mining-ipynb-L10" class="blob-num js-line-number js-code-nav-line-number js-blob-rnum" data-line-number="10"></td>
          <td id="file-assignment-11-text-mining-ipynb-LC10" class="blob-code blob-code-inner js-file-line">      <span class="pl-ent">"cell_type"</span>: <span class="pl-s"><span class="pl-pds">"</span>markdown<span class="pl-pds">"</span></span>,</td>
        </tr>
        <tr>
          <td id="file-assignment-11-text-mining-ipynb-L11" class="blob-num js-line-number js-code-nav-line-number js-blob-rnum" data-line-number="11"></td>
          <td id="file-assignment-11-text-mining-ipynb-LC11" class="blob-code blob-code-inner js-file-line">      <span class="pl-ent">"source"</span>: <span class="pl-s"><span class="pl-pds">"</span># Text Mining - Assignment 11<span class="pl-pds">"</span></span></td>
        </tr>
        <tr>
          <td id="file-assignment-11-text-mining-ipynb-L12" class="blob-num js-line-number js-code-nav-line-number js-blob-rnum" data-line-number="12"></td>
          <td id="file-assignment-11-text-mining-ipynb-LC12" class="blob-code blob-code-inner js-file-line">    },</td>
        </tr>
        <tr>
          <td id="file-assignment-11-text-mining-ipynb-L13" class="blob-num js-line-number js-code-nav-line-number js-blob-rnum" data-line-number="13"></td>
          <td id="file-assignment-11-text-mining-ipynb-LC13" class="blob-code blob-code-inner js-file-line">    {</td>
        </tr>
        <tr>
          <td id="file-assignment-11-text-mining-ipynb-L14" class="blob-num js-line-number js-code-nav-line-number js-blob-rnum" data-line-number="14"></td>
          <td id="file-assignment-11-text-mining-ipynb-LC14" class="blob-code blob-code-inner js-file-line">      <span class="pl-ent">"metadata"</span>: {</td>
        </tr>
        <tr>
          <td id="file-assignment-11-text-mining-ipynb-L15" class="blob-num js-line-number js-code-nav-line-number js-blob-rnum" data-line-number="15"></td>
          <td id="file-assignment-11-text-mining-ipynb-LC15" class="blob-code blob-code-inner js-file-line">        <span class="pl-ent">"trusted"</span>: <span class="pl-c1">false</span></td>
        </tr>
        <tr>
          <td id="file-assignment-11-text-mining-ipynb-L16" class="blob-num js-line-number js-code-nav-line-number js-blob-rnum" data-line-number="16"></td>
          <td id="file-assignment-11-text-mining-ipynb-LC16" class="blob-code blob-code-inner js-file-line">      },</td>
        </tr>
        <tr>
          <td id="file-assignment-11-text-mining-ipynb-L17" class="blob-num js-line-number js-code-nav-line-number js-blob-rnum" data-line-number="17"></td>
          <td id="file-assignment-11-text-mining-ipynb-LC17" class="blob-code blob-code-inner js-file-line">      <span class="pl-ent">"cell_type"</span>: <span class="pl-s"><span class="pl-pds">"</span>code<span class="pl-pds">"</span></span>,</td>
        </tr>
        <tr>
          <td id="file-assignment-11-text-mining-ipynb-L18" class="blob-num js-line-number js-code-nav-line-number js-blob-rnum" data-line-number="18"></td>
          <td id="file-assignment-11-text-mining-ipynb-LC18" class="blob-code blob-code-inner js-file-line">      <span class="pl-ent">"source"</span>: <span class="pl-s"><span class="pl-pds">"</span>import nltk<span class="pl-cce">\n</span>nltk.download('stopwords')<span class="pl-pds">"</span></span>,</td>
        </tr>
        <tr>
          <td id="file-assignment-11-text-mining-ipynb-L19" class="blob-num js-line-number js-code-nav-line-number js-blob-rnum" data-line-number="19"></td>
          <td id="file-assignment-11-text-mining-ipynb-LC19" class="blob-code blob-code-inner js-file-line">      <span class="pl-ent">"execution_count"</span>: <span class="pl-c1">1</span>,</td>
        </tr>
        <tr>
          <td id="file-assignment-11-text-mining-ipynb-L20" class="blob-num js-line-number js-code-nav-line-number js-blob-rnum" data-line-number="20"></td>
          <td id="file-assignment-11-text-mining-ipynb-LC20" class="blob-code blob-code-inner js-file-line">      <span class="pl-ent">"outputs"</span>: [</td>
        </tr>
        <tr>
          <td id="file-assignment-11-text-mining-ipynb-L21" class="blob-num js-line-number js-code-nav-line-number js-blob-rnum" data-line-number="21"></td>
          <td id="file-assignment-11-text-mining-ipynb-LC21" class="blob-code blob-code-inner js-file-line">        {</td>
        </tr>
        <tr>
          <td id="file-assignment-11-text-mining-ipynb-L22" class="blob-num js-line-number js-code-nav-line-number js-blob-rnum" data-line-number="22"></td>
          <td id="file-assignment-11-text-mining-ipynb-LC22" class="blob-code blob-code-inner js-file-line">          <span class="pl-ent">"name"</span>: <span class="pl-s"><span class="pl-pds">"</span>stderr<span class="pl-pds">"</span></span>,</td>
        </tr>
        <tr>
          <td id="file-assignment-11-text-mining-ipynb-L23" class="blob-num js-line-number js-code-nav-line-number js-blob-rnum" data-line-number="23"></td>
          <td id="file-assignment-11-text-mining-ipynb-LC23" class="blob-code blob-code-inner js-file-line">          <span class="pl-ent">"output_type"</span>: <span class="pl-s"><span class="pl-pds">"</span>stream<span class="pl-pds">"</span></span>,</td>
        </tr>
        <tr>
          <td id="file-assignment-11-text-mining-ipynb-L24" class="blob-num js-line-number js-code-nav-line-number js-blob-rnum" data-line-number="24"></td>
          <td id="file-assignment-11-text-mining-ipynb-LC24" class="blob-code blob-code-inner js-file-line">          <span class="pl-ent">"text"</span>: <span class="pl-s"><span class="pl-pds">"</span>[nltk_data] Downloading package stopwords to<span class="pl-cce">\n</span>[nltk_data]     C:<span class="pl-cce">\\</span>Users<span class="pl-cce">\\</span>perline.anisha<span class="pl-cce">\\</span>AppData<span class="pl-cce">\\</span>Roaming<span class="pl-cce">\\</span>nltk_data...<span class="pl-cce">\n</span>[nltk_data]   Package stopwords is already up-to-date!<span class="pl-cce">\n</span><span class="pl-pds">"</span></span></td>
        </tr>
        <tr>
          <td id="file-assignment-11-text-mining-ipynb-L25" class="blob-num js-line-number js-code-nav-line-number js-blob-rnum" data-line-number="25"></td>
          <td id="file-assignment-11-text-mining-ipynb-LC25" class="blob-code blob-code-inner js-file-line">        },</td>
        </tr>
        <tr>
          <td id="file-assignment-11-text-mining-ipynb-L26" class="blob-num js-line-number js-code-nav-line-number js-blob-rnum" data-line-number="26"></td>
          <td id="file-assignment-11-text-mining-ipynb-LC26" class="blob-code blob-code-inner js-file-line">        {</td>
        </tr>
        <tr>
          <td id="file-assignment-11-text-mining-ipynb-L27" class="blob-num js-line-number js-code-nav-line-number js-blob-rnum" data-line-number="27"></td>
          <td id="file-assignment-11-text-mining-ipynb-LC27" class="blob-code blob-code-inner js-file-line">          <span class="pl-ent">"data"</span>: {</td>
        </tr>
        <tr>
          <td id="file-assignment-11-text-mining-ipynb-L28" class="blob-num js-line-number js-code-nav-line-number js-blob-rnum" data-line-number="28"></td>
          <td id="file-assignment-11-text-mining-ipynb-LC28" class="blob-code blob-code-inner js-file-line">            <span class="pl-ent">"text/plain"</span>: <span class="pl-s"><span class="pl-pds">"</span>True<span class="pl-pds">"</span></span></td>
        </tr>
        <tr>
          <td id="file-assignment-11-text-mining-ipynb-L29" class="blob-num js-line-number js-code-nav-line-number js-blob-rnum" data-line-number="29"></td>
          <td id="file-assignment-11-text-mining-ipynb-LC29" class="blob-code blob-code-inner js-file-line">          },</td>
        </tr>
        <tr>
          <td id="file-assignment-11-text-mining-ipynb-L30" class="blob-num js-line-number js-code-nav-line-number js-blob-rnum" data-line-number="30"></td>
          <td id="file-assignment-11-text-mining-ipynb-LC30" class="blob-code blob-code-inner js-file-line">          <span class="pl-ent">"execution_count"</span>: <span class="pl-c1">1</span>,</td>
        </tr>
        <tr>
          <td id="file-assignment-11-text-mining-ipynb-L31" class="blob-num js-line-number js-code-nav-line-number js-blob-rnum" data-line-number="31"></td>
          <td id="file-assignment-11-text-mining-ipynb-LC31" class="blob-code blob-code-inner js-file-line">          <span class="pl-ent">"metadata"</span>: {},</td>
        </tr>
        <tr>
          <td id="file-assignment-11-text-mining-ipynb-L32" class="blob-num js-line-number js-code-nav-line-number js-blob-rnum" data-line-number="32"></td>
          <td id="file-assignment-11-text-mining-ipynb-LC32" class="blob-code blob-code-inner js-file-line">          <span class="pl-ent">"output_type"</span>: <span class="pl-s"><span class="pl-pds">"</span>execute_result<span class="pl-pds">"</span></span></td>
        </tr>
        <tr>
          <td id="file-assignment-11-text-mining-ipynb-L33" class="blob-num js-line-number js-code-nav-line-number js-blob-rnum" data-line-number="33"></td>
          <td id="file-assignment-11-text-mining-ipynb-LC33" class="blob-code blob-code-inner js-file-line">        }</td>
        </tr>
        <tr>
          <td id="file-assignment-11-text-mining-ipynb-L34" class="blob-num js-line-number js-code-nav-line-number js-blob-rnum" data-line-number="34"></td>
          <td id="file-assignment-11-text-mining-ipynb-LC34" class="blob-code blob-code-inner js-file-line">      ]</td>
        </tr>
        <tr>
          <td id="file-assignment-11-text-mining-ipynb-L35" class="blob-num js-line-number js-code-nav-line-number js-blob-rnum" data-line-number="35"></td>
          <td id="file-assignment-11-text-mining-ipynb-LC35" class="blob-code blob-code-inner js-file-line">    },</td>
        </tr>
        <tr>
          <td id="file-assignment-11-text-mining-ipynb-L36" class="blob-num js-line-number js-code-nav-line-number js-blob-rnum" data-line-number="36"></td>
          <td id="file-assignment-11-text-mining-ipynb-LC36" class="blob-code blob-code-inner js-file-line">    {</td>
        </tr>
        <tr>
          <td id="file-assignment-11-text-mining-ipynb-L37" class="blob-num js-line-number js-code-nav-line-number js-blob-rnum" data-line-number="37"></td>
          <td id="file-assignment-11-text-mining-ipynb-LC37" class="blob-code blob-code-inner js-file-line">      <span class="pl-ent">"metadata"</span>: {</td>
        </tr>
        <tr>
          <td id="file-assignment-11-text-mining-ipynb-L38" class="blob-num js-line-number js-code-nav-line-number js-blob-rnum" data-line-number="38"></td>
          <td id="file-assignment-11-text-mining-ipynb-LC38" class="blob-code blob-code-inner js-file-line">        <span class="pl-ent">"trusted"</span>: <span class="pl-c1">false</span></td>
        </tr>
        <tr>
          <td id="file-assignment-11-text-mining-ipynb-L39" class="blob-num js-line-number js-code-nav-line-number js-blob-rnum" data-line-number="39"></td>
          <td id="file-assignment-11-text-mining-ipynb-LC39" class="blob-code blob-code-inner js-file-line">      },</td>
        </tr>
        <tr>
          <td id="file-assignment-11-text-mining-ipynb-L40" class="blob-num js-line-number js-code-nav-line-number js-blob-rnum" data-line-number="40"></td>
          <td id="file-assignment-11-text-mining-ipynb-LC40" class="blob-code blob-code-inner js-file-line">      <span class="pl-ent">"cell_type"</span>: <span class="pl-s"><span class="pl-pds">"</span>code<span class="pl-pds">"</span></span>,</td>
        </tr>
        <tr>
          <td id="file-assignment-11-text-mining-ipynb-L41" class="blob-num js-line-number js-code-nav-line-number js-blob-rnum" data-line-number="41"></td>
          <td id="file-assignment-11-text-mining-ipynb-LC41" class="blob-code blob-code-inner js-file-line">      <span class="pl-ent">"source"</span>: <span class="pl-s"><span class="pl-pds">"</span>nltk.download('wordnet')<span class="pl-pds">"</span></span>,</td>
        </tr>
        <tr>
          <td id="file-assignment-11-text-mining-ipynb-L42" class="blob-num js-line-number js-code-nav-line-number js-blob-rnum" data-line-number="42"></td>
          <td id="file-assignment-11-text-mining-ipynb-LC42" class="blob-code blob-code-inner js-file-line">      <span class="pl-ent">"execution_count"</span>: <span class="pl-c1">2</span>,</td>
        </tr>
        <tr>
          <td id="file-assignment-11-text-mining-ipynb-L43" class="blob-num js-line-number js-code-nav-line-number js-blob-rnum" data-line-number="43"></td>
          <td id="file-assignment-11-text-mining-ipynb-LC43" class="blob-code blob-code-inner js-file-line">      <span class="pl-ent">"outputs"</span>: [</td>
        </tr>
        <tr>
          <td id="file-assignment-11-text-mining-ipynb-L44" class="blob-num js-line-number js-code-nav-line-number js-blob-rnum" data-line-number="44"></td>
          <td id="file-assignment-11-text-mining-ipynb-LC44" class="blob-code blob-code-inner js-file-line">        {</td>
        </tr>
        <tr>
          <td id="file-assignment-11-text-mining-ipynb-L45" class="blob-num js-line-number js-code-nav-line-number js-blob-rnum" data-line-number="45"></td>
          <td id="file-assignment-11-text-mining-ipynb-LC45" class="blob-code blob-code-inner js-file-line">          <span class="pl-ent">"name"</span>: <span class="pl-s"><span class="pl-pds">"</span>stderr<span class="pl-pds">"</span></span>,</td>
        </tr>
        <tr>
          <td id="file-assignment-11-text-mining-ipynb-L46" class="blob-num js-line-number js-code-nav-line-number js-blob-rnum" data-line-number="46"></td>
          <td id="file-assignment-11-text-mining-ipynb-LC46" class="blob-code blob-code-inner js-file-line">          <span class="pl-ent">"output_type"</span>: <span class="pl-s"><span class="pl-pds">"</span>stream<span class="pl-pds">"</span></span>,</td>
        </tr>
        <tr>
          <td id="file-assignment-11-text-mining-ipynb-L47" class="blob-num js-line-number js-code-nav-line-number js-blob-rnum" data-line-number="47"></td>
          <td id="file-assignment-11-text-mining-ipynb-LC47" class="blob-code blob-code-inner js-file-line">          <span class="pl-ent">"text"</span>: <span class="pl-s"><span class="pl-pds">"</span>[nltk_data] Downloading package wordnet to<span class="pl-cce">\n</span>[nltk_data]     C:<span class="pl-cce">\\</span>Users<span class="pl-cce">\\</span>perline.anisha<span class="pl-cce">\\</span>AppData<span class="pl-cce">\\</span>Roaming<span class="pl-cce">\\</span>nltk_data...<span class="pl-cce">\n</span>[nltk_data]   Package wordnet is already up-to-date!<span class="pl-cce">\n</span><span class="pl-pds">"</span></span></td>
        </tr>
        <tr>
          <td id="file-assignment-11-text-mining-ipynb-L48" class="blob-num js-line-number js-code-nav-line-number js-blob-rnum" data-line-number="48"></td>
          <td id="file-assignment-11-text-mining-ipynb-LC48" class="blob-code blob-code-inner js-file-line">        },</td>
        </tr>
        <tr>
          <td id="file-assignment-11-text-mining-ipynb-L49" class="blob-num js-line-number js-code-nav-line-number js-blob-rnum" data-line-number="49"></td>
          <td id="file-assignment-11-text-mining-ipynb-LC49" class="blob-code blob-code-inner js-file-line">        {</td>
        </tr>
        <tr>
          <td id="file-assignment-11-text-mining-ipynb-L50" class="blob-num js-line-number js-code-nav-line-number js-blob-rnum" data-line-number="50"></td>
          <td id="file-assignment-11-text-mining-ipynb-LC50" class="blob-code blob-code-inner js-file-line">          <span class="pl-ent">"data"</span>: {</td>
        </tr>
        <tr>
          <td id="file-assignment-11-text-mining-ipynb-L51" class="blob-num js-line-number js-code-nav-line-number js-blob-rnum" data-line-number="51"></td>
          <td id="file-assignment-11-text-mining-ipynb-LC51" class="blob-code blob-code-inner js-file-line">            <span class="pl-ent">"text/plain"</span>: <span class="pl-s"><span class="pl-pds">"</span>True<span class="pl-pds">"</span></span></td>
        </tr>
        <tr>
          <td id="file-assignment-11-text-mining-ipynb-L52" class="blob-num js-line-number js-code-nav-line-number js-blob-rnum" data-line-number="52"></td>
          <td id="file-assignment-11-text-mining-ipynb-LC52" class="blob-code blob-code-inner js-file-line">          },</td>
        </tr>
        <tr>
          <td id="file-assignment-11-text-mining-ipynb-L53" class="blob-num js-line-number js-code-nav-line-number js-blob-rnum" data-line-number="53"></td>
          <td id="file-assignment-11-text-mining-ipynb-LC53" class="blob-code blob-code-inner js-file-line">          <span class="pl-ent">"execution_count"</span>: <span class="pl-c1">2</span>,</td>
        </tr>
        <tr>
          <td id="file-assignment-11-text-mining-ipynb-L54" class="blob-num js-line-number js-code-nav-line-number js-blob-rnum" data-line-number="54"></td>
          <td id="file-assignment-11-text-mining-ipynb-LC54" class="blob-code blob-code-inner js-file-line">          <span class="pl-ent">"metadata"</span>: {},</td>
        </tr>
        <tr>
          <td id="file-assignment-11-text-mining-ipynb-L55" class="blob-num js-line-number js-code-nav-line-number js-blob-rnum" data-line-number="55"></td>
          <td id="file-assignment-11-text-mining-ipynb-LC55" class="blob-code blob-code-inner js-file-line">          <span class="pl-ent">"output_type"</span>: <span class="pl-s"><span class="pl-pds">"</span>execute_result<span class="pl-pds">"</span></span></td>
        </tr>
        <tr>
          <td id="file-assignment-11-text-mining-ipynb-L56" class="blob-num js-line-number js-code-nav-line-number js-blob-rnum" data-line-number="56"></td>
          <td id="file-assignment-11-text-mining-ipynb-LC56" class="blob-code blob-code-inner js-file-line">        }</td>
        </tr>
        <tr>
          <td id="file-assignment-11-text-mining-ipynb-L57" class="blob-num js-line-number js-code-nav-line-number js-blob-rnum" data-line-number="57"></td>
          <td id="file-assignment-11-text-mining-ipynb-LC57" class="blob-code blob-code-inner js-file-line">      ]</td>
        </tr>
        <tr>
          <td id="file-assignment-11-text-mining-ipynb-L58" class="blob-num js-line-number js-code-nav-line-number js-blob-rnum" data-line-number="58"></td>
          <td id="file-assignment-11-text-mining-ipynb-LC58" class="blob-code blob-code-inner js-file-line">    },</td>
        </tr>
        <tr>
          <td id="file-assignment-11-text-mining-ipynb-L59" class="blob-num js-line-number js-code-nav-line-number js-blob-rnum" data-line-number="59"></td>
          <td id="file-assignment-11-text-mining-ipynb-LC59" class="blob-code blob-code-inner js-file-line">    {</td>
        </tr>
        <tr>
          <td id="file-assignment-11-text-mining-ipynb-L60" class="blob-num js-line-number js-code-nav-line-number js-blob-rnum" data-line-number="60"></td>
          <td id="file-assignment-11-text-mining-ipynb-LC60" class="blob-code blob-code-inner js-file-line">      <span class="pl-ent">"metadata"</span>: {</td>
        </tr>
        <tr>
          <td id="file-assignment-11-text-mining-ipynb-L61" class="blob-num js-line-number js-code-nav-line-number js-blob-rnum" data-line-number="61"></td>
          <td id="file-assignment-11-text-mining-ipynb-LC61" class="blob-code blob-code-inner js-file-line">        <span class="pl-ent">"trusted"</span>: <span class="pl-c1">false</span></td>
        </tr>
        <tr>
          <td id="file-assignment-11-text-mining-ipynb-L62" class="blob-num js-line-number js-code-nav-line-number js-blob-rnum" data-line-number="62"></td>
          <td id="file-assignment-11-text-mining-ipynb-LC62" class="blob-code blob-code-inner js-file-line">      },</td>
        </tr>
        <tr>
          <td id="file-assignment-11-text-mining-ipynb-L63" class="blob-num js-line-number js-code-nav-line-number js-blob-rnum" data-line-number="63"></td>
          <td id="file-assignment-11-text-mining-ipynb-LC63" class="blob-code blob-code-inner js-file-line">      <span class="pl-ent">"cell_type"</span>: <span class="pl-s"><span class="pl-pds">"</span>code<span class="pl-pds">"</span></span>,</td>
        </tr>
        <tr>
          <td id="file-assignment-11-text-mining-ipynb-L64" class="blob-num js-line-number js-code-nav-line-number js-blob-rnum" data-line-number="64"></td>
          <td id="file-assignment-11-text-mining-ipynb-LC64" class="blob-code blob-code-inner js-file-line">      <span class="pl-ent">"source"</span>: <span class="pl-s"><span class="pl-pds">"</span>pip install -U textblob<span class="pl-pds">"</span></span>,</td>
        </tr>
        <tr>
          <td id="file-assignment-11-text-mining-ipynb-L65" class="blob-num js-line-number js-code-nav-line-number js-blob-rnum" data-line-number="65"></td>
          <td id="file-assignment-11-text-mining-ipynb-LC65" class="blob-code blob-code-inner js-file-line">      <span class="pl-ent">"execution_count"</span>: <span class="pl-c1">3</span>,</td>
        </tr>
        <tr>
          <td id="file-assignment-11-text-mining-ipynb-L66" class="blob-num js-line-number js-code-nav-line-number js-blob-rnum" data-line-number="66"></td>
          <td id="file-assignment-11-text-mining-ipynb-LC66" class="blob-code blob-code-inner js-file-line">      <span class="pl-ent">"outputs"</span>: [</td>
        </tr>
        <tr>
          <td id="file-assignment-11-text-mining-ipynb-L67" class="blob-num js-line-number js-code-nav-line-number js-blob-rnum" data-line-number="67"></td>
          <td id="file-assignment-11-text-mining-ipynb-LC67" class="blob-code blob-code-inner js-file-line">        {</td>
        </tr>
        <tr>
          <td id="file-assignment-11-text-mining-ipynb-L68" class="blob-num js-line-number js-code-nav-line-number js-blob-rnum" data-line-number="68"></td>
          <td id="file-assignment-11-text-mining-ipynb-LC68" class="blob-code blob-code-inner js-file-line">          <span class="pl-ent">"name"</span>: <span class="pl-s"><span class="pl-pds">"</span>stdout<span class="pl-pds">"</span></span>,</td>
        </tr>
        <tr>
          <td id="file-assignment-11-text-mining-ipynb-L69" class="blob-num js-line-number js-code-nav-line-number js-blob-rnum" data-line-number="69"></td>
          <td id="file-assignment-11-text-mining-ipynb-LC69" class="blob-code blob-code-inner js-file-line">          <span class="pl-ent">"output_type"</span>: <span class="pl-s"><span class="pl-pds">"</span>stream<span class="pl-pds">"</span></span>,</td>
        </tr>
        <tr>
          <td id="file-assignment-11-text-mining-ipynb-L70" class="blob-num js-line-number js-code-nav-line-number js-blob-rnum" data-line-number="70"></td>
          <td id="file-assignment-11-text-mining-ipynb-LC70" class="blob-code blob-code-inner js-file-line">          <span class="pl-ent">"text"</span>: <span class="pl-s"><span class="pl-pds">"</span>Requirement already up-to-date: textblob in c:<span class="pl-cce">\\</span>programdata<span class="pl-cce">\\</span>anaconda3<span class="pl-cce">\\</span>lib<span class="pl-cce">\\</span>site-packages (0.15.3)<span class="pl-cce">\n</span>Requirement already satisfied, skipping upgrade: nltk&gt;=3.1 in c:<span class="pl-cce">\\</span>programdata<span class="pl-cce">\\</span>anaconda3<span class="pl-cce">\\</span>lib<span class="pl-cce">\\</span>site-packages (from textblob) (3.5)Note: you may need to restart the kernel to use updated packages.<span class="pl-cce">\n\n</span>Requirement already satisfied, skipping upgrade: click in c:<span class="pl-cce">\\</span>programdata<span class="pl-cce">\\</span>anaconda3<span class="pl-cce">\\</span>lib<span class="pl-cce">\\</span>site-packages (from nltk&gt;=3.1-&gt;textblob) (7.1.2)<span class="pl-cce">\n</span>Requirement already satisfied, skipping upgrade: regex in c:<span class="pl-cce">\\</span>programdata<span class="pl-cce">\\</span>anaconda3<span class="pl-cce">\\</span>lib<span class="pl-cce">\\</span>site-packages (from nltk&gt;=3.1-&gt;textblob) (2020.6.8)<span class="pl-cce">\n</span>Requirement already satisfied, skipping upgrade: joblib in c:<span class="pl-cce">\\</span>programdata<span class="pl-cce">\\</span>anaconda3<span class="pl-cce">\\</span>lib<span class="pl-cce">\\</span>site-packages (from nltk&gt;=3.1-&gt;textblob) (0.16.0)<span class="pl-cce">\n</span>Requirement already satisfied, skipping upgrade: tqdm in c:<span class="pl-cce">\\</span>programdata<span class="pl-cce">\\</span>anaconda3<span class="pl-cce">\\</span>lib<span class="pl-cce">\\</span>site-packages (from nltk&gt;=3.1-&gt;textblob) (4.47.0)<span class="pl-cce">\n</span><span class="pl-pds">"</span></span></td>
        </tr>
        <tr>
          <td id="file-assignment-11-text-mining-ipynb-L71" class="blob-num js-line-number js-code-nav-line-number js-blob-rnum" data-line-number="71"></td>
          <td id="file-assignment-11-text-mining-ipynb-LC71" class="blob-code blob-code-inner js-file-line">        }</td>
        </tr>
        <tr>
          <td id="file-assignment-11-text-mining-ipynb-L72" class="blob-num js-line-number js-code-nav-line-number js-blob-rnum" data-line-number="72"></td>
          <td id="file-assignment-11-text-mining-ipynb-LC72" class="blob-code blob-code-inner js-file-line">      ]</td>
        </tr>
        <tr>
          <td id="file-assignment-11-text-mining-ipynb-L73" class="blob-num js-line-number js-code-nav-line-number js-blob-rnum" data-line-number="73"></td>
          <td id="file-assignment-11-text-mining-ipynb-LC73" class="blob-code blob-code-inner js-file-line">    },</td>
        </tr>
        <tr>
          <td id="file-assignment-11-text-mining-ipynb-L74" class="blob-num js-line-number js-code-nav-line-number js-blob-rnum" data-line-number="74"></td>
          <td id="file-assignment-11-text-mining-ipynb-LC74" class="blob-code blob-code-inner js-file-line">    {</td>
        </tr>
        <tr>
          <td id="file-assignment-11-text-mining-ipynb-L75" class="blob-num js-line-number js-code-nav-line-number js-blob-rnum" data-line-number="75"></td>
          <td id="file-assignment-11-text-mining-ipynb-LC75" class="blob-code blob-code-inner js-file-line">      <span class="pl-ent">"metadata"</span>: {</td>
        </tr>
        <tr>
          <td id="file-assignment-11-text-mining-ipynb-L76" class="blob-num js-line-number js-code-nav-line-number js-blob-rnum" data-line-number="76"></td>
          <td id="file-assignment-11-text-mining-ipynb-LC76" class="blob-code blob-code-inner js-file-line">        <span class="pl-ent">"trusted"</span>: <span class="pl-c1">false</span></td>
        </tr>
        <tr>
          <td id="file-assignment-11-text-mining-ipynb-L77" class="blob-num js-line-number js-code-nav-line-number js-blob-rnum" data-line-number="77"></td>
          <td id="file-assignment-11-text-mining-ipynb-LC77" class="blob-code blob-code-inner js-file-line">      },</td>
        </tr>
        <tr>
          <td id="file-assignment-11-text-mining-ipynb-L78" class="blob-num js-line-number js-code-nav-line-number js-blob-rnum" data-line-number="78"></td>
          <td id="file-assignment-11-text-mining-ipynb-LC78" class="blob-code blob-code-inner js-file-line">      <span class="pl-ent">"cell_type"</span>: <span class="pl-s"><span class="pl-pds">"</span>code<span class="pl-pds">"</span></span>,</td>
        </tr>
        <tr>
          <td id="file-assignment-11-text-mining-ipynb-L79" class="blob-num js-line-number js-code-nav-line-number js-blob-rnum" data-line-number="79"></td>
          <td id="file-assignment-11-text-mining-ipynb-LC79" class="blob-code blob-code-inner js-file-line">      <span class="pl-ent">"source"</span>: <span class="pl-s"><span class="pl-pds">"</span>import pandas as pd<span class="pl-cce">\n</span>import numpy as np<span class="pl-cce">\n</span>import matplotlib.pyplot as plt<span class="pl-cce">\n</span>import seaborn as sns<span class="pl-cce">\n</span>from nltk.corpus import stopwords<span class="pl-cce">\n</span>from textblob import TextBlob<span class="pl-pds">"</span></span>,</td>
        </tr>
        <tr>
          <td id="file-assignment-11-text-mining-ipynb-L80" class="blob-num js-line-number js-code-nav-line-number js-blob-rnum" data-line-number="80"></td>
          <td id="file-assignment-11-text-mining-ipynb-LC80" class="blob-code blob-code-inner js-file-line">      <span class="pl-ent">"execution_count"</span>: <span class="pl-c1">4</span>,</td>
        </tr>
        <tr>
          <td id="file-assignment-11-text-mining-ipynb-L81" class="blob-num js-line-number js-code-nav-line-number js-blob-rnum" data-line-number="81"></td>
          <td id="file-assignment-11-text-mining-ipynb-LC81" class="blob-code blob-code-inner js-file-line">      <span class="pl-ent">"outputs"</span>: []</td>
        </tr>
        <tr>
          <td id="file-assignment-11-text-mining-ipynb-L82" class="blob-num js-line-number js-code-nav-line-number js-blob-rnum" data-line-number="82"></td>
          <td id="file-assignment-11-text-mining-ipynb-LC82" class="blob-code blob-code-inner js-file-line">    },</td>
        </tr>
        <tr>
          <td id="file-assignment-11-text-mining-ipynb-L83" class="blob-num js-line-number js-code-nav-line-number js-blob-rnum" data-line-number="83"></td>
          <td id="file-assignment-11-text-mining-ipynb-LC83" class="blob-code blob-code-inner js-file-line">    {</td>
        </tr>
        <tr>
          <td id="file-assignment-11-text-mining-ipynb-L84" class="blob-num js-line-number js-code-nav-line-number js-blob-rnum" data-line-number="84"></td>
          <td id="file-assignment-11-text-mining-ipynb-LC84" class="blob-code blob-code-inner js-file-line">      <span class="pl-ent">"metadata"</span>: {},</td>
        </tr>
        <tr>
          <td id="file-assignment-11-text-mining-ipynb-L85" class="blob-num js-line-number js-code-nav-line-number js-blob-rnum" data-line-number="85"></td>
          <td id="file-assignment-11-text-mining-ipynb-LC85" class="blob-code blob-code-inner js-file-line">      <span class="pl-ent">"cell_type"</span>: <span class="pl-s"><span class="pl-pds">"</span>markdown<span class="pl-pds">"</span></span>,</td>
        </tr>
        <tr>
          <td id="file-assignment-11-text-mining-ipynb-L86" class="blob-num js-line-number js-code-nav-line-number js-blob-rnum" data-line-number="86"></td>
          <td id="file-assignment-11-text-mining-ipynb-LC86" class="blob-code blob-code-inner js-file-line">      <span class="pl-ent">"source"</span>: <span class="pl-s"><span class="pl-pds">"</span>## 1. Read Data<span class="pl-pds">"</span></span></td>
        </tr>
        <tr>
          <td id="file-assignment-11-text-mining-ipynb-L87" class="blob-num js-line-number js-code-nav-line-number js-blob-rnum" data-line-number="87"></td>
          <td id="file-assignment-11-text-mining-ipynb-LC87" class="blob-code blob-code-inner js-file-line">    },</td>
        </tr>
        <tr>
          <td id="file-assignment-11-text-mining-ipynb-L88" class="blob-num js-line-number js-code-nav-line-number js-blob-rnum" data-line-number="88"></td>
          <td id="file-assignment-11-text-mining-ipynb-LC88" class="blob-code blob-code-inner js-file-line">    {</td>
        </tr>
        <tr>
          <td id="file-assignment-11-text-mining-ipynb-L89" class="blob-num js-line-number js-code-nav-line-number js-blob-rnum" data-line-number="89"></td>
          <td id="file-assignment-11-text-mining-ipynb-LC89" class="blob-code blob-code-inner js-file-line">      <span class="pl-ent">"metadata"</span>: {</td>
        </tr>
        <tr>
          <td id="file-assignment-11-text-mining-ipynb-L90" class="blob-num js-line-number js-code-nav-line-number js-blob-rnum" data-line-number="90"></td>
          <td id="file-assignment-11-text-mining-ipynb-LC90" class="blob-code blob-code-inner js-file-line">        <span class="pl-ent">"trusted"</span>: <span class="pl-c1">false</span></td>
        </tr>
        <tr>
          <td id="file-assignment-11-text-mining-ipynb-L91" class="blob-num js-line-number js-code-nav-line-number js-blob-rnum" data-line-number="91"></td>
          <td id="file-assignment-11-text-mining-ipynb-LC91" class="blob-code blob-code-inner js-file-line">      },</td>
        </tr>
        <tr>
          <td id="file-assignment-11-text-mining-ipynb-L92" class="blob-num js-line-number js-code-nav-line-number js-blob-rnum" data-line-number="92"></td>
          <td id="file-assignment-11-text-mining-ipynb-LC92" class="blob-code blob-code-inner js-file-line">      <span class="pl-ent">"cell_type"</span>: <span class="pl-s"><span class="pl-pds">"</span>code<span class="pl-pds">"</span></span>,</td>
        </tr>
        <tr>
          <td id="file-assignment-11-text-mining-ipynb-L93" class="blob-num js-line-number js-code-nav-line-number js-blob-rnum" data-line-number="93"></td>
          <td id="file-assignment-11-text-mining-ipynb-LC93" class="blob-code blob-code-inner js-file-line">      <span class="pl-ent">"source"</span>: <span class="pl-s"><span class="pl-pds">"</span>data = pd.read_csv('Elon_musk.csv',encoding=<span class="pl-cce">\"</span>latin-1<span class="pl-cce">\"</span>)<span class="pl-cce">\n</span>data.head()<span class="pl-pds">"</span></span>,</td>
        </tr>
        <tr>
          <td id="file-assignment-11-text-mining-ipynb-L94" class="blob-num js-line-number js-code-nav-line-number js-blob-rnum" data-line-number="94"></td>
          <td id="file-assignment-11-text-mining-ipynb-LC94" class="blob-code blob-code-inner js-file-line">      <span class="pl-ent">"execution_count"</span>: <span class="pl-c1">6</span>,</td>
        </tr>
        <tr>
          <td id="file-assignment-11-text-mining-ipynb-L95" class="blob-num js-line-number js-code-nav-line-number js-blob-rnum" data-line-number="95"></td>
          <td id="file-assignment-11-text-mining-ipynb-LC95" class="blob-code blob-code-inner js-file-line">      <span class="pl-ent">"outputs"</span>: [</td>
        </tr>
        <tr>
          <td id="file-assignment-11-text-mining-ipynb-L96" class="blob-num js-line-number js-code-nav-line-number js-blob-rnum" data-line-number="96"></td>
          <td id="file-assignment-11-text-mining-ipynb-LC96" class="blob-code blob-code-inner js-file-line">        {</td>
        </tr>
        <tr>
          <td id="file-assignment-11-text-mining-ipynb-L97" class="blob-num js-line-number js-code-nav-line-number js-blob-rnum" data-line-number="97"></td>
          <td id="file-assignment-11-text-mining-ipynb-LC97" class="blob-code blob-code-inner js-file-line">          <span class="pl-ent">"data"</span>: {</td>
        </tr>
        <tr>
          <td id="file-assignment-11-text-mining-ipynb-L98" class="blob-num js-line-number js-code-nav-line-number js-blob-rnum" data-line-number="98"></td>
          <td id="file-assignment-11-text-mining-ipynb-LC98" class="blob-code blob-code-inner js-file-line">            "text/html": "&lt;div&gt;\n&lt;style scoped&gt;\n    .dataframe tbody tr th:only-of-type {\n        vertical-align: middle;\n    }\n\n    .dataframe tbody tr th {\n        vertical-align: top;\n    }\n\n    .dataframe thead th {\n        text-align: right;\n    }\n&lt;/style&gt;\n&lt;table border=\"1\" class=\"dataframe\"&gt;\n  &lt;thead&gt;\n    &lt;tr style=\"text-align: right;\"&gt;\n      &lt;th&gt;&lt;/th&gt;\n      &lt;th&gt;Unnamed: 0&lt;/th&gt;\n      &lt;th&gt;Text&lt;/th&gt;\n    &lt;/tr&gt;\n  &lt;/thead&gt;\n  &lt;tbody&gt;\n    &lt;tr&gt;\n      &lt;th&gt;0&lt;/th&gt;\n      &lt;td&gt;1&lt;/td&gt;\n      &lt;td&gt;@kunalb11 Im an alien&lt;/td&gt;\n    &lt;/tr&gt;\n    &lt;tr&gt;\n      &lt;th&gt;1&lt;/th&gt;\n      &lt;td&gt;2&lt;/td&gt;\n      &lt;td&gt;@ID_AA_Carmack Ray tracing on Cyberpunk with H...&lt;/td&gt;\n    &lt;/tr&gt;\n    &lt;tr&gt;\n      &lt;th&gt;2&lt;/th&gt;\n      &lt;td&gt;3&lt;/td&gt;\n      &lt;td&gt;@joerogan @Spotify Great interview!&lt;/td&gt;\n    &lt;/tr&gt;\n    &lt;tr&gt;\n      &lt;th&gt;3&lt;/th&gt;\n      &lt;td&gt;4&lt;/td&gt;\n      &lt;td&gt;@gtera27 Doge is underestimated&lt;/td&gt;\n    &lt;/tr&gt;\n    &lt;tr&gt;\n      &lt;th&gt;4&lt;/th&gt;\n      &lt;td&gt;5&lt;/td&gt;\n      &lt;td&gt;@teslacn Congratulations Tesla China for amazi...&lt;/td&gt;\n    &lt;/tr&gt;\n  &lt;/tbody&gt;\n&lt;/table&gt;\n&lt;/div&gt;",</td>
        </tr>
        <tr>
          <td id="file-assignment-11-text-mining-ipynb-L99" class="blob-num js-line-number js-code-nav-line-number js-blob-rnum" data-line-number="99"></td>
          <td id="file-assignment-11-text-mining-ipynb-LC99" class="blob-code blob-code-inner js-file-line">            <span class="pl-ent">"text/plain"</span>: <span class="pl-s"><span class="pl-pds">"</span>   Unnamed: 0                                               Text<span class="pl-cce">\n</span>0           1                             @kunalb11 Im an alien<span class="pl-cce">\n</span>1           2  @ID_AA_Carmack Ray tracing on Cyberpunk with H...<span class="pl-cce">\n</span>2           3                @joerogan @Spotify Great interview!<span class="pl-cce">\n</span>3           4                    @gtera27 Doge is underestimated<span class="pl-cce">\n</span>4           5  @teslacn Congratulations Tesla China for amazi...<span class="pl-pds">"</span></span></td>
        </tr>
        <tr>
          <td id="file-assignment-11-text-mining-ipynb-L100" class="blob-num js-line-number js-code-nav-line-number js-blob-rnum" data-line-number="100"></td>
          <td id="file-assignment-11-text-mining-ipynb-LC100" class="blob-code blob-code-inner js-file-line">          },</td>
        </tr>
        <tr>
          <td id="file-assignment-11-text-mining-ipynb-L101" class="blob-num js-line-number js-code-nav-line-number js-blob-rnum" data-line-number="101"></td>
          <td id="file-assignment-11-text-mining-ipynb-LC101" class="blob-code blob-code-inner js-file-line">          <span class="pl-ent">"execution_count"</span>: <span class="pl-c1">6</span>,</td>
        </tr>
        <tr>
          <td id="file-assignment-11-text-mining-ipynb-L102" class="blob-num js-line-number js-code-nav-line-number js-blob-rnum" data-line-number="102"></td>
          <td id="file-assignment-11-text-mining-ipynb-LC102" class="blob-code blob-code-inner js-file-line">          <span class="pl-ent">"metadata"</span>: {},</td>
        </tr>
        <tr>
          <td id="file-assignment-11-text-mining-ipynb-L103" class="blob-num js-line-number js-code-nav-line-number js-blob-rnum" data-line-number="103"></td>
          <td id="file-assignment-11-text-mining-ipynb-LC103" class="blob-code blob-code-inner js-file-line">          <span class="pl-ent">"output_type"</span>: <span class="pl-s"><span class="pl-pds">"</span>execute_result<span class="pl-pds">"</span></span></td>
        </tr>
        <tr>
          <td id="file-assignment-11-text-mining-ipynb-L104" class="blob-num js-line-number js-code-nav-line-number js-blob-rnum" data-line-number="104"></td>
          <td id="file-assignment-11-text-mining-ipynb-LC104" class="blob-code blob-code-inner js-file-line">        }</td>
        </tr>
        <tr>
          <td id="file-assignment-11-text-mining-ipynb-L105" class="blob-num js-line-number js-code-nav-line-number js-blob-rnum" data-line-number="105"></td>
          <td id="file-assignment-11-text-mining-ipynb-LC105" class="blob-code blob-code-inner js-file-line">      ]</td>
        </tr>
        <tr>
          <td id="file-assignment-11-text-mining-ipynb-L106" class="blob-num js-line-number js-code-nav-line-number js-blob-rnum" data-line-number="106"></td>
          <td id="file-assignment-11-text-mining-ipynb-LC106" class="blob-code blob-code-inner js-file-line">    },</td>
        </tr>
        <tr>
          <td id="file-assignment-11-text-mining-ipynb-L107" class="blob-num js-line-number js-code-nav-line-number js-blob-rnum" data-line-number="107"></td>
          <td id="file-assignment-11-text-mining-ipynb-LC107" class="blob-code blob-code-inner js-file-line">    {</td>
        </tr>
        <tr>
          <td id="file-assignment-11-text-mining-ipynb-L108" class="blob-num js-line-number js-code-nav-line-number js-blob-rnum" data-line-number="108"></td>
          <td id="file-assignment-11-text-mining-ipynb-LC108" class="blob-code blob-code-inner js-file-line">      <span class="pl-ent">"metadata"</span>: {},</td>
        </tr>
        <tr>
          <td id="file-assignment-11-text-mining-ipynb-L109" class="blob-num js-line-number js-code-nav-line-number js-blob-rnum" data-line-number="109"></td>
          <td id="file-assignment-11-text-mining-ipynb-LC109" class="blob-code blob-code-inner js-file-line">      <span class="pl-ent">"cell_type"</span>: <span class="pl-s"><span class="pl-pds">"</span>markdown<span class="pl-pds">"</span></span>,</td>
        </tr>
        <tr>
          <td id="file-assignment-11-text-mining-ipynb-L110" class="blob-num js-line-number js-code-nav-line-number js-blob-rnum" data-line-number="110"></td>
          <td id="file-assignment-11-text-mining-ipynb-LC110" class="blob-code blob-code-inner js-file-line">      <span class="pl-ent">"source"</span>: <span class="pl-s"><span class="pl-pds">"</span>## 2. Number of Words<span class="pl-pds">"</span></span></td>
        </tr>
        <tr>
          <td id="file-assignment-11-text-mining-ipynb-L111" class="blob-num js-line-number js-code-nav-line-number js-blob-rnum" data-line-number="111"></td>
          <td id="file-assignment-11-text-mining-ipynb-LC111" class="blob-code blob-code-inner js-file-line">    },</td>
        </tr>
        <tr>
          <td id="file-assignment-11-text-mining-ipynb-L112" class="blob-num js-line-number js-code-nav-line-number js-blob-rnum" data-line-number="112"></td>
          <td id="file-assignment-11-text-mining-ipynb-LC112" class="blob-code blob-code-inner js-file-line">    {</td>
        </tr>
        <tr>
          <td id="file-assignment-11-text-mining-ipynb-L113" class="blob-num js-line-number js-code-nav-line-number js-blob-rnum" data-line-number="113"></td>
          <td id="file-assignment-11-text-mining-ipynb-LC113" class="blob-code blob-code-inner js-file-line">      <span class="pl-ent">"metadata"</span>: {</td>
        </tr>
        <tr>
          <td id="file-assignment-11-text-mining-ipynb-L114" class="blob-num js-line-number js-code-nav-line-number js-blob-rnum" data-line-number="114"></td>
          <td id="file-assignment-11-text-mining-ipynb-LC114" class="blob-code blob-code-inner js-file-line">        <span class="pl-ent">"trusted"</span>: <span class="pl-c1">false</span></td>
        </tr>
        <tr>
          <td id="file-assignment-11-text-mining-ipynb-L115" class="blob-num js-line-number js-code-nav-line-number js-blob-rnum" data-line-number="115"></td>
          <td id="file-assignment-11-text-mining-ipynb-LC115" class="blob-code blob-code-inner js-file-line">      },</td>
        </tr>
        <tr>
          <td id="file-assignment-11-text-mining-ipynb-L116" class="blob-num js-line-number js-code-nav-line-number js-blob-rnum" data-line-number="116"></td>
          <td id="file-assignment-11-text-mining-ipynb-LC116" class="blob-code blob-code-inner js-file-line">      <span class="pl-ent">"cell_type"</span>: <span class="pl-s"><span class="pl-pds">"</span>code<span class="pl-pds">"</span></span>,</td>
        </tr>
        <tr>
          <td id="file-assignment-11-text-mining-ipynb-L117" class="blob-num js-line-number js-code-nav-line-number js-blob-rnum" data-line-number="117"></td>
          <td id="file-assignment-11-text-mining-ipynb-LC117" class="blob-code blob-code-inner js-file-line">      <span class="pl-ent">"source"</span>: <span class="pl-s"><span class="pl-pds">"</span>#Number of Words in single tweet<span class="pl-cce">\n</span>data['word_count'] = data['Text'].apply(lambda x: len(str(x).split(<span class="pl-cce">\"</span> <span class="pl-cce">\"</span>)))<span class="pl-cce">\n</span>data[['Text','word_count']].head()<span class="pl-pds">"</span></span>,</td>
        </tr>
        <tr>
          <td id="file-assignment-11-text-mining-ipynb-L118" class="blob-num js-line-number js-code-nav-line-number js-blob-rnum" data-line-number="118"></td>
          <td id="file-assignment-11-text-mining-ipynb-LC118" class="blob-code blob-code-inner js-file-line">      <span class="pl-ent">"execution_count"</span>: <span class="pl-c1">7</span>,</td>
        </tr>
        <tr>
          <td id="file-assignment-11-text-mining-ipynb-L119" class="blob-num js-line-number js-code-nav-line-number js-blob-rnum" data-line-number="119"></td>
          <td id="file-assignment-11-text-mining-ipynb-LC119" class="blob-code blob-code-inner js-file-line">      <span class="pl-ent">"outputs"</span>: [</td>
        </tr>
        <tr>
          <td id="file-assignment-11-text-mining-ipynb-L120" class="blob-num js-line-number js-code-nav-line-number js-blob-rnum" data-line-number="120"></td>
          <td id="file-assignment-11-text-mining-ipynb-LC120" class="blob-code blob-code-inner js-file-line">        {</td>
        </tr>
        <tr>
          <td id="file-assignment-11-text-mining-ipynb-L121" class="blob-num js-line-number js-code-nav-line-number js-blob-rnum" data-line-number="121"></td>
          <td id="file-assignment-11-text-mining-ipynb-LC121" class="blob-code blob-code-inner js-file-line">          <span class="pl-ent">"data"</span>: {</td>
        </tr>
        <tr>
          <td id="file-assignment-11-text-mining-ipynb-L122" class="blob-num js-line-number js-code-nav-line-number js-blob-rnum" data-line-number="122"></td>
          <td id="file-assignment-11-text-mining-ipynb-LC122" class="blob-code blob-code-inner js-file-line">            "text/html": "&lt;div&gt;\n&lt;style scoped&gt;\n    .dataframe tbody tr th:only-of-type {\n        vertical-align: middle;\n    }\n\n    .dataframe tbody tr th {\n        vertical-align: top;\n    }\n\n    .dataframe thead th {\n        text-align: right;\n    }\n&lt;/style&gt;\n&lt;table border=\"1\" class=\"dataframe\"&gt;\n  &lt;thead&gt;\n    &lt;tr style=\"text-align: right;\"&gt;\n      &lt;th&gt;&lt;/th&gt;\n      &lt;th&gt;Text&lt;/th&gt;\n      &lt;th&gt;word_count&lt;/th&gt;\n    &lt;/tr&gt;\n  &lt;/thead&gt;\n  &lt;tbody&gt;\n    &lt;tr&gt;\n      &lt;th&gt;0&lt;/th&gt;\n      &lt;td&gt;@kunalb11 Im an alien&lt;/td&gt;\n      &lt;td&gt;4&lt;/td&gt;\n    &lt;/tr&gt;\n    &lt;tr&gt;\n      &lt;th&gt;1&lt;/th&gt;\n      &lt;td&gt;@ID_AA_Carmack Ray tracing on Cyberpunk with H...&lt;/td&gt;\n      &lt;td&gt;13&lt;/td&gt;\n    &lt;/tr&gt;\n    &lt;tr&gt;\n      &lt;th&gt;2&lt;/th&gt;\n      &lt;td&gt;@joerogan @Spotify Great interview!&lt;/td&gt;\n      &lt;td&gt;4&lt;/td&gt;\n    &lt;/tr&gt;\n    &lt;tr&gt;\n      &lt;th&gt;3&lt;/th&gt;\n      &lt;td&gt;@gtera27 Doge is underestimated&lt;/td&gt;\n      &lt;td&gt;4&lt;/td&gt;\n    &lt;/tr&gt;\n    &lt;tr&gt;\n      &lt;th&gt;4&lt;/th&gt;\n      &lt;td&gt;@teslacn Congratulations Tesla China for amazi...&lt;/td&gt;\n      &lt;td&gt;17&lt;/td&gt;\n    &lt;/tr&gt;\n  &lt;/tbody&gt;\n&lt;/table&gt;\n&lt;/div&gt;",</td>
        </tr>
        <tr>
          <td id="file-assignment-11-text-mining-ipynb-L123" class="blob-num js-line-number js-code-nav-line-number js-blob-rnum" data-line-number="123"></td>
          <td id="file-assignment-11-text-mining-ipynb-LC123" class="blob-code blob-code-inner js-file-line">            <span class="pl-ent">"text/plain"</span>: <span class="pl-s"><span class="pl-pds">"</span>                                                Text  word_count<span class="pl-cce">\n</span>0                             @kunalb11 Im an alien           4<span class="pl-cce">\n</span>1  @ID_AA_Carmack Ray tracing on Cyberpunk with H...          13<span class="pl-cce">\n</span>2                @joerogan @Spotify Great interview!           4<span class="pl-cce">\n</span>3                    @gtera27 Doge is underestimated           4<span class="pl-cce">\n</span>4  @teslacn Congratulations Tesla China for amazi...          17<span class="pl-pds">"</span></span></td>
        </tr>
        <tr>
          <td id="file-assignment-11-text-mining-ipynb-L124" class="blob-num js-line-number js-code-nav-line-number js-blob-rnum" data-line-number="124"></td>
          <td id="file-assignment-11-text-mining-ipynb-LC124" class="blob-code blob-code-inner js-file-line">          },</td>
        </tr>
        <tr>
          <td id="file-assignment-11-text-mining-ipynb-L125" class="blob-num js-line-number js-code-nav-line-number js-blob-rnum" data-line-number="125"></td>
          <td id="file-assignment-11-text-mining-ipynb-LC125" class="blob-code blob-code-inner js-file-line">          <span class="pl-ent">"execution_count"</span>: <span class="pl-c1">7</span>,</td>
        </tr>
        <tr>
          <td id="file-assignment-11-text-mining-ipynb-L126" class="blob-num js-line-number js-code-nav-line-number js-blob-rnum" data-line-number="126"></td>
          <td id="file-assignment-11-text-mining-ipynb-LC126" class="blob-code blob-code-inner js-file-line">          <span class="pl-ent">"metadata"</span>: {},</td>
        </tr>
        <tr>
          <td id="file-assignment-11-text-mining-ipynb-L127" class="blob-num js-line-number js-code-nav-line-number js-blob-rnum" data-line-number="127"></td>
          <td id="file-assignment-11-text-mining-ipynb-LC127" class="blob-code blob-code-inner js-file-line">          <span class="pl-ent">"output_type"</span>: <span class="pl-s"><span class="pl-pds">"</span>execute_result<span class="pl-pds">"</span></span></td>
        </tr>
        <tr>
          <td id="file-assignment-11-text-mining-ipynb-L128" class="blob-num js-line-number js-code-nav-line-number js-blob-rnum" data-line-number="128"></td>
          <td id="file-assignment-11-text-mining-ipynb-LC128" class="blob-code blob-code-inner js-file-line">        }</td>
        </tr>
        <tr>
          <td id="file-assignment-11-text-mining-ipynb-L129" class="blob-num js-line-number js-code-nav-line-number js-blob-rnum" data-line-number="129"></td>
          <td id="file-assignment-11-text-mining-ipynb-LC129" class="blob-code blob-code-inner js-file-line">      ]</td>
        </tr>
        <tr>
          <td id="file-assignment-11-text-mining-ipynb-L130" class="blob-num js-line-number js-code-nav-line-number js-blob-rnum" data-line-number="130"></td>
          <td id="file-assignment-11-text-mining-ipynb-LC130" class="blob-code blob-code-inner js-file-line">    },</td>
        </tr>
        <tr>
          <td id="file-assignment-11-text-mining-ipynb-L131" class="blob-num js-line-number js-code-nav-line-number js-blob-rnum" data-line-number="131"></td>
          <td id="file-assignment-11-text-mining-ipynb-LC131" class="blob-code blob-code-inner js-file-line">    {</td>
        </tr>
        <tr>
          <td id="file-assignment-11-text-mining-ipynb-L132" class="blob-num js-line-number js-code-nav-line-number js-blob-rnum" data-line-number="132"></td>
          <td id="file-assignment-11-text-mining-ipynb-LC132" class="blob-code blob-code-inner js-file-line">      <span class="pl-ent">"metadata"</span>: {},</td>
        </tr>
        <tr>
          <td id="file-assignment-11-text-mining-ipynb-L133" class="blob-num js-line-number js-code-nav-line-number js-blob-rnum" data-line-number="133"></td>
          <td id="file-assignment-11-text-mining-ipynb-LC133" class="blob-code blob-code-inner js-file-line">      <span class="pl-ent">"cell_type"</span>: <span class="pl-s"><span class="pl-pds">"</span>markdown<span class="pl-pds">"</span></span>,</td>
        </tr>
        <tr>
          <td id="file-assignment-11-text-mining-ipynb-L134" class="blob-num js-line-number js-code-nav-line-number js-blob-rnum" data-line-number="134"></td>
          <td id="file-assignment-11-text-mining-ipynb-LC134" class="blob-code blob-code-inner js-file-line">      <span class="pl-ent">"source"</span>: <span class="pl-s"><span class="pl-pds">"</span>## 3. Number of Characters<span class="pl-pds">"</span></span></td>
        </tr>
        <tr>
          <td id="file-assignment-11-text-mining-ipynb-L135" class="blob-num js-line-number js-code-nav-line-number js-blob-rnum" data-line-number="135"></td>
          <td id="file-assignment-11-text-mining-ipynb-LC135" class="blob-code blob-code-inner js-file-line">    },</td>
        </tr>
        <tr>
          <td id="file-assignment-11-text-mining-ipynb-L136" class="blob-num js-line-number js-code-nav-line-number js-blob-rnum" data-line-number="136"></td>
          <td id="file-assignment-11-text-mining-ipynb-LC136" class="blob-code blob-code-inner js-file-line">    {</td>
        </tr>
        <tr>
          <td id="file-assignment-11-text-mining-ipynb-L137" class="blob-num js-line-number js-code-nav-line-number js-blob-rnum" data-line-number="137"></td>
          <td id="file-assignment-11-text-mining-ipynb-LC137" class="blob-code blob-code-inner js-file-line">      <span class="pl-ent">"metadata"</span>: {</td>
        </tr>
        <tr>
          <td id="file-assignment-11-text-mining-ipynb-L138" class="blob-num js-line-number js-code-nav-line-number js-blob-rnum" data-line-number="138"></td>
          <td id="file-assignment-11-text-mining-ipynb-LC138" class="blob-code blob-code-inner js-file-line">        <span class="pl-ent">"trusted"</span>: <span class="pl-c1">false</span></td>
        </tr>
        <tr>
          <td id="file-assignment-11-text-mining-ipynb-L139" class="blob-num js-line-number js-code-nav-line-number js-blob-rnum" data-line-number="139"></td>
          <td id="file-assignment-11-text-mining-ipynb-LC139" class="blob-code blob-code-inner js-file-line">      },</td>
        </tr>
        <tr>
          <td id="file-assignment-11-text-mining-ipynb-L140" class="blob-num js-line-number js-code-nav-line-number js-blob-rnum" data-line-number="140"></td>
          <td id="file-assignment-11-text-mining-ipynb-LC140" class="blob-code blob-code-inner js-file-line">      <span class="pl-ent">"cell_type"</span>: <span class="pl-s"><span class="pl-pds">"</span>code<span class="pl-pds">"</span></span>,</td>
        </tr>
        <tr>
          <td id="file-assignment-11-text-mining-ipynb-L141" class="blob-num js-line-number js-code-nav-line-number js-blob-rnum" data-line-number="141"></td>
          <td id="file-assignment-11-text-mining-ipynb-LC141" class="blob-code blob-code-inner js-file-line">      <span class="pl-ent">"source"</span>: <span class="pl-s"><span class="pl-pds">"</span>#Number of characters in single tweet<span class="pl-cce">\n</span>data['char_count'] = data['Text'].str.len() ## this also includes spaces<span class="pl-cce">\n</span>data[['Text','char_count']].head()<span class="pl-pds">"</span></span>,</td>
        </tr>
        <tr>
          <td id="file-assignment-11-text-mining-ipynb-L142" class="blob-num js-line-number js-code-nav-line-number js-blob-rnum" data-line-number="142"></td>
          <td id="file-assignment-11-text-mining-ipynb-LC142" class="blob-code blob-code-inner js-file-line">      <span class="pl-ent">"execution_count"</span>: <span class="pl-c1">8</span>,</td>
        </tr>
        <tr>
          <td id="file-assignment-11-text-mining-ipynb-L143" class="blob-num js-line-number js-code-nav-line-number js-blob-rnum" data-line-number="143"></td>
          <td id="file-assignment-11-text-mining-ipynb-LC143" class="blob-code blob-code-inner js-file-line">      <span class="pl-ent">"outputs"</span>: [</td>
        </tr>
        <tr>
          <td id="file-assignment-11-text-mining-ipynb-L144" class="blob-num js-line-number js-code-nav-line-number js-blob-rnum" data-line-number="144"></td>
          <td id="file-assignment-11-text-mining-ipynb-LC144" class="blob-code blob-code-inner js-file-line">        {</td>
        </tr>
        <tr>
          <td id="file-assignment-11-text-mining-ipynb-L145" class="blob-num js-line-number js-code-nav-line-number js-blob-rnum" data-line-number="145"></td>
          <td id="file-assignment-11-text-mining-ipynb-LC145" class="blob-code blob-code-inner js-file-line">          <span class="pl-ent">"data"</span>: {</td>
        </tr>
        <tr>
          <td id="file-assignment-11-text-mining-ipynb-L146" class="blob-num js-line-number js-code-nav-line-number js-blob-rnum" data-line-number="146"></td>
          <td id="file-assignment-11-text-mining-ipynb-LC146" class="blob-code blob-code-inner js-file-line">            "text/html": "&lt;div&gt;\n&lt;style scoped&gt;\n    .dataframe tbody tr th:only-of-type {\n        vertical-align: middle;\n    }\n\n    .dataframe tbody tr th {\n        vertical-align: top;\n    }\n\n    .dataframe thead th {\n        text-align: right;\n    }\n&lt;/style&gt;\n&lt;table border=\"1\" class=\"dataframe\"&gt;\n  &lt;thead&gt;\n    &lt;tr style=\"text-align: right;\"&gt;\n      &lt;th&gt;&lt;/th&gt;\n      &lt;th&gt;Text&lt;/th&gt;\n      &lt;th&gt;char_count&lt;/th&gt;\n    &lt;/tr&gt;\n  &lt;/thead&gt;\n  &lt;tbody&gt;\n    &lt;tr&gt;\n      &lt;th&gt;0&lt;/th&gt;\n      &lt;td&gt;@kunalb11 Im an alien&lt;/td&gt;\n      &lt;td&gt;22&lt;/td&gt;\n    &lt;/tr&gt;\n    &lt;tr&gt;\n      &lt;th&gt;1&lt;/th&gt;\n      &lt;td&gt;@ID_AA_Carmack Ray tracing on Cyberpunk with H...&lt;/td&gt;\n      &lt;td&gt;82&lt;/td&gt;\n    &lt;/tr&gt;\n    &lt;tr&gt;\n      &lt;th&gt;2&lt;/th&gt;\n      &lt;td&gt;@joerogan @Spotify Great interview!&lt;/td&gt;\n      &lt;td&gt;35&lt;/td&gt;\n    &lt;/tr&gt;\n    &lt;tr&gt;\n      &lt;th&gt;3&lt;/th&gt;\n      &lt;td&gt;@gtera27 Doge is underestimated&lt;/td&gt;\n      &lt;td&gt;31&lt;/td&gt;\n    &lt;/tr&gt;\n    &lt;tr&gt;\n      &lt;th&gt;4&lt;/th&gt;\n      &lt;td&gt;@teslacn Congratulations Tesla China for amazi...&lt;/td&gt;\n      &lt;td&gt;104&lt;/td&gt;\n    &lt;/tr&gt;\n  &lt;/tbody&gt;\n&lt;/table&gt;\n&lt;/div&gt;",</td>
        </tr>
        <tr>
          <td id="file-assignment-11-text-mining-ipynb-L147" class="blob-num js-line-number js-code-nav-line-number js-blob-rnum" data-line-number="147"></td>
          <td id="file-assignment-11-text-mining-ipynb-LC147" class="blob-code blob-code-inner js-file-line">            <span class="pl-ent">"text/plain"</span>: <span class="pl-s"><span class="pl-pds">"</span>                                                Text  char_count<span class="pl-cce">\n</span>0                             @kunalb11 Im an alien          22<span class="pl-cce">\n</span>1  @ID_AA_Carmack Ray tracing on Cyberpunk with H...          82<span class="pl-cce">\n</span>2                @joerogan @Spotify Great interview!          35<span class="pl-cce">\n</span>3                    @gtera27 Doge is underestimated          31<span class="pl-cce">\n</span>4  @teslacn Congratulations Tesla China for amazi...         104<span class="pl-pds">"</span></span></td>
        </tr>
        <tr>
          <td id="file-assignment-11-text-mining-ipynb-L148" class="blob-num js-line-number js-code-nav-line-number js-blob-rnum" data-line-number="148"></td>
          <td id="file-assignment-11-text-mining-ipynb-LC148" class="blob-code blob-code-inner js-file-line">          },</td>
        </tr>
        <tr>
          <td id="file-assignment-11-text-mining-ipynb-L149" class="blob-num js-line-number js-code-nav-line-number js-blob-rnum" data-line-number="149"></td>
          <td id="file-assignment-11-text-mining-ipynb-LC149" class="blob-code blob-code-inner js-file-line">          <span class="pl-ent">"execution_count"</span>: <span class="pl-c1">8</span>,</td>
        </tr>
        <tr>
          <td id="file-assignment-11-text-mining-ipynb-L150" class="blob-num js-line-number js-code-nav-line-number js-blob-rnum" data-line-number="150"></td>
          <td id="file-assignment-11-text-mining-ipynb-LC150" class="blob-code blob-code-inner js-file-line">          <span class="pl-ent">"metadata"</span>: {},</td>
        </tr>
        <tr>
          <td id="file-assignment-11-text-mining-ipynb-L151" class="blob-num js-line-number js-code-nav-line-number js-blob-rnum" data-line-number="151"></td>
          <td id="file-assignment-11-text-mining-ipynb-LC151" class="blob-code blob-code-inner js-file-line">          <span class="pl-ent">"output_type"</span>: <span class="pl-s"><span class="pl-pds">"</span>execute_result<span class="pl-pds">"</span></span></td>
        </tr>
        <tr>
          <td id="file-assignment-11-text-mining-ipynb-L152" class="blob-num js-line-number js-code-nav-line-number js-blob-rnum" data-line-number="152"></td>
          <td id="file-assignment-11-text-mining-ipynb-LC152" class="blob-code blob-code-inner js-file-line">        }</td>
        </tr>
        <tr>
          <td id="file-assignment-11-text-mining-ipynb-L153" class="blob-num js-line-number js-code-nav-line-number js-blob-rnum" data-line-number="153"></td>
          <td id="file-assignment-11-text-mining-ipynb-LC153" class="blob-code blob-code-inner js-file-line">      ]</td>
        </tr>
        <tr>
          <td id="file-assignment-11-text-mining-ipynb-L154" class="blob-num js-line-number js-code-nav-line-number js-blob-rnum" data-line-number="154"></td>
          <td id="file-assignment-11-text-mining-ipynb-LC154" class="blob-code blob-code-inner js-file-line">    },</td>
        </tr>
        <tr>
          <td id="file-assignment-11-text-mining-ipynb-L155" class="blob-num js-line-number js-code-nav-line-number js-blob-rnum" data-line-number="155"></td>
          <td id="file-assignment-11-text-mining-ipynb-LC155" class="blob-code blob-code-inner js-file-line">    {</td>
        </tr>
        <tr>
          <td id="file-assignment-11-text-mining-ipynb-L156" class="blob-num js-line-number js-code-nav-line-number js-blob-rnum" data-line-number="156"></td>
          <td id="file-assignment-11-text-mining-ipynb-LC156" class="blob-code blob-code-inner js-file-line">      <span class="pl-ent">"metadata"</span>: {},</td>
        </tr>
        <tr>
          <td id="file-assignment-11-text-mining-ipynb-L157" class="blob-num js-line-number js-code-nav-line-number js-blob-rnum" data-line-number="157"></td>
          <td id="file-assignment-11-text-mining-ipynb-LC157" class="blob-code blob-code-inner js-file-line">      <span class="pl-ent">"cell_type"</span>: <span class="pl-s"><span class="pl-pds">"</span>markdown<span class="pl-pds">"</span></span>,</td>
        </tr>
        <tr>
          <td id="file-assignment-11-text-mining-ipynb-L158" class="blob-num js-line-number js-code-nav-line-number js-blob-rnum" data-line-number="158"></td>
          <td id="file-assignment-11-text-mining-ipynb-LC158" class="blob-code blob-code-inner js-file-line">      <span class="pl-ent">"source"</span>: <span class="pl-s"><span class="pl-pds">"</span>## 4. Average Word Length<span class="pl-pds">"</span></span></td>
        </tr>
        <tr>
          <td id="file-assignment-11-text-mining-ipynb-L159" class="blob-num js-line-number js-code-nav-line-number js-blob-rnum" data-line-number="159"></td>
          <td id="file-assignment-11-text-mining-ipynb-LC159" class="blob-code blob-code-inner js-file-line">    },</td>
        </tr>
        <tr>
          <td id="file-assignment-11-text-mining-ipynb-L160" class="blob-num js-line-number js-code-nav-line-number js-blob-rnum" data-line-number="160"></td>
          <td id="file-assignment-11-text-mining-ipynb-LC160" class="blob-code blob-code-inner js-file-line">    {</td>
        </tr>
        <tr>
          <td id="file-assignment-11-text-mining-ipynb-L161" class="blob-num js-line-number js-code-nav-line-number js-blob-rnum" data-line-number="161"></td>
          <td id="file-assignment-11-text-mining-ipynb-LC161" class="blob-code blob-code-inner js-file-line">      <span class="pl-ent">"metadata"</span>: {</td>
        </tr>
        <tr>
          <td id="file-assignment-11-text-mining-ipynb-L162" class="blob-num js-line-number js-code-nav-line-number js-blob-rnum" data-line-number="162"></td>
          <td id="file-assignment-11-text-mining-ipynb-LC162" class="blob-code blob-code-inner js-file-line">        <span class="pl-ent">"trusted"</span>: <span class="pl-c1">false</span></td>
        </tr>
        <tr>
          <td id="file-assignment-11-text-mining-ipynb-L163" class="blob-num js-line-number js-code-nav-line-number js-blob-rnum" data-line-number="163"></td>
          <td id="file-assignment-11-text-mining-ipynb-LC163" class="blob-code blob-code-inner js-file-line">      },</td>
        </tr>
        <tr>
          <td id="file-assignment-11-text-mining-ipynb-L164" class="blob-num js-line-number js-code-nav-line-number js-blob-rnum" data-line-number="164"></td>
          <td id="file-assignment-11-text-mining-ipynb-LC164" class="blob-code blob-code-inner js-file-line">      <span class="pl-ent">"cell_type"</span>: <span class="pl-s"><span class="pl-pds">"</span>code<span class="pl-pds">"</span></span>,</td>
        </tr>
        <tr>
          <td id="file-assignment-11-text-mining-ipynb-L165" class="blob-num js-line-number js-code-nav-line-number js-blob-rnum" data-line-number="165"></td>
          <td id="file-assignment-11-text-mining-ipynb-LC165" class="blob-code blob-code-inner js-file-line">      <span class="pl-ent">"source"</span>: <span class="pl-s"><span class="pl-pds">"</span>def avg_word(sentence):<span class="pl-cce">\n</span>  words = sentence.split()<span class="pl-cce">\n</span>  return (sum(len(word) for word in words)/len(words))<span class="pl-cce">\n\n</span>data['avg_word'] = data['Text'].apply(lambda x: avg_word(x))<span class="pl-cce">\n</span>data[['Text','avg_word']].head()<span class="pl-pds">"</span></span>,</td>
        </tr>
        <tr>
          <td id="file-assignment-11-text-mining-ipynb-L166" class="blob-num js-line-number js-code-nav-line-number js-blob-rnum" data-line-number="166"></td>
          <td id="file-assignment-11-text-mining-ipynb-LC166" class="blob-code blob-code-inner js-file-line">      <span class="pl-ent">"execution_count"</span>: <span class="pl-c1">9</span>,</td>
        </tr>
        <tr>
          <td id="file-assignment-11-text-mining-ipynb-L167" class="blob-num js-line-number js-code-nav-line-number js-blob-rnum" data-line-number="167"></td>
          <td id="file-assignment-11-text-mining-ipynb-LC167" class="blob-code blob-code-inner js-file-line">      <span class="pl-ent">"outputs"</span>: [</td>
        </tr>
        <tr>
          <td id="file-assignment-11-text-mining-ipynb-L168" class="blob-num js-line-number js-code-nav-line-number js-blob-rnum" data-line-number="168"></td>
          <td id="file-assignment-11-text-mining-ipynb-LC168" class="blob-code blob-code-inner js-file-line">        {</td>
        </tr>
        <tr>
          <td id="file-assignment-11-text-mining-ipynb-L169" class="blob-num js-line-number js-code-nav-line-number js-blob-rnum" data-line-number="169"></td>
          <td id="file-assignment-11-text-mining-ipynb-LC169" class="blob-code blob-code-inner js-file-line">          <span class="pl-ent">"data"</span>: {</td>
        </tr>
        <tr>
          <td id="file-assignment-11-text-mining-ipynb-L170" class="blob-num js-line-number js-code-nav-line-number js-blob-rnum" data-line-number="170"></td>
          <td id="file-assignment-11-text-mining-ipynb-LC170" class="blob-code blob-code-inner js-file-line">            "text/html": "&lt;div&gt;\n&lt;style scoped&gt;\n    .dataframe tbody tr th:only-of-type {\n        vertical-align: middle;\n    }\n\n    .dataframe tbody tr th {\n        vertical-align: top;\n    }\n\n    .dataframe thead th {\n        text-align: right;\n    }\n&lt;/style&gt;\n&lt;table border=\"1\" class=\"dataframe\"&gt;\n  &lt;thead&gt;\n    &lt;tr style=\"text-align: right;\"&gt;\n      &lt;th&gt;&lt;/th&gt;\n      &lt;th&gt;Text&lt;/th&gt;\n      &lt;th&gt;avg_word&lt;/th&gt;\n    &lt;/tr&gt;\n  &lt;/thead&gt;\n  &lt;tbody&gt;\n    &lt;tr&gt;\n      &lt;th&gt;0&lt;/th&gt;\n      &lt;td&gt;@kunalb11 Im an alien&lt;/td&gt;\n      &lt;td&gt;4.750000&lt;/td&gt;\n    &lt;/tr&gt;\n    &lt;tr&gt;\n      &lt;th&gt;1&lt;/th&gt;\n      &lt;td&gt;@ID_AA_Carmack Ray tracing on Cyberpunk with H...&lt;/td&gt;\n      &lt;td&gt;5.384615&lt;/td&gt;\n    &lt;/tr&gt;\n    &lt;tr&gt;\n      &lt;th&gt;2&lt;/th&gt;\n      &lt;td&gt;@joerogan @Spotify Great interview!&lt;/td&gt;\n      &lt;td&gt;8.000000&lt;/td&gt;\n    &lt;/tr&gt;\n    &lt;tr&gt;\n      &lt;th&gt;3&lt;/th&gt;\n      &lt;td&gt;@gtera27 Doge is underestimated&lt;/td&gt;\n      &lt;td&gt;7.000000&lt;/td&gt;\n    &lt;/tr&gt;\n    &lt;tr&gt;\n      &lt;th&gt;4&lt;/th&gt;\n      &lt;td&gt;@teslacn Congratulations Tesla China for amazi...&lt;/td&gt;\n      &lt;td&gt;5.176471&lt;/td&gt;\n    &lt;/tr&gt;\n  &lt;/tbody&gt;\n&lt;/table&gt;\n&lt;/div&gt;",</td>
        </tr>
        <tr>
          <td id="file-assignment-11-text-mining-ipynb-L171" class="blob-num js-line-number js-code-nav-line-number js-blob-rnum" data-line-number="171"></td>
          <td id="file-assignment-11-text-mining-ipynb-LC171" class="blob-code blob-code-inner js-file-line">            <span class="pl-ent">"text/plain"</span>: <span class="pl-s"><span class="pl-pds">"</span>                                                Text  avg_word<span class="pl-cce">\n</span>0                             @kunalb11 Im an alien  4.750000<span class="pl-cce">\n</span>1  @ID_AA_Carmack Ray tracing on Cyberpunk with H...  5.384615<span class="pl-cce">\n</span>2                @joerogan @Spotify Great interview!  8.000000<span class="pl-cce">\n</span>3                    @gtera27 Doge is underestimated  7.000000<span class="pl-cce">\n</span>4  @teslacn Congratulations Tesla China for amazi...  5.176471<span class="pl-pds">"</span></span></td>
        </tr>
        <tr>
          <td id="file-assignment-11-text-mining-ipynb-L172" class="blob-num js-line-number js-code-nav-line-number js-blob-rnum" data-line-number="172"></td>
          <td id="file-assignment-11-text-mining-ipynb-LC172" class="blob-code blob-code-inner js-file-line">          },</td>
        </tr>
        <tr>
          <td id="file-assignment-11-text-mining-ipynb-L173" class="blob-num js-line-number js-code-nav-line-number js-blob-rnum" data-line-number="173"></td>
          <td id="file-assignment-11-text-mining-ipynb-LC173" class="blob-code blob-code-inner js-file-line">          <span class="pl-ent">"execution_count"</span>: <span class="pl-c1">9</span>,</td>
        </tr>
        <tr>
          <td id="file-assignment-11-text-mining-ipynb-L174" class="blob-num js-line-number js-code-nav-line-number js-blob-rnum" data-line-number="174"></td>
          <td id="file-assignment-11-text-mining-ipynb-LC174" class="blob-code blob-code-inner js-file-line">          <span class="pl-ent">"metadata"</span>: {},</td>
        </tr>
        <tr>
          <td id="file-assignment-11-text-mining-ipynb-L175" class="blob-num js-line-number js-code-nav-line-number js-blob-rnum" data-line-number="175"></td>
          <td id="file-assignment-11-text-mining-ipynb-LC175" class="blob-code blob-code-inner js-file-line">          <span class="pl-ent">"output_type"</span>: <span class="pl-s"><span class="pl-pds">"</span>execute_result<span class="pl-pds">"</span></span></td>
        </tr>
        <tr>
          <td id="file-assignment-11-text-mining-ipynb-L176" class="blob-num js-line-number js-code-nav-line-number js-blob-rnum" data-line-number="176"></td>
          <td id="file-assignment-11-text-mining-ipynb-LC176" class="blob-code blob-code-inner js-file-line">        }</td>
        </tr>
        <tr>
          <td id="file-assignment-11-text-mining-ipynb-L177" class="blob-num js-line-number js-code-nav-line-number js-blob-rnum" data-line-number="177"></td>
          <td id="file-assignment-11-text-mining-ipynb-LC177" class="blob-code blob-code-inner js-file-line">      ]</td>
        </tr>
        <tr>
          <td id="file-assignment-11-text-mining-ipynb-L178" class="blob-num js-line-number js-code-nav-line-number js-blob-rnum" data-line-number="178"></td>
          <td id="file-assignment-11-text-mining-ipynb-LC178" class="blob-code blob-code-inner js-file-line">    },</td>
        </tr>
        <tr>
          <td id="file-assignment-11-text-mining-ipynb-L179" class="blob-num js-line-number js-code-nav-line-number js-blob-rnum" data-line-number="179"></td>
          <td id="file-assignment-11-text-mining-ipynb-LC179" class="blob-code blob-code-inner js-file-line">    {</td>
        </tr>
        <tr>
          <td id="file-assignment-11-text-mining-ipynb-L180" class="blob-num js-line-number js-code-nav-line-number js-blob-rnum" data-line-number="180"></td>
          <td id="file-assignment-11-text-mining-ipynb-LC180" class="blob-code blob-code-inner js-file-line">      <span class="pl-ent">"metadata"</span>: {},</td>
        </tr>
        <tr>
          <td id="file-assignment-11-text-mining-ipynb-L181" class="blob-num js-line-number js-code-nav-line-number js-blob-rnum" data-line-number="181"></td>
          <td id="file-assignment-11-text-mining-ipynb-LC181" class="blob-code blob-code-inner js-file-line">      <span class="pl-ent">"cell_type"</span>: <span class="pl-s"><span class="pl-pds">"</span>markdown<span class="pl-pds">"</span></span>,</td>
        </tr>
        <tr>
          <td id="file-assignment-11-text-mining-ipynb-L182" class="blob-num js-line-number js-code-nav-line-number js-blob-rnum" data-line-number="182"></td>
          <td id="file-assignment-11-text-mining-ipynb-LC182" class="blob-code blob-code-inner js-file-line">      <span class="pl-ent">"source"</span>: <span class="pl-s"><span class="pl-pds">"</span>## 5. Number of stopwords<span class="pl-pds">"</span></span></td>
        </tr>
        <tr>
          <td id="file-assignment-11-text-mining-ipynb-L183" class="blob-num js-line-number js-code-nav-line-number js-blob-rnum" data-line-number="183"></td>
          <td id="file-assignment-11-text-mining-ipynb-LC183" class="blob-code blob-code-inner js-file-line">    },</td>
        </tr>
        <tr>
          <td id="file-assignment-11-text-mining-ipynb-L184" class="blob-num js-line-number js-code-nav-line-number js-blob-rnum" data-line-number="184"></td>
          <td id="file-assignment-11-text-mining-ipynb-LC184" class="blob-code blob-code-inner js-file-line">    {</td>
        </tr>
        <tr>
          <td id="file-assignment-11-text-mining-ipynb-L185" class="blob-num js-line-number js-code-nav-line-number js-blob-rnum" data-line-number="185"></td>
          <td id="file-assignment-11-text-mining-ipynb-LC185" class="blob-code blob-code-inner js-file-line">      <span class="pl-ent">"metadata"</span>: {</td>
        </tr>
        <tr>
          <td id="file-assignment-11-text-mining-ipynb-L186" class="blob-num js-line-number js-code-nav-line-number js-blob-rnum" data-line-number="186"></td>
          <td id="file-assignment-11-text-mining-ipynb-LC186" class="blob-code blob-code-inner js-file-line">        <span class="pl-ent">"trusted"</span>: <span class="pl-c1">false</span></td>
        </tr>
        <tr>
          <td id="file-assignment-11-text-mining-ipynb-L187" class="blob-num js-line-number js-code-nav-line-number js-blob-rnum" data-line-number="187"></td>
          <td id="file-assignment-11-text-mining-ipynb-LC187" class="blob-code blob-code-inner js-file-line">      },</td>
        </tr>
        <tr>
          <td id="file-assignment-11-text-mining-ipynb-L188" class="blob-num js-line-number js-code-nav-line-number js-blob-rnum" data-line-number="188"></td>
          <td id="file-assignment-11-text-mining-ipynb-LC188" class="blob-code blob-code-inner js-file-line">      <span class="pl-ent">"cell_type"</span>: <span class="pl-s"><span class="pl-pds">"</span>code<span class="pl-pds">"</span></span>,</td>
        </tr>
        <tr>
          <td id="file-assignment-11-text-mining-ipynb-L189" class="blob-num js-line-number js-code-nav-line-number js-blob-rnum" data-line-number="189"></td>
          <td id="file-assignment-11-text-mining-ipynb-LC189" class="blob-code blob-code-inner js-file-line">      <span class="pl-ent">"source"</span>: <span class="pl-s"><span class="pl-pds">"</span>stop = stopwords.words('english')<span class="pl-cce">\n\n</span>data['stopwords'] = data['Text'].apply(lambda x: len([x for x in x.split() if x in stop]))<span class="pl-cce">\n</span>data[['Text','stopwords']].head()<span class="pl-pds">"</span></span>,</td>
        </tr>
        <tr>
          <td id="file-assignment-11-text-mining-ipynb-L190" class="blob-num js-line-number js-code-nav-line-number js-blob-rnum" data-line-number="190"></td>
          <td id="file-assignment-11-text-mining-ipynb-LC190" class="blob-code blob-code-inner js-file-line">      <span class="pl-ent">"execution_count"</span>: <span class="pl-c1">10</span>,</td>
        </tr>
        <tr>
          <td id="file-assignment-11-text-mining-ipynb-L191" class="blob-num js-line-number js-code-nav-line-number js-blob-rnum" data-line-number="191"></td>
          <td id="file-assignment-11-text-mining-ipynb-LC191" class="blob-code blob-code-inner js-file-line">      <span class="pl-ent">"outputs"</span>: [</td>
        </tr>
        <tr>
          <td id="file-assignment-11-text-mining-ipynb-L192" class="blob-num js-line-number js-code-nav-line-number js-blob-rnum" data-line-number="192"></td>
          <td id="file-assignment-11-text-mining-ipynb-LC192" class="blob-code blob-code-inner js-file-line">        {</td>
        </tr>
        <tr>
          <td id="file-assignment-11-text-mining-ipynb-L193" class="blob-num js-line-number js-code-nav-line-number js-blob-rnum" data-line-number="193"></td>
          <td id="file-assignment-11-text-mining-ipynb-LC193" class="blob-code blob-code-inner js-file-line">          <span class="pl-ent">"data"</span>: {</td>
        </tr>
        <tr>
          <td id="file-assignment-11-text-mining-ipynb-L194" class="blob-num js-line-number js-code-nav-line-number js-blob-rnum" data-line-number="194"></td>
          <td id="file-assignment-11-text-mining-ipynb-LC194" class="blob-code blob-code-inner js-file-line">            "text/html": "&lt;div&gt;\n&lt;style scoped&gt;\n    .dataframe tbody tr th:only-of-type {\n        vertical-align: middle;\n    }\n\n    .dataframe tbody tr th {\n        vertical-align: top;\n    }\n\n    .dataframe thead th {\n        text-align: right;\n    }\n&lt;/style&gt;\n&lt;table border=\"1\" class=\"dataframe\"&gt;\n  &lt;thead&gt;\n    &lt;tr style=\"text-align: right;\"&gt;\n      &lt;th&gt;&lt;/th&gt;\n      &lt;th&gt;Text&lt;/th&gt;\n      &lt;th&gt;stopwords&lt;/th&gt;\n    &lt;/tr&gt;\n  &lt;/thead&gt;\n  &lt;tbody&gt;\n    &lt;tr&gt;\n      &lt;th&gt;0&lt;/th&gt;\n      &lt;td&gt;@kunalb11 Im an alien&lt;/td&gt;\n      &lt;td&gt;1&lt;/td&gt;\n    &lt;/tr&gt;\n    &lt;tr&gt;\n      &lt;th&gt;1&lt;/th&gt;\n      &lt;td&gt;@ID_AA_Carmack Ray tracing on Cyberpunk with H...&lt;/td&gt;\n      &lt;td&gt;4&lt;/td&gt;\n    &lt;/tr&gt;\n    &lt;tr&gt;\n      &lt;th&gt;2&lt;/th&gt;\n      &lt;td&gt;@joerogan @Spotify Great interview!&lt;/td&gt;\n      &lt;td&gt;0&lt;/td&gt;\n    &lt;/tr&gt;\n    &lt;tr&gt;\n      &lt;th&gt;3&lt;/th&gt;\n      &lt;td&gt;@gtera27 Doge is underestimated&lt;/td&gt;\n      &lt;td&gt;1&lt;/td&gt;\n    &lt;/tr&gt;\n    &lt;tr&gt;\n      &lt;th&gt;4&lt;/th&gt;\n      &lt;td&gt;@teslacn Congratulations Tesla China for amazi...&lt;/td&gt;\n      &lt;td&gt;5&lt;/td&gt;\n    &lt;/tr&gt;\n  &lt;/tbody&gt;\n&lt;/table&gt;\n&lt;/div&gt;",</td>
        </tr>
        <tr>
          <td id="file-assignment-11-text-mining-ipynb-L195" class="blob-num js-line-number js-code-nav-line-number js-blob-rnum" data-line-number="195"></td>
          <td id="file-assignment-11-text-mining-ipynb-LC195" class="blob-code blob-code-inner js-file-line">            <span class="pl-ent">"text/plain"</span>: <span class="pl-s"><span class="pl-pds">"</span>                                                Text  stopwords<span class="pl-cce">\n</span>0                             @kunalb11 Im an alien          1<span class="pl-cce">\n</span>1  @ID_AA_Carmack Ray tracing on Cyberpunk with H...          4<span class="pl-cce">\n</span>2                @joerogan @Spotify Great interview!          0<span class="pl-cce">\n</span>3                    @gtera27 Doge is underestimated          1<span class="pl-cce">\n</span>4  @teslacn Congratulations Tesla China for amazi...          5<span class="pl-pds">"</span></span></td>
        </tr>
        <tr>
          <td id="file-assignment-11-text-mining-ipynb-L196" class="blob-num js-line-number js-code-nav-line-number js-blob-rnum" data-line-number="196"></td>
          <td id="file-assignment-11-text-mining-ipynb-LC196" class="blob-code blob-code-inner js-file-line">          },</td>
        </tr>
        <tr>
          <td id="file-assignment-11-text-mining-ipynb-L197" class="blob-num js-line-number js-code-nav-line-number js-blob-rnum" data-line-number="197"></td>
          <td id="file-assignment-11-text-mining-ipynb-LC197" class="blob-code blob-code-inner js-file-line">          <span class="pl-ent">"execution_count"</span>: <span class="pl-c1">10</span>,</td>
        </tr>
        <tr>
          <td id="file-assignment-11-text-mining-ipynb-L198" class="blob-num js-line-number js-code-nav-line-number js-blob-rnum" data-line-number="198"></td>
          <td id="file-assignment-11-text-mining-ipynb-LC198" class="blob-code blob-code-inner js-file-line">          <span class="pl-ent">"metadata"</span>: {},</td>
        </tr>
        <tr>
          <td id="file-assignment-11-text-mining-ipynb-L199" class="blob-num js-line-number js-code-nav-line-number js-blob-rnum" data-line-number="199"></td>
          <td id="file-assignment-11-text-mining-ipynb-LC199" class="blob-code blob-code-inner js-file-line">          <span class="pl-ent">"output_type"</span>: <span class="pl-s"><span class="pl-pds">"</span>execute_result<span class="pl-pds">"</span></span></td>
        </tr>
        <tr>
          <td id="file-assignment-11-text-mining-ipynb-L200" class="blob-num js-line-number js-code-nav-line-number js-blob-rnum" data-line-number="200"></td>
          <td id="file-assignment-11-text-mining-ipynb-LC200" class="blob-code blob-code-inner js-file-line">        }</td>
        </tr>
        <tr>
          <td id="file-assignment-11-text-mining-ipynb-L201" class="blob-num js-line-number js-code-nav-line-number js-blob-rnum" data-line-number="201"></td>
          <td id="file-assignment-11-text-mining-ipynb-LC201" class="blob-code blob-code-inner js-file-line">      ]</td>
        </tr>
        <tr>
          <td id="file-assignment-11-text-mining-ipynb-L202" class="blob-num js-line-number js-code-nav-line-number js-blob-rnum" data-line-number="202"></td>
          <td id="file-assignment-11-text-mining-ipynb-LC202" class="blob-code blob-code-inner js-file-line">    },</td>
        </tr>
        <tr>
          <td id="file-assignment-11-text-mining-ipynb-L203" class="blob-num js-line-number js-code-nav-line-number js-blob-rnum" data-line-number="203"></td>
          <td id="file-assignment-11-text-mining-ipynb-LC203" class="blob-code blob-code-inner js-file-line">    {</td>
        </tr>
        <tr>
          <td id="file-assignment-11-text-mining-ipynb-L204" class="blob-num js-line-number js-code-nav-line-number js-blob-rnum" data-line-number="204"></td>
          <td id="file-assignment-11-text-mining-ipynb-LC204" class="blob-code blob-code-inner js-file-line">      <span class="pl-ent">"metadata"</span>: {},</td>
        </tr>
        <tr>
          <td id="file-assignment-11-text-mining-ipynb-L205" class="blob-num js-line-number js-code-nav-line-number js-blob-rnum" data-line-number="205"></td>
          <td id="file-assignment-11-text-mining-ipynb-LC205" class="blob-code blob-code-inner js-file-line">      <span class="pl-ent">"cell_type"</span>: <span class="pl-s"><span class="pl-pds">"</span>markdown<span class="pl-pds">"</span></span>,</td>
        </tr>
        <tr>
          <td id="file-assignment-11-text-mining-ipynb-L206" class="blob-num js-line-number js-code-nav-line-number js-blob-rnum" data-line-number="206"></td>
          <td id="file-assignment-11-text-mining-ipynb-LC206" class="blob-code blob-code-inner js-file-line">      <span class="pl-ent">"source"</span>: <span class="pl-s"><span class="pl-pds">"</span>## 6. Number of Special Characters<span class="pl-pds">"</span></span></td>
        </tr>
        <tr>
          <td id="file-assignment-11-text-mining-ipynb-L207" class="blob-num js-line-number js-code-nav-line-number js-blob-rnum" data-line-number="207"></td>
          <td id="file-assignment-11-text-mining-ipynb-LC207" class="blob-code blob-code-inner js-file-line">    },</td>
        </tr>
        <tr>
          <td id="file-assignment-11-text-mining-ipynb-L208" class="blob-num js-line-number js-code-nav-line-number js-blob-rnum" data-line-number="208"></td>
          <td id="file-assignment-11-text-mining-ipynb-LC208" class="blob-code blob-code-inner js-file-line">    {</td>
        </tr>
        <tr>
          <td id="file-assignment-11-text-mining-ipynb-L209" class="blob-num js-line-number js-code-nav-line-number js-blob-rnum" data-line-number="209"></td>
          <td id="file-assignment-11-text-mining-ipynb-LC209" class="blob-code blob-code-inner js-file-line">      <span class="pl-ent">"metadata"</span>: {</td>
        </tr>
        <tr>
          <td id="file-assignment-11-text-mining-ipynb-L210" class="blob-num js-line-number js-code-nav-line-number js-blob-rnum" data-line-number="210"></td>
          <td id="file-assignment-11-text-mining-ipynb-LC210" class="blob-code blob-code-inner js-file-line">        <span class="pl-ent">"trusted"</span>: <span class="pl-c1">false</span></td>
        </tr>
        <tr>
          <td id="file-assignment-11-text-mining-ipynb-L211" class="blob-num js-line-number js-code-nav-line-number js-blob-rnum" data-line-number="211"></td>
          <td id="file-assignment-11-text-mining-ipynb-LC211" class="blob-code blob-code-inner js-file-line">      },</td>
        </tr>
        <tr>
          <td id="file-assignment-11-text-mining-ipynb-L212" class="blob-num js-line-number js-code-nav-line-number js-blob-rnum" data-line-number="212"></td>
          <td id="file-assignment-11-text-mining-ipynb-LC212" class="blob-code blob-code-inner js-file-line">      <span class="pl-ent">"cell_type"</span>: <span class="pl-s"><span class="pl-pds">"</span>code<span class="pl-pds">"</span></span>,</td>
        </tr>
        <tr>
          <td id="file-assignment-11-text-mining-ipynb-L213" class="blob-num js-line-number js-code-nav-line-number js-blob-rnum" data-line-number="213"></td>
          <td id="file-assignment-11-text-mining-ipynb-LC213" class="blob-code blob-code-inner js-file-line">      <span class="pl-ent">"source"</span>: <span class="pl-s"><span class="pl-pds">"</span>data['hastags'] = data['Text'].apply(lambda x: len([x for x in x.split() if x.startswith('@')]))<span class="pl-cce">\n</span>data[['Text','hastags']].head()<span class="pl-pds">"</span></span>,</td>
        </tr>
        <tr>
          <td id="file-assignment-11-text-mining-ipynb-L214" class="blob-num js-line-number js-code-nav-line-number js-blob-rnum" data-line-number="214"></td>
          <td id="file-assignment-11-text-mining-ipynb-LC214" class="blob-code blob-code-inner js-file-line">      <span class="pl-ent">"execution_count"</span>: <span class="pl-c1">11</span>,</td>
        </tr>
        <tr>
          <td id="file-assignment-11-text-mining-ipynb-L215" class="blob-num js-line-number js-code-nav-line-number js-blob-rnum" data-line-number="215"></td>
          <td id="file-assignment-11-text-mining-ipynb-LC215" class="blob-code blob-code-inner js-file-line">      <span class="pl-ent">"outputs"</span>: [</td>
        </tr>
        <tr>
          <td id="file-assignment-11-text-mining-ipynb-L216" class="blob-num js-line-number js-code-nav-line-number js-blob-rnum" data-line-number="216"></td>
          <td id="file-assignment-11-text-mining-ipynb-LC216" class="blob-code blob-code-inner js-file-line">        {</td>
        </tr>
        <tr>
          <td id="file-assignment-11-text-mining-ipynb-L217" class="blob-num js-line-number js-code-nav-line-number js-blob-rnum" data-line-number="217"></td>
          <td id="file-assignment-11-text-mining-ipynb-LC217" class="blob-code blob-code-inner js-file-line">          <span class="pl-ent">"data"</span>: {</td>
        </tr>
        <tr>
          <td id="file-assignment-11-text-mining-ipynb-L218" class="blob-num js-line-number js-code-nav-line-number js-blob-rnum" data-line-number="218"></td>
          <td id="file-assignment-11-text-mining-ipynb-LC218" class="blob-code blob-code-inner js-file-line">            "text/html": "&lt;div&gt;\n&lt;style scoped&gt;\n    .dataframe tbody tr th:only-of-type {\n        vertical-align: middle;\n    }\n\n    .dataframe tbody tr th {\n        vertical-align: top;\n    }\n\n    .dataframe thead th {\n        text-align: right;\n    }\n&lt;/style&gt;\n&lt;table border=\"1\" class=\"dataframe\"&gt;\n  &lt;thead&gt;\n    &lt;tr style=\"text-align: right;\"&gt;\n      &lt;th&gt;&lt;/th&gt;\n      &lt;th&gt;Text&lt;/th&gt;\n      &lt;th&gt;hastags&lt;/th&gt;\n    &lt;/tr&gt;\n  &lt;/thead&gt;\n  &lt;tbody&gt;\n    &lt;tr&gt;\n      &lt;th&gt;0&lt;/th&gt;\n      &lt;td&gt;@kunalb11 Im an alien&lt;/td&gt;\n      &lt;td&gt;1&lt;/td&gt;\n    &lt;/tr&gt;\n    &lt;tr&gt;\n      &lt;th&gt;1&lt;/th&gt;\n      &lt;td&gt;@ID_AA_Carmack Ray tracing on Cyberpunk with H...&lt;/td&gt;\n      &lt;td&gt;1&lt;/td&gt;\n    &lt;/tr&gt;\n    &lt;tr&gt;\n      &lt;th&gt;2&lt;/th&gt;\n      &lt;td&gt;@joerogan @Spotify Great interview!&lt;/td&gt;\n      &lt;td&gt;2&lt;/td&gt;\n    &lt;/tr&gt;\n    &lt;tr&gt;\n      &lt;th&gt;3&lt;/th&gt;\n      &lt;td&gt;@gtera27 Doge is underestimated&lt;/td&gt;\n      &lt;td&gt;1&lt;/td&gt;\n    &lt;/tr&gt;\n    &lt;tr&gt;\n      &lt;th&gt;4&lt;/th&gt;\n      &lt;td&gt;@teslacn Congratulations Tesla China for amazi...&lt;/td&gt;\n      &lt;td&gt;1&lt;/td&gt;\n    &lt;/tr&gt;\n  &lt;/tbody&gt;\n&lt;/table&gt;\n&lt;/div&gt;",</td>
        </tr>
        <tr>
          <td id="file-assignment-11-text-mining-ipynb-L219" class="blob-num js-line-number js-code-nav-line-number js-blob-rnum" data-line-number="219"></td>
          <td id="file-assignment-11-text-mining-ipynb-LC219" class="blob-code blob-code-inner js-file-line">            <span class="pl-ent">"text/plain"</span>: <span class="pl-s"><span class="pl-pds">"</span>                                                Text  hastags<span class="pl-cce">\n</span>0                             @kunalb11 Im an alien        1<span class="pl-cce">\n</span>1  @ID_AA_Carmack Ray tracing on Cyberpunk with H...        1<span class="pl-cce">\n</span>2                @joerogan @Spotify Great interview!        2<span class="pl-cce">\n</span>3                    @gtera27 Doge is underestimated        1<span class="pl-cce">\n</span>4  @teslacn Congratulations Tesla China for amazi...        1<span class="pl-pds">"</span></span></td>
        </tr>
        <tr>
          <td id="file-assignment-11-text-mining-ipynb-L220" class="blob-num js-line-number js-code-nav-line-number js-blob-rnum" data-line-number="220"></td>
          <td id="file-assignment-11-text-mining-ipynb-LC220" class="blob-code blob-code-inner js-file-line">          },</td>
        </tr>
        <tr>
          <td id="file-assignment-11-text-mining-ipynb-L221" class="blob-num js-line-number js-code-nav-line-number js-blob-rnum" data-line-number="221"></td>
          <td id="file-assignment-11-text-mining-ipynb-LC221" class="blob-code blob-code-inner js-file-line">          <span class="pl-ent">"execution_count"</span>: <span class="pl-c1">11</span>,</td>
        </tr>
        <tr>
          <td id="file-assignment-11-text-mining-ipynb-L222" class="blob-num js-line-number js-code-nav-line-number js-blob-rnum" data-line-number="222"></td>
          <td id="file-assignment-11-text-mining-ipynb-LC222" class="blob-code blob-code-inner js-file-line">          <span class="pl-ent">"metadata"</span>: {},</td>
        </tr>
        <tr>
          <td id="file-assignment-11-text-mining-ipynb-L223" class="blob-num js-line-number js-code-nav-line-number js-blob-rnum" data-line-number="223"></td>
          <td id="file-assignment-11-text-mining-ipynb-LC223" class="blob-code blob-code-inner js-file-line">          <span class="pl-ent">"output_type"</span>: <span class="pl-s"><span class="pl-pds">"</span>execute_result<span class="pl-pds">"</span></span></td>
        </tr>
        <tr>
          <td id="file-assignment-11-text-mining-ipynb-L224" class="blob-num js-line-number js-code-nav-line-number js-blob-rnum" data-line-number="224"></td>
          <td id="file-assignment-11-text-mining-ipynb-LC224" class="blob-code blob-code-inner js-file-line">        }</td>
        </tr>
        <tr>
          <td id="file-assignment-11-text-mining-ipynb-L225" class="blob-num js-line-number js-code-nav-line-number js-blob-rnum" data-line-number="225"></td>
          <td id="file-assignment-11-text-mining-ipynb-LC225" class="blob-code blob-code-inner js-file-line">      ]</td>
        </tr>
        <tr>
          <td id="file-assignment-11-text-mining-ipynb-L226" class="blob-num js-line-number js-code-nav-line-number js-blob-rnum" data-line-number="226"></td>
          <td id="file-assignment-11-text-mining-ipynb-LC226" class="blob-code blob-code-inner js-file-line">    },</td>
        </tr>
        <tr>
          <td id="file-assignment-11-text-mining-ipynb-L227" class="blob-num js-line-number js-code-nav-line-number js-blob-rnum" data-line-number="227"></td>
          <td id="file-assignment-11-text-mining-ipynb-LC227" class="blob-code blob-code-inner js-file-line">    {</td>
        </tr>
        <tr>
          <td id="file-assignment-11-text-mining-ipynb-L228" class="blob-num js-line-number js-code-nav-line-number js-blob-rnum" data-line-number="228"></td>
          <td id="file-assignment-11-text-mining-ipynb-LC228" class="blob-code blob-code-inner js-file-line">      <span class="pl-ent">"metadata"</span>: {},</td>
        </tr>
        <tr>
          <td id="file-assignment-11-text-mining-ipynb-L229" class="blob-num js-line-number js-code-nav-line-number js-blob-rnum" data-line-number="229"></td>
          <td id="file-assignment-11-text-mining-ipynb-LC229" class="blob-code blob-code-inner js-file-line">      <span class="pl-ent">"cell_type"</span>: <span class="pl-s"><span class="pl-pds">"</span>markdown<span class="pl-pds">"</span></span>,</td>
        </tr>
        <tr>
          <td id="file-assignment-11-text-mining-ipynb-L230" class="blob-num js-line-number js-code-nav-line-number js-blob-rnum" data-line-number="230"></td>
          <td id="file-assignment-11-text-mining-ipynb-LC230" class="blob-code blob-code-inner js-file-line">      <span class="pl-ent">"source"</span>: <span class="pl-s"><span class="pl-pds">"</span>## 7. Number of Numerics<span class="pl-pds">"</span></span></td>
        </tr>
        <tr>
          <td id="file-assignment-11-text-mining-ipynb-L231" class="blob-num js-line-number js-code-nav-line-number js-blob-rnum" data-line-number="231"></td>
          <td id="file-assignment-11-text-mining-ipynb-LC231" class="blob-code blob-code-inner js-file-line">    },</td>
        </tr>
        <tr>
          <td id="file-assignment-11-text-mining-ipynb-L232" class="blob-num js-line-number js-code-nav-line-number js-blob-rnum" data-line-number="232"></td>
          <td id="file-assignment-11-text-mining-ipynb-LC232" class="blob-code blob-code-inner js-file-line">    {</td>
        </tr>
        <tr>
          <td id="file-assignment-11-text-mining-ipynb-L233" class="blob-num js-line-number js-code-nav-line-number js-blob-rnum" data-line-number="233"></td>
          <td id="file-assignment-11-text-mining-ipynb-LC233" class="blob-code blob-code-inner js-file-line">      <span class="pl-ent">"metadata"</span>: {</td>
        </tr>
        <tr>
          <td id="file-assignment-11-text-mining-ipynb-L234" class="blob-num js-line-number js-code-nav-line-number js-blob-rnum" data-line-number="234"></td>
          <td id="file-assignment-11-text-mining-ipynb-LC234" class="blob-code blob-code-inner js-file-line">        <span class="pl-ent">"trusted"</span>: <span class="pl-c1">false</span></td>
        </tr>
        <tr>
          <td id="file-assignment-11-text-mining-ipynb-L235" class="blob-num js-line-number js-code-nav-line-number js-blob-rnum" data-line-number="235"></td>
          <td id="file-assignment-11-text-mining-ipynb-LC235" class="blob-code blob-code-inner js-file-line">      },</td>
        </tr>
        <tr>
          <td id="file-assignment-11-text-mining-ipynb-L236" class="blob-num js-line-number js-code-nav-line-number js-blob-rnum" data-line-number="236"></td>
          <td id="file-assignment-11-text-mining-ipynb-LC236" class="blob-code blob-code-inner js-file-line">      <span class="pl-ent">"cell_type"</span>: <span class="pl-s"><span class="pl-pds">"</span>code<span class="pl-pds">"</span></span>,</td>
        </tr>
        <tr>
          <td id="file-assignment-11-text-mining-ipynb-L237" class="blob-num js-line-number js-code-nav-line-number js-blob-rnum" data-line-number="237"></td>
          <td id="file-assignment-11-text-mining-ipynb-LC237" class="blob-code blob-code-inner js-file-line">      <span class="pl-ent">"source"</span>: <span class="pl-s"><span class="pl-pds">"</span>data['numerics'] = data['Text'].apply(lambda x: len([x for x in x.split() if x.isdigit()]))<span class="pl-cce">\n</span>data[['Text','numerics']].head()<span class="pl-pds">"</span></span>,</td>
        </tr>
        <tr>
          <td id="file-assignment-11-text-mining-ipynb-L238" class="blob-num js-line-number js-code-nav-line-number js-blob-rnum" data-line-number="238"></td>
          <td id="file-assignment-11-text-mining-ipynb-LC238" class="blob-code blob-code-inner js-file-line">      <span class="pl-ent">"execution_count"</span>: <span class="pl-c1">12</span>,</td>
        </tr>
        <tr>
          <td id="file-assignment-11-text-mining-ipynb-L239" class="blob-num js-line-number js-code-nav-line-number js-blob-rnum" data-line-number="239"></td>
          <td id="file-assignment-11-text-mining-ipynb-LC239" class="blob-code blob-code-inner js-file-line">      <span class="pl-ent">"outputs"</span>: [</td>
        </tr>
        <tr>
          <td id="file-assignment-11-text-mining-ipynb-L240" class="blob-num js-line-number js-code-nav-line-number js-blob-rnum" data-line-number="240"></td>
          <td id="file-assignment-11-text-mining-ipynb-LC240" class="blob-code blob-code-inner js-file-line">        {</td>
        </tr>
        <tr>
          <td id="file-assignment-11-text-mining-ipynb-L241" class="blob-num js-line-number js-code-nav-line-number js-blob-rnum" data-line-number="241"></td>
          <td id="file-assignment-11-text-mining-ipynb-LC241" class="blob-code blob-code-inner js-file-line">          <span class="pl-ent">"data"</span>: {</td>
        </tr>
        <tr>
          <td id="file-assignment-11-text-mining-ipynb-L242" class="blob-num js-line-number js-code-nav-line-number js-blob-rnum" data-line-number="242"></td>
          <td id="file-assignment-11-text-mining-ipynb-LC242" class="blob-code blob-code-inner js-file-line">            "text/html": "&lt;div&gt;\n&lt;style scoped&gt;\n    .dataframe tbody tr th:only-of-type {\n        vertical-align: middle;\n    }\n\n    .dataframe tbody tr th {\n        vertical-align: top;\n    }\n\n    .dataframe thead th {\n        text-align: right;\n    }\n&lt;/style&gt;\n&lt;table border=\"1\" class=\"dataframe\"&gt;\n  &lt;thead&gt;\n    &lt;tr style=\"text-align: right;\"&gt;\n      &lt;th&gt;&lt;/th&gt;\n      &lt;th&gt;Text&lt;/th&gt;\n      &lt;th&gt;numerics&lt;/th&gt;\n    &lt;/tr&gt;\n  &lt;/thead&gt;\n  &lt;tbody&gt;\n    &lt;tr&gt;\n      &lt;th&gt;0&lt;/th&gt;\n      &lt;td&gt;@kunalb11 Im an alien&lt;/td&gt;\n      &lt;td&gt;0&lt;/td&gt;\n    &lt;/tr&gt;\n    &lt;tr&gt;\n      &lt;th&gt;1&lt;/th&gt;\n      &lt;td&gt;@ID_AA_Carmack Ray tracing on Cyberpunk with H...&lt;/td&gt;\n      &lt;td&gt;0&lt;/td&gt;\n    &lt;/tr&gt;\n    &lt;tr&gt;\n      &lt;th&gt;2&lt;/th&gt;\n      &lt;td&gt;@joerogan @Spotify Great interview!&lt;/td&gt;\n      &lt;td&gt;0&lt;/td&gt;\n    &lt;/tr&gt;\n    &lt;tr&gt;\n      &lt;th&gt;3&lt;/th&gt;\n      &lt;td&gt;@gtera27 Doge is underestimated&lt;/td&gt;\n      &lt;td&gt;0&lt;/td&gt;\n    &lt;/tr&gt;\n    &lt;tr&gt;\n      &lt;th&gt;4&lt;/th&gt;\n      &lt;td&gt;@teslacn Congratulations Tesla China for amazi...&lt;/td&gt;\n      &lt;td&gt;0&lt;/td&gt;\n    &lt;/tr&gt;\n  &lt;/tbody&gt;\n&lt;/table&gt;\n&lt;/div&gt;",</td>
        </tr>
        <tr>
          <td id="file-assignment-11-text-mining-ipynb-L243" class="blob-num js-line-number js-code-nav-line-number js-blob-rnum" data-line-number="243"></td>
          <td id="file-assignment-11-text-mining-ipynb-LC243" class="blob-code blob-code-inner js-file-line">            <span class="pl-ent">"text/plain"</span>: <span class="pl-s"><span class="pl-pds">"</span>                                                Text  numerics<span class="pl-cce">\n</span>0                             @kunalb11 Im an alien         0<span class="pl-cce">\n</span>1  @ID_AA_Carmack Ray tracing on Cyberpunk with H...         0<span class="pl-cce">\n</span>2                @joerogan @Spotify Great interview!         0<span class="pl-cce">\n</span>3                    @gtera27 Doge is underestimated         0<span class="pl-cce">\n</span>4  @teslacn Congratulations Tesla China for amazi...         0<span class="pl-pds">"</span></span></td>
        </tr>
        <tr>
          <td id="file-assignment-11-text-mining-ipynb-L244" class="blob-num js-line-number js-code-nav-line-number js-blob-rnum" data-line-number="244"></td>
          <td id="file-assignment-11-text-mining-ipynb-LC244" class="blob-code blob-code-inner js-file-line">          },</td>
        </tr>
        <tr>
          <td id="file-assignment-11-text-mining-ipynb-L245" class="blob-num js-line-number js-code-nav-line-number js-blob-rnum" data-line-number="245"></td>
          <td id="file-assignment-11-text-mining-ipynb-LC245" class="blob-code blob-code-inner js-file-line">          <span class="pl-ent">"execution_count"</span>: <span class="pl-c1">12</span>,</td>
        </tr>
        <tr>
          <td id="file-assignment-11-text-mining-ipynb-L246" class="blob-num js-line-number js-code-nav-line-number js-blob-rnum" data-line-number="246"></td>
          <td id="file-assignment-11-text-mining-ipynb-LC246" class="blob-code blob-code-inner js-file-line">          <span class="pl-ent">"metadata"</span>: {},</td>
        </tr>
        <tr>
          <td id="file-assignment-11-text-mining-ipynb-L247" class="blob-num js-line-number js-code-nav-line-number js-blob-rnum" data-line-number="247"></td>
          <td id="file-assignment-11-text-mining-ipynb-LC247" class="blob-code blob-code-inner js-file-line">          <span class="pl-ent">"output_type"</span>: <span class="pl-s"><span class="pl-pds">"</span>execute_result<span class="pl-pds">"</span></span></td>
        </tr>
        <tr>
          <td id="file-assignment-11-text-mining-ipynb-L248" class="blob-num js-line-number js-code-nav-line-number js-blob-rnum" data-line-number="248"></td>
          <td id="file-assignment-11-text-mining-ipynb-LC248" class="blob-code blob-code-inner js-file-line">        }</td>
        </tr>
        <tr>
          <td id="file-assignment-11-text-mining-ipynb-L249" class="blob-num js-line-number js-code-nav-line-number js-blob-rnum" data-line-number="249"></td>
          <td id="file-assignment-11-text-mining-ipynb-LC249" class="blob-code blob-code-inner js-file-line">      ]</td>
        </tr>
        <tr>
          <td id="file-assignment-11-text-mining-ipynb-L250" class="blob-num js-line-number js-code-nav-line-number js-blob-rnum" data-line-number="250"></td>
          <td id="file-assignment-11-text-mining-ipynb-LC250" class="blob-code blob-code-inner js-file-line">    },</td>
        </tr>
        <tr>
          <td id="file-assignment-11-text-mining-ipynb-L251" class="blob-num js-line-number js-code-nav-line-number js-blob-rnum" data-line-number="251"></td>
          <td id="file-assignment-11-text-mining-ipynb-LC251" class="blob-code blob-code-inner js-file-line">    {</td>
        </tr>
        <tr>
          <td id="file-assignment-11-text-mining-ipynb-L252" class="blob-num js-line-number js-code-nav-line-number js-blob-rnum" data-line-number="252"></td>
          <td id="file-assignment-11-text-mining-ipynb-LC252" class="blob-code blob-code-inner js-file-line">      <span class="pl-ent">"metadata"</span>: {},</td>
        </tr>
        <tr>
          <td id="file-assignment-11-text-mining-ipynb-L253" class="blob-num js-line-number js-code-nav-line-number js-blob-rnum" data-line-number="253"></td>
          <td id="file-assignment-11-text-mining-ipynb-LC253" class="blob-code blob-code-inner js-file-line">      <span class="pl-ent">"cell_type"</span>: <span class="pl-s"><span class="pl-pds">"</span>markdown<span class="pl-pds">"</span></span>,</td>
        </tr>
        <tr>
          <td id="file-assignment-11-text-mining-ipynb-L254" class="blob-num js-line-number js-code-nav-line-number js-blob-rnum" data-line-number="254"></td>
          <td id="file-assignment-11-text-mining-ipynb-LC254" class="blob-code blob-code-inner js-file-line">      <span class="pl-ent">"source"</span>: <span class="pl-s"><span class="pl-pds">"</span>## 8. Number of Upper Case Words<span class="pl-pds">"</span></span></td>
        </tr>
        <tr>
          <td id="file-assignment-11-text-mining-ipynb-L255" class="blob-num js-line-number js-code-nav-line-number js-blob-rnum" data-line-number="255"></td>
          <td id="file-assignment-11-text-mining-ipynb-LC255" class="blob-code blob-code-inner js-file-line">    },</td>
        </tr>
        <tr>
          <td id="file-assignment-11-text-mining-ipynb-L256" class="blob-num js-line-number js-code-nav-line-number js-blob-rnum" data-line-number="256"></td>
          <td id="file-assignment-11-text-mining-ipynb-LC256" class="blob-code blob-code-inner js-file-line">    {</td>
        </tr>
        <tr>
          <td id="file-assignment-11-text-mining-ipynb-L257" class="blob-num js-line-number js-code-nav-line-number js-blob-rnum" data-line-number="257"></td>
          <td id="file-assignment-11-text-mining-ipynb-LC257" class="blob-code blob-code-inner js-file-line">      <span class="pl-ent">"metadata"</span>: {</td>
        </tr>
        <tr>
          <td id="file-assignment-11-text-mining-ipynb-L258" class="blob-num js-line-number js-code-nav-line-number js-blob-rnum" data-line-number="258"></td>
          <td id="file-assignment-11-text-mining-ipynb-LC258" class="blob-code blob-code-inner js-file-line">        <span class="pl-ent">"trusted"</span>: <span class="pl-c1">false</span></td>
        </tr>
        <tr>
          <td id="file-assignment-11-text-mining-ipynb-L259" class="blob-num js-line-number js-code-nav-line-number js-blob-rnum" data-line-number="259"></td>
          <td id="file-assignment-11-text-mining-ipynb-LC259" class="blob-code blob-code-inner js-file-line">      },</td>
        </tr>
        <tr>
          <td id="file-assignment-11-text-mining-ipynb-L260" class="blob-num js-line-number js-code-nav-line-number js-blob-rnum" data-line-number="260"></td>
          <td id="file-assignment-11-text-mining-ipynb-LC260" class="blob-code blob-code-inner js-file-line">      <span class="pl-ent">"cell_type"</span>: <span class="pl-s"><span class="pl-pds">"</span>code<span class="pl-pds">"</span></span>,</td>
        </tr>
        <tr>
          <td id="file-assignment-11-text-mining-ipynb-L261" class="blob-num js-line-number js-code-nav-line-number js-blob-rnum" data-line-number="261"></td>
          <td id="file-assignment-11-text-mining-ipynb-LC261" class="blob-code blob-code-inner js-file-line">      <span class="pl-ent">"source"</span>: <span class="pl-s"><span class="pl-pds">"</span>data['upper'] = data['Text'].apply(lambda x: len([x for x in x.split() if x.isupper()]))<span class="pl-cce">\n</span>data[['Text','upper']].head()<span class="pl-pds">"</span></span>,</td>
        </tr>
        <tr>
          <td id="file-assignment-11-text-mining-ipynb-L262" class="blob-num js-line-number js-code-nav-line-number js-blob-rnum" data-line-number="262"></td>
          <td id="file-assignment-11-text-mining-ipynb-LC262" class="blob-code blob-code-inner js-file-line">      <span class="pl-ent">"execution_count"</span>: <span class="pl-c1">13</span>,</td>
        </tr>
        <tr>
          <td id="file-assignment-11-text-mining-ipynb-L263" class="blob-num js-line-number js-code-nav-line-number js-blob-rnum" data-line-number="263"></td>
          <td id="file-assignment-11-text-mining-ipynb-LC263" class="blob-code blob-code-inner js-file-line">      <span class="pl-ent">"outputs"</span>: [</td>
        </tr>
        <tr>
          <td id="file-assignment-11-text-mining-ipynb-L264" class="blob-num js-line-number js-code-nav-line-number js-blob-rnum" data-line-number="264"></td>
          <td id="file-assignment-11-text-mining-ipynb-LC264" class="blob-code blob-code-inner js-file-line">        {</td>
        </tr>
        <tr>
          <td id="file-assignment-11-text-mining-ipynb-L265" class="blob-num js-line-number js-code-nav-line-number js-blob-rnum" data-line-number="265"></td>
          <td id="file-assignment-11-text-mining-ipynb-LC265" class="blob-code blob-code-inner js-file-line">          <span class="pl-ent">"data"</span>: {</td>
        </tr>
        <tr>
          <td id="file-assignment-11-text-mining-ipynb-L266" class="blob-num js-line-number js-code-nav-line-number js-blob-rnum" data-line-number="266"></td>
          <td id="file-assignment-11-text-mining-ipynb-LC266" class="blob-code blob-code-inner js-file-line">            "text/html": "&lt;div&gt;\n&lt;style scoped&gt;\n    .dataframe tbody tr th:only-of-type {\n        vertical-align: middle;\n    }\n\n    .dataframe tbody tr th {\n        vertical-align: top;\n    }\n\n    .dataframe thead th {\n        text-align: right;\n    }\n&lt;/style&gt;\n&lt;table border=\"1\" class=\"dataframe\"&gt;\n  &lt;thead&gt;\n    &lt;tr style=\"text-align: right;\"&gt;\n      &lt;th&gt;&lt;/th&gt;\n      &lt;th&gt;Text&lt;/th&gt;\n      &lt;th&gt;upper&lt;/th&gt;\n    &lt;/tr&gt;\n  &lt;/thead&gt;\n  &lt;tbody&gt;\n    &lt;tr&gt;\n      &lt;th&gt;0&lt;/th&gt;\n      &lt;td&gt;@kunalb11 Im an alien&lt;/td&gt;\n      &lt;td&gt;0&lt;/td&gt;\n    &lt;/tr&gt;\n    &lt;tr&gt;\n      &lt;th&gt;1&lt;/th&gt;\n      &lt;td&gt;@ID_AA_Carmack Ray tracing on Cyberpunk with H...&lt;/td&gt;\n      &lt;td&gt;1&lt;/td&gt;\n    &lt;/tr&gt;\n    &lt;tr&gt;\n      &lt;th&gt;2&lt;/th&gt;\n      &lt;td&gt;@joerogan @Spotify Great interview!&lt;/td&gt;\n      &lt;td&gt;0&lt;/td&gt;\n    &lt;/tr&gt;\n    &lt;tr&gt;\n      &lt;th&gt;3&lt;/th&gt;\n      &lt;td&gt;@gtera27 Doge is underestimated&lt;/td&gt;\n      &lt;td&gt;0&lt;/td&gt;\n    &lt;/tr&gt;\n    &lt;tr&gt;\n      &lt;th&gt;4&lt;/th&gt;\n      &lt;td&gt;@teslacn Congratulations Tesla China for amazi...&lt;/td&gt;\n      &lt;td&gt;0&lt;/td&gt;\n    &lt;/tr&gt;\n  &lt;/tbody&gt;\n&lt;/table&gt;\n&lt;/div&gt;",</td>
        </tr>
        <tr>
          <td id="file-assignment-11-text-mining-ipynb-L267" class="blob-num js-line-number js-code-nav-line-number js-blob-rnum" data-line-number="267"></td>
          <td id="file-assignment-11-text-mining-ipynb-LC267" class="blob-code blob-code-inner js-file-line">            <span class="pl-ent">"text/plain"</span>: <span class="pl-s"><span class="pl-pds">"</span>                                                Text  upper<span class="pl-cce">\n</span>0                             @kunalb11 Im an alien      0<span class="pl-cce">\n</span>1  @ID_AA_Carmack Ray tracing on Cyberpunk with H...      1<span class="pl-cce">\n</span>2                @joerogan @Spotify Great interview!      0<span class="pl-cce">\n</span>3                    @gtera27 Doge is underestimated      0<span class="pl-cce">\n</span>4  @teslacn Congratulations Tesla China for amazi...      0<span class="pl-pds">"</span></span></td>
        </tr>
        <tr>
          <td id="file-assignment-11-text-mining-ipynb-L268" class="blob-num js-line-number js-code-nav-line-number js-blob-rnum" data-line-number="268"></td>
          <td id="file-assignment-11-text-mining-ipynb-LC268" class="blob-code blob-code-inner js-file-line">          },</td>
        </tr>
        <tr>
          <td id="file-assignment-11-text-mining-ipynb-L269" class="blob-num js-line-number js-code-nav-line-number js-blob-rnum" data-line-number="269"></td>
          <td id="file-assignment-11-text-mining-ipynb-LC269" class="blob-code blob-code-inner js-file-line">          <span class="pl-ent">"execution_count"</span>: <span class="pl-c1">13</span>,</td>
        </tr>
        <tr>
          <td id="file-assignment-11-text-mining-ipynb-L270" class="blob-num js-line-number js-code-nav-line-number js-blob-rnum" data-line-number="270"></td>
          <td id="file-assignment-11-text-mining-ipynb-LC270" class="blob-code blob-code-inner js-file-line">          <span class="pl-ent">"metadata"</span>: {},</td>
        </tr>
        <tr>
          <td id="file-assignment-11-text-mining-ipynb-L271" class="blob-num js-line-number js-code-nav-line-number js-blob-rnum" data-line-number="271"></td>
          <td id="file-assignment-11-text-mining-ipynb-LC271" class="blob-code blob-code-inner js-file-line">          <span class="pl-ent">"output_type"</span>: <span class="pl-s"><span class="pl-pds">"</span>execute_result<span class="pl-pds">"</span></span></td>
        </tr>
        <tr>
          <td id="file-assignment-11-text-mining-ipynb-L272" class="blob-num js-line-number js-code-nav-line-number js-blob-rnum" data-line-number="272"></td>
          <td id="file-assignment-11-text-mining-ipynb-LC272" class="blob-code blob-code-inner js-file-line">        }</td>
        </tr>
        <tr>
          <td id="file-assignment-11-text-mining-ipynb-L273" class="blob-num js-line-number js-code-nav-line-number js-blob-rnum" data-line-number="273"></td>
          <td id="file-assignment-11-text-mining-ipynb-LC273" class="blob-code blob-code-inner js-file-line">      ]</td>
        </tr>
        <tr>
          <td id="file-assignment-11-text-mining-ipynb-L274" class="blob-num js-line-number js-code-nav-line-number js-blob-rnum" data-line-number="274"></td>
          <td id="file-assignment-11-text-mining-ipynb-LC274" class="blob-code blob-code-inner js-file-line">    },</td>
        </tr>
        <tr>
          <td id="file-assignment-11-text-mining-ipynb-L275" class="blob-num js-line-number js-code-nav-line-number js-blob-rnum" data-line-number="275"></td>
          <td id="file-assignment-11-text-mining-ipynb-LC275" class="blob-code blob-code-inner js-file-line">    {</td>
        </tr>
        <tr>
          <td id="file-assignment-11-text-mining-ipynb-L276" class="blob-num js-line-number js-code-nav-line-number js-blob-rnum" data-line-number="276"></td>
          <td id="file-assignment-11-text-mining-ipynb-LC276" class="blob-code blob-code-inner js-file-line">      <span class="pl-ent">"metadata"</span>: {},</td>
        </tr>
        <tr>
          <td id="file-assignment-11-text-mining-ipynb-L277" class="blob-num js-line-number js-code-nav-line-number js-blob-rnum" data-line-number="277"></td>
          <td id="file-assignment-11-text-mining-ipynb-LC277" class="blob-code blob-code-inner js-file-line">      <span class="pl-ent">"cell_type"</span>: <span class="pl-s"><span class="pl-pds">"</span>markdown<span class="pl-pds">"</span></span>,</td>
        </tr>
        <tr>
          <td id="file-assignment-11-text-mining-ipynb-L278" class="blob-num js-line-number js-code-nav-line-number js-blob-rnum" data-line-number="278"></td>
          <td id="file-assignment-11-text-mining-ipynb-LC278" class="blob-code blob-code-inner js-file-line">      <span class="pl-ent">"source"</span>: <span class="pl-s"><span class="pl-pds">"</span># Pre - Processing <span class="pl-pds">"</span></span></td>
        </tr>
        <tr>
          <td id="file-assignment-11-text-mining-ipynb-L279" class="blob-num js-line-number js-code-nav-line-number js-blob-rnum" data-line-number="279"></td>
          <td id="file-assignment-11-text-mining-ipynb-LC279" class="blob-code blob-code-inner js-file-line">    },</td>
        </tr>
        <tr>
          <td id="file-assignment-11-text-mining-ipynb-L280" class="blob-num js-line-number js-code-nav-line-number js-blob-rnum" data-line-number="280"></td>
          <td id="file-assignment-11-text-mining-ipynb-LC280" class="blob-code blob-code-inner js-file-line">    {</td>
        </tr>
        <tr>
          <td id="file-assignment-11-text-mining-ipynb-L281" class="blob-num js-line-number js-code-nav-line-number js-blob-rnum" data-line-number="281"></td>
          <td id="file-assignment-11-text-mining-ipynb-LC281" class="blob-code blob-code-inner js-file-line">      <span class="pl-ent">"metadata"</span>: {},</td>
        </tr>
        <tr>
          <td id="file-assignment-11-text-mining-ipynb-L282" class="blob-num js-line-number js-code-nav-line-number js-blob-rnum" data-line-number="282"></td>
          <td id="file-assignment-11-text-mining-ipynb-LC282" class="blob-code blob-code-inner js-file-line">      <span class="pl-ent">"cell_type"</span>: <span class="pl-s"><span class="pl-pds">"</span>markdown<span class="pl-pds">"</span></span>,</td>
        </tr>
        <tr>
          <td id="file-assignment-11-text-mining-ipynb-L283" class="blob-num js-line-number js-code-nav-line-number js-blob-rnum" data-line-number="283"></td>
          <td id="file-assignment-11-text-mining-ipynb-LC283" class="blob-code blob-code-inner js-file-line">      <span class="pl-ent">"source"</span>: <span class="pl-s"><span class="pl-pds">"</span>## 2.1 Lower Case<span class="pl-pds">"</span></span></td>
        </tr>
        <tr>
          <td id="file-assignment-11-text-mining-ipynb-L284" class="blob-num js-line-number js-code-nav-line-number js-blob-rnum" data-line-number="284"></td>
          <td id="file-assignment-11-text-mining-ipynb-LC284" class="blob-code blob-code-inner js-file-line">    },</td>
        </tr>
        <tr>
          <td id="file-assignment-11-text-mining-ipynb-L285" class="blob-num js-line-number js-code-nav-line-number js-blob-rnum" data-line-number="285"></td>
          <td id="file-assignment-11-text-mining-ipynb-LC285" class="blob-code blob-code-inner js-file-line">    {</td>
        </tr>
        <tr>
          <td id="file-assignment-11-text-mining-ipynb-L286" class="blob-num js-line-number js-code-nav-line-number js-blob-rnum" data-line-number="286"></td>
          <td id="file-assignment-11-text-mining-ipynb-LC286" class="blob-code blob-code-inner js-file-line">      <span class="pl-ent">"metadata"</span>: {</td>
        </tr>
        <tr>
          <td id="file-assignment-11-text-mining-ipynb-L287" class="blob-num js-line-number js-code-nav-line-number js-blob-rnum" data-line-number="287"></td>
          <td id="file-assignment-11-text-mining-ipynb-LC287" class="blob-code blob-code-inner js-file-line">        <span class="pl-ent">"trusted"</span>: <span class="pl-c1">false</span></td>
        </tr>
        <tr>
          <td id="file-assignment-11-text-mining-ipynb-L288" class="blob-num js-line-number js-code-nav-line-number js-blob-rnum" data-line-number="288"></td>
          <td id="file-assignment-11-text-mining-ipynb-LC288" class="blob-code blob-code-inner js-file-line">      },</td>
        </tr>
        <tr>
          <td id="file-assignment-11-text-mining-ipynb-L289" class="blob-num js-line-number js-code-nav-line-number js-blob-rnum" data-line-number="289"></td>
          <td id="file-assignment-11-text-mining-ipynb-LC289" class="blob-code blob-code-inner js-file-line">      <span class="pl-ent">"cell_type"</span>: <span class="pl-s"><span class="pl-pds">"</span>code<span class="pl-pds">"</span></span>,</td>
        </tr>
        <tr>
          <td id="file-assignment-11-text-mining-ipynb-L290" class="blob-num js-line-number js-code-nav-line-number js-blob-rnum" data-line-number="290"></td>
          <td id="file-assignment-11-text-mining-ipynb-LC290" class="blob-code blob-code-inner js-file-line">      <span class="pl-ent">"source"</span>: <span class="pl-s"><span class="pl-pds">"</span>data['Text'] = data['Text'].apply(lambda x: <span class="pl-cce">\"</span> <span class="pl-cce">\"</span>.join(x.lower() for x in x.split()))<span class="pl-cce">\n</span>data['Text'].head()<span class="pl-pds">"</span></span>,</td>
        </tr>
        <tr>
          <td id="file-assignment-11-text-mining-ipynb-L291" class="blob-num js-line-number js-code-nav-line-number js-blob-rnum" data-line-number="291"></td>
          <td id="file-assignment-11-text-mining-ipynb-LC291" class="blob-code blob-code-inner js-file-line">      <span class="pl-ent">"execution_count"</span>: <span class="pl-c1">14</span>,</td>
        </tr>
        <tr>
          <td id="file-assignment-11-text-mining-ipynb-L292" class="blob-num js-line-number js-code-nav-line-number js-blob-rnum" data-line-number="292"></td>
          <td id="file-assignment-11-text-mining-ipynb-LC292" class="blob-code blob-code-inner js-file-line">      <span class="pl-ent">"outputs"</span>: [</td>
        </tr>
        <tr>
          <td id="file-assignment-11-text-mining-ipynb-L293" class="blob-num js-line-number js-code-nav-line-number js-blob-rnum" data-line-number="293"></td>
          <td id="file-assignment-11-text-mining-ipynb-LC293" class="blob-code blob-code-inner js-file-line">        {</td>
        </tr>
        <tr>
          <td id="file-assignment-11-text-mining-ipynb-L294" class="blob-num js-line-number js-code-nav-line-number js-blob-rnum" data-line-number="294"></td>
          <td id="file-assignment-11-text-mining-ipynb-LC294" class="blob-code blob-code-inner js-file-line">          <span class="pl-ent">"data"</span>: {</td>
        </tr>
        <tr>
          <td id="file-assignment-11-text-mining-ipynb-L295" class="blob-num js-line-number js-code-nav-line-number js-blob-rnum" data-line-number="295"></td>
          <td id="file-assignment-11-text-mining-ipynb-LC295" class="blob-code blob-code-inner js-file-line">            <span class="pl-ent">"text/plain"</span>: <span class="pl-s"><span class="pl-pds">"</span>0                               @kunalb11 im an alien<span class="pl-cce">\n</span>1    @id_aa_carmack ray tracing on cyberpunk with h...<span class="pl-cce">\n</span>2                  @joerogan @spotify great interview!<span class="pl-cce">\n</span>3                      @gtera27 doge is underestimated<span class="pl-cce">\n</span>4    @teslacn congratulations tesla china for amazi...<span class="pl-cce">\n</span>Name: Text, dtype: object<span class="pl-pds">"</span></span></td>
        </tr>
        <tr>
          <td id="file-assignment-11-text-mining-ipynb-L296" class="blob-num js-line-number js-code-nav-line-number js-blob-rnum" data-line-number="296"></td>
          <td id="file-assignment-11-text-mining-ipynb-LC296" class="blob-code blob-code-inner js-file-line">          },</td>
        </tr>
        <tr>
          <td id="file-assignment-11-text-mining-ipynb-L297" class="blob-num js-line-number js-code-nav-line-number js-blob-rnum" data-line-number="297"></td>
          <td id="file-assignment-11-text-mining-ipynb-LC297" class="blob-code blob-code-inner js-file-line">          <span class="pl-ent">"execution_count"</span>: <span class="pl-c1">14</span>,</td>
        </tr>
        <tr>
          <td id="file-assignment-11-text-mining-ipynb-L298" class="blob-num js-line-number js-code-nav-line-number js-blob-rnum" data-line-number="298"></td>
          <td id="file-assignment-11-text-mining-ipynb-LC298" class="blob-code blob-code-inner js-file-line">          <span class="pl-ent">"metadata"</span>: {},</td>
        </tr>
        <tr>
          <td id="file-assignment-11-text-mining-ipynb-L299" class="blob-num js-line-number js-code-nav-line-number js-blob-rnum" data-line-number="299"></td>
          <td id="file-assignment-11-text-mining-ipynb-LC299" class="blob-code blob-code-inner js-file-line">          <span class="pl-ent">"output_type"</span>: <span class="pl-s"><span class="pl-pds">"</span>execute_result<span class="pl-pds">"</span></span></td>
        </tr>
        <tr>
          <td id="file-assignment-11-text-mining-ipynb-L300" class="blob-num js-line-number js-code-nav-line-number js-blob-rnum" data-line-number="300"></td>
          <td id="file-assignment-11-text-mining-ipynb-LC300" class="blob-code blob-code-inner js-file-line">        }</td>
        </tr>
        <tr>
          <td id="file-assignment-11-text-mining-ipynb-L301" class="blob-num js-line-number js-code-nav-line-number js-blob-rnum" data-line-number="301"></td>
          <td id="file-assignment-11-text-mining-ipynb-LC301" class="blob-code blob-code-inner js-file-line">      ]</td>
        </tr>
        <tr>
          <td id="file-assignment-11-text-mining-ipynb-L302" class="blob-num js-line-number js-code-nav-line-number js-blob-rnum" data-line-number="302"></td>
          <td id="file-assignment-11-text-mining-ipynb-LC302" class="blob-code blob-code-inner js-file-line">    },</td>
        </tr>
        <tr>
          <td id="file-assignment-11-text-mining-ipynb-L303" class="blob-num js-line-number js-code-nav-line-number js-blob-rnum" data-line-number="303"></td>
          <td id="file-assignment-11-text-mining-ipynb-LC303" class="blob-code blob-code-inner js-file-line">    {</td>
        </tr>
        <tr>
          <td id="file-assignment-11-text-mining-ipynb-L304" class="blob-num js-line-number js-code-nav-line-number js-blob-rnum" data-line-number="304"></td>
          <td id="file-assignment-11-text-mining-ipynb-LC304" class="blob-code blob-code-inner js-file-line">      <span class="pl-ent">"metadata"</span>: {},</td>
        </tr>
        <tr>
          <td id="file-assignment-11-text-mining-ipynb-L305" class="blob-num js-line-number js-code-nav-line-number js-blob-rnum" data-line-number="305"></td>
          <td id="file-assignment-11-text-mining-ipynb-LC305" class="blob-code blob-code-inner js-file-line">      <span class="pl-ent">"cell_type"</span>: <span class="pl-s"><span class="pl-pds">"</span>markdown<span class="pl-pds">"</span></span>,</td>
        </tr>
        <tr>
          <td id="file-assignment-11-text-mining-ipynb-L306" class="blob-num js-line-number js-code-nav-line-number js-blob-rnum" data-line-number="306"></td>
          <td id="file-assignment-11-text-mining-ipynb-LC306" class="blob-code blob-code-inner js-file-line">      <span class="pl-ent">"source"</span>: <span class="pl-s"><span class="pl-pds">"</span>## 2.2 Removing Punctuation<span class="pl-pds">"</span></span></td>
        </tr>
        <tr>
          <td id="file-assignment-11-text-mining-ipynb-L307" class="blob-num js-line-number js-code-nav-line-number js-blob-rnum" data-line-number="307"></td>
          <td id="file-assignment-11-text-mining-ipynb-LC307" class="blob-code blob-code-inner js-file-line">    },</td>
        </tr>
        <tr>
          <td id="file-assignment-11-text-mining-ipynb-L308" class="blob-num js-line-number js-code-nav-line-number js-blob-rnum" data-line-number="308"></td>
          <td id="file-assignment-11-text-mining-ipynb-LC308" class="blob-code blob-code-inner js-file-line">    {</td>
        </tr>
        <tr>
          <td id="file-assignment-11-text-mining-ipynb-L309" class="blob-num js-line-number js-code-nav-line-number js-blob-rnum" data-line-number="309"></td>
          <td id="file-assignment-11-text-mining-ipynb-LC309" class="blob-code blob-code-inner js-file-line">      <span class="pl-ent">"metadata"</span>: {</td>
        </tr>
        <tr>
          <td id="file-assignment-11-text-mining-ipynb-L310" class="blob-num js-line-number js-code-nav-line-number js-blob-rnum" data-line-number="310"></td>
          <td id="file-assignment-11-text-mining-ipynb-LC310" class="blob-code blob-code-inner js-file-line">        <span class="pl-ent">"trusted"</span>: <span class="pl-c1">false</span></td>
        </tr>
        <tr>
          <td id="file-assignment-11-text-mining-ipynb-L311" class="blob-num js-line-number js-code-nav-line-number js-blob-rnum" data-line-number="311"></td>
          <td id="file-assignment-11-text-mining-ipynb-LC311" class="blob-code blob-code-inner js-file-line">      },</td>
        </tr>
        <tr>
          <td id="file-assignment-11-text-mining-ipynb-L312" class="blob-num js-line-number js-code-nav-line-number js-blob-rnum" data-line-number="312"></td>
          <td id="file-assignment-11-text-mining-ipynb-LC312" class="blob-code blob-code-inner js-file-line">      <span class="pl-ent">"cell_type"</span>: <span class="pl-s"><span class="pl-pds">"</span>code<span class="pl-pds">"</span></span>,</td>
        </tr>
        <tr>
          <td id="file-assignment-11-text-mining-ipynb-L313" class="blob-num js-line-number js-code-nav-line-number js-blob-rnum" data-line-number="313"></td>
          <td id="file-assignment-11-text-mining-ipynb-LC313" class="blob-code blob-code-inner js-file-line">      <span class="pl-ent">"source"</span>: <span class="pl-s"><span class="pl-pds">"</span>data['Text'] = data['Text'].str.replace('[^<span class="pl-cce">\\</span>w<span class="pl-cce">\\</span>s]','')<span class="pl-cce">\n</span>data['Text'].head()<span class="pl-pds">"</span></span>,</td>
        </tr>
        <tr>
          <td id="file-assignment-11-text-mining-ipynb-L314" class="blob-num js-line-number js-code-nav-line-number js-blob-rnum" data-line-number="314"></td>
          <td id="file-assignment-11-text-mining-ipynb-LC314" class="blob-code blob-code-inner js-file-line">      <span class="pl-ent">"execution_count"</span>: <span class="pl-c1">15</span>,</td>
        </tr>
        <tr>
          <td id="file-assignment-11-text-mining-ipynb-L315" class="blob-num js-line-number js-code-nav-line-number js-blob-rnum" data-line-number="315"></td>
          <td id="file-assignment-11-text-mining-ipynb-LC315" class="blob-code blob-code-inner js-file-line">      <span class="pl-ent">"outputs"</span>: [</td>
        </tr>
        <tr>
          <td id="file-assignment-11-text-mining-ipynb-L316" class="blob-num js-line-number js-code-nav-line-number js-blob-rnum" data-line-number="316"></td>
          <td id="file-assignment-11-text-mining-ipynb-LC316" class="blob-code blob-code-inner js-file-line">        {</td>
        </tr>
        <tr>
          <td id="file-assignment-11-text-mining-ipynb-L317" class="blob-num js-line-number js-code-nav-line-number js-blob-rnum" data-line-number="317"></td>
          <td id="file-assignment-11-text-mining-ipynb-LC317" class="blob-code blob-code-inner js-file-line">          <span class="pl-ent">"data"</span>: {</td>
        </tr>
        <tr>
          <td id="file-assignment-11-text-mining-ipynb-L318" class="blob-num js-line-number js-code-nav-line-number js-blob-rnum" data-line-number="318"></td>
          <td id="file-assignment-11-text-mining-ipynb-LC318" class="blob-code blob-code-inner js-file-line">            <span class="pl-ent">"text/plain"</span>: <span class="pl-s"><span class="pl-pds">"</span>0                                 kunalb11 im an alien<span class="pl-cce">\n</span>1    id_aa_carmack ray tracing on cyberpunk with hd...<span class="pl-cce">\n</span>2                     joerogan spotify great interview<span class="pl-cce">\n</span>3                       gtera27 doge is underestimated<span class="pl-cce">\n</span>4    teslacn congratulations tesla china for amazin...<span class="pl-cce">\n</span>Name: Text, dtype: object<span class="pl-pds">"</span></span></td>
        </tr>
        <tr>
          <td id="file-assignment-11-text-mining-ipynb-L319" class="blob-num js-line-number js-code-nav-line-number js-blob-rnum" data-line-number="319"></td>
          <td id="file-assignment-11-text-mining-ipynb-LC319" class="blob-code blob-code-inner js-file-line">          },</td>
        </tr>
        <tr>
          <td id="file-assignment-11-text-mining-ipynb-L320" class="blob-num js-line-number js-code-nav-line-number js-blob-rnum" data-line-number="320"></td>
          <td id="file-assignment-11-text-mining-ipynb-LC320" class="blob-code blob-code-inner js-file-line">          <span class="pl-ent">"execution_count"</span>: <span class="pl-c1">15</span>,</td>
        </tr>
        <tr>
          <td id="file-assignment-11-text-mining-ipynb-L321" class="blob-num js-line-number js-code-nav-line-number js-blob-rnum" data-line-number="321"></td>
          <td id="file-assignment-11-text-mining-ipynb-LC321" class="blob-code blob-code-inner js-file-line">          <span class="pl-ent">"metadata"</span>: {},</td>
        </tr>
        <tr>
          <td id="file-assignment-11-text-mining-ipynb-L322" class="blob-num js-line-number js-code-nav-line-number js-blob-rnum" data-line-number="322"></td>
          <td id="file-assignment-11-text-mining-ipynb-LC322" class="blob-code blob-code-inner js-file-line">          <span class="pl-ent">"output_type"</span>: <span class="pl-s"><span class="pl-pds">"</span>execute_result<span class="pl-pds">"</span></span></td>
        </tr>
        <tr>
          <td id="file-assignment-11-text-mining-ipynb-L323" class="blob-num js-line-number js-code-nav-line-number js-blob-rnum" data-line-number="323"></td>
          <td id="file-assignment-11-text-mining-ipynb-LC323" class="blob-code blob-code-inner js-file-line">        }</td>
        </tr>
        <tr>
          <td id="file-assignment-11-text-mining-ipynb-L324" class="blob-num js-line-number js-code-nav-line-number js-blob-rnum" data-line-number="324"></td>
          <td id="file-assignment-11-text-mining-ipynb-LC324" class="blob-code blob-code-inner js-file-line">      ]</td>
        </tr>
        <tr>
          <td id="file-assignment-11-text-mining-ipynb-L325" class="blob-num js-line-number js-code-nav-line-number js-blob-rnum" data-line-number="325"></td>
          <td id="file-assignment-11-text-mining-ipynb-LC325" class="blob-code blob-code-inner js-file-line">    },</td>
        </tr>
        <tr>
          <td id="file-assignment-11-text-mining-ipynb-L326" class="blob-num js-line-number js-code-nav-line-number js-blob-rnum" data-line-number="326"></td>
          <td id="file-assignment-11-text-mining-ipynb-LC326" class="blob-code blob-code-inner js-file-line">    {</td>
        </tr>
        <tr>
          <td id="file-assignment-11-text-mining-ipynb-L327" class="blob-num js-line-number js-code-nav-line-number js-blob-rnum" data-line-number="327"></td>
          <td id="file-assignment-11-text-mining-ipynb-LC327" class="blob-code blob-code-inner js-file-line">      <span class="pl-ent">"metadata"</span>: {},</td>
        </tr>
        <tr>
          <td id="file-assignment-11-text-mining-ipynb-L328" class="blob-num js-line-number js-code-nav-line-number js-blob-rnum" data-line-number="328"></td>
          <td id="file-assignment-11-text-mining-ipynb-LC328" class="blob-code blob-code-inner js-file-line">      <span class="pl-ent">"cell_type"</span>: <span class="pl-s"><span class="pl-pds">"</span>markdown<span class="pl-pds">"</span></span>,</td>
        </tr>
        <tr>
          <td id="file-assignment-11-text-mining-ipynb-L329" class="blob-num js-line-number js-code-nav-line-number js-blob-rnum" data-line-number="329"></td>
          <td id="file-assignment-11-text-mining-ipynb-LC329" class="blob-code blob-code-inner js-file-line">      <span class="pl-ent">"source"</span>: <span class="pl-s"><span class="pl-pds">"</span>## 2.3 Removal of Stop Words<span class="pl-pds">"</span></span></td>
        </tr>
        <tr>
          <td id="file-assignment-11-text-mining-ipynb-L330" class="blob-num js-line-number js-code-nav-line-number js-blob-rnum" data-line-number="330"></td>
          <td id="file-assignment-11-text-mining-ipynb-LC330" class="blob-code blob-code-inner js-file-line">    },</td>
        </tr>
        <tr>
          <td id="file-assignment-11-text-mining-ipynb-L331" class="blob-num js-line-number js-code-nav-line-number js-blob-rnum" data-line-number="331"></td>
          <td id="file-assignment-11-text-mining-ipynb-LC331" class="blob-code blob-code-inner js-file-line">    {</td>
        </tr>
        <tr>
          <td id="file-assignment-11-text-mining-ipynb-L332" class="blob-num js-line-number js-code-nav-line-number js-blob-rnum" data-line-number="332"></td>
          <td id="file-assignment-11-text-mining-ipynb-LC332" class="blob-code blob-code-inner js-file-line">      <span class="pl-ent">"metadata"</span>: {</td>
        </tr>
        <tr>
          <td id="file-assignment-11-text-mining-ipynb-L333" class="blob-num js-line-number js-code-nav-line-number js-blob-rnum" data-line-number="333"></td>
          <td id="file-assignment-11-text-mining-ipynb-LC333" class="blob-code blob-code-inner js-file-line">        <span class="pl-ent">"trusted"</span>: <span class="pl-c1">false</span></td>
        </tr>
        <tr>
          <td id="file-assignment-11-text-mining-ipynb-L334" class="blob-num js-line-number js-code-nav-line-number js-blob-rnum" data-line-number="334"></td>
          <td id="file-assignment-11-text-mining-ipynb-LC334" class="blob-code blob-code-inner js-file-line">      },</td>
        </tr>
        <tr>
          <td id="file-assignment-11-text-mining-ipynb-L335" class="blob-num js-line-number js-code-nav-line-number js-blob-rnum" data-line-number="335"></td>
          <td id="file-assignment-11-text-mining-ipynb-LC335" class="blob-code blob-code-inner js-file-line">      <span class="pl-ent">"cell_type"</span>: <span class="pl-s"><span class="pl-pds">"</span>code<span class="pl-pds">"</span></span>,</td>
        </tr>
        <tr>
          <td id="file-assignment-11-text-mining-ipynb-L336" class="blob-num js-line-number js-code-nav-line-number js-blob-rnum" data-line-number="336"></td>
          <td id="file-assignment-11-text-mining-ipynb-LC336" class="blob-code blob-code-inner js-file-line">      <span class="pl-ent">"source"</span>: <span class="pl-s"><span class="pl-pds">"</span>stop = stopwords.words('english')<span class="pl-cce">\n</span>data['Text'] = data['Text'].apply(lambda x: <span class="pl-cce">\"</span> <span class="pl-cce">\"</span>.join(x for x in x.split() if x not in stop))<span class="pl-cce">\n</span>data['Text'].head()<span class="pl-pds">"</span></span>,</td>
        </tr>
        <tr>
          <td id="file-assignment-11-text-mining-ipynb-L337" class="blob-num js-line-number js-code-nav-line-number js-blob-rnum" data-line-number="337"></td>
          <td id="file-assignment-11-text-mining-ipynb-LC337" class="blob-code blob-code-inner js-file-line">      <span class="pl-ent">"execution_count"</span>: <span class="pl-c1">16</span>,</td>
        </tr>
        <tr>
          <td id="file-assignment-11-text-mining-ipynb-L338" class="blob-num js-line-number js-code-nav-line-number js-blob-rnum" data-line-number="338"></td>
          <td id="file-assignment-11-text-mining-ipynb-LC338" class="blob-code blob-code-inner js-file-line">      <span class="pl-ent">"outputs"</span>: [</td>
        </tr>
        <tr>
          <td id="file-assignment-11-text-mining-ipynb-L339" class="blob-num js-line-number js-code-nav-line-number js-blob-rnum" data-line-number="339"></td>
          <td id="file-assignment-11-text-mining-ipynb-LC339" class="blob-code blob-code-inner js-file-line">        {</td>
        </tr>
        <tr>
          <td id="file-assignment-11-text-mining-ipynb-L340" class="blob-num js-line-number js-code-nav-line-number js-blob-rnum" data-line-number="340"></td>
          <td id="file-assignment-11-text-mining-ipynb-LC340" class="blob-code blob-code-inner js-file-line">          <span class="pl-ent">"data"</span>: {</td>
        </tr>
        <tr>
          <td id="file-assignment-11-text-mining-ipynb-L341" class="blob-num js-line-number js-code-nav-line-number js-blob-rnum" data-line-number="341"></td>
          <td id="file-assignment-11-text-mining-ipynb-LC341" class="blob-code blob-code-inner js-file-line">            <span class="pl-ent">"text/plain"</span>: <span class="pl-s"><span class="pl-pds">"</span>0                                    kunalb11 im alien<span class="pl-cce">\n</span>1    id_aa_carmack ray tracing cyberpunk hdr nextle...<span class="pl-cce">\n</span>2                     joerogan spotify great interview<span class="pl-cce">\n</span>3                          gtera27 doge underestimated<span class="pl-cce">\n</span>4    teslacn congratulations tesla china amazing ex...<span class="pl-cce">\n</span>Name: Text, dtype: object<span class="pl-pds">"</span></span></td>
        </tr>
        <tr>
          <td id="file-assignment-11-text-mining-ipynb-L342" class="blob-num js-line-number js-code-nav-line-number js-blob-rnum" data-line-number="342"></td>
          <td id="file-assignment-11-text-mining-ipynb-LC342" class="blob-code blob-code-inner js-file-line">          },</td>
        </tr>
        <tr>
          <td id="file-assignment-11-text-mining-ipynb-L343" class="blob-num js-line-number js-code-nav-line-number js-blob-rnum" data-line-number="343"></td>
          <td id="file-assignment-11-text-mining-ipynb-LC343" class="blob-code blob-code-inner js-file-line">          <span class="pl-ent">"execution_count"</span>: <span class="pl-c1">16</span>,</td>
        </tr>
        <tr>
          <td id="file-assignment-11-text-mining-ipynb-L344" class="blob-num js-line-number js-code-nav-line-number js-blob-rnum" data-line-number="344"></td>
          <td id="file-assignment-11-text-mining-ipynb-LC344" class="blob-code blob-code-inner js-file-line">          <span class="pl-ent">"metadata"</span>: {},</td>
        </tr>
        <tr>
          <td id="file-assignment-11-text-mining-ipynb-L345" class="blob-num js-line-number js-code-nav-line-number js-blob-rnum" data-line-number="345"></td>
          <td id="file-assignment-11-text-mining-ipynb-LC345" class="blob-code blob-code-inner js-file-line">          <span class="pl-ent">"output_type"</span>: <span class="pl-s"><span class="pl-pds">"</span>execute_result<span class="pl-pds">"</span></span></td>
        </tr>
        <tr>
          <td id="file-assignment-11-text-mining-ipynb-L346" class="blob-num js-line-number js-code-nav-line-number js-blob-rnum" data-line-number="346"></td>
          <td id="file-assignment-11-text-mining-ipynb-LC346" class="blob-code blob-code-inner js-file-line">        }</td>
        </tr>
        <tr>
          <td id="file-assignment-11-text-mining-ipynb-L347" class="blob-num js-line-number js-code-nav-line-number js-blob-rnum" data-line-number="347"></td>
          <td id="file-assignment-11-text-mining-ipynb-LC347" class="blob-code blob-code-inner js-file-line">      ]</td>
        </tr>
        <tr>
          <td id="file-assignment-11-text-mining-ipynb-L348" class="blob-num js-line-number js-code-nav-line-number js-blob-rnum" data-line-number="348"></td>
          <td id="file-assignment-11-text-mining-ipynb-LC348" class="blob-code blob-code-inner js-file-line">    },</td>
        </tr>
        <tr>
          <td id="file-assignment-11-text-mining-ipynb-L349" class="blob-num js-line-number js-code-nav-line-number js-blob-rnum" data-line-number="349"></td>
          <td id="file-assignment-11-text-mining-ipynb-LC349" class="blob-code blob-code-inner js-file-line">    {</td>
        </tr>
        <tr>
          <td id="file-assignment-11-text-mining-ipynb-L350" class="blob-num js-line-number js-code-nav-line-number js-blob-rnum" data-line-number="350"></td>
          <td id="file-assignment-11-text-mining-ipynb-LC350" class="blob-code blob-code-inner js-file-line">      <span class="pl-ent">"metadata"</span>: {},</td>
        </tr>
        <tr>
          <td id="file-assignment-11-text-mining-ipynb-L351" class="blob-num js-line-number js-code-nav-line-number js-blob-rnum" data-line-number="351"></td>
          <td id="file-assignment-11-text-mining-ipynb-LC351" class="blob-code blob-code-inner js-file-line">      <span class="pl-ent">"cell_type"</span>: <span class="pl-s"><span class="pl-pds">"</span>markdown<span class="pl-pds">"</span></span>,</td>
        </tr>
        <tr>
          <td id="file-assignment-11-text-mining-ipynb-L352" class="blob-num js-line-number js-code-nav-line-number js-blob-rnum" data-line-number="352"></td>
          <td id="file-assignment-11-text-mining-ipynb-LC352" class="blob-code blob-code-inner js-file-line">      <span class="pl-ent">"source"</span>: <span class="pl-s"><span class="pl-pds">"</span>## 2.4 Common word removal<span class="pl-pds">"</span></span></td>
        </tr>
        <tr>
          <td id="file-assignment-11-text-mining-ipynb-L353" class="blob-num js-line-number js-code-nav-line-number js-blob-rnum" data-line-number="353"></td>
          <td id="file-assignment-11-text-mining-ipynb-LC353" class="blob-code blob-code-inner js-file-line">    },</td>
        </tr>
        <tr>
          <td id="file-assignment-11-text-mining-ipynb-L354" class="blob-num js-line-number js-code-nav-line-number js-blob-rnum" data-line-number="354"></td>
          <td id="file-assignment-11-text-mining-ipynb-LC354" class="blob-code blob-code-inner js-file-line">    {</td>
        </tr>
        <tr>
          <td id="file-assignment-11-text-mining-ipynb-L355" class="blob-num js-line-number js-code-nav-line-number js-blob-rnum" data-line-number="355"></td>
          <td id="file-assignment-11-text-mining-ipynb-LC355" class="blob-code blob-code-inner js-file-line">      <span class="pl-ent">"metadata"</span>: {</td>
        </tr>
        <tr>
          <td id="file-assignment-11-text-mining-ipynb-L356" class="blob-num js-line-number js-code-nav-line-number js-blob-rnum" data-line-number="356"></td>
          <td id="file-assignment-11-text-mining-ipynb-LC356" class="blob-code blob-code-inner js-file-line">        <span class="pl-ent">"trusted"</span>: <span class="pl-c1">false</span></td>
        </tr>
        <tr>
          <td id="file-assignment-11-text-mining-ipynb-L357" class="blob-num js-line-number js-code-nav-line-number js-blob-rnum" data-line-number="357"></td>
          <td id="file-assignment-11-text-mining-ipynb-LC357" class="blob-code blob-code-inner js-file-line">      },</td>
        </tr>
        <tr>
          <td id="file-assignment-11-text-mining-ipynb-L358" class="blob-num js-line-number js-code-nav-line-number js-blob-rnum" data-line-number="358"></td>
          <td id="file-assignment-11-text-mining-ipynb-LC358" class="blob-code blob-code-inner js-file-line">      <span class="pl-ent">"cell_type"</span>: <span class="pl-s"><span class="pl-pds">"</span>code<span class="pl-pds">"</span></span>,</td>
        </tr>
        <tr>
          <td id="file-assignment-11-text-mining-ipynb-L359" class="blob-num js-line-number js-code-nav-line-number js-blob-rnum" data-line-number="359"></td>
          <td id="file-assignment-11-text-mining-ipynb-LC359" class="blob-code blob-code-inner js-file-line">      <span class="pl-ent">"source"</span>: <span class="pl-s"><span class="pl-pds">"</span>freq = pd.Series(' '.join(data['Text']).split()).value_counts()[:10]<span class="pl-cce">\n</span>freq<span class="pl-pds">"</span></span>,</td>
        </tr>
        <tr>
          <td id="file-assignment-11-text-mining-ipynb-L360" class="blob-num js-line-number js-code-nav-line-number js-blob-rnum" data-line-number="360"></td>
          <td id="file-assignment-11-text-mining-ipynb-LC360" class="blob-code blob-code-inner js-file-line">      <span class="pl-ent">"execution_count"</span>: <span class="pl-c1">17</span>,</td>
        </tr>
        <tr>
          <td id="file-assignment-11-text-mining-ipynb-L361" class="blob-num js-line-number js-code-nav-line-number js-blob-rnum" data-line-number="361"></td>
          <td id="file-assignment-11-text-mining-ipynb-LC361" class="blob-code blob-code-inner js-file-line">      <span class="pl-ent">"outputs"</span>: [</td>
        </tr>
        <tr>
          <td id="file-assignment-11-text-mining-ipynb-L362" class="blob-num js-line-number js-code-nav-line-number js-blob-rnum" data-line-number="362"></td>
          <td id="file-assignment-11-text-mining-ipynb-LC362" class="blob-code blob-code-inner js-file-line">        {</td>
        </tr>
        <tr>
          <td id="file-assignment-11-text-mining-ipynb-L363" class="blob-num js-line-number js-code-nav-line-number js-blob-rnum" data-line-number="363"></td>
          <td id="file-assignment-11-text-mining-ipynb-LC363" class="blob-code blob-code-inner js-file-line">          <span class="pl-ent">"data"</span>: {</td>
        </tr>
        <tr>
          <td id="file-assignment-11-text-mining-ipynb-L364" class="blob-num js-line-number js-code-nav-line-number js-blob-rnum" data-line-number="364"></td>
          <td id="file-assignment-11-text-mining-ipynb-LC364" class="blob-code blob-code-inner js-file-line">            <span class="pl-ent">"text/plain"</span>: <span class="pl-s"><span class="pl-pds">"</span>spacex            239<span class="pl-cce">\n</span>amp               218<span class="pl-cce">\n</span>tesla             166<span class="pl-cce">\n</span>erdayastronaut    142<span class="pl-cce">\n</span>rt                127<span class="pl-cce">\n</span>ppathole          123<span class="pl-cce">\n</span>flcnhvy           114<span class="pl-cce">\n</span>yes                86<span class="pl-cce">\n</span>great              76<span class="pl-cce">\n</span>teslaownerssv      73<span class="pl-cce">\n</span>dtype: int64<span class="pl-pds">"</span></span></td>
        </tr>
        <tr>
          <td id="file-assignment-11-text-mining-ipynb-L365" class="blob-num js-line-number js-code-nav-line-number js-blob-rnum" data-line-number="365"></td>
          <td id="file-assignment-11-text-mining-ipynb-LC365" class="blob-code blob-code-inner js-file-line">          },</td>
        </tr>
        <tr>
          <td id="file-assignment-11-text-mining-ipynb-L366" class="blob-num js-line-number js-code-nav-line-number js-blob-rnum" data-line-number="366"></td>
          <td id="file-assignment-11-text-mining-ipynb-LC366" class="blob-code blob-code-inner js-file-line">          <span class="pl-ent">"execution_count"</span>: <span class="pl-c1">17</span>,</td>
        </tr>
        <tr>
          <td id="file-assignment-11-text-mining-ipynb-L367" class="blob-num js-line-number js-code-nav-line-number js-blob-rnum" data-line-number="367"></td>
          <td id="file-assignment-11-text-mining-ipynb-LC367" class="blob-code blob-code-inner js-file-line">          <span class="pl-ent">"metadata"</span>: {},</td>
        </tr>
        <tr>
          <td id="file-assignment-11-text-mining-ipynb-L368" class="blob-num js-line-number js-code-nav-line-number js-blob-rnum" data-line-number="368"></td>
          <td id="file-assignment-11-text-mining-ipynb-LC368" class="blob-code blob-code-inner js-file-line">          <span class="pl-ent">"output_type"</span>: <span class="pl-s"><span class="pl-pds">"</span>execute_result<span class="pl-pds">"</span></span></td>
        </tr>
        <tr>
          <td id="file-assignment-11-text-mining-ipynb-L369" class="blob-num js-line-number js-code-nav-line-number js-blob-rnum" data-line-number="369"></td>
          <td id="file-assignment-11-text-mining-ipynb-LC369" class="blob-code blob-code-inner js-file-line">        }</td>
        </tr>
        <tr>
          <td id="file-assignment-11-text-mining-ipynb-L370" class="blob-num js-line-number js-code-nav-line-number js-blob-rnum" data-line-number="370"></td>
          <td id="file-assignment-11-text-mining-ipynb-LC370" class="blob-code blob-code-inner js-file-line">      ]</td>
        </tr>
        <tr>
          <td id="file-assignment-11-text-mining-ipynb-L371" class="blob-num js-line-number js-code-nav-line-number js-blob-rnum" data-line-number="371"></td>
          <td id="file-assignment-11-text-mining-ipynb-LC371" class="blob-code blob-code-inner js-file-line">    },</td>
        </tr>
        <tr>
          <td id="file-assignment-11-text-mining-ipynb-L372" class="blob-num js-line-number js-code-nav-line-number js-blob-rnum" data-line-number="372"></td>
          <td id="file-assignment-11-text-mining-ipynb-LC372" class="blob-code blob-code-inner js-file-line">    {</td>
        </tr>
        <tr>
          <td id="file-assignment-11-text-mining-ipynb-L373" class="blob-num js-line-number js-code-nav-line-number js-blob-rnum" data-line-number="373"></td>
          <td id="file-assignment-11-text-mining-ipynb-LC373" class="blob-code blob-code-inner js-file-line">      <span class="pl-ent">"metadata"</span>: {</td>
        </tr>
        <tr>
          <td id="file-assignment-11-text-mining-ipynb-L374" class="blob-num js-line-number js-code-nav-line-number js-blob-rnum" data-line-number="374"></td>
          <td id="file-assignment-11-text-mining-ipynb-LC374" class="blob-code blob-code-inner js-file-line">        <span class="pl-ent">"trusted"</span>: <span class="pl-c1">false</span></td>
        </tr>
        <tr>
          <td id="file-assignment-11-text-mining-ipynb-L375" class="blob-num js-line-number js-code-nav-line-number js-blob-rnum" data-line-number="375"></td>
          <td id="file-assignment-11-text-mining-ipynb-LC375" class="blob-code blob-code-inner js-file-line">      },</td>
        </tr>
        <tr>
          <td id="file-assignment-11-text-mining-ipynb-L376" class="blob-num js-line-number js-code-nav-line-number js-blob-rnum" data-line-number="376"></td>
          <td id="file-assignment-11-text-mining-ipynb-LC376" class="blob-code blob-code-inner js-file-line">      <span class="pl-ent">"cell_type"</span>: <span class="pl-s"><span class="pl-pds">"</span>code<span class="pl-pds">"</span></span>,</td>
        </tr>
        <tr>
          <td id="file-assignment-11-text-mining-ipynb-L377" class="blob-num js-line-number js-code-nav-line-number js-blob-rnum" data-line-number="377"></td>
          <td id="file-assignment-11-text-mining-ipynb-LC377" class="blob-code blob-code-inner js-file-line">      <span class="pl-ent">"source"</span>: <span class="pl-s"><span class="pl-pds">"</span>freq = list(freq.index)<span class="pl-cce">\n</span>data['Text'] = data['Text'].apply(lambda x: <span class="pl-cce">\"</span> <span class="pl-cce">\"</span>.join(x for x in x.split() if x not in freq))<span class="pl-cce">\n</span>data['Text'].head()<span class="pl-pds">"</span></span>,</td>
        </tr>
        <tr>
          <td id="file-assignment-11-text-mining-ipynb-L378" class="blob-num js-line-number js-code-nav-line-number js-blob-rnum" data-line-number="378"></td>
          <td id="file-assignment-11-text-mining-ipynb-LC378" class="blob-code blob-code-inner js-file-line">      <span class="pl-ent">"execution_count"</span>: <span class="pl-c1">18</span>,</td>
        </tr>
        <tr>
          <td id="file-assignment-11-text-mining-ipynb-L379" class="blob-num js-line-number js-code-nav-line-number js-blob-rnum" data-line-number="379"></td>
          <td id="file-assignment-11-text-mining-ipynb-LC379" class="blob-code blob-code-inner js-file-line">      <span class="pl-ent">"outputs"</span>: [</td>
        </tr>
        <tr>
          <td id="file-assignment-11-text-mining-ipynb-L380" class="blob-num js-line-number js-code-nav-line-number js-blob-rnum" data-line-number="380"></td>
          <td id="file-assignment-11-text-mining-ipynb-LC380" class="blob-code blob-code-inner js-file-line">        {</td>
        </tr>
        <tr>
          <td id="file-assignment-11-text-mining-ipynb-L381" class="blob-num js-line-number js-code-nav-line-number js-blob-rnum" data-line-number="381"></td>
          <td id="file-assignment-11-text-mining-ipynb-LC381" class="blob-code blob-code-inner js-file-line">          <span class="pl-ent">"data"</span>: {</td>
        </tr>
        <tr>
          <td id="file-assignment-11-text-mining-ipynb-L382" class="blob-num js-line-number js-code-nav-line-number js-blob-rnum" data-line-number="382"></td>
          <td id="file-assignment-11-text-mining-ipynb-LC382" class="blob-code blob-code-inner js-file-line">            <span class="pl-ent">"text/plain"</span>: <span class="pl-s"><span class="pl-pds">"</span>0                                    kunalb11 im alien<span class="pl-cce">\n</span>1    id_aa_carmack ray tracing cyberpunk hdr nextle...<span class="pl-cce">\n</span>2                           joerogan spotify interview<span class="pl-cce">\n</span>3                          gtera27 doge underestimated<span class="pl-cce">\n</span>4    teslacn congratulations china amazing executio...<span class="pl-cce">\n</span>Name: Text, dtype: object<span class="pl-pds">"</span></span></td>
        </tr>
        <tr>
          <td id="file-assignment-11-text-mining-ipynb-L383" class="blob-num js-line-number js-code-nav-line-number js-blob-rnum" data-line-number="383"></td>
          <td id="file-assignment-11-text-mining-ipynb-LC383" class="blob-code blob-code-inner js-file-line">          },</td>
        </tr>
        <tr>
          <td id="file-assignment-11-text-mining-ipynb-L384" class="blob-num js-line-number js-code-nav-line-number js-blob-rnum" data-line-number="384"></td>
          <td id="file-assignment-11-text-mining-ipynb-LC384" class="blob-code blob-code-inner js-file-line">          <span class="pl-ent">"execution_count"</span>: <span class="pl-c1">18</span>,</td>
        </tr>
        <tr>
          <td id="file-assignment-11-text-mining-ipynb-L385" class="blob-num js-line-number js-code-nav-line-number js-blob-rnum" data-line-number="385"></td>
          <td id="file-assignment-11-text-mining-ipynb-LC385" class="blob-code blob-code-inner js-file-line">          <span class="pl-ent">"metadata"</span>: {},</td>
        </tr>
        <tr>
          <td id="file-assignment-11-text-mining-ipynb-L386" class="blob-num js-line-number js-code-nav-line-number js-blob-rnum" data-line-number="386"></td>
          <td id="file-assignment-11-text-mining-ipynb-LC386" class="blob-code blob-code-inner js-file-line">          <span class="pl-ent">"output_type"</span>: <span class="pl-s"><span class="pl-pds">"</span>execute_result<span class="pl-pds">"</span></span></td>
        </tr>
        <tr>
          <td id="file-assignment-11-text-mining-ipynb-L387" class="blob-num js-line-number js-code-nav-line-number js-blob-rnum" data-line-number="387"></td>
          <td id="file-assignment-11-text-mining-ipynb-LC387" class="blob-code blob-code-inner js-file-line">        }</td>
        </tr>
        <tr>
          <td id="file-assignment-11-text-mining-ipynb-L388" class="blob-num js-line-number js-code-nav-line-number js-blob-rnum" data-line-number="388"></td>
          <td id="file-assignment-11-text-mining-ipynb-LC388" class="blob-code blob-code-inner js-file-line">      ]</td>
        </tr>
        <tr>
          <td id="file-assignment-11-text-mining-ipynb-L389" class="blob-num js-line-number js-code-nav-line-number js-blob-rnum" data-line-number="389"></td>
          <td id="file-assignment-11-text-mining-ipynb-LC389" class="blob-code blob-code-inner js-file-line">    },</td>
        </tr>
        <tr>
          <td id="file-assignment-11-text-mining-ipynb-L390" class="blob-num js-line-number js-code-nav-line-number js-blob-rnum" data-line-number="390"></td>
          <td id="file-assignment-11-text-mining-ipynb-LC390" class="blob-code blob-code-inner js-file-line">    {</td>
        </tr>
        <tr>
          <td id="file-assignment-11-text-mining-ipynb-L391" class="blob-num js-line-number js-code-nav-line-number js-blob-rnum" data-line-number="391"></td>
          <td id="file-assignment-11-text-mining-ipynb-LC391" class="blob-code blob-code-inner js-file-line">      <span class="pl-ent">"metadata"</span>: {},</td>
        </tr>
        <tr>
          <td id="file-assignment-11-text-mining-ipynb-L392" class="blob-num js-line-number js-code-nav-line-number js-blob-rnum" data-line-number="392"></td>
          <td id="file-assignment-11-text-mining-ipynb-LC392" class="blob-code blob-code-inner js-file-line">      <span class="pl-ent">"cell_type"</span>: <span class="pl-s"><span class="pl-pds">"</span>markdown<span class="pl-pds">"</span></span>,</td>
        </tr>
        <tr>
          <td id="file-assignment-11-text-mining-ipynb-L393" class="blob-num js-line-number js-code-nav-line-number js-blob-rnum" data-line-number="393"></td>
          <td id="file-assignment-11-text-mining-ipynb-LC393" class="blob-code blob-code-inner js-file-line">      <span class="pl-ent">"source"</span>: <span class="pl-s"><span class="pl-pds">"</span>## 2.5 Rare Words Removal<span class="pl-pds">"</span></span></td>
        </tr>
        <tr>
          <td id="file-assignment-11-text-mining-ipynb-L394" class="blob-num js-line-number js-code-nav-line-number js-blob-rnum" data-line-number="394"></td>
          <td id="file-assignment-11-text-mining-ipynb-LC394" class="blob-code blob-code-inner js-file-line">    },</td>
        </tr>
        <tr>
          <td id="file-assignment-11-text-mining-ipynb-L395" class="blob-num js-line-number js-code-nav-line-number js-blob-rnum" data-line-number="395"></td>
          <td id="file-assignment-11-text-mining-ipynb-LC395" class="blob-code blob-code-inner js-file-line">    {</td>
        </tr>
        <tr>
          <td id="file-assignment-11-text-mining-ipynb-L396" class="blob-num js-line-number js-code-nav-line-number js-blob-rnum" data-line-number="396"></td>
          <td id="file-assignment-11-text-mining-ipynb-LC396" class="blob-code blob-code-inner js-file-line">      <span class="pl-ent">"metadata"</span>: {</td>
        </tr>
        <tr>
          <td id="file-assignment-11-text-mining-ipynb-L397" class="blob-num js-line-number js-code-nav-line-number js-blob-rnum" data-line-number="397"></td>
          <td id="file-assignment-11-text-mining-ipynb-LC397" class="blob-code blob-code-inner js-file-line">        <span class="pl-ent">"trusted"</span>: <span class="pl-c1">false</span></td>
        </tr>
        <tr>
          <td id="file-assignment-11-text-mining-ipynb-L398" class="blob-num js-line-number js-code-nav-line-number js-blob-rnum" data-line-number="398"></td>
          <td id="file-assignment-11-text-mining-ipynb-LC398" class="blob-code blob-code-inner js-file-line">      },</td>
        </tr>
        <tr>
          <td id="file-assignment-11-text-mining-ipynb-L399" class="blob-num js-line-number js-code-nav-line-number js-blob-rnum" data-line-number="399"></td>
          <td id="file-assignment-11-text-mining-ipynb-LC399" class="blob-code blob-code-inner js-file-line">      <span class="pl-ent">"cell_type"</span>: <span class="pl-s"><span class="pl-pds">"</span>code<span class="pl-pds">"</span></span>,</td>
        </tr>
        <tr>
          <td id="file-assignment-11-text-mining-ipynb-L400" class="blob-num js-line-number js-code-nav-line-number js-blob-rnum" data-line-number="400"></td>
          <td id="file-assignment-11-text-mining-ipynb-LC400" class="blob-code blob-code-inner js-file-line">      <span class="pl-ent">"source"</span>: <span class="pl-s"><span class="pl-pds">"</span>freq = pd.Series(' '.join(data['Text']).split()).value_counts()[-10:]<span class="pl-cce">\n</span>freq<span class="pl-pds">"</span></span>,</td>
        </tr>
        <tr>
          <td id="file-assignment-11-text-mining-ipynb-L401" class="blob-num js-line-number js-code-nav-line-number js-blob-rnum" data-line-number="401"></td>
          <td id="file-assignment-11-text-mining-ipynb-LC401" class="blob-code blob-code-inner js-file-line">      <span class="pl-ent">"execution_count"</span>: <span class="pl-c1">19</span>,</td>
        </tr>
        <tr>
          <td id="file-assignment-11-text-mining-ipynb-L402" class="blob-num js-line-number js-code-nav-line-number js-blob-rnum" data-line-number="402"></td>
          <td id="file-assignment-11-text-mining-ipynb-LC402" class="blob-code blob-code-inner js-file-line">      <span class="pl-ent">"outputs"</span>: [</td>
        </tr>
        <tr>
          <td id="file-assignment-11-text-mining-ipynb-L403" class="blob-num js-line-number js-code-nav-line-number js-blob-rnum" data-line-number="403"></td>
          <td id="file-assignment-11-text-mining-ipynb-LC403" class="blob-code blob-code-inner js-file-line">        {</td>
        </tr>
        <tr>
          <td id="file-assignment-11-text-mining-ipynb-L404" class="blob-num js-line-number js-code-nav-line-number js-blob-rnum" data-line-number="404"></td>
          <td id="file-assignment-11-text-mining-ipynb-LC404" class="blob-code blob-code-inner js-file-line">          <span class="pl-ent">"data"</span>: {</td>
        </tr>
        <tr>
          <td id="file-assignment-11-text-mining-ipynb-L405" class="blob-num js-line-number js-code-nav-line-number js-blob-rnum" data-line-number="405"></td>
          <td id="file-assignment-11-text-mining-ipynb-LC405" class="blob-code blob-code-inner js-file-line">            <span class="pl-ent">"text/plain"</span>: <span class="pl-s"><span class="pl-pds">"</span>httpstcou2wi4cgi5t    1<span class="pl-cce">\n</span>ep                    1<span class="pl-cce">\n</span>amazon                1<span class="pl-cce">\n</span>opt                   1<span class="pl-cce">\n</span>paved                 1<span class="pl-cce">\n</span>reading               1<span class="pl-cce">\n</span>noise                 1<span class="pl-cce">\n</span>fit                   1<span class="pl-cce">\n</span>buttontwiddling       1<span class="pl-cce">\n</span>httpstcoezlaxwg3rp    1<span class="pl-cce">\n</span>dtype: int64<span class="pl-pds">"</span></span></td>
        </tr>
        <tr>
          <td id="file-assignment-11-text-mining-ipynb-L406" class="blob-num js-line-number js-code-nav-line-number js-blob-rnum" data-line-number="406"></td>
          <td id="file-assignment-11-text-mining-ipynb-LC406" class="blob-code blob-code-inner js-file-line">          },</td>
        </tr>
        <tr>
          <td id="file-assignment-11-text-mining-ipynb-L407" class="blob-num js-line-number js-code-nav-line-number js-blob-rnum" data-line-number="407"></td>
          <td id="file-assignment-11-text-mining-ipynb-LC407" class="blob-code blob-code-inner js-file-line">          <span class="pl-ent">"execution_count"</span>: <span class="pl-c1">19</span>,</td>
        </tr>
        <tr>
          <td id="file-assignment-11-text-mining-ipynb-L408" class="blob-num js-line-number js-code-nav-line-number js-blob-rnum" data-line-number="408"></td>
          <td id="file-assignment-11-text-mining-ipynb-LC408" class="blob-code blob-code-inner js-file-line">          <span class="pl-ent">"metadata"</span>: {},</td>
        </tr>
        <tr>
          <td id="file-assignment-11-text-mining-ipynb-L409" class="blob-num js-line-number js-code-nav-line-number js-blob-rnum" data-line-number="409"></td>
          <td id="file-assignment-11-text-mining-ipynb-LC409" class="blob-code blob-code-inner js-file-line">          <span class="pl-ent">"output_type"</span>: <span class="pl-s"><span class="pl-pds">"</span>execute_result<span class="pl-pds">"</span></span></td>
        </tr>
        <tr>
          <td id="file-assignment-11-text-mining-ipynb-L410" class="blob-num js-line-number js-code-nav-line-number js-blob-rnum" data-line-number="410"></td>
          <td id="file-assignment-11-text-mining-ipynb-LC410" class="blob-code blob-code-inner js-file-line">        }</td>
        </tr>
        <tr>
          <td id="file-assignment-11-text-mining-ipynb-L411" class="blob-num js-line-number js-code-nav-line-number js-blob-rnum" data-line-number="411"></td>
          <td id="file-assignment-11-text-mining-ipynb-LC411" class="blob-code blob-code-inner js-file-line">      ]</td>
        </tr>
        <tr>
          <td id="file-assignment-11-text-mining-ipynb-L412" class="blob-num js-line-number js-code-nav-line-number js-blob-rnum" data-line-number="412"></td>
          <td id="file-assignment-11-text-mining-ipynb-LC412" class="blob-code blob-code-inner js-file-line">    },</td>
        </tr>
        <tr>
          <td id="file-assignment-11-text-mining-ipynb-L413" class="blob-num js-line-number js-code-nav-line-number js-blob-rnum" data-line-number="413"></td>
          <td id="file-assignment-11-text-mining-ipynb-LC413" class="blob-code blob-code-inner js-file-line">    {</td>
        </tr>
        <tr>
          <td id="file-assignment-11-text-mining-ipynb-L414" class="blob-num js-line-number js-code-nav-line-number js-blob-rnum" data-line-number="414"></td>
          <td id="file-assignment-11-text-mining-ipynb-LC414" class="blob-code blob-code-inner js-file-line">      <span class="pl-ent">"metadata"</span>: {</td>
        </tr>
        <tr>
          <td id="file-assignment-11-text-mining-ipynb-L415" class="blob-num js-line-number js-code-nav-line-number js-blob-rnum" data-line-number="415"></td>
          <td id="file-assignment-11-text-mining-ipynb-LC415" class="blob-code blob-code-inner js-file-line">        <span class="pl-ent">"trusted"</span>: <span class="pl-c1">false</span></td>
        </tr>
        <tr>
          <td id="file-assignment-11-text-mining-ipynb-L416" class="blob-num js-line-number js-code-nav-line-number js-blob-rnum" data-line-number="416"></td>
          <td id="file-assignment-11-text-mining-ipynb-LC416" class="blob-code blob-code-inner js-file-line">      },</td>
        </tr>
        <tr>
          <td id="file-assignment-11-text-mining-ipynb-L417" class="blob-num js-line-number js-code-nav-line-number js-blob-rnum" data-line-number="417"></td>
          <td id="file-assignment-11-text-mining-ipynb-LC417" class="blob-code blob-code-inner js-file-line">      <span class="pl-ent">"cell_type"</span>: <span class="pl-s"><span class="pl-pds">"</span>code<span class="pl-pds">"</span></span>,</td>
        </tr>
        <tr>
          <td id="file-assignment-11-text-mining-ipynb-L418" class="blob-num js-line-number js-code-nav-line-number js-blob-rnum" data-line-number="418"></td>
          <td id="file-assignment-11-text-mining-ipynb-LC418" class="blob-code blob-code-inner js-file-line">      <span class="pl-ent">"source"</span>: <span class="pl-s"><span class="pl-pds">"</span>freq = list(freq.index)<span class="pl-cce">\n</span>data['Text'] = data['Text'].apply(lambda x: <span class="pl-cce">\"</span> <span class="pl-cce">\"</span>.join(x for x in x.split() if x not in freq))<span class="pl-cce">\n</span>data['Text'].head()<span class="pl-pds">"</span></span>,</td>
        </tr>
        <tr>
          <td id="file-assignment-11-text-mining-ipynb-L419" class="blob-num js-line-number js-code-nav-line-number js-blob-rnum" data-line-number="419"></td>
          <td id="file-assignment-11-text-mining-ipynb-LC419" class="blob-code blob-code-inner js-file-line">      <span class="pl-ent">"execution_count"</span>: <span class="pl-c1">20</span>,</td>
        </tr>
        <tr>
          <td id="file-assignment-11-text-mining-ipynb-L420" class="blob-num js-line-number js-code-nav-line-number js-blob-rnum" data-line-number="420"></td>
          <td id="file-assignment-11-text-mining-ipynb-LC420" class="blob-code blob-code-inner js-file-line">      <span class="pl-ent">"outputs"</span>: [</td>
        </tr>
        <tr>
          <td id="file-assignment-11-text-mining-ipynb-L421" class="blob-num js-line-number js-code-nav-line-number js-blob-rnum" data-line-number="421"></td>
          <td id="file-assignment-11-text-mining-ipynb-LC421" class="blob-code blob-code-inner js-file-line">        {</td>
        </tr>
        <tr>
          <td id="file-assignment-11-text-mining-ipynb-L422" class="blob-num js-line-number js-code-nav-line-number js-blob-rnum" data-line-number="422"></td>
          <td id="file-assignment-11-text-mining-ipynb-LC422" class="blob-code blob-code-inner js-file-line">          <span class="pl-ent">"data"</span>: {</td>
        </tr>
        <tr>
          <td id="file-assignment-11-text-mining-ipynb-L423" class="blob-num js-line-number js-code-nav-line-number js-blob-rnum" data-line-number="423"></td>
          <td id="file-assignment-11-text-mining-ipynb-LC423" class="blob-code blob-code-inner js-file-line">            <span class="pl-ent">"text/plain"</span>: <span class="pl-s"><span class="pl-pds">"</span>0                                    kunalb11 im alien<span class="pl-cce">\n</span>1    id_aa_carmack ray tracing cyberpunk hdr nextle...<span class="pl-cce">\n</span>2                           joerogan spotify interview<span class="pl-cce">\n</span>3                          gtera27 doge underestimated<span class="pl-cce">\n</span>4    teslacn congratulations china amazing executio...<span class="pl-cce">\n</span>Name: Text, dtype: object<span class="pl-pds">"</span></span></td>
        </tr>
        <tr>
          <td id="file-assignment-11-text-mining-ipynb-L424" class="blob-num js-line-number js-code-nav-line-number js-blob-rnum" data-line-number="424"></td>
          <td id="file-assignment-11-text-mining-ipynb-LC424" class="blob-code blob-code-inner js-file-line">          },</td>
        </tr>
        <tr>
          <td id="file-assignment-11-text-mining-ipynb-L425" class="blob-num js-line-number js-code-nav-line-number js-blob-rnum" data-line-number="425"></td>
          <td id="file-assignment-11-text-mining-ipynb-LC425" class="blob-code blob-code-inner js-file-line">          <span class="pl-ent">"execution_count"</span>: <span class="pl-c1">20</span>,</td>
        </tr>
        <tr>
          <td id="file-assignment-11-text-mining-ipynb-L426" class="blob-num js-line-number js-code-nav-line-number js-blob-rnum" data-line-number="426"></td>
          <td id="file-assignment-11-text-mining-ipynb-LC426" class="blob-code blob-code-inner js-file-line">          <span class="pl-ent">"metadata"</span>: {},</td>
        </tr>
        <tr>
          <td id="file-assignment-11-text-mining-ipynb-L427" class="blob-num js-line-number js-code-nav-line-number js-blob-rnum" data-line-number="427"></td>
          <td id="file-assignment-11-text-mining-ipynb-LC427" class="blob-code blob-code-inner js-file-line">          <span class="pl-ent">"output_type"</span>: <span class="pl-s"><span class="pl-pds">"</span>execute_result<span class="pl-pds">"</span></span></td>
        </tr>
        <tr>
          <td id="file-assignment-11-text-mining-ipynb-L428" class="blob-num js-line-number js-code-nav-line-number js-blob-rnum" data-line-number="428"></td>
          <td id="file-assignment-11-text-mining-ipynb-LC428" class="blob-code blob-code-inner js-file-line">        }</td>
        </tr>
        <tr>
          <td id="file-assignment-11-text-mining-ipynb-L429" class="blob-num js-line-number js-code-nav-line-number js-blob-rnum" data-line-number="429"></td>
          <td id="file-assignment-11-text-mining-ipynb-LC429" class="blob-code blob-code-inner js-file-line">      ]</td>
        </tr>
        <tr>
          <td id="file-assignment-11-text-mining-ipynb-L430" class="blob-num js-line-number js-code-nav-line-number js-blob-rnum" data-line-number="430"></td>
          <td id="file-assignment-11-text-mining-ipynb-LC430" class="blob-code blob-code-inner js-file-line">    },</td>
        </tr>
        <tr>
          <td id="file-assignment-11-text-mining-ipynb-L431" class="blob-num js-line-number js-code-nav-line-number js-blob-rnum" data-line-number="431"></td>
          <td id="file-assignment-11-text-mining-ipynb-LC431" class="blob-code blob-code-inner js-file-line">    {</td>
        </tr>
        <tr>
          <td id="file-assignment-11-text-mining-ipynb-L432" class="blob-num js-line-number js-code-nav-line-number js-blob-rnum" data-line-number="432"></td>
          <td id="file-assignment-11-text-mining-ipynb-LC432" class="blob-code blob-code-inner js-file-line">      <span class="pl-ent">"metadata"</span>: {},</td>
        </tr>
        <tr>
          <td id="file-assignment-11-text-mining-ipynb-L433" class="blob-num js-line-number js-code-nav-line-number js-blob-rnum" data-line-number="433"></td>
          <td id="file-assignment-11-text-mining-ipynb-LC433" class="blob-code blob-code-inner js-file-line">      <span class="pl-ent">"cell_type"</span>: <span class="pl-s"><span class="pl-pds">"</span>markdown<span class="pl-pds">"</span></span>,</td>
        </tr>
        <tr>
          <td id="file-assignment-11-text-mining-ipynb-L434" class="blob-num js-line-number js-code-nav-line-number js-blob-rnum" data-line-number="434"></td>
          <td id="file-assignment-11-text-mining-ipynb-LC434" class="blob-code blob-code-inner js-file-line">      <span class="pl-ent">"source"</span>: <span class="pl-s"><span class="pl-pds">"</span>## 2.6 Spelling correction<span class="pl-pds">"</span></span></td>
        </tr>
        <tr>
          <td id="file-assignment-11-text-mining-ipynb-L435" class="blob-num js-line-number js-code-nav-line-number js-blob-rnum" data-line-number="435"></td>
          <td id="file-assignment-11-text-mining-ipynb-LC435" class="blob-code blob-code-inner js-file-line">    },</td>
        </tr>
        <tr>
          <td id="file-assignment-11-text-mining-ipynb-L436" class="blob-num js-line-number js-code-nav-line-number js-blob-rnum" data-line-number="436"></td>
          <td id="file-assignment-11-text-mining-ipynb-LC436" class="blob-code blob-code-inner js-file-line">    {</td>
        </tr>
        <tr>
          <td id="file-assignment-11-text-mining-ipynb-L437" class="blob-num js-line-number js-code-nav-line-number js-blob-rnum" data-line-number="437"></td>
          <td id="file-assignment-11-text-mining-ipynb-LC437" class="blob-code blob-code-inner js-file-line">      <span class="pl-ent">"metadata"</span>: {</td>
        </tr>
        <tr>
          <td id="file-assignment-11-text-mining-ipynb-L438" class="blob-num js-line-number js-code-nav-line-number js-blob-rnum" data-line-number="438"></td>
          <td id="file-assignment-11-text-mining-ipynb-LC438" class="blob-code blob-code-inner js-file-line">        <span class="pl-ent">"trusted"</span>: <span class="pl-c1">false</span></td>
        </tr>
        <tr>
          <td id="file-assignment-11-text-mining-ipynb-L439" class="blob-num js-line-number js-code-nav-line-number js-blob-rnum" data-line-number="439"></td>
          <td id="file-assignment-11-text-mining-ipynb-LC439" class="blob-code blob-code-inner js-file-line">      },</td>
        </tr>
        <tr>
          <td id="file-assignment-11-text-mining-ipynb-L440" class="blob-num js-line-number js-code-nav-line-number js-blob-rnum" data-line-number="440"></td>
          <td id="file-assignment-11-text-mining-ipynb-LC440" class="blob-code blob-code-inner js-file-line">      <span class="pl-ent">"cell_type"</span>: <span class="pl-s"><span class="pl-pds">"</span>code<span class="pl-pds">"</span></span>,</td>
        </tr>
        <tr>
          <td id="file-assignment-11-text-mining-ipynb-L441" class="blob-num js-line-number js-code-nav-line-number js-blob-rnum" data-line-number="441"></td>
          <td id="file-assignment-11-text-mining-ipynb-LC441" class="blob-code blob-code-inner js-file-line">      <span class="pl-ent">"source"</span>: <span class="pl-s"><span class="pl-pds">"</span>data['Text'][:5].apply(lambda x: str(TextBlob(x).correct()))<span class="pl-pds">"</span></span>,</td>
        </tr>
        <tr>
          <td id="file-assignment-11-text-mining-ipynb-L442" class="blob-num js-line-number js-code-nav-line-number js-blob-rnum" data-line-number="442"></td>
          <td id="file-assignment-11-text-mining-ipynb-LC442" class="blob-code blob-code-inner js-file-line">      <span class="pl-ent">"execution_count"</span>: <span class="pl-c1">21</span>,</td>
        </tr>
        <tr>
          <td id="file-assignment-11-text-mining-ipynb-L443" class="blob-num js-line-number js-code-nav-line-number js-blob-rnum" data-line-number="443"></td>
          <td id="file-assignment-11-text-mining-ipynb-LC443" class="blob-code blob-code-inner js-file-line">      <span class="pl-ent">"outputs"</span>: [</td>
        </tr>
        <tr>
          <td id="file-assignment-11-text-mining-ipynb-L444" class="blob-num js-line-number js-code-nav-line-number js-blob-rnum" data-line-number="444"></td>
          <td id="file-assignment-11-text-mining-ipynb-LC444" class="blob-code blob-code-inner js-file-line">        {</td>
        </tr>
        <tr>
          <td id="file-assignment-11-text-mining-ipynb-L445" class="blob-num js-line-number js-code-nav-line-number js-blob-rnum" data-line-number="445"></td>
          <td id="file-assignment-11-text-mining-ipynb-LC445" class="blob-code blob-code-inner js-file-line">          <span class="pl-ent">"data"</span>: {</td>
        </tr>
        <tr>
          <td id="file-assignment-11-text-mining-ipynb-L446" class="blob-num js-line-number js-code-nav-line-number js-blob-rnum" data-line-number="446"></td>
          <td id="file-assignment-11-text-mining-ipynb-LC446" class="blob-code blob-code-inner js-file-line">            <span class="pl-ent">"text/plain"</span>: <span class="pl-s"><span class="pl-pds">"</span>0                                    kunalb11 in alien<span class="pl-cce">\n</span>1    id_aa_carmack ray tracing cyberpunk her nextle...<span class="pl-cce">\n</span>2                           joerogan specify interview<span class="pl-cce">\n</span>3                          gtera27 done underestimated<span class="pl-cce">\n</span>4    teslacn congratulations china amazing executio...<span class="pl-cce">\n</span>Name: Text, dtype: object<span class="pl-pds">"</span></span></td>
        </tr>
        <tr>
          <td id="file-assignment-11-text-mining-ipynb-L447" class="blob-num js-line-number js-code-nav-line-number js-blob-rnum" data-line-number="447"></td>
          <td id="file-assignment-11-text-mining-ipynb-LC447" class="blob-code blob-code-inner js-file-line">          },</td>
        </tr>
        <tr>
          <td id="file-assignment-11-text-mining-ipynb-L448" class="blob-num js-line-number js-code-nav-line-number js-blob-rnum" data-line-number="448"></td>
          <td id="file-assignment-11-text-mining-ipynb-LC448" class="blob-code blob-code-inner js-file-line">          <span class="pl-ent">"execution_count"</span>: <span class="pl-c1">21</span>,</td>
        </tr>
        <tr>
          <td id="file-assignment-11-text-mining-ipynb-L449" class="blob-num js-line-number js-code-nav-line-number js-blob-rnum" data-line-number="449"></td>
          <td id="file-assignment-11-text-mining-ipynb-LC449" class="blob-code blob-code-inner js-file-line">          <span class="pl-ent">"metadata"</span>: {},</td>
        </tr>
        <tr>
          <td id="file-assignment-11-text-mining-ipynb-L450" class="blob-num js-line-number js-code-nav-line-number js-blob-rnum" data-line-number="450"></td>
          <td id="file-assignment-11-text-mining-ipynb-LC450" class="blob-code blob-code-inner js-file-line">          <span class="pl-ent">"output_type"</span>: <span class="pl-s"><span class="pl-pds">"</span>execute_result<span class="pl-pds">"</span></span></td>
        </tr>
        <tr>
          <td id="file-assignment-11-text-mining-ipynb-L451" class="blob-num js-line-number js-code-nav-line-number js-blob-rnum" data-line-number="451"></td>
          <td id="file-assignment-11-text-mining-ipynb-LC451" class="blob-code blob-code-inner js-file-line">        }</td>
        </tr>
        <tr>
          <td id="file-assignment-11-text-mining-ipynb-L452" class="blob-num js-line-number js-code-nav-line-number js-blob-rnum" data-line-number="452"></td>
          <td id="file-assignment-11-text-mining-ipynb-LC452" class="blob-code blob-code-inner js-file-line">      ]</td>
        </tr>
        <tr>
          <td id="file-assignment-11-text-mining-ipynb-L453" class="blob-num js-line-number js-code-nav-line-number js-blob-rnum" data-line-number="453"></td>
          <td id="file-assignment-11-text-mining-ipynb-LC453" class="blob-code blob-code-inner js-file-line">    },</td>
        </tr>
        <tr>
          <td id="file-assignment-11-text-mining-ipynb-L454" class="blob-num js-line-number js-code-nav-line-number js-blob-rnum" data-line-number="454"></td>
          <td id="file-assignment-11-text-mining-ipynb-LC454" class="blob-code blob-code-inner js-file-line">    {</td>
        </tr>
        <tr>
          <td id="file-assignment-11-text-mining-ipynb-L455" class="blob-num js-line-number js-code-nav-line-number js-blob-rnum" data-line-number="455"></td>
          <td id="file-assignment-11-text-mining-ipynb-LC455" class="blob-code blob-code-inner js-file-line">      <span class="pl-ent">"metadata"</span>: {},</td>
        </tr>
        <tr>
          <td id="file-assignment-11-text-mining-ipynb-L456" class="blob-num js-line-number js-code-nav-line-number js-blob-rnum" data-line-number="456"></td>
          <td id="file-assignment-11-text-mining-ipynb-LC456" class="blob-code blob-code-inner js-file-line">      <span class="pl-ent">"cell_type"</span>: <span class="pl-s"><span class="pl-pds">"</span>markdown<span class="pl-pds">"</span></span>,</td>
        </tr>
        <tr>
          <td id="file-assignment-11-text-mining-ipynb-L457" class="blob-num js-line-number js-code-nav-line-number js-blob-rnum" data-line-number="457"></td>
          <td id="file-assignment-11-text-mining-ipynb-LC457" class="blob-code blob-code-inner js-file-line">      <span class="pl-ent">"source"</span>: <span class="pl-s"><span class="pl-pds">"</span>## 2.7 Tokenization<span class="pl-pds">"</span></span></td>
        </tr>
        <tr>
          <td id="file-assignment-11-text-mining-ipynb-L458" class="blob-num js-line-number js-code-nav-line-number js-blob-rnum" data-line-number="458"></td>
          <td id="file-assignment-11-text-mining-ipynb-LC458" class="blob-code blob-code-inner js-file-line">    },</td>
        </tr>
        <tr>
          <td id="file-assignment-11-text-mining-ipynb-L459" class="blob-num js-line-number js-code-nav-line-number js-blob-rnum" data-line-number="459"></td>
          <td id="file-assignment-11-text-mining-ipynb-LC459" class="blob-code blob-code-inner js-file-line">    {</td>
        </tr>
        <tr>
          <td id="file-assignment-11-text-mining-ipynb-L460" class="blob-num js-line-number js-code-nav-line-number js-blob-rnum" data-line-number="460"></td>
          <td id="file-assignment-11-text-mining-ipynb-LC460" class="blob-code blob-code-inner js-file-line">      <span class="pl-ent">"metadata"</span>: {</td>
        </tr>
        <tr>
          <td id="file-assignment-11-text-mining-ipynb-L461" class="blob-num js-line-number js-code-nav-line-number js-blob-rnum" data-line-number="461"></td>
          <td id="file-assignment-11-text-mining-ipynb-LC461" class="blob-code blob-code-inner js-file-line">        <span class="pl-ent">"trusted"</span>: <span class="pl-c1">false</span></td>
        </tr>
        <tr>
          <td id="file-assignment-11-text-mining-ipynb-L462" class="blob-num js-line-number js-code-nav-line-number js-blob-rnum" data-line-number="462"></td>
          <td id="file-assignment-11-text-mining-ipynb-LC462" class="blob-code blob-code-inner js-file-line">      },</td>
        </tr>
        <tr>
          <td id="file-assignment-11-text-mining-ipynb-L463" class="blob-num js-line-number js-code-nav-line-number js-blob-rnum" data-line-number="463"></td>
          <td id="file-assignment-11-text-mining-ipynb-LC463" class="blob-code blob-code-inner js-file-line">      <span class="pl-ent">"cell_type"</span>: <span class="pl-s"><span class="pl-pds">"</span>code<span class="pl-pds">"</span></span>,</td>
        </tr>
        <tr>
          <td id="file-assignment-11-text-mining-ipynb-L464" class="blob-num js-line-number js-code-nav-line-number js-blob-rnum" data-line-number="464"></td>
          <td id="file-assignment-11-text-mining-ipynb-LC464" class="blob-code blob-code-inner js-file-line">      <span class="pl-ent">"source"</span>: <span class="pl-s"><span class="pl-pds">"</span>TextBlob(data['Text'][1]).words<span class="pl-pds">"</span></span>,</td>
        </tr>
        <tr>
          <td id="file-assignment-11-text-mining-ipynb-L465" class="blob-num js-line-number js-code-nav-line-number js-blob-rnum" data-line-number="465"></td>
          <td id="file-assignment-11-text-mining-ipynb-LC465" class="blob-code blob-code-inner js-file-line">      <span class="pl-ent">"execution_count"</span>: <span class="pl-c1">24</span>,</td>
        </tr>
        <tr>
          <td id="file-assignment-11-text-mining-ipynb-L466" class="blob-num js-line-number js-code-nav-line-number js-blob-rnum" data-line-number="466"></td>
          <td id="file-assignment-11-text-mining-ipynb-LC466" class="blob-code blob-code-inner js-file-line">      <span class="pl-ent">"outputs"</span>: [</td>
        </tr>
        <tr>
          <td id="file-assignment-11-text-mining-ipynb-L467" class="blob-num js-line-number js-code-nav-line-number js-blob-rnum" data-line-number="467"></td>
          <td id="file-assignment-11-text-mining-ipynb-LC467" class="blob-code blob-code-inner js-file-line">        {</td>
        </tr>
        <tr>
          <td id="file-assignment-11-text-mining-ipynb-L468" class="blob-num js-line-number js-code-nav-line-number js-blob-rnum" data-line-number="468"></td>
          <td id="file-assignment-11-text-mining-ipynb-LC468" class="blob-code blob-code-inner js-file-line">          <span class="pl-ent">"data"</span>: {</td>
        </tr>
        <tr>
          <td id="file-assignment-11-text-mining-ipynb-L469" class="blob-num js-line-number js-code-nav-line-number js-blob-rnum" data-line-number="469"></td>
          <td id="file-assignment-11-text-mining-ipynb-LC469" class="blob-code blob-code-inner js-file-line">            <span class="pl-ent">"text/plain"</span>: <span class="pl-s"><span class="pl-pds">"</span>WordList(['id_aa_carmack', 'ray', 'tracing', 'cyberpunk', 'hdr', 'nextlevel', 'tried'])<span class="pl-pds">"</span></span></td>
        </tr>
        <tr>
          <td id="file-assignment-11-text-mining-ipynb-L470" class="blob-num js-line-number js-code-nav-line-number js-blob-rnum" data-line-number="470"></td>
          <td id="file-assignment-11-text-mining-ipynb-LC470" class="blob-code blob-code-inner js-file-line">          },</td>
        </tr>
        <tr>
          <td id="file-assignment-11-text-mining-ipynb-L471" class="blob-num js-line-number js-code-nav-line-number js-blob-rnum" data-line-number="471"></td>
          <td id="file-assignment-11-text-mining-ipynb-LC471" class="blob-code blob-code-inner js-file-line">          <span class="pl-ent">"execution_count"</span>: <span class="pl-c1">24</span>,</td>
        </tr>
        <tr>
          <td id="file-assignment-11-text-mining-ipynb-L472" class="blob-num js-line-number js-code-nav-line-number js-blob-rnum" data-line-number="472"></td>
          <td id="file-assignment-11-text-mining-ipynb-LC472" class="blob-code blob-code-inner js-file-line">          <span class="pl-ent">"metadata"</span>: {},</td>
        </tr>
        <tr>
          <td id="file-assignment-11-text-mining-ipynb-L473" class="blob-num js-line-number js-code-nav-line-number js-blob-rnum" data-line-number="473"></td>
          <td id="file-assignment-11-text-mining-ipynb-LC473" class="blob-code blob-code-inner js-file-line">          <span class="pl-ent">"output_type"</span>: <span class="pl-s"><span class="pl-pds">"</span>execute_result<span class="pl-pds">"</span></span></td>
        </tr>
        <tr>
          <td id="file-assignment-11-text-mining-ipynb-L474" class="blob-num js-line-number js-code-nav-line-number js-blob-rnum" data-line-number="474"></td>
          <td id="file-assignment-11-text-mining-ipynb-LC474" class="blob-code blob-code-inner js-file-line">        }</td>
        </tr>
        <tr>
          <td id="file-assignment-11-text-mining-ipynb-L475" class="blob-num js-line-number js-code-nav-line-number js-blob-rnum" data-line-number="475"></td>
          <td id="file-assignment-11-text-mining-ipynb-LC475" class="blob-code blob-code-inner js-file-line">      ]</td>
        </tr>
        <tr>
          <td id="file-assignment-11-text-mining-ipynb-L476" class="blob-num js-line-number js-code-nav-line-number js-blob-rnum" data-line-number="476"></td>
          <td id="file-assignment-11-text-mining-ipynb-LC476" class="blob-code blob-code-inner js-file-line">    },</td>
        </tr>
        <tr>
          <td id="file-assignment-11-text-mining-ipynb-L477" class="blob-num js-line-number js-code-nav-line-number js-blob-rnum" data-line-number="477"></td>
          <td id="file-assignment-11-text-mining-ipynb-LC477" class="blob-code blob-code-inner js-file-line">    {</td>
        </tr>
        <tr>
          <td id="file-assignment-11-text-mining-ipynb-L478" class="blob-num js-line-number js-code-nav-line-number js-blob-rnum" data-line-number="478"></td>
          <td id="file-assignment-11-text-mining-ipynb-LC478" class="blob-code blob-code-inner js-file-line">      <span class="pl-ent">"metadata"</span>: {</td>
        </tr>
        <tr>
          <td id="file-assignment-11-text-mining-ipynb-L479" class="blob-num js-line-number js-code-nav-line-number js-blob-rnum" data-line-number="479"></td>
          <td id="file-assignment-11-text-mining-ipynb-LC479" class="blob-code blob-code-inner js-file-line">        <span class="pl-ent">"trusted"</span>: <span class="pl-c1">false</span></td>
        </tr>
        <tr>
          <td id="file-assignment-11-text-mining-ipynb-L480" class="blob-num js-line-number js-code-nav-line-number js-blob-rnum" data-line-number="480"></td>
          <td id="file-assignment-11-text-mining-ipynb-LC480" class="blob-code blob-code-inner js-file-line">      },</td>
        </tr>
        <tr>
          <td id="file-assignment-11-text-mining-ipynb-L481" class="blob-num js-line-number js-code-nav-line-number js-blob-rnum" data-line-number="481"></td>
          <td id="file-assignment-11-text-mining-ipynb-LC481" class="blob-code blob-code-inner js-file-line">      <span class="pl-ent">"cell_type"</span>: <span class="pl-s"><span class="pl-pds">"</span>code<span class="pl-pds">"</span></span>,</td>
        </tr>
        <tr>
          <td id="file-assignment-11-text-mining-ipynb-L482" class="blob-num js-line-number js-code-nav-line-number js-blob-rnum" data-line-number="482"></td>
          <td id="file-assignment-11-text-mining-ipynb-LC482" class="blob-code blob-code-inner js-file-line">      <span class="pl-ent">"source"</span>: <span class="pl-s"><span class="pl-pds">"</span>nltk.download('punkt')<span class="pl-pds">"</span></span>,</td>
        </tr>
        <tr>
          <td id="file-assignment-11-text-mining-ipynb-L483" class="blob-num js-line-number js-code-nav-line-number js-blob-rnum" data-line-number="483"></td>
          <td id="file-assignment-11-text-mining-ipynb-LC483" class="blob-code blob-code-inner js-file-line">      <span class="pl-ent">"execution_count"</span>: <span class="pl-c1">23</span>,</td>
        </tr>
        <tr>
          <td id="file-assignment-11-text-mining-ipynb-L484" class="blob-num js-line-number js-code-nav-line-number js-blob-rnum" data-line-number="484"></td>
          <td id="file-assignment-11-text-mining-ipynb-LC484" class="blob-code blob-code-inner js-file-line">      <span class="pl-ent">"outputs"</span>: [</td>
        </tr>
        <tr>
          <td id="file-assignment-11-text-mining-ipynb-L485" class="blob-num js-line-number js-code-nav-line-number js-blob-rnum" data-line-number="485"></td>
          <td id="file-assignment-11-text-mining-ipynb-LC485" class="blob-code blob-code-inner js-file-line">        {</td>
        </tr>
        <tr>
          <td id="file-assignment-11-text-mining-ipynb-L486" class="blob-num js-line-number js-code-nav-line-number js-blob-rnum" data-line-number="486"></td>
          <td id="file-assignment-11-text-mining-ipynb-LC486" class="blob-code blob-code-inner js-file-line">          <span class="pl-ent">"name"</span>: <span class="pl-s"><span class="pl-pds">"</span>stderr<span class="pl-pds">"</span></span>,</td>
        </tr>
        <tr>
          <td id="file-assignment-11-text-mining-ipynb-L487" class="blob-num js-line-number js-code-nav-line-number js-blob-rnum" data-line-number="487"></td>
          <td id="file-assignment-11-text-mining-ipynb-LC487" class="blob-code blob-code-inner js-file-line">          <span class="pl-ent">"output_type"</span>: <span class="pl-s"><span class="pl-pds">"</span>stream<span class="pl-pds">"</span></span>,</td>
        </tr>
        <tr>
          <td id="file-assignment-11-text-mining-ipynb-L488" class="blob-num js-line-number js-code-nav-line-number js-blob-rnum" data-line-number="488"></td>
          <td id="file-assignment-11-text-mining-ipynb-LC488" class="blob-code blob-code-inner js-file-line">          <span class="pl-ent">"text"</span>: <span class="pl-s"><span class="pl-pds">"</span>[nltk_data] Downloading package punkt to<span class="pl-cce">\n</span>[nltk_data]     C:<span class="pl-cce">\\</span>Users<span class="pl-cce">\\</span>perline.anisha<span class="pl-cce">\\</span>AppData<span class="pl-cce">\\</span>Roaming<span class="pl-cce">\\</span>nltk_data...<span class="pl-cce">\n</span>[nltk_data]   Unzipping tokenizers<span class="pl-cce">\\</span>punkt.zip.<span class="pl-cce">\n</span><span class="pl-pds">"</span></span></td>
        </tr>
        <tr>
          <td id="file-assignment-11-text-mining-ipynb-L489" class="blob-num js-line-number js-code-nav-line-number js-blob-rnum" data-line-number="489"></td>
          <td id="file-assignment-11-text-mining-ipynb-LC489" class="blob-code blob-code-inner js-file-line">        },</td>
        </tr>
        <tr>
          <td id="file-assignment-11-text-mining-ipynb-L490" class="blob-num js-line-number js-code-nav-line-number js-blob-rnum" data-line-number="490"></td>
          <td id="file-assignment-11-text-mining-ipynb-LC490" class="blob-code blob-code-inner js-file-line">        {</td>
        </tr>
        <tr>
          <td id="file-assignment-11-text-mining-ipynb-L491" class="blob-num js-line-number js-code-nav-line-number js-blob-rnum" data-line-number="491"></td>
          <td id="file-assignment-11-text-mining-ipynb-LC491" class="blob-code blob-code-inner js-file-line">          <span class="pl-ent">"data"</span>: {</td>
        </tr>
        <tr>
          <td id="file-assignment-11-text-mining-ipynb-L492" class="blob-num js-line-number js-code-nav-line-number js-blob-rnum" data-line-number="492"></td>
          <td id="file-assignment-11-text-mining-ipynb-LC492" class="blob-code blob-code-inner js-file-line">            <span class="pl-ent">"text/plain"</span>: <span class="pl-s"><span class="pl-pds">"</span>True<span class="pl-pds">"</span></span></td>
        </tr>
        <tr>
          <td id="file-assignment-11-text-mining-ipynb-L493" class="blob-num js-line-number js-code-nav-line-number js-blob-rnum" data-line-number="493"></td>
          <td id="file-assignment-11-text-mining-ipynb-LC493" class="blob-code blob-code-inner js-file-line">          },</td>
        </tr>
        <tr>
          <td id="file-assignment-11-text-mining-ipynb-L494" class="blob-num js-line-number js-code-nav-line-number js-blob-rnum" data-line-number="494"></td>
          <td id="file-assignment-11-text-mining-ipynb-LC494" class="blob-code blob-code-inner js-file-line">          <span class="pl-ent">"execution_count"</span>: <span class="pl-c1">23</span>,</td>
        </tr>
        <tr>
          <td id="file-assignment-11-text-mining-ipynb-L495" class="blob-num js-line-number js-code-nav-line-number js-blob-rnum" data-line-number="495"></td>
          <td id="file-assignment-11-text-mining-ipynb-LC495" class="blob-code blob-code-inner js-file-line">          <span class="pl-ent">"metadata"</span>: {},</td>
        </tr>
        <tr>
          <td id="file-assignment-11-text-mining-ipynb-L496" class="blob-num js-line-number js-code-nav-line-number js-blob-rnum" data-line-number="496"></td>
          <td id="file-assignment-11-text-mining-ipynb-LC496" class="blob-code blob-code-inner js-file-line">          <span class="pl-ent">"output_type"</span>: <span class="pl-s"><span class="pl-pds">"</span>execute_result<span class="pl-pds">"</span></span></td>
        </tr>
        <tr>
          <td id="file-assignment-11-text-mining-ipynb-L497" class="blob-num js-line-number js-code-nav-line-number js-blob-rnum" data-line-number="497"></td>
          <td id="file-assignment-11-text-mining-ipynb-LC497" class="blob-code blob-code-inner js-file-line">        }</td>
        </tr>
        <tr>
          <td id="file-assignment-11-text-mining-ipynb-L498" class="blob-num js-line-number js-code-nav-line-number js-blob-rnum" data-line-number="498"></td>
          <td id="file-assignment-11-text-mining-ipynb-LC498" class="blob-code blob-code-inner js-file-line">      ]</td>
        </tr>
        <tr>
          <td id="file-assignment-11-text-mining-ipynb-L499" class="blob-num js-line-number js-code-nav-line-number js-blob-rnum" data-line-number="499"></td>
          <td id="file-assignment-11-text-mining-ipynb-LC499" class="blob-code blob-code-inner js-file-line">    },</td>
        </tr>
        <tr>
          <td id="file-assignment-11-text-mining-ipynb-L500" class="blob-num js-line-number js-code-nav-line-number js-blob-rnum" data-line-number="500"></td>
          <td id="file-assignment-11-text-mining-ipynb-LC500" class="blob-code blob-code-inner js-file-line">    {</td>
        </tr>
        <tr>
          <td id="file-assignment-11-text-mining-ipynb-L501" class="blob-num js-line-number js-code-nav-line-number js-blob-rnum" data-line-number="501"></td>
          <td id="file-assignment-11-text-mining-ipynb-LC501" class="blob-code blob-code-inner js-file-line">      <span class="pl-ent">"metadata"</span>: {},</td>
        </tr>
        <tr>
          <td id="file-assignment-11-text-mining-ipynb-L502" class="blob-num js-line-number js-code-nav-line-number js-blob-rnum" data-line-number="502"></td>
          <td id="file-assignment-11-text-mining-ipynb-LC502" class="blob-code blob-code-inner js-file-line">      <span class="pl-ent">"cell_type"</span>: <span class="pl-s"><span class="pl-pds">"</span>markdown<span class="pl-pds">"</span></span>,</td>
        </tr>
        <tr>
          <td id="file-assignment-11-text-mining-ipynb-L503" class="blob-num js-line-number js-code-nav-line-number js-blob-rnum" data-line-number="503"></td>
          <td id="file-assignment-11-text-mining-ipynb-LC503" class="blob-code blob-code-inner js-file-line">      <span class="pl-ent">"source"</span>: <span class="pl-s"><span class="pl-pds">"</span>## 2.8 Stemming<span class="pl-pds">"</span></span></td>
        </tr>
        <tr>
          <td id="file-assignment-11-text-mining-ipynb-L504" class="blob-num js-line-number js-code-nav-line-number js-blob-rnum" data-line-number="504"></td>
          <td id="file-assignment-11-text-mining-ipynb-LC504" class="blob-code blob-code-inner js-file-line">    },</td>
        </tr>
        <tr>
          <td id="file-assignment-11-text-mining-ipynb-L505" class="blob-num js-line-number js-code-nav-line-number js-blob-rnum" data-line-number="505"></td>
          <td id="file-assignment-11-text-mining-ipynb-LC505" class="blob-code blob-code-inner js-file-line">    {</td>
        </tr>
        <tr>
          <td id="file-assignment-11-text-mining-ipynb-L506" class="blob-num js-line-number js-code-nav-line-number js-blob-rnum" data-line-number="506"></td>
          <td id="file-assignment-11-text-mining-ipynb-LC506" class="blob-code blob-code-inner js-file-line">      <span class="pl-ent">"metadata"</span>: {</td>
        </tr>
        <tr>
          <td id="file-assignment-11-text-mining-ipynb-L507" class="blob-num js-line-number js-code-nav-line-number js-blob-rnum" data-line-number="507"></td>
          <td id="file-assignment-11-text-mining-ipynb-LC507" class="blob-code blob-code-inner js-file-line">        <span class="pl-ent">"trusted"</span>: <span class="pl-c1">false</span></td>
        </tr>
        <tr>
          <td id="file-assignment-11-text-mining-ipynb-L508" class="blob-num js-line-number js-code-nav-line-number js-blob-rnum" data-line-number="508"></td>
          <td id="file-assignment-11-text-mining-ipynb-LC508" class="blob-code blob-code-inner js-file-line">      },</td>
        </tr>
        <tr>
          <td id="file-assignment-11-text-mining-ipynb-L509" class="blob-num js-line-number js-code-nav-line-number js-blob-rnum" data-line-number="509"></td>
          <td id="file-assignment-11-text-mining-ipynb-LC509" class="blob-code blob-code-inner js-file-line">      <span class="pl-ent">"cell_type"</span>: <span class="pl-s"><span class="pl-pds">"</span>code<span class="pl-pds">"</span></span>,</td>
        </tr>
        <tr>
          <td id="file-assignment-11-text-mining-ipynb-L510" class="blob-num js-line-number js-code-nav-line-number js-blob-rnum" data-line-number="510"></td>
          <td id="file-assignment-11-text-mining-ipynb-LC510" class="blob-code blob-code-inner js-file-line">      <span class="pl-ent">"source"</span>: <span class="pl-s"><span class="pl-pds">"</span>from nltk.stem import PorterStemmer<span class="pl-cce">\n</span>st = PorterStemmer()<span class="pl-cce">\n</span>data['Text'][:5].apply(lambda x: <span class="pl-cce">\"</span> <span class="pl-cce">\"</span>.join([st.stem(word) for word in x.split()]))<span class="pl-pds">"</span></span>,</td>
        </tr>
        <tr>
          <td id="file-assignment-11-text-mining-ipynb-L511" class="blob-num js-line-number js-code-nav-line-number js-blob-rnum" data-line-number="511"></td>
          <td id="file-assignment-11-text-mining-ipynb-LC511" class="blob-code blob-code-inner js-file-line">      <span class="pl-ent">"execution_count"</span>: <span class="pl-c1">25</span>,</td>
        </tr>
        <tr>
          <td id="file-assignment-11-text-mining-ipynb-L512" class="blob-num js-line-number js-code-nav-line-number js-blob-rnum" data-line-number="512"></td>
          <td id="file-assignment-11-text-mining-ipynb-LC512" class="blob-code blob-code-inner js-file-line">      <span class="pl-ent">"outputs"</span>: [</td>
        </tr>
        <tr>
          <td id="file-assignment-11-text-mining-ipynb-L513" class="blob-num js-line-number js-code-nav-line-number js-blob-rnum" data-line-number="513"></td>
          <td id="file-assignment-11-text-mining-ipynb-LC513" class="blob-code blob-code-inner js-file-line">        {</td>
        </tr>
        <tr>
          <td id="file-assignment-11-text-mining-ipynb-L514" class="blob-num js-line-number js-code-nav-line-number js-blob-rnum" data-line-number="514"></td>
          <td id="file-assignment-11-text-mining-ipynb-LC514" class="blob-code blob-code-inner js-file-line">          <span class="pl-ent">"data"</span>: {</td>
        </tr>
        <tr>
          <td id="file-assignment-11-text-mining-ipynb-L515" class="blob-num js-line-number js-code-nav-line-number js-blob-rnum" data-line-number="515"></td>
          <td id="file-assignment-11-text-mining-ipynb-LC515" class="blob-code blob-code-inner js-file-line">            <span class="pl-ent">"text/plain"</span>: <span class="pl-s"><span class="pl-pds">"</span>0                                    kunalb11 im alien<span class="pl-cce">\n</span>1    id_aa_carmack ray trace cyberpunk hdr nextleve...<span class="pl-cce">\n</span>2                           joerogan spotifi interview<span class="pl-cce">\n</span>3                              gtera27 doge underestim<span class="pl-cce">\n</span>4    teslacn congratul china amaz execut last year ...<span class="pl-cce">\n</span>Name: Text, dtype: object<span class="pl-pds">"</span></span></td>
        </tr>
        <tr>
          <td id="file-assignment-11-text-mining-ipynb-L516" class="blob-num js-line-number js-code-nav-line-number js-blob-rnum" data-line-number="516"></td>
          <td id="file-assignment-11-text-mining-ipynb-LC516" class="blob-code blob-code-inner js-file-line">          },</td>
        </tr>
        <tr>
          <td id="file-assignment-11-text-mining-ipynb-L517" class="blob-num js-line-number js-code-nav-line-number js-blob-rnum" data-line-number="517"></td>
          <td id="file-assignment-11-text-mining-ipynb-LC517" class="blob-code blob-code-inner js-file-line">          <span class="pl-ent">"execution_count"</span>: <span class="pl-c1">25</span>,</td>
        </tr>
        <tr>
          <td id="file-assignment-11-text-mining-ipynb-L518" class="blob-num js-line-number js-code-nav-line-number js-blob-rnum" data-line-number="518"></td>
          <td id="file-assignment-11-text-mining-ipynb-LC518" class="blob-code blob-code-inner js-file-line">          <span class="pl-ent">"metadata"</span>: {},</td>
        </tr>
        <tr>
          <td id="file-assignment-11-text-mining-ipynb-L519" class="blob-num js-line-number js-code-nav-line-number js-blob-rnum" data-line-number="519"></td>
          <td id="file-assignment-11-text-mining-ipynb-LC519" class="blob-code blob-code-inner js-file-line">          <span class="pl-ent">"output_type"</span>: <span class="pl-s"><span class="pl-pds">"</span>execute_result<span class="pl-pds">"</span></span></td>
        </tr>
        <tr>
          <td id="file-assignment-11-text-mining-ipynb-L520" class="blob-num js-line-number js-code-nav-line-number js-blob-rnum" data-line-number="520"></td>
          <td id="file-assignment-11-text-mining-ipynb-LC520" class="blob-code blob-code-inner js-file-line">        }</td>
        </tr>
        <tr>
          <td id="file-assignment-11-text-mining-ipynb-L521" class="blob-num js-line-number js-code-nav-line-number js-blob-rnum" data-line-number="521"></td>
          <td id="file-assignment-11-text-mining-ipynb-LC521" class="blob-code blob-code-inner js-file-line">      ]</td>
        </tr>
        <tr>
          <td id="file-assignment-11-text-mining-ipynb-L522" class="blob-num js-line-number js-code-nav-line-number js-blob-rnum" data-line-number="522"></td>
          <td id="file-assignment-11-text-mining-ipynb-LC522" class="blob-code blob-code-inner js-file-line">    },</td>
        </tr>
        <tr>
          <td id="file-assignment-11-text-mining-ipynb-L523" class="blob-num js-line-number js-code-nav-line-number js-blob-rnum" data-line-number="523"></td>
          <td id="file-assignment-11-text-mining-ipynb-LC523" class="blob-code blob-code-inner js-file-line">    {</td>
        </tr>
        <tr>
          <td id="file-assignment-11-text-mining-ipynb-L524" class="blob-num js-line-number js-code-nav-line-number js-blob-rnum" data-line-number="524"></td>
          <td id="file-assignment-11-text-mining-ipynb-LC524" class="blob-code blob-code-inner js-file-line">      <span class="pl-ent">"metadata"</span>: {},</td>
        </tr>
        <tr>
          <td id="file-assignment-11-text-mining-ipynb-L525" class="blob-num js-line-number js-code-nav-line-number js-blob-rnum" data-line-number="525"></td>
          <td id="file-assignment-11-text-mining-ipynb-LC525" class="blob-code blob-code-inner js-file-line">      <span class="pl-ent">"cell_type"</span>: <span class="pl-s"><span class="pl-pds">"</span>markdown<span class="pl-pds">"</span></span>,</td>
        </tr>
        <tr>
          <td id="file-assignment-11-text-mining-ipynb-L526" class="blob-num js-line-number js-code-nav-line-number js-blob-rnum" data-line-number="526"></td>
          <td id="file-assignment-11-text-mining-ipynb-LC526" class="blob-code blob-code-inner js-file-line">      <span class="pl-ent">"source"</span>: <span class="pl-s"><span class="pl-pds">"</span>## 2.9 Lemmatization<span class="pl-pds">"</span></span></td>
        </tr>
        <tr>
          <td id="file-assignment-11-text-mining-ipynb-L527" class="blob-num js-line-number js-code-nav-line-number js-blob-rnum" data-line-number="527"></td>
          <td id="file-assignment-11-text-mining-ipynb-LC527" class="blob-code blob-code-inner js-file-line">    },</td>
        </tr>
        <tr>
          <td id="file-assignment-11-text-mining-ipynb-L528" class="blob-num js-line-number js-code-nav-line-number js-blob-rnum" data-line-number="528"></td>
          <td id="file-assignment-11-text-mining-ipynb-LC528" class="blob-code blob-code-inner js-file-line">    {</td>
        </tr>
        <tr>
          <td id="file-assignment-11-text-mining-ipynb-L529" class="blob-num js-line-number js-code-nav-line-number js-blob-rnum" data-line-number="529"></td>
          <td id="file-assignment-11-text-mining-ipynb-LC529" class="blob-code blob-code-inner js-file-line">      <span class="pl-ent">"metadata"</span>: {</td>
        </tr>
        <tr>
          <td id="file-assignment-11-text-mining-ipynb-L530" class="blob-num js-line-number js-code-nav-line-number js-blob-rnum" data-line-number="530"></td>
          <td id="file-assignment-11-text-mining-ipynb-LC530" class="blob-code blob-code-inner js-file-line">        <span class="pl-ent">"trusted"</span>: <span class="pl-c1">false</span></td>
        </tr>
        <tr>
          <td id="file-assignment-11-text-mining-ipynb-L531" class="blob-num js-line-number js-code-nav-line-number js-blob-rnum" data-line-number="531"></td>
          <td id="file-assignment-11-text-mining-ipynb-LC531" class="blob-code blob-code-inner js-file-line">      },</td>
        </tr>
        <tr>
          <td id="file-assignment-11-text-mining-ipynb-L532" class="blob-num js-line-number js-code-nav-line-number js-blob-rnum" data-line-number="532"></td>
          <td id="file-assignment-11-text-mining-ipynb-LC532" class="blob-code blob-code-inner js-file-line">      <span class="pl-ent">"cell_type"</span>: <span class="pl-s"><span class="pl-pds">"</span>code<span class="pl-pds">"</span></span>,</td>
        </tr>
        <tr>
          <td id="file-assignment-11-text-mining-ipynb-L533" class="blob-num js-line-number js-code-nav-line-number js-blob-rnum" data-line-number="533"></td>
          <td id="file-assignment-11-text-mining-ipynb-LC533" class="blob-code blob-code-inner js-file-line">      <span class="pl-ent">"source"</span>: <span class="pl-s"><span class="pl-pds">"</span>from textblob import Word<span class="pl-pds">"</span></span>,</td>
        </tr>
        <tr>
          <td id="file-assignment-11-text-mining-ipynb-L534" class="blob-num js-line-number js-code-nav-line-number js-blob-rnum" data-line-number="534"></td>
          <td id="file-assignment-11-text-mining-ipynb-LC534" class="blob-code blob-code-inner js-file-line">      <span class="pl-ent">"execution_count"</span>: <span class="pl-c1">26</span>,</td>
        </tr>
        <tr>
          <td id="file-assignment-11-text-mining-ipynb-L535" class="blob-num js-line-number js-code-nav-line-number js-blob-rnum" data-line-number="535"></td>
          <td id="file-assignment-11-text-mining-ipynb-LC535" class="blob-code blob-code-inner js-file-line">      <span class="pl-ent">"outputs"</span>: []</td>
        </tr>
        <tr>
          <td id="file-assignment-11-text-mining-ipynb-L536" class="blob-num js-line-number js-code-nav-line-number js-blob-rnum" data-line-number="536"></td>
          <td id="file-assignment-11-text-mining-ipynb-LC536" class="blob-code blob-code-inner js-file-line">    },</td>
        </tr>
        <tr>
          <td id="file-assignment-11-text-mining-ipynb-L537" class="blob-num js-line-number js-code-nav-line-number js-blob-rnum" data-line-number="537"></td>
          <td id="file-assignment-11-text-mining-ipynb-LC537" class="blob-code blob-code-inner js-file-line">    {</td>
        </tr>
        <tr>
          <td id="file-assignment-11-text-mining-ipynb-L538" class="blob-num js-line-number js-code-nav-line-number js-blob-rnum" data-line-number="538"></td>
          <td id="file-assignment-11-text-mining-ipynb-LC538" class="blob-code blob-code-inner js-file-line">      <span class="pl-ent">"metadata"</span>: {</td>
        </tr>
        <tr>
          <td id="file-assignment-11-text-mining-ipynb-L539" class="blob-num js-line-number js-code-nav-line-number js-blob-rnum" data-line-number="539"></td>
          <td id="file-assignment-11-text-mining-ipynb-LC539" class="blob-code blob-code-inner js-file-line">        <span class="pl-ent">"trusted"</span>: <span class="pl-c1">false</span></td>
        </tr>
        <tr>
          <td id="file-assignment-11-text-mining-ipynb-L540" class="blob-num js-line-number js-code-nav-line-number js-blob-rnum" data-line-number="540"></td>
          <td id="file-assignment-11-text-mining-ipynb-LC540" class="blob-code blob-code-inner js-file-line">      },</td>
        </tr>
        <tr>
          <td id="file-assignment-11-text-mining-ipynb-L541" class="blob-num js-line-number js-code-nav-line-number js-blob-rnum" data-line-number="541"></td>
          <td id="file-assignment-11-text-mining-ipynb-LC541" class="blob-code blob-code-inner js-file-line">      <span class="pl-ent">"cell_type"</span>: <span class="pl-s"><span class="pl-pds">"</span>code<span class="pl-pds">"</span></span>,</td>
        </tr>
        <tr>
          <td id="file-assignment-11-text-mining-ipynb-L542" class="blob-num js-line-number js-code-nav-line-number js-blob-rnum" data-line-number="542"></td>
          <td id="file-assignment-11-text-mining-ipynb-LC542" class="blob-code blob-code-inner js-file-line">      <span class="pl-ent">"source"</span>: <span class="pl-s"><span class="pl-pds">"</span>data['Text'] = data['Text'].apply(lambda x: <span class="pl-cce">\"</span> <span class="pl-cce">\"</span>.join([Word(word).lemmatize() for word in x.split()]))<span class="pl-cce">\n</span>data['Text'].head()<span class="pl-pds">"</span></span>,</td>
        </tr>
        <tr>
          <td id="file-assignment-11-text-mining-ipynb-L543" class="blob-num js-line-number js-code-nav-line-number js-blob-rnum" data-line-number="543"></td>
          <td id="file-assignment-11-text-mining-ipynb-LC543" class="blob-code blob-code-inner js-file-line">      <span class="pl-ent">"execution_count"</span>: <span class="pl-c1">27</span>,</td>
        </tr>
        <tr>
          <td id="file-assignment-11-text-mining-ipynb-L544" class="blob-num js-line-number js-code-nav-line-number js-blob-rnum" data-line-number="544"></td>
          <td id="file-assignment-11-text-mining-ipynb-LC544" class="blob-code blob-code-inner js-file-line">      <span class="pl-ent">"outputs"</span>: [</td>
        </tr>
        <tr>
          <td id="file-assignment-11-text-mining-ipynb-L545" class="blob-num js-line-number js-code-nav-line-number js-blob-rnum" data-line-number="545"></td>
          <td id="file-assignment-11-text-mining-ipynb-LC545" class="blob-code blob-code-inner js-file-line">        {</td>
        </tr>
        <tr>
          <td id="file-assignment-11-text-mining-ipynb-L546" class="blob-num js-line-number js-code-nav-line-number js-blob-rnum" data-line-number="546"></td>
          <td id="file-assignment-11-text-mining-ipynb-LC546" class="blob-code blob-code-inner js-file-line">          <span class="pl-ent">"data"</span>: {</td>
        </tr>
        <tr>
          <td id="file-assignment-11-text-mining-ipynb-L547" class="blob-num js-line-number js-code-nav-line-number js-blob-rnum" data-line-number="547"></td>
          <td id="file-assignment-11-text-mining-ipynb-LC547" class="blob-code blob-code-inner js-file-line">            <span class="pl-ent">"text/plain"</span>: <span class="pl-s"><span class="pl-pds">"</span>0                                    kunalb11 im alien<span class="pl-cce">\n</span>1    id_aa_carmack ray tracing cyberpunk hdr nextle...<span class="pl-cce">\n</span>2                           joerogan spotify interview<span class="pl-cce">\n</span>3                          gtera27 doge underestimated<span class="pl-cce">\n</span>4    teslacn congratulation china amazing execution...<span class="pl-cce">\n</span>Name: Text, dtype: object<span class="pl-pds">"</span></span></td>
        </tr>
        <tr>
          <td id="file-assignment-11-text-mining-ipynb-L548" class="blob-num js-line-number js-code-nav-line-number js-blob-rnum" data-line-number="548"></td>
          <td id="file-assignment-11-text-mining-ipynb-LC548" class="blob-code blob-code-inner js-file-line">          },</td>
        </tr>
        <tr>
          <td id="file-assignment-11-text-mining-ipynb-L549" class="blob-num js-line-number js-code-nav-line-number js-blob-rnum" data-line-number="549"></td>
          <td id="file-assignment-11-text-mining-ipynb-LC549" class="blob-code blob-code-inner js-file-line">          <span class="pl-ent">"execution_count"</span>: <span class="pl-c1">27</span>,</td>
        </tr>
        <tr>
          <td id="file-assignment-11-text-mining-ipynb-L550" class="blob-num js-line-number js-code-nav-line-number js-blob-rnum" data-line-number="550"></td>
          <td id="file-assignment-11-text-mining-ipynb-LC550" class="blob-code blob-code-inner js-file-line">          <span class="pl-ent">"metadata"</span>: {},</td>
        </tr>
        <tr>
          <td id="file-assignment-11-text-mining-ipynb-L551" class="blob-num js-line-number js-code-nav-line-number js-blob-rnum" data-line-number="551"></td>
          <td id="file-assignment-11-text-mining-ipynb-LC551" class="blob-code blob-code-inner js-file-line">          <span class="pl-ent">"output_type"</span>: <span class="pl-s"><span class="pl-pds">"</span>execute_result<span class="pl-pds">"</span></span></td>
        </tr>
        <tr>
          <td id="file-assignment-11-text-mining-ipynb-L552" class="blob-num js-line-number js-code-nav-line-number js-blob-rnum" data-line-number="552"></td>
          <td id="file-assignment-11-text-mining-ipynb-LC552" class="blob-code blob-code-inner js-file-line">        }</td>
        </tr>
        <tr>
          <td id="file-assignment-11-text-mining-ipynb-L553" class="blob-num js-line-number js-code-nav-line-number js-blob-rnum" data-line-number="553"></td>
          <td id="file-assignment-11-text-mining-ipynb-LC553" class="blob-code blob-code-inner js-file-line">      ]</td>
        </tr>
        <tr>
          <td id="file-assignment-11-text-mining-ipynb-L554" class="blob-num js-line-number js-code-nav-line-number js-blob-rnum" data-line-number="554"></td>
          <td id="file-assignment-11-text-mining-ipynb-LC554" class="blob-code blob-code-inner js-file-line">    },</td>
        </tr>
        <tr>
          <td id="file-assignment-11-text-mining-ipynb-L555" class="blob-num js-line-number js-code-nav-line-number js-blob-rnum" data-line-number="555"></td>
          <td id="file-assignment-11-text-mining-ipynb-LC555" class="blob-code blob-code-inner js-file-line">    {</td>
        </tr>
        <tr>
          <td id="file-assignment-11-text-mining-ipynb-L556" class="blob-num js-line-number js-code-nav-line-number js-blob-rnum" data-line-number="556"></td>
          <td id="file-assignment-11-text-mining-ipynb-LC556" class="blob-code blob-code-inner js-file-line">      <span class="pl-ent">"metadata"</span>: {},</td>
        </tr>
        <tr>
          <td id="file-assignment-11-text-mining-ipynb-L557" class="blob-num js-line-number js-code-nav-line-number js-blob-rnum" data-line-number="557"></td>
          <td id="file-assignment-11-text-mining-ipynb-LC557" class="blob-code blob-code-inner js-file-line">      <span class="pl-ent">"cell_type"</span>: <span class="pl-s"><span class="pl-pds">"</span>markdown<span class="pl-pds">"</span></span>,</td>
        </tr>
        <tr>
          <td id="file-assignment-11-text-mining-ipynb-L558" class="blob-num js-line-number js-code-nav-line-number js-blob-rnum" data-line-number="558"></td>
          <td id="file-assignment-11-text-mining-ipynb-LC558" class="blob-code blob-code-inner js-file-line">      <span class="pl-ent">"source"</span>: <span class="pl-s"><span class="pl-pds">"</span># 3 Advanced Text Processing<span class="pl-pds">"</span></span></td>
        </tr>
        <tr>
          <td id="file-assignment-11-text-mining-ipynb-L559" class="blob-num js-line-number js-code-nav-line-number js-blob-rnum" data-line-number="559"></td>
          <td id="file-assignment-11-text-mining-ipynb-LC559" class="blob-code blob-code-inner js-file-line">    },</td>
        </tr>
        <tr>
          <td id="file-assignment-11-text-mining-ipynb-L560" class="blob-num js-line-number js-code-nav-line-number js-blob-rnum" data-line-number="560"></td>
          <td id="file-assignment-11-text-mining-ipynb-LC560" class="blob-code blob-code-inner js-file-line">    {</td>
        </tr>
        <tr>
          <td id="file-assignment-11-text-mining-ipynb-L561" class="blob-num js-line-number js-code-nav-line-number js-blob-rnum" data-line-number="561"></td>
          <td id="file-assignment-11-text-mining-ipynb-LC561" class="blob-code blob-code-inner js-file-line">      <span class="pl-ent">"metadata"</span>: {},</td>
        </tr>
        <tr>
          <td id="file-assignment-11-text-mining-ipynb-L562" class="blob-num js-line-number js-code-nav-line-number js-blob-rnum" data-line-number="562"></td>
          <td id="file-assignment-11-text-mining-ipynb-LC562" class="blob-code blob-code-inner js-file-line">      <span class="pl-ent">"cell_type"</span>: <span class="pl-s"><span class="pl-pds">"</span>markdown<span class="pl-pds">"</span></span>,</td>
        </tr>
        <tr>
          <td id="file-assignment-11-text-mining-ipynb-L563" class="blob-num js-line-number js-code-nav-line-number js-blob-rnum" data-line-number="563"></td>
          <td id="file-assignment-11-text-mining-ipynb-LC563" class="blob-code blob-code-inner js-file-line">      <span class="pl-ent">"source"</span>: <span class="pl-s"><span class="pl-pds">"</span>## 3.1 N-grams<span class="pl-pds">"</span></span></td>
        </tr>
        <tr>
          <td id="file-assignment-11-text-mining-ipynb-L564" class="blob-num js-line-number js-code-nav-line-number js-blob-rnum" data-line-number="564"></td>
          <td id="file-assignment-11-text-mining-ipynb-LC564" class="blob-code blob-code-inner js-file-line">    },</td>
        </tr>
        <tr>
          <td id="file-assignment-11-text-mining-ipynb-L565" class="blob-num js-line-number js-code-nav-line-number js-blob-rnum" data-line-number="565"></td>
          <td id="file-assignment-11-text-mining-ipynb-LC565" class="blob-code blob-code-inner js-file-line">    {</td>
        </tr>
        <tr>
          <td id="file-assignment-11-text-mining-ipynb-L566" class="blob-num js-line-number js-code-nav-line-number js-blob-rnum" data-line-number="566"></td>
          <td id="file-assignment-11-text-mining-ipynb-LC566" class="blob-code blob-code-inner js-file-line">      <span class="pl-ent">"metadata"</span>: {</td>
        </tr>
        <tr>
          <td id="file-assignment-11-text-mining-ipynb-L567" class="blob-num js-line-number js-code-nav-line-number js-blob-rnum" data-line-number="567"></td>
          <td id="file-assignment-11-text-mining-ipynb-LC567" class="blob-code blob-code-inner js-file-line">        <span class="pl-ent">"trusted"</span>: <span class="pl-c1">false</span></td>
        </tr>
        <tr>
          <td id="file-assignment-11-text-mining-ipynb-L568" class="blob-num js-line-number js-code-nav-line-number js-blob-rnum" data-line-number="568"></td>
          <td id="file-assignment-11-text-mining-ipynb-LC568" class="blob-code blob-code-inner js-file-line">      },</td>
        </tr>
        <tr>
          <td id="file-assignment-11-text-mining-ipynb-L569" class="blob-num js-line-number js-code-nav-line-number js-blob-rnum" data-line-number="569"></td>
          <td id="file-assignment-11-text-mining-ipynb-LC569" class="blob-code blob-code-inner js-file-line">      <span class="pl-ent">"cell_type"</span>: <span class="pl-s"><span class="pl-pds">"</span>code<span class="pl-pds">"</span></span>,</td>
        </tr>
        <tr>
          <td id="file-assignment-11-text-mining-ipynb-L570" class="blob-num js-line-number js-code-nav-line-number js-blob-rnum" data-line-number="570"></td>
          <td id="file-assignment-11-text-mining-ipynb-LC570" class="blob-code blob-code-inner js-file-line">      <span class="pl-ent">"source"</span>: <span class="pl-s"><span class="pl-pds">"</span>TextBlob(data['Text'][0]).ngrams(2)<span class="pl-pds">"</span></span>,</td>
        </tr>
        <tr>
          <td id="file-assignment-11-text-mining-ipynb-L571" class="blob-num js-line-number js-code-nav-line-number js-blob-rnum" data-line-number="571"></td>
          <td id="file-assignment-11-text-mining-ipynb-LC571" class="blob-code blob-code-inner js-file-line">      <span class="pl-ent">"execution_count"</span>: <span class="pl-c1">28</span>,</td>
        </tr>
        <tr>
          <td id="file-assignment-11-text-mining-ipynb-L572" class="blob-num js-line-number js-code-nav-line-number js-blob-rnum" data-line-number="572"></td>
          <td id="file-assignment-11-text-mining-ipynb-LC572" class="blob-code blob-code-inner js-file-line">      <span class="pl-ent">"outputs"</span>: [</td>
        </tr>
        <tr>
          <td id="file-assignment-11-text-mining-ipynb-L573" class="blob-num js-line-number js-code-nav-line-number js-blob-rnum" data-line-number="573"></td>
          <td id="file-assignment-11-text-mining-ipynb-LC573" class="blob-code blob-code-inner js-file-line">        {</td>
        </tr>
        <tr>
          <td id="file-assignment-11-text-mining-ipynb-L574" class="blob-num js-line-number js-code-nav-line-number js-blob-rnum" data-line-number="574"></td>
          <td id="file-assignment-11-text-mining-ipynb-LC574" class="blob-code blob-code-inner js-file-line">          <span class="pl-ent">"data"</span>: {</td>
        </tr>
        <tr>
          <td id="file-assignment-11-text-mining-ipynb-L575" class="blob-num js-line-number js-code-nav-line-number js-blob-rnum" data-line-number="575"></td>
          <td id="file-assignment-11-text-mining-ipynb-LC575" class="blob-code blob-code-inner js-file-line">            <span class="pl-ent">"text/plain"</span>: <span class="pl-s"><span class="pl-pds">"</span>[WordList(['kunalb11', 'im']), WordList(['im', 'alien'])]<span class="pl-pds">"</span></span></td>
        </tr>
        <tr>
          <td id="file-assignment-11-text-mining-ipynb-L576" class="blob-num js-line-number js-code-nav-line-number js-blob-rnum" data-line-number="576"></td>
          <td id="file-assignment-11-text-mining-ipynb-LC576" class="blob-code blob-code-inner js-file-line">          },</td>
        </tr>
        <tr>
          <td id="file-assignment-11-text-mining-ipynb-L577" class="blob-num js-line-number js-code-nav-line-number js-blob-rnum" data-line-number="577"></td>
          <td id="file-assignment-11-text-mining-ipynb-LC577" class="blob-code blob-code-inner js-file-line">          <span class="pl-ent">"execution_count"</span>: <span class="pl-c1">28</span>,</td>
        </tr>
        <tr>
          <td id="file-assignment-11-text-mining-ipynb-L578" class="blob-num js-line-number js-code-nav-line-number js-blob-rnum" data-line-number="578"></td>
          <td id="file-assignment-11-text-mining-ipynb-LC578" class="blob-code blob-code-inner js-file-line">          <span class="pl-ent">"metadata"</span>: {},</td>
        </tr>
        <tr>
          <td id="file-assignment-11-text-mining-ipynb-L579" class="blob-num js-line-number js-code-nav-line-number js-blob-rnum" data-line-number="579"></td>
          <td id="file-assignment-11-text-mining-ipynb-LC579" class="blob-code blob-code-inner js-file-line">          <span class="pl-ent">"output_type"</span>: <span class="pl-s"><span class="pl-pds">"</span>execute_result<span class="pl-pds">"</span></span></td>
        </tr>
        <tr>
          <td id="file-assignment-11-text-mining-ipynb-L580" class="blob-num js-line-number js-code-nav-line-number js-blob-rnum" data-line-number="580"></td>
          <td id="file-assignment-11-text-mining-ipynb-LC580" class="blob-code blob-code-inner js-file-line">        }</td>
        </tr>
        <tr>
          <td id="file-assignment-11-text-mining-ipynb-L581" class="blob-num js-line-number js-code-nav-line-number js-blob-rnum" data-line-number="581"></td>
          <td id="file-assignment-11-text-mining-ipynb-LC581" class="blob-code blob-code-inner js-file-line">      ]</td>
        </tr>
        <tr>
          <td id="file-assignment-11-text-mining-ipynb-L582" class="blob-num js-line-number js-code-nav-line-number js-blob-rnum" data-line-number="582"></td>
          <td id="file-assignment-11-text-mining-ipynb-LC582" class="blob-code blob-code-inner js-file-line">    },</td>
        </tr>
        <tr>
          <td id="file-assignment-11-text-mining-ipynb-L583" class="blob-num js-line-number js-code-nav-line-number js-blob-rnum" data-line-number="583"></td>
          <td id="file-assignment-11-text-mining-ipynb-LC583" class="blob-code blob-code-inner js-file-line">    {</td>
        </tr>
        <tr>
          <td id="file-assignment-11-text-mining-ipynb-L584" class="blob-num js-line-number js-code-nav-line-number js-blob-rnum" data-line-number="584"></td>
          <td id="file-assignment-11-text-mining-ipynb-LC584" class="blob-code blob-code-inner js-file-line">      <span class="pl-ent">"metadata"</span>: {},</td>
        </tr>
        <tr>
          <td id="file-assignment-11-text-mining-ipynb-L585" class="blob-num js-line-number js-code-nav-line-number js-blob-rnum" data-line-number="585"></td>
          <td id="file-assignment-11-text-mining-ipynb-LC585" class="blob-code blob-code-inner js-file-line">      <span class="pl-ent">"cell_type"</span>: <span class="pl-s"><span class="pl-pds">"</span>markdown<span class="pl-pds">"</span></span>,</td>
        </tr>
        <tr>
          <td id="file-assignment-11-text-mining-ipynb-L586" class="blob-num js-line-number js-code-nav-line-number js-blob-rnum" data-line-number="586"></td>
          <td id="file-assignment-11-text-mining-ipynb-LC586" class="blob-code blob-code-inner js-file-line">      <span class="pl-ent">"source"</span>: <span class="pl-s"><span class="pl-pds">"</span>## 3.2 Term frequency<span class="pl-cce">\n</span>Term frequency is simply the ratio of the count of a word present in a sentence, to the length of the sentence.<span class="pl-cce">\n\n</span>Therefore, we can generalize term frequency as:<span class="pl-cce">\n\n</span>TF = (Number of times term T appears in the particular row) / (number of terms in that row)<span class="pl-pds">"</span></span></td>
        </tr>
        <tr>
          <td id="file-assignment-11-text-mining-ipynb-L587" class="blob-num js-line-number js-code-nav-line-number js-blob-rnum" data-line-number="587"></td>
          <td id="file-assignment-11-text-mining-ipynb-LC587" class="blob-code blob-code-inner js-file-line">    },</td>
        </tr>
        <tr>
          <td id="file-assignment-11-text-mining-ipynb-L588" class="blob-num js-line-number js-code-nav-line-number js-blob-rnum" data-line-number="588"></td>
          <td id="file-assignment-11-text-mining-ipynb-LC588" class="blob-code blob-code-inner js-file-line">    {</td>
        </tr>
        <tr>
          <td id="file-assignment-11-text-mining-ipynb-L589" class="blob-num js-line-number js-code-nav-line-number js-blob-rnum" data-line-number="589"></td>
          <td id="file-assignment-11-text-mining-ipynb-LC589" class="blob-code blob-code-inner js-file-line">      <span class="pl-ent">"metadata"</span>: {</td>
        </tr>
        <tr>
          <td id="file-assignment-11-text-mining-ipynb-L590" class="blob-num js-line-number js-code-nav-line-number js-blob-rnum" data-line-number="590"></td>
          <td id="file-assignment-11-text-mining-ipynb-LC590" class="blob-code blob-code-inner js-file-line">        <span class="pl-ent">"trusted"</span>: <span class="pl-c1">false</span></td>
        </tr>
        <tr>
          <td id="file-assignment-11-text-mining-ipynb-L591" class="blob-num js-line-number js-code-nav-line-number js-blob-rnum" data-line-number="591"></td>
          <td id="file-assignment-11-text-mining-ipynb-LC591" class="blob-code blob-code-inner js-file-line">      },</td>
        </tr>
        <tr>
          <td id="file-assignment-11-text-mining-ipynb-L592" class="blob-num js-line-number js-code-nav-line-number js-blob-rnum" data-line-number="592"></td>
          <td id="file-assignment-11-text-mining-ipynb-LC592" class="blob-code blob-code-inner js-file-line">      <span class="pl-ent">"cell_type"</span>: <span class="pl-s"><span class="pl-pds">"</span>code<span class="pl-pds">"</span></span>,</td>
        </tr>
        <tr>
          <td id="file-assignment-11-text-mining-ipynb-L593" class="blob-num js-line-number js-code-nav-line-number js-blob-rnum" data-line-number="593"></td>
          <td id="file-assignment-11-text-mining-ipynb-LC593" class="blob-code blob-code-inner js-file-line">      <span class="pl-ent">"source"</span>: <span class="pl-s"><span class="pl-pds">"</span>tf1 = (data['Text'][1:2]).apply(lambda x: pd.value_counts(x.split(<span class="pl-cce">\"</span> <span class="pl-cce">\"</span>))).sum(axis = 0).reset_index()<span class="pl-cce">\n</span>tf1.columns = ['words','tf']<span class="pl-cce">\n</span>tf1<span class="pl-pds">"</span></span>,</td>
        </tr>
        <tr>
          <td id="file-assignment-11-text-mining-ipynb-L594" class="blob-num js-line-number js-code-nav-line-number js-blob-rnum" data-line-number="594"></td>
          <td id="file-assignment-11-text-mining-ipynb-LC594" class="blob-code blob-code-inner js-file-line">      <span class="pl-ent">"execution_count"</span>: <span class="pl-c1">29</span>,</td>
        </tr>
        <tr>
          <td id="file-assignment-11-text-mining-ipynb-L595" class="blob-num js-line-number js-code-nav-line-number js-blob-rnum" data-line-number="595"></td>
          <td id="file-assignment-11-text-mining-ipynb-LC595" class="blob-code blob-code-inner js-file-line">      <span class="pl-ent">"outputs"</span>: [</td>
        </tr>
        <tr>
          <td id="file-assignment-11-text-mining-ipynb-L596" class="blob-num js-line-number js-code-nav-line-number js-blob-rnum" data-line-number="596"></td>
          <td id="file-assignment-11-text-mining-ipynb-LC596" class="blob-code blob-code-inner js-file-line">        {</td>
        </tr>
        <tr>
          <td id="file-assignment-11-text-mining-ipynb-L597" class="blob-num js-line-number js-code-nav-line-number js-blob-rnum" data-line-number="597"></td>
          <td id="file-assignment-11-text-mining-ipynb-LC597" class="blob-code blob-code-inner js-file-line">          <span class="pl-ent">"data"</span>: {</td>
        </tr>
        <tr>
          <td id="file-assignment-11-text-mining-ipynb-L598" class="blob-num js-line-number js-code-nav-line-number js-blob-rnum" data-line-number="598"></td>
          <td id="file-assignment-11-text-mining-ipynb-LC598" class="blob-code blob-code-inner js-file-line">            "text/html": "&lt;div&gt;\n&lt;style scoped&gt;\n    .dataframe tbody tr th:only-of-type {\n        vertical-align: middle;\n    }\n\n    .dataframe tbody tr th {\n        vertical-align: top;\n    }\n\n    .dataframe thead th {\n        text-align: right;\n    }\n&lt;/style&gt;\n&lt;table border=\"1\" class=\"dataframe\"&gt;\n  &lt;thead&gt;\n    &lt;tr style=\"text-align: right;\"&gt;\n      &lt;th&gt;&lt;/th&gt;\n      &lt;th&gt;words&lt;/th&gt;\n      &lt;th&gt;tf&lt;/th&gt;\n    &lt;/tr&gt;\n  &lt;/thead&gt;\n  &lt;tbody&gt;\n    &lt;tr&gt;\n      &lt;th&gt;0&lt;/th&gt;\n      &lt;td&gt;ray&lt;/td&gt;\n      &lt;td&gt;1&lt;/td&gt;\n    &lt;/tr&gt;\n    &lt;tr&gt;\n      &lt;th&gt;1&lt;/th&gt;\n      &lt;td&gt;tried&lt;/td&gt;\n      &lt;td&gt;1&lt;/td&gt;\n    &lt;/tr&gt;\n    &lt;tr&gt;\n      &lt;th&gt;2&lt;/th&gt;\n      &lt;td&gt;cyberpunk&lt;/td&gt;\n      &lt;td&gt;1&lt;/td&gt;\n    &lt;/tr&gt;\n    &lt;tr&gt;\n      &lt;th&gt;3&lt;/th&gt;\n      &lt;td&gt;tracing&lt;/td&gt;\n      &lt;td&gt;1&lt;/td&gt;\n    &lt;/tr&gt;\n    &lt;tr&gt;\n      &lt;th&gt;4&lt;/th&gt;\n      &lt;td&gt;nextlevel&lt;/td&gt;\n      &lt;td&gt;1&lt;/td&gt;\n    &lt;/tr&gt;\n    &lt;tr&gt;\n      &lt;th&gt;5&lt;/th&gt;\n      &lt;td&gt;id_aa_carmack&lt;/td&gt;\n      &lt;td&gt;1&lt;/td&gt;\n    &lt;/tr&gt;\n    &lt;tr&gt;\n      &lt;th&gt;6&lt;/th&gt;\n      &lt;td&gt;hdr&lt;/td&gt;\n      &lt;td&gt;1&lt;/td&gt;\n    &lt;/tr&gt;\n  &lt;/tbody&gt;\n&lt;/table&gt;\n&lt;/div&gt;",</td>
        </tr>
        <tr>
          <td id="file-assignment-11-text-mining-ipynb-L599" class="blob-num js-line-number js-code-nav-line-number js-blob-rnum" data-line-number="599"></td>
          <td id="file-assignment-11-text-mining-ipynb-LC599" class="blob-code blob-code-inner js-file-line">            <span class="pl-ent">"text/plain"</span>: <span class="pl-s"><span class="pl-pds">"</span>           words  tf<span class="pl-cce">\n</span>0            ray   1<span class="pl-cce">\n</span>1          tried   1<span class="pl-cce">\n</span>2      cyberpunk   1<span class="pl-cce">\n</span>3        tracing   1<span class="pl-cce">\n</span>4      nextlevel   1<span class="pl-cce">\n</span>5  id_aa_carmack   1<span class="pl-cce">\n</span>6            hdr   1<span class="pl-pds">"</span></span></td>
        </tr>
        <tr>
          <td id="file-assignment-11-text-mining-ipynb-L600" class="blob-num js-line-number js-code-nav-line-number js-blob-rnum" data-line-number="600"></td>
          <td id="file-assignment-11-text-mining-ipynb-LC600" class="blob-code blob-code-inner js-file-line">          },</td>
        </tr>
        <tr>
          <td id="file-assignment-11-text-mining-ipynb-L601" class="blob-num js-line-number js-code-nav-line-number js-blob-rnum" data-line-number="601"></td>
          <td id="file-assignment-11-text-mining-ipynb-LC601" class="blob-code blob-code-inner js-file-line">          <span class="pl-ent">"execution_count"</span>: <span class="pl-c1">29</span>,</td>
        </tr>
        <tr>
          <td id="file-assignment-11-text-mining-ipynb-L602" class="blob-num js-line-number js-code-nav-line-number js-blob-rnum" data-line-number="602"></td>
          <td id="file-assignment-11-text-mining-ipynb-LC602" class="blob-code blob-code-inner js-file-line">          <span class="pl-ent">"metadata"</span>: {},</td>
        </tr>
        <tr>
          <td id="file-assignment-11-text-mining-ipynb-L603" class="blob-num js-line-number js-code-nav-line-number js-blob-rnum" data-line-number="603"></td>
          <td id="file-assignment-11-text-mining-ipynb-LC603" class="blob-code blob-code-inner js-file-line">          <span class="pl-ent">"output_type"</span>: <span class="pl-s"><span class="pl-pds">"</span>execute_result<span class="pl-pds">"</span></span></td>
        </tr>
        <tr>
          <td id="file-assignment-11-text-mining-ipynb-L604" class="blob-num js-line-number js-code-nav-line-number js-blob-rnum" data-line-number="604"></td>
          <td id="file-assignment-11-text-mining-ipynb-LC604" class="blob-code blob-code-inner js-file-line">        }</td>
        </tr>
        <tr>
          <td id="file-assignment-11-text-mining-ipynb-L605" class="blob-num js-line-number js-code-nav-line-number js-blob-rnum" data-line-number="605"></td>
          <td id="file-assignment-11-text-mining-ipynb-LC605" class="blob-code blob-code-inner js-file-line">      ]</td>
        </tr>
        <tr>
          <td id="file-assignment-11-text-mining-ipynb-L606" class="blob-num js-line-number js-code-nav-line-number js-blob-rnum" data-line-number="606"></td>
          <td id="file-assignment-11-text-mining-ipynb-LC606" class="blob-code blob-code-inner js-file-line">    },</td>
        </tr>
        <tr>
          <td id="file-assignment-11-text-mining-ipynb-L607" class="blob-num js-line-number js-code-nav-line-number js-blob-rnum" data-line-number="607"></td>
          <td id="file-assignment-11-text-mining-ipynb-LC607" class="blob-code blob-code-inner js-file-line">    {</td>
        </tr>
        <tr>
          <td id="file-assignment-11-text-mining-ipynb-L608" class="blob-num js-line-number js-code-nav-line-number js-blob-rnum" data-line-number="608"></td>
          <td id="file-assignment-11-text-mining-ipynb-LC608" class="blob-code blob-code-inner js-file-line">      <span class="pl-ent">"metadata"</span>: {},</td>
        </tr>
        <tr>
          <td id="file-assignment-11-text-mining-ipynb-L609" class="blob-num js-line-number js-code-nav-line-number js-blob-rnum" data-line-number="609"></td>
          <td id="file-assignment-11-text-mining-ipynb-LC609" class="blob-code blob-code-inner js-file-line">      <span class="pl-ent">"cell_type"</span>: <span class="pl-s"><span class="pl-pds">"</span>markdown<span class="pl-pds">"</span></span>,</td>
        </tr>
        <tr>
          <td id="file-assignment-11-text-mining-ipynb-L610" class="blob-num js-line-number js-code-nav-line-number js-blob-rnum" data-line-number="610"></td>
          <td id="file-assignment-11-text-mining-ipynb-LC610" class="blob-code blob-code-inner js-file-line">      <span class="pl-ent">"source"</span>: <span class="pl-s"><span class="pl-pds">"</span>## 3.3 Inverse Document Frequency<span class="pl-cce">\n</span>The intuition behind inverse document frequency (IDF) is that a word is not of much use to us if it’s appearing in all the documents.<span class="pl-cce">\n\n</span>Therefore, the IDF of each word is the log of the ratio of the total number of rows to the number of rows in which that word is present.<span class="pl-cce">\n\n</span>IDF = log(N/n), where, N is the total number of rows and n is the number of rows in which the word was present.<span class="pl-pds">"</span></span></td>
        </tr>
        <tr>
          <td id="file-assignment-11-text-mining-ipynb-L611" class="blob-num js-line-number js-code-nav-line-number js-blob-rnum" data-line-number="611"></td>
          <td id="file-assignment-11-text-mining-ipynb-LC611" class="blob-code blob-code-inner js-file-line">    },</td>
        </tr>
        <tr>
          <td id="file-assignment-11-text-mining-ipynb-L612" class="blob-num js-line-number js-code-nav-line-number js-blob-rnum" data-line-number="612"></td>
          <td id="file-assignment-11-text-mining-ipynb-LC612" class="blob-code blob-code-inner js-file-line">    {</td>
        </tr>
        <tr>
          <td id="file-assignment-11-text-mining-ipynb-L613" class="blob-num js-line-number js-code-nav-line-number js-blob-rnum" data-line-number="613"></td>
          <td id="file-assignment-11-text-mining-ipynb-LC613" class="blob-code blob-code-inner js-file-line">      <span class="pl-ent">"metadata"</span>: {</td>
        </tr>
        <tr>
          <td id="file-assignment-11-text-mining-ipynb-L614" class="blob-num js-line-number js-code-nav-line-number js-blob-rnum" data-line-number="614"></td>
          <td id="file-assignment-11-text-mining-ipynb-LC614" class="blob-code blob-code-inner js-file-line">        <span class="pl-ent">"trusted"</span>: <span class="pl-c1">false</span></td>
        </tr>
        <tr>
          <td id="file-assignment-11-text-mining-ipynb-L615" class="blob-num js-line-number js-code-nav-line-number js-blob-rnum" data-line-number="615"></td>
          <td id="file-assignment-11-text-mining-ipynb-LC615" class="blob-code blob-code-inner js-file-line">      },</td>
        </tr>
        <tr>
          <td id="file-assignment-11-text-mining-ipynb-L616" class="blob-num js-line-number js-code-nav-line-number js-blob-rnum" data-line-number="616"></td>
          <td id="file-assignment-11-text-mining-ipynb-LC616" class="blob-code blob-code-inner js-file-line">      <span class="pl-ent">"cell_type"</span>: <span class="pl-s"><span class="pl-pds">"</span>code<span class="pl-pds">"</span></span>,</td>
        </tr>
        <tr>
          <td id="file-assignment-11-text-mining-ipynb-L617" class="blob-num js-line-number js-code-nav-line-number js-blob-rnum" data-line-number="617"></td>
          <td id="file-assignment-11-text-mining-ipynb-LC617" class="blob-code blob-code-inner js-file-line">      <span class="pl-ent">"source"</span>: <span class="pl-s"><span class="pl-pds">"</span>for i,word in enumerate(tf1['words']):<span class="pl-cce">\n</span>  tf1.loc[i, 'idf'] = np.log(data.shape[0]/(len(data[data['Text'].str.contains(word)])))<span class="pl-cce">\n\n</span>tf1<span class="pl-pds">"</span></span>,</td>
        </tr>
        <tr>
          <td id="file-assignment-11-text-mining-ipynb-L618" class="blob-num js-line-number js-code-nav-line-number js-blob-rnum" data-line-number="618"></td>
          <td id="file-assignment-11-text-mining-ipynb-LC618" class="blob-code blob-code-inner js-file-line">      <span class="pl-ent">"execution_count"</span>: <span class="pl-c1">30</span>,</td>
        </tr>
        <tr>
          <td id="file-assignment-11-text-mining-ipynb-L619" class="blob-num js-line-number js-code-nav-line-number js-blob-rnum" data-line-number="619"></td>
          <td id="file-assignment-11-text-mining-ipynb-LC619" class="blob-code blob-code-inner js-file-line">      <span class="pl-ent">"outputs"</span>: [</td>
        </tr>
        <tr>
          <td id="file-assignment-11-text-mining-ipynb-L620" class="blob-num js-line-number js-code-nav-line-number js-blob-rnum" data-line-number="620"></td>
          <td id="file-assignment-11-text-mining-ipynb-LC620" class="blob-code blob-code-inner js-file-line">        {</td>
        </tr>
        <tr>
          <td id="file-assignment-11-text-mining-ipynb-L621" class="blob-num js-line-number js-code-nav-line-number js-blob-rnum" data-line-number="621"></td>
          <td id="file-assignment-11-text-mining-ipynb-LC621" class="blob-code blob-code-inner js-file-line">          <span class="pl-ent">"data"</span>: {</td>
        </tr>
        <tr>
          <td id="file-assignment-11-text-mining-ipynb-L622" class="blob-num js-line-number js-code-nav-line-number js-blob-rnum" data-line-number="622"></td>
          <td id="file-assignment-11-text-mining-ipynb-LC622" class="blob-code blob-code-inner js-file-line">            "text/html": "&lt;div&gt;\n&lt;style scoped&gt;\n    .dataframe tbody tr th:only-of-type {\n        vertical-align: middle;\n    }\n\n    .dataframe tbody tr th {\n        vertical-align: top;\n    }\n\n    .dataframe thead th {\n        text-align: right;\n    }\n&lt;/style&gt;\n&lt;table border=\"1\" class=\"dataframe\"&gt;\n  &lt;thead&gt;\n    &lt;tr style=\"text-align: right;\"&gt;\n      &lt;th&gt;&lt;/th&gt;\n      &lt;th&gt;words&lt;/th&gt;\n      &lt;th&gt;tf&lt;/th&gt;\n      &lt;th&gt;idf&lt;/th&gt;\n    &lt;/tr&gt;\n  &lt;/thead&gt;\n  &lt;tbody&gt;\n    &lt;tr&gt;\n      &lt;th&gt;0&lt;/th&gt;\n      &lt;td&gt;ray&lt;/td&gt;\n      &lt;td&gt;1&lt;/td&gt;\n      &lt;td&gt;5.035453&lt;/td&gt;\n    &lt;/tr&gt;\n    &lt;tr&gt;\n      &lt;th&gt;1&lt;/th&gt;\n      &lt;td&gt;tried&lt;/td&gt;\n      &lt;td&gt;1&lt;/td&gt;\n      &lt;td&gt;5.808643&lt;/td&gt;\n    &lt;/tr&gt;\n    &lt;tr&gt;\n      &lt;th&gt;2&lt;/th&gt;\n      &lt;td&gt;cyberpunk&lt;/td&gt;\n      &lt;td&gt;1&lt;/td&gt;\n      &lt;td&gt;5.115496&lt;/td&gt;\n    &lt;/tr&gt;\n    &lt;tr&gt;\n      &lt;th&gt;3&lt;/th&gt;\n      &lt;td&gt;tracing&lt;/td&gt;\n      &lt;td&gt;1&lt;/td&gt;\n      &lt;td&gt;7.600402&lt;/td&gt;\n    &lt;/tr&gt;\n    &lt;tr&gt;\n      &lt;th&gt;4&lt;/th&gt;\n      &lt;td&gt;nextlevel&lt;/td&gt;\n      &lt;td&gt;1&lt;/td&gt;\n      &lt;td&gt;6.907255&lt;/td&gt;\n    &lt;/tr&gt;\n    &lt;tr&gt;\n      &lt;th&gt;5&lt;/th&gt;\n      &lt;td&gt;id_aa_carmack&lt;/td&gt;\n      &lt;td&gt;1&lt;/td&gt;\n      &lt;td&gt;4.166415&lt;/td&gt;\n    &lt;/tr&gt;\n    &lt;tr&gt;\n      &lt;th&gt;6&lt;/th&gt;\n      &lt;td&gt;hdr&lt;/td&gt;\n      &lt;td&gt;1&lt;/td&gt;\n      &lt;td&gt;6.907255&lt;/td&gt;\n    &lt;/tr&gt;\n  &lt;/tbody&gt;\n&lt;/table&gt;\n&lt;/div&gt;",</td>
        </tr>
        <tr>
          <td id="file-assignment-11-text-mining-ipynb-L623" class="blob-num js-line-number js-code-nav-line-number js-blob-rnum" data-line-number="623"></td>
          <td id="file-assignment-11-text-mining-ipynb-LC623" class="blob-code blob-code-inner js-file-line">            <span class="pl-ent">"text/plain"</span>: <span class="pl-s"><span class="pl-pds">"</span>           words  tf       idf<span class="pl-cce">\n</span>0            ray   1  5.035453<span class="pl-cce">\n</span>1          tried   1  5.808643<span class="pl-cce">\n</span>2      cyberpunk   1  5.115496<span class="pl-cce">\n</span>3        tracing   1  7.600402<span class="pl-cce">\n</span>4      nextlevel   1  6.907255<span class="pl-cce">\n</span>5  id_aa_carmack   1  4.166415<span class="pl-cce">\n</span>6            hdr   1  6.907255<span class="pl-pds">"</span></span></td>
        </tr>
        <tr>
          <td id="file-assignment-11-text-mining-ipynb-L624" class="blob-num js-line-number js-code-nav-line-number js-blob-rnum" data-line-number="624"></td>
          <td id="file-assignment-11-text-mining-ipynb-LC624" class="blob-code blob-code-inner js-file-line">          },</td>
        </tr>
        <tr>
          <td id="file-assignment-11-text-mining-ipynb-L625" class="blob-num js-line-number js-code-nav-line-number js-blob-rnum" data-line-number="625"></td>
          <td id="file-assignment-11-text-mining-ipynb-LC625" class="blob-code blob-code-inner js-file-line">          <span class="pl-ent">"execution_count"</span>: <span class="pl-c1">30</span>,</td>
        </tr>
        <tr>
          <td id="file-assignment-11-text-mining-ipynb-L626" class="blob-num js-line-number js-code-nav-line-number js-blob-rnum" data-line-number="626"></td>
          <td id="file-assignment-11-text-mining-ipynb-LC626" class="blob-code blob-code-inner js-file-line">          <span class="pl-ent">"metadata"</span>: {},</td>
        </tr>
        <tr>
          <td id="file-assignment-11-text-mining-ipynb-L627" class="blob-num js-line-number js-code-nav-line-number js-blob-rnum" data-line-number="627"></td>
          <td id="file-assignment-11-text-mining-ipynb-LC627" class="blob-code blob-code-inner js-file-line">          <span class="pl-ent">"output_type"</span>: <span class="pl-s"><span class="pl-pds">"</span>execute_result<span class="pl-pds">"</span></span></td>
        </tr>
        <tr>
          <td id="file-assignment-11-text-mining-ipynb-L628" class="blob-num js-line-number js-code-nav-line-number js-blob-rnum" data-line-number="628"></td>
          <td id="file-assignment-11-text-mining-ipynb-LC628" class="blob-code blob-code-inner js-file-line">        }</td>
        </tr>
        <tr>
          <td id="file-assignment-11-text-mining-ipynb-L629" class="blob-num js-line-number js-code-nav-line-number js-blob-rnum" data-line-number="629"></td>
          <td id="file-assignment-11-text-mining-ipynb-LC629" class="blob-code blob-code-inner js-file-line">      ]</td>
        </tr>
        <tr>
          <td id="file-assignment-11-text-mining-ipynb-L630" class="blob-num js-line-number js-code-nav-line-number js-blob-rnum" data-line-number="630"></td>
          <td id="file-assignment-11-text-mining-ipynb-LC630" class="blob-code blob-code-inner js-file-line">    },</td>
        </tr>
        <tr>
          <td id="file-assignment-11-text-mining-ipynb-L631" class="blob-num js-line-number js-code-nav-line-number js-blob-rnum" data-line-number="631"></td>
          <td id="file-assignment-11-text-mining-ipynb-LC631" class="blob-code blob-code-inner js-file-line">    {</td>
        </tr>
        <tr>
          <td id="file-assignment-11-text-mining-ipynb-L632" class="blob-num js-line-number js-code-nav-line-number js-blob-rnum" data-line-number="632"></td>
          <td id="file-assignment-11-text-mining-ipynb-LC632" class="blob-code blob-code-inner js-file-line">      <span class="pl-ent">"metadata"</span>: {},</td>
        </tr>
        <tr>
          <td id="file-assignment-11-text-mining-ipynb-L633" class="blob-num js-line-number js-code-nav-line-number js-blob-rnum" data-line-number="633"></td>
          <td id="file-assignment-11-text-mining-ipynb-LC633" class="blob-code blob-code-inner js-file-line">      <span class="pl-ent">"cell_type"</span>: <span class="pl-s"><span class="pl-pds">"</span>markdown<span class="pl-pds">"</span></span>,</td>
        </tr>
        <tr>
          <td id="file-assignment-11-text-mining-ipynb-L634" class="blob-num js-line-number js-code-nav-line-number js-blob-rnum" data-line-number="634"></td>
          <td id="file-assignment-11-text-mining-ipynb-LC634" class="blob-code blob-code-inner js-file-line">      <span class="pl-ent">"source"</span>: <span class="pl-s"><span class="pl-pds">"</span>## 3.4 Term Frequency – Inverse Document Frequency (TF-IDF)<span class="pl-pds">"</span></span></td>
        </tr>
        <tr>
          <td id="file-assignment-11-text-mining-ipynb-L635" class="blob-num js-line-number js-code-nav-line-number js-blob-rnum" data-line-number="635"></td>
          <td id="file-assignment-11-text-mining-ipynb-LC635" class="blob-code blob-code-inner js-file-line">    },</td>
        </tr>
        <tr>
          <td id="file-assignment-11-text-mining-ipynb-L636" class="blob-num js-line-number js-code-nav-line-number js-blob-rnum" data-line-number="636"></td>
          <td id="file-assignment-11-text-mining-ipynb-LC636" class="blob-code blob-code-inner js-file-line">    {</td>
        </tr>
        <tr>
          <td id="file-assignment-11-text-mining-ipynb-L637" class="blob-num js-line-number js-code-nav-line-number js-blob-rnum" data-line-number="637"></td>
          <td id="file-assignment-11-text-mining-ipynb-LC637" class="blob-code blob-code-inner js-file-line">      <span class="pl-ent">"metadata"</span>: {</td>
        </tr>
        <tr>
          <td id="file-assignment-11-text-mining-ipynb-L638" class="blob-num js-line-number js-code-nav-line-number js-blob-rnum" data-line-number="638"></td>
          <td id="file-assignment-11-text-mining-ipynb-LC638" class="blob-code blob-code-inner js-file-line">        <span class="pl-ent">"trusted"</span>: <span class="pl-c1">false</span></td>
        </tr>
        <tr>
          <td id="file-assignment-11-text-mining-ipynb-L639" class="blob-num js-line-number js-code-nav-line-number js-blob-rnum" data-line-number="639"></td>
          <td id="file-assignment-11-text-mining-ipynb-LC639" class="blob-code blob-code-inner js-file-line">      },</td>
        </tr>
        <tr>
          <td id="file-assignment-11-text-mining-ipynb-L640" class="blob-num js-line-number js-code-nav-line-number js-blob-rnum" data-line-number="640"></td>
          <td id="file-assignment-11-text-mining-ipynb-LC640" class="blob-code blob-code-inner js-file-line">      <span class="pl-ent">"cell_type"</span>: <span class="pl-s"><span class="pl-pds">"</span>code<span class="pl-pds">"</span></span>,</td>
        </tr>
        <tr>
          <td id="file-assignment-11-text-mining-ipynb-L641" class="blob-num js-line-number js-code-nav-line-number js-blob-rnum" data-line-number="641"></td>
          <td id="file-assignment-11-text-mining-ipynb-LC641" class="blob-code blob-code-inner js-file-line">      <span class="pl-ent">"source"</span>: <span class="pl-s"><span class="pl-pds">"</span>tf1['tfidf'] = tf1['tf'] * tf1['idf']<span class="pl-cce">\n</span>tf1<span class="pl-pds">"</span></span>,</td>
        </tr>
        <tr>
          <td id="file-assignment-11-text-mining-ipynb-L642" class="blob-num js-line-number js-code-nav-line-number js-blob-rnum" data-line-number="642"></td>
          <td id="file-assignment-11-text-mining-ipynb-LC642" class="blob-code blob-code-inner js-file-line">      <span class="pl-ent">"execution_count"</span>: <span class="pl-c1">31</span>,</td>
        </tr>
        <tr>
          <td id="file-assignment-11-text-mining-ipynb-L643" class="blob-num js-line-number js-code-nav-line-number js-blob-rnum" data-line-number="643"></td>
          <td id="file-assignment-11-text-mining-ipynb-LC643" class="blob-code blob-code-inner js-file-line">      <span class="pl-ent">"outputs"</span>: [</td>
        </tr>
        <tr>
          <td id="file-assignment-11-text-mining-ipynb-L644" class="blob-num js-line-number js-code-nav-line-number js-blob-rnum" data-line-number="644"></td>
          <td id="file-assignment-11-text-mining-ipynb-LC644" class="blob-code blob-code-inner js-file-line">        {</td>
        </tr>
        <tr>
          <td id="file-assignment-11-text-mining-ipynb-L645" class="blob-num js-line-number js-code-nav-line-number js-blob-rnum" data-line-number="645"></td>
          <td id="file-assignment-11-text-mining-ipynb-LC645" class="blob-code blob-code-inner js-file-line">          <span class="pl-ent">"data"</span>: {</td>
        </tr>
        <tr>
          <td id="file-assignment-11-text-mining-ipynb-L646" class="blob-num js-line-number js-code-nav-line-number js-blob-rnum" data-line-number="646"></td>
          <td id="file-assignment-11-text-mining-ipynb-LC646" class="blob-code blob-code-inner js-file-line">            "text/html": "&lt;div&gt;\n&lt;style scoped&gt;\n    .dataframe tbody tr th:only-of-type {\n        vertical-align: middle;\n    }\n\n    .dataframe tbody tr th {\n        vertical-align: top;\n    }\n\n    .dataframe thead th {\n        text-align: right;\n    }\n&lt;/style&gt;\n&lt;table border=\"1\" class=\"dataframe\"&gt;\n  &lt;thead&gt;\n    &lt;tr style=\"text-align: right;\"&gt;\n      &lt;th&gt;&lt;/th&gt;\n      &lt;th&gt;words&lt;/th&gt;\n      &lt;th&gt;tf&lt;/th&gt;\n      &lt;th&gt;idf&lt;/th&gt;\n      &lt;th&gt;tfidf&lt;/th&gt;\n    &lt;/tr&gt;\n  &lt;/thead&gt;\n  &lt;tbody&gt;\n    &lt;tr&gt;\n      &lt;th&gt;0&lt;/th&gt;\n      &lt;td&gt;ray&lt;/td&gt;\n      &lt;td&gt;1&lt;/td&gt;\n      &lt;td&gt;5.035453&lt;/td&gt;\n      &lt;td&gt;5.035453&lt;/td&gt;\n    &lt;/tr&gt;\n    &lt;tr&gt;\n      &lt;th&gt;1&lt;/th&gt;\n      &lt;td&gt;tried&lt;/td&gt;\n      &lt;td&gt;1&lt;/td&gt;\n      &lt;td&gt;5.808643&lt;/td&gt;\n      &lt;td&gt;5.808643&lt;/td&gt;\n    &lt;/tr&gt;\n    &lt;tr&gt;\n      &lt;th&gt;2&lt;/th&gt;\n      &lt;td&gt;cyberpunk&lt;/td&gt;\n      &lt;td&gt;1&lt;/td&gt;\n      &lt;td&gt;5.115496&lt;/td&gt;\n      &lt;td&gt;5.115496&lt;/td&gt;\n    &lt;/tr&gt;\n    &lt;tr&gt;\n      &lt;th&gt;3&lt;/th&gt;\n      &lt;td&gt;tracing&lt;/td&gt;\n      &lt;td&gt;1&lt;/td&gt;\n      &lt;td&gt;7.600402&lt;/td&gt;\n      &lt;td&gt;7.600402&lt;/td&gt;\n    &lt;/tr&gt;\n    &lt;tr&gt;\n      &lt;th&gt;4&lt;/th&gt;\n      &lt;td&gt;nextlevel&lt;/td&gt;\n      &lt;td&gt;1&lt;/td&gt;\n      &lt;td&gt;6.907255&lt;/td&gt;\n      &lt;td&gt;6.907255&lt;/td&gt;\n    &lt;/tr&gt;\n    &lt;tr&gt;\n      &lt;th&gt;5&lt;/th&gt;\n      &lt;td&gt;id_aa_carmack&lt;/td&gt;\n      &lt;td&gt;1&lt;/td&gt;\n      &lt;td&gt;4.166415&lt;/td&gt;\n      &lt;td&gt;4.166415&lt;/td&gt;\n    &lt;/tr&gt;\n    &lt;tr&gt;\n      &lt;th&gt;6&lt;/th&gt;\n      &lt;td&gt;hdr&lt;/td&gt;\n      &lt;td&gt;1&lt;/td&gt;\n      &lt;td&gt;6.907255&lt;/td&gt;\n      &lt;td&gt;6.907255&lt;/td&gt;\n    &lt;/tr&gt;\n  &lt;/tbody&gt;\n&lt;/table&gt;\n&lt;/div&gt;",</td>
        </tr>
        <tr>
          <td id="file-assignment-11-text-mining-ipynb-L647" class="blob-num js-line-number js-code-nav-line-number js-blob-rnum" data-line-number="647"></td>
          <td id="file-assignment-11-text-mining-ipynb-LC647" class="blob-code blob-code-inner js-file-line">            <span class="pl-ent">"text/plain"</span>: <span class="pl-s"><span class="pl-pds">"</span>           words  tf       idf     tfidf<span class="pl-cce">\n</span>0            ray   1  5.035453  5.035453<span class="pl-cce">\n</span>1          tried   1  5.808643  5.808643<span class="pl-cce">\n</span>2      cyberpunk   1  5.115496  5.115496<span class="pl-cce">\n</span>3        tracing   1  7.600402  7.600402<span class="pl-cce">\n</span>4      nextlevel   1  6.907255  6.907255<span class="pl-cce">\n</span>5  id_aa_carmack   1  4.166415  4.166415<span class="pl-cce">\n</span>6            hdr   1  6.907255  6.907255<span class="pl-pds">"</span></span></td>
        </tr>
        <tr>
          <td id="file-assignment-11-text-mining-ipynb-L648" class="blob-num js-line-number js-code-nav-line-number js-blob-rnum" data-line-number="648"></td>
          <td id="file-assignment-11-text-mining-ipynb-LC648" class="blob-code blob-code-inner js-file-line">          },</td>
        </tr>
        <tr>
          <td id="file-assignment-11-text-mining-ipynb-L649" class="blob-num js-line-number js-code-nav-line-number js-blob-rnum" data-line-number="649"></td>
          <td id="file-assignment-11-text-mining-ipynb-LC649" class="blob-code blob-code-inner js-file-line">          <span class="pl-ent">"execution_count"</span>: <span class="pl-c1">31</span>,</td>
        </tr>
        <tr>
          <td id="file-assignment-11-text-mining-ipynb-L650" class="blob-num js-line-number js-code-nav-line-number js-blob-rnum" data-line-number="650"></td>
          <td id="file-assignment-11-text-mining-ipynb-LC650" class="blob-code blob-code-inner js-file-line">          <span class="pl-ent">"metadata"</span>: {},</td>
        </tr>
        <tr>
          <td id="file-assignment-11-text-mining-ipynb-L651" class="blob-num js-line-number js-code-nav-line-number js-blob-rnum" data-line-number="651"></td>
          <td id="file-assignment-11-text-mining-ipynb-LC651" class="blob-code blob-code-inner js-file-line">          <span class="pl-ent">"output_type"</span>: <span class="pl-s"><span class="pl-pds">"</span>execute_result<span class="pl-pds">"</span></span></td>
        </tr>
        <tr>
          <td id="file-assignment-11-text-mining-ipynb-L652" class="blob-num js-line-number js-code-nav-line-number js-blob-rnum" data-line-number="652"></td>
          <td id="file-assignment-11-text-mining-ipynb-LC652" class="blob-code blob-code-inner js-file-line">        }</td>
        </tr>
        <tr>
          <td id="file-assignment-11-text-mining-ipynb-L653" class="blob-num js-line-number js-code-nav-line-number js-blob-rnum" data-line-number="653"></td>
          <td id="file-assignment-11-text-mining-ipynb-LC653" class="blob-code blob-code-inner js-file-line">      ]</td>
        </tr>
        <tr>
          <td id="file-assignment-11-text-mining-ipynb-L654" class="blob-num js-line-number js-code-nav-line-number js-blob-rnum" data-line-number="654"></td>
          <td id="file-assignment-11-text-mining-ipynb-LC654" class="blob-code blob-code-inner js-file-line">    },</td>
        </tr>
        <tr>
          <td id="file-assignment-11-text-mining-ipynb-L655" class="blob-num js-line-number js-code-nav-line-number js-blob-rnum" data-line-number="655"></td>
          <td id="file-assignment-11-text-mining-ipynb-LC655" class="blob-code blob-code-inner js-file-line">    {</td>
        </tr>
        <tr>
          <td id="file-assignment-11-text-mining-ipynb-L656" class="blob-num js-line-number js-code-nav-line-number js-blob-rnum" data-line-number="656"></td>
          <td id="file-assignment-11-text-mining-ipynb-LC656" class="blob-code blob-code-inner js-file-line">      <span class="pl-ent">"metadata"</span>: {</td>
        </tr>
        <tr>
          <td id="file-assignment-11-text-mining-ipynb-L657" class="blob-num js-line-number js-code-nav-line-number js-blob-rnum" data-line-number="657"></td>
          <td id="file-assignment-11-text-mining-ipynb-LC657" class="blob-code blob-code-inner js-file-line">        <span class="pl-ent">"trusted"</span>: <span class="pl-c1">false</span></td>
        </tr>
        <tr>
          <td id="file-assignment-11-text-mining-ipynb-L658" class="blob-num js-line-number js-code-nav-line-number js-blob-rnum" data-line-number="658"></td>
          <td id="file-assignment-11-text-mining-ipynb-LC658" class="blob-code blob-code-inner js-file-line">      },</td>
        </tr>
        <tr>
          <td id="file-assignment-11-text-mining-ipynb-L659" class="blob-num js-line-number js-code-nav-line-number js-blob-rnum" data-line-number="659"></td>
          <td id="file-assignment-11-text-mining-ipynb-LC659" class="blob-code blob-code-inner js-file-line">      <span class="pl-ent">"cell_type"</span>: <span class="pl-s"><span class="pl-pds">"</span>code<span class="pl-pds">"</span></span>,</td>
        </tr>
        <tr>
          <td id="file-assignment-11-text-mining-ipynb-L660" class="blob-num js-line-number js-code-nav-line-number js-blob-rnum" data-line-number="660"></td>
          <td id="file-assignment-11-text-mining-ipynb-LC660" class="blob-code blob-code-inner js-file-line">      <span class="pl-ent">"source"</span>: <span class="pl-s"><span class="pl-pds">"</span>from sklearn.feature_extraction.text import TfidfVectorizer<span class="pl-cce">\n</span>tfidf = TfidfVectorizer(max_features=1000, lowercase=True, analyzer='word',<span class="pl-cce">\n</span> stop_words= 'english',ngram_range=(1,1))<span class="pl-cce">\n</span>vect = tfidf.fit_transform(data['Text'])<span class="pl-cce">\n</span>vect<span class="pl-pds">"</span></span>,</td>
        </tr>
        <tr>
          <td id="file-assignment-11-text-mining-ipynb-L661" class="blob-num js-line-number js-code-nav-line-number js-blob-rnum" data-line-number="661"></td>
          <td id="file-assignment-11-text-mining-ipynb-LC661" class="blob-code blob-code-inner js-file-line">      <span class="pl-ent">"execution_count"</span>: <span class="pl-c1">32</span>,</td>
        </tr>
        <tr>
          <td id="file-assignment-11-text-mining-ipynb-L662" class="blob-num js-line-number js-code-nav-line-number js-blob-rnum" data-line-number="662"></td>
          <td id="file-assignment-11-text-mining-ipynb-LC662" class="blob-code blob-code-inner js-file-line">      <span class="pl-ent">"outputs"</span>: [</td>
        </tr>
        <tr>
          <td id="file-assignment-11-text-mining-ipynb-L663" class="blob-num js-line-number js-code-nav-line-number js-blob-rnum" data-line-number="663"></td>
          <td id="file-assignment-11-text-mining-ipynb-LC663" class="blob-code blob-code-inner js-file-line">        {</td>
        </tr>
        <tr>
          <td id="file-assignment-11-text-mining-ipynb-L664" class="blob-num js-line-number js-code-nav-line-number js-blob-rnum" data-line-number="664"></td>
          <td id="file-assignment-11-text-mining-ipynb-LC664" class="blob-code blob-code-inner js-file-line">          <span class="pl-ent">"data"</span>: {</td>
        </tr>
        <tr>
          <td id="file-assignment-11-text-mining-ipynb-L665" class="blob-num js-line-number js-code-nav-line-number js-blob-rnum" data-line-number="665"></td>
          <td id="file-assignment-11-text-mining-ipynb-LC665" class="blob-code blob-code-inner js-file-line">            <span class="pl-ent">"text/plain"</span>: <span class="pl-s"><span class="pl-pds">"</span>&lt;1999x1000 sparse matrix of type '&lt;class 'numpy.float64'&gt;'<span class="pl-cce">\n\t</span>with 7374 stored elements in Compressed Sparse Row format&gt;<span class="pl-pds">"</span></span></td>
        </tr>
        <tr>
          <td id="file-assignment-11-text-mining-ipynb-L666" class="blob-num js-line-number js-code-nav-line-number js-blob-rnum" data-line-number="666"></td>
          <td id="file-assignment-11-text-mining-ipynb-LC666" class="blob-code blob-code-inner js-file-line">          },</td>
        </tr>
        <tr>
          <td id="file-assignment-11-text-mining-ipynb-L667" class="blob-num js-line-number js-code-nav-line-number js-blob-rnum" data-line-number="667"></td>
          <td id="file-assignment-11-text-mining-ipynb-LC667" class="blob-code blob-code-inner js-file-line">          <span class="pl-ent">"execution_count"</span>: <span class="pl-c1">32</span>,</td>
        </tr>
        <tr>
          <td id="file-assignment-11-text-mining-ipynb-L668" class="blob-num js-line-number js-code-nav-line-number js-blob-rnum" data-line-number="668"></td>
          <td id="file-assignment-11-text-mining-ipynb-LC668" class="blob-code blob-code-inner js-file-line">          <span class="pl-ent">"metadata"</span>: {},</td>
        </tr>
        <tr>
          <td id="file-assignment-11-text-mining-ipynb-L669" class="blob-num js-line-number js-code-nav-line-number js-blob-rnum" data-line-number="669"></td>
          <td id="file-assignment-11-text-mining-ipynb-LC669" class="blob-code blob-code-inner js-file-line">          <span class="pl-ent">"output_type"</span>: <span class="pl-s"><span class="pl-pds">"</span>execute_result<span class="pl-pds">"</span></span></td>
        </tr>
        <tr>
          <td id="file-assignment-11-text-mining-ipynb-L670" class="blob-num js-line-number js-code-nav-line-number js-blob-rnum" data-line-number="670"></td>
          <td id="file-assignment-11-text-mining-ipynb-LC670" class="blob-code blob-code-inner js-file-line">        }</td>
        </tr>
        <tr>
          <td id="file-assignment-11-text-mining-ipynb-L671" class="blob-num js-line-number js-code-nav-line-number js-blob-rnum" data-line-number="671"></td>
          <td id="file-assignment-11-text-mining-ipynb-LC671" class="blob-code blob-code-inner js-file-line">      ]</td>
        </tr>
        <tr>
          <td id="file-assignment-11-text-mining-ipynb-L672" class="blob-num js-line-number js-code-nav-line-number js-blob-rnum" data-line-number="672"></td>
          <td id="file-assignment-11-text-mining-ipynb-LC672" class="blob-code blob-code-inner js-file-line">    },</td>
        </tr>
        <tr>
          <td id="file-assignment-11-text-mining-ipynb-L673" class="blob-num js-line-number js-code-nav-line-number js-blob-rnum" data-line-number="673"></td>
          <td id="file-assignment-11-text-mining-ipynb-LC673" class="blob-code blob-code-inner js-file-line">    {</td>
        </tr>
        <tr>
          <td id="file-assignment-11-text-mining-ipynb-L674" class="blob-num js-line-number js-code-nav-line-number js-blob-rnum" data-line-number="674"></td>
          <td id="file-assignment-11-text-mining-ipynb-LC674" class="blob-code blob-code-inner js-file-line">      <span class="pl-ent">"metadata"</span>: {},</td>
        </tr>
        <tr>
          <td id="file-assignment-11-text-mining-ipynb-L675" class="blob-num js-line-number js-code-nav-line-number js-blob-rnum" data-line-number="675"></td>
          <td id="file-assignment-11-text-mining-ipynb-LC675" class="blob-code blob-code-inner js-file-line">      <span class="pl-ent">"cell_type"</span>: <span class="pl-s"><span class="pl-pds">"</span>markdown<span class="pl-pds">"</span></span>,</td>
        </tr>
        <tr>
          <td id="file-assignment-11-text-mining-ipynb-L676" class="blob-num js-line-number js-code-nav-line-number js-blob-rnum" data-line-number="676"></td>
          <td id="file-assignment-11-text-mining-ipynb-LC676" class="blob-code blob-code-inner js-file-line">      <span class="pl-ent">"source"</span>: <span class="pl-s"><span class="pl-pds">"</span>## 3.5 Bag of Words<span class="pl-pds">"</span></span></td>
        </tr>
        <tr>
          <td id="file-assignment-11-text-mining-ipynb-L677" class="blob-num js-line-number js-code-nav-line-number js-blob-rnum" data-line-number="677"></td>
          <td id="file-assignment-11-text-mining-ipynb-LC677" class="blob-code blob-code-inner js-file-line">    },</td>
        </tr>
        <tr>
          <td id="file-assignment-11-text-mining-ipynb-L678" class="blob-num js-line-number js-code-nav-line-number js-blob-rnum" data-line-number="678"></td>
          <td id="file-assignment-11-text-mining-ipynb-LC678" class="blob-code blob-code-inner js-file-line">    {</td>
        </tr>
        <tr>
          <td id="file-assignment-11-text-mining-ipynb-L679" class="blob-num js-line-number js-code-nav-line-number js-blob-rnum" data-line-number="679"></td>
          <td id="file-assignment-11-text-mining-ipynb-LC679" class="blob-code blob-code-inner js-file-line">      <span class="pl-ent">"metadata"</span>: {</td>
        </tr>
        <tr>
          <td id="file-assignment-11-text-mining-ipynb-L680" class="blob-num js-line-number js-code-nav-line-number js-blob-rnum" data-line-number="680"></td>
          <td id="file-assignment-11-text-mining-ipynb-LC680" class="blob-code blob-code-inner js-file-line">        <span class="pl-ent">"trusted"</span>: <span class="pl-c1">false</span></td>
        </tr>
        <tr>
          <td id="file-assignment-11-text-mining-ipynb-L681" class="blob-num js-line-number js-code-nav-line-number js-blob-rnum" data-line-number="681"></td>
          <td id="file-assignment-11-text-mining-ipynb-LC681" class="blob-code blob-code-inner js-file-line">      },</td>
        </tr>
        <tr>
          <td id="file-assignment-11-text-mining-ipynb-L682" class="blob-num js-line-number js-code-nav-line-number js-blob-rnum" data-line-number="682"></td>
          <td id="file-assignment-11-text-mining-ipynb-LC682" class="blob-code blob-code-inner js-file-line">      <span class="pl-ent">"cell_type"</span>: <span class="pl-s"><span class="pl-pds">"</span>code<span class="pl-pds">"</span></span>,</td>
        </tr>
        <tr>
          <td id="file-assignment-11-text-mining-ipynb-L683" class="blob-num js-line-number js-code-nav-line-number js-blob-rnum" data-line-number="683"></td>
          <td id="file-assignment-11-text-mining-ipynb-LC683" class="blob-code blob-code-inner js-file-line">      <span class="pl-ent">"source"</span>: <span class="pl-s"><span class="pl-pds">"</span>from sklearn.feature_extraction.text import CountVectorizer<span class="pl-cce">\n</span>bow = CountVectorizer(max_features=1000, lowercase=True, ngram_range=(1,1),analyzer = <span class="pl-cce">\"</span>word<span class="pl-cce">\"</span>)<span class="pl-cce">\n</span>data_bow = bow.fit_transform(data['Text'])<span class="pl-cce">\n</span>data_bow<span class="pl-pds">"</span></span>,</td>
        </tr>
        <tr>
          <td id="file-assignment-11-text-mining-ipynb-L684" class="blob-num js-line-number js-code-nav-line-number js-blob-rnum" data-line-number="684"></td>
          <td id="file-assignment-11-text-mining-ipynb-LC684" class="blob-code blob-code-inner js-file-line">      <span class="pl-ent">"execution_count"</span>: <span class="pl-c1">33</span>,</td>
        </tr>
        <tr>
          <td id="file-assignment-11-text-mining-ipynb-L685" class="blob-num js-line-number js-code-nav-line-number js-blob-rnum" data-line-number="685"></td>
          <td id="file-assignment-11-text-mining-ipynb-LC685" class="blob-code blob-code-inner js-file-line">      <span class="pl-ent">"outputs"</span>: [</td>
        </tr>
        <tr>
          <td id="file-assignment-11-text-mining-ipynb-L686" class="blob-num js-line-number js-code-nav-line-number js-blob-rnum" data-line-number="686"></td>
          <td id="file-assignment-11-text-mining-ipynb-LC686" class="blob-code blob-code-inner js-file-line">        {</td>
        </tr>
        <tr>
          <td id="file-assignment-11-text-mining-ipynb-L687" class="blob-num js-line-number js-code-nav-line-number js-blob-rnum" data-line-number="687"></td>
          <td id="file-assignment-11-text-mining-ipynb-LC687" class="blob-code blob-code-inner js-file-line">          <span class="pl-ent">"data"</span>: {</td>
        </tr>
        <tr>
          <td id="file-assignment-11-text-mining-ipynb-L688" class="blob-num js-line-number js-code-nav-line-number js-blob-rnum" data-line-number="688"></td>
          <td id="file-assignment-11-text-mining-ipynb-LC688" class="blob-code blob-code-inner js-file-line">            <span class="pl-ent">"text/plain"</span>: <span class="pl-s"><span class="pl-pds">"</span>&lt;1999x1000 sparse matrix of type '&lt;class 'numpy.int64'&gt;'<span class="pl-cce">\n\t</span>with 8016 stored elements in Compressed Sparse Row format&gt;<span class="pl-pds">"</span></span></td>
        </tr>
        <tr>
          <td id="file-assignment-11-text-mining-ipynb-L689" class="blob-num js-line-number js-code-nav-line-number js-blob-rnum" data-line-number="689"></td>
          <td id="file-assignment-11-text-mining-ipynb-LC689" class="blob-code blob-code-inner js-file-line">          },</td>
        </tr>
        <tr>
          <td id="file-assignment-11-text-mining-ipynb-L690" class="blob-num js-line-number js-code-nav-line-number js-blob-rnum" data-line-number="690"></td>
          <td id="file-assignment-11-text-mining-ipynb-LC690" class="blob-code blob-code-inner js-file-line">          <span class="pl-ent">"execution_count"</span>: <span class="pl-c1">33</span>,</td>
        </tr>
        <tr>
          <td id="file-assignment-11-text-mining-ipynb-L691" class="blob-num js-line-number js-code-nav-line-number js-blob-rnum" data-line-number="691"></td>
          <td id="file-assignment-11-text-mining-ipynb-LC691" class="blob-code blob-code-inner js-file-line">          <span class="pl-ent">"metadata"</span>: {},</td>
        </tr>
        <tr>
          <td id="file-assignment-11-text-mining-ipynb-L692" class="blob-num js-line-number js-code-nav-line-number js-blob-rnum" data-line-number="692"></td>
          <td id="file-assignment-11-text-mining-ipynb-LC692" class="blob-code blob-code-inner js-file-line">          <span class="pl-ent">"output_type"</span>: <span class="pl-s"><span class="pl-pds">"</span>execute_result<span class="pl-pds">"</span></span></td>
        </tr>
        <tr>
          <td id="file-assignment-11-text-mining-ipynb-L693" class="blob-num js-line-number js-code-nav-line-number js-blob-rnum" data-line-number="693"></td>
          <td id="file-assignment-11-text-mining-ipynb-LC693" class="blob-code blob-code-inner js-file-line">        }</td>
        </tr>
        <tr>
          <td id="file-assignment-11-text-mining-ipynb-L694" class="blob-num js-line-number js-code-nav-line-number js-blob-rnum" data-line-number="694"></td>
          <td id="file-assignment-11-text-mining-ipynb-LC694" class="blob-code blob-code-inner js-file-line">      ]</td>
        </tr>
        <tr>
          <td id="file-assignment-11-text-mining-ipynb-L695" class="blob-num js-line-number js-code-nav-line-number js-blob-rnum" data-line-number="695"></td>
          <td id="file-assignment-11-text-mining-ipynb-LC695" class="blob-code blob-code-inner js-file-line">    },</td>
        </tr>
        <tr>
          <td id="file-assignment-11-text-mining-ipynb-L696" class="blob-num js-line-number js-code-nav-line-number js-blob-rnum" data-line-number="696"></td>
          <td id="file-assignment-11-text-mining-ipynb-LC696" class="blob-code blob-code-inner js-file-line">    {</td>
        </tr>
        <tr>
          <td id="file-assignment-11-text-mining-ipynb-L697" class="blob-num js-line-number js-code-nav-line-number js-blob-rnum" data-line-number="697"></td>
          <td id="file-assignment-11-text-mining-ipynb-LC697" class="blob-code blob-code-inner js-file-line">      <span class="pl-ent">"metadata"</span>: {},</td>
        </tr>
        <tr>
          <td id="file-assignment-11-text-mining-ipynb-L698" class="blob-num js-line-number js-code-nav-line-number js-blob-rnum" data-line-number="698"></td>
          <td id="file-assignment-11-text-mining-ipynb-LC698" class="blob-code blob-code-inner js-file-line">      <span class="pl-ent">"cell_type"</span>: <span class="pl-s"><span class="pl-pds">"</span>markdown<span class="pl-pds">"</span></span>,</td>
        </tr>
        <tr>
          <td id="file-assignment-11-text-mining-ipynb-L699" class="blob-num js-line-number js-code-nav-line-number js-blob-rnum" data-line-number="699"></td>
          <td id="file-assignment-11-text-mining-ipynb-LC699" class="blob-code blob-code-inner js-file-line">      <span class="pl-ent">"source"</span>: <span class="pl-s"><span class="pl-pds">"</span>## 3.6 Sentiment Analysis<span class="pl-pds">"</span></span></td>
        </tr>
        <tr>
          <td id="file-assignment-11-text-mining-ipynb-L700" class="blob-num js-line-number js-code-nav-line-number js-blob-rnum" data-line-number="700"></td>
          <td id="file-assignment-11-text-mining-ipynb-LC700" class="blob-code blob-code-inner js-file-line">    },</td>
        </tr>
        <tr>
          <td id="file-assignment-11-text-mining-ipynb-L701" class="blob-num js-line-number js-code-nav-line-number js-blob-rnum" data-line-number="701"></td>
          <td id="file-assignment-11-text-mining-ipynb-LC701" class="blob-code blob-code-inner js-file-line">    {</td>
        </tr>
        <tr>
          <td id="file-assignment-11-text-mining-ipynb-L702" class="blob-num js-line-number js-code-nav-line-number js-blob-rnum" data-line-number="702"></td>
          <td id="file-assignment-11-text-mining-ipynb-LC702" class="blob-code blob-code-inner js-file-line">      <span class="pl-ent">"metadata"</span>: {</td>
        </tr>
        <tr>
          <td id="file-assignment-11-text-mining-ipynb-L703" class="blob-num js-line-number js-code-nav-line-number js-blob-rnum" data-line-number="703"></td>
          <td id="file-assignment-11-text-mining-ipynb-LC703" class="blob-code blob-code-inner js-file-line">        <span class="pl-ent">"trusted"</span>: <span class="pl-c1">false</span></td>
        </tr>
        <tr>
          <td id="file-assignment-11-text-mining-ipynb-L704" class="blob-num js-line-number js-code-nav-line-number js-blob-rnum" data-line-number="704"></td>
          <td id="file-assignment-11-text-mining-ipynb-LC704" class="blob-code blob-code-inner js-file-line">      },</td>
        </tr>
        <tr>
          <td id="file-assignment-11-text-mining-ipynb-L705" class="blob-num js-line-number js-code-nav-line-number js-blob-rnum" data-line-number="705"></td>
          <td id="file-assignment-11-text-mining-ipynb-LC705" class="blob-code blob-code-inner js-file-line">      <span class="pl-ent">"cell_type"</span>: <span class="pl-s"><span class="pl-pds">"</span>code<span class="pl-pds">"</span></span>,</td>
        </tr>
        <tr>
          <td id="file-assignment-11-text-mining-ipynb-L706" class="blob-num js-line-number js-code-nav-line-number js-blob-rnum" data-line-number="706"></td>
          <td id="file-assignment-11-text-mining-ipynb-LC706" class="blob-code blob-code-inner js-file-line">      <span class="pl-ent">"source"</span>: <span class="pl-s"><span class="pl-pds">"</span>data['Text'][:5].apply(lambda x: TextBlob(x).sentiment)<span class="pl-pds">"</span></span>,</td>
        </tr>
        <tr>
          <td id="file-assignment-11-text-mining-ipynb-L707" class="blob-num js-line-number js-code-nav-line-number js-blob-rnum" data-line-number="707"></td>
          <td id="file-assignment-11-text-mining-ipynb-LC707" class="blob-code blob-code-inner js-file-line">      <span class="pl-ent">"execution_count"</span>: <span class="pl-c1">34</span>,</td>
        </tr>
        <tr>
          <td id="file-assignment-11-text-mining-ipynb-L708" class="blob-num js-line-number js-code-nav-line-number js-blob-rnum" data-line-number="708"></td>
          <td id="file-assignment-11-text-mining-ipynb-LC708" class="blob-code blob-code-inner js-file-line">      <span class="pl-ent">"outputs"</span>: [</td>
        </tr>
        <tr>
          <td id="file-assignment-11-text-mining-ipynb-L709" class="blob-num js-line-number js-code-nav-line-number js-blob-rnum" data-line-number="709"></td>
          <td id="file-assignment-11-text-mining-ipynb-LC709" class="blob-code blob-code-inner js-file-line">        {</td>
        </tr>
        <tr>
          <td id="file-assignment-11-text-mining-ipynb-L710" class="blob-num js-line-number js-code-nav-line-number js-blob-rnum" data-line-number="710"></td>
          <td id="file-assignment-11-text-mining-ipynb-LC710" class="blob-code blob-code-inner js-file-line">          <span class="pl-ent">"data"</span>: {</td>
        </tr>
        <tr>
          <td id="file-assignment-11-text-mining-ipynb-L711" class="blob-num js-line-number js-code-nav-line-number js-blob-rnum" data-line-number="711"></td>
          <td id="file-assignment-11-text-mining-ipynb-LC711" class="blob-code blob-code-inner js-file-line">            <span class="pl-ent">"text/plain"</span>: <span class="pl-s"><span class="pl-pds">"</span>0                                 (-0.25, 0.75)<span class="pl-cce">\n</span>1                                    (0.0, 0.0)<span class="pl-cce">\n</span>2                                    (0.0, 0.0)<span class="pl-cce">\n</span>3                                    (0.0, 0.0)<span class="pl-cce">\n</span>4    (0.20000000000000004, 0.32222222222222224)<span class="pl-cce">\n</span>Name: Text, dtype: object<span class="pl-pds">"</span></span></td>
        </tr>
        <tr>
          <td id="file-assignment-11-text-mining-ipynb-L712" class="blob-num js-line-number js-code-nav-line-number js-blob-rnum" data-line-number="712"></td>
          <td id="file-assignment-11-text-mining-ipynb-LC712" class="blob-code blob-code-inner js-file-line">          },</td>
        </tr>
        <tr>
          <td id="file-assignment-11-text-mining-ipynb-L713" class="blob-num js-line-number js-code-nav-line-number js-blob-rnum" data-line-number="713"></td>
          <td id="file-assignment-11-text-mining-ipynb-LC713" class="blob-code blob-code-inner js-file-line">          <span class="pl-ent">"execution_count"</span>: <span class="pl-c1">34</span>,</td>
        </tr>
        <tr>
          <td id="file-assignment-11-text-mining-ipynb-L714" class="blob-num js-line-number js-code-nav-line-number js-blob-rnum" data-line-number="714"></td>
          <td id="file-assignment-11-text-mining-ipynb-LC714" class="blob-code blob-code-inner js-file-line">          <span class="pl-ent">"metadata"</span>: {},</td>
        </tr>
        <tr>
          <td id="file-assignment-11-text-mining-ipynb-L715" class="blob-num js-line-number js-code-nav-line-number js-blob-rnum" data-line-number="715"></td>
          <td id="file-assignment-11-text-mining-ipynb-LC715" class="blob-code blob-code-inner js-file-line">          <span class="pl-ent">"output_type"</span>: <span class="pl-s"><span class="pl-pds">"</span>execute_result<span class="pl-pds">"</span></span></td>
        </tr>
        <tr>
          <td id="file-assignment-11-text-mining-ipynb-L716" class="blob-num js-line-number js-code-nav-line-number js-blob-rnum" data-line-number="716"></td>
          <td id="file-assignment-11-text-mining-ipynb-LC716" class="blob-code blob-code-inner js-file-line">        }</td>
        </tr>
        <tr>
          <td id="file-assignment-11-text-mining-ipynb-L717" class="blob-num js-line-number js-code-nav-line-number js-blob-rnum" data-line-number="717"></td>
          <td id="file-assignment-11-text-mining-ipynb-LC717" class="blob-code blob-code-inner js-file-line">      ]</td>
        </tr>
        <tr>
          <td id="file-assignment-11-text-mining-ipynb-L718" class="blob-num js-line-number js-code-nav-line-number js-blob-rnum" data-line-number="718"></td>
          <td id="file-assignment-11-text-mining-ipynb-LC718" class="blob-code blob-code-inner js-file-line">    },</td>
        </tr>
        <tr>
          <td id="file-assignment-11-text-mining-ipynb-L719" class="blob-num js-line-number js-code-nav-line-number js-blob-rnum" data-line-number="719"></td>
          <td id="file-assignment-11-text-mining-ipynb-LC719" class="blob-code blob-code-inner js-file-line">    {</td>
        </tr>
        <tr>
          <td id="file-assignment-11-text-mining-ipynb-L720" class="blob-num js-line-number js-code-nav-line-number js-blob-rnum" data-line-number="720"></td>
          <td id="file-assignment-11-text-mining-ipynb-LC720" class="blob-code blob-code-inner js-file-line">      <span class="pl-ent">"metadata"</span>: {</td>
        </tr>
        <tr>
          <td id="file-assignment-11-text-mining-ipynb-L721" class="blob-num js-line-number js-code-nav-line-number js-blob-rnum" data-line-number="721"></td>
          <td id="file-assignment-11-text-mining-ipynb-LC721" class="blob-code blob-code-inner js-file-line">        <span class="pl-ent">"trusted"</span>: <span class="pl-c1">false</span></td>
        </tr>
        <tr>
          <td id="file-assignment-11-text-mining-ipynb-L722" class="blob-num js-line-number js-code-nav-line-number js-blob-rnum" data-line-number="722"></td>
          <td id="file-assignment-11-text-mining-ipynb-LC722" class="blob-code blob-code-inner js-file-line">      },</td>
        </tr>
        <tr>
          <td id="file-assignment-11-text-mining-ipynb-L723" class="blob-num js-line-number js-code-nav-line-number js-blob-rnum" data-line-number="723"></td>
          <td id="file-assignment-11-text-mining-ipynb-LC723" class="blob-code blob-code-inner js-file-line">      <span class="pl-ent">"cell_type"</span>: <span class="pl-s"><span class="pl-pds">"</span>code<span class="pl-pds">"</span></span>,</td>
        </tr>
        <tr>
          <td id="file-assignment-11-text-mining-ipynb-L724" class="blob-num js-line-number js-code-nav-line-number js-blob-rnum" data-line-number="724"></td>
          <td id="file-assignment-11-text-mining-ipynb-LC724" class="blob-code blob-code-inner js-file-line">      <span class="pl-ent">"source"</span>: <span class="pl-s"><span class="pl-pds">"</span>data['sentiment'] = data['Text'].apply(lambda x: TextBlob(x).sentiment[0] )<span class="pl-cce">\n</span>data[['Text','sentiment']].head()<span class="pl-pds">"</span></span>,</td>
        </tr>
        <tr>
          <td id="file-assignment-11-text-mining-ipynb-L725" class="blob-num js-line-number js-code-nav-line-number js-blob-rnum" data-line-number="725"></td>
          <td id="file-assignment-11-text-mining-ipynb-LC725" class="blob-code blob-code-inner js-file-line">      <span class="pl-ent">"execution_count"</span>: <span class="pl-c1">35</span>,</td>
        </tr>
        <tr>
          <td id="file-assignment-11-text-mining-ipynb-L726" class="blob-num js-line-number js-code-nav-line-number js-blob-rnum" data-line-number="726"></td>
          <td id="file-assignment-11-text-mining-ipynb-LC726" class="blob-code blob-code-inner js-file-line">      <span class="pl-ent">"outputs"</span>: [</td>
        </tr>
        <tr>
          <td id="file-assignment-11-text-mining-ipynb-L727" class="blob-num js-line-number js-code-nav-line-number js-blob-rnum" data-line-number="727"></td>
          <td id="file-assignment-11-text-mining-ipynb-LC727" class="blob-code blob-code-inner js-file-line">        {</td>
        </tr>
        <tr>
          <td id="file-assignment-11-text-mining-ipynb-L728" class="blob-num js-line-number js-code-nav-line-number js-blob-rnum" data-line-number="728"></td>
          <td id="file-assignment-11-text-mining-ipynb-LC728" class="blob-code blob-code-inner js-file-line">          <span class="pl-ent">"data"</span>: {</td>
        </tr>
        <tr>
          <td id="file-assignment-11-text-mining-ipynb-L729" class="blob-num js-line-number js-code-nav-line-number js-blob-rnum" data-line-number="729"></td>
          <td id="file-assignment-11-text-mining-ipynb-LC729" class="blob-code blob-code-inner js-file-line">            "text/html": "&lt;div&gt;\n&lt;style scoped&gt;\n    .dataframe tbody tr th:only-of-type {\n        vertical-align: middle;\n    }\n\n    .dataframe tbody tr th {\n        vertical-align: top;\n    }\n\n    .dataframe thead th {\n        text-align: right;\n    }\n&lt;/style&gt;\n&lt;table border=\"1\" class=\"dataframe\"&gt;\n  &lt;thead&gt;\n    &lt;tr style=\"text-align: right;\"&gt;\n      &lt;th&gt;&lt;/th&gt;\n      &lt;th&gt;Text&lt;/th&gt;\n      &lt;th&gt;sentiment&lt;/th&gt;\n    &lt;/tr&gt;\n  &lt;/thead&gt;\n  &lt;tbody&gt;\n    &lt;tr&gt;\n      &lt;th&gt;0&lt;/th&gt;\n      &lt;td&gt;kunalb11 im alien&lt;/td&gt;\n      &lt;td&gt;-0.25&lt;/td&gt;\n    &lt;/tr&gt;\n    &lt;tr&gt;\n      &lt;th&gt;1&lt;/th&gt;\n      &lt;td&gt;id_aa_carmack ray tracing cyberpunk hdr nextle...&lt;/td&gt;\n      &lt;td&gt;0.00&lt;/td&gt;\n    &lt;/tr&gt;\n    &lt;tr&gt;\n      &lt;th&gt;2&lt;/th&gt;\n      &lt;td&gt;joerogan spotify interview&lt;/td&gt;\n      &lt;td&gt;0.00&lt;/td&gt;\n    &lt;/tr&gt;\n    &lt;tr&gt;\n      &lt;th&gt;3&lt;/th&gt;\n      &lt;td&gt;gtera27 doge underestimated&lt;/td&gt;\n      &lt;td&gt;0.00&lt;/td&gt;\n    &lt;/tr&gt;\n    &lt;tr&gt;\n      &lt;th&gt;4&lt;/th&gt;\n      &lt;td&gt;teslacn congratulation china amazing execution...&lt;/td&gt;\n      &lt;td&gt;0.20&lt;/td&gt;\n    &lt;/tr&gt;\n  &lt;/tbody&gt;\n&lt;/table&gt;\n&lt;/div&gt;",</td>
        </tr>
        <tr>
          <td id="file-assignment-11-text-mining-ipynb-L730" class="blob-num js-line-number js-code-nav-line-number js-blob-rnum" data-line-number="730"></td>
          <td id="file-assignment-11-text-mining-ipynb-LC730" class="blob-code blob-code-inner js-file-line">            <span class="pl-ent">"text/plain"</span>: <span class="pl-s"><span class="pl-pds">"</span>                                                Text  sentiment<span class="pl-cce">\n</span>0                                  kunalb11 im alien      -0.25<span class="pl-cce">\n</span>1  id_aa_carmack ray tracing cyberpunk hdr nextle...       0.00<span class="pl-cce">\n</span>2                         joerogan spotify interview       0.00<span class="pl-cce">\n</span>3                        gtera27 doge underestimated       0.00<span class="pl-cce">\n</span>4  teslacn congratulation china amazing execution...       0.20<span class="pl-pds">"</span></span></td>
        </tr>
        <tr>
          <td id="file-assignment-11-text-mining-ipynb-L731" class="blob-num js-line-number js-code-nav-line-number js-blob-rnum" data-line-number="731"></td>
          <td id="file-assignment-11-text-mining-ipynb-LC731" class="blob-code blob-code-inner js-file-line">          },</td>
        </tr>
        <tr>
          <td id="file-assignment-11-text-mining-ipynb-L732" class="blob-num js-line-number js-code-nav-line-number js-blob-rnum" data-line-number="732"></td>
          <td id="file-assignment-11-text-mining-ipynb-LC732" class="blob-code blob-code-inner js-file-line">          <span class="pl-ent">"execution_count"</span>: <span class="pl-c1">35</span>,</td>
        </tr>
        <tr>
          <td id="file-assignment-11-text-mining-ipynb-L733" class="blob-num js-line-number js-code-nav-line-number js-blob-rnum" data-line-number="733"></td>
          <td id="file-assignment-11-text-mining-ipynb-LC733" class="blob-code blob-code-inner js-file-line">          <span class="pl-ent">"metadata"</span>: {},</td>
        </tr>
        <tr>
          <td id="file-assignment-11-text-mining-ipynb-L734" class="blob-num js-line-number js-code-nav-line-number js-blob-rnum" data-line-number="734"></td>
          <td id="file-assignment-11-text-mining-ipynb-LC734" class="blob-code blob-code-inner js-file-line">          <span class="pl-ent">"output_type"</span>: <span class="pl-s"><span class="pl-pds">"</span>execute_result<span class="pl-pds">"</span></span></td>
        </tr>
        <tr>
          <td id="file-assignment-11-text-mining-ipynb-L735" class="blob-num js-line-number js-code-nav-line-number js-blob-rnum" data-line-number="735"></td>
          <td id="file-assignment-11-text-mining-ipynb-LC735" class="blob-code blob-code-inner js-file-line">        }</td>
        </tr>
        <tr>
          <td id="file-assignment-11-text-mining-ipynb-L736" class="blob-num js-line-number js-code-nav-line-number js-blob-rnum" data-line-number="736"></td>
          <td id="file-assignment-11-text-mining-ipynb-LC736" class="blob-code blob-code-inner js-file-line">      ]</td>
        </tr>
        <tr>
          <td id="file-assignment-11-text-mining-ipynb-L737" class="blob-num js-line-number js-code-nav-line-number js-blob-rnum" data-line-number="737"></td>
          <td id="file-assignment-11-text-mining-ipynb-LC737" class="blob-code blob-code-inner js-file-line">    },</td>
        </tr>
        <tr>
          <td id="file-assignment-11-text-mining-ipynb-L738" class="blob-num js-line-number js-code-nav-line-number js-blob-rnum" data-line-number="738"></td>
          <td id="file-assignment-11-text-mining-ipynb-LC738" class="blob-code blob-code-inner js-file-line">    {</td>
        </tr>
        <tr>
          <td id="file-assignment-11-text-mining-ipynb-L739" class="blob-num js-line-number js-code-nav-line-number js-blob-rnum" data-line-number="739"></td>
          <td id="file-assignment-11-text-mining-ipynb-LC739" class="blob-code blob-code-inner js-file-line">      <span class="pl-ent">"metadata"</span>: {},</td>
        </tr>
        <tr>
          <td id="file-assignment-11-text-mining-ipynb-L740" class="blob-num js-line-number js-code-nav-line-number js-blob-rnum" data-line-number="740"></td>
          <td id="file-assignment-11-text-mining-ipynb-LC740" class="blob-code blob-code-inner js-file-line">      <span class="pl-ent">"cell_type"</span>: <span class="pl-s"><span class="pl-pds">"</span>markdown<span class="pl-pds">"</span></span>,</td>
        </tr>
        <tr>
          <td id="file-assignment-11-text-mining-ipynb-L741" class="blob-num js-line-number js-code-nav-line-number js-blob-rnum" data-line-number="741"></td>
          <td id="file-assignment-11-text-mining-ipynb-LC741" class="blob-code blob-code-inner js-file-line">      <span class="pl-ent">"source"</span>: <span class="pl-s"><span class="pl-pds">"</span># Perform emotion mining<span class="pl-pds">"</span></span></td>
        </tr>
        <tr>
          <td id="file-assignment-11-text-mining-ipynb-L742" class="blob-num js-line-number js-code-nav-line-number js-blob-rnum" data-line-number="742"></td>
          <td id="file-assignment-11-text-mining-ipynb-LC742" class="blob-code blob-code-inner js-file-line">    },</td>
        </tr>
        <tr>
          <td id="file-assignment-11-text-mining-ipynb-L743" class="blob-num js-line-number js-code-nav-line-number js-blob-rnum" data-line-number="743"></td>
          <td id="file-assignment-11-text-mining-ipynb-LC743" class="blob-code blob-code-inner js-file-line">    {</td>
        </tr>
        <tr>
          <td id="file-assignment-11-text-mining-ipynb-L744" class="blob-num js-line-number js-code-nav-line-number js-blob-rnum" data-line-number="744"></td>
          <td id="file-assignment-11-text-mining-ipynb-LC744" class="blob-code blob-code-inner js-file-line">      <span class="pl-ent">"metadata"</span>: {},</td>
        </tr>
        <tr>
          <td id="file-assignment-11-text-mining-ipynb-L745" class="blob-num js-line-number js-code-nav-line-number js-blob-rnum" data-line-number="745"></td>
          <td id="file-assignment-11-text-mining-ipynb-LC745" class="blob-code blob-code-inner js-file-line">      <span class="pl-ent">"cell_type"</span>: <span class="pl-s"><span class="pl-pds">"</span>markdown<span class="pl-pds">"</span></span>,</td>
        </tr>
        <tr>
          <td id="file-assignment-11-text-mining-ipynb-L746" class="blob-num js-line-number js-code-nav-line-number js-blob-rnum" data-line-number="746"></td>
          <td id="file-assignment-11-text-mining-ipynb-LC746" class="blob-code blob-code-inner js-file-line">      <span class="pl-ent">"source"</span>: <span class="pl-s"><span class="pl-pds">"</span># Read Data<span class="pl-pds">"</span></span></td>
        </tr>
        <tr>
          <td id="file-assignment-11-text-mining-ipynb-L747" class="blob-num js-line-number js-code-nav-line-number js-blob-rnum" data-line-number="747"></td>
          <td id="file-assignment-11-text-mining-ipynb-LC747" class="blob-code blob-code-inner js-file-line">    },</td>
        </tr>
        <tr>
          <td id="file-assignment-11-text-mining-ipynb-L748" class="blob-num js-line-number js-code-nav-line-number js-blob-rnum" data-line-number="748"></td>
          <td id="file-assignment-11-text-mining-ipynb-LC748" class="blob-code blob-code-inner js-file-line">    {</td>
        </tr>
        <tr>
          <td id="file-assignment-11-text-mining-ipynb-L749" class="blob-num js-line-number js-code-nav-line-number js-blob-rnum" data-line-number="749"></td>
          <td id="file-assignment-11-text-mining-ipynb-LC749" class="blob-code blob-code-inner js-file-line">      <span class="pl-ent">"metadata"</span>: {</td>
        </tr>
        <tr>
          <td id="file-assignment-11-text-mining-ipynb-L750" class="blob-num js-line-number js-code-nav-line-number js-blob-rnum" data-line-number="750"></td>
          <td id="file-assignment-11-text-mining-ipynb-LC750" class="blob-code blob-code-inner js-file-line">        <span class="pl-ent">"trusted"</span>: <span class="pl-c1">false</span></td>
        </tr>
        <tr>
          <td id="file-assignment-11-text-mining-ipynb-L751" class="blob-num js-line-number js-code-nav-line-number js-blob-rnum" data-line-number="751"></td>
          <td id="file-assignment-11-text-mining-ipynb-LC751" class="blob-code blob-code-inner js-file-line">      },</td>
        </tr>
        <tr>
          <td id="file-assignment-11-text-mining-ipynb-L752" class="blob-num js-line-number js-code-nav-line-number js-blob-rnum" data-line-number="752"></td>
          <td id="file-assignment-11-text-mining-ipynb-LC752" class="blob-code blob-code-inner js-file-line">      <span class="pl-ent">"cell_type"</span>: <span class="pl-s"><span class="pl-pds">"</span>code<span class="pl-pds">"</span></span>,</td>
        </tr>
        <tr>
          <td id="file-assignment-11-text-mining-ipynb-L753" class="blob-num js-line-number js-code-nav-line-number js-blob-rnum" data-line-number="753"></td>
          <td id="file-assignment-11-text-mining-ipynb-LC753" class="blob-code blob-code-inner js-file-line">      <span class="pl-ent">"source"</span>: <span class="pl-s"><span class="pl-pds">"</span>! pip install future<span class="pl-pds">"</span></span>,</td>
        </tr>
        <tr>
          <td id="file-assignment-11-text-mining-ipynb-L754" class="blob-num js-line-number js-code-nav-line-number js-blob-rnum" data-line-number="754"></td>
          <td id="file-assignment-11-text-mining-ipynb-LC754" class="blob-code blob-code-inner js-file-line">      <span class="pl-ent">"execution_count"</span>: <span class="pl-c1">57</span>,</td>
        </tr>
        <tr>
          <td id="file-assignment-11-text-mining-ipynb-L755" class="blob-num js-line-number js-code-nav-line-number js-blob-rnum" data-line-number="755"></td>
          <td id="file-assignment-11-text-mining-ipynb-LC755" class="blob-code blob-code-inner js-file-line">      <span class="pl-ent">"outputs"</span>: [</td>
        </tr>
        <tr>
          <td id="file-assignment-11-text-mining-ipynb-L756" class="blob-num js-line-number js-code-nav-line-number js-blob-rnum" data-line-number="756"></td>
          <td id="file-assignment-11-text-mining-ipynb-LC756" class="blob-code blob-code-inner js-file-line">        {</td>
        </tr>
        <tr>
          <td id="file-assignment-11-text-mining-ipynb-L757" class="blob-num js-line-number js-code-nav-line-number js-blob-rnum" data-line-number="757"></td>
          <td id="file-assignment-11-text-mining-ipynb-LC757" class="blob-code blob-code-inner js-file-line">          <span class="pl-ent">"name"</span>: <span class="pl-s"><span class="pl-pds">"</span>stdout<span class="pl-pds">"</span></span>,</td>
        </tr>
        <tr>
          <td id="file-assignment-11-text-mining-ipynb-L758" class="blob-num js-line-number js-code-nav-line-number js-blob-rnum" data-line-number="758"></td>
          <td id="file-assignment-11-text-mining-ipynb-LC758" class="blob-code blob-code-inner js-file-line">          <span class="pl-ent">"output_type"</span>: <span class="pl-s"><span class="pl-pds">"</span>stream<span class="pl-pds">"</span></span>,</td>
        </tr>
        <tr>
          <td id="file-assignment-11-text-mining-ipynb-L759" class="blob-num js-line-number js-code-nav-line-number js-blob-rnum" data-line-number="759"></td>
          <td id="file-assignment-11-text-mining-ipynb-LC759" class="blob-code blob-code-inner js-file-line">          <span class="pl-ent">"text"</span>: <span class="pl-s"><span class="pl-pds">"</span>Requirement already satisfied: future in c:<span class="pl-cce">\\</span>programdata<span class="pl-cce">\\</span>anaconda3<span class="pl-cce">\\</span>lib<span class="pl-cce">\\</span>site-packages (0.18.2)<span class="pl-cce">\n</span><span class="pl-pds">"</span></span></td>
        </tr>
        <tr>
          <td id="file-assignment-11-text-mining-ipynb-L760" class="blob-num js-line-number js-code-nav-line-number js-blob-rnum" data-line-number="760"></td>
          <td id="file-assignment-11-text-mining-ipynb-LC760" class="blob-code blob-code-inner js-file-line">        }</td>
        </tr>
        <tr>
          <td id="file-assignment-11-text-mining-ipynb-L761" class="blob-num js-line-number js-code-nav-line-number js-blob-rnum" data-line-number="761"></td>
          <td id="file-assignment-11-text-mining-ipynb-LC761" class="blob-code blob-code-inner js-file-line">      ]</td>
        </tr>
        <tr>
          <td id="file-assignment-11-text-mining-ipynb-L762" class="blob-num js-line-number js-code-nav-line-number js-blob-rnum" data-line-number="762"></td>
          <td id="file-assignment-11-text-mining-ipynb-LC762" class="blob-code blob-code-inner js-file-line">    },</td>
        </tr>
        <tr>
          <td id="file-assignment-11-text-mining-ipynb-L763" class="blob-num js-line-number js-code-nav-line-number js-blob-rnum" data-line-number="763"></td>
          <td id="file-assignment-11-text-mining-ipynb-LC763" class="blob-code blob-code-inner js-file-line">    {</td>
        </tr>
        <tr>
          <td id="file-assignment-11-text-mining-ipynb-L764" class="blob-num js-line-number js-code-nav-line-number js-blob-rnum" data-line-number="764"></td>
          <td id="file-assignment-11-text-mining-ipynb-LC764" class="blob-code blob-code-inner js-file-line">      <span class="pl-ent">"metadata"</span>: {</td>
        </tr>
        <tr>
          <td id="file-assignment-11-text-mining-ipynb-L765" class="blob-num js-line-number js-code-nav-line-number js-blob-rnum" data-line-number="765"></td>
          <td id="file-assignment-11-text-mining-ipynb-LC765" class="blob-code blob-code-inner js-file-line">        <span class="pl-ent">"trusted"</span>: <span class="pl-c1">false</span></td>
        </tr>
        <tr>
          <td id="file-assignment-11-text-mining-ipynb-L766" class="blob-num js-line-number js-code-nav-line-number js-blob-rnum" data-line-number="766"></td>
          <td id="file-assignment-11-text-mining-ipynb-LC766" class="blob-code blob-code-inner js-file-line">      },</td>
        </tr>
        <tr>
          <td id="file-assignment-11-text-mining-ipynb-L767" class="blob-num js-line-number js-code-nav-line-number js-blob-rnum" data-line-number="767"></td>
          <td id="file-assignment-11-text-mining-ipynb-LC767" class="blob-code blob-code-inner js-file-line">      <span class="pl-ent">"cell_type"</span>: <span class="pl-s"><span class="pl-pds">"</span>code<span class="pl-pds">"</span></span>,</td>
        </tr>
        <tr>
          <td id="file-assignment-11-text-mining-ipynb-L768" class="blob-num js-line-number js-code-nav-line-number js-blob-rnum" data-line-number="768"></td>
          <td id="file-assignment-11-text-mining-ipynb-LC768" class="blob-code blob-code-inner js-file-line">      <span class="pl-ent">"source"</span>: <span class="pl-s"><span class="pl-pds">"</span>pip install -U future <span class="pl-pds">"</span></span>,</td>
        </tr>
        <tr>
          <td id="file-assignment-11-text-mining-ipynb-L769" class="blob-num js-line-number js-code-nav-line-number js-blob-rnum" data-line-number="769"></td>
          <td id="file-assignment-11-text-mining-ipynb-LC769" class="blob-code blob-code-inner js-file-line">      <span class="pl-ent">"execution_count"</span>: <span class="pl-c1">59</span>,</td>
        </tr>
        <tr>
          <td id="file-assignment-11-text-mining-ipynb-L770" class="blob-num js-line-number js-code-nav-line-number js-blob-rnum" data-line-number="770"></td>
          <td id="file-assignment-11-text-mining-ipynb-LC770" class="blob-code blob-code-inner js-file-line">      <span class="pl-ent">"outputs"</span>: [</td>
        </tr>
        <tr>
          <td id="file-assignment-11-text-mining-ipynb-L771" class="blob-num js-line-number js-code-nav-line-number js-blob-rnum" data-line-number="771"></td>
          <td id="file-assignment-11-text-mining-ipynb-LC771" class="blob-code blob-code-inner js-file-line">        {</td>
        </tr>
        <tr>
          <td id="file-assignment-11-text-mining-ipynb-L772" class="blob-num js-line-number js-code-nav-line-number js-blob-rnum" data-line-number="772"></td>
          <td id="file-assignment-11-text-mining-ipynb-LC772" class="blob-code blob-code-inner js-file-line">          <span class="pl-ent">"name"</span>: <span class="pl-s"><span class="pl-pds">"</span>stdout<span class="pl-pds">"</span></span>,</td>
        </tr>
        <tr>
          <td id="file-assignment-11-text-mining-ipynb-L773" class="blob-num js-line-number js-code-nav-line-number js-blob-rnum" data-line-number="773"></td>
          <td id="file-assignment-11-text-mining-ipynb-LC773" class="blob-code blob-code-inner js-file-line">          <span class="pl-ent">"output_type"</span>: <span class="pl-s"><span class="pl-pds">"</span>stream<span class="pl-pds">"</span></span>,</td>
        </tr>
        <tr>
          <td id="file-assignment-11-text-mining-ipynb-L774" class="blob-num js-line-number js-code-nav-line-number js-blob-rnum" data-line-number="774"></td>
          <td id="file-assignment-11-text-mining-ipynb-LC774" class="blob-code blob-code-inner js-file-line">          <span class="pl-ent">"text"</span>: <span class="pl-s"><span class="pl-pds">"</span>Requirement already up-to-date: future in c:<span class="pl-cce">\\</span>programdata<span class="pl-cce">\\</span>anaconda3<span class="pl-cce">\\</span>lib<span class="pl-cce">\\</span>site-packages (0.18.2)<span class="pl-cce">\n</span>Note: you may need to restart the kernel to use updated packages.<span class="pl-cce">\n</span><span class="pl-pds">"</span></span></td>
        </tr>
        <tr>
          <td id="file-assignment-11-text-mining-ipynb-L775" class="blob-num js-line-number js-code-nav-line-number js-blob-rnum" data-line-number="775"></td>
          <td id="file-assignment-11-text-mining-ipynb-LC775" class="blob-code blob-code-inner js-file-line">        }</td>
        </tr>
        <tr>
          <td id="file-assignment-11-text-mining-ipynb-L776" class="blob-num js-line-number js-code-nav-line-number js-blob-rnum" data-line-number="776"></td>
          <td id="file-assignment-11-text-mining-ipynb-LC776" class="blob-code blob-code-inner js-file-line">      ]</td>
        </tr>
        <tr>
          <td id="file-assignment-11-text-mining-ipynb-L777" class="blob-num js-line-number js-code-nav-line-number js-blob-rnum" data-line-number="777"></td>
          <td id="file-assignment-11-text-mining-ipynb-LC777" class="blob-code blob-code-inner js-file-line">    },</td>
        </tr>
        <tr>
          <td id="file-assignment-11-text-mining-ipynb-L778" class="blob-num js-line-number js-code-nav-line-number js-blob-rnum" data-line-number="778"></td>
          <td id="file-assignment-11-text-mining-ipynb-LC778" class="blob-code blob-code-inner js-file-line">    {</td>
        </tr>
        <tr>
          <td id="file-assignment-11-text-mining-ipynb-L779" class="blob-num js-line-number js-code-nav-line-number js-blob-rnum" data-line-number="779"></td>
          <td id="file-assignment-11-text-mining-ipynb-LC779" class="blob-code blob-code-inner js-file-line">      <span class="pl-ent">"metadata"</span>: {</td>
        </tr>
        <tr>
          <td id="file-assignment-11-text-mining-ipynb-L780" class="blob-num js-line-number js-code-nav-line-number js-blob-rnum" data-line-number="780"></td>
          <td id="file-assignment-11-text-mining-ipynb-LC780" class="blob-code blob-code-inner js-file-line">        <span class="pl-ent">"trusted"</span>: <span class="pl-c1">false</span></td>
        </tr>
        <tr>
          <td id="file-assignment-11-text-mining-ipynb-L781" class="blob-num js-line-number js-code-nav-line-number js-blob-rnum" data-line-number="781"></td>
          <td id="file-assignment-11-text-mining-ipynb-LC781" class="blob-code blob-code-inner js-file-line">      },</td>
        </tr>
        <tr>
          <td id="file-assignment-11-text-mining-ipynb-L782" class="blob-num js-line-number js-code-nav-line-number js-blob-rnum" data-line-number="782"></td>
          <td id="file-assignment-11-text-mining-ipynb-LC782" class="blob-code blob-code-inner js-file-line">      <span class="pl-ent">"cell_type"</span>: <span class="pl-s"><span class="pl-pds">"</span>code<span class="pl-pds">"</span></span>,</td>
        </tr>
        <tr>
          <td id="file-assignment-11-text-mining-ipynb-L783" class="blob-num js-line-number js-code-nav-line-number js-blob-rnum" data-line-number="783"></td>
          <td id="file-assignment-11-text-mining-ipynb-LC783" class="blob-code blob-code-inner js-file-line">      <span class="pl-ent">"source"</span>: <span class="pl-s"><span class="pl-pds">"</span>import codecs<span class="pl-cce">\n</span>import re<span class="pl-cce">\n</span>import copy<span class="pl-cce">\n</span>import collections<span class="pl-cce">\n</span>import pandas as pd<span class="pl-cce">\n</span>import numpy as np<span class="pl-cce">\n</span>import nltk<span class="pl-cce">\n</span>from nltk.stem import PorterStemmer<span class="pl-cce">\n</span>from nltk.tokenize import WordPunctTokenizer<span class="pl-cce">\n</span>import matplotlib<span class="pl-cce">\n</span>    <span class="pl-cce">\n</span>%matplotlib inline<span class="pl-cce">\n</span><span class="pl-pds">"</span></span>,</td>
        </tr>
        <tr>
          <td id="file-assignment-11-text-mining-ipynb-L784" class="blob-num js-line-number js-code-nav-line-number js-blob-rnum" data-line-number="784"></td>
          <td id="file-assignment-11-text-mining-ipynb-LC784" class="blob-code blob-code-inner js-file-line">      <span class="pl-ent">"execution_count"</span>: <span class="pl-c1">2</span>,</td>
        </tr>
        <tr>
          <td id="file-assignment-11-text-mining-ipynb-L785" class="blob-num js-line-number js-code-nav-line-number js-blob-rnum" data-line-number="785"></td>
          <td id="file-assignment-11-text-mining-ipynb-LC785" class="blob-code blob-code-inner js-file-line">      <span class="pl-ent">"outputs"</span>: []</td>
        </tr>
        <tr>
          <td id="file-assignment-11-text-mining-ipynb-L786" class="blob-num js-line-number js-code-nav-line-number js-blob-rnum" data-line-number="786"></td>
          <td id="file-assignment-11-text-mining-ipynb-LC786" class="blob-code blob-code-inner js-file-line">    },</td>
        </tr>
        <tr>
          <td id="file-assignment-11-text-mining-ipynb-L787" class="blob-num js-line-number js-code-nav-line-number js-blob-rnum" data-line-number="787"></td>
          <td id="file-assignment-11-text-mining-ipynb-LC787" class="blob-code blob-code-inner js-file-line">    {</td>
        </tr>
        <tr>
          <td id="file-assignment-11-text-mining-ipynb-L788" class="blob-num js-line-number js-code-nav-line-number js-blob-rnum" data-line-number="788"></td>
          <td id="file-assignment-11-text-mining-ipynb-LC788" class="blob-code blob-code-inner js-file-line">      <span class="pl-ent">"metadata"</span>: {</td>
        </tr>
        <tr>
          <td id="file-assignment-11-text-mining-ipynb-L789" class="blob-num js-line-number js-code-nav-line-number js-blob-rnum" data-line-number="789"></td>
          <td id="file-assignment-11-text-mining-ipynb-LC789" class="blob-code blob-code-inner js-file-line">        <span class="pl-ent">"trusted"</span>: <span class="pl-c1">false</span></td>
        </tr>
        <tr>
          <td id="file-assignment-11-text-mining-ipynb-L790" class="blob-num js-line-number js-code-nav-line-number js-blob-rnum" data-line-number="790"></td>
          <td id="file-assignment-11-text-mining-ipynb-LC790" class="blob-code blob-code-inner js-file-line">      },</td>
        </tr>
        <tr>
          <td id="file-assignment-11-text-mining-ipynb-L791" class="blob-num js-line-number js-code-nav-line-number js-blob-rnum" data-line-number="791"></td>
          <td id="file-assignment-11-text-mining-ipynb-LC791" class="blob-code blob-code-inner js-file-line">      <span class="pl-ent">"cell_type"</span>: <span class="pl-s"><span class="pl-pds">"</span>code<span class="pl-pds">"</span></span>,</td>
        </tr>
        <tr>
          <td id="file-assignment-11-text-mining-ipynb-L792" class="blob-num js-line-number js-code-nav-line-number js-blob-rnum" data-line-number="792"></td>
          <td id="file-assignment-11-text-mining-ipynb-LC792" class="blob-code blob-code-inner js-file-line">      <span class="pl-ent">"source"</span>: <span class="pl-s"><span class="pl-pds">"</span>from __future__ import division<span class="pl-cce">\n</span>import os<span class="pl-cce">\n</span>from nltk.corpus import twitter_samples<span class="pl-pds">"</span></span>,</td>
        </tr>
        <tr>
          <td id="file-assignment-11-text-mining-ipynb-L793" class="blob-num js-line-number js-code-nav-line-number js-blob-rnum" data-line-number="793"></td>
          <td id="file-assignment-11-text-mining-ipynb-LC793" class="blob-code blob-code-inner js-file-line">      <span class="pl-ent">"execution_count"</span>: <span class="pl-c1">34</span>,</td>
        </tr>
        <tr>
          <td id="file-assignment-11-text-mining-ipynb-L794" class="blob-num js-line-number js-code-nav-line-number js-blob-rnum" data-line-number="794"></td>
          <td id="file-assignment-11-text-mining-ipynb-LC794" class="blob-code blob-code-inner js-file-line">      <span class="pl-ent">"outputs"</span>: []</td>
        </tr>
        <tr>
          <td id="file-assignment-11-text-mining-ipynb-L795" class="blob-num js-line-number js-code-nav-line-number js-blob-rnum" data-line-number="795"></td>
          <td id="file-assignment-11-text-mining-ipynb-LC795" class="blob-code blob-code-inner js-file-line">    },</td>
        </tr>
        <tr>
          <td id="file-assignment-11-text-mining-ipynb-L796" class="blob-num js-line-number js-code-nav-line-number js-blob-rnum" data-line-number="796"></td>
          <td id="file-assignment-11-text-mining-ipynb-LC796" class="blob-code blob-code-inner js-file-line">    {</td>
        </tr>
        <tr>
          <td id="file-assignment-11-text-mining-ipynb-L797" class="blob-num js-line-number js-code-nav-line-number js-blob-rnum" data-line-number="797"></td>
          <td id="file-assignment-11-text-mining-ipynb-LC797" class="blob-code blob-code-inner js-file-line">      <span class="pl-ent">"metadata"</span>: {</td>
        </tr>
        <tr>
          <td id="file-assignment-11-text-mining-ipynb-L798" class="blob-num js-line-number js-code-nav-line-number js-blob-rnum" data-line-number="798"></td>
          <td id="file-assignment-11-text-mining-ipynb-LC798" class="blob-code blob-code-inner js-file-line">        <span class="pl-ent">"trusted"</span>: <span class="pl-c1">false</span></td>
        </tr>
        <tr>
          <td id="file-assignment-11-text-mining-ipynb-L799" class="blob-num js-line-number js-code-nav-line-number js-blob-rnum" data-line-number="799"></td>
          <td id="file-assignment-11-text-mining-ipynb-LC799" class="blob-code blob-code-inner js-file-line">      },</td>
        </tr>
        <tr>
          <td id="file-assignment-11-text-mining-ipynb-L800" class="blob-num js-line-number js-code-nav-line-number js-blob-rnum" data-line-number="800"></td>
          <td id="file-assignment-11-text-mining-ipynb-LC800" class="blob-code blob-code-inner js-file-line">      <span class="pl-ent">"cell_type"</span>: <span class="pl-s"><span class="pl-pds">"</span>code<span class="pl-pds">"</span></span>,</td>
        </tr>
        <tr>
          <td id="file-assignment-11-text-mining-ipynb-L801" class="blob-num js-line-number js-code-nav-line-number js-blob-rnum" data-line-number="801"></td>
          <td id="file-assignment-11-text-mining-ipynb-LC801" class="blob-code blob-code-inner js-file-line">      <span class="pl-ent">"source"</span>: <span class="pl-s"><span class="pl-pds">"</span>nltk.download('stopwords')<span class="pl-pds">"</span></span>,</td>
        </tr>
        <tr>
          <td id="file-assignment-11-text-mining-ipynb-L802" class="blob-num js-line-number js-code-nav-line-number js-blob-rnum" data-line-number="802"></td>
          <td id="file-assignment-11-text-mining-ipynb-LC802" class="blob-code blob-code-inner js-file-line">      <span class="pl-ent">"execution_count"</span>: <span class="pl-c1">4</span>,</td>
        </tr>
        <tr>
          <td id="file-assignment-11-text-mining-ipynb-L803" class="blob-num js-line-number js-code-nav-line-number js-blob-rnum" data-line-number="803"></td>
          <td id="file-assignment-11-text-mining-ipynb-LC803" class="blob-code blob-code-inner js-file-line">      <span class="pl-ent">"outputs"</span>: [</td>
        </tr>
        <tr>
          <td id="file-assignment-11-text-mining-ipynb-L804" class="blob-num js-line-number js-code-nav-line-number js-blob-rnum" data-line-number="804"></td>
          <td id="file-assignment-11-text-mining-ipynb-LC804" class="blob-code blob-code-inner js-file-line">        {</td>
        </tr>
        <tr>
          <td id="file-assignment-11-text-mining-ipynb-L805" class="blob-num js-line-number js-code-nav-line-number js-blob-rnum" data-line-number="805"></td>
          <td id="file-assignment-11-text-mining-ipynb-LC805" class="blob-code blob-code-inner js-file-line">          <span class="pl-ent">"name"</span>: <span class="pl-s"><span class="pl-pds">"</span>stderr<span class="pl-pds">"</span></span>,</td>
        </tr>
        <tr>
          <td id="file-assignment-11-text-mining-ipynb-L806" class="blob-num js-line-number js-code-nav-line-number js-blob-rnum" data-line-number="806"></td>
          <td id="file-assignment-11-text-mining-ipynb-LC806" class="blob-code blob-code-inner js-file-line">          <span class="pl-ent">"output_type"</span>: <span class="pl-s"><span class="pl-pds">"</span>stream<span class="pl-pds">"</span></span>,</td>
        </tr>
        <tr>
          <td id="file-assignment-11-text-mining-ipynb-L807" class="blob-num js-line-number js-code-nav-line-number js-blob-rnum" data-line-number="807"></td>
          <td id="file-assignment-11-text-mining-ipynb-LC807" class="blob-code blob-code-inner js-file-line">          <span class="pl-ent">"text"</span>: <span class="pl-s"><span class="pl-pds">"</span>[nltk_data] Downloading package stopwords to<span class="pl-cce">\n</span>[nltk_data]     C:<span class="pl-cce">\\</span>Users<span class="pl-cce">\\</span>perline.anisha<span class="pl-cce">\\</span>AppData<span class="pl-cce">\\</span>Roaming<span class="pl-cce">\\</span>nltk_data...<span class="pl-cce">\n</span>[nltk_data]   Package stopwords is already up-to-date!<span class="pl-cce">\n</span><span class="pl-pds">"</span></span></td>
        </tr>
        <tr>
          <td id="file-assignment-11-text-mining-ipynb-L808" class="blob-num js-line-number js-code-nav-line-number js-blob-rnum" data-line-number="808"></td>
          <td id="file-assignment-11-text-mining-ipynb-LC808" class="blob-code blob-code-inner js-file-line">        },</td>
        </tr>
        <tr>
          <td id="file-assignment-11-text-mining-ipynb-L809" class="blob-num js-line-number js-code-nav-line-number js-blob-rnum" data-line-number="809"></td>
          <td id="file-assignment-11-text-mining-ipynb-LC809" class="blob-code blob-code-inner js-file-line">        {</td>
        </tr>
        <tr>
          <td id="file-assignment-11-text-mining-ipynb-L810" class="blob-num js-line-number js-code-nav-line-number js-blob-rnum" data-line-number="810"></td>
          <td id="file-assignment-11-text-mining-ipynb-LC810" class="blob-code blob-code-inner js-file-line">          <span class="pl-ent">"data"</span>: {</td>
        </tr>
        <tr>
          <td id="file-assignment-11-text-mining-ipynb-L811" class="blob-num js-line-number js-code-nav-line-number js-blob-rnum" data-line-number="811"></td>
          <td id="file-assignment-11-text-mining-ipynb-LC811" class="blob-code blob-code-inner js-file-line">            <span class="pl-ent">"text/plain"</span>: <span class="pl-s"><span class="pl-pds">"</span>True<span class="pl-pds">"</span></span></td>
        </tr>
        <tr>
          <td id="file-assignment-11-text-mining-ipynb-L812" class="blob-num js-line-number js-code-nav-line-number js-blob-rnum" data-line-number="812"></td>
          <td id="file-assignment-11-text-mining-ipynb-LC812" class="blob-code blob-code-inner js-file-line">          },</td>
        </tr>
        <tr>
          <td id="file-assignment-11-text-mining-ipynb-L813" class="blob-num js-line-number js-code-nav-line-number js-blob-rnum" data-line-number="813"></td>
          <td id="file-assignment-11-text-mining-ipynb-LC813" class="blob-code blob-code-inner js-file-line">          <span class="pl-ent">"execution_count"</span>: <span class="pl-c1">4</span>,</td>
        </tr>
        <tr>
          <td id="file-assignment-11-text-mining-ipynb-L814" class="blob-num js-line-number js-code-nav-line-number js-blob-rnum" data-line-number="814"></td>
          <td id="file-assignment-11-text-mining-ipynb-LC814" class="blob-code blob-code-inner js-file-line">          <span class="pl-ent">"metadata"</span>: {},</td>
        </tr>
        <tr>
          <td id="file-assignment-11-text-mining-ipynb-L815" class="blob-num js-line-number js-code-nav-line-number js-blob-rnum" data-line-number="815"></td>
          <td id="file-assignment-11-text-mining-ipynb-LC815" class="blob-code blob-code-inner js-file-line">          <span class="pl-ent">"output_type"</span>: <span class="pl-s"><span class="pl-pds">"</span>execute_result<span class="pl-pds">"</span></span></td>
        </tr>
        <tr>
          <td id="file-assignment-11-text-mining-ipynb-L816" class="blob-num js-line-number js-code-nav-line-number js-blob-rnum" data-line-number="816"></td>
          <td id="file-assignment-11-text-mining-ipynb-LC816" class="blob-code blob-code-inner js-file-line">        }</td>
        </tr>
        <tr>
          <td id="file-assignment-11-text-mining-ipynb-L817" class="blob-num js-line-number js-code-nav-line-number js-blob-rnum" data-line-number="817"></td>
          <td id="file-assignment-11-text-mining-ipynb-LC817" class="blob-code blob-code-inner js-file-line">      ]</td>
        </tr>
        <tr>
          <td id="file-assignment-11-text-mining-ipynb-L818" class="blob-num js-line-number js-code-nav-line-number js-blob-rnum" data-line-number="818"></td>
          <td id="file-assignment-11-text-mining-ipynb-LC818" class="blob-code blob-code-inner js-file-line">    },</td>
        </tr>
        <tr>
          <td id="file-assignment-11-text-mining-ipynb-L819" class="blob-num js-line-number js-code-nav-line-number js-blob-rnum" data-line-number="819"></td>
          <td id="file-assignment-11-text-mining-ipynb-LC819" class="blob-code blob-code-inner js-file-line">    {</td>
        </tr>
        <tr>
          <td id="file-assignment-11-text-mining-ipynb-L820" class="blob-num js-line-number js-code-nav-line-number js-blob-rnum" data-line-number="820"></td>
          <td id="file-assignment-11-text-mining-ipynb-LC820" class="blob-code blob-code-inner js-file-line">      <span class="pl-ent">"metadata"</span>: {</td>
        </tr>
        <tr>
          <td id="file-assignment-11-text-mining-ipynb-L821" class="blob-num js-line-number js-code-nav-line-number js-blob-rnum" data-line-number="821"></td>
          <td id="file-assignment-11-text-mining-ipynb-LC821" class="blob-code blob-code-inner js-file-line">        <span class="pl-ent">"trusted"</span>: <span class="pl-c1">false</span></td>
        </tr>
        <tr>
          <td id="file-assignment-11-text-mining-ipynb-L822" class="blob-num js-line-number js-code-nav-line-number js-blob-rnum" data-line-number="822"></td>
          <td id="file-assignment-11-text-mining-ipynb-LC822" class="blob-code blob-code-inner js-file-line">      },</td>
        </tr>
        <tr>
          <td id="file-assignment-11-text-mining-ipynb-L823" class="blob-num js-line-number js-code-nav-line-number js-blob-rnum" data-line-number="823"></td>
          <td id="file-assignment-11-text-mining-ipynb-LC823" class="blob-code blob-code-inner js-file-line">      <span class="pl-ent">"cell_type"</span>: <span class="pl-s"><span class="pl-pds">"</span>code<span class="pl-pds">"</span></span>,</td>
        </tr>
        <tr>
          <td id="file-assignment-11-text-mining-ipynb-L824" class="blob-num js-line-number js-code-nav-line-number js-blob-rnum" data-line-number="824"></td>
          <td id="file-assignment-11-text-mining-ipynb-LC824" class="blob-code blob-code-inner js-file-line">      <span class="pl-ent">"source"</span>: <span class="pl-s"><span class="pl-pds">"</span>from nltk.corpus import stopwords<span class="pl-pds">"</span></span>,</td>
        </tr>
        <tr>
          <td id="file-assignment-11-text-mining-ipynb-L825" class="blob-num js-line-number js-code-nav-line-number js-blob-rnum" data-line-number="825"></td>
          <td id="file-assignment-11-text-mining-ipynb-LC825" class="blob-code blob-code-inner js-file-line">      <span class="pl-ent">"execution_count"</span>: <span class="pl-c1">5</span>,</td>
        </tr>
        <tr>
          <td id="file-assignment-11-text-mining-ipynb-L826" class="blob-num js-line-number js-code-nav-line-number js-blob-rnum" data-line-number="826"></td>
          <td id="file-assignment-11-text-mining-ipynb-LC826" class="blob-code blob-code-inner js-file-line">      <span class="pl-ent">"outputs"</span>: []</td>
        </tr>
        <tr>
          <td id="file-assignment-11-text-mining-ipynb-L827" class="blob-num js-line-number js-code-nav-line-number js-blob-rnum" data-line-number="827"></td>
          <td id="file-assignment-11-text-mining-ipynb-LC827" class="blob-code blob-code-inner js-file-line">    },</td>
        </tr>
        <tr>
          <td id="file-assignment-11-text-mining-ipynb-L828" class="blob-num js-line-number js-code-nav-line-number js-blob-rnum" data-line-number="828"></td>
          <td id="file-assignment-11-text-mining-ipynb-LC828" class="blob-code blob-code-inner js-file-line">    {</td>
        </tr>
        <tr>
          <td id="file-assignment-11-text-mining-ipynb-L829" class="blob-num js-line-number js-code-nav-line-number js-blob-rnum" data-line-number="829"></td>
          <td id="file-assignment-11-text-mining-ipynb-LC829" class="blob-code blob-code-inner js-file-line">      <span class="pl-ent">"metadata"</span>: {</td>
        </tr>
        <tr>
          <td id="file-assignment-11-text-mining-ipynb-L830" class="blob-num js-line-number js-code-nav-line-number js-blob-rnum" data-line-number="830"></td>
          <td id="file-assignment-11-text-mining-ipynb-LC830" class="blob-code blob-code-inner js-file-line">        <span class="pl-ent">"trusted"</span>: <span class="pl-c1">false</span></td>
        </tr>
        <tr>
          <td id="file-assignment-11-text-mining-ipynb-L831" class="blob-num js-line-number js-code-nav-line-number js-blob-rnum" data-line-number="831"></td>
          <td id="file-assignment-11-text-mining-ipynb-LC831" class="blob-code blob-code-inner js-file-line">      },</td>
        </tr>
        <tr>
          <td id="file-assignment-11-text-mining-ipynb-L832" class="blob-num js-line-number js-code-nav-line-number js-blob-rnum" data-line-number="832"></td>
          <td id="file-assignment-11-text-mining-ipynb-LC832" class="blob-code blob-code-inner js-file-line">      <span class="pl-ent">"cell_type"</span>: <span class="pl-s"><span class="pl-pds">"</span>code<span class="pl-pds">"</span></span>,</td>
        </tr>
        <tr>
          <td id="file-assignment-11-text-mining-ipynb-L833" class="blob-num js-line-number js-code-nav-line-number js-blob-rnum" data-line-number="833"></td>
          <td id="file-assignment-11-text-mining-ipynb-LC833" class="blob-code blob-code-inner js-file-line">      <span class="pl-ent">"source"</span>: <span class="pl-s"><span class="pl-pds">"</span>with codecs.open(<span class="pl-cce">\"</span>positive-words (1).txt<span class="pl-cce">\"</span>, <span class="pl-cce">\"</span>r<span class="pl-cce">\"</span>, encoding=<span class="pl-cce">\"</span>utf-8<span class="pl-cce">\"</span>) as p:<span class="pl-cce">\n</span>    pos = p.read()<span class="pl-cce">\n</span>    print(pos)<span class="pl-pds">"</span></span>,</td>
        </tr>
        <tr>
          <td id="file-assignment-11-text-mining-ipynb-L834" class="blob-num js-line-number js-code-nav-line-number js-blob-rnum" data-line-number="834"></td>
          <td id="file-assignment-11-text-mining-ipynb-LC834" class="blob-code blob-code-inner js-file-line">      <span class="pl-ent">"execution_count"</span>: <span class="pl-c1">35</span>,</td>
        </tr>
        <tr>
          <td id="file-assignment-11-text-mining-ipynb-L835" class="blob-num js-line-number js-code-nav-line-number js-blob-rnum" data-line-number="835"></td>
          <td id="file-assignment-11-text-mining-ipynb-LC835" class="blob-code blob-code-inner js-file-line">      <span class="pl-ent">"outputs"</span>: [</td>
        </tr>
        <tr>
          <td id="file-assignment-11-text-mining-ipynb-L836" class="blob-num js-line-number js-code-nav-line-number js-blob-rnum" data-line-number="836"></td>
          <td id="file-assignment-11-text-mining-ipynb-LC836" class="blob-code blob-code-inner js-file-line">        {</td>
        </tr>
        <tr>
          <td id="file-assignment-11-text-mining-ipynb-L837" class="blob-num js-line-number js-code-nav-line-number js-blob-rnum" data-line-number="837"></td>
          <td id="file-assignment-11-text-mining-ipynb-LC837" class="blob-code blob-code-inner js-file-line">          <span class="pl-ent">"name"</span>: <span class="pl-s"><span class="pl-pds">"</span>stdout<span class="pl-pds">"</span></span>,</td>
        </tr>
        <tr>
          <td id="file-assignment-11-text-mining-ipynb-L838" class="blob-num js-line-number js-code-nav-line-number js-blob-rnum" data-line-number="838"></td>
          <td id="file-assignment-11-text-mining-ipynb-LC838" class="blob-code blob-code-inner js-file-line">          <span class="pl-ent">"output_type"</span>: <span class="pl-s"><span class="pl-pds">"</span>stream<span class="pl-pds">"</span></span>,</td>
        </tr>
        <tr>
          <td id="file-assignment-11-text-mining-ipynb-L839" class="blob-num js-line-number js-code-nav-line-number js-blob-rnum" data-line-number="839"></td>
          <td id="file-assignment-11-text-mining-ipynb-LC839" class="blob-code blob-code-inner js-file-line">          "text": ";;;;;;;;;;;;;;;;;;;;;;;;;;;;;;;;;;;;;;;;;;;;;;;;;;;;;;;;;;;;;;;;;;;;;;;;;;;;\n; \n; Opinion Lexicon: Positive\n;\n; This file contains a list of POSITIVE opinion words (or sentiment words).\n;\n; This file and the papers can all be downloaded from \n;    http://www.cs.uic.edu/~liub/FBS/sentiment-analysis.html\n;\n; If you use this list, please cite one of the following two papers:\n;\n;   Minqing Hu and Bing Liu. \"Mining and Summarizing Customer Reviews.\" \n;       Proceedings of the ACM SIGKDD International Conference on Knowledge \n;       Discovery and Data Mining (KDD-2004), Aug 22-25, 2004, Seattle, \n;       Washington, USA, \n;   Bing Liu, Minqing Hu and Junsheng Cheng. \"Opinion Observer: Analyzing \n;       and Comparing Opinions on the Web.\" Proceedings of the 14th \n;       International World Wide Web conference (WWW-2005), May 10-14, \n;       2005, Chiba, Japan.\n;\n; Notes: \n;    1. The appearance of an opinion word in a sentence does not necessarily  \n;       mean that the sentence expresses a positive or negative opinion. \n;       See the paper below:\n;\n;       Bing Liu. \"Sentiment Analysis and Subjectivity.\" An chapter in \n;          Handbook of Natural Language Processing, Second Edition, \n;          (editors: N. Indurkhya and F. J. Damerau), 2010.\n;\n;    2. You will notice many misspelled words in the list. They are not \n;       mistakes. They are included as these misspelled words appear \n;       frequently in social media content. \n;\n;;;;;;;;;;;;;;;;;;;;;;;;;;;;;;;;;;;;;;;;;;;;;;;;;;;;;;;;;;;;;;;;;;;;;;;;;;;;\n\na+\nabound\nabounds\nabundance\nabundant\naccessable\naccessible\nacclaim\nacclaimed\nacclamation\naccolade\naccolades\naccommodative\naccomodative\naccomplish\naccomplished\naccomplishment\naccomplishments\naccurate\naccurately\nachievable\nachievement\nachievements\nachievible\nacumen\nadaptable\nadaptive\nadequate\nadjustable\nadmirable\nadmirably\nadmiration\nadmire\nadmirer\nadmiring\nadmiringly\nadorable\nadore\nadored\nadorer\nadoring\nadoringly\nadroit\nadroitly\nadulate\nadulation\nadulatory\nadvanced\nadvantage\nadvantageous\nadvantageously\nadvantages\nadventuresome\nadventurous\nadvocate\nadvocated\nadvocates\naffability\naffable\naffably\naffectation\naffection\naffectionate\naffinity\naffirm\naffirmation\naffirmative\naffluence\naffluent\nafford\naffordable\naffordably\nafordable\nagile\nagilely\nagility\nagreeable\nagreeableness\nagreeably\nall-around\nalluring\nalluringly\naltruistic\naltruistically\namaze\namazed\namazement\namazes\namazing\namazingly\nambitious\nambitiously\nameliorate\namenable\namenity\namiability\namiabily\namiable\namicability\namicable\namicably\namity\nample\namply\namuse\namusing\namusingly\nangel\nangelic\napotheosis\nappeal\nappealing\napplaud\nappreciable\nappreciate\nappreciated\nappreciates\nappreciative\nappreciatively\nappropriate\napproval\napprove\nardent\nardently\nardor\narticulate\naspiration\naspirations\naspire\nassurance\nassurances\nassure\nassuredly\nassuring\nastonish\nastonished\nastonishing\nastonishingly\nastonishment\nastound\nastounded\nastounding\nastoundingly\nastutely\nattentive\nattraction\nattractive\nattractively\nattune\naudible\naudibly\nauspicious\nauthentic\nauthoritative\nautonomous\navailable\naver\navid\navidly\naward\nawarded\nawards\nawe\nawed\nawesome\nawesomely\nawesomeness\nawestruck\nawsome\nbackbone\nbalanced\nbargain\nbeauteous\nbeautiful\nbeautifullly\nbeautifully\nbeautify\nbeauty\nbeckon\nbeckoned\nbeckoning\nbeckons\nbelievable\nbelieveable\nbeloved\nbenefactor\nbeneficent\nbeneficial\nbeneficially\nbeneficiary\nbenefit\nbenefits\nbenevolence\nbenevolent\nbenifits\nbest\nbest-known\nbest-performing\nbest-selling\nbetter\nbetter-known\nbetter-than-expected\nbeutifully\nblameless\nbless\nblessing\nbliss\nblissful\nblissfully\nblithe\nblockbuster\nbloom\nblossom\nbolster\nbonny\nbonus\nbonuses\nboom\nbooming\nboost\nboundless\nbountiful\nbrainiest\nbrainy\nbrand-new\nbrave\nbravery\nbravo\nbreakthrough\nbreakthroughs\nbreathlessness\nbreathtaking\nbreathtakingly\nbreeze\nbright\nbrighten\nbrighter\nbrightest\nbrilliance\nbrilliances\nbrilliant\nbrilliantly\nbrisk\nbrotherly\nbullish\nbuoyant\ncajole\ncalm\ncalming\ncalmness\ncapability\ncapable\ncapably\ncaptivate\ncaptivating\ncarefree\ncashback\ncashbacks\ncatchy\ncelebrate\ncelebrated\ncelebration\ncelebratory\nchamp\nchampion\ncharisma\ncharismatic\ncharitable\ncharm\ncharming\ncharmingly\nchaste\ncheaper\ncheapest\ncheer\ncheerful\ncheery\ncherish\ncherished\ncherub\nchic\nchivalrous\nchivalry\ncivility\ncivilize\nclarity\nclassic\nclassy\nclean\ncleaner\ncleanest\ncleanliness\ncleanly\nclear\nclear-cut\ncleared\nclearer\nclearly\nclears\nclever\ncleverly\ncohere\ncoherence\ncoherent\ncohesive\ncolorful\ncomely\ncomfort\ncomfortable\ncomfortably\ncomforting\ncomfy\ncommend\ncommendable\ncommendably\ncommitment\ncommodious\ncompact\ncompactly\ncompassion\ncompassionate\ncompatible\ncompetitive\ncomplement\ncomplementary\ncomplemented\ncomplements\ncompliant\ncompliment\ncomplimentary\ncomprehensive\nconciliate\nconciliatory\nconcise\nconfidence\nconfident\ncongenial\ncongratulate\ncongratulation\ncongratulations\ncongratulatory\nconscientious\nconsiderate\nconsistent\nconsistently\nconstructive\nconsummate\ncontentment\ncontinuity\ncontrasty\ncontribution\nconvenience\nconvenient\nconveniently\nconvience\nconvienient\nconvient\nconvincing\nconvincingly\ncool\ncoolest\ncooperative\ncooperatively\ncornerstone\ncorrect\ncorrectly\ncost-effective\ncost-saving\ncounter-attack\ncounter-attacks\ncourage\ncourageous\ncourageously\ncourageousness\ncourteous\ncourtly\ncovenant\ncozy\ncreative\ncredence\ncredible\ncrisp\ncrisper\ncure\ncure-all\ncushy\ncute\ncuteness\ndanke\ndanken\ndaring\ndaringly\ndarling\ndashing\ndauntless\ndawn\ndazzle\ndazzled\ndazzling\ndead-cheap\ndead-on\ndecency\ndecent\ndecisive\ndecisiveness\ndedicated\ndefeat\ndefeated\ndefeating\ndefeats\ndefender\ndeference\ndeft\ndeginified\ndelectable\ndelicacy\ndelicate\ndelicious\ndelight\ndelighted\ndelightful\ndelightfully\ndelightfulness\ndependable\ndependably\ndeservedly\ndeserving\ndesirable\ndesiring\ndesirous\ndestiny\ndetachable\ndevout\ndexterous\ndexterously\ndextrous\ndignified\ndignify\ndignity\ndiligence\ndiligent\ndiligently\ndiplomatic\ndirt-cheap\ndistinction\ndistinctive\ndistinguished\ndiversified\ndivine\ndivinely\ndominate\ndominated\ndominates\ndote\ndotingly\ndoubtless\ndreamland\ndumbfounded\ndumbfounding\ndummy-proof\ndurable\ndynamic\neager\neagerly\neagerness\nearnest\nearnestly\nearnestness\nease\neased\neases\neasier\neasiest\neasiness\neasing\neasy\neasy-to-use\neasygoing\nebullience\nebullient\nebulliently\necenomical\neconomical\necstasies\necstasy\necstatic\necstatically\nedify\neducated\neffective\neffectively\neffectiveness\neffectual\nefficacious\nefficient\nefficiently\neffortless\neffortlessly\neffusion\neffusive\neffusively\neffusiveness\nelan\nelate\nelated\nelatedly\nelation\nelectrify\nelegance\nelegant\nelegantly\nelevate\nelite\neloquence\neloquent\neloquently\nembolden\neminence\neminent\nempathize\nempathy\nempower\nempowerment\nenchant\nenchanted\nenchanting\nenchantingly\nencourage\nencouragement\nencouraging\nencouragingly\nendear\nendearing\nendorse\nendorsed\nendorsement\nendorses\nendorsing\nenergetic\nenergize\nenergy-efficient\nenergy-saving\nengaging\nengrossing\nenhance\nenhanced\nenhancement\nenhances\nenjoy\nenjoyable\nenjoyably\nenjoyed\nenjoying\nenjoyment\nenjoys\nenlighten\nenlightenment\nenliven\nennoble\nenough\nenrapt\nenrapture\nenraptured\nenrich\nenrichment\nenterprising\nentertain\nentertaining\nentertains\nenthral\nenthrall\nenthralled\nenthuse\nenthusiasm\nenthusiast\nenthusiastic\nenthusiastically\nentice\nenticed\nenticing\nenticingly\nentranced\nentrancing\nentrust\nenviable\nenviably\nenvious\nenviously\nenviousness\nenvy\nequitable\nergonomical\nerr-free\nerudite\nethical\neulogize\neuphoria\neuphoric\neuphorically\nevaluative\nevenly\neventful\neverlasting\nevocative\nexalt\nexaltation\nexalted\nexaltedly\nexalting\nexaltingly\nexamplar\nexamplary\nexcallent\nexceed\nexceeded\nexceeding\nexceedingly\nexceeds\nexcel\nexceled\nexcelent\nexcellant\nexcelled\nexcellence\nexcellency\nexcellent\nexcellently\nexcels\nexceptional\nexceptionally\nexcite\nexcited\nexcitedly\nexcitedness\nexcitement\nexcites\nexciting\nexcitingly\nexellent\nexemplar\nexemplary\nexhilarate\nexhilarating\nexhilaratingly\nexhilaration\nexonerate\nexpansive\nexpeditiously\nexpertly\nexquisite\nexquisitely\nextol\nextoll\nextraordinarily\nextraordinary\nexuberance\nexuberant\nexuberantly\nexult\nexultant\nexultation\nexultingly\neye-catch\neye-catching\neyecatch\neyecatching\nfabulous\nfabulously\nfacilitate\nfair\nfairly\nfairness\nfaith\nfaithful\nfaithfully\nfaithfulness\nfame\nfamed\nfamous\nfamously\nfancier\nfancinating\nfancy\nfanfare\nfans\nfantastic\nfantastically\nfascinate\nfascinating\nfascinatingly\nfascination\nfashionable\nfashionably\nfast\nfast-growing\nfast-paced\nfaster\nfastest\nfastest-growing\nfaultless\nfav\nfave\nfavor\nfavorable\nfavored\nfavorite\nfavorited\nfavour\nfearless\nfearlessly\nfeasible\nfeasibly\nfeat\nfeature-rich\nfecilitous\nfeisty\nfelicitate\nfelicitous\nfelicity\nfertile\nfervent\nfervently\nfervid\nfervidly\nfervor\nfestive\nfidelity\nfiery\nfine\nfine-looking\nfinely\nfiner\nfinest\nfirmer\nfirst-class\nfirst-in-class\nfirst-rate\nflashy\nflatter\nflattering\nflatteringly\nflawless\nflawlessly\nflexibility\nflexible\nflourish\nflourishing\nfluent\nflutter\nfond\nfondly\nfondness\nfoolproof\nforemost\nforesight\nformidable\nfortitude\nfortuitous\nfortuitously\nfortunate\nfortunately\nfortune\nfragrant\nfree\nfreed\nfreedom\nfreedoms\nfresh\nfresher\nfreshest\nfriendliness\nfriendly\nfrolic\nfrugal\nfruitful\nftw\nfulfillment\nfun\nfuturestic\nfuturistic\ngaiety\ngaily\ngain\ngained\ngainful\ngainfully\ngaining\ngains\ngallant\ngallantly\ngalore\ngeekier\ngeeky\ngem\ngems\ngenerosity\ngenerous\ngenerously\ngenial\ngenius\ngentle\ngentlest\ngenuine\ngifted\nglad\ngladden\ngladly\ngladness\nglamorous\nglee\ngleeful\ngleefully\nglimmer\nglimmering\nglisten\nglistening\nglitter\nglitz\nglorify\nglorious\ngloriously\nglory\nglow\nglowing\nglowingly\ngod-given\ngod-send\ngodlike\ngodsend\ngold\ngolden\ngood\ngoodly\ngoodness\ngoodwill\ngoood\ngooood\ngorgeous\ngorgeously\ngrace\ngraceful\ngracefully\ngracious\ngraciously\ngraciousness\ngrand\ngrandeur\ngrateful\ngratefully\ngratification\ngratified\ngratifies\ngratify\ngratifying\ngratifyingly\ngratitude\ngreat\ngreatest\ngreatness\ngrin\ngroundbreaking\nguarantee\nguidance\nguiltless\ngumption\ngush\ngusto\ngutsy\nhail\nhalcyon\nhale\nhallmark\nhallmarks\nhallowed\nhandier\nhandily\nhands-down\nhandsome\nhandsomely\nhandy\nhappier\nhappily\nhappiness\nhappy\nhard-working\nhardier\nhardy\nharmless\nharmonious\nharmoniously\nharmonize\nharmony\nheadway\nheal\nhealthful\nhealthy\nhearten\nheartening\nheartfelt\nheartily\nheartwarming\nheaven\nheavenly\nhelped\nhelpful\nhelping\nhero\nheroic\nheroically\nheroine\nheroize\nheros\nhigh-quality\nhigh-spirited\nhilarious\nholy\nhomage\nhonest\nhonesty\nhonor\nhonorable\nhonored\nhonoring\nhooray\nhopeful\nhospitable\nhot\nhotcake\nhotcakes\nhottest\nhug\nhumane\nhumble\nhumility\nhumor\nhumorous\nhumorously\nhumour\nhumourous\nideal\nidealize\nideally\nidol\nidolize\nidolized\nidyllic\nilluminate\nilluminati\nilluminating\nillumine\nillustrious\nilu\nimaculate\nimaginative\nimmaculate\nimmaculately\nimmense\nimpartial\nimpartiality\nimpartially\nimpassioned\nimpeccable\nimpeccably\nimportant\nimpress\nimpressed\nimpresses\nimpressive\nimpressively\nimpressiveness\nimprove\nimproved\nimprovement\nimprovements\nimproves\nimproving\nincredible\nincredibly\nindebted\nindividualized\nindulgence\nindulgent\nindustrious\ninestimable\ninestimably\ninexpensive\ninfallibility\ninfallible\ninfallibly\ninfluential\ningenious\ningeniously\ningenuity\ningenuous\ningenuously\ninnocuous\ninnovation\ninnovative\ninpressed\ninsightful\ninsightfully\ninspiration\ninspirational\ninspire\ninspiring\ninstantly\ninstructive\ninstrumental\nintegral\nintegrated\nintelligence\nintelligent\nintelligible\ninteresting\ninterests\nintimacy\nintimate\nintricate\nintrigue\nintriguing\nintriguingly\nintuitive\ninvaluable\ninvaluablely\ninventive\ninvigorate\ninvigorating\ninvincibility\ninvincible\ninviolable\ninviolate\ninvulnerable\nirreplaceable\nirreproachable\nirresistible\nirresistibly\nissue-free\njaw-droping\njaw-dropping\njollify\njolly\njovial\njoy\njoyful\njoyfully\njoyous\njoyously\njubilant\njubilantly\njubilate\njubilation\njubiliant\njudicious\njustly\nkeen\nkeenly\nkeenness\nkid-friendly\nkindliness\nkindly\nkindness\nknowledgeable\nkudos\nlarge-capacity\nlaud\nlaudable\nlaudably\nlavish\nlavishly\nlaw-abiding\nlawful\nlawfully\nlead\nleading\nleads\nlean\nled\nlegendary\nleverage\nlevity\nliberate\nliberation\nliberty\nlifesaver\nlight-hearted\nlighter\nlikable\nlike\nliked\nlikes\nliking\nlionhearted\nlively\nlogical\nlong-lasting\nlovable\nlovably\nlove\nloved\nloveliness\nlovely\nlover\nloves\nloving\nlow-cost\nlow-price\nlow-priced\nlow-risk\nlower-priced\nloyal\nloyalty\nlucid\nlucidly\nluck\nluckier\nluckiest\nluckiness\nlucky\nlucrative\nluminous\nlush\nluster\nlustrous\nluxuriant\nluxuriate\nluxurious\nluxuriously\nluxury\nlyrical\nmagic\nmagical\nmagnanimous\nmagnanimously\nmagnificence\nmagnificent\nmagnificently\nmajestic\nmajesty\nmanageable\nmaneuverable\nmarvel\nmarveled\nmarvelled\nmarvellous\nmarvelous\nmarvelously\nmarvelousness\nmarvels\nmaster\nmasterful\nmasterfully\nmasterpiece\nmasterpieces\nmasters\nmastery\nmatchless\nmature\nmaturely\nmaturity\nmeaningful\nmemorable\nmerciful\nmercifully\nmercy\nmerit\nmeritorious\nmerrily\nmerriment\nmerriness\nmerry\nmesmerize\nmesmerized\nmesmerizes\nmesmerizing\nmesmerizingly\nmeticulous\nmeticulously\nmightily\nmighty\nmind-blowing\nmiracle\nmiracles\nmiraculous\nmiraculously\nmiraculousness\nmodern\nmodest\nmodesty\nmomentous\nmonumental\nmonumentally\nmorality\nmotivated\nmulti-purpose\nnavigable\nneat\nneatest\nneatly\nnice\nnicely\nnicer\nnicest\nnifty\nnimble\nnoble\nnobly\nnoiseless\nnon-violence\nnon-violent\nnotably\nnoteworthy\nnourish\nnourishing\nnourishment\nnovelty\nnurturing\noasis\nobsession\nobsessions\nobtainable\nopenly\nopenness\noptimal\noptimism\noptimistic\nopulent\norderly\noriginality\noutdo\noutdone\noutperform\noutperformed\noutperforming\noutperforms\noutshine\noutshone\noutsmart\noutstanding\noutstandingly\noutstrip\noutwit\novation\noverjoyed\novertake\novertaken\novertakes\novertaking\novertook\noverture\npain-free\npainless\npainlessly\npalatial\npamper\npampered\npamperedly\npamperedness\npampers\npanoramic\nparadise\nparamount\npardon\npassion\npassionate\npassionately\npatience\npatient\npatiently\npatriot\npatriotic\npeace\npeaceable\npeaceful\npeacefully\npeacekeepers\npeach\npeerless\npep\npepped\npepping\npeppy\npeps\nperfect\nperfection\nperfectly\npermissible\nperseverance\npersevere\npersonages\npersonalized\nphenomenal\nphenomenally\npicturesque\npiety\npinnacle\nplayful\nplayfully\npleasant\npleasantly\npleased\npleases\npleasing\npleasingly\npleasurable\npleasurably\npleasure\nplentiful\npluses\nplush\nplusses\npoetic\npoeticize\npoignant\npoise\npoised\npolished\npolite\npoliteness\npopular\nportable\nposh\npositive\npositively\npositives\npowerful\npowerfully\npraise\npraiseworthy\npraising\npre-eminent\nprecious\nprecise\nprecisely\npreeminent\nprefer\npreferable\npreferably\nprefered\npreferes\npreferring\nprefers\npremier\nprestige\nprestigious\nprettily\npretty\npriceless\npride\nprincipled\nprivilege\nprivileged\nprize\nproactive\nproblem-free\nproblem-solver\nprodigious\nprodigiously\nprodigy\nproductive\nproductively\nproficient\nproficiently\nprofound\nprofoundly\nprofuse\nprofusion\nprogress\nprogressive\nprolific\nprominence\nprominent\npromise\npromised\npromises\npromising\npromoter\nprompt\npromptly\nproper\nproperly\npropitious\npropitiously\npros\nprosper\nprosperity\nprosperous\nprospros\nprotect\nprotection\nprotective\nproud\nproven\nproves\nprovidence\nproving\nprowess\nprudence\nprudent\nprudently\npunctual\npure\npurify\npurposeful\nquaint\nqualified\nqualify\nquicker\nquiet\nquieter\nradiance\nradiant\nrapid\nrapport\nrapt\nrapture\nraptureous\nraptureously\nrapturous\nrapturously\nrational\nrazor-sharp\nreachable\nreadable\nreadily\nready\nreaffirm\nreaffirmation\nrealistic\nrealizable\nreasonable\nreasonably\nreasoned\nreassurance\nreassure\nreceptive\nreclaim\nrecomend\nrecommend\nrecommendation\nrecommendations\nrecommended\nreconcile\nreconciliation\nrecord-setting\nrecover\nrecovery\nrectification\nrectify\nrectifying\nredeem\nredeeming\nredemption\nrefine\nrefined\nrefinement\nreform\nreformed\nreforming\nreforms\nrefresh\nrefreshed\nrefreshing\nrefund\nrefunded\nregal\nregally\nregard\nrejoice\nrejoicing\nrejoicingly\nrejuvenate\nrejuvenated\nrejuvenating\nrelaxed\nrelent\nreliable\nreliably\nrelief\nrelish\nremarkable\nremarkably\nremedy\nremission\nremunerate\nrenaissance\nrenewed\nrenown\nrenowned\nreplaceable\nreputable\nreputation\nresilient\nresolute\nresound\nresounding\nresourceful\nresourcefulness\nrespect\nrespectable\nrespectful\nrespectfully\nrespite\nresplendent\nresponsibly\nresponsive\nrestful\nrestored\nrestructure\nrestructured\nrestructuring\nretractable\nrevel\nrevelation\nrevere\nreverence\nreverent\nreverently\nrevitalize\nrevival\nrevive\nrevives\nrevolutionary\nrevolutionize\nrevolutionized\nrevolutionizes\nreward\nrewarding\nrewardingly\nrich\nricher\nrichly\nrichness\nright\nrighten\nrighteous\nrighteously\nrighteousness\nrightful\nrightfully\nrightly\nrightness\nrisk-free\nrobust\nrock-star\nrock-stars\nrockstar\nrockstars\nromantic\nromantically\nromanticize\nroomier\nroomy\nrosy\nsafe\nsafely\nsagacity\nsagely\nsaint\nsaintliness\nsaintly\nsalutary\nsalute\nsane\nsatisfactorily\nsatisfactory\nsatisfied\nsatisfies\nsatisfy\nsatisfying\nsatisified\nsaver\nsavings\nsavior\nsavvy\nscenic\nseamless\nseasoned\nsecure\nsecurely\nselective\nself-determination\nself-respect\nself-satisfaction\nself-sufficiency\nself-sufficient\nsensation\nsensational\nsensationally\nsensations\nsensible\nsensibly\nsensitive\nserene\nserenity\nsexy\nsharp\nsharper\nsharpest\nshimmering\nshimmeringly\nshine\nshiny\nsignificant\nsilent\nsimpler\nsimplest\nsimplified\nsimplifies\nsimplify\nsimplifying\nsincere\nsincerely\nsincerity\nskill\nskilled\nskillful\nskillfully\nslammin\nsleek\nslick\nsmart\nsmarter\nsmartest\nsmartly\nsmile\nsmiles\nsmiling\nsmilingly\nsmitten\nsmooth\nsmoother\nsmoothes\nsmoothest\nsmoothly\nsnappy\nsnazzy\nsociable\nsoft\nsofter\nsolace\nsolicitous\nsolicitously\nsolid\nsolidarity\nsoothe\nsoothingly\nsophisticated\nsoulful\nsoundly\nsoundness\nspacious\nsparkle\nsparkling\nspectacular\nspectacularly\nspeedily\nspeedy\nspellbind\nspellbinding\nspellbindingly\nspellbound\nspirited\nspiritual\nsplendid\nsplendidly\nsplendor\nspontaneous\nsporty\nspotless\nsprightly\nstability\nstabilize\nstable\nstainless\nstandout\nstate-of-the-art\nstately\nstatuesque\nstaunch\nstaunchly\nstaunchness\nsteadfast\nsteadfastly\nsteadfastness\nsteadiest\nsteadiness\nsteady\nstellar\nstellarly\nstimulate\nstimulates\nstimulating\nstimulative\nstirringly\nstraighten\nstraightforward\nstreamlined\nstriking\nstrikingly\nstriving\nstrong\nstronger\nstrongest\nstunned\nstunning\nstunningly\nstupendous\nstupendously\nsturdier\nsturdy\nstylish\nstylishly\nstylized\nsuave\nsuavely\nsublime\nsubsidize\nsubsidized\nsubsidizes\nsubsidizing\nsubstantive\nsucceed\nsucceeded\nsucceeding\nsucceeds\nsucces\nsuccess\nsuccesses\nsuccessful\nsuccessfully\nsuffice\nsufficed\nsuffices\nsufficient\nsufficiently\nsuitable\nsumptuous\nsumptuously\nsumptuousness\nsuper\nsuperb\nsuperbly\nsuperior\nsuperiority\nsupple\nsupport\nsupported\nsupporter\nsupporting\nsupportive\nsupports\nsupremacy\nsupreme\nsupremely\nsupurb\nsupurbly\nsurmount\nsurpass\nsurreal\nsurvival\nsurvivor\nsustainability\nsustainable\nswank\nswankier\nswankiest\nswanky\nsweeping\nsweet\nsweeten\nsweetheart\nsweetly\nsweetness\nswift\nswiftness\ntalent\ntalented\ntalents\ntantalize\ntantalizing\ntantalizingly\ntempt\ntempting\ntemptingly\ntenacious\ntenaciously\ntenacity\ntender\ntenderly\nterrific\nterrifically\nthank\nthankful\nthinner\nthoughtful\nthoughtfully\nthoughtfulness\nthrift\nthrifty\nthrill\nthrilled\nthrilling\nthrillingly\nthrills\nthrive\nthriving\nthumb-up\nthumbs-up\ntickle\ntidy\ntime-honored\ntimely\ntingle\ntitillate\ntitillating\ntitillatingly\ntogetherness\ntolerable\ntoll-free\ntop\ntop-notch\ntop-quality\ntopnotch\ntops\ntough\ntougher\ntoughest\ntraction\ntranquil\ntranquility\ntransparent\ntreasure\ntremendously\ntrendy\ntriumph\ntriumphal\ntriumphant\ntriumphantly\ntrivially\ntrophy\ntrouble-free\ntrump\ntrumpet\ntrust\ntrusted\ntrusting\ntrustingly\ntrustworthiness\ntrustworthy\ntrusty\ntruthful\ntruthfully\ntruthfulness\ntwinkly\nultra-crisp\nunabashed\nunabashedly\nunaffected\nunassailable\nunbeatable\nunbiased\nunbound\nuncomplicated\nunconditional\nundamaged\nundaunted\nunderstandable\nundisputable\nundisputably\nundisputed\nunencumbered\nunequivocal\nunequivocally\nunfazed\nunfettered\nunforgettable\nunity\nunlimited\nunmatched\nunparalleled\nunquestionable\nunquestionably\nunreal\nunrestricted\nunrivaled\nunselfish\nunwavering\nupbeat\nupgradable\nupgradeable\nupgraded\nupheld\nuphold\nuplift\nuplifting\nupliftingly\nupliftment\nupscale\nusable\nuseable\nuseful\nuser-friendly\nuser-replaceable\nvaliant\nvaliantly\nvalor\nvaluable\nvariety\nvenerate\nverifiable\nveritable\nversatile\nversatility\nvibrant\nvibrantly\nvictorious\nvictory\nviewable\nvigilance\nvigilant\nvirtue\nvirtuous\nvirtuously\nvisionary\nvivacious\nvivid\nvouch\nvouchsafe\nwarm\nwarmer\nwarmhearted\nwarmly\nwarmth\nwealthy\nwelcome\nwell\nwell-backlit\nwell-balanced\nwell-behaved\nwell-being\nwell-bred\nwell-connected\nwell-educated\nwell-established\nwell-informed\nwell-intentioned\nwell-known\nwell-made\nwell-managed\nwell-mannered\nwell-positioned\nwell-received\nwell-regarded\nwell-rounded\nwell-run\nwell-wishers\nwellbeing\nwhoa\nwholeheartedly\nwholesome\nwhooa\nwhoooa\nwieldy\nwilling\nwillingly\nwillingness\nwin\nwindfall\nwinnable\nwinner\nwinners\nwinning\nwins\nwisdom\nwise\nwisely\nwitty\nwon\nwonder\nwonderful\nwonderfully\nwonderous\nwonderously\nwonders\nwondrous\nwoo\nwork\nworkable\nworked\nworks\nworld-famous\nworth\nworth-while\nworthiness\nworthwhile\nworthy\nwow\nwowed\nwowing\nwows\nyay\nyouthful\nzeal\nzenith\nzest\nzippy\n\n"</td>
        </tr>
        <tr>
          <td id="file-assignment-11-text-mining-ipynb-L840" class="blob-num js-line-number js-code-nav-line-number js-blob-rnum" data-line-number="840"></td>
          <td id="file-assignment-11-text-mining-ipynb-LC840" class="blob-code blob-code-inner js-file-line">        }</td>
        </tr>
        <tr>
          <td id="file-assignment-11-text-mining-ipynb-L841" class="blob-num js-line-number js-code-nav-line-number js-blob-rnum" data-line-number="841"></td>
          <td id="file-assignment-11-text-mining-ipynb-LC841" class="blob-code blob-code-inner js-file-line">      ]</td>
        </tr>
        <tr>
          <td id="file-assignment-11-text-mining-ipynb-L842" class="blob-num js-line-number js-code-nav-line-number js-blob-rnum" data-line-number="842"></td>
          <td id="file-assignment-11-text-mining-ipynb-LC842" class="blob-code blob-code-inner js-file-line">    },</td>
        </tr>
        <tr>
          <td id="file-assignment-11-text-mining-ipynb-L843" class="blob-num js-line-number js-code-nav-line-number js-blob-rnum" data-line-number="843"></td>
          <td id="file-assignment-11-text-mining-ipynb-LC843" class="blob-code blob-code-inner js-file-line">    {</td>
        </tr>
        <tr>
          <td id="file-assignment-11-text-mining-ipynb-L844" class="blob-num js-line-number js-code-nav-line-number js-blob-rnum" data-line-number="844"></td>
          <td id="file-assignment-11-text-mining-ipynb-LC844" class="blob-code blob-code-inner js-file-line">      <span class="pl-ent">"metadata"</span>: {</td>
        </tr>
        <tr>
          <td id="file-assignment-11-text-mining-ipynb-L845" class="blob-num js-line-number js-code-nav-line-number js-blob-rnum" data-line-number="845"></td>
          <td id="file-assignment-11-text-mining-ipynb-LC845" class="blob-code blob-code-inner js-file-line">        <span class="pl-ent">"trusted"</span>: <span class="pl-c1">false</span></td>
        </tr>
        <tr>
          <td id="file-assignment-11-text-mining-ipynb-L846" class="blob-num js-line-number js-code-nav-line-number js-blob-rnum" data-line-number="846"></td>
          <td id="file-assignment-11-text-mining-ipynb-LC846" class="blob-code blob-code-inner js-file-line">      },</td>
        </tr>
        <tr>
          <td id="file-assignment-11-text-mining-ipynb-L847" class="blob-num js-line-number js-code-nav-line-number js-blob-rnum" data-line-number="847"></td>
          <td id="file-assignment-11-text-mining-ipynb-LC847" class="blob-code blob-code-inner js-file-line">      <span class="pl-ent">"cell_type"</span>: <span class="pl-s"><span class="pl-pds">"</span>code<span class="pl-pds">"</span></span>,</td>
        </tr>
        <tr>
          <td id="file-assignment-11-text-mining-ipynb-L848" class="blob-num js-line-number js-code-nav-line-number js-blob-rnum" data-line-number="848"></td>
          <td id="file-assignment-11-text-mining-ipynb-LC848" class="blob-code blob-code-inner js-file-line">      <span class="pl-ent">"source"</span>: <span class="pl-s"><span class="pl-pds">"</span>with codecs.open(<span class="pl-cce">\"</span>negative-words.txt<span class="pl-cce">\"</span>, <span class="pl-cce">\"</span>r<span class="pl-cce">\"</span>, encoding=<span class="pl-cce">\"</span>ISO-8859-1<span class="pl-cce">\"</span>) as n:<span class="pl-cce">\n</span>    neg = n.read()<span class="pl-cce">\n</span>    print(neg)<span class="pl-pds">"</span></span>,</td>
        </tr>
        <tr>
          <td id="file-assignment-11-text-mining-ipynb-L849" class="blob-num js-line-number js-code-nav-line-number js-blob-rnum" data-line-number="849"></td>
          <td id="file-assignment-11-text-mining-ipynb-LC849" class="blob-code blob-code-inner js-file-line">      <span class="pl-ent">"execution_count"</span>: <span class="pl-c1">38</span>,</td>
        </tr>
        <tr>
          <td id="file-assignment-11-text-mining-ipynb-L850" class="blob-num js-line-number js-code-nav-line-number js-blob-rnum" data-line-number="850"></td>
          <td id="file-assignment-11-text-mining-ipynb-LC850" class="blob-code blob-code-inner js-file-line">      <span class="pl-ent">"outputs"</span>: [</td>
        </tr>
        <tr>
          <td id="file-assignment-11-text-mining-ipynb-L851" class="blob-num js-line-number js-code-nav-line-number js-blob-rnum" data-line-number="851"></td>
          <td id="file-assignment-11-text-mining-ipynb-LC851" class="blob-code blob-code-inner js-file-line">        {</td>
        </tr>
        <tr>
          <td id="file-assignment-11-text-mining-ipynb-L852" class="blob-num js-line-number js-code-nav-line-number js-blob-rnum" data-line-number="852"></td>
          <td id="file-assignment-11-text-mining-ipynb-LC852" class="blob-code blob-code-inner js-file-line">          <span class="pl-ent">"name"</span>: <span class="pl-s"><span class="pl-pds">"</span>stdout<span class="pl-pds">"</span></span>,</td>
        </tr>
        <tr>
          <td id="file-assignment-11-text-mining-ipynb-L853" class="blob-num js-line-number js-code-nav-line-number js-blob-rnum" data-line-number="853"></td>
          <td id="file-assignment-11-text-mining-ipynb-LC853" class="blob-code blob-code-inner js-file-line">          <span class="pl-ent">"output_type"</span>: <span class="pl-s"><span class="pl-pds">"</span>stream<span class="pl-pds">"</span></span>,</td>
        </tr>
        <tr>
          <td id="file-assignment-11-text-mining-ipynb-L854" class="blob-num js-line-number js-code-nav-line-number js-blob-rnum" data-line-number="854"></td>
          <td id="file-assignment-11-text-mining-ipynb-LC854" class="blob-code blob-code-inner js-file-line">          "text": ";;;;;;;;;;;;;;;;;;;;;;;;;;;;;;;;;;;;;;;;;;;;;;;;;;;;;;;;;;;;;;;;;;;;;;;;;;;;;;\n; \n; Opinion Lexicon: Negative\n;\n; This file contains a list of NEGATIVE opinion words (or sentiment words).\n;\n; This file and the papers can all be downloaded from \n;    http://www.cs.uic.edu/~liub/FBS/sentiment-analysis.html\n;\n; If you use this list, please cite one of the following two papers:\n;\n;   Minqing Hu and Bing Liu. \"Mining and Summarizing Customer Reviews.\" \n;       Proceedings of the ACM SIGKDD International Conference on Knowledge \n;       Discovery and Data Mining (KDD-2004), Aug 22-25, 2004, Seattle, \n;       Washington, USA, \n;   Bing Liu, Minqing Hu and Junsheng Cheng. \"Opinion Observer: Analyzing \n;       and Comparing Opinions on the Web.\" Proceedings of the 14th \n;       International World Wide Web conference (WWW-2005), May 10-14, \n;       2005, Chiba, Japan.\n;\n; Notes: \n;    1. The appearance of an opinion word in a sentence does not necessarily  \n;       mean that the sentence expresses a positive or negative opinion. \n;       See the paper below:\n;\n;       Bing Liu. \"Sentiment Analysis and Subjectivity.\" An chapter in \n;          Handbook of Natural Language Processing, Second Edition, \n;          (editors: N. Indurkhya and F. J. Damerau), 2010.\n;\n;    2. You will notice many misspelled words in the list. They are not \n;       mistakes. They are included as these misspelled words appear \n;       frequently in social media content. \n;\n;;;;;;;;;;;;;;;;;;;;;;;;;;;;;;;;;;;;;;;;;;;;;;;;;;;;;;;;;;;;;;;;;;;;;;;;;;;;;;\n\n2-faced\n2-faces\nabnormal\nabolish\nabominable\nabominably\nabominate\nabomination\nabort\naborted\naborts\nabrade\nabrasive\nabrupt\nabruptly\nabscond\nabsence\nabsent-minded\nabsentee\nabsurd\nabsurdity\nabsurdly\nabsurdness\nabuse\nabused\nabuses\nabusive\nabysmal\nabysmally\nabyss\naccidental\naccost\naccursed\naccusation\naccusations\naccuse\naccuses\naccusing\naccusingly\nacerbate\nacerbic\nacerbically\nache\nached\naches\nachey\naching\nacrid\nacridly\nacridness\nacrimonious\nacrimoniously\nacrimony\nadamant\nadamantly\naddict\naddicted\naddicting\naddicts\nadmonish\nadmonisher\nadmonishingly\nadmonishment\nadmonition\nadulterate\nadulterated\nadulteration\nadulterier\nadversarial\nadversary\nadverse\nadversity\nafflict\naffliction\nafflictive\naffront\nafraid\naggravate\naggravating\naggravation\naggression\naggressive\naggressiveness\naggressor\naggrieve\naggrieved\naggrivation\naghast\nagonies\nagonize\nagonizing\nagonizingly\nagony\naground\nail\nailing\nailment\naimless\nalarm\nalarmed\nalarming\nalarmingly\nalienate\nalienated\nalienation\nallegation\nallegations\nallege\nallergic\nallergies\nallergy\naloof\naltercation\nambiguity\nambiguous\nambivalence\nambivalent\nambush\namiss\namputate\nanarchism\nanarchist\nanarchistic\nanarchy\nanemic\nanger\nangrily\nangriness\nangry\nanguish\nanimosity\nannihilate\nannihilation\nannoy\nannoyance\nannoyances\nannoyed\nannoying\nannoyingly\nannoys\nanomalous\nanomaly\nantagonism\nantagonist\nantagonistic\nantagonize\nanti-\nanti-american\nanti-israeli\nanti-occupation\nanti-proliferation\nanti-semites\nanti-social\nanti-us\nanti-white\nantipathy\nantiquated\nantithetical\nanxieties\nanxiety\nanxious\nanxiously\nanxiousness\napathetic\napathetically\napathy\napocalypse\napocalyptic\napologist\napologists\nappal\nappall\nappalled\nappalling\nappallingly\napprehension\napprehensions\napprehensive\napprehensively\narbitrary\narcane\narchaic\narduous\narduously\nargumentative\narrogance\narrogant\narrogantly\nashamed\nasinine\nasininely\nasinininity\naskance\nasperse\naspersion\naspersions\nassail\nassassin\nassassinate\nassault\nassult\nastray\nasunder\natrocious\natrocities\natrocity\natrophy\nattack\nattacks\naudacious\naudaciously\naudaciousness\naudacity\naudiciously\naustere\nauthoritarian\nautocrat\nautocratic\navalanche\navarice\navaricious\navariciously\navenge\naverse\naversion\naweful\nawful\nawfully\nawfulness\nawkward\nawkwardness\nax\nbabble\nback-logged\nback-wood\nback-woods\nbackache\nbackaches\nbackaching\nbackbite\nbackbiting\nbackward\nbackwardness\nbackwood\nbackwoods\nbad\nbadly\nbaffle\nbaffled\nbafflement\nbaffling\nbait\nbalk\nbanal\nbanalize\nbane\nbanish\nbanishment\nbankrupt\nbarbarian\nbarbaric\nbarbarically\nbarbarity\nbarbarous\nbarbarously\nbarren\nbaseless\nbash\nbashed\nbashful\nbashing\nbastard\nbastards\nbattered\nbattering\nbatty\nbearish\nbeastly\nbedlam\nbedlamite\nbefoul\nbeg\nbeggar\nbeggarly\nbegging\nbeguile\nbelabor\nbelated\nbeleaguer\nbelie\nbelittle\nbelittled\nbelittling\nbellicose\nbelligerence\nbelligerent\nbelligerently\nbemoan\nbemoaning\nbemused\nbent\nberate\nbereave\nbereavement\nbereft\nberserk\nbeseech\nbeset\nbesiege\nbesmirch\nbestial\nbetray\nbetrayal\nbetrayals\nbetrayer\nbetraying\nbetrays\nbewail\nbeware\nbewilder\nbewildered\nbewildering\nbewilderingly\nbewilderment\nbewitch\nbias\nbiased\nbiases\nbicker\nbickering\nbid-rigging\nbigotries\nbigotry\nbitch\nbitchy\nbiting\nbitingly\nbitter\nbitterly\nbitterness\nbizarre\nblab\nblabber\nblackmail\nblah\nblame\nblameworthy\nbland\nblandish\nblaspheme\nblasphemous\nblasphemy\nblasted\nblatant\nblatantly\nblather\nbleak\nbleakly\nbleakness\nbleed\nbleeding\nbleeds\nblemish\nblind\nblinding\nblindingly\nblindside\nblister\nblistering\nbloated\nblockage\nblockhead\nbloodshed\nbloodthirsty\nbloody\nblotchy\nblow\nblunder\nblundering\nblunders\nblunt\nblur\nbluring\nblurred\nblurring\nblurry\nblurs\nblurt\nboastful\nboggle\nbogus\nboil\nboiling\nboisterous\nbomb\nbombard\nbombardment\nbombastic\nbondage\nbonkers\nbore\nbored\nboredom\nbores\nboring\nbotch\nbother\nbothered\nbothering\nbothers\nbothersome\nbowdlerize\nboycott\nbraggart\nbragger\nbrainless\nbrainwash\nbrash\nbrashly\nbrashness\nbrat\nbravado\nbrazen\nbrazenly\nbrazenness\nbreach\nbreak\nbreak-up\nbreak-ups\nbreakdown\nbreaking\nbreaks\nbreakup\nbreakups\nbribery\nbrimstone\nbristle\nbrittle\nbroke\nbroken\nbroken-hearted\nbrood\nbrowbeat\nbruise\nbruised\nbruises\nbruising\nbrusque\nbrutal\nbrutalising\nbrutalities\nbrutality\nbrutalize\nbrutalizing\nbrutally\nbrute\nbrutish\nbs\nbuckle\nbug\nbugging\nbuggy\nbugs\nbulkier\nbulkiness\nbulky\nbulkyness\nbull****\nbull----\nbullies\nbullshit\nbullshyt\nbully\nbullying\nbullyingly\nbum\nbump\nbumped\nbumping\nbumpping\nbumps\nbumpy\nbungle\nbungler\nbungling\nbunk\nburden\nburdensome\nburdensomely\nburn\nburned\nburning\nburns\nbust\nbusts\nbusybody\nbutcher\nbutchery\nbuzzing\nbyzantine\ncackle\ncalamities\ncalamitous\ncalamitously\ncalamity\ncallous\ncalumniate\ncalumniation\ncalumnies\ncalumnious\ncalumniously\ncalumny\ncancer\ncancerous\ncannibal\ncannibalize\ncapitulate\ncapricious\ncapriciously\ncapriciousness\ncapsize\ncareless\ncarelessness\ncaricature\ncarnage\ncarp\ncartoonish\ncash-strapped\ncastigate\ncastrated\ncasualty\ncataclysm\ncataclysmal\ncataclysmic\ncataclysmically\ncatastrophe\ncatastrophes\ncatastrophic\ncatastrophically\ncatastrophies\ncaustic\ncaustically\ncautionary\ncave\ncensure\nchafe\nchaff\nchagrin\nchallenging\nchaos\nchaotic\nchasten\nchastise\nchastisement\nchatter\nchatterbox\ncheap\ncheapen\ncheaply\ncheat\ncheated\ncheater\ncheating\ncheats\ncheckered\ncheerless\ncheesy\nchide\nchildish\nchill\nchilly\nchintzy\nchoke\ncholeric\nchoppy\nchore\nchronic\nchunky\nclamor\nclamorous\nclash\ncliche\ncliched\nclique\nclog\nclogged\nclogs\ncloud\nclouding\ncloudy\nclueless\nclumsy\nclunky\ncoarse\ncocky\ncoerce\ncoercion\ncoercive\ncold\ncoldly\ncollapse\ncollude\ncollusion\ncombative\ncombust\ncomical\ncommiserate\ncommonplace\ncommotion\ncommotions\ncomplacent\ncomplain\ncomplained\ncomplaining\ncomplains\ncomplaint\ncomplaints\ncomplex\ncomplicated\ncomplication\ncomplicit\ncompulsion\ncompulsive\nconcede\nconceded\nconceit\nconceited\nconcen\nconcens\nconcern\nconcerned\nconcerns\nconcession\nconcessions\ncondemn\ncondemnable\ncondemnation\ncondemned\ncondemns\ncondescend\ncondescending\ncondescendingly\ncondescension\nconfess\nconfession\nconfessions\nconfined\nconflict\nconflicted\nconflicting\nconflicts\nconfound\nconfounded\nconfounding\nconfront\nconfrontation\nconfrontational\nconfuse\nconfused\nconfuses\nconfusing\nconfusion\nconfusions\ncongested\ncongestion\ncons\nconscons\nconservative\nconspicuous\nconspicuously\nconspiracies\nconspiracy\nconspirator\nconspiratorial\nconspire\nconsternation\ncontagious\ncontaminate\ncontaminated\ncontaminates\ncontaminating\ncontamination\ncontempt\ncontemptible\ncontemptuous\ncontemptuously\ncontend\ncontention\ncontentious\ncontort\ncontortions\ncontradict\ncontradiction\ncontradictory\ncontrariness\ncontravene\ncontrive\ncontrived\ncontroversial\ncontroversy\nconvoluted\ncorrode\ncorrosion\ncorrosions\ncorrosive\ncorrupt\ncorrupted\ncorrupting\ncorruption\ncorrupts\ncorruptted\ncostlier\ncostly\ncounter-productive\ncounterproductive\ncoupists\ncovetous\ncoward\ncowardly\ncrabby\ncrack\ncracked\ncracks\ncraftily\ncraftly\ncrafty\ncramp\ncramped\ncramping\ncranky\ncrap\ncrappy\ncraps\ncrash\ncrashed\ncrashes\ncrashing\ncrass\ncraven\ncravenly\ncraze\ncrazily\ncraziness\ncrazy\ncreak\ncreaking\ncreaks\ncredulous\ncreep\ncreeping\ncreeps\ncreepy\ncrept\ncrime\ncriminal\ncringe\ncringed\ncringes\ncripple\ncrippled\ncripples\ncrippling\ncrisis\ncritic\ncritical\ncriticism\ncriticisms\ncriticize\ncriticized\ncriticizing\ncritics\ncronyism\ncrook\ncrooked\ncrooks\ncrowded\ncrowdedness\ncrude\ncruel\ncrueler\ncruelest\ncruelly\ncruelness\ncruelties\ncruelty\ncrumble\ncrumbling\ncrummy\ncrumple\ncrumpled\ncrumples\ncrush\ncrushed\ncrushing\ncry\nculpable\nculprit\ncumbersome\ncunt\ncunts\ncuplrit\ncurse\ncursed\ncurses\ncurt\ncuss\ncussed\ncutthroat\ncynical\ncynicism\nd*mn\ndamage\ndamaged\ndamages\ndamaging\ndamn\ndamnable\ndamnably\ndamnation\ndamned\ndamning\ndamper\ndanger\ndangerous\ndangerousness\ndark\ndarken\ndarkened\ndarker\ndarkness\ndastard\ndastardly\ndaunt\ndaunting\ndauntingly\ndawdle\ndaze\ndazed\ndead\ndeadbeat\ndeadlock\ndeadly\ndeadweight\ndeaf\ndearth\ndeath\ndebacle\ndebase\ndebasement\ndebaser\ndebatable\ndebauch\ndebaucher\ndebauchery\ndebilitate\ndebilitating\ndebility\ndebt\ndebts\ndecadence\ndecadent\ndecay\ndecayed\ndeceit\ndeceitful\ndeceitfully\ndeceitfulness\ndeceive\ndeceiver\ndeceivers\ndeceiving\ndeception\ndeceptive\ndeceptively\ndeclaim\ndecline\ndeclines\ndeclining\ndecrement\ndecrepit\ndecrepitude\ndecry\ndefamation\ndefamations\ndefamatory\ndefame\ndefect\ndefective\ndefects\ndefensive\ndefiance\ndefiant\ndefiantly\ndeficiencies\ndeficiency\ndeficient\ndefile\ndefiler\ndeform\ndeformed\ndefrauding\ndefunct\ndefy\ndegenerate\ndegenerately\ndegeneration\ndegradation\ndegrade\ndegrading\ndegradingly\ndehumanization\ndehumanize\ndeign\ndeject\ndejected\ndejectedly\ndejection\ndelay\ndelayed\ndelaying\ndelays\ndelinquency\ndelinquent\ndelirious\ndelirium\ndelude\ndeluded\ndeluge\ndelusion\ndelusional\ndelusions\ndemean\ndemeaning\ndemise\ndemolish\ndemolisher\ndemon\ndemonic\ndemonize\ndemonized\ndemonizes\ndemonizing\ndemoralize\ndemoralizing\ndemoralizingly\ndenial\ndenied\ndenies\ndenigrate\ndenounce\ndense\ndent\ndented\ndents\ndenunciate\ndenunciation\ndenunciations\ndeny\ndenying\ndeplete\ndeplorable\ndeplorably\ndeplore\ndeploring\ndeploringly\ndeprave\ndepraved\ndepravedly\ndeprecate\ndepress\ndepressed\ndepressing\ndepressingly\ndepression\ndepressions\ndeprive\ndeprived\nderide\nderision\nderisive\nderisively\nderisiveness\nderogatory\ndesecrate\ndesert\ndesertion\ndesiccate\ndesiccated\ndesititute\ndesolate\ndesolately\ndesolation\ndespair\ndespairing\ndespairingly\ndesperate\ndesperately\ndesperation\ndespicable\ndespicably\ndespise\ndespised\ndespoil\ndespoiler\ndespondence\ndespondency\ndespondent\ndespondently\ndespot\ndespotic\ndespotism\ndestabilisation\ndestains\ndestitute\ndestitution\ndestroy\ndestroyer\ndestruction\ndestructive\ndesultory\ndeter\ndeteriorate\ndeteriorating\ndeterioration\ndeterrent\ndetest\ndetestable\ndetestably\ndetested\ndetesting\ndetests\ndetract\ndetracted\ndetracting\ndetraction\ndetracts\ndetriment\ndetrimental\ndevastate\ndevastated\ndevastates\ndevastating\ndevastatingly\ndevastation\ndeviate\ndeviation\ndevil\ndevilish\ndevilishly\ndevilment\ndevilry\ndevious\ndeviously\ndeviousness\ndevoid\ndiabolic\ndiabolical\ndiabolically\ndiametrically\ndiappointed\ndiatribe\ndiatribes\ndick\ndictator\ndictatorial\ndie\ndie-hard\ndied\ndies\ndifficult\ndifficulties\ndifficulty\ndiffidence\ndilapidated\ndilemma\ndilly-dally\ndim\ndimmer\ndin\nding\ndings\ndinky\ndire\ndirely\ndireness\ndirt\ndirtbag\ndirtbags\ndirts\ndirty\ndisable\ndisabled\ndisaccord\ndisadvantage\ndisadvantaged\ndisadvantageous\ndisadvantages\ndisaffect\ndisaffected\ndisaffirm\ndisagree\ndisagreeable\ndisagreeably\ndisagreed\ndisagreeing\ndisagreement\ndisagrees\ndisallow\ndisapointed\ndisapointing\ndisapointment\ndisappoint\ndisappointed\ndisappointing\ndisappointingly\ndisappointment\ndisappointments\ndisappoints\ndisapprobation\ndisapproval\ndisapprove\ndisapproving\ndisarm\ndisarray\ndisaster\ndisasterous\ndisastrous\ndisastrously\ndisavow\ndisavowal\ndisbelief\ndisbelieve\ndisbeliever\ndisclaim\ndiscombobulate\ndiscomfit\ndiscomfititure\ndiscomfort\ndiscompose\ndisconcert\ndisconcerted\ndisconcerting\ndisconcertingly\ndisconsolate\ndisconsolately\ndisconsolation\ndiscontent\ndiscontented\ndiscontentedly\ndiscontinued\ndiscontinuity\ndiscontinuous\ndiscord\ndiscordance\ndiscordant\ndiscountenance\ndiscourage\ndiscouragement\ndiscouraging\ndiscouragingly\ndiscourteous\ndiscourteously\ndiscoutinous\ndiscredit\ndiscrepant\ndiscriminate\ndiscrimination\ndiscriminatory\ndisdain\ndisdained\ndisdainful\ndisdainfully\ndisfavor\ndisgrace\ndisgraced\ndisgraceful\ndisgracefully\ndisgruntle\ndisgruntled\ndisgust\ndisgusted\ndisgustedly\ndisgustful\ndisgustfully\ndisgusting\ndisgustingly\ndishearten\ndisheartening\ndishearteningly\ndishonest\ndishonestly\ndishonesty\ndishonor\ndishonorable\ndishonorablely\ndisillusion\ndisillusioned\ndisillusionment\ndisillusions\ndisinclination\ndisinclined\ndisingenuous\ndisingenuously\ndisintegrate\ndisintegrated\ndisintegrates\ndisintegration\ndisinterest\ndisinterested\ndislike\ndisliked\ndislikes\ndisliking\ndislocated\ndisloyal\ndisloyalty\ndismal\ndismally\ndismalness\ndismay\ndismayed\ndismaying\ndismayingly\ndismissive\ndismissively\ndisobedience\ndisobedient\ndisobey\ndisoobedient\ndisorder\ndisordered\ndisorderly\ndisorganized\ndisorient\ndisoriented\ndisown\ndisparage\ndisparaging\ndisparagingly\ndispensable\ndispirit\ndispirited\ndispiritedly\ndispiriting\ndisplace\ndisplaced\ndisplease\ndispleased\ndispleasing\ndispleasure\ndisproportionate\ndisprove\ndisputable\ndispute\ndisputed\ndisquiet\ndisquieting\ndisquietingly\ndisquietude\ndisregard\ndisregardful\ndisreputable\ndisrepute\ndisrespect\ndisrespectable\ndisrespectablity\ndisrespectful\ndisrespectfully\ndisrespectfulness\ndisrespecting\ndisrupt\ndisruption\ndisruptive\ndiss\ndissapointed\ndissappointed\ndissappointing\ndissatisfaction\ndissatisfactory\ndissatisfied\ndissatisfies\ndissatisfy\ndissatisfying\ndissed\ndissemble\ndissembler\ndissension\ndissent\ndissenter\ndissention\ndisservice\ndisses\ndissidence\ndissident\ndissidents\ndissing\ndissocial\ndissolute\ndissolution\ndissonance\ndissonant\ndissonantly\ndissuade\ndissuasive\ndistains\ndistaste\ndistasteful\ndistastefully\ndistort\ndistorted\ndistortion\ndistorts\ndistract\ndistracting\ndistraction\ndistraught\ndistraughtly\ndistraughtness\ndistress\ndistressed\ndistressing\ndistressingly\ndistrust\ndistrustful\ndistrusting\ndisturb\ndisturbance\ndisturbed\ndisturbing\ndisturbingly\ndisunity\ndisvalue\ndivergent\ndivisive\ndivisively\ndivisiveness\ndizzing\ndizzingly\ndizzy\ndoddering\ndodgey\ndogged\ndoggedly\ndogmatic\ndoldrums\ndomineer\ndomineering\ndonside\ndoom\ndoomed\ndoomsday\ndope\ndoubt\ndoubtful\ndoubtfully\ndoubts\ndouchbag\ndouchebag\ndouchebags\ndownbeat\ndowncast\ndowner\ndownfall\ndownfallen\ndowngrade\ndownhearted\ndownheartedly\ndownhill\ndownside\ndownsides\ndownturn\ndownturns\ndrab\ndraconian\ndraconic\ndrag\ndragged\ndragging\ndragoon\ndrags\ndrain\ndrained\ndraining\ndrains\ndrastic\ndrastically\ndrawback\ndrawbacks\ndread\ndreadful\ndreadfully\ndreadfulness\ndreary\ndripped\ndripping\ndrippy\ndrips\ndrones\ndroop\ndroops\ndrop-out\ndrop-outs\ndropout\ndropouts\ndrought\ndrowning\ndrunk\ndrunkard\ndrunken\ndubious\ndubiously\ndubitable\ndud\ndull\ndullard\ndumb\ndumbfound\ndump\ndumped\ndumping\ndumps\ndunce\ndungeon\ndungeons\ndupe\ndust\ndusty\ndwindling\ndying\nearsplitting\neccentric\neccentricity\neffigy\neffrontery\negocentric\negomania\negotism\negotistical\negotistically\negregious\negregiously\nelection-rigger\nelimination\nemaciated\nemasculate\nembarrass\nembarrassing\nembarrassingly\nembarrassment\nembattled\nembroil\nembroiled\nembroilment\nemergency\nemphatic\nemphatically\nemptiness\nencroach\nencroachment\nendanger\nenemies\nenemy\nenervate\nenfeeble\nenflame\nengulf\nenjoin\nenmity\nenrage\nenraged\nenraging\nenslave\nentangle\nentanglement\nentrap\nentrapment\nenvious\nenviously\nenviousness\nepidemic\nequivocal\nerase\nerode\nerodes\nerosion\nerr\nerrant\nerratic\nerratically\nerroneous\nerroneously\nerror\nerrors\neruptions\nescapade\neschew\nestranged\nevade\nevasion\nevasive\nevil\nevildoer\nevils\neviscerate\nexacerbate\nexagerate\nexagerated\nexagerates\nexaggerate\nexaggeration\nexasperate\nexasperated\nexasperating\nexasperatingly\nexasperation\nexcessive\nexcessively\nexclusion\nexcoriate\nexcruciating\nexcruciatingly\nexcuse\nexcuses\nexecrate\nexhaust\nexhausted\nexhaustion\nexhausts\nexhorbitant\nexhort\nexile\nexorbitant\nexorbitantance\nexorbitantly\nexpel\nexpensive\nexpire\nexpired\nexplode\nexploit\nexploitation\nexplosive\nexpropriate\nexpropriation\nexpulse\nexpunge\nexterminate\nextermination\nextinguish\nextort\nextortion\nextraneous\nextravagance\nextravagant\nextravagantly\nextremism\nextremist\nextremists\neyesore\nf**k\nfabricate\nfabrication\nfacetious\nfacetiously\nfail\nfailed\nfailing\nfails\nfailure\nfailures\nfaint\nfainthearted\nfaithless\nfake\nfall\nfallacies\nfallacious\nfallaciously\nfallaciousness\nfallacy\nfallen\nfalling\nfallout\nfalls\nfalse\nfalsehood\nfalsely\nfalsify\nfalter\nfaltered\nfamine\nfamished\nfanatic\nfanatical\nfanatically\nfanaticism\nfanatics\nfanciful\nfar-fetched\nfarce\nfarcical\nfarcical-yet-provocative\nfarcically\nfarfetched\nfascism\nfascist\nfastidious\nfastidiously\nfastuous\nfat\nfat-cat\nfat-cats\nfatal\nfatalistic\nfatalistically\nfatally\nfatcat\nfatcats\nfateful\nfatefully\nfathomless\nfatigue\nfatigued\nfatique\nfatty\nfatuity\nfatuous\nfatuously\nfault\nfaults\nfaulty\nfawningly\nfaze\nfear\nfearful\nfearfully\nfears\nfearsome\nfeckless\nfeeble\nfeeblely\nfeebleminded\nfeign\nfeint\nfell\nfelon\nfelonious\nferociously\nferocity\nfetid\nfever\nfeverish\nfevers\nfiasco\nfib\nfibber\nfickle\nfiction\nfictional\nfictitious\nfidget\nfidgety\nfiend\nfiendish\nfierce\nfigurehead\nfilth\nfilthy\nfinagle\nfinicky\nfissures\nfist\nflabbergast\nflabbergasted\nflagging\nflagrant\nflagrantly\nflair\nflairs\nflak\nflake\nflakey\nflakieness\nflaking\nflaky\nflare\nflares\nflareup\nflareups\nflat-out\nflaunt\nflaw\nflawed\nflaws\nflee\nfleed\nfleeing\nfleer\nflees\nfleeting\nflicering\nflicker\nflickering\nflickers\nflighty\nflimflam\nflimsy\nflirt\nflirty\nfloored\nflounder\nfloundering\nflout\nfluster\nfoe\nfool\nfooled\nfoolhardy\nfoolish\nfoolishly\nfoolishness\nforbid\nforbidden\nforbidding\nforceful\nforeboding\nforebodingly\nforfeit\nforged\nforgetful\nforgetfully\nforgetfulness\nforlorn\nforlornly\nforsake\nforsaken\nforswear\nfoul\nfoully\nfoulness\nfractious\nfractiously\nfracture\nfragile\nfragmented\nfrail\nfrantic\nfrantically\nfranticly\nfraud\nfraudulent\nfraught\nfrazzle\nfrazzled\nfreak\nfreaking\nfreakish\nfreakishly\nfreaks\nfreeze\nfreezes\nfreezing\nfrenetic\nfrenetically\nfrenzied\nfrenzy\nfret\nfretful\nfrets\nfriction\nfrictions\nfried\nfriggin\nfrigging\nfright\nfrighten\nfrightening\nfrighteningly\nfrightful\nfrightfully\nfrigid\nfrost\nfrown\nfroze\nfrozen\nfruitless\nfruitlessly\nfrustrate\nfrustrated\nfrustrates\nfrustrating\nfrustratingly\nfrustration\nfrustrations\nfuck\nfucking\nfudge\nfugitive\nfull-blown\nfulminate\nfumble\nfume\nfumes\nfundamentalism\nfunky\nfunnily\nfunny\nfurious\nfuriously\nfuror\nfury\nfuss\nfussy\nfustigate\nfusty\nfutile\nfutilely\nfutility\nfuzzy\ngabble\ngaff\ngaffe\ngainsay\ngainsayer\ngall\ngalling\ngallingly\ngalls\ngangster\ngape\ngarbage\ngarish\ngasp\ngauche\ngaudy\ngawk\ngawky\ngeezer\ngenocide\nget-rich\nghastly\nghetto\nghosting\ngibber\ngibberish\ngibe\ngiddy\ngimmick\ngimmicked\ngimmicking\ngimmicks\ngimmicky\nglare\nglaringly\nglib\nglibly\nglitch\nglitches\ngloatingly\ngloom\ngloomy\nglower\nglum\nglut\ngnawing\ngoad\ngoading\ngod-awful\ngoof\ngoofy\ngoon\ngossip\ngraceless\ngracelessly\ngraft\ngrainy\ngrapple\ngrate\ngrating\ngravely\ngreasy\ngreed\ngreedy\ngrief\ngrievance\ngrievances\ngrieve\ngrieving\ngrievous\ngrievously\ngrim\ngrimace\ngrind\ngripe\ngripes\ngrisly\ngritty\ngross\ngrossly\ngrotesque\ngrouch\ngrouchy\ngroundless\ngrouse\ngrowl\ngrudge\ngrudges\ngrudging\ngrudgingly\ngruesome\ngruesomely\ngruff\ngrumble\ngrumpier\ngrumpiest\ngrumpily\ngrumpish\ngrumpy\nguile\nguilt\nguiltily\nguilty\ngullible\ngutless\ngutter\nhack\nhacks\nhaggard\nhaggle\nhairloss\nhalfhearted\nhalfheartedly\nhallucinate\nhallucination\nhamper\nhampered\nhandicapped\nhang\nhangs\nhaphazard\nhapless\nharangue\nharass\nharassed\nharasses\nharassment\nharboring\nharbors\nhard\nhard-hit\nhard-line\nhard-liner\nhardball\nharden\nhardened\nhardheaded\nhardhearted\nhardliner\nhardliners\nhardship\nhardships\nharm\nharmed\nharmful\nharms\nharpy\nharridan\nharried\nharrow\nharsh\nharshly\nhasseling\nhassle\nhassled\nhassles\nhaste\nhastily\nhasty\nhate\nhated\nhateful\nhatefully\nhatefulness\nhater\nhaters\nhates\nhating\nhatred\nhaughtily\nhaughty\nhaunt\nhaunting\nhavoc\nhawkish\nhaywire\nhazard\nhazardous\nhaze\nhazy\nhead-aches\nheadache\nheadaches\nheartbreaker\nheartbreaking\nheartbreakingly\nheartless\nheathen\nheavy-handed\nheavyhearted\nheck\nheckle\nheckled\nheckles\nhectic\nhedge\nhedonistic\nheedless\nhefty\nhegemonism\nhegemonistic\nhegemony\nheinous\nhell\nhell-bent\nhellion\nhells\nhelpless\nhelplessly\nhelplessness\nheresy\nheretic\nheretical\nhesitant\nhestitant\nhideous\nhideously\nhideousness\nhigh-priced\nhiliarious\nhinder\nhindrance\nhiss\nhissed\nhissing\nho-hum\nhoard\nhoax\nhobble\nhogs\nhollow\nhoodium\nhoodwink\nhooligan\nhopeless\nhopelessly\nhopelessness\nhorde\nhorrendous\nhorrendously\nhorrible\nhorrid\nhorrific\nhorrified\nhorrifies\nhorrify\nhorrifying\nhorrifys\nhostage\nhostile\nhostilities\nhostility\nhotbeds\nhothead\nhotheaded\nhothouse\nhubris\nhuckster\nhum\nhumid\nhumiliate\nhumiliating\nhumiliation\nhumming\nhung\nhurt\nhurted\nhurtful\nhurting\nhurts\nhustler\nhype\nhypocricy\nhypocrisy\nhypocrite\nhypocrites\nhypocritical\nhypocritically\nhysteria\nhysteric\nhysterical\nhysterically\nhysterics\nidiocies\nidiocy\nidiot\nidiotic\nidiotically\nidiots\nidle\nignoble\nignominious\nignominiously\nignominy\nignorance\nignorant\nignore\nill-advised\nill-conceived\nill-defined\nill-designed\nill-fated\nill-favored\nill-formed\nill-mannered\nill-natured\nill-sorted\nill-tempered\nill-treated\nill-treatment\nill-usage\nill-used\nillegal\nillegally\nillegitimate\nillicit\nilliterate\nillness\nillogic\nillogical\nillogically\nillusion\nillusions\nillusory\nimaginary\nimbalance\nimbecile\nimbroglio\nimmaterial\nimmature\nimminence\nimminently\nimmobilized\nimmoderate\nimmoderately\nimmodest\nimmoral\nimmorality\nimmorally\nimmovable\nimpair\nimpaired\nimpasse\nimpatience\nimpatient\nimpatiently\nimpeach\nimpedance\nimpede\nimpediment\nimpending\nimpenitent\nimperfect\nimperfection\nimperfections\nimperfectly\nimperialist\nimperil\nimperious\nimperiously\nimpermissible\nimpersonal\nimpertinent\nimpetuous\nimpetuously\nimpiety\nimpinge\nimpious\nimplacable\nimplausible\nimplausibly\nimplicate\nimplication\nimplode\nimpolite\nimpolitely\nimpolitic\nimportunate\nimportune\nimpose\nimposers\nimposing\nimposition\nimpossible\nimpossiblity\nimpossibly\nimpotent\nimpoverish\nimpoverished\nimpractical\nimprecate\nimprecise\nimprecisely\nimprecision\nimprison\nimprisonment\nimprobability\nimprobable\nimprobably\nimproper\nimproperly\nimpropriety\nimprudence\nimprudent\nimpudence\nimpudent\nimpudently\nimpugn\nimpulsive\nimpulsively\nimpunity\nimpure\nimpurity\ninability\ninaccuracies\ninaccuracy\ninaccurate\ninaccurately\ninaction\ninactive\ninadequacy\ninadequate\ninadequately\ninadverent\ninadverently\ninadvisable\ninadvisably\ninane\ninanely\ninappropriate\ninappropriately\ninapt\ninaptitude\ninarticulate\ninattentive\ninaudible\nincapable\nincapably\nincautious\nincendiary\nincense\nincessant\nincessantly\nincite\nincitement\nincivility\ninclement\nincognizant\nincoherence\nincoherent\nincoherently\nincommensurate\nincomparable\nincomparably\nincompatability\nincompatibility\nincompatible\nincompetence\nincompetent\nincompetently\nincomplete\nincompliant\nincomprehensible\nincomprehension\ninconceivable\ninconceivably\nincongruous\nincongruously\ninconsequent\ninconsequential\ninconsequentially\ninconsequently\ninconsiderate\ninconsiderately\ninconsistence\ninconsistencies\ninconsistency\ninconsistent\ninconsolable\ninconsolably\ninconstant\ninconvenience\ninconveniently\nincorrect\nincorrectly\nincorrigible\nincorrigibly\nincredulous\nincredulously\ninculcate\nindecency\nindecent\nindecently\nindecision\nindecisive\nindecisively\nindecorum\nindefensible\nindelicate\nindeterminable\nindeterminably\nindeterminate\nindifference\nindifferent\nindigent\nindignant\nindignantly\nindignation\nindignity\nindiscernible\nindiscreet\nindiscreetly\nindiscretion\nindiscriminate\nindiscriminately\nindiscriminating\nindistinguishable\nindoctrinate\nindoctrination\nindolent\nindulge\nineffective\nineffectively\nineffectiveness\nineffectual\nineffectually\nineffectualness\ninefficacious\ninefficacy\ninefficiency\ninefficient\ninefficiently\ninelegance\ninelegant\nineligible\nineloquent\nineloquently\ninept\nineptitude\nineptly\ninequalities\ninequality\ninequitable\ninequitably\ninequities\ninescapable\ninescapably\ninessential\ninevitable\ninevitably\ninexcusable\ninexcusably\ninexorable\ninexorably\ninexperience\ninexperienced\ninexpert\ninexpertly\ninexpiable\ninexplainable\ninextricable\ninextricably\ninfamous\ninfamously\ninfamy\ninfected\ninfection\ninfections\ninferior\ninferiority\ninfernal\ninfest\ninfested\ninfidel\ninfidels\ninfiltrator\ninfiltrators\ninfirm\ninflame\ninflammation\ninflammatory\ninflammed\ninflated\ninflationary\ninflexible\ninflict\ninfraction\ninfringe\ninfringement\ninfringements\ninfuriate\ninfuriated\ninfuriating\ninfuriatingly\ninglorious\ningrate\ningratitude\ninhibit\ninhibition\ninhospitable\ninhospitality\ninhuman\ninhumane\ninhumanity\ninimical\ninimically\niniquitous\niniquity\ninjudicious\ninjure\ninjurious\ninjury\ninjustice\ninjustices\ninnuendo\ninoperable\ninopportune\ninordinate\ninordinately\ninsane\ninsanely\ninsanity\ninsatiable\ninsecure\ninsecurity\ninsensible\ninsensitive\ninsensitively\ninsensitivity\ninsidious\ninsidiously\ninsignificance\ninsignificant\ninsignificantly\ninsincere\ninsincerely\ninsincerity\ninsinuate\ninsinuating\ninsinuation\ninsociable\ninsolence\ninsolent\ninsolently\ninsolvent\ninsouciance\ninstability\ninstable\ninstigate\ninstigator\ninstigators\ninsubordinate\ninsubstantial\ninsubstantially\ninsufferable\ninsufferably\ninsufficiency\ninsufficient\ninsufficiently\ninsular\ninsult\ninsulted\ninsulting\ninsultingly\ninsults\ninsupportable\ninsupportably\ninsurmountable\ninsurmountably\ninsurrection\nintefere\ninteferes\nintense\ninterfere\ninterference\ninterferes\nintermittent\ninterrupt\ninterruption\ninterruptions\nintimidate\nintimidating\nintimidatingly\nintimidation\nintolerable\nintolerablely\nintolerance\nintoxicate\nintractable\nintransigence\nintransigent\nintrude\nintrusion\nintrusive\ninundate\ninundated\ninvader\ninvalid\ninvalidate\ninvalidity\ninvasive\ninvective\ninveigle\ninvidious\ninvidiously\ninvidiousness\ninvisible\ninvoluntarily\ninvoluntary\nirascible\nirate\nirately\nire\nirk\nirked\nirking\nirks\nirksome\nirksomely\nirksomeness\nirksomenesses\nironic\nironical\nironically\nironies\nirony\nirragularity\nirrational\nirrationalities\nirrationality\nirrationally\nirrationals\nirreconcilable\nirrecoverable\nirrecoverableness\nirrecoverablenesses\nirrecoverably\nirredeemable\nirredeemably\nirreformable\nirregular\nirregularity\nirrelevance\nirrelevant\nirreparable\nirreplacible\nirrepressible\nirresolute\nirresolvable\nirresponsible\nirresponsibly\nirretating\nirretrievable\nirreversible\nirritable\nirritably\nirritant\nirritate\nirritated\nirritating\nirritation\nirritations\nisolate\nisolated\nisolation\nissue\nissues\nitch\nitching\nitchy\njabber\njaded\njagged\njam\njarring\njaundiced\njealous\njealously\njealousness\njealousy\njeer\njeering\njeeringly\njeers\njeopardize\njeopardy\njerk\njerky\njitter\njitters\njittery\njob-killing\njobless\njoke\njoker\njolt\njudder\njuddering\njudders\njumpy\njunk\njunky\njunkyard\njutter\njutters\nkaput\nkill\nkilled\nkiller\nkilling\nkilljoy\nkills\nknave\nknife\nknock\nknotted\nkook\nkooky\nlack\nlackadaisical\nlacked\nlackey\nlackeys\nlacking\nlackluster\nlacks\nlaconic\nlag\nlagged\nlagging\nlaggy\nlags\nlaid-off\nlambast\nlambaste\nlame\nlame-duck\nlament\nlamentable\nlamentably\nlanguid\nlanguish\nlanguor\nlanguorous\nlanguorously\nlanky\nlapse\nlapsed\nlapses\nlascivious\nlast-ditch\nlatency\nlaughable\nlaughably\nlaughingstock\nlawbreaker\nlawbreaking\nlawless\nlawlessness\nlayoff\nlayoff-happy\nlazy\nleak\nleakage\nleakages\nleaking\nleaks\nleaky\nlech\nlecher\nlecherous\nlechery\nleech\nleer\nleery\nleft-leaning\nlemon\nlengthy\nless-developed\nlesser-known\nletch\nlethal\nlethargic\nlethargy\nlewd\nlewdly\nlewdness\nliability\nliable\nliar\nliars\nlicentious\nlicentiously\nlicentiousness\nlie\nlied\nlier\nlies\nlife-threatening\nlifeless\nlimit\nlimitation\nlimitations\nlimited\nlimits\nlimp\nlistless\nlitigious\nlittle-known\nlivid\nlividly\nloath\nloathe\nloathing\nloathly\nloathsome\nloathsomely\nlone\nloneliness\nlonely\nloner\nlonesome\nlong-time\nlong-winded\nlonging\nlongingly\nloophole\nloopholes\nloose\nloot\nlorn\nlose\nloser\nlosers\nloses\nlosing\nloss\nlosses\nlost\nloud\nlouder\nlousy\nloveless\nlovelorn\nlow-rated\nlowly\nludicrous\nludicrously\nlugubrious\nlukewarm\nlull\nlumpy\nlunatic\nlunaticism\nlurch\nlure\nlurid\nlurk\nlurking\nlying\nmacabre\nmad\nmadden\nmaddening\nmaddeningly\nmadder\nmadly\nmadman\nmadness\nmaladjusted\nmaladjustment\nmalady\nmalaise\nmalcontent\nmalcontented\nmaledict\nmalevolence\nmalevolent\nmalevolently\nmalice\nmalicious\nmaliciously\nmaliciousness\nmalign\nmalignant\nmalodorous\nmaltreatment\nmangle\nmangled\nmangles\nmangling\nmania\nmaniac\nmaniacal\nmanic\nmanipulate\nmanipulation\nmanipulative\nmanipulators\nmar\nmarginal\nmarginally\nmartyrdom\nmartyrdom-seeking\nmashed\nmassacre\nmassacres\nmatte\nmawkish\nmawkishly\nmawkishness\nmeager\nmeaningless\nmeanness\nmeasly\nmeddle\nmeddlesome\nmediocre\nmediocrity\nmelancholy\nmelodramatic\nmelodramatically\nmeltdown\nmenace\nmenacing\nmenacingly\nmendacious\nmendacity\nmenial\nmerciless\nmercilessly\nmess\nmessed\nmesses\nmessing\nmessy\nmidget\nmiff\nmilitancy\nmindless\nmindlessly\nmirage\nmire\nmisalign\nmisaligned\nmisaligns\nmisapprehend\nmisbecome\nmisbecoming\nmisbegotten\nmisbehave\nmisbehavior\nmiscalculate\nmiscalculation\nmiscellaneous\nmischief\nmischievous\nmischievously\nmisconception\nmisconceptions\nmiscreant\nmiscreants\nmisdirection\nmiser\nmiserable\nmiserableness\nmiserably\nmiseries\nmiserly\nmisery\nmisfit\nmisfortune\nmisgiving\nmisgivings\nmisguidance\nmisguide\nmisguided\nmishandle\nmishap\nmisinform\nmisinformed\nmisinterpret\nmisjudge\nmisjudgment\nmislead\nmisleading\nmisleadingly\nmislike\nmismanage\nmispronounce\nmispronounced\nmispronounces\nmisread\nmisreading\nmisrepresent\nmisrepresentation\nmiss\nmissed\nmisses\nmisstatement\nmist\nmistake\nmistaken\nmistakenly\nmistakes\nmistified\nmistress\nmistrust\nmistrustful\nmistrustfully\nmists\nmisunderstand\nmisunderstanding\nmisunderstandings\nmisunderstood\nmisuse\nmoan\nmobster\nmock\nmocked\nmockeries\nmockery\nmocking\nmockingly\nmocks\nmolest\nmolestation\nmonotonous\nmonotony\nmonster\nmonstrosities\nmonstrosity\nmonstrous\nmonstrously\nmoody\nmoot\nmope\nmorbid\nmorbidly\nmordant\nmordantly\nmoribund\nmoron\nmoronic\nmorons\nmortification\nmortified\nmortify\nmortifying\nmotionless\nmotley\nmourn\nmourner\nmournful\nmournfully\nmuddle\nmuddy\nmudslinger\nmudslinging\nmulish\nmulti-polarization\nmundane\nmurder\nmurderer\nmurderous\nmurderously\nmurky\nmuscle-flexing\nmushy\nmusty\nmysterious\nmysteriously\nmystery\nmystify\nmyth\nnag\nnagging\nnaive\nnaively\nnarrower\nnastily\nnastiness\nnasty\nnaughty\nnauseate\nnauseates\nnauseating\nnauseatingly\nnaïve\nnebulous\nnebulously\nneedless\nneedlessly\nneedy\nnefarious\nnefariously\nnegate\nnegation\nnegative\nnegatives\nnegativity\nneglect\nneglected\nnegligence\nnegligent\nnemesis\nnepotism\nnervous\nnervously\nnervousness\nnettle\nnettlesome\nneurotic\nneurotically\nniggle\nniggles\nnightmare\nnightmarish\nnightmarishly\nnitpick\nnitpicking\nnoise\nnoises\nnoisier\nnoisy\nnon-confidence\nnonexistent\nnonresponsive\nnonsense\nnosey\nnotoriety\nnotorious\nnotoriously\nnoxious\nnuisance\nnumb\nobese\nobject\nobjection\nobjectionable\nobjections\noblique\nobliterate\nobliterated\noblivious\nobnoxious\nobnoxiously\nobscene\nobscenely\nobscenity\nobscure\nobscured\nobscures\nobscurity\nobsess\nobsessive\nobsessively\nobsessiveness\nobsolete\nobstacle\nobstinate\nobstinately\nobstruct\nobstructed\nobstructing\nobstruction\nobstructs\nobtrusive\nobtuse\nocclude\noccluded\noccludes\noccluding\nodd\nodder\noddest\noddities\noddity\noddly\nodor\noffence\noffend\noffender\noffending\noffenses\noffensive\noffensively\noffensiveness\nofficious\nominous\nominously\nomission\nomit\none-sided\nonerous\nonerously\nonslaught\nopinionated\nopponent\nopportunistic\noppose\nopposition\noppositions\noppress\noppression\noppressive\noppressively\noppressiveness\noppressors\nordeal\norphan\nostracize\noutbreak\noutburst\noutbursts\noutcast\noutcry\noutlaw\noutmoded\noutrage\noutraged\noutrageous\noutrageously\noutrageousness\noutrages\noutsider\nover-acted\nover-awe\nover-balanced\nover-hyped\nover-priced\nover-valuation\noveract\noveracted\noverawe\noverbalance\noverbalanced\noverbearing\noverbearingly\noverblown\noverdo\noverdone\noverdue\noveremphasize\noverheat\noverkill\noverloaded\noverlook\noverpaid\noverpayed\noverplay\noverpower\noverpriced\noverrated\noverreach\noverrun\novershadow\noversight\noversights\noversimplification\noversimplified\noversimplify\noversize\noverstate\noverstated\noverstatement\noverstatements\noverstates\novertaxed\noverthrow\noverthrows\noverturn\noverweight\noverwhelm\noverwhelmed\noverwhelming\noverwhelmingly\noverwhelms\noverzealous\noverzealously\noverzelous\npain\npainful\npainfull\npainfully\npains\npale\npales\npaltry\npan\npandemonium\npander\npandering\npanders\npanic\npanick\npanicked\npanicking\npanicky\nparadoxical\nparadoxically\nparalize\nparalyzed\nparanoia\nparanoid\nparasite\npariah\nparody\npartiality\npartisan\npartisans\npasse\npassive\npassiveness\npathetic\npathetically\npatronize\npaucity\npauper\npaupers\npayback\npeculiar\npeculiarly\npedantic\npeeled\npeeve\npeeved\npeevish\npeevishly\npenalize\npenalty\nperfidious\nperfidity\nperfunctory\nperil\nperilous\nperilously\nperish\npernicious\nperplex\nperplexed\nperplexing\nperplexity\npersecute\npersecution\npertinacious\npertinaciously\npertinacity\nperturb\nperturbed\npervasive\nperverse\nperversely\nperversion\nperversity\npervert\nperverted\nperverts\npessimism\npessimistic\npessimistically\npest\npestilent\npetrified\npetrify\npettifog\npetty\nphobia\nphobic\nphony\npicket\npicketed\npicketing\npickets\npicky\npig\npigs\npillage\npillory\npimple\npinch\npique\npitiable\npitiful\npitifully\npitiless\npitilessly\npittance\npity\nplagiarize\nplague\nplasticky\nplaything\nplea\npleas\nplebeian\nplight\nplot\nplotters\nploy\nplunder\nplunderer\npointless\npointlessly\npoison\npoisonous\npoisonously\npokey\npoky\npolarisation\npolemize\npollute\npolluter\npolluters\npolution\npompous\npoor\npoorer\npoorest\npoorly\nposturing\npout\npoverty\npowerless\nprate\npratfall\nprattle\nprecarious\nprecariously\nprecipitate\nprecipitous\npredatory\npredicament\nprejudge\nprejudice\nprejudices\nprejudicial\npremeditated\npreoccupy\npreposterous\npreposterously\npresumptuous\npresumptuously\npretence\npretend\npretense\npretentious\npretentiously\nprevaricate\npricey\npricier\nprick\nprickle\nprickles\nprideful\nprik\nprimitive\nprison\nprisoner\nproblem\nproblematic\nproblems\nprocrastinate\nprocrastinates\nprocrastination\nprofane\nprofanity\nprohibit\nprohibitive\nprohibitively\npropaganda\npropagandize\nproprietary\nprosecute\nprotest\nprotested\nprotesting\nprotests\nprotracted\nprovocation\nprovocative\nprovoke\npry\npugnacious\npugnaciously\npugnacity\npunch\npunish\npunishable\npunitive\npunk\npuny\npuppet\npuppets\npuzzled\npuzzlement\npuzzling\nquack\nqualm\nqualms\nquandary\nquarrel\nquarrellous\nquarrellously\nquarrels\nquarrelsome\nquash\nqueer\nquestionable\nquibble\nquibbles\nquitter\nrabid\nracism\nracist\nracists\nracy\nradical\nradicalization\nradically\nradicals\nrage\nragged\nraging\nrail\nraked\nrampage\nrampant\nramshackle\nrancor\nrandomly\nrankle\nrant\nranted\nranting\nrantingly\nrants\nrape\nraped\nraping\nrascal\nrascals\nrash\nrattle\nrattled\nrattles\nravage\nraving\nreactionary\nrebellious\nrebuff\nrebuke\nrecalcitrant\nrecant\nrecession\nrecessionary\nreckless\nrecklessly\nrecklessness\nrecoil\nrecourses\nredundancy\nredundant\nrefusal\nrefuse\nrefused\nrefuses\nrefusing\nrefutation\nrefute\nrefuted\nrefutes\nrefuting\nregress\nregression\nregressive\nregret\nregreted\nregretful\nregretfully\nregrets\nregrettable\nregrettably\nregretted\nreject\nrejected\nrejecting\nrejection\nrejects\nrelapse\nrelentless\nrelentlessly\nrelentlessness\nreluctance\nreluctant\nreluctantly\nremorse\nremorseful\nremorsefully\nremorseless\nremorselessly\nremorselessness\nrenounce\nrenunciation\nrepel\nrepetitive\nreprehensible\nreprehensibly\nreprehension\nreprehensive\nrepress\nrepression\nrepressive\nreprimand\nreproach\nreproachful\nreprove\nreprovingly\nrepudiate\nrepudiation\nrepugn\nrepugnance\nrepugnant\nrepugnantly\nrepulse\nrepulsed\nrepulsing\nrepulsive\nrepulsively\nrepulsiveness\nresent\nresentful\nresentment\nresignation\nresigned\nresistance\nrestless\nrestlessness\nrestrict\nrestricted\nrestriction\nrestrictive\nresurgent\nretaliate\nretaliatory\nretard\nretarded\nretardedness\nretards\nreticent\nretract\nretreat\nretreated\nrevenge\nrevengeful\nrevengefully\nrevert\nrevile\nreviled\nrevoke\nrevolt\nrevolting\nrevoltingly\nrevulsion\nrevulsive\nrhapsodize\nrhetoric\nrhetorical\nricer\nridicule\nridicules\nridiculous\nridiculously\nrife\nrift\nrifts\nrigid\nrigidity\nrigidness\nrile\nriled\nrip\nrip-off\nripoff\nripped\nrisk\nrisks\nrisky\nrival\nrivalry\nroadblocks\nrocky\nrogue\nrollercoaster\nrot\nrotten\nrough\nrremediable\nrubbish\nrude\nrue\nruffian\nruffle\nruin\nruined\nruining\nruinous\nruins\nrumbling\nrumor\nrumors\nrumours\nrumple\nrun-down\nrunaway\nrupture\nrust\nrusts\nrusty\nrut\nruthless\nruthlessly\nruthlessness\nruts\nsabotage\nsack\nsacrificed\nsad\nsadden\nsadly\nsadness\nsag\nsagged\nsagging\nsaggy\nsags\nsalacious\nsanctimonious\nsap\nsarcasm\nsarcastic\nsarcastically\nsardonic\nsardonically\nsass\nsatirical\nsatirize\nsavage\nsavaged\nsavagery\nsavages\nscaly\nscam\nscams\nscandal\nscandalize\nscandalized\nscandalous\nscandalously\nscandals\nscandel\nscandels\nscant\nscapegoat\nscar\nscarce\nscarcely\nscarcity\nscare\nscared\nscarier\nscariest\nscarily\nscarred\nscars\nscary\nscathing\nscathingly\nsceptical\nscoff\nscoffingly\nscold\nscolded\nscolding\nscoldingly\nscorching\nscorchingly\nscorn\nscornful\nscornfully\nscoundrel\nscourge\nscowl\nscramble\nscrambled\nscrambles\nscrambling\nscrap\nscratch\nscratched\nscratches\nscratchy\nscream\nscreech\nscrew-up\nscrewed\nscrewed-up\nscrewy\nscuff\nscuffs\nscum\nscummy\nsecond-class\nsecond-tier\nsecretive\nsedentary\nseedy\nseethe\nseething\nself-coup\nself-criticism\nself-defeating\nself-destructive\nself-humiliation\nself-interest\nself-interested\nself-serving\nselfinterested\nselfish\nselfishly\nselfishness\nsemi-retarded\nsenile\nsensationalize\nsenseless\nsenselessly\nseriousness\nsermonize\nservitude\nset-up\nsetback\nsetbacks\nsever\nsevere\nseverity\nsh*t\nshabby\nshadowy\nshady\nshake\nshaky\nshallow\nsham\nshambles\nshame\nshameful\nshamefully\nshamefulness\nshameless\nshamelessly\nshamelessness\nshark\nsharply\nshatter\nshemale\nshimmer\nshimmy\nshipwreck\nshirk\nshirker\nshit\nshiver\nshock\nshocked\nshocking\nshockingly\nshoddy\nshort-lived\nshortage\nshortchange\nshortcoming\nshortcomings\nshortness\nshortsighted\nshortsightedness\nshowdown\nshrew\nshriek\nshrill\nshrilly\nshrivel\nshroud\nshrouded\nshrug\nshun\nshunned\nsick\nsicken\nsickening\nsickeningly\nsickly\nsickness\nsidetrack\nsidetracked\nsiege\nsillily\nsilly\nsimplistic\nsimplistically\nsin\nsinful\nsinfully\nsinister\nsinisterly\nsink\nsinking\nskeletons\nskeptic\nskeptical\nskeptically\nskepticism\nsketchy\nskimpy\nskinny\nskittish\nskittishly\nskulk\nslack\nslander\nslanderer\nslanderous\nslanderously\nslanders\nslap\nslashing\nslaughter\nslaughtered\nslave\nslaves\nsleazy\nslime\nslog\nslogged\nslogging\nslogs\nsloooooooooooooow\nsloooow\nslooow\nsloow\nsloppily\nsloppy\nsloth\nslothful\nslow\nslow-moving\nslowed\nslower\nslowest\nslowly\nsloww\nslowww\nslowwww\nslug\nsluggish\nslump\nslumping\nslumpping\nslur\nslut\nsluts\nsly\nsmack\nsmallish\nsmash\nsmear\nsmell\nsmelled\nsmelling\nsmells\nsmelly\nsmelt\nsmoke\nsmokescreen\nsmolder\nsmoldering\nsmother\nsmoulder\nsmouldering\nsmudge\nsmudged\nsmudges\nsmudging\nsmug\nsmugly\nsmut\nsmuttier\nsmuttiest\nsmutty\nsnag\nsnagged\nsnagging\nsnags\nsnappish\nsnappishly\nsnare\nsnarky\nsnarl\nsneak\nsneakily\nsneaky\nsneer\nsneering\nsneeringly\nsnob\nsnobbish\nsnobby\nsnobish\nsnobs\nsnub\nso-cal\nsoapy\nsob\nsober\nsobering\nsolemn\nsolicitude\nsomber\nsore\nsorely\nsoreness\nsorrow\nsorrowful\nsorrowfully\nsorry\nsour\nsourly\nspade\nspank\nspendy\nspew\nspewed\nspewing\nspews\nspilling\nspinster\nspiritless\nspite\nspiteful\nspitefully\nspitefulness\nsplatter\nsplit\nsplitting\nspoil\nspoilage\nspoilages\nspoiled\nspoilled\nspoils\nspook\nspookier\nspookiest\nspookily\nspooky\nspoon-fed\nspoon-feed\nspoonfed\nsporadic\nspotty\nspurious\nspurn\nsputter\nsquabble\nsquabbling\nsquander\nsquash\nsqueak\nsqueaks\nsqueaky\nsqueal\nsquealing\nsqueals\nsquirm\nstab\nstagnant\nstagnate\nstagnation\nstaid\nstain\nstains\nstale\nstalemate\nstall\nstalls\nstammer\nstampede\nstandstill\nstark\nstarkly\nstartle\nstartling\nstartlingly\nstarvation\nstarve\nstatic\nsteal\nstealing\nsteals\nsteep\nsteeply\nstench\nstereotype\nstereotypical\nstereotypically\nstern\nstew\nsticky\nstiff\nstiffness\nstifle\nstifling\nstiflingly\nstigma\nstigmatize\nsting\nstinging\nstingingly\nstingy\nstink\nstinks\nstodgy\nstole\nstolen\nstooge\nstooges\nstormy\nstraggle\nstraggler\nstrain\nstrained\nstraining\nstrange\nstrangely\nstranger\nstrangest\nstrangle\nstreaky\nstrenuous\nstress\nstresses\nstressful\nstressfully\nstricken\nstrict\nstrictly\nstrident\nstridently\nstrife\nstrike\nstringent\nstringently\nstruck\nstruggle\nstruggled\nstruggles\nstruggling\nstrut\nstubborn\nstubbornly\nstubbornness\nstuck\nstuffy\nstumble\nstumbled\nstumbles\nstump\nstumped\nstumps\nstun\nstunt\nstunted\nstupid\nstupidest\nstupidity\nstupidly\nstupified\nstupify\nstupor\nstutter\nstuttered\nstuttering\nstutters\nsty\nstymied\nsub-par\nsubdued\nsubjected\nsubjection\nsubjugate\nsubjugation\nsubmissive\nsubordinate\nsubpoena\nsubpoenas\nsubservience\nsubservient\nsubstandard\nsubtract\nsubversion\nsubversive\nsubversively\nsubvert\nsuccumb\nsuck\nsucked\nsucker\nsucks\nsucky\nsue\nsued\nsueing\nsues\nsuffer\nsuffered\nsufferer\nsufferers\nsuffering\nsuffers\nsuffocate\nsugar-coat\nsugar-coated\nsugarcoated\nsuicidal\nsuicide\nsulk\nsullen\nsully\nsunder\nsunk\nsunken\nsuperficial\nsuperficiality\nsuperficially\nsuperfluous\nsuperstition\nsuperstitious\nsuppress\nsuppression\nsurrender\nsusceptible\nsuspect\nsuspicion\nsuspicions\nsuspicious\nsuspiciously\nswagger\nswamped\nsweaty\nswelled\nswelling\nswindle\nswipe\nswollen\nsymptom\nsymptoms\nsyndrome\ntaboo\ntacky\ntaint\ntainted\ntamper\ntangle\ntangled\ntangles\ntank\ntanked\ntanks\ntantrum\ntardy\ntarnish\ntarnished\ntarnishes\ntarnishing\ntattered\ntaunt\ntaunting\ntauntingly\ntaunts\ntaut\ntawdry\ntaxing\ntease\nteasingly\ntedious\ntediously\ntemerity\ntemper\ntempest\ntemptation\ntenderness\ntense\ntension\ntentative\ntentatively\ntenuous\ntenuously\ntepid\nterrible\nterribleness\nterribly\nterror\nterror-genic\nterrorism\nterrorize\ntestily\ntesty\ntetchily\ntetchy\nthankless\nthicker\nthirst\nthorny\nthoughtless\nthoughtlessly\nthoughtlessness\nthrash\nthreat\nthreaten\nthreatening\nthreats\nthreesome\nthrob\nthrobbed\nthrobbing\nthrobs\nthrottle\nthug\nthumb-down\nthumbs-down\nthwart\ntime-consuming\ntimid\ntimidity\ntimidly\ntimidness\ntin-y\ntingled\ntingling\ntired\ntiresome\ntiring\ntiringly\ntoil\ntoll\ntop-heavy\ntopple\ntorment\ntormented\ntorrent\ntortuous\ntorture\ntortured\ntortures\ntorturing\ntorturous\ntorturously\ntotalitarian\ntouchy\ntoughness\ntout\ntouted\ntouts\ntoxic\ntraduce\ntragedy\ntragic\ntragically\ntraitor\ntraitorous\ntraitorously\ntramp\ntrample\ntransgress\ntransgression\ntrap\ntraped\ntrapped\ntrash\ntrashed\ntrashy\ntrauma\ntraumatic\ntraumatically\ntraumatize\ntraumatized\ntravesties\ntravesty\ntreacherous\ntreacherously\ntreachery\ntreason\ntreasonous\ntrick\ntricked\ntrickery\ntricky\ntrivial\ntrivialize\ntrouble\ntroubled\ntroublemaker\ntroubles\ntroublesome\ntroublesomely\ntroubling\ntroublingly\ntruant\ntumble\ntumbled\ntumbles\ntumultuous\nturbulent\nturmoil\ntwist\ntwisted\ntwists\ntwo-faced\ntwo-faces\ntyrannical\ntyrannically\ntyranny\ntyrant\nugh\nuglier\nugliest\nugliness\nugly\nulterior\nultimatum\nultimatums\nultra-hardline\nun-viewable\nunable\nunacceptable\nunacceptablely\nunacceptably\nunaccessible\nunaccustomed\nunachievable\nunaffordable\nunappealing\nunattractive\nunauthentic\nunavailable\nunavoidably\nunbearable\nunbearablely\nunbelievable\nunbelievably\nuncaring\nuncertain\nuncivil\nuncivilized\nunclean\nunclear\nuncollectible\nuncomfortable\nuncomfortably\nuncomfy\nuncompetitive\nuncompromising\nuncompromisingly\nunconfirmed\nunconstitutional\nuncontrolled\nunconvincing\nunconvincingly\nuncooperative\nuncouth\nuncreative\nundecided\nundefined\nundependability\nundependable\nundercut\nundercuts\nundercutting\nunderdog\nunderestimate\nunderlings\nundermine\nundermined\nundermines\nundermining\nunderpaid\nunderpowered\nundersized\nundesirable\nundetermined\nundid\nundignified\nundissolved\nundocumented\nundone\nundue\nunease\nuneasily\nuneasiness\nuneasy\nuneconomical\nunemployed\nunequal\nunethical\nuneven\nuneventful\nunexpected\nunexpectedly\nunexplained\nunfairly\nunfaithful\nunfaithfully\nunfamiliar\nunfavorable\nunfeeling\nunfinished\nunfit\nunforeseen\nunforgiving\nunfortunate\nunfortunately\nunfounded\nunfriendly\nunfulfilled\nunfunded\nungovernable\nungrateful\nunhappily\nunhappiness\nunhappy\nunhealthy\nunhelpful\nunilateralism\nunimaginable\nunimaginably\nunimportant\nuninformed\nuninsured\nunintelligible\nunintelligile\nunipolar\nunjust\nunjustifiable\nunjustifiably\nunjustified\nunjustly\nunkind\nunkindly\nunknown\nunlamentable\nunlamentably\nunlawful\nunlawfully\nunlawfulness\nunleash\nunlicensed\nunlikely\nunlucky\nunmoved\nunnatural\nunnaturally\nunnecessary\nunneeded\nunnerve\nunnerved\nunnerving\nunnervingly\nunnoticed\nunobserved\nunorthodox\nunorthodoxy\nunpleasant\nunpleasantries\nunpopular\nunpredictable\nunprepared\nunproductive\nunprofitable\nunprove\nunproved\nunproven\nunproves\nunproving\nunqualified\nunravel\nunraveled\nunreachable\nunreadable\nunrealistic\nunreasonable\nunreasonably\nunrelenting\nunrelentingly\nunreliability\nunreliable\nunresolved\nunresponsive\nunrest\nunruly\nunsafe\nunsatisfactory\nunsavory\nunscrupulous\nunscrupulously\nunsecure\nunseemly\nunsettle\nunsettled\nunsettling\nunsettlingly\nunskilled\nunsophisticated\nunsound\nunspeakable\nunspeakablely\nunspecified\nunstable\nunsteadily\nunsteadiness\nunsteady\nunsuccessful\nunsuccessfully\nunsupported\nunsupportive\nunsure\nunsuspecting\nunsustainable\nuntenable\nuntested\nunthinkable\nunthinkably\nuntimely\nuntouched\nuntrue\nuntrustworthy\nuntruthful\nunusable\nunusably\nunuseable\nunuseably\nunusual\nunusually\nunviewable\nunwanted\nunwarranted\nunwatchable\nunwelcome\nunwell\nunwieldy\nunwilling\nunwillingly\nunwillingness\nunwise\nunwisely\nunworkable\nunworthy\nunyielding\nupbraid\nupheaval\nuprising\nuproar\nuproarious\nuproariously\nuproarous\nuproarously\nuproot\nupset\nupseting\nupsets\nupsetting\nupsettingly\nurgent\nuseless\nusurp\nusurper\nutterly\nvagrant\nvague\nvagueness\nvain\nvainly\nvanity\nvehement\nvehemently\nvengeance\nvengeful\nvengefully\nvengefulness\nvenom\nvenomous\nvenomously\nvent\nvestiges\nvex\nvexation\nvexing\nvexingly\nvibrate\nvibrated\nvibrates\nvibrating\nvibration\nvice\nvicious\nviciously\nviciousness\nvictimize\nvile\nvileness\nvilify\nvillainous\nvillainously\nvillains\nvillian\nvillianous\nvillianously\nvillify\nvindictive\nvindictively\nvindictiveness\nviolate\nviolation\nviolator\nviolators\nviolent\nviolently\nviper\nvirulence\nvirulent\nvirulently\nvirus\nvociferous\nvociferously\nvolatile\nvolatility\nvomit\nvomited\nvomiting\nvomits\nvulgar\nvulnerable\nwack\nwail\nwallow\nwane\nwaning\nwanton\nwar-like\nwarily\nwariness\nwarlike\nwarned\nwarning\nwarp\nwarped\nwary\nwashed-out\nwaste\nwasted\nwasteful\nwastefulness\nwasting\nwater-down\nwatered-down\nwayward\nweak\nweaken\nweakening\nweaker\nweakness\nweaknesses\nweariness\nwearisome\nweary\nwedge\nweed\nweep\nweird\nweirdly\nwheedle\nwhimper\nwhine\nwhining\nwhiny\nwhips\nwhore\nwhores\nwicked\nwickedly\nwickedness\nwild\nwildly\nwiles\nwilt\nwily\nwimpy\nwince\nwobble\nwobbled\nwobbles\nwoe\nwoebegone\nwoeful\nwoefully\nwomanizer\nwomanizing\nworn\nworried\nworriedly\nworrier\nworries\nworrisome\nworry\nworrying\nworryingly\nworse\nworsen\nworsening\nworst\nworthless\nworthlessly\nworthlessness\nwound\nwounds\nwrangle\nwrath\nwreak\nwreaked\nwreaks\nwreck\nwrest\nwrestle\nwretch\nwretched\nwretchedly\nwretchedness\nwrinkle\nwrinkled\nwrinkles\nwrip\nwripped\nwripping\nwrithe\nwrong\nwrongful\nwrongly\nwrought\nyawn\nzap\nzapped\nzaps\nzealot\nzealous\nzealously\nzombie\n\n"</td>
        </tr>
        <tr>
          <td id="file-assignment-11-text-mining-ipynb-L855" class="blob-num js-line-number js-code-nav-line-number js-blob-rnum" data-line-number="855"></td>
          <td id="file-assignment-11-text-mining-ipynb-LC855" class="blob-code blob-code-inner js-file-line">        }</td>
        </tr>
        <tr>
          <td id="file-assignment-11-text-mining-ipynb-L856" class="blob-num js-line-number js-code-nav-line-number js-blob-rnum" data-line-number="856"></td>
          <td id="file-assignment-11-text-mining-ipynb-LC856" class="blob-code blob-code-inner js-file-line">      ]</td>
        </tr>
        <tr>
          <td id="file-assignment-11-text-mining-ipynb-L857" class="blob-num js-line-number js-code-nav-line-number js-blob-rnum" data-line-number="857"></td>
          <td id="file-assignment-11-text-mining-ipynb-LC857" class="blob-code blob-code-inner js-file-line">    },</td>
        </tr>
        <tr>
          <td id="file-assignment-11-text-mining-ipynb-L858" class="blob-num js-line-number js-code-nav-line-number js-blob-rnum" data-line-number="858"></td>
          <td id="file-assignment-11-text-mining-ipynb-LC858" class="blob-code blob-code-inner js-file-line">    {</td>
        </tr>
        <tr>
          <td id="file-assignment-11-text-mining-ipynb-L859" class="blob-num js-line-number js-code-nav-line-number js-blob-rnum" data-line-number="859"></td>
          <td id="file-assignment-11-text-mining-ipynb-LC859" class="blob-code blob-code-inner js-file-line">      <span class="pl-ent">"metadata"</span>: {</td>
        </tr>
        <tr>
          <td id="file-assignment-11-text-mining-ipynb-L860" class="blob-num js-line-number js-code-nav-line-number js-blob-rnum" data-line-number="860"></td>
          <td id="file-assignment-11-text-mining-ipynb-LC860" class="blob-code blob-code-inner js-file-line">        <span class="pl-ent">"trusted"</span>: <span class="pl-c1">false</span></td>
        </tr>
        <tr>
          <td id="file-assignment-11-text-mining-ipynb-L861" class="blob-num js-line-number js-code-nav-line-number js-blob-rnum" data-line-number="861"></td>
          <td id="file-assignment-11-text-mining-ipynb-LC861" class="blob-code blob-code-inner js-file-line">      },</td>
        </tr>
        <tr>
          <td id="file-assignment-11-text-mining-ipynb-L862" class="blob-num js-line-number js-code-nav-line-number js-blob-rnum" data-line-number="862"></td>
          <td id="file-assignment-11-text-mining-ipynb-LC862" class="blob-code blob-code-inner js-file-line">      <span class="pl-ent">"cell_type"</span>: <span class="pl-s"><span class="pl-pds">"</span>code<span class="pl-pds">"</span></span>,</td>
        </tr>
        <tr>
          <td id="file-assignment-11-text-mining-ipynb-L863" class="blob-num js-line-number js-code-nav-line-number js-blob-rnum" data-line-number="863"></td>
          <td id="file-assignment-11-text-mining-ipynb-LC863" class="blob-code blob-code-inner js-file-line">      <span class="pl-ent">"source"</span>: <span class="pl-s"><span class="pl-pds">"</span>with codecs.open(<span class="pl-cce">\"</span>stop.txt<span class="pl-cce">\"</span>, <span class="pl-cce">\"</span>r<span class="pl-cce">\"</span>, encoding=<span class="pl-cce">\"</span>ISO-8859-1<span class="pl-cce">\"</span>) as s:<span class="pl-cce">\n</span>    stop = s.read()<span class="pl-cce">\n</span>    print(stop)<span class="pl-pds">"</span></span>,</td>
        </tr>
        <tr>
          <td id="file-assignment-11-text-mining-ipynb-L864" class="blob-num js-line-number js-code-nav-line-number js-blob-rnum" data-line-number="864"></td>
          <td id="file-assignment-11-text-mining-ipynb-LC864" class="blob-code blob-code-inner js-file-line">      <span class="pl-ent">"execution_count"</span>: <span class="pl-c1">39</span>,</td>
        </tr>
        <tr>
          <td id="file-assignment-11-text-mining-ipynb-L865" class="blob-num js-line-number js-code-nav-line-number js-blob-rnum" data-line-number="865"></td>
          <td id="file-assignment-11-text-mining-ipynb-LC865" class="blob-code blob-code-inner js-file-line">      <span class="pl-ent">"outputs"</span>: [</td>
        </tr>
        <tr>
          <td id="file-assignment-11-text-mining-ipynb-L866" class="blob-num js-line-number js-code-nav-line-number js-blob-rnum" data-line-number="866"></td>
          <td id="file-assignment-11-text-mining-ipynb-LC866" class="blob-code blob-code-inner js-file-line">        {</td>
        </tr>
        <tr>
          <td id="file-assignment-11-text-mining-ipynb-L867" class="blob-num js-line-number js-code-nav-line-number js-blob-rnum" data-line-number="867"></td>
          <td id="file-assignment-11-text-mining-ipynb-LC867" class="blob-code blob-code-inner js-file-line">          <span class="pl-ent">"name"</span>: <span class="pl-s"><span class="pl-pds">"</span>stdout<span class="pl-pds">"</span></span>,</td>
        </tr>
        <tr>
          <td id="file-assignment-11-text-mining-ipynb-L868" class="blob-num js-line-number js-code-nav-line-number js-blob-rnum" data-line-number="868"></td>
          <td id="file-assignment-11-text-mining-ipynb-LC868" class="blob-code blob-code-inner js-file-line">          <span class="pl-ent">"output_type"</span>: <span class="pl-s"><span class="pl-pds">"</span>stream<span class="pl-pds">"</span></span>,</td>
        </tr>
        <tr>
          <td id="file-assignment-11-text-mining-ipynb-L869" class="blob-num js-line-number js-code-nav-line-number js-blob-rnum" data-line-number="869"></td>
          <td id="file-assignment-11-text-mining-ipynb-LC869" class="blob-code blob-code-inner js-file-line">          "text": "a\r\na's\r\nable\r\nabout\r\nabove\r\naccording\r\naccordingly\r\nacross\r\nactually\r\nafter\r\nafterwards\r\nagain\r\nagainst\r\nain't\r\nall\r\nallow\r\nallows\r\nalmost\r\nalone\r\nalong\r\nalready\r\nalso\r\nalthough\r\nalways\r\nam\r\namong\r\namongst\r\nan\r\nand\r\nanother\r\nany\r\nanybody\r\nanyhow\r\nanyone\r\nanything\r\nanyway\r\nanyways\r\nanywhere\r\napart\r\nappear\r\nappreciate\r\nappropriate\r\nare\r\naren't\r\naround\r\nas\r\naside\r\nask\r\nasking\r\nassociated\r\nat\r\navailable\r\naway\r\nawfully\r\nb\r\nbe\r\nbecame\r\nbecause\r\nbecome\r\nbecomes\r\nbecoming\r\nbeen\r\nbefore\r\nbeforehand\r\nbehind\r\nbeing\r\nbelieve\r\nbelow\r\nbeside\r\nbesides\r\nbest\r\nbetter\r\nbetween\r\nbeyond\r\nboth\r\nbrief\r\nbut\r\nby\r\nc\r\nc'mon\r\nc's\r\ncame\r\ncan\r\ncan't\r\ncannot\r\ncant\r\ncause\r\ncauses\r\ncertain\r\ncertainly\r\nchanges\r\nclearly\r\nco\r\ncom\r\ncome\r\ncomes\r\nconcerning\r\nconsequently\r\nconsider\r\nconsidering\r\ncontain\r\ncontaining\r\ncontains\r\ncorresponding\r\ncould\r\ncouldn't\r\ncourse\r\ncurrently\r\nd\r\ndefinitely\r\ndescribed\r\ndespite\r\ndid\r\ndidn't\r\ndifferent\r\ndo\r\ndoes\r\ndoesn't\r\ndoing\r\ndon't\r\ndone\r\ndown\r\ndownwards\r\nduring\r\ne\r\neach\r\nedu\r\neg\r\neight\r\neither\r\nelse\r\nelsewhere\r\nenough\r\nentirely\r\nespecially\r\net\r\netc\r\neven\r\never\r\nevery\r\neverybody\r\neveryone\r\neverything\r\neverywhere\r\nex\r\nexactly\r\nexample\r\nexcept\r\nf\r\nfar\r\nfew\r\nfifth\r\nfirst\r\nfive\r\nfollowed\r\nfollowing\r\nfollows\r\nfor\r\nformer\r\nformerly\r\nforth\r\nfour\r\nfrom\r\nfurther\r\nfurthermore\r\ng\r\nget\r\ngets\r\ngetting\r\ngiven\r\ngives\r\ngo\r\ngoes\r\ngoing\r\ngone\r\ngot\r\ngotten\r\ngreetings\r\nh\r\nhad\r\nhadn't\r\nhappens\r\nhardly\r\nhas\r\nhasn't\r\nhave\r\nhaven't\r\nhaving\r\nhe\r\nhe's\r\nhello\r\nhelp\r\nhence\r\nher\r\nhere\r\nhere's\r\nhereafter\r\nhereby\r\nherein\r\nhereupon\r\nhers\r\nherself\r\nhi\r\nhim\r\nhimself\r\nhis\r\nhither\r\nhopefully\r\nhow\r\nhowbeit\r\nhowever\r\ni\r\ni'd\r\ni'll\r\ni'm\r\ni've\r\nie\r\nif\r\nignored\r\nimmediate\r\nin\r\ninasmuch\r\ninc\r\nindeed\r\nindicate\r\nindicated\r\nindicates\r\ninner\r\ninsofar\r\ninstead\r\ninto\r\ninward\r\nis\r\nisn't\r\nit\r\nit'd\r\nit'll\r\nit's\r\nits\r\nitself\r\nj\r\njust\r\nk\r\nkeep\r\nkeeps\r\nkept\r\nknow\r\nknows\r\nknown\r\nl\r\nlast\r\nlately\r\nlater\r\nlatter\r\nlatterly\r\nleast\r\nless\r\nlest\r\nlet\r\nlet's\r\nlike\r\nliked\r\nlikely\r\nlittle\r\nlook\r\nlooking\r\nlooks\r\nltd\r\nm\r\nmainly\r\nmany\r\nmay\r\nmaybe\r\nme\r\nmean\r\nmeanwhile\r\nmerely\r\nmight\r\nmore\r\nmoreover\r\nmost\r\nmostly\r\nmuch\r\nmust\r\nmy\r\nmyself\r\nn\r\nname\r\nnamely\r\nnd\r\nnear\r\nnearly\r\nnecessary\r\nneed\r\nneeds\r\nneither\r\nnever\r\nnevertheless\r\nnew\r\nnext\r\nnine\r\nno\r\nnobody\r\nnon\r\nnone\r\nnoone\r\nnor\r\nnormally\r\nnot\r\nnothing\r\nnovel\r\nnow\r\nnowhere\r\no\r\nobviously\r\nof\r\noff\r\noften\r\noh\r\nok\r\nokay\r\nold\r\non\r\nonce\r\none\r\nones\r\nonly\r\nonto\r\nor\r\nother\r\nothers\r\notherwise\r\nought\r\nour\r\nours\r\nourselves\r\nout\r\noutside\r\nover\r\noverall\r\nown\r\np\r\nparticular\r\nparticularly\r\nper\r\nperhaps\r\nplaced\r\nplease\r\nplus\r\npossible\r\npresumably\r\nprobably\r\nprovides\r\nq\r\nque\r\nquite\r\nqv\r\nr\r\nrather\r\nrd\r\nre\r\nreally\r\nreasonably\r\nregarding\r\nregardless\r\nregards\r\nrelatively\r\nrespectively\r\nright\r\ns\r\nsaid\r\nsame\r\nsaw\r\nsay\r\nsaying\r\nsays\r\nsecond\r\nsecondly\r\nsee\r\nseeing\r\nseem\r\nseemed\r\nseeming\r\nseems\r\nseen\r\nself\r\nselves\r\nsensible\r\nsent\r\nserious\r\nseriously\r\nseven\r\nseveral\r\nshall\r\nshe\r\nshould\r\nshouldn't\r\nsince\r\nsix\r\nso\r\nsome\r\nsomebody\r\nsomehow\r\nsomeone\r\nsomething\r\nsometime\r\nsometimes\r\nsomewhat\r\nsomewhere\r\nsoon\r\nsorry\r\nspecified\r\nspecify\r\nspecifying\r\nstill\r\nsub\r\nsuch\r\nsup\r\nsure\r\nt\r\nt's\r\ntake\r\ntaken\r\ntell\r\ntends\r\nth\r\nthan\r\nthank\r\nthanks\r\nthanx\r\nthat\r\nthat's\r\nthats\r\nthe\r\ntheir\r\ntheirs\r\nthem\r\nthemselves\r\nthen\r\nthence\r\nthere\r\nthere's\r\nthereafter\r\nthereby\r\ntherefore\r\ntherein\r\ntheres\r\nthereupon\r\nthese\r\nthey\r\nthey'd\r\nthey'll\r\nthey're\r\nthey've\r\nthink\r\nthird\r\nthis\r\nthorough\r\nthoroughly\r\nthose\r\nthough\r\nthree\r\nthrough\r\nthroughout\r\nthru\r\nthus\r\nto\r\ntogether\r\ntoo\r\ntook\r\ntoward\r\ntowards\r\ntried\r\ntries\r\ntruly\r\ntry\r\ntrying\r\ntwice\r\ntwo\r\nu\r\nun\r\nunder\r\nunfortunately\r\nunless\r\nunlikely\r\nuntil\r\nunto\r\nup\r\nupon\r\nus\r\nuse\r\nused\r\nuseful\r\nuses\r\nusing\r\nusually\r\nuucp\r\nv\r\nvalue\r\nvarious\r\nvery\r\nvia\r\nviz\r\nvs\r\nw\r\nwant\r\nwants\r\nwas\r\nwasn't\r\nway\r\nwe\r\nwe'd\r\nwe'll\r\nwe're\r\nwe've\r\nwelcome\r\nwell\r\nwent\r\nwere\r\nweren't\r\nwhat\r\nwhat's\r\nwhatever\r\nwhen\r\nwhence\r\nwhenever\r\nwhere\r\nwhere's\r\nwhereafter\r\nwhereas\r\nwhereby\r\nwherein\r\nwhereupon\r\nwherever\r\nwhether\r\nwhich\r\nwhile\r\nwhither\r\nwho\r\nwho's\r\nwhoever\r\nwhole\r\nwhom\r\nwhose\r\nwhy\r\nwill\r\nwilling\r\nwish\r\nwith\r\nwithin\r\nwithout\r\nwon't\r\nwonder\r\nwould\r\nwould\r\nwouldn't\r\nx\r\ny\r\nyes\r\nyet\r\nyou\r\nyou'd\r\nyou'll\r\nyou're\r\nyou've\r\nyour\r\nyours\r\nyourself\r\nyourselves\r\nz\r\nzero\n"</td>
        </tr>
        <tr>
          <td id="file-assignment-11-text-mining-ipynb-L870" class="blob-num js-line-number js-code-nav-line-number js-blob-rnum" data-line-number="870"></td>
          <td id="file-assignment-11-text-mining-ipynb-LC870" class="blob-code blob-code-inner js-file-line">        }</td>
        </tr>
        <tr>
          <td id="file-assignment-11-text-mining-ipynb-L871" class="blob-num js-line-number js-code-nav-line-number js-blob-rnum" data-line-number="871"></td>
          <td id="file-assignment-11-text-mining-ipynb-LC871" class="blob-code blob-code-inner js-file-line">      ]</td>
        </tr>
        <tr>
          <td id="file-assignment-11-text-mining-ipynb-L872" class="blob-num js-line-number js-code-nav-line-number js-blob-rnum" data-line-number="872"></td>
          <td id="file-assignment-11-text-mining-ipynb-LC872" class="blob-code blob-code-inner js-file-line">    },</td>
        </tr>
        <tr>
          <td id="file-assignment-11-text-mining-ipynb-L873" class="blob-num js-line-number js-code-nav-line-number js-blob-rnum" data-line-number="873"></td>
          <td id="file-assignment-11-text-mining-ipynb-LC873" class="blob-code blob-code-inner js-file-line">    {</td>
        </tr>
        <tr>
          <td id="file-assignment-11-text-mining-ipynb-L874" class="blob-num js-line-number js-code-nav-line-number js-blob-rnum" data-line-number="874"></td>
          <td id="file-assignment-11-text-mining-ipynb-LC874" class="blob-code blob-code-inner js-file-line">      <span class="pl-ent">"metadata"</span>: {</td>
        </tr>
        <tr>
          <td id="file-assignment-11-text-mining-ipynb-L875" class="blob-num js-line-number js-code-nav-line-number js-blob-rnum" data-line-number="875"></td>
          <td id="file-assignment-11-text-mining-ipynb-LC875" class="blob-code blob-code-inner js-file-line">        <span class="pl-ent">"trusted"</span>: <span class="pl-c1">false</span></td>
        </tr>
        <tr>
          <td id="file-assignment-11-text-mining-ipynb-L876" class="blob-num js-line-number js-code-nav-line-number js-blob-rnum" data-line-number="876"></td>
          <td id="file-assignment-11-text-mining-ipynb-LC876" class="blob-code blob-code-inner js-file-line">      },</td>
        </tr>
        <tr>
          <td id="file-assignment-11-text-mining-ipynb-L877" class="blob-num js-line-number js-code-nav-line-number js-blob-rnum" data-line-number="877"></td>
          <td id="file-assignment-11-text-mining-ipynb-LC877" class="blob-code blob-code-inner js-file-line">      <span class="pl-ent">"cell_type"</span>: <span class="pl-s"><span class="pl-pds">"</span>code<span class="pl-pds">"</span></span>,</td>
        </tr>
        <tr>
          <td id="file-assignment-11-text-mining-ipynb-L878" class="blob-num js-line-number js-code-nav-line-number js-blob-rnum" data-line-number="878"></td>
          <td id="file-assignment-11-text-mining-ipynb-LC878" class="blob-code blob-code-inner js-file-line">      <span class="pl-ent">"source"</span>: <span class="pl-s"><span class="pl-pds">"</span>from nltk.corpus import twitter_samples<span class="pl-cce">\n\n</span>positive_tweets = twitter_samples.strings('positive_tweets.json')<span class="pl-cce">\n</span>negative_tweets = twitter_samples.strings('negative_tweets.json')<span class="pl-cce">\n</span>text = twitter_samples.strings('tweets.20150430-223406.json')<span class="pl-pds">"</span></span>,</td>
        </tr>
        <tr>
          <td id="file-assignment-11-text-mining-ipynb-L879" class="blob-num js-line-number js-code-nav-line-number js-blob-rnum" data-line-number="879"></td>
          <td id="file-assignment-11-text-mining-ipynb-LC879" class="blob-code blob-code-inner js-file-line">      <span class="pl-ent">"execution_count"</span>: <span class="pl-c1">41</span>,</td>
        </tr>
        <tr>
          <td id="file-assignment-11-text-mining-ipynb-L880" class="blob-num js-line-number js-code-nav-line-number js-blob-rnum" data-line-number="880"></td>
          <td id="file-assignment-11-text-mining-ipynb-LC880" class="blob-code blob-code-inner js-file-line">      <span class="pl-ent">"outputs"</span>: []</td>
        </tr>
        <tr>
          <td id="file-assignment-11-text-mining-ipynb-L881" class="blob-num js-line-number js-code-nav-line-number js-blob-rnum" data-line-number="881"></td>
          <td id="file-assignment-11-text-mining-ipynb-LC881" class="blob-code blob-code-inner js-file-line">    },</td>
        </tr>
        <tr>
          <td id="file-assignment-11-text-mining-ipynb-L882" class="blob-num js-line-number js-code-nav-line-number js-blob-rnum" data-line-number="882"></td>
          <td id="file-assignment-11-text-mining-ipynb-LC882" class="blob-code blob-code-inner js-file-line">    {</td>
        </tr>
        <tr>
          <td id="file-assignment-11-text-mining-ipynb-L883" class="blob-num js-line-number js-code-nav-line-number js-blob-rnum" data-line-number="883"></td>
          <td id="file-assignment-11-text-mining-ipynb-LC883" class="blob-code blob-code-inner js-file-line">      <span class="pl-ent">"metadata"</span>: {</td>
        </tr>
        <tr>
          <td id="file-assignment-11-text-mining-ipynb-L884" class="blob-num js-line-number js-code-nav-line-number js-blob-rnum" data-line-number="884"></td>
          <td id="file-assignment-11-text-mining-ipynb-LC884" class="blob-code blob-code-inner js-file-line">        <span class="pl-ent">"trusted"</span>: <span class="pl-c1">false</span></td>
        </tr>
        <tr>
          <td id="file-assignment-11-text-mining-ipynb-L885" class="blob-num js-line-number js-code-nav-line-number js-blob-rnum" data-line-number="885"></td>
          <td id="file-assignment-11-text-mining-ipynb-LC885" class="blob-code blob-code-inner js-file-line">      },</td>
        </tr>
        <tr>
          <td id="file-assignment-11-text-mining-ipynb-L886" class="blob-num js-line-number js-code-nav-line-number js-blob-rnum" data-line-number="886"></td>
          <td id="file-assignment-11-text-mining-ipynb-LC886" class="blob-code blob-code-inner js-file-line">      <span class="pl-ent">"cell_type"</span>: <span class="pl-s"><span class="pl-pds">"</span>code<span class="pl-pds">"</span></span>,</td>
        </tr>
        <tr>
          <td id="file-assignment-11-text-mining-ipynb-L887" class="blob-num js-line-number js-code-nav-line-number js-blob-rnum" data-line-number="887"></td>
          <td id="file-assignment-11-text-mining-ipynb-LC887" class="blob-code blob-code-inner js-file-line">      <span class="pl-ent">"source"</span>: <span class="pl-s"><span class="pl-pds">"</span>import nltk<span class="pl-cce">\n</span>nltk.download('punkt')<span class="pl-pds">"</span></span>,</td>
        </tr>
        <tr>
          <td id="file-assignment-11-text-mining-ipynb-L888" class="blob-num js-line-number js-code-nav-line-number js-blob-rnum" data-line-number="888"></td>
          <td id="file-assignment-11-text-mining-ipynb-LC888" class="blob-code blob-code-inner js-file-line">      <span class="pl-ent">"execution_count"</span>: <span class="pl-c1">42</span>,</td>
        </tr>
        <tr>
          <td id="file-assignment-11-text-mining-ipynb-L889" class="blob-num js-line-number js-code-nav-line-number js-blob-rnum" data-line-number="889"></td>
          <td id="file-assignment-11-text-mining-ipynb-LC889" class="blob-code blob-code-inner js-file-line">      <span class="pl-ent">"outputs"</span>: [</td>
        </tr>
        <tr>
          <td id="file-assignment-11-text-mining-ipynb-L890" class="blob-num js-line-number js-code-nav-line-number js-blob-rnum" data-line-number="890"></td>
          <td id="file-assignment-11-text-mining-ipynb-LC890" class="blob-code blob-code-inner js-file-line">        {</td>
        </tr>
        <tr>
          <td id="file-assignment-11-text-mining-ipynb-L891" class="blob-num js-line-number js-code-nav-line-number js-blob-rnum" data-line-number="891"></td>
          <td id="file-assignment-11-text-mining-ipynb-LC891" class="blob-code blob-code-inner js-file-line">          <span class="pl-ent">"name"</span>: <span class="pl-s"><span class="pl-pds">"</span>stderr<span class="pl-pds">"</span></span>,</td>
        </tr>
        <tr>
          <td id="file-assignment-11-text-mining-ipynb-L892" class="blob-num js-line-number js-code-nav-line-number js-blob-rnum" data-line-number="892"></td>
          <td id="file-assignment-11-text-mining-ipynb-LC892" class="blob-code blob-code-inner js-file-line">          <span class="pl-ent">"output_type"</span>: <span class="pl-s"><span class="pl-pds">"</span>stream<span class="pl-pds">"</span></span>,</td>
        </tr>
        <tr>
          <td id="file-assignment-11-text-mining-ipynb-L893" class="blob-num js-line-number js-code-nav-line-number js-blob-rnum" data-line-number="893"></td>
          <td id="file-assignment-11-text-mining-ipynb-LC893" class="blob-code blob-code-inner js-file-line">          <span class="pl-ent">"text"</span>: <span class="pl-s"><span class="pl-pds">"</span>[nltk_data] Downloading package punkt to<span class="pl-cce">\n</span>[nltk_data]     C:<span class="pl-cce">\\</span>Users<span class="pl-cce">\\</span>perline.anisha<span class="pl-cce">\\</span>AppData<span class="pl-cce">\\</span>Roaming<span class="pl-cce">\\</span>nltk_data...<span class="pl-cce">\n</span>[nltk_data]   Package punkt is already up-to-date!<span class="pl-cce">\n</span><span class="pl-pds">"</span></span></td>
        </tr>
        <tr>
          <td id="file-assignment-11-text-mining-ipynb-L894" class="blob-num js-line-number js-code-nav-line-number js-blob-rnum" data-line-number="894"></td>
          <td id="file-assignment-11-text-mining-ipynb-LC894" class="blob-code blob-code-inner js-file-line">        },</td>
        </tr>
        <tr>
          <td id="file-assignment-11-text-mining-ipynb-L895" class="blob-num js-line-number js-code-nav-line-number js-blob-rnum" data-line-number="895"></td>
          <td id="file-assignment-11-text-mining-ipynb-LC895" class="blob-code blob-code-inner js-file-line">        {</td>
        </tr>
        <tr>
          <td id="file-assignment-11-text-mining-ipynb-L896" class="blob-num js-line-number js-code-nav-line-number js-blob-rnum" data-line-number="896"></td>
          <td id="file-assignment-11-text-mining-ipynb-LC896" class="blob-code blob-code-inner js-file-line">          <span class="pl-ent">"data"</span>: {</td>
        </tr>
        <tr>
          <td id="file-assignment-11-text-mining-ipynb-L897" class="blob-num js-line-number js-code-nav-line-number js-blob-rnum" data-line-number="897"></td>
          <td id="file-assignment-11-text-mining-ipynb-LC897" class="blob-code blob-code-inner js-file-line">            <span class="pl-ent">"text/plain"</span>: <span class="pl-s"><span class="pl-pds">"</span>True<span class="pl-pds">"</span></span></td>
        </tr>
        <tr>
          <td id="file-assignment-11-text-mining-ipynb-L898" class="blob-num js-line-number js-code-nav-line-number js-blob-rnum" data-line-number="898"></td>
          <td id="file-assignment-11-text-mining-ipynb-LC898" class="blob-code blob-code-inner js-file-line">          },</td>
        </tr>
        <tr>
          <td id="file-assignment-11-text-mining-ipynb-L899" class="blob-num js-line-number js-code-nav-line-number js-blob-rnum" data-line-number="899"></td>
          <td id="file-assignment-11-text-mining-ipynb-LC899" class="blob-code blob-code-inner js-file-line">          <span class="pl-ent">"execution_count"</span>: <span class="pl-c1">42</span>,</td>
        </tr>
        <tr>
          <td id="file-assignment-11-text-mining-ipynb-L900" class="blob-num js-line-number js-code-nav-line-number js-blob-rnum" data-line-number="900"></td>
          <td id="file-assignment-11-text-mining-ipynb-LC900" class="blob-code blob-code-inner js-file-line">          <span class="pl-ent">"metadata"</span>: {},</td>
        </tr>
        <tr>
          <td id="file-assignment-11-text-mining-ipynb-L901" class="blob-num js-line-number js-code-nav-line-number js-blob-rnum" data-line-number="901"></td>
          <td id="file-assignment-11-text-mining-ipynb-LC901" class="blob-code blob-code-inner js-file-line">          <span class="pl-ent">"output_type"</span>: <span class="pl-s"><span class="pl-pds">"</span>execute_result<span class="pl-pds">"</span></span></td>
        </tr>
        <tr>
          <td id="file-assignment-11-text-mining-ipynb-L902" class="blob-num js-line-number js-code-nav-line-number js-blob-rnum" data-line-number="902"></td>
          <td id="file-assignment-11-text-mining-ipynb-LC902" class="blob-code blob-code-inner js-file-line">        }</td>
        </tr>
        <tr>
          <td id="file-assignment-11-text-mining-ipynb-L903" class="blob-num js-line-number js-code-nav-line-number js-blob-rnum" data-line-number="903"></td>
          <td id="file-assignment-11-text-mining-ipynb-LC903" class="blob-code blob-code-inner js-file-line">      ]</td>
        </tr>
        <tr>
          <td id="file-assignment-11-text-mining-ipynb-L904" class="blob-num js-line-number js-code-nav-line-number js-blob-rnum" data-line-number="904"></td>
          <td id="file-assignment-11-text-mining-ipynb-LC904" class="blob-code blob-code-inner js-file-line">    },</td>
        </tr>
        <tr>
          <td id="file-assignment-11-text-mining-ipynb-L905" class="blob-num js-line-number js-code-nav-line-number js-blob-rnum" data-line-number="905"></td>
          <td id="file-assignment-11-text-mining-ipynb-LC905" class="blob-code blob-code-inner js-file-line">    {</td>
        </tr>
        <tr>
          <td id="file-assignment-11-text-mining-ipynb-L906" class="blob-num js-line-number js-code-nav-line-number js-blob-rnum" data-line-number="906"></td>
          <td id="file-assignment-11-text-mining-ipynb-LC906" class="blob-code blob-code-inner js-file-line">      <span class="pl-ent">"metadata"</span>: {</td>
        </tr>
        <tr>
          <td id="file-assignment-11-text-mining-ipynb-L907" class="blob-num js-line-number js-code-nav-line-number js-blob-rnum" data-line-number="907"></td>
          <td id="file-assignment-11-text-mining-ipynb-LC907" class="blob-code blob-code-inner js-file-line">        <span class="pl-ent">"trusted"</span>: <span class="pl-c1">false</span></td>
        </tr>
        <tr>
          <td id="file-assignment-11-text-mining-ipynb-L908" class="blob-num js-line-number js-code-nav-line-number js-blob-rnum" data-line-number="908"></td>
          <td id="file-assignment-11-text-mining-ipynb-LC908" class="blob-code blob-code-inner js-file-line">      },</td>
        </tr>
        <tr>
          <td id="file-assignment-11-text-mining-ipynb-L909" class="blob-num js-line-number js-code-nav-line-number js-blob-rnum" data-line-number="909"></td>
          <td id="file-assignment-11-text-mining-ipynb-LC909" class="blob-code blob-code-inner js-file-line">      <span class="pl-ent">"cell_type"</span>: <span class="pl-s"><span class="pl-pds">"</span>code<span class="pl-pds">"</span></span>,</td>
        </tr>
        <tr>
          <td id="file-assignment-11-text-mining-ipynb-L910" class="blob-num js-line-number js-code-nav-line-number js-blob-rnum" data-line-number="910"></td>
          <td id="file-assignment-11-text-mining-ipynb-LC910" class="blob-code blob-code-inner js-file-line">      <span class="pl-ent">"source"</span>: <span class="pl-s"><span class="pl-pds">"</span>from nltk.corpus import twitter_samples<span class="pl-cce">\n\n</span>positive_tweets = twitter_samples.strings('positive_tweets.json')<span class="pl-cce">\n</span>negative_tweets = twitter_samples.strings('negative_tweets.json')<span class="pl-cce">\n</span>text = twitter_samples.strings('tweets.20150430-223406.json')<span class="pl-cce">\n</span>tweet_tokens = twitter_samples.tokenized('positive_tweets.json')<span class="pl-pds">"</span></span>,</td>
        </tr>
        <tr>
          <td id="file-assignment-11-text-mining-ipynb-L911" class="blob-num js-line-number js-code-nav-line-number js-blob-rnum" data-line-number="911"></td>
          <td id="file-assignment-11-text-mining-ipynb-LC911" class="blob-code blob-code-inner js-file-line">      <span class="pl-ent">"execution_count"</span>: <span class="pl-c1">43</span>,</td>
        </tr>
        <tr>
          <td id="file-assignment-11-text-mining-ipynb-L912" class="blob-num js-line-number js-code-nav-line-number js-blob-rnum" data-line-number="912"></td>
          <td id="file-assignment-11-text-mining-ipynb-LC912" class="blob-code blob-code-inner js-file-line">      <span class="pl-ent">"outputs"</span>: []</td>
        </tr>
        <tr>
          <td id="file-assignment-11-text-mining-ipynb-L913" class="blob-num js-line-number js-code-nav-line-number js-blob-rnum" data-line-number="913"></td>
          <td id="file-assignment-11-text-mining-ipynb-LC913" class="blob-code blob-code-inner js-file-line">    },</td>
        </tr>
        <tr>
          <td id="file-assignment-11-text-mining-ipynb-L914" class="blob-num js-line-number js-code-nav-line-number js-blob-rnum" data-line-number="914"></td>
          <td id="file-assignment-11-text-mining-ipynb-LC914" class="blob-code blob-code-inner js-file-line">    {</td>
        </tr>
        <tr>
          <td id="file-assignment-11-text-mining-ipynb-L915" class="blob-num js-line-number js-code-nav-line-number js-blob-rnum" data-line-number="915"></td>
          <td id="file-assignment-11-text-mining-ipynb-LC915" class="blob-code blob-code-inner js-file-line">      <span class="pl-ent">"metadata"</span>: {</td>
        </tr>
        <tr>
          <td id="file-assignment-11-text-mining-ipynb-L916" class="blob-num js-line-number js-code-nav-line-number js-blob-rnum" data-line-number="916"></td>
          <td id="file-assignment-11-text-mining-ipynb-LC916" class="blob-code blob-code-inner js-file-line">        <span class="pl-ent">"trusted"</span>: <span class="pl-c1">false</span></td>
        </tr>
        <tr>
          <td id="file-assignment-11-text-mining-ipynb-L917" class="blob-num js-line-number js-code-nav-line-number js-blob-rnum" data-line-number="917"></td>
          <td id="file-assignment-11-text-mining-ipynb-LC917" class="blob-code blob-code-inner js-file-line">      },</td>
        </tr>
        <tr>
          <td id="file-assignment-11-text-mining-ipynb-L918" class="blob-num js-line-number js-code-nav-line-number js-blob-rnum" data-line-number="918"></td>
          <td id="file-assignment-11-text-mining-ipynb-LC918" class="blob-code blob-code-inner js-file-line">      <span class="pl-ent">"cell_type"</span>: <span class="pl-s"><span class="pl-pds">"</span>code<span class="pl-pds">"</span></span>,</td>
        </tr>
        <tr>
          <td id="file-assignment-11-text-mining-ipynb-L919" class="blob-num js-line-number js-code-nav-line-number js-blob-rnum" data-line-number="919"></td>
          <td id="file-assignment-11-text-mining-ipynb-LC919" class="blob-code blob-code-inner js-file-line">      <span class="pl-ent">"source"</span>: <span class="pl-s"><span class="pl-pds">"</span>from nltk.corpus import twitter_samples<span class="pl-cce">\n\n</span>positive_tweets = twitter_samples.strings('positive_tweets.json')<span class="pl-cce">\n</span>negative_tweets = twitter_samples.strings('negative_tweets.json')<span class="pl-cce">\n</span>text = twitter_samples.strings('tweets.20150430-223406.json')<span class="pl-cce">\n</span>tweet_tokens = twitter_samples.tokenized('positive_tweets.json')[0]<span class="pl-cce">\n\n</span>print(tweet_tokens[0])<span class="pl-pds">"</span></span>,</td>
        </tr>
        <tr>
          <td id="file-assignment-11-text-mining-ipynb-L920" class="blob-num js-line-number js-code-nav-line-number js-blob-rnum" data-line-number="920"></td>
          <td id="file-assignment-11-text-mining-ipynb-LC920" class="blob-code blob-code-inner js-file-line">      <span class="pl-ent">"execution_count"</span>: <span class="pl-c1">44</span>,</td>
        </tr>
        <tr>
          <td id="file-assignment-11-text-mining-ipynb-L921" class="blob-num js-line-number js-code-nav-line-number js-blob-rnum" data-line-number="921"></td>
          <td id="file-assignment-11-text-mining-ipynb-LC921" class="blob-code blob-code-inner js-file-line">      <span class="pl-ent">"outputs"</span>: [</td>
        </tr>
        <tr>
          <td id="file-assignment-11-text-mining-ipynb-L922" class="blob-num js-line-number js-code-nav-line-number js-blob-rnum" data-line-number="922"></td>
          <td id="file-assignment-11-text-mining-ipynb-LC922" class="blob-code blob-code-inner js-file-line">        {</td>
        </tr>
        <tr>
          <td id="file-assignment-11-text-mining-ipynb-L923" class="blob-num js-line-number js-code-nav-line-number js-blob-rnum" data-line-number="923"></td>
          <td id="file-assignment-11-text-mining-ipynb-LC923" class="blob-code blob-code-inner js-file-line">          <span class="pl-ent">"name"</span>: <span class="pl-s"><span class="pl-pds">"</span>stdout<span class="pl-pds">"</span></span>,</td>
        </tr>
        <tr>
          <td id="file-assignment-11-text-mining-ipynb-L924" class="blob-num js-line-number js-code-nav-line-number js-blob-rnum" data-line-number="924"></td>
          <td id="file-assignment-11-text-mining-ipynb-LC924" class="blob-code blob-code-inner js-file-line">          <span class="pl-ent">"output_type"</span>: <span class="pl-s"><span class="pl-pds">"</span>stream<span class="pl-pds">"</span></span>,</td>
        </tr>
        <tr>
          <td id="file-assignment-11-text-mining-ipynb-L925" class="blob-num js-line-number js-code-nav-line-number js-blob-rnum" data-line-number="925"></td>
          <td id="file-assignment-11-text-mining-ipynb-LC925" class="blob-code blob-code-inner js-file-line">          <span class="pl-ent">"text"</span>: <span class="pl-s"><span class="pl-pds">"</span>#FollowFriday<span class="pl-cce">\n</span><span class="pl-pds">"</span></span></td>
        </tr>
        <tr>
          <td id="file-assignment-11-text-mining-ipynb-L926" class="blob-num js-line-number js-code-nav-line-number js-blob-rnum" data-line-number="926"></td>
          <td id="file-assignment-11-text-mining-ipynb-LC926" class="blob-code blob-code-inner js-file-line">        }</td>
        </tr>
        <tr>
          <td id="file-assignment-11-text-mining-ipynb-L927" class="blob-num js-line-number js-code-nav-line-number js-blob-rnum" data-line-number="927"></td>
          <td id="file-assignment-11-text-mining-ipynb-LC927" class="blob-code blob-code-inner js-file-line">      ]</td>
        </tr>
        <tr>
          <td id="file-assignment-11-text-mining-ipynb-L928" class="blob-num js-line-number js-code-nav-line-number js-blob-rnum" data-line-number="928"></td>
          <td id="file-assignment-11-text-mining-ipynb-LC928" class="blob-code blob-code-inner js-file-line">    },</td>
        </tr>
        <tr>
          <td id="file-assignment-11-text-mining-ipynb-L929" class="blob-num js-line-number js-code-nav-line-number js-blob-rnum" data-line-number="929"></td>
          <td id="file-assignment-11-text-mining-ipynb-LC929" class="blob-code blob-code-inner js-file-line">    {</td>
        </tr>
        <tr>
          <td id="file-assignment-11-text-mining-ipynb-L930" class="blob-num js-line-number js-code-nav-line-number js-blob-rnum" data-line-number="930"></td>
          <td id="file-assignment-11-text-mining-ipynb-LC930" class="blob-code blob-code-inner js-file-line">      <span class="pl-ent">"metadata"</span>: {</td>
        </tr>
        <tr>
          <td id="file-assignment-11-text-mining-ipynb-L931" class="blob-num js-line-number js-code-nav-line-number js-blob-rnum" data-line-number="931"></td>
          <td id="file-assignment-11-text-mining-ipynb-LC931" class="blob-code blob-code-inner js-file-line">        <span class="pl-ent">"trusted"</span>: <span class="pl-c1">true</span></td>
        </tr>
        <tr>
          <td id="file-assignment-11-text-mining-ipynb-L932" class="blob-num js-line-number js-code-nav-line-number js-blob-rnum" data-line-number="932"></td>
          <td id="file-assignment-11-text-mining-ipynb-LC932" class="blob-code blob-code-inner js-file-line">      },</td>
        </tr>
        <tr>
          <td id="file-assignment-11-text-mining-ipynb-L933" class="blob-num js-line-number js-code-nav-line-number js-blob-rnum" data-line-number="933"></td>
          <td id="file-assignment-11-text-mining-ipynb-LC933" class="blob-code blob-code-inner js-file-line">      <span class="pl-ent">"cell_type"</span>: <span class="pl-s"><span class="pl-pds">"</span>code<span class="pl-pds">"</span></span>,</td>
        </tr>
        <tr>
          <td id="file-assignment-11-text-mining-ipynb-L934" class="blob-num js-line-number js-code-nav-line-number js-blob-rnum" data-line-number="934"></td>
          <td id="file-assignment-11-text-mining-ipynb-LC934" class="blob-code blob-code-inner js-file-line">      <span class="pl-ent">"source"</span>: <span class="pl-s"><span class="pl-pds">"</span>!pip3 install beautifulsoup4<span class="pl-pds">"</span></span>,</td>
        </tr>
        <tr>
          <td id="file-assignment-11-text-mining-ipynb-L935" class="blob-num js-line-number js-code-nav-line-number js-blob-rnum" data-line-number="935"></td>
          <td id="file-assignment-11-text-mining-ipynb-LC935" class="blob-code blob-code-inner js-file-line">      <span class="pl-ent">"execution_count"</span>: <span class="pl-c1">9</span>,</td>
        </tr>
        <tr>
          <td id="file-assignment-11-text-mining-ipynb-L936" class="blob-num js-line-number js-code-nav-line-number js-blob-rnum" data-line-number="936"></td>
          <td id="file-assignment-11-text-mining-ipynb-LC936" class="blob-code blob-code-inner js-file-line">      <span class="pl-ent">"outputs"</span>: [</td>
        </tr>
        <tr>
          <td id="file-assignment-11-text-mining-ipynb-L937" class="blob-num js-line-number js-code-nav-line-number js-blob-rnum" data-line-number="937"></td>
          <td id="file-assignment-11-text-mining-ipynb-LC937" class="blob-code blob-code-inner js-file-line">        {</td>
        </tr>
        <tr>
          <td id="file-assignment-11-text-mining-ipynb-L938" class="blob-num js-line-number js-code-nav-line-number js-blob-rnum" data-line-number="938"></td>
          <td id="file-assignment-11-text-mining-ipynb-LC938" class="blob-code blob-code-inner js-file-line">          <span class="pl-ent">"output_type"</span>: <span class="pl-s"><span class="pl-pds">"</span>stream<span class="pl-pds">"</span></span>,</td>
        </tr>
        <tr>
          <td id="file-assignment-11-text-mining-ipynb-L939" class="blob-num js-line-number js-code-nav-line-number js-blob-rnum" data-line-number="939"></td>
          <td id="file-assignment-11-text-mining-ipynb-LC939" class="blob-code blob-code-inner js-file-line">          <span class="pl-ent">"text"</span>: <span class="pl-s"><span class="pl-pds">"</span>Requirement already satisfied: beautifulsoup4 in c:<span class="pl-cce">\\</span>programdata<span class="pl-cce">\\</span>anaconda3<span class="pl-cce">\\</span>lib<span class="pl-cce">\\</span>site-packages (4.9.1)<span class="pl-cce">\n</span>Requirement already satisfied: soupsieve&gt;1.2 in c:<span class="pl-cce">\\</span>programdata<span class="pl-cce">\\</span>anaconda3<span class="pl-cce">\\</span>lib<span class="pl-cce">\\</span>site-packages (from beautifulsoup4) (2.0.1)<span class="pl-cce">\n</span><span class="pl-pds">"</span></span>,</td>
        </tr>
        <tr>
          <td id="file-assignment-11-text-mining-ipynb-L940" class="blob-num js-line-number js-code-nav-line-number js-blob-rnum" data-line-number="940"></td>
          <td id="file-assignment-11-text-mining-ipynb-LC940" class="blob-code blob-code-inner js-file-line">          <span class="pl-ent">"name"</span>: <span class="pl-s"><span class="pl-pds">"</span>stdout<span class="pl-pds">"</span></span></td>
        </tr>
        <tr>
          <td id="file-assignment-11-text-mining-ipynb-L941" class="blob-num js-line-number js-code-nav-line-number js-blob-rnum" data-line-number="941"></td>
          <td id="file-assignment-11-text-mining-ipynb-LC941" class="blob-code blob-code-inner js-file-line">        }</td>
        </tr>
        <tr>
          <td id="file-assignment-11-text-mining-ipynb-L942" class="blob-num js-line-number js-code-nav-line-number js-blob-rnum" data-line-number="942"></td>
          <td id="file-assignment-11-text-mining-ipynb-LC942" class="blob-code blob-code-inner js-file-line">      ]</td>
        </tr>
        <tr>
          <td id="file-assignment-11-text-mining-ipynb-L943" class="blob-num js-line-number js-code-nav-line-number js-blob-rnum" data-line-number="943"></td>
          <td id="file-assignment-11-text-mining-ipynb-LC943" class="blob-code blob-code-inner js-file-line">    },</td>
        </tr>
        <tr>
          <td id="file-assignment-11-text-mining-ipynb-L944" class="blob-num js-line-number js-code-nav-line-number js-blob-rnum" data-line-number="944"></td>
          <td id="file-assignment-11-text-mining-ipynb-LC944" class="blob-code blob-code-inner js-file-line">    {</td>
        </tr>
        <tr>
          <td id="file-assignment-11-text-mining-ipynb-L945" class="blob-num js-line-number js-code-nav-line-number js-blob-rnum" data-line-number="945"></td>
          <td id="file-assignment-11-text-mining-ipynb-LC945" class="blob-code blob-code-inner js-file-line">      <span class="pl-ent">"metadata"</span>: {</td>
        </tr>
        <tr>
          <td id="file-assignment-11-text-mining-ipynb-L946" class="blob-num js-line-number js-code-nav-line-number js-blob-rnum" data-line-number="946"></td>
          <td id="file-assignment-11-text-mining-ipynb-LC946" class="blob-code blob-code-inner js-file-line">        <span class="pl-ent">"trusted"</span>: <span class="pl-c1">true</span></td>
        </tr>
        <tr>
          <td id="file-assignment-11-text-mining-ipynb-L947" class="blob-num js-line-number js-code-nav-line-number js-blob-rnum" data-line-number="947"></td>
          <td id="file-assignment-11-text-mining-ipynb-LC947" class="blob-code blob-code-inner js-file-line">      },</td>
        </tr>
        <tr>
          <td id="file-assignment-11-text-mining-ipynb-L948" class="blob-num js-line-number js-code-nav-line-number js-blob-rnum" data-line-number="948"></td>
          <td id="file-assignment-11-text-mining-ipynb-LC948" class="blob-code blob-code-inner js-file-line">      <span class="pl-ent">"cell_type"</span>: <span class="pl-s"><span class="pl-pds">"</span>code<span class="pl-pds">"</span></span>,</td>
        </tr>
        <tr>
          <td id="file-assignment-11-text-mining-ipynb-L949" class="blob-num js-line-number js-code-nav-line-number js-blob-rnum" data-line-number="949"></td>
          <td id="file-assignment-11-text-mining-ipynb-LC949" class="blob-code blob-code-inner js-file-line">      <span class="pl-ent">"source"</span>: <span class="pl-s"><span class="pl-pds">"</span>import pandas as pd<span class="pl-cce">\n</span>import numpy as np<span class="pl-cce">\n</span>import matplotlib.pyplot as plt<span class="pl-cce">\n</span>import seaborn as sns<span class="pl-cce">\n</span>%matplotlib inline<span class="pl-cce">\n</span>import re<span class="pl-cce">\n</span>import time<span class="pl-cce">\n</span>from datetime import datetime<span class="pl-cce">\n</span>import matplotlib.dates as mdates<span class="pl-cce">\n</span>import matplotlib.ticker as ticker<span class="pl-cce">\n</span>from urllib.request import urlopen<span class="pl-cce">\n</span>from bs4 import BeautifulSoup<span class="pl-cce">\n</span>import requests<span class="pl-pds">"</span></span>,</td>
        </tr>
        <tr>
          <td id="file-assignment-11-text-mining-ipynb-L950" class="blob-num js-line-number js-code-nav-line-number js-blob-rnum" data-line-number="950"></td>
          <td id="file-assignment-11-text-mining-ipynb-LC950" class="blob-code blob-code-inner js-file-line">      <span class="pl-ent">"execution_count"</span>: <span class="pl-c1">10</span>,</td>
        </tr>
        <tr>
          <td id="file-assignment-11-text-mining-ipynb-L951" class="blob-num js-line-number js-code-nav-line-number js-blob-rnum" data-line-number="951"></td>
          <td id="file-assignment-11-text-mining-ipynb-LC951" class="blob-code blob-code-inner js-file-line">      <span class="pl-ent">"outputs"</span>: []</td>
        </tr>
        <tr>
          <td id="file-assignment-11-text-mining-ipynb-L952" class="blob-num js-line-number js-code-nav-line-number js-blob-rnum" data-line-number="952"></td>
          <td id="file-assignment-11-text-mining-ipynb-LC952" class="blob-code blob-code-inner js-file-line">    },</td>
        </tr>
        <tr>
          <td id="file-assignment-11-text-mining-ipynb-L953" class="blob-num js-line-number js-code-nav-line-number js-blob-rnum" data-line-number="953"></td>
          <td id="file-assignment-11-text-mining-ipynb-LC953" class="blob-code blob-code-inner js-file-line">    {</td>
        </tr>
        <tr>
          <td id="file-assignment-11-text-mining-ipynb-L954" class="blob-num js-line-number js-code-nav-line-number js-blob-rnum" data-line-number="954"></td>
          <td id="file-assignment-11-text-mining-ipynb-LC954" class="blob-code blob-code-inner js-file-line">      <span class="pl-ent">"metadata"</span>: {</td>
        </tr>
        <tr>
          <td id="file-assignment-11-text-mining-ipynb-L955" class="blob-num js-line-number js-code-nav-line-number js-blob-rnum" data-line-number="955"></td>
          <td id="file-assignment-11-text-mining-ipynb-LC955" class="blob-code blob-code-inner js-file-line">        <span class="pl-ent">"trusted"</span>: <span class="pl-c1">true</span></td>
        </tr>
        <tr>
          <td id="file-assignment-11-text-mining-ipynb-L956" class="blob-num js-line-number js-code-nav-line-number js-blob-rnum" data-line-number="956"></td>
          <td id="file-assignment-11-text-mining-ipynb-LC956" class="blob-code blob-code-inner js-file-line">      },</td>
        </tr>
        <tr>
          <td id="file-assignment-11-text-mining-ipynb-L957" class="blob-num js-line-number js-code-nav-line-number js-blob-rnum" data-line-number="957"></td>
          <td id="file-assignment-11-text-mining-ipynb-LC957" class="blob-code blob-code-inner js-file-line">      <span class="pl-ent">"cell_type"</span>: <span class="pl-s"><span class="pl-pds">"</span>code<span class="pl-pds">"</span></span>,</td>
        </tr>
        <tr>
          <td id="file-assignment-11-text-mining-ipynb-L958" class="blob-num js-line-number js-code-nav-line-number js-blob-rnum" data-line-number="958"></td>
          <td id="file-assignment-11-text-mining-ipynb-LC958" class="blob-code blob-code-inner js-file-line">      "source": "no_pages = 2\n\ndef get_data(pageNo):  \n    headers = {\"User-Agent\":\"Mozilla/5.0 (Windows NT 10.0; Win64; x64; rv:66.0) Gecko/20100101 Firefox/66.0\", \"Accept-Encoding\":\"gzip, deflate\", \"Accept\":\"text/html,application/xhtml+xml,application/xml;q=0.9,*/*;q=0.8\", \"DNT\":\"1\",\"Connection\":\"close\", \"Upgrade-Insecure-Requests\":\"1\"}\n\n    r = requests.get('https://www.amazon.in/gp/bestsellers/books/ref=zg_bs_pg_'+str(pageNo)+'?ie=UTF8&amp;pg='+str(pageNo), headers=headers)#, proxies=proxies)\n    content = r.content\n    soup = BeautifulSoup(content)\n    #print(soup)\n\n    alls = []\n    for d in soup.findAll('div', attrs={'class':'a-section a-spacing-none aok-relative'}):\n        #print(d)\n        name = d.find('span', attrs={'class':'zg-text-center-align'})\n        n = name.find_all('img', alt=True)\n        #print(n[0]['alt'])\n        author = d.find('a', attrs={'class':'a-size-small a-link-child'})\n        rating = d.find('span', attrs={'class':'a-icon-alt'})\n        users_rated = d.find('a', attrs={'class':'a-size-small a-link-normal'})\n        price = d.find('span', attrs={'class':'p13n-sc-price'})\n\n        all1=[]\n\n        if name is not None:\n            #print(n[0]['alt'])\n            all1.append(n[0]['alt'])\n        else:\n            all1.append(\"unknown-product\")\n\n        if author is not None:\n            #print(author.text)\n            all1.append(author.text)\n        elif author is None:\n            author = d.find('span', attrs={'class':'a-size-small a-color-base'})\n            if author is not None:\n                all1.append(author.text)\n            else:    \n                all1.append('0')\n\n        if rating is not None:\n            #print(rating.text)\n            all1.append(rating.text)\n        else:\n            all1.append('-1')\n\n        if users_rated is not None:\n            #print(price.text)\n            all1.append(users_rated.text)\n        else:\n            all1.append('0')     \n\n        if price is not None:\n            #print(price.text)\n            all1.append(price.text)\n        else:\n            all1.append('0')\n        alls.append(all1)    \n    return alls",</td>
        </tr>
        <tr>
          <td id="file-assignment-11-text-mining-ipynb-L959" class="blob-num js-line-number js-code-nav-line-number js-blob-rnum" data-line-number="959"></td>
          <td id="file-assignment-11-text-mining-ipynb-LC959" class="blob-code blob-code-inner js-file-line">      <span class="pl-ent">"execution_count"</span>: <span class="pl-c1">11</span>,</td>
        </tr>
        <tr>
          <td id="file-assignment-11-text-mining-ipynb-L960" class="blob-num js-line-number js-code-nav-line-number js-blob-rnum" data-line-number="960"></td>
          <td id="file-assignment-11-text-mining-ipynb-LC960" class="blob-code blob-code-inner js-file-line">      <span class="pl-ent">"outputs"</span>: []</td>
        </tr>
        <tr>
          <td id="file-assignment-11-text-mining-ipynb-L961" class="blob-num js-line-number js-code-nav-line-number js-blob-rnum" data-line-number="961"></td>
          <td id="file-assignment-11-text-mining-ipynb-LC961" class="blob-code blob-code-inner js-file-line">    },</td>
        </tr>
        <tr>
          <td id="file-assignment-11-text-mining-ipynb-L962" class="blob-num js-line-number js-code-nav-line-number js-blob-rnum" data-line-number="962"></td>
          <td id="file-assignment-11-text-mining-ipynb-LC962" class="blob-code blob-code-inner js-file-line">    {</td>
        </tr>
        <tr>
          <td id="file-assignment-11-text-mining-ipynb-L963" class="blob-num js-line-number js-code-nav-line-number js-blob-rnum" data-line-number="963"></td>
          <td id="file-assignment-11-text-mining-ipynb-LC963" class="blob-code blob-code-inner js-file-line">      <span class="pl-ent">"metadata"</span>: {</td>
        </tr>
        <tr>
          <td id="file-assignment-11-text-mining-ipynb-L964" class="blob-num js-line-number js-code-nav-line-number js-blob-rnum" data-line-number="964"></td>
          <td id="file-assignment-11-text-mining-ipynb-LC964" class="blob-code blob-code-inner js-file-line">        <span class="pl-ent">"trusted"</span>: <span class="pl-c1">true</span></td>
        </tr>
        <tr>
          <td id="file-assignment-11-text-mining-ipynb-L965" class="blob-num js-line-number js-code-nav-line-number js-blob-rnum" data-line-number="965"></td>
          <td id="file-assignment-11-text-mining-ipynb-LC965" class="blob-code blob-code-inner js-file-line">      },</td>
        </tr>
        <tr>
          <td id="file-assignment-11-text-mining-ipynb-L966" class="blob-num js-line-number js-code-nav-line-number js-blob-rnum" data-line-number="966"></td>
          <td id="file-assignment-11-text-mining-ipynb-LC966" class="blob-code blob-code-inner js-file-line">      <span class="pl-ent">"cell_type"</span>: <span class="pl-s"><span class="pl-pds">"</span>code<span class="pl-pds">"</span></span>,</td>
        </tr>
        <tr>
          <td id="file-assignment-11-text-mining-ipynb-L967" class="blob-num js-line-number js-code-nav-line-number js-blob-rnum" data-line-number="967"></td>
          <td id="file-assignment-11-text-mining-ipynb-LC967" class="blob-code blob-code-inner js-file-line">      <span class="pl-ent">"source"</span>: <span class="pl-s"><span class="pl-pds">"</span>results = []<span class="pl-cce">\n</span>for i in range(1, no_pages+1):<span class="pl-cce">\n</span>    results.append(get_data(i))<span class="pl-cce">\n</span>flatten = lambda l: [item for sublist in l for item in sublist]<span class="pl-cce">\n</span>df = pd.DataFrame(flatten(results),columns=['Book Name','Author','Rating','Customers_Rated', 'Price'])<span class="pl-cce">\n</span>df.to_csv('amazon_products.csv', index=False, encoding='utf-8')<span class="pl-pds">"</span></span>,</td>
        </tr>
        <tr>
          <td id="file-assignment-11-text-mining-ipynb-L968" class="blob-num js-line-number js-code-nav-line-number js-blob-rnum" data-line-number="968"></td>
          <td id="file-assignment-11-text-mining-ipynb-LC968" class="blob-code blob-code-inner js-file-line">      <span class="pl-ent">"execution_count"</span>: <span class="pl-c1">12</span>,</td>
        </tr>
        <tr>
          <td id="file-assignment-11-text-mining-ipynb-L969" class="blob-num js-line-number js-code-nav-line-number js-blob-rnum" data-line-number="969"></td>
          <td id="file-assignment-11-text-mining-ipynb-LC969" class="blob-code blob-code-inner js-file-line">      <span class="pl-ent">"outputs"</span>: []</td>
        </tr>
        <tr>
          <td id="file-assignment-11-text-mining-ipynb-L970" class="blob-num js-line-number js-code-nav-line-number js-blob-rnum" data-line-number="970"></td>
          <td id="file-assignment-11-text-mining-ipynb-LC970" class="blob-code blob-code-inner js-file-line">    },</td>
        </tr>
        <tr>
          <td id="file-assignment-11-text-mining-ipynb-L971" class="blob-num js-line-number js-code-nav-line-number js-blob-rnum" data-line-number="971"></td>
          <td id="file-assignment-11-text-mining-ipynb-LC971" class="blob-code blob-code-inner js-file-line">    {</td>
        </tr>
        <tr>
          <td id="file-assignment-11-text-mining-ipynb-L972" class="blob-num js-line-number js-code-nav-line-number js-blob-rnum" data-line-number="972"></td>
          <td id="file-assignment-11-text-mining-ipynb-LC972" class="blob-code blob-code-inner js-file-line">      <span class="pl-ent">"metadata"</span>: {</td>
        </tr>
        <tr>
          <td id="file-assignment-11-text-mining-ipynb-L973" class="blob-num js-line-number js-code-nav-line-number js-blob-rnum" data-line-number="973"></td>
          <td id="file-assignment-11-text-mining-ipynb-LC973" class="blob-code blob-code-inner js-file-line">        <span class="pl-ent">"trusted"</span>: <span class="pl-c1">true</span></td>
        </tr>
        <tr>
          <td id="file-assignment-11-text-mining-ipynb-L974" class="blob-num js-line-number js-code-nav-line-number js-blob-rnum" data-line-number="974"></td>
          <td id="file-assignment-11-text-mining-ipynb-LC974" class="blob-code blob-code-inner js-file-line">      },</td>
        </tr>
        <tr>
          <td id="file-assignment-11-text-mining-ipynb-L975" class="blob-num js-line-number js-code-nav-line-number js-blob-rnum" data-line-number="975"></td>
          <td id="file-assignment-11-text-mining-ipynb-LC975" class="blob-code blob-code-inner js-file-line">      <span class="pl-ent">"cell_type"</span>: <span class="pl-s"><span class="pl-pds">"</span>code<span class="pl-pds">"</span></span>,</td>
        </tr>
        <tr>
          <td id="file-assignment-11-text-mining-ipynb-L976" class="blob-num js-line-number js-code-nav-line-number js-blob-rnum" data-line-number="976"></td>
          <td id="file-assignment-11-text-mining-ipynb-LC976" class="blob-code blob-code-inner js-file-line">      <span class="pl-ent">"source"</span>: <span class="pl-s"><span class="pl-pds">"</span>df = pd.read_csv(<span class="pl-cce">\"</span>amazon_products.csv<span class="pl-cce">\"</span>)<span class="pl-pds">"</span></span>,</td>
        </tr>
        <tr>
          <td id="file-assignment-11-text-mining-ipynb-L977" class="blob-num js-line-number js-code-nav-line-number js-blob-rnum" data-line-number="977"></td>
          <td id="file-assignment-11-text-mining-ipynb-LC977" class="blob-code blob-code-inner js-file-line">      <span class="pl-ent">"execution_count"</span>: <span class="pl-c1">13</span>,</td>
        </tr>
        <tr>
          <td id="file-assignment-11-text-mining-ipynb-L978" class="blob-num js-line-number js-code-nav-line-number js-blob-rnum" data-line-number="978"></td>
          <td id="file-assignment-11-text-mining-ipynb-LC978" class="blob-code blob-code-inner js-file-line">      <span class="pl-ent">"outputs"</span>: []</td>
        </tr>
        <tr>
          <td id="file-assignment-11-text-mining-ipynb-L979" class="blob-num js-line-number js-code-nav-line-number js-blob-rnum" data-line-number="979"></td>
          <td id="file-assignment-11-text-mining-ipynb-LC979" class="blob-code blob-code-inner js-file-line">    },</td>
        </tr>
        <tr>
          <td id="file-assignment-11-text-mining-ipynb-L980" class="blob-num js-line-number js-code-nav-line-number js-blob-rnum" data-line-number="980"></td>
          <td id="file-assignment-11-text-mining-ipynb-LC980" class="blob-code blob-code-inner js-file-line">    {</td>
        </tr>
        <tr>
          <td id="file-assignment-11-text-mining-ipynb-L981" class="blob-num js-line-number js-code-nav-line-number js-blob-rnum" data-line-number="981"></td>
          <td id="file-assignment-11-text-mining-ipynb-LC981" class="blob-code blob-code-inner js-file-line">      <span class="pl-ent">"metadata"</span>: {</td>
        </tr>
        <tr>
          <td id="file-assignment-11-text-mining-ipynb-L982" class="blob-num js-line-number js-code-nav-line-number js-blob-rnum" data-line-number="982"></td>
          <td id="file-assignment-11-text-mining-ipynb-LC982" class="blob-code blob-code-inner js-file-line">        <span class="pl-ent">"trusted"</span>: <span class="pl-c1">true</span></td>
        </tr>
        <tr>
          <td id="file-assignment-11-text-mining-ipynb-L983" class="blob-num js-line-number js-code-nav-line-number js-blob-rnum" data-line-number="983"></td>
          <td id="file-assignment-11-text-mining-ipynb-LC983" class="blob-code blob-code-inner js-file-line">      },</td>
        </tr>
        <tr>
          <td id="file-assignment-11-text-mining-ipynb-L984" class="blob-num js-line-number js-code-nav-line-number js-blob-rnum" data-line-number="984"></td>
          <td id="file-assignment-11-text-mining-ipynb-LC984" class="blob-code blob-code-inner js-file-line">      <span class="pl-ent">"cell_type"</span>: <span class="pl-s"><span class="pl-pds">"</span>code<span class="pl-pds">"</span></span>,</td>
        </tr>
        <tr>
          <td id="file-assignment-11-text-mining-ipynb-L985" class="blob-num js-line-number js-code-nav-line-number js-blob-rnum" data-line-number="985"></td>
          <td id="file-assignment-11-text-mining-ipynb-LC985" class="blob-code blob-code-inner js-file-line">      <span class="pl-ent">"source"</span>: <span class="pl-s"><span class="pl-pds">"</span>df.head()<span class="pl-pds">"</span></span>,</td>
        </tr>
        <tr>
          <td id="file-assignment-11-text-mining-ipynb-L986" class="blob-num js-line-number js-code-nav-line-number js-blob-rnum" data-line-number="986"></td>
          <td id="file-assignment-11-text-mining-ipynb-LC986" class="blob-code blob-code-inner js-file-line">      <span class="pl-ent">"execution_count"</span>: <span class="pl-c1">14</span>,</td>
        </tr>
        <tr>
          <td id="file-assignment-11-text-mining-ipynb-L987" class="blob-num js-line-number js-code-nav-line-number js-blob-rnum" data-line-number="987"></td>
          <td id="file-assignment-11-text-mining-ipynb-LC987" class="blob-code blob-code-inner js-file-line">      <span class="pl-ent">"outputs"</span>: [</td>
        </tr>
        <tr>
          <td id="file-assignment-11-text-mining-ipynb-L988" class="blob-num js-line-number js-code-nav-line-number js-blob-rnum" data-line-number="988"></td>
          <td id="file-assignment-11-text-mining-ipynb-LC988" class="blob-code blob-code-inner js-file-line">        {</td>
        </tr>
        <tr>
          <td id="file-assignment-11-text-mining-ipynb-L989" class="blob-num js-line-number js-code-nav-line-number js-blob-rnum" data-line-number="989"></td>
          <td id="file-assignment-11-text-mining-ipynb-LC989" class="blob-code blob-code-inner js-file-line">          <span class="pl-ent">"output_type"</span>: <span class="pl-s"><span class="pl-pds">"</span>execute_result<span class="pl-pds">"</span></span>,</td>
        </tr>
        <tr>
          <td id="file-assignment-11-text-mining-ipynb-L990" class="blob-num js-line-number js-code-nav-line-number js-blob-rnum" data-line-number="990"></td>
          <td id="file-assignment-11-text-mining-ipynb-LC990" class="blob-code blob-code-inner js-file-line">          <span class="pl-ent">"execution_count"</span>: <span class="pl-c1">14</span>,</td>
        </tr>
        <tr>
          <td id="file-assignment-11-text-mining-ipynb-L991" class="blob-num js-line-number js-code-nav-line-number js-blob-rnum" data-line-number="991"></td>
          <td id="file-assignment-11-text-mining-ipynb-LC991" class="blob-code blob-code-inner js-file-line">          <span class="pl-ent">"data"</span>: {</td>
        </tr>
        <tr>
          <td id="file-assignment-11-text-mining-ipynb-L992" class="blob-num js-line-number js-code-nav-line-number js-blob-rnum" data-line-number="992"></td>
          <td id="file-assignment-11-text-mining-ipynb-LC992" class="blob-code blob-code-inner js-file-line">            <span class="pl-ent">"text/plain"</span>: <span class="pl-s"><span class="pl-pds">"</span>                                           Book Name              Author  <span class="pl-cce">\\\n</span>0                            The Psychology of Money       Morgan Housel   <span class="pl-cce">\n</span>1  My First Library: Boxset of 10 Board Books for...  Wonder House Books   <span class="pl-cce">\n</span>2  Ikigai: The Japanese secret to a long and happ...       Héctor García   <span class="pl-cce">\n</span>3  My First Book of Patterns Pencil Control: Patt...  Wonder House Books   <span class="pl-cce">\n</span>4  Grandma's Bag of Stories: Collection of 20+ Il...         Sudha Murty   <span class="pl-cce">\n\n</span>               Rating Customers_Rated     Price  <span class="pl-cce">\n</span>0  4.5 out of 5 stars           7,444  ₹&nbsp;290.00  <span class="pl-cce">\n</span>1  4.5 out of 5 stars          19,845  ₹&nbsp;399.00  <span class="pl-cce">\n</span>2  4.6 out of 5 stars          12,180  ₹&nbsp;380.00  <span class="pl-cce">\n</span>3  4.4 out of 5 stars           4,354   ₹&nbsp;89.00  <span class="pl-cce">\n</span>4  4.6 out of 5 stars           4,410  ₹&nbsp;191.00  <span class="pl-pds">"</span></span>,</td>
        </tr>
        <tr>
          <td id="file-assignment-11-text-mining-ipynb-L993" class="blob-num js-line-number js-code-nav-line-number js-blob-rnum" data-line-number="993"></td>
          <td id="file-assignment-11-text-mining-ipynb-LC993" class="blob-code blob-code-inner js-file-line">            "text/html": "&lt;div&gt;\n&lt;style scoped&gt;\n    .dataframe tbody tr th:only-of-type {\n        vertical-align: middle;\n    }\n\n    .dataframe tbody tr th {\n        vertical-align: top;\n    }\n\n    .dataframe thead th {\n        text-align: right;\n    }\n&lt;/style&gt;\n&lt;table border=\"1\" class=\"dataframe\"&gt;\n  &lt;thead&gt;\n    &lt;tr style=\"text-align: right;\"&gt;\n      &lt;th&gt;&lt;/th&gt;\n      &lt;th&gt;Book Name&lt;/th&gt;\n      &lt;th&gt;Author&lt;/th&gt;\n      &lt;th&gt;Rating&lt;/th&gt;\n      &lt;th&gt;Customers_Rated&lt;/th&gt;\n      &lt;th&gt;Price&lt;/th&gt;\n    &lt;/tr&gt;\n  &lt;/thead&gt;\n  &lt;tbody&gt;\n    &lt;tr&gt;\n      &lt;th&gt;0&lt;/th&gt;\n      &lt;td&gt;The Psychology of Money&lt;/td&gt;\n      &lt;td&gt;Morgan Housel&lt;/td&gt;\n      &lt;td&gt;4.5 out of 5 stars&lt;/td&gt;\n      &lt;td&gt;7,444&lt;/td&gt;\n      &lt;td&gt;₹&nbsp;290.00&lt;/td&gt;\n    &lt;/tr&gt;\n    &lt;tr&gt;\n      &lt;th&gt;1&lt;/th&gt;\n      &lt;td&gt;My First Library: Boxset of 10 Board Books for...&lt;/td&gt;\n      &lt;td&gt;Wonder House Books&lt;/td&gt;\n      &lt;td&gt;4.5 out of 5 stars&lt;/td&gt;\n      &lt;td&gt;19,845&lt;/td&gt;\n      &lt;td&gt;₹&nbsp;399.00&lt;/td&gt;\n    &lt;/tr&gt;\n    &lt;tr&gt;\n      &lt;th&gt;2&lt;/th&gt;\n      &lt;td&gt;Ikigai: The Japanese secret to a long and happ...&lt;/td&gt;\n      &lt;td&gt;Héctor García&lt;/td&gt;\n      &lt;td&gt;4.6 out of 5 stars&lt;/td&gt;\n      &lt;td&gt;12,180&lt;/td&gt;\n      &lt;td&gt;₹&nbsp;380.00&lt;/td&gt;\n    &lt;/tr&gt;\n    &lt;tr&gt;\n      &lt;th&gt;3&lt;/th&gt;\n      &lt;td&gt;My First Book of Patterns Pencil Control: Patt...&lt;/td&gt;\n      &lt;td&gt;Wonder House Books&lt;/td&gt;\n      &lt;td&gt;4.4 out of 5 stars&lt;/td&gt;\n      &lt;td&gt;4,354&lt;/td&gt;\n      &lt;td&gt;₹&nbsp;89.00&lt;/td&gt;\n    &lt;/tr&gt;\n    &lt;tr&gt;\n      &lt;th&gt;4&lt;/th&gt;\n      &lt;td&gt;Grandma's Bag of Stories: Collection of 20+ Il...&lt;/td&gt;\n      &lt;td&gt;Sudha Murty&lt;/td&gt;\n      &lt;td&gt;4.6 out of 5 stars&lt;/td&gt;\n      &lt;td&gt;4,410&lt;/td&gt;\n      &lt;td&gt;₹&nbsp;191.00&lt;/td&gt;\n    &lt;/tr&gt;\n  &lt;/tbody&gt;\n&lt;/table&gt;\n&lt;/div&gt;"</td>
        </tr>
        <tr>
          <td id="file-assignment-11-text-mining-ipynb-L994" class="blob-num js-line-number js-code-nav-line-number js-blob-rnum" data-line-number="994"></td>
          <td id="file-assignment-11-text-mining-ipynb-LC994" class="blob-code blob-code-inner js-file-line">          },</td>
        </tr>
        <tr>
          <td id="file-assignment-11-text-mining-ipynb-L995" class="blob-num js-line-number js-code-nav-line-number js-blob-rnum" data-line-number="995"></td>
          <td id="file-assignment-11-text-mining-ipynb-LC995" class="blob-code blob-code-inner js-file-line">          <span class="pl-ent">"metadata"</span>: {}</td>
        </tr>
        <tr>
          <td id="file-assignment-11-text-mining-ipynb-L996" class="blob-num js-line-number js-code-nav-line-number js-blob-rnum" data-line-number="996"></td>
          <td id="file-assignment-11-text-mining-ipynb-LC996" class="blob-code blob-code-inner js-file-line">        }</td>
        </tr>
        <tr>
          <td id="file-assignment-11-text-mining-ipynb-L997" class="blob-num js-line-number js-code-nav-line-number js-blob-rnum" data-line-number="997"></td>
          <td id="file-assignment-11-text-mining-ipynb-LC997" class="blob-code blob-code-inner js-file-line">      ]</td>
        </tr>
        <tr>
          <td id="file-assignment-11-text-mining-ipynb-L998" class="blob-num js-line-number js-code-nav-line-number js-blob-rnum" data-line-number="998"></td>
          <td id="file-assignment-11-text-mining-ipynb-LC998" class="blob-code blob-code-inner js-file-line">    },</td>
        </tr>
        <tr>
          <td id="file-assignment-11-text-mining-ipynb-L999" class="blob-num js-line-number js-code-nav-line-number js-blob-rnum" data-line-number="999"></td>
          <td id="file-assignment-11-text-mining-ipynb-LC999" class="blob-code blob-code-inner js-file-line">    {</td>
        </tr>
        <tr>
          <td id="file-assignment-11-text-mining-ipynb-L1000" class="blob-num js-line-number js-code-nav-line-number js-blob-rnum" data-line-number="1000"></td>
          <td id="file-assignment-11-text-mining-ipynb-LC1000" class="blob-code blob-code-inner js-file-line">      <span class="pl-ent">"metadata"</span>: {</td>
        </tr>
        <tr>
          <td id="file-assignment-11-text-mining-ipynb-L1001" class="blob-num js-line-number js-code-nav-line-number js-blob-rnum" data-line-number="1001"></td>
          <td id="file-assignment-11-text-mining-ipynb-LC1001" class="blob-code blob-code-inner js-file-line">        <span class="pl-ent">"trusted"</span>: <span class="pl-c1">true</span></td>
        </tr>
        <tr>
          <td id="file-assignment-11-text-mining-ipynb-L1002" class="blob-num js-line-number js-code-nav-line-number js-blob-rnum" data-line-number="1002"></td>
          <td id="file-assignment-11-text-mining-ipynb-LC1002" class="blob-code blob-code-inner js-file-line">      },</td>
        </tr>
        <tr>
          <td id="file-assignment-11-text-mining-ipynb-L1003" class="blob-num js-line-number js-code-nav-line-number js-blob-rnum" data-line-number="1003"></td>
          <td id="file-assignment-11-text-mining-ipynb-LC1003" class="blob-code blob-code-inner js-file-line">      <span class="pl-ent">"cell_type"</span>: <span class="pl-s"><span class="pl-pds">"</span>code<span class="pl-pds">"</span></span>,</td>
        </tr>
        <tr>
          <td id="file-assignment-11-text-mining-ipynb-L1004" class="blob-num js-line-number js-code-nav-line-number js-blob-rnum" data-line-number="1004"></td>
          <td id="file-assignment-11-text-mining-ipynb-LC1004" class="blob-code blob-code-inner js-file-line">      <span class="pl-ent">"source"</span>: <span class="pl-s"><span class="pl-pds">"</span>df.shape<span class="pl-pds">"</span></span>,</td>
        </tr>
        <tr>
          <td id="file-assignment-11-text-mining-ipynb-L1005" class="blob-num js-line-number js-code-nav-line-number js-blob-rnum" data-line-number="1005"></td>
          <td id="file-assignment-11-text-mining-ipynb-LC1005" class="blob-code blob-code-inner js-file-line">      <span class="pl-ent">"execution_count"</span>: <span class="pl-c1">15</span>,</td>
        </tr>
        <tr>
          <td id="file-assignment-11-text-mining-ipynb-L1006" class="blob-num js-line-number js-code-nav-line-number js-blob-rnum" data-line-number="1006"></td>
          <td id="file-assignment-11-text-mining-ipynb-LC1006" class="blob-code blob-code-inner js-file-line">      <span class="pl-ent">"outputs"</span>: [</td>
        </tr>
        <tr>
          <td id="file-assignment-11-text-mining-ipynb-L1007" class="blob-num js-line-number js-code-nav-line-number js-blob-rnum" data-line-number="1007"></td>
          <td id="file-assignment-11-text-mining-ipynb-LC1007" class="blob-code blob-code-inner js-file-line">        {</td>
        </tr>
        <tr>
          <td id="file-assignment-11-text-mining-ipynb-L1008" class="blob-num js-line-number js-code-nav-line-number js-blob-rnum" data-line-number="1008"></td>
          <td id="file-assignment-11-text-mining-ipynb-LC1008" class="blob-code blob-code-inner js-file-line">          <span class="pl-ent">"output_type"</span>: <span class="pl-s"><span class="pl-pds">"</span>execute_result<span class="pl-pds">"</span></span>,</td>
        </tr>
        <tr>
          <td id="file-assignment-11-text-mining-ipynb-L1009" class="blob-num js-line-number js-code-nav-line-number js-blob-rnum" data-line-number="1009"></td>
          <td id="file-assignment-11-text-mining-ipynb-LC1009" class="blob-code blob-code-inner js-file-line">          <span class="pl-ent">"execution_count"</span>: <span class="pl-c1">15</span>,</td>
        </tr>
        <tr>
          <td id="file-assignment-11-text-mining-ipynb-L1010" class="blob-num js-line-number js-code-nav-line-number js-blob-rnum" data-line-number="1010"></td>
          <td id="file-assignment-11-text-mining-ipynb-LC1010" class="blob-code blob-code-inner js-file-line">          <span class="pl-ent">"data"</span>: {</td>
        </tr>
        <tr>
          <td id="file-assignment-11-text-mining-ipynb-L1011" class="blob-num js-line-number js-code-nav-line-number js-blob-rnum" data-line-number="1011"></td>
          <td id="file-assignment-11-text-mining-ipynb-LC1011" class="blob-code blob-code-inner js-file-line">            <span class="pl-ent">"text/plain"</span>: <span class="pl-s"><span class="pl-pds">"</span>(100, 5)<span class="pl-pds">"</span></span></td>
        </tr>
        <tr>
          <td id="file-assignment-11-text-mining-ipynb-L1012" class="blob-num js-line-number js-code-nav-line-number js-blob-rnum" data-line-number="1012"></td>
          <td id="file-assignment-11-text-mining-ipynb-LC1012" class="blob-code blob-code-inner js-file-line">          },</td>
        </tr>
        <tr>
          <td id="file-assignment-11-text-mining-ipynb-L1013" class="blob-num js-line-number js-code-nav-line-number js-blob-rnum" data-line-number="1013"></td>
          <td id="file-assignment-11-text-mining-ipynb-LC1013" class="blob-code blob-code-inner js-file-line">          <span class="pl-ent">"metadata"</span>: {}</td>
        </tr>
        <tr>
          <td id="file-assignment-11-text-mining-ipynb-L1014" class="blob-num js-line-number js-code-nav-line-number js-blob-rnum" data-line-number="1014"></td>
          <td id="file-assignment-11-text-mining-ipynb-LC1014" class="blob-code blob-code-inner js-file-line">        }</td>
        </tr>
        <tr>
          <td id="file-assignment-11-text-mining-ipynb-L1015" class="blob-num js-line-number js-code-nav-line-number js-blob-rnum" data-line-number="1015"></td>
          <td id="file-assignment-11-text-mining-ipynb-LC1015" class="blob-code blob-code-inner js-file-line">      ]</td>
        </tr>
        <tr>
          <td id="file-assignment-11-text-mining-ipynb-L1016" class="blob-num js-line-number js-code-nav-line-number js-blob-rnum" data-line-number="1016"></td>
          <td id="file-assignment-11-text-mining-ipynb-LC1016" class="blob-code blob-code-inner js-file-line">    },</td>
        </tr>
        <tr>
          <td id="file-assignment-11-text-mining-ipynb-L1017" class="blob-num js-line-number js-code-nav-line-number js-blob-rnum" data-line-number="1017"></td>
          <td id="file-assignment-11-text-mining-ipynb-LC1017" class="blob-code blob-code-inner js-file-line">    {</td>
        </tr>
        <tr>
          <td id="file-assignment-11-text-mining-ipynb-L1018" class="blob-num js-line-number js-code-nav-line-number js-blob-rnum" data-line-number="1018"></td>
          <td id="file-assignment-11-text-mining-ipynb-LC1018" class="blob-code blob-code-inner js-file-line">      <span class="pl-ent">"metadata"</span>: {</td>
        </tr>
        <tr>
          <td id="file-assignment-11-text-mining-ipynb-L1019" class="blob-num js-line-number js-code-nav-line-number js-blob-rnum" data-line-number="1019"></td>
          <td id="file-assignment-11-text-mining-ipynb-LC1019" class="blob-code blob-code-inner js-file-line">        <span class="pl-ent">"trusted"</span>: <span class="pl-c1">true</span></td>
        </tr>
        <tr>
          <td id="file-assignment-11-text-mining-ipynb-L1020" class="blob-num js-line-number js-code-nav-line-number js-blob-rnum" data-line-number="1020"></td>
          <td id="file-assignment-11-text-mining-ipynb-LC1020" class="blob-code blob-code-inner js-file-line">      },</td>
        </tr>
        <tr>
          <td id="file-assignment-11-text-mining-ipynb-L1021" class="blob-num js-line-number js-code-nav-line-number js-blob-rnum" data-line-number="1021"></td>
          <td id="file-assignment-11-text-mining-ipynb-LC1021" class="blob-code blob-code-inner js-file-line">      <span class="pl-ent">"cell_type"</span>: <span class="pl-s"><span class="pl-pds">"</span>code<span class="pl-pds">"</span></span>,</td>
        </tr>
        <tr>
          <td id="file-assignment-11-text-mining-ipynb-L1022" class="blob-num js-line-number js-code-nav-line-number js-blob-rnum" data-line-number="1022"></td>
          <td id="file-assignment-11-text-mining-ipynb-LC1022" class="blob-code blob-code-inner js-file-line">      <span class="pl-ent">"source"</span>: <span class="pl-s"><span class="pl-pds">"</span>df.head(61)<span class="pl-pds">"</span></span>,</td>
        </tr>
        <tr>
          <td id="file-assignment-11-text-mining-ipynb-L1023" class="blob-num js-line-number js-code-nav-line-number js-blob-rnum" data-line-number="1023"></td>
          <td id="file-assignment-11-text-mining-ipynb-LC1023" class="blob-code blob-code-inner js-file-line">      <span class="pl-ent">"execution_count"</span>: <span class="pl-c1">16</span>,</td>
        </tr>
        <tr>
          <td id="file-assignment-11-text-mining-ipynb-L1024" class="blob-num js-line-number js-code-nav-line-number js-blob-rnum" data-line-number="1024"></td>
          <td id="file-assignment-11-text-mining-ipynb-LC1024" class="blob-code blob-code-inner js-file-line">      <span class="pl-ent">"outputs"</span>: [</td>
        </tr>
        <tr>
          <td id="file-assignment-11-text-mining-ipynb-L1025" class="blob-num js-line-number js-code-nav-line-number js-blob-rnum" data-line-number="1025"></td>
          <td id="file-assignment-11-text-mining-ipynb-LC1025" class="blob-code blob-code-inner js-file-line">        {</td>
        </tr>
        <tr>
          <td id="file-assignment-11-text-mining-ipynb-L1026" class="blob-num js-line-number js-code-nav-line-number js-blob-rnum" data-line-number="1026"></td>
          <td id="file-assignment-11-text-mining-ipynb-LC1026" class="blob-code blob-code-inner js-file-line">          <span class="pl-ent">"output_type"</span>: <span class="pl-s"><span class="pl-pds">"</span>execute_result<span class="pl-pds">"</span></span>,</td>
        </tr>
        <tr>
          <td id="file-assignment-11-text-mining-ipynb-L1027" class="blob-num js-line-number js-code-nav-line-number js-blob-rnum" data-line-number="1027"></td>
          <td id="file-assignment-11-text-mining-ipynb-LC1027" class="blob-code blob-code-inner js-file-line">          <span class="pl-ent">"execution_count"</span>: <span class="pl-c1">16</span>,</td>
        </tr>
        <tr>
          <td id="file-assignment-11-text-mining-ipynb-L1028" class="blob-num js-line-number js-code-nav-line-number js-blob-rnum" data-line-number="1028"></td>
          <td id="file-assignment-11-text-mining-ipynb-LC1028" class="blob-code blob-code-inner js-file-line">          <span class="pl-ent">"data"</span>: {</td>
        </tr>
        <tr>
          <td id="file-assignment-11-text-mining-ipynb-L1029" class="blob-num js-line-number js-code-nav-line-number js-blob-rnum" data-line-number="1029"></td>
          <td id="file-assignment-11-text-mining-ipynb-LC1029" class="blob-code blob-code-inner js-file-line">            "text/plain": "                                            Book Name                  Author  \\\n0                             The Psychology of Money           Morgan Housel   \n1   My First Library: Boxset of 10 Board Books for...      Wonder House Books   \n2   Ikigai: The Japanese secret to a long and happ...           Héctor García   \n3   My First Book of Patterns Pencil Control: Patt...      Wonder House Books   \n4   Grandma's Bag of Stories: Collection of 20+ Il...             Sudha Murty   \n..                                                ...                     ...   \n56  Ruskin Bond - Best Selling Children Story Book...             Ruskin Bond   \n57  NTA UGC NET/ SET/ JRF : Paper 1 Teaching and R...            K V S Madaan   \n58  Oswaal CBSE Question Bank Class 12 Physics Cha...  Oswaal Editorial Board   \n59                                  As a Man Thinketh             James Allen   \n60  Death; An Inside Story: A book for all those w...                Sadhguru   \n\n                Rating Customers_Rated     Price  \n0   4.5 out of 5 stars           7,444  ₹&nbsp;290.00  \n1   4.5 out of 5 stars          19,845  ₹&nbsp;399.00  \n2   4.6 out of 5 stars          12,180  ₹&nbsp;380.00  \n3   4.4 out of 5 stars           4,354   ₹&nbsp;89.00  \n4   4.6 out of 5 stars           4,410  ₹&nbsp;191.00  \n..                 ...             ...       ...  \n56  4.5 out of 5 stars             780  ₹&nbsp;389.00  \n57  4.5 out of 5 stars              62  ₹&nbsp;353.00  \n58  4.6 out of 5 stars             511  ₹&nbsp;365.00  \n59  4.4 out of 5 stars           1,890   ₹&nbsp;59.00  \n60  4.7 out of 5 stars           4,102  ₹&nbsp;199.00  \n\n[61 rows x 5 columns]",</td>
        </tr>
        <tr>
          <td id="file-assignment-11-text-mining-ipynb-L1030" class="blob-num js-line-number js-code-nav-line-number js-blob-rnum" data-line-number="1030"></td>
          <td id="file-assignment-11-text-mining-ipynb-LC1030" class="blob-code blob-code-inner js-file-line">            "text/html": "&lt;div&gt;\n&lt;style scoped&gt;\n    .dataframe tbody tr th:only-of-type {\n        vertical-align: middle;\n    }\n\n    .dataframe tbody tr th {\n        vertical-align: top;\n    }\n\n    .dataframe thead th {\n        text-align: right;\n    }\n&lt;/style&gt;\n&lt;table border=\"1\" class=\"dataframe\"&gt;\n  &lt;thead&gt;\n    &lt;tr style=\"text-align: right;\"&gt;\n      &lt;th&gt;&lt;/th&gt;\n      &lt;th&gt;Book Name&lt;/th&gt;\n      &lt;th&gt;Author&lt;/th&gt;\n      &lt;th&gt;Rating&lt;/th&gt;\n      &lt;th&gt;Customers_Rated&lt;/th&gt;\n      &lt;th&gt;Price&lt;/th&gt;\n    &lt;/tr&gt;\n  &lt;/thead&gt;\n  &lt;tbody&gt;\n    &lt;tr&gt;\n      &lt;th&gt;0&lt;/th&gt;\n      &lt;td&gt;The Psychology of Money&lt;/td&gt;\n      &lt;td&gt;Morgan Housel&lt;/td&gt;\n      &lt;td&gt;4.5 out of 5 stars&lt;/td&gt;\n      &lt;td&gt;7,444&lt;/td&gt;\n      &lt;td&gt;₹&nbsp;290.00&lt;/td&gt;\n    &lt;/tr&gt;\n    &lt;tr&gt;\n      &lt;th&gt;1&lt;/th&gt;\n      &lt;td&gt;My First Library: Boxset of 10 Board Books for...&lt;/td&gt;\n      &lt;td&gt;Wonder House Books&lt;/td&gt;\n      &lt;td&gt;4.5 out of 5 stars&lt;/td&gt;\n      &lt;td&gt;19,845&lt;/td&gt;\n      &lt;td&gt;₹&nbsp;399.00&lt;/td&gt;\n    &lt;/tr&gt;\n    &lt;tr&gt;\n      &lt;th&gt;2&lt;/th&gt;\n      &lt;td&gt;Ikigai: The Japanese secret to a long and happ...&lt;/td&gt;\n      &lt;td&gt;Héctor García&lt;/td&gt;\n      &lt;td&gt;4.6 out of 5 stars&lt;/td&gt;\n      &lt;td&gt;12,180&lt;/td&gt;\n      &lt;td&gt;₹&nbsp;380.00&lt;/td&gt;\n    &lt;/tr&gt;\n    &lt;tr&gt;\n      &lt;th&gt;3&lt;/th&gt;\n      &lt;td&gt;My First Book of Patterns Pencil Control: Patt...&lt;/td&gt;\n      &lt;td&gt;Wonder House Books&lt;/td&gt;\n      &lt;td&gt;4.4 out of 5 stars&lt;/td&gt;\n      &lt;td&gt;4,354&lt;/td&gt;\n      &lt;td&gt;₹&nbsp;89.00&lt;/td&gt;\n    &lt;/tr&gt;\n    &lt;tr&gt;\n      &lt;th&gt;4&lt;/th&gt;\n      &lt;td&gt;Grandma's Bag of Stories: Collection of 20+ Il...&lt;/td&gt;\n      &lt;td&gt;Sudha Murty&lt;/td&gt;\n      &lt;td&gt;4.6 out of 5 stars&lt;/td&gt;\n      &lt;td&gt;4,410&lt;/td&gt;\n      &lt;td&gt;₹&nbsp;191.00&lt;/td&gt;\n    &lt;/tr&gt;\n    &lt;tr&gt;\n      &lt;th&gt;...&lt;/th&gt;\n      &lt;td&gt;...&lt;/td&gt;\n      &lt;td&gt;...&lt;/td&gt;\n      &lt;td&gt;...&lt;/td&gt;\n      &lt;td&gt;...&lt;/td&gt;\n      &lt;td&gt;...&lt;/td&gt;\n    &lt;/tr&gt;\n    &lt;tr&gt;\n      &lt;th&gt;56&lt;/th&gt;\n      &lt;td&gt;Ruskin Bond - Best Selling Children Story Book...&lt;/td&gt;\n      &lt;td&gt;Ruskin Bond&lt;/td&gt;\n      &lt;td&gt;4.5 out of 5 stars&lt;/td&gt;\n      &lt;td&gt;780&lt;/td&gt;\n      &lt;td&gt;₹&nbsp;389.00&lt;/td&gt;\n    &lt;/tr&gt;\n    &lt;tr&gt;\n      &lt;th&gt;57&lt;/th&gt;\n      &lt;td&gt;NTA UGC NET/ SET/ JRF : Paper 1 Teaching and R...&lt;/td&gt;\n      &lt;td&gt;K V S Madaan&lt;/td&gt;\n      &lt;td&gt;4.5 out of 5 stars&lt;/td&gt;\n      &lt;td&gt;62&lt;/td&gt;\n      &lt;td&gt;₹&nbsp;353.00&lt;/td&gt;\n    &lt;/tr&gt;\n    &lt;tr&gt;\n      &lt;th&gt;58&lt;/th&gt;\n      &lt;td&gt;Oswaal CBSE Question Bank Class 12 Physics Cha...&lt;/td&gt;\n      &lt;td&gt;Oswaal Editorial Board&lt;/td&gt;\n      &lt;td&gt;4.6 out of 5 stars&lt;/td&gt;\n      &lt;td&gt;511&lt;/td&gt;\n      &lt;td&gt;₹&nbsp;365.00&lt;/td&gt;\n    &lt;/tr&gt;\n    &lt;tr&gt;\n      &lt;th&gt;59&lt;/th&gt;\n      &lt;td&gt;As a Man Thinketh&lt;/td&gt;\n      &lt;td&gt;James Allen&lt;/td&gt;\n      &lt;td&gt;4.4 out of 5 stars&lt;/td&gt;\n      &lt;td&gt;1,890&lt;/td&gt;\n      &lt;td&gt;₹&nbsp;59.00&lt;/td&gt;\n    &lt;/tr&gt;\n    &lt;tr&gt;\n      &lt;th&gt;60&lt;/th&gt;\n      &lt;td&gt;Death; An Inside Story: A book for all those w...&lt;/td&gt;\n      &lt;td&gt;Sadhguru&lt;/td&gt;\n      &lt;td&gt;4.7 out of 5 stars&lt;/td&gt;\n      &lt;td&gt;4,102&lt;/td&gt;\n      &lt;td&gt;₹&nbsp;199.00&lt;/td&gt;\n    &lt;/tr&gt;\n  &lt;/tbody&gt;\n&lt;/table&gt;\n&lt;p&gt;61 rows × 5 columns&lt;/p&gt;\n&lt;/div&gt;"</td>
        </tr>
        <tr>
          <td id="file-assignment-11-text-mining-ipynb-L1031" class="blob-num js-line-number js-code-nav-line-number js-blob-rnum" data-line-number="1031"></td>
          <td id="file-assignment-11-text-mining-ipynb-LC1031" class="blob-code blob-code-inner js-file-line">          },</td>
        </tr>
        <tr>
          <td id="file-assignment-11-text-mining-ipynb-L1032" class="blob-num js-line-number js-code-nav-line-number js-blob-rnum" data-line-number="1032"></td>
          <td id="file-assignment-11-text-mining-ipynb-LC1032" class="blob-code blob-code-inner js-file-line">          <span class="pl-ent">"metadata"</span>: {}</td>
        </tr>
        <tr>
          <td id="file-assignment-11-text-mining-ipynb-L1033" class="blob-num js-line-number js-code-nav-line-number js-blob-rnum" data-line-number="1033"></td>
          <td id="file-assignment-11-text-mining-ipynb-LC1033" class="blob-code blob-code-inner js-file-line">        }</td>
        </tr>
        <tr>
          <td id="file-assignment-11-text-mining-ipynb-L1034" class="blob-num js-line-number js-code-nav-line-number js-blob-rnum" data-line-number="1034"></td>
          <td id="file-assignment-11-text-mining-ipynb-LC1034" class="blob-code blob-code-inner js-file-line">      ]</td>
        </tr>
        <tr>
          <td id="file-assignment-11-text-mining-ipynb-L1035" class="blob-num js-line-number js-code-nav-line-number js-blob-rnum" data-line-number="1035"></td>
          <td id="file-assignment-11-text-mining-ipynb-LC1035" class="blob-code blob-code-inner js-file-line">    },</td>
        </tr>
        <tr>
          <td id="file-assignment-11-text-mining-ipynb-L1036" class="blob-num js-line-number js-code-nav-line-number js-blob-rnum" data-line-number="1036"></td>
          <td id="file-assignment-11-text-mining-ipynb-LC1036" class="blob-code blob-code-inner js-file-line">    {</td>
        </tr>
        <tr>
          <td id="file-assignment-11-text-mining-ipynb-L1037" class="blob-num js-line-number js-code-nav-line-number js-blob-rnum" data-line-number="1037"></td>
          <td id="file-assignment-11-text-mining-ipynb-LC1037" class="blob-code blob-code-inner js-file-line">      <span class="pl-ent">"metadata"</span>: {</td>
        </tr>
        <tr>
          <td id="file-assignment-11-text-mining-ipynb-L1038" class="blob-num js-line-number js-code-nav-line-number js-blob-rnum" data-line-number="1038"></td>
          <td id="file-assignment-11-text-mining-ipynb-LC1038" class="blob-code blob-code-inner js-file-line">        <span class="pl-ent">"trusted"</span>: <span class="pl-c1">true</span></td>
        </tr>
        <tr>
          <td id="file-assignment-11-text-mining-ipynb-L1039" class="blob-num js-line-number js-code-nav-line-number js-blob-rnum" data-line-number="1039"></td>
          <td id="file-assignment-11-text-mining-ipynb-LC1039" class="blob-code blob-code-inner js-file-line">      },</td>
        </tr>
        <tr>
          <td id="file-assignment-11-text-mining-ipynb-L1040" class="blob-num js-line-number js-code-nav-line-number js-blob-rnum" data-line-number="1040"></td>
          <td id="file-assignment-11-text-mining-ipynb-LC1040" class="blob-code blob-code-inner js-file-line">      <span class="pl-ent">"cell_type"</span>: <span class="pl-s"><span class="pl-pds">"</span>code<span class="pl-pds">"</span></span>,</td>
        </tr>
        <tr>
          <td id="file-assignment-11-text-mining-ipynb-L1041" class="blob-num js-line-number js-code-nav-line-number js-blob-rnum" data-line-number="1041"></td>
          <td id="file-assignment-11-text-mining-ipynb-LC1041" class="blob-code blob-code-inner js-file-line">      <span class="pl-ent">"source"</span>: <span class="pl-s"><span class="pl-pds">"</span>df['Rating'] = df['Rating'].apply(lambda x: x.split()[0])<span class="pl-pds">"</span></span>,</td>
        </tr>
        <tr>
          <td id="file-assignment-11-text-mining-ipynb-L1042" class="blob-num js-line-number js-code-nav-line-number js-blob-rnum" data-line-number="1042"></td>
          <td id="file-assignment-11-text-mining-ipynb-LC1042" class="blob-code blob-code-inner js-file-line">      <span class="pl-ent">"execution_count"</span>: <span class="pl-c1">17</span>,</td>
        </tr>
        <tr>
          <td id="file-assignment-11-text-mining-ipynb-L1043" class="blob-num js-line-number js-code-nav-line-number js-blob-rnum" data-line-number="1043"></td>
          <td id="file-assignment-11-text-mining-ipynb-LC1043" class="blob-code blob-code-inner js-file-line">      <span class="pl-ent">"outputs"</span>: []</td>
        </tr>
        <tr>
          <td id="file-assignment-11-text-mining-ipynb-L1044" class="blob-num js-line-number js-code-nav-line-number js-blob-rnum" data-line-number="1044"></td>
          <td id="file-assignment-11-text-mining-ipynb-LC1044" class="blob-code blob-code-inner js-file-line">    },</td>
        </tr>
        <tr>
          <td id="file-assignment-11-text-mining-ipynb-L1045" class="blob-num js-line-number js-code-nav-line-number js-blob-rnum" data-line-number="1045"></td>
          <td id="file-assignment-11-text-mining-ipynb-LC1045" class="blob-code blob-code-inner js-file-line">    {</td>
        </tr>
        <tr>
          <td id="file-assignment-11-text-mining-ipynb-L1046" class="blob-num js-line-number js-code-nav-line-number js-blob-rnum" data-line-number="1046"></td>
          <td id="file-assignment-11-text-mining-ipynb-LC1046" class="blob-code blob-code-inner js-file-line">      <span class="pl-ent">"metadata"</span>: {</td>
        </tr>
        <tr>
          <td id="file-assignment-11-text-mining-ipynb-L1047" class="blob-num js-line-number js-code-nav-line-number js-blob-rnum" data-line-number="1047"></td>
          <td id="file-assignment-11-text-mining-ipynb-LC1047" class="blob-code blob-code-inner js-file-line">        <span class="pl-ent">"trusted"</span>: <span class="pl-c1">true</span></td>
        </tr>
        <tr>
          <td id="file-assignment-11-text-mining-ipynb-L1048" class="blob-num js-line-number js-code-nav-line-number js-blob-rnum" data-line-number="1048"></td>
          <td id="file-assignment-11-text-mining-ipynb-LC1048" class="blob-code blob-code-inner js-file-line">      },</td>
        </tr>
        <tr>
          <td id="file-assignment-11-text-mining-ipynb-L1049" class="blob-num js-line-number js-code-nav-line-number js-blob-rnum" data-line-number="1049"></td>
          <td id="file-assignment-11-text-mining-ipynb-LC1049" class="blob-code blob-code-inner js-file-line">      <span class="pl-ent">"cell_type"</span>: <span class="pl-s"><span class="pl-pds">"</span>code<span class="pl-pds">"</span></span>,</td>
        </tr>
        <tr>
          <td id="file-assignment-11-text-mining-ipynb-L1050" class="blob-num js-line-number js-code-nav-line-number js-blob-rnum" data-line-number="1050"></td>
          <td id="file-assignment-11-text-mining-ipynb-LC1050" class="blob-code blob-code-inner js-file-line">      <span class="pl-ent">"source"</span>: <span class="pl-s"><span class="pl-pds">"</span>df['Rating'] = pd.to_numeric(df['Rating'])<span class="pl-pds">"</span></span>,</td>
        </tr>
        <tr>
          <td id="file-assignment-11-text-mining-ipynb-L1051" class="blob-num js-line-number js-code-nav-line-number js-blob-rnum" data-line-number="1051"></td>
          <td id="file-assignment-11-text-mining-ipynb-LC1051" class="blob-code blob-code-inner js-file-line">      <span class="pl-ent">"execution_count"</span>: <span class="pl-c1">18</span>,</td>
        </tr>
        <tr>
          <td id="file-assignment-11-text-mining-ipynb-L1052" class="blob-num js-line-number js-code-nav-line-number js-blob-rnum" data-line-number="1052"></td>
          <td id="file-assignment-11-text-mining-ipynb-LC1052" class="blob-code blob-code-inner js-file-line">      <span class="pl-ent">"outputs"</span>: []</td>
        </tr>
        <tr>
          <td id="file-assignment-11-text-mining-ipynb-L1053" class="blob-num js-line-number js-code-nav-line-number js-blob-rnum" data-line-number="1053"></td>
          <td id="file-assignment-11-text-mining-ipynb-LC1053" class="blob-code blob-code-inner js-file-line">    },</td>
        </tr>
        <tr>
          <td id="file-assignment-11-text-mining-ipynb-L1054" class="blob-num js-line-number js-code-nav-line-number js-blob-rnum" data-line-number="1054"></td>
          <td id="file-assignment-11-text-mining-ipynb-LC1054" class="blob-code blob-code-inner js-file-line">    {</td>
        </tr>
        <tr>
          <td id="file-assignment-11-text-mining-ipynb-L1055" class="blob-num js-line-number js-code-nav-line-number js-blob-rnum" data-line-number="1055"></td>
          <td id="file-assignment-11-text-mining-ipynb-LC1055" class="blob-code blob-code-inner js-file-line">      <span class="pl-ent">"metadata"</span>: {</td>
        </tr>
        <tr>
          <td id="file-assignment-11-text-mining-ipynb-L1056" class="blob-num js-line-number js-code-nav-line-number js-blob-rnum" data-line-number="1056"></td>
          <td id="file-assignment-11-text-mining-ipynb-LC1056" class="blob-code blob-code-inner js-file-line">        <span class="pl-ent">"trusted"</span>: <span class="pl-c1">true</span></td>
        </tr>
        <tr>
          <td id="file-assignment-11-text-mining-ipynb-L1057" class="blob-num js-line-number js-code-nav-line-number js-blob-rnum" data-line-number="1057"></td>
          <td id="file-assignment-11-text-mining-ipynb-LC1057" class="blob-code blob-code-inner js-file-line">      },</td>
        </tr>
        <tr>
          <td id="file-assignment-11-text-mining-ipynb-L1058" class="blob-num js-line-number js-code-nav-line-number js-blob-rnum" data-line-number="1058"></td>
          <td id="file-assignment-11-text-mining-ipynb-LC1058" class="blob-code blob-code-inner js-file-line">      <span class="pl-ent">"cell_type"</span>: <span class="pl-s"><span class="pl-pds">"</span>code<span class="pl-pds">"</span></span>,</td>
        </tr>
        <tr>
          <td id="file-assignment-11-text-mining-ipynb-L1059" class="blob-num js-line-number js-code-nav-line-number js-blob-rnum" data-line-number="1059"></td>
          <td id="file-assignment-11-text-mining-ipynb-LC1059" class="blob-code blob-code-inner js-file-line">      <span class="pl-ent">"source"</span>: <span class="pl-s"><span class="pl-pds">"</span>df[<span class="pl-cce">\"</span>Price<span class="pl-cce">\"</span>] = df[<span class="pl-cce">\"</span>Price<span class="pl-cce">\"</span>].str.replace('₹', '')<span class="pl-pds">"</span></span>,</td>
        </tr>
        <tr>
          <td id="file-assignment-11-text-mining-ipynb-L1060" class="blob-num js-line-number js-code-nav-line-number js-blob-rnum" data-line-number="1060"></td>
          <td id="file-assignment-11-text-mining-ipynb-LC1060" class="blob-code blob-code-inner js-file-line">      <span class="pl-ent">"execution_count"</span>: <span class="pl-c1">19</span>,</td>
        </tr>
        <tr>
          <td id="file-assignment-11-text-mining-ipynb-L1061" class="blob-num js-line-number js-code-nav-line-number js-blob-rnum" data-line-number="1061"></td>
          <td id="file-assignment-11-text-mining-ipynb-LC1061" class="blob-code blob-code-inner js-file-line">      <span class="pl-ent">"outputs"</span>: []</td>
        </tr>
        <tr>
          <td id="file-assignment-11-text-mining-ipynb-L1062" class="blob-num js-line-number js-code-nav-line-number js-blob-rnum" data-line-number="1062"></td>
          <td id="file-assignment-11-text-mining-ipynb-LC1062" class="blob-code blob-code-inner js-file-line">    },</td>
        </tr>
        <tr>
          <td id="file-assignment-11-text-mining-ipynb-L1063" class="blob-num js-line-number js-code-nav-line-number js-blob-rnum" data-line-number="1063"></td>
          <td id="file-assignment-11-text-mining-ipynb-LC1063" class="blob-code blob-code-inner js-file-line">    {</td>
        </tr>
        <tr>
          <td id="file-assignment-11-text-mining-ipynb-L1064" class="blob-num js-line-number js-code-nav-line-number js-blob-rnum" data-line-number="1064"></td>
          <td id="file-assignment-11-text-mining-ipynb-LC1064" class="blob-code blob-code-inner js-file-line">      <span class="pl-ent">"metadata"</span>: {</td>
        </tr>
        <tr>
          <td id="file-assignment-11-text-mining-ipynb-L1065" class="blob-num js-line-number js-code-nav-line-number js-blob-rnum" data-line-number="1065"></td>
          <td id="file-assignment-11-text-mining-ipynb-LC1065" class="blob-code blob-code-inner js-file-line">        <span class="pl-ent">"trusted"</span>: <span class="pl-c1">true</span></td>
        </tr>
        <tr>
          <td id="file-assignment-11-text-mining-ipynb-L1066" class="blob-num js-line-number js-code-nav-line-number js-blob-rnum" data-line-number="1066"></td>
          <td id="file-assignment-11-text-mining-ipynb-LC1066" class="blob-code blob-code-inner js-file-line">      },</td>
        </tr>
        <tr>
          <td id="file-assignment-11-text-mining-ipynb-L1067" class="blob-num js-line-number js-code-nav-line-number js-blob-rnum" data-line-number="1067"></td>
          <td id="file-assignment-11-text-mining-ipynb-LC1067" class="blob-code blob-code-inner js-file-line">      <span class="pl-ent">"cell_type"</span>: <span class="pl-s"><span class="pl-pds">"</span>code<span class="pl-pds">"</span></span>,</td>
        </tr>
        <tr>
          <td id="file-assignment-11-text-mining-ipynb-L1068" class="blob-num js-line-number js-code-nav-line-number js-blob-rnum" data-line-number="1068"></td>
          <td id="file-assignment-11-text-mining-ipynb-LC1068" class="blob-code blob-code-inner js-file-line">      <span class="pl-ent">"source"</span>: <span class="pl-s"><span class="pl-pds">"</span>df[<span class="pl-cce">\"</span>Price<span class="pl-cce">\"</span>] = df[<span class="pl-cce">\"</span>Price<span class="pl-cce">\"</span>].str.replace(',', '')<span class="pl-pds">"</span></span>,</td>
        </tr>
        <tr>
          <td id="file-assignment-11-text-mining-ipynb-L1069" class="blob-num js-line-number js-code-nav-line-number js-blob-rnum" data-line-number="1069"></td>
          <td id="file-assignment-11-text-mining-ipynb-LC1069" class="blob-code blob-code-inner js-file-line">      <span class="pl-ent">"execution_count"</span>: <span class="pl-c1">20</span>,</td>
        </tr>
        <tr>
          <td id="file-assignment-11-text-mining-ipynb-L1070" class="blob-num js-line-number js-code-nav-line-number js-blob-rnum" data-line-number="1070"></td>
          <td id="file-assignment-11-text-mining-ipynb-LC1070" class="blob-code blob-code-inner js-file-line">      <span class="pl-ent">"outputs"</span>: []</td>
        </tr>
        <tr>
          <td id="file-assignment-11-text-mining-ipynb-L1071" class="blob-num js-line-number js-code-nav-line-number js-blob-rnum" data-line-number="1071"></td>
          <td id="file-assignment-11-text-mining-ipynb-LC1071" class="blob-code blob-code-inner js-file-line">    },</td>
        </tr>
        <tr>
          <td id="file-assignment-11-text-mining-ipynb-L1072" class="blob-num js-line-number js-code-nav-line-number js-blob-rnum" data-line-number="1072"></td>
          <td id="file-assignment-11-text-mining-ipynb-LC1072" class="blob-code blob-code-inner js-file-line">    {</td>
        </tr>
        <tr>
          <td id="file-assignment-11-text-mining-ipynb-L1073" class="blob-num js-line-number js-code-nav-line-number js-blob-rnum" data-line-number="1073"></td>
          <td id="file-assignment-11-text-mining-ipynb-LC1073" class="blob-code blob-code-inner js-file-line">      <span class="pl-ent">"metadata"</span>: {</td>
        </tr>
        <tr>
          <td id="file-assignment-11-text-mining-ipynb-L1074" class="blob-num js-line-number js-code-nav-line-number js-blob-rnum" data-line-number="1074"></td>
          <td id="file-assignment-11-text-mining-ipynb-LC1074" class="blob-code blob-code-inner js-file-line">        <span class="pl-ent">"trusted"</span>: <span class="pl-c1">true</span></td>
        </tr>
        <tr>
          <td id="file-assignment-11-text-mining-ipynb-L1075" class="blob-num js-line-number js-code-nav-line-number js-blob-rnum" data-line-number="1075"></td>
          <td id="file-assignment-11-text-mining-ipynb-LC1075" class="blob-code blob-code-inner js-file-line">      },</td>
        </tr>
        <tr>
          <td id="file-assignment-11-text-mining-ipynb-L1076" class="blob-num js-line-number js-code-nav-line-number js-blob-rnum" data-line-number="1076"></td>
          <td id="file-assignment-11-text-mining-ipynb-LC1076" class="blob-code blob-code-inner js-file-line">      <span class="pl-ent">"cell_type"</span>: <span class="pl-s"><span class="pl-pds">"</span>code<span class="pl-pds">"</span></span>,</td>
        </tr>
        <tr>
          <td id="file-assignment-11-text-mining-ipynb-L1077" class="blob-num js-line-number js-code-nav-line-number js-blob-rnum" data-line-number="1077"></td>
          <td id="file-assignment-11-text-mining-ipynb-LC1077" class="blob-code blob-code-inner js-file-line">      <span class="pl-ent">"source"</span>: <span class="pl-s"><span class="pl-pds">"</span>df['Price'] = df['Price'].apply(lambda x: x.split('.')[0])<span class="pl-pds">"</span></span>,</td>
        </tr>
        <tr>
          <td id="file-assignment-11-text-mining-ipynb-L1078" class="blob-num js-line-number js-code-nav-line-number js-blob-rnum" data-line-number="1078"></td>
          <td id="file-assignment-11-text-mining-ipynb-LC1078" class="blob-code blob-code-inner js-file-line">      <span class="pl-ent">"execution_count"</span>: <span class="pl-c1">21</span>,</td>
        </tr>
        <tr>
          <td id="file-assignment-11-text-mining-ipynb-L1079" class="blob-num js-line-number js-code-nav-line-number js-blob-rnum" data-line-number="1079"></td>
          <td id="file-assignment-11-text-mining-ipynb-LC1079" class="blob-code blob-code-inner js-file-line">      <span class="pl-ent">"outputs"</span>: []</td>
        </tr>
        <tr>
          <td id="file-assignment-11-text-mining-ipynb-L1080" class="blob-num js-line-number js-code-nav-line-number js-blob-rnum" data-line-number="1080"></td>
          <td id="file-assignment-11-text-mining-ipynb-LC1080" class="blob-code blob-code-inner js-file-line">    },</td>
        </tr>
        <tr>
          <td id="file-assignment-11-text-mining-ipynb-L1081" class="blob-num js-line-number js-code-nav-line-number js-blob-rnum" data-line-number="1081"></td>
          <td id="file-assignment-11-text-mining-ipynb-LC1081" class="blob-code blob-code-inner js-file-line">    {</td>
        </tr>
        <tr>
          <td id="file-assignment-11-text-mining-ipynb-L1082" class="blob-num js-line-number js-code-nav-line-number js-blob-rnum" data-line-number="1082"></td>
          <td id="file-assignment-11-text-mining-ipynb-LC1082" class="blob-code blob-code-inner js-file-line">      <span class="pl-ent">"metadata"</span>: {</td>
        </tr>
        <tr>
          <td id="file-assignment-11-text-mining-ipynb-L1083" class="blob-num js-line-number js-code-nav-line-number js-blob-rnum" data-line-number="1083"></td>
          <td id="file-assignment-11-text-mining-ipynb-LC1083" class="blob-code blob-code-inner js-file-line">        <span class="pl-ent">"trusted"</span>: <span class="pl-c1">true</span></td>
        </tr>
        <tr>
          <td id="file-assignment-11-text-mining-ipynb-L1084" class="blob-num js-line-number js-code-nav-line-number js-blob-rnum" data-line-number="1084"></td>
          <td id="file-assignment-11-text-mining-ipynb-LC1084" class="blob-code blob-code-inner js-file-line">      },</td>
        </tr>
        <tr>
          <td id="file-assignment-11-text-mining-ipynb-L1085" class="blob-num js-line-number js-code-nav-line-number js-blob-rnum" data-line-number="1085"></td>
          <td id="file-assignment-11-text-mining-ipynb-LC1085" class="blob-code blob-code-inner js-file-line">      <span class="pl-ent">"cell_type"</span>: <span class="pl-s"><span class="pl-pds">"</span>code<span class="pl-pds">"</span></span>,</td>
        </tr>
        <tr>
          <td id="file-assignment-11-text-mining-ipynb-L1086" class="blob-num js-line-number js-code-nav-line-number js-blob-rnum" data-line-number="1086"></td>
          <td id="file-assignment-11-text-mining-ipynb-LC1086" class="blob-code blob-code-inner js-file-line">      <span class="pl-ent">"source"</span>: <span class="pl-s"><span class="pl-pds">"</span>df['Price'] = df['Price'].astype(int)<span class="pl-pds">"</span></span>,</td>
        </tr>
        <tr>
          <td id="file-assignment-11-text-mining-ipynb-L1087" class="blob-num js-line-number js-code-nav-line-number js-blob-rnum" data-line-number="1087"></td>
          <td id="file-assignment-11-text-mining-ipynb-LC1087" class="blob-code blob-code-inner js-file-line">      <span class="pl-ent">"execution_count"</span>: <span class="pl-c1">22</span>,</td>
        </tr>
        <tr>
          <td id="file-assignment-11-text-mining-ipynb-L1088" class="blob-num js-line-number js-code-nav-line-number js-blob-rnum" data-line-number="1088"></td>
          <td id="file-assignment-11-text-mining-ipynb-LC1088" class="blob-code blob-code-inner js-file-line">      <span class="pl-ent">"outputs"</span>: []</td>
        </tr>
        <tr>
          <td id="file-assignment-11-text-mining-ipynb-L1089" class="blob-num js-line-number js-code-nav-line-number js-blob-rnum" data-line-number="1089"></td>
          <td id="file-assignment-11-text-mining-ipynb-LC1089" class="blob-code blob-code-inner js-file-line">    },</td>
        </tr>
        <tr>
          <td id="file-assignment-11-text-mining-ipynb-L1090" class="blob-num js-line-number js-code-nav-line-number js-blob-rnum" data-line-number="1090"></td>
          <td id="file-assignment-11-text-mining-ipynb-LC1090" class="blob-code blob-code-inner js-file-line">    {</td>
        </tr>
        <tr>
          <td id="file-assignment-11-text-mining-ipynb-L1091" class="blob-num js-line-number js-code-nav-line-number js-blob-rnum" data-line-number="1091"></td>
          <td id="file-assignment-11-text-mining-ipynb-LC1091" class="blob-code blob-code-inner js-file-line">      <span class="pl-ent">"metadata"</span>: {</td>
        </tr>
        <tr>
          <td id="file-assignment-11-text-mining-ipynb-L1092" class="blob-num js-line-number js-code-nav-line-number js-blob-rnum" data-line-number="1092"></td>
          <td id="file-assignment-11-text-mining-ipynb-LC1092" class="blob-code blob-code-inner js-file-line">        <span class="pl-ent">"trusted"</span>: <span class="pl-c1">true</span></td>
        </tr>
        <tr>
          <td id="file-assignment-11-text-mining-ipynb-L1093" class="blob-num js-line-number js-code-nav-line-number js-blob-rnum" data-line-number="1093"></td>
          <td id="file-assignment-11-text-mining-ipynb-LC1093" class="blob-code blob-code-inner js-file-line">      },</td>
        </tr>
        <tr>
          <td id="file-assignment-11-text-mining-ipynb-L1094" class="blob-num js-line-number js-code-nav-line-number js-blob-rnum" data-line-number="1094"></td>
          <td id="file-assignment-11-text-mining-ipynb-LC1094" class="blob-code blob-code-inner js-file-line">      <span class="pl-ent">"cell_type"</span>: <span class="pl-s"><span class="pl-pds">"</span>code<span class="pl-pds">"</span></span>,</td>
        </tr>
        <tr>
          <td id="file-assignment-11-text-mining-ipynb-L1095" class="blob-num js-line-number js-code-nav-line-number js-blob-rnum" data-line-number="1095"></td>
          <td id="file-assignment-11-text-mining-ipynb-LC1095" class="blob-code blob-code-inner js-file-line">      <span class="pl-ent">"source"</span>: <span class="pl-s"><span class="pl-pds">"</span>df[<span class="pl-cce">\"</span>Customers_Rated<span class="pl-cce">\"</span>] = df[<span class="pl-cce">\"</span>Customers_Rated<span class="pl-cce">\"</span>].str.replace(',', '')<span class="pl-pds">"</span></span>,</td>
        </tr>
        <tr>
          <td id="file-assignment-11-text-mining-ipynb-L1096" class="blob-num js-line-number js-code-nav-line-number js-blob-rnum" data-line-number="1096"></td>
          <td id="file-assignment-11-text-mining-ipynb-LC1096" class="blob-code blob-code-inner js-file-line">      <span class="pl-ent">"execution_count"</span>: <span class="pl-c1">23</span>,</td>
        </tr>
        <tr>
          <td id="file-assignment-11-text-mining-ipynb-L1097" class="blob-num js-line-number js-code-nav-line-number js-blob-rnum" data-line-number="1097"></td>
          <td id="file-assignment-11-text-mining-ipynb-LC1097" class="blob-code blob-code-inner js-file-line">      <span class="pl-ent">"outputs"</span>: []</td>
        </tr>
        <tr>
          <td id="file-assignment-11-text-mining-ipynb-L1098" class="blob-num js-line-number js-code-nav-line-number js-blob-rnum" data-line-number="1098"></td>
          <td id="file-assignment-11-text-mining-ipynb-LC1098" class="blob-code blob-code-inner js-file-line">    },</td>
        </tr>
        <tr>
          <td id="file-assignment-11-text-mining-ipynb-L1099" class="blob-num js-line-number js-code-nav-line-number js-blob-rnum" data-line-number="1099"></td>
          <td id="file-assignment-11-text-mining-ipynb-LC1099" class="blob-code blob-code-inner js-file-line">    {</td>
        </tr>
        <tr>
          <td id="file-assignment-11-text-mining-ipynb-L1100" class="blob-num js-line-number js-code-nav-line-number js-blob-rnum" data-line-number="1100"></td>
          <td id="file-assignment-11-text-mining-ipynb-LC1100" class="blob-code blob-code-inner js-file-line">      <span class="pl-ent">"metadata"</span>: {</td>
        </tr>
        <tr>
          <td id="file-assignment-11-text-mining-ipynb-L1101" class="blob-num js-line-number js-code-nav-line-number js-blob-rnum" data-line-number="1101"></td>
          <td id="file-assignment-11-text-mining-ipynb-LC1101" class="blob-code blob-code-inner js-file-line">        <span class="pl-ent">"trusted"</span>: <span class="pl-c1">true</span></td>
        </tr>
        <tr>
          <td id="file-assignment-11-text-mining-ipynb-L1102" class="blob-num js-line-number js-code-nav-line-number js-blob-rnum" data-line-number="1102"></td>
          <td id="file-assignment-11-text-mining-ipynb-LC1102" class="blob-code blob-code-inner js-file-line">      },</td>
        </tr>
        <tr>
          <td id="file-assignment-11-text-mining-ipynb-L1103" class="blob-num js-line-number js-code-nav-line-number js-blob-rnum" data-line-number="1103"></td>
          <td id="file-assignment-11-text-mining-ipynb-LC1103" class="blob-code blob-code-inner js-file-line">      <span class="pl-ent">"cell_type"</span>: <span class="pl-s"><span class="pl-pds">"</span>code<span class="pl-pds">"</span></span>,</td>
        </tr>
        <tr>
          <td id="file-assignment-11-text-mining-ipynb-L1104" class="blob-num js-line-number js-code-nav-line-number js-blob-rnum" data-line-number="1104"></td>
          <td id="file-assignment-11-text-mining-ipynb-LC1104" class="blob-code blob-code-inner js-file-line">      <span class="pl-ent">"source"</span>: <span class="pl-s"><span class="pl-pds">"</span>df['Customers_Rated'] = pd.to_numeric(df['Customers_Rated'], errors='ignore')<span class="pl-pds">"</span></span>,</td>
        </tr>
        <tr>
          <td id="file-assignment-11-text-mining-ipynb-L1105" class="blob-num js-line-number js-code-nav-line-number js-blob-rnum" data-line-number="1105"></td>
          <td id="file-assignment-11-text-mining-ipynb-LC1105" class="blob-code blob-code-inner js-file-line">      <span class="pl-ent">"execution_count"</span>: <span class="pl-c1">24</span>,</td>
        </tr>
        <tr>
          <td id="file-assignment-11-text-mining-ipynb-L1106" class="blob-num js-line-number js-code-nav-line-number js-blob-rnum" data-line-number="1106"></td>
          <td id="file-assignment-11-text-mining-ipynb-LC1106" class="blob-code blob-code-inner js-file-line">      <span class="pl-ent">"outputs"</span>: []</td>
        </tr>
        <tr>
          <td id="file-assignment-11-text-mining-ipynb-L1107" class="blob-num js-line-number js-code-nav-line-number js-blob-rnum" data-line-number="1107"></td>
          <td id="file-assignment-11-text-mining-ipynb-LC1107" class="blob-code blob-code-inner js-file-line">    },</td>
        </tr>
        <tr>
          <td id="file-assignment-11-text-mining-ipynb-L1108" class="blob-num js-line-number js-code-nav-line-number js-blob-rnum" data-line-number="1108"></td>
          <td id="file-assignment-11-text-mining-ipynb-LC1108" class="blob-code blob-code-inner js-file-line">    {</td>
        </tr>
        <tr>
          <td id="file-assignment-11-text-mining-ipynb-L1109" class="blob-num js-line-number js-code-nav-line-number js-blob-rnum" data-line-number="1109"></td>
          <td id="file-assignment-11-text-mining-ipynb-LC1109" class="blob-code blob-code-inner js-file-line">      <span class="pl-ent">"metadata"</span>: {</td>
        </tr>
        <tr>
          <td id="file-assignment-11-text-mining-ipynb-L1110" class="blob-num js-line-number js-code-nav-line-number js-blob-rnum" data-line-number="1110"></td>
          <td id="file-assignment-11-text-mining-ipynb-LC1110" class="blob-code blob-code-inner js-file-line">        <span class="pl-ent">"trusted"</span>: <span class="pl-c1">true</span></td>
        </tr>
        <tr>
          <td id="file-assignment-11-text-mining-ipynb-L1111" class="blob-num js-line-number js-code-nav-line-number js-blob-rnum" data-line-number="1111"></td>
          <td id="file-assignment-11-text-mining-ipynb-LC1111" class="blob-code blob-code-inner js-file-line">      },</td>
        </tr>
        <tr>
          <td id="file-assignment-11-text-mining-ipynb-L1112" class="blob-num js-line-number js-code-nav-line-number js-blob-rnum" data-line-number="1112"></td>
          <td id="file-assignment-11-text-mining-ipynb-LC1112" class="blob-code blob-code-inner js-file-line">      <span class="pl-ent">"cell_type"</span>: <span class="pl-s"><span class="pl-pds">"</span>code<span class="pl-pds">"</span></span>,</td>
        </tr>
        <tr>
          <td id="file-assignment-11-text-mining-ipynb-L1113" class="blob-num js-line-number js-code-nav-line-number js-blob-rnum" data-line-number="1113"></td>
          <td id="file-assignment-11-text-mining-ipynb-LC1113" class="blob-code blob-code-inner js-file-line">      <span class="pl-ent">"source"</span>: <span class="pl-s"><span class="pl-pds">"</span>df.head()<span class="pl-pds">"</span></span>,</td>
        </tr>
        <tr>
          <td id="file-assignment-11-text-mining-ipynb-L1114" class="blob-num js-line-number js-code-nav-line-number js-blob-rnum" data-line-number="1114"></td>
          <td id="file-assignment-11-text-mining-ipynb-LC1114" class="blob-code blob-code-inner js-file-line">      <span class="pl-ent">"execution_count"</span>: <span class="pl-c1">25</span>,</td>
        </tr>
        <tr>
          <td id="file-assignment-11-text-mining-ipynb-L1115" class="blob-num js-line-number js-code-nav-line-number js-blob-rnum" data-line-number="1115"></td>
          <td id="file-assignment-11-text-mining-ipynb-LC1115" class="blob-code blob-code-inner js-file-line">      <span class="pl-ent">"outputs"</span>: [</td>
        </tr>
        <tr>
          <td id="file-assignment-11-text-mining-ipynb-L1116" class="blob-num js-line-number js-code-nav-line-number js-blob-rnum" data-line-number="1116"></td>
          <td id="file-assignment-11-text-mining-ipynb-LC1116" class="blob-code blob-code-inner js-file-line">        {</td>
        </tr>
        <tr>
          <td id="file-assignment-11-text-mining-ipynb-L1117" class="blob-num js-line-number js-code-nav-line-number js-blob-rnum" data-line-number="1117"></td>
          <td id="file-assignment-11-text-mining-ipynb-LC1117" class="blob-code blob-code-inner js-file-line">          <span class="pl-ent">"output_type"</span>: <span class="pl-s"><span class="pl-pds">"</span>execute_result<span class="pl-pds">"</span></span>,</td>
        </tr>
        <tr>
          <td id="file-assignment-11-text-mining-ipynb-L1118" class="blob-num js-line-number js-code-nav-line-number js-blob-rnum" data-line-number="1118"></td>
          <td id="file-assignment-11-text-mining-ipynb-LC1118" class="blob-code blob-code-inner js-file-line">          <span class="pl-ent">"execution_count"</span>: <span class="pl-c1">25</span>,</td>
        </tr>
        <tr>
          <td id="file-assignment-11-text-mining-ipynb-L1119" class="blob-num js-line-number js-code-nav-line-number js-blob-rnum" data-line-number="1119"></td>
          <td id="file-assignment-11-text-mining-ipynb-LC1119" class="blob-code blob-code-inner js-file-line">          <span class="pl-ent">"data"</span>: {</td>
        </tr>
        <tr>
          <td id="file-assignment-11-text-mining-ipynb-L1120" class="blob-num js-line-number js-code-nav-line-number js-blob-rnum" data-line-number="1120"></td>
          <td id="file-assignment-11-text-mining-ipynb-LC1120" class="blob-code blob-code-inner js-file-line">            <span class="pl-ent">"text/plain"</span>: <span class="pl-s"><span class="pl-pds">"</span>                                           Book Name              Author  <span class="pl-cce">\\\n</span>0                            The Psychology of Money       Morgan Housel   <span class="pl-cce">\n</span>1  My First Library: Boxset of 10 Board Books for...  Wonder House Books   <span class="pl-cce">\n</span>2  Ikigai: The Japanese secret to a long and happ...       Héctor García   <span class="pl-cce">\n</span>3  My First Book of Patterns Pencil Control: Patt...  Wonder House Books   <span class="pl-cce">\n</span>4  Grandma's Bag of Stories: Collection of 20+ Il...         Sudha Murty   <span class="pl-cce">\n\n</span>   Rating  Customers_Rated  Price  <span class="pl-cce">\n</span>0     4.5             7444    290  <span class="pl-cce">\n</span>1     4.5            19845    399  <span class="pl-cce">\n</span>2     4.6            12180    380  <span class="pl-cce">\n</span>3     4.4             4354     89  <span class="pl-cce">\n</span>4     4.6             4410    191  <span class="pl-pds">"</span></span>,</td>
        </tr>
        <tr>
          <td id="file-assignment-11-text-mining-ipynb-L1121" class="blob-num js-line-number js-code-nav-line-number js-blob-rnum" data-line-number="1121"></td>
          <td id="file-assignment-11-text-mining-ipynb-LC1121" class="blob-code blob-code-inner js-file-line">            "text/html": "&lt;div&gt;\n&lt;style scoped&gt;\n    .dataframe tbody tr th:only-of-type {\n        vertical-align: middle;\n    }\n\n    .dataframe tbody tr th {\n        vertical-align: top;\n    }\n\n    .dataframe thead th {\n        text-align: right;\n    }\n&lt;/style&gt;\n&lt;table border=\"1\" class=\"dataframe\"&gt;\n  &lt;thead&gt;\n    &lt;tr style=\"text-align: right;\"&gt;\n      &lt;th&gt;&lt;/th&gt;\n      &lt;th&gt;Book Name&lt;/th&gt;\n      &lt;th&gt;Author&lt;/th&gt;\n      &lt;th&gt;Rating&lt;/th&gt;\n      &lt;th&gt;Customers_Rated&lt;/th&gt;\n      &lt;th&gt;Price&lt;/th&gt;\n    &lt;/tr&gt;\n  &lt;/thead&gt;\n  &lt;tbody&gt;\n    &lt;tr&gt;\n      &lt;th&gt;0&lt;/th&gt;\n      &lt;td&gt;The Psychology of Money&lt;/td&gt;\n      &lt;td&gt;Morgan Housel&lt;/td&gt;\n      &lt;td&gt;4.5&lt;/td&gt;\n      &lt;td&gt;7444&lt;/td&gt;\n      &lt;td&gt;290&lt;/td&gt;\n    &lt;/tr&gt;\n    &lt;tr&gt;\n      &lt;th&gt;1&lt;/th&gt;\n      &lt;td&gt;My First Library: Boxset of 10 Board Books for...&lt;/td&gt;\n      &lt;td&gt;Wonder House Books&lt;/td&gt;\n      &lt;td&gt;4.5&lt;/td&gt;\n      &lt;td&gt;19845&lt;/td&gt;\n      &lt;td&gt;399&lt;/td&gt;\n    &lt;/tr&gt;\n    &lt;tr&gt;\n      &lt;th&gt;2&lt;/th&gt;\n      &lt;td&gt;Ikigai: The Japanese secret to a long and happ...&lt;/td&gt;\n      &lt;td&gt;Héctor García&lt;/td&gt;\n      &lt;td&gt;4.6&lt;/td&gt;\n      &lt;td&gt;12180&lt;/td&gt;\n      &lt;td&gt;380&lt;/td&gt;\n    &lt;/tr&gt;\n    &lt;tr&gt;\n      &lt;th&gt;3&lt;/th&gt;\n      &lt;td&gt;My First Book of Patterns Pencil Control: Patt...&lt;/td&gt;\n      &lt;td&gt;Wonder House Books&lt;/td&gt;\n      &lt;td&gt;4.4&lt;/td&gt;\n      &lt;td&gt;4354&lt;/td&gt;\n      &lt;td&gt;89&lt;/td&gt;\n    &lt;/tr&gt;\n    &lt;tr&gt;\n      &lt;th&gt;4&lt;/th&gt;\n      &lt;td&gt;Grandma's Bag of Stories: Collection of 20+ Il...&lt;/td&gt;\n      &lt;td&gt;Sudha Murty&lt;/td&gt;\n      &lt;td&gt;4.6&lt;/td&gt;\n      &lt;td&gt;4410&lt;/td&gt;\n      &lt;td&gt;191&lt;/td&gt;\n    &lt;/tr&gt;\n  &lt;/tbody&gt;\n&lt;/table&gt;\n&lt;/div&gt;"</td>
        </tr>
        <tr>
          <td id="file-assignment-11-text-mining-ipynb-L1122" class="blob-num js-line-number js-code-nav-line-number js-blob-rnum" data-line-number="1122"></td>
          <td id="file-assignment-11-text-mining-ipynb-LC1122" class="blob-code blob-code-inner js-file-line">          },</td>
        </tr>
        <tr>
          <td id="file-assignment-11-text-mining-ipynb-L1123" class="blob-num js-line-number js-code-nav-line-number js-blob-rnum" data-line-number="1123"></td>
          <td id="file-assignment-11-text-mining-ipynb-LC1123" class="blob-code blob-code-inner js-file-line">          <span class="pl-ent">"metadata"</span>: {}</td>
        </tr>
        <tr>
          <td id="file-assignment-11-text-mining-ipynb-L1124" class="blob-num js-line-number js-code-nav-line-number js-blob-rnum" data-line-number="1124"></td>
          <td id="file-assignment-11-text-mining-ipynb-LC1124" class="blob-code blob-code-inner js-file-line">        }</td>
        </tr>
        <tr>
          <td id="file-assignment-11-text-mining-ipynb-L1125" class="blob-num js-line-number js-code-nav-line-number js-blob-rnum" data-line-number="1125"></td>
          <td id="file-assignment-11-text-mining-ipynb-LC1125" class="blob-code blob-code-inner js-file-line">      ]</td>
        </tr>
        <tr>
          <td id="file-assignment-11-text-mining-ipynb-L1126" class="blob-num js-line-number js-code-nav-line-number js-blob-rnum" data-line-number="1126"></td>
          <td id="file-assignment-11-text-mining-ipynb-LC1126" class="blob-code blob-code-inner js-file-line">    },</td>
        </tr>
        <tr>
          <td id="file-assignment-11-text-mining-ipynb-L1127" class="blob-num js-line-number js-code-nav-line-number js-blob-rnum" data-line-number="1127"></td>
          <td id="file-assignment-11-text-mining-ipynb-LC1127" class="blob-code blob-code-inner js-file-line">    {</td>
        </tr>
        <tr>
          <td id="file-assignment-11-text-mining-ipynb-L1128" class="blob-num js-line-number js-code-nav-line-number js-blob-rnum" data-line-number="1128"></td>
          <td id="file-assignment-11-text-mining-ipynb-LC1128" class="blob-code blob-code-inner js-file-line">      <span class="pl-ent">"metadata"</span>: {</td>
        </tr>
        <tr>
          <td id="file-assignment-11-text-mining-ipynb-L1129" class="blob-num js-line-number js-code-nav-line-number js-blob-rnum" data-line-number="1129"></td>
          <td id="file-assignment-11-text-mining-ipynb-LC1129" class="blob-code blob-code-inner js-file-line">        <span class="pl-ent">"trusted"</span>: <span class="pl-c1">true</span></td>
        </tr>
        <tr>
          <td id="file-assignment-11-text-mining-ipynb-L1130" class="blob-num js-line-number js-code-nav-line-number js-blob-rnum" data-line-number="1130"></td>
          <td id="file-assignment-11-text-mining-ipynb-LC1130" class="blob-code blob-code-inner js-file-line">      },</td>
        </tr>
        <tr>
          <td id="file-assignment-11-text-mining-ipynb-L1131" class="blob-num js-line-number js-code-nav-line-number js-blob-rnum" data-line-number="1131"></td>
          <td id="file-assignment-11-text-mining-ipynb-LC1131" class="blob-code blob-code-inner js-file-line">      <span class="pl-ent">"cell_type"</span>: <span class="pl-s"><span class="pl-pds">"</span>code<span class="pl-pds">"</span></span>,</td>
        </tr>
        <tr>
          <td id="file-assignment-11-text-mining-ipynb-L1132" class="blob-num js-line-number js-code-nav-line-number js-blob-rnum" data-line-number="1132"></td>
          <td id="file-assignment-11-text-mining-ipynb-LC1132" class="blob-code blob-code-inner js-file-line">      <span class="pl-ent">"source"</span>: <span class="pl-s"><span class="pl-pds">"</span>df.dtypes<span class="pl-cce">\n</span><span class="pl-pds">"</span></span>,</td>
        </tr>
        <tr>
          <td id="file-assignment-11-text-mining-ipynb-L1133" class="blob-num js-line-number js-code-nav-line-number js-blob-rnum" data-line-number="1133"></td>
          <td id="file-assignment-11-text-mining-ipynb-LC1133" class="blob-code blob-code-inner js-file-line">      <span class="pl-ent">"execution_count"</span>: <span class="pl-c1">26</span>,</td>
        </tr>
        <tr>
          <td id="file-assignment-11-text-mining-ipynb-L1134" class="blob-num js-line-number js-code-nav-line-number js-blob-rnum" data-line-number="1134"></td>
          <td id="file-assignment-11-text-mining-ipynb-LC1134" class="blob-code blob-code-inner js-file-line">      <span class="pl-ent">"outputs"</span>: [</td>
        </tr>
        <tr>
          <td id="file-assignment-11-text-mining-ipynb-L1135" class="blob-num js-line-number js-code-nav-line-number js-blob-rnum" data-line-number="1135"></td>
          <td id="file-assignment-11-text-mining-ipynb-LC1135" class="blob-code blob-code-inner js-file-line">        {</td>
        </tr>
        <tr>
          <td id="file-assignment-11-text-mining-ipynb-L1136" class="blob-num js-line-number js-code-nav-line-number js-blob-rnum" data-line-number="1136"></td>
          <td id="file-assignment-11-text-mining-ipynb-LC1136" class="blob-code blob-code-inner js-file-line">          <span class="pl-ent">"output_type"</span>: <span class="pl-s"><span class="pl-pds">"</span>execute_result<span class="pl-pds">"</span></span>,</td>
        </tr>
        <tr>
          <td id="file-assignment-11-text-mining-ipynb-L1137" class="blob-num js-line-number js-code-nav-line-number js-blob-rnum" data-line-number="1137"></td>
          <td id="file-assignment-11-text-mining-ipynb-LC1137" class="blob-code blob-code-inner js-file-line">          <span class="pl-ent">"execution_count"</span>: <span class="pl-c1">26</span>,</td>
        </tr>
        <tr>
          <td id="file-assignment-11-text-mining-ipynb-L1138" class="blob-num js-line-number js-code-nav-line-number js-blob-rnum" data-line-number="1138"></td>
          <td id="file-assignment-11-text-mining-ipynb-LC1138" class="blob-code blob-code-inner js-file-line">          <span class="pl-ent">"data"</span>: {</td>
        </tr>
        <tr>
          <td id="file-assignment-11-text-mining-ipynb-L1139" class="blob-num js-line-number js-code-nav-line-number js-blob-rnum" data-line-number="1139"></td>
          <td id="file-assignment-11-text-mining-ipynb-LC1139" class="blob-code blob-code-inner js-file-line">            <span class="pl-ent">"text/plain"</span>: <span class="pl-s"><span class="pl-pds">"</span>Book Name           object<span class="pl-cce">\n</span>Author              object<span class="pl-cce">\n</span>Rating             float64<span class="pl-cce">\n</span>Customers_Rated      int64<span class="pl-cce">\n</span>Price                int32<span class="pl-cce">\n</span>dtype: object<span class="pl-pds">"</span></span></td>
        </tr>
        <tr>
          <td id="file-assignment-11-text-mining-ipynb-L1140" class="blob-num js-line-number js-code-nav-line-number js-blob-rnum" data-line-number="1140"></td>
          <td id="file-assignment-11-text-mining-ipynb-LC1140" class="blob-code blob-code-inner js-file-line">          },</td>
        </tr>
        <tr>
          <td id="file-assignment-11-text-mining-ipynb-L1141" class="blob-num js-line-number js-code-nav-line-number js-blob-rnum" data-line-number="1141"></td>
          <td id="file-assignment-11-text-mining-ipynb-LC1141" class="blob-code blob-code-inner js-file-line">          <span class="pl-ent">"metadata"</span>: {}</td>
        </tr>
        <tr>
          <td id="file-assignment-11-text-mining-ipynb-L1142" class="blob-num js-line-number js-code-nav-line-number js-blob-rnum" data-line-number="1142"></td>
          <td id="file-assignment-11-text-mining-ipynb-LC1142" class="blob-code blob-code-inner js-file-line">        }</td>
        </tr>
        <tr>
          <td id="file-assignment-11-text-mining-ipynb-L1143" class="blob-num js-line-number js-code-nav-line-number js-blob-rnum" data-line-number="1143"></td>
          <td id="file-assignment-11-text-mining-ipynb-LC1143" class="blob-code blob-code-inner js-file-line">      ]</td>
        </tr>
        <tr>
          <td id="file-assignment-11-text-mining-ipynb-L1144" class="blob-num js-line-number js-code-nav-line-number js-blob-rnum" data-line-number="1144"></td>
          <td id="file-assignment-11-text-mining-ipynb-LC1144" class="blob-code blob-code-inner js-file-line">    },</td>
        </tr>
        <tr>
          <td id="file-assignment-11-text-mining-ipynb-L1145" class="blob-num js-line-number js-code-nav-line-number js-blob-rnum" data-line-number="1145"></td>
          <td id="file-assignment-11-text-mining-ipynb-LC1145" class="blob-code blob-code-inner js-file-line">    {</td>
        </tr>
        <tr>
          <td id="file-assignment-11-text-mining-ipynb-L1146" class="blob-num js-line-number js-code-nav-line-number js-blob-rnum" data-line-number="1146"></td>
          <td id="file-assignment-11-text-mining-ipynb-LC1146" class="blob-code blob-code-inner js-file-line">      <span class="pl-ent">"metadata"</span>: {</td>
        </tr>
        <tr>
          <td id="file-assignment-11-text-mining-ipynb-L1147" class="blob-num js-line-number js-code-nav-line-number js-blob-rnum" data-line-number="1147"></td>
          <td id="file-assignment-11-text-mining-ipynb-LC1147" class="blob-code blob-code-inner js-file-line">        <span class="pl-ent">"trusted"</span>: <span class="pl-c1">true</span></td>
        </tr>
        <tr>
          <td id="file-assignment-11-text-mining-ipynb-L1148" class="blob-num js-line-number js-code-nav-line-number js-blob-rnum" data-line-number="1148"></td>
          <td id="file-assignment-11-text-mining-ipynb-LC1148" class="blob-code blob-code-inner js-file-line">      },</td>
        </tr>
        <tr>
          <td id="file-assignment-11-text-mining-ipynb-L1149" class="blob-num js-line-number js-code-nav-line-number js-blob-rnum" data-line-number="1149"></td>
          <td id="file-assignment-11-text-mining-ipynb-LC1149" class="blob-code blob-code-inner js-file-line">      <span class="pl-ent">"cell_type"</span>: <span class="pl-s"><span class="pl-pds">"</span>code<span class="pl-pds">"</span></span>,</td>
        </tr>
        <tr>
          <td id="file-assignment-11-text-mining-ipynb-L1150" class="blob-num js-line-number js-code-nav-line-number js-blob-rnum" data-line-number="1150"></td>
          <td id="file-assignment-11-text-mining-ipynb-LC1150" class="blob-code blob-code-inner js-file-line">      <span class="pl-ent">"source"</span>: <span class="pl-s"><span class="pl-pds">"</span>df.replace(str(0), np.nan, inplace=True)<span class="pl-cce">\n</span>df.replace(0, np.nan, inplace=True)<span class="pl-pds">"</span></span>,</td>
        </tr>
        <tr>
          <td id="file-assignment-11-text-mining-ipynb-L1151" class="blob-num js-line-number js-code-nav-line-number js-blob-rnum" data-line-number="1151"></td>
          <td id="file-assignment-11-text-mining-ipynb-LC1151" class="blob-code blob-code-inner js-file-line">      <span class="pl-ent">"execution_count"</span>: <span class="pl-c1">27</span>,</td>
        </tr>
        <tr>
          <td id="file-assignment-11-text-mining-ipynb-L1152" class="blob-num js-line-number js-code-nav-line-number js-blob-rnum" data-line-number="1152"></td>
          <td id="file-assignment-11-text-mining-ipynb-LC1152" class="blob-code blob-code-inner js-file-line">      <span class="pl-ent">"outputs"</span>: []</td>
        </tr>
        <tr>
          <td id="file-assignment-11-text-mining-ipynb-L1153" class="blob-num js-line-number js-code-nav-line-number js-blob-rnum" data-line-number="1153"></td>
          <td id="file-assignment-11-text-mining-ipynb-LC1153" class="blob-code blob-code-inner js-file-line">    },</td>
        </tr>
        <tr>
          <td id="file-assignment-11-text-mining-ipynb-L1154" class="blob-num js-line-number js-code-nav-line-number js-blob-rnum" data-line-number="1154"></td>
          <td id="file-assignment-11-text-mining-ipynb-LC1154" class="blob-code blob-code-inner js-file-line">    {</td>
        </tr>
        <tr>
          <td id="file-assignment-11-text-mining-ipynb-L1155" class="blob-num js-line-number js-code-nav-line-number js-blob-rnum" data-line-number="1155"></td>
          <td id="file-assignment-11-text-mining-ipynb-LC1155" class="blob-code blob-code-inner js-file-line">      <span class="pl-ent">"metadata"</span>: {</td>
        </tr>
        <tr>
          <td id="file-assignment-11-text-mining-ipynb-L1156" class="blob-num js-line-number js-code-nav-line-number js-blob-rnum" data-line-number="1156"></td>
          <td id="file-assignment-11-text-mining-ipynb-LC1156" class="blob-code blob-code-inner js-file-line">        <span class="pl-ent">"trusted"</span>: <span class="pl-c1">true</span></td>
        </tr>
        <tr>
          <td id="file-assignment-11-text-mining-ipynb-L1157" class="blob-num js-line-number js-code-nav-line-number js-blob-rnum" data-line-number="1157"></td>
          <td id="file-assignment-11-text-mining-ipynb-LC1157" class="blob-code blob-code-inner js-file-line">      },</td>
        </tr>
        <tr>
          <td id="file-assignment-11-text-mining-ipynb-L1158" class="blob-num js-line-number js-code-nav-line-number js-blob-rnum" data-line-number="1158"></td>
          <td id="file-assignment-11-text-mining-ipynb-LC1158" class="blob-code blob-code-inner js-file-line">      <span class="pl-ent">"cell_type"</span>: <span class="pl-s"><span class="pl-pds">"</span>code<span class="pl-pds">"</span></span>,</td>
        </tr>
        <tr>
          <td id="file-assignment-11-text-mining-ipynb-L1159" class="blob-num js-line-number js-code-nav-line-number js-blob-rnum" data-line-number="1159"></td>
          <td id="file-assignment-11-text-mining-ipynb-LC1159" class="blob-code blob-code-inner js-file-line">      <span class="pl-ent">"source"</span>: <span class="pl-s"><span class="pl-pds">"</span>count_nan = len(df) - df.count()<span class="pl-pds">"</span></span>,</td>
        </tr>
        <tr>
          <td id="file-assignment-11-text-mining-ipynb-L1160" class="blob-num js-line-number js-code-nav-line-number js-blob-rnum" data-line-number="1160"></td>
          <td id="file-assignment-11-text-mining-ipynb-LC1160" class="blob-code blob-code-inner js-file-line">      <span class="pl-ent">"execution_count"</span>: <span class="pl-c1">28</span>,</td>
        </tr>
        <tr>
          <td id="file-assignment-11-text-mining-ipynb-L1161" class="blob-num js-line-number js-code-nav-line-number js-blob-rnum" data-line-number="1161"></td>
          <td id="file-assignment-11-text-mining-ipynb-LC1161" class="blob-code blob-code-inner js-file-line">      <span class="pl-ent">"outputs"</span>: []</td>
        </tr>
        <tr>
          <td id="file-assignment-11-text-mining-ipynb-L1162" class="blob-num js-line-number js-code-nav-line-number js-blob-rnum" data-line-number="1162"></td>
          <td id="file-assignment-11-text-mining-ipynb-LC1162" class="blob-code blob-code-inner js-file-line">    },</td>
        </tr>
        <tr>
          <td id="file-assignment-11-text-mining-ipynb-L1163" class="blob-num js-line-number js-code-nav-line-number js-blob-rnum" data-line-number="1163"></td>
          <td id="file-assignment-11-text-mining-ipynb-LC1163" class="blob-code blob-code-inner js-file-line">    {</td>
        </tr>
        <tr>
          <td id="file-assignment-11-text-mining-ipynb-L1164" class="blob-num js-line-number js-code-nav-line-number js-blob-rnum" data-line-number="1164"></td>
          <td id="file-assignment-11-text-mining-ipynb-LC1164" class="blob-code blob-code-inner js-file-line">      <span class="pl-ent">"metadata"</span>: {</td>
        </tr>
        <tr>
          <td id="file-assignment-11-text-mining-ipynb-L1165" class="blob-num js-line-number js-code-nav-line-number js-blob-rnum" data-line-number="1165"></td>
          <td id="file-assignment-11-text-mining-ipynb-LC1165" class="blob-code blob-code-inner js-file-line">        <span class="pl-ent">"trusted"</span>: <span class="pl-c1">true</span></td>
        </tr>
        <tr>
          <td id="file-assignment-11-text-mining-ipynb-L1166" class="blob-num js-line-number js-code-nav-line-number js-blob-rnum" data-line-number="1166"></td>
          <td id="file-assignment-11-text-mining-ipynb-LC1166" class="blob-code blob-code-inner js-file-line">      },</td>
        </tr>
        <tr>
          <td id="file-assignment-11-text-mining-ipynb-L1167" class="blob-num js-line-number js-code-nav-line-number js-blob-rnum" data-line-number="1167"></td>
          <td id="file-assignment-11-text-mining-ipynb-LC1167" class="blob-code blob-code-inner js-file-line">      <span class="pl-ent">"cell_type"</span>: <span class="pl-s"><span class="pl-pds">"</span>code<span class="pl-pds">"</span></span>,</td>
        </tr>
        <tr>
          <td id="file-assignment-11-text-mining-ipynb-L1168" class="blob-num js-line-number js-code-nav-line-number js-blob-rnum" data-line-number="1168"></td>
          <td id="file-assignment-11-text-mining-ipynb-LC1168" class="blob-code blob-code-inner js-file-line">      <span class="pl-ent">"source"</span>: <span class="pl-s"><span class="pl-pds">"</span>count_nan<span class="pl-pds">"</span></span>,</td>
        </tr>
        <tr>
          <td id="file-assignment-11-text-mining-ipynb-L1169" class="blob-num js-line-number js-code-nav-line-number js-blob-rnum" data-line-number="1169"></td>
          <td id="file-assignment-11-text-mining-ipynb-LC1169" class="blob-code blob-code-inner js-file-line">      <span class="pl-ent">"execution_count"</span>: <span class="pl-c1">29</span>,</td>
        </tr>
        <tr>
          <td id="file-assignment-11-text-mining-ipynb-L1170" class="blob-num js-line-number js-code-nav-line-number js-blob-rnum" data-line-number="1170"></td>
          <td id="file-assignment-11-text-mining-ipynb-LC1170" class="blob-code blob-code-inner js-file-line">      <span class="pl-ent">"outputs"</span>: [</td>
        </tr>
        <tr>
          <td id="file-assignment-11-text-mining-ipynb-L1171" class="blob-num js-line-number js-code-nav-line-number js-blob-rnum" data-line-number="1171"></td>
          <td id="file-assignment-11-text-mining-ipynb-LC1171" class="blob-code blob-code-inner js-file-line">        {</td>
        </tr>
        <tr>
          <td id="file-assignment-11-text-mining-ipynb-L1172" class="blob-num js-line-number js-code-nav-line-number js-blob-rnum" data-line-number="1172"></td>
          <td id="file-assignment-11-text-mining-ipynb-LC1172" class="blob-code blob-code-inner js-file-line">          <span class="pl-ent">"output_type"</span>: <span class="pl-s"><span class="pl-pds">"</span>execute_result<span class="pl-pds">"</span></span>,</td>
        </tr>
        <tr>
          <td id="file-assignment-11-text-mining-ipynb-L1173" class="blob-num js-line-number js-code-nav-line-number js-blob-rnum" data-line-number="1173"></td>
          <td id="file-assignment-11-text-mining-ipynb-LC1173" class="blob-code blob-code-inner js-file-line">          <span class="pl-ent">"execution_count"</span>: <span class="pl-c1">29</span>,</td>
        </tr>
        <tr>
          <td id="file-assignment-11-text-mining-ipynb-L1174" class="blob-num js-line-number js-code-nav-line-number js-blob-rnum" data-line-number="1174"></td>
          <td id="file-assignment-11-text-mining-ipynb-LC1174" class="blob-code blob-code-inner js-file-line">          <span class="pl-ent">"data"</span>: {</td>
        </tr>
        <tr>
          <td id="file-assignment-11-text-mining-ipynb-L1175" class="blob-num js-line-number js-code-nav-line-number js-blob-rnum" data-line-number="1175"></td>
          <td id="file-assignment-11-text-mining-ipynb-LC1175" class="blob-code blob-code-inner js-file-line">            <span class="pl-ent">"text/plain"</span>: <span class="pl-s"><span class="pl-pds">"</span>Book Name          0<span class="pl-cce">\n</span>Author             0<span class="pl-cce">\n</span>Rating             0<span class="pl-cce">\n</span>Customers_Rated    2<span class="pl-cce">\n</span>Price              0<span class="pl-cce">\n</span>dtype: int64<span class="pl-pds">"</span></span></td>
        </tr>
        <tr>
          <td id="file-assignment-11-text-mining-ipynb-L1176" class="blob-num js-line-number js-code-nav-line-number js-blob-rnum" data-line-number="1176"></td>
          <td id="file-assignment-11-text-mining-ipynb-LC1176" class="blob-code blob-code-inner js-file-line">          },</td>
        </tr>
        <tr>
          <td id="file-assignment-11-text-mining-ipynb-L1177" class="blob-num js-line-number js-code-nav-line-number js-blob-rnum" data-line-number="1177"></td>
          <td id="file-assignment-11-text-mining-ipynb-LC1177" class="blob-code blob-code-inner js-file-line">          <span class="pl-ent">"metadata"</span>: {}</td>
        </tr>
        <tr>
          <td id="file-assignment-11-text-mining-ipynb-L1178" class="blob-num js-line-number js-code-nav-line-number js-blob-rnum" data-line-number="1178"></td>
          <td id="file-assignment-11-text-mining-ipynb-LC1178" class="blob-code blob-code-inner js-file-line">        }</td>
        </tr>
        <tr>
          <td id="file-assignment-11-text-mining-ipynb-L1179" class="blob-num js-line-number js-code-nav-line-number js-blob-rnum" data-line-number="1179"></td>
          <td id="file-assignment-11-text-mining-ipynb-LC1179" class="blob-code blob-code-inner js-file-line">      ]</td>
        </tr>
        <tr>
          <td id="file-assignment-11-text-mining-ipynb-L1180" class="blob-num js-line-number js-code-nav-line-number js-blob-rnum" data-line-number="1180"></td>
          <td id="file-assignment-11-text-mining-ipynb-LC1180" class="blob-code blob-code-inner js-file-line">    },</td>
        </tr>
        <tr>
          <td id="file-assignment-11-text-mining-ipynb-L1181" class="blob-num js-line-number js-code-nav-line-number js-blob-rnum" data-line-number="1181"></td>
          <td id="file-assignment-11-text-mining-ipynb-LC1181" class="blob-code blob-code-inner js-file-line">    {</td>
        </tr>
        <tr>
          <td id="file-assignment-11-text-mining-ipynb-L1182" class="blob-num js-line-number js-code-nav-line-number js-blob-rnum" data-line-number="1182"></td>
          <td id="file-assignment-11-text-mining-ipynb-LC1182" class="blob-code blob-code-inner js-file-line">      <span class="pl-ent">"metadata"</span>: {</td>
        </tr>
        <tr>
          <td id="file-assignment-11-text-mining-ipynb-L1183" class="blob-num js-line-number js-code-nav-line-number js-blob-rnum" data-line-number="1183"></td>
          <td id="file-assignment-11-text-mining-ipynb-LC1183" class="blob-code blob-code-inner js-file-line">        <span class="pl-ent">"trusted"</span>: <span class="pl-c1">true</span></td>
        </tr>
        <tr>
          <td id="file-assignment-11-text-mining-ipynb-L1184" class="blob-num js-line-number js-code-nav-line-number js-blob-rnum" data-line-number="1184"></td>
          <td id="file-assignment-11-text-mining-ipynb-LC1184" class="blob-code blob-code-inner js-file-line">      },</td>
        </tr>
        <tr>
          <td id="file-assignment-11-text-mining-ipynb-L1185" class="blob-num js-line-number js-code-nav-line-number js-blob-rnum" data-line-number="1185"></td>
          <td id="file-assignment-11-text-mining-ipynb-LC1185" class="blob-code blob-code-inner js-file-line">      <span class="pl-ent">"cell_type"</span>: <span class="pl-s"><span class="pl-pds">"</span>code<span class="pl-pds">"</span></span>,</td>
        </tr>
        <tr>
          <td id="file-assignment-11-text-mining-ipynb-L1186" class="blob-num js-line-number js-code-nav-line-number js-blob-rnum" data-line-number="1186"></td>
          <td id="file-assignment-11-text-mining-ipynb-LC1186" class="blob-code blob-code-inner js-file-line">      <span class="pl-ent">"source"</span>: <span class="pl-s"><span class="pl-pds">"</span>df = df.dropna()<span class="pl-pds">"</span></span>,</td>
        </tr>
        <tr>
          <td id="file-assignment-11-text-mining-ipynb-L1187" class="blob-num js-line-number js-code-nav-line-number js-blob-rnum" data-line-number="1187"></td>
          <td id="file-assignment-11-text-mining-ipynb-LC1187" class="blob-code blob-code-inner js-file-line">      <span class="pl-ent">"execution_count"</span>: <span class="pl-c1">30</span>,</td>
        </tr>
        <tr>
          <td id="file-assignment-11-text-mining-ipynb-L1188" class="blob-num js-line-number js-code-nav-line-number js-blob-rnum" data-line-number="1188"></td>
          <td id="file-assignment-11-text-mining-ipynb-LC1188" class="blob-code blob-code-inner js-file-line">      <span class="pl-ent">"outputs"</span>: []</td>
        </tr>
        <tr>
          <td id="file-assignment-11-text-mining-ipynb-L1189" class="blob-num js-line-number js-code-nav-line-number js-blob-rnum" data-line-number="1189"></td>
          <td id="file-assignment-11-text-mining-ipynb-LC1189" class="blob-code blob-code-inner js-file-line">    },</td>
        </tr>
        <tr>
          <td id="file-assignment-11-text-mining-ipynb-L1190" class="blob-num js-line-number js-code-nav-line-number js-blob-rnum" data-line-number="1190"></td>
          <td id="file-assignment-11-text-mining-ipynb-LC1190" class="blob-code blob-code-inner js-file-line">    {</td>
        </tr>
        <tr>
          <td id="file-assignment-11-text-mining-ipynb-L1191" class="blob-num js-line-number js-code-nav-line-number js-blob-rnum" data-line-number="1191"></td>
          <td id="file-assignment-11-text-mining-ipynb-LC1191" class="blob-code blob-code-inner js-file-line">      <span class="pl-ent">"metadata"</span>: {</td>
        </tr>
        <tr>
          <td id="file-assignment-11-text-mining-ipynb-L1192" class="blob-num js-line-number js-code-nav-line-number js-blob-rnum" data-line-number="1192"></td>
          <td id="file-assignment-11-text-mining-ipynb-LC1192" class="blob-code blob-code-inner js-file-line">        <span class="pl-ent">"trusted"</span>: <span class="pl-c1">true</span></td>
        </tr>
        <tr>
          <td id="file-assignment-11-text-mining-ipynb-L1193" class="blob-num js-line-number js-code-nav-line-number js-blob-rnum" data-line-number="1193"></td>
          <td id="file-assignment-11-text-mining-ipynb-LC1193" class="blob-code blob-code-inner js-file-line">      },</td>
        </tr>
        <tr>
          <td id="file-assignment-11-text-mining-ipynb-L1194" class="blob-num js-line-number js-code-nav-line-number js-blob-rnum" data-line-number="1194"></td>
          <td id="file-assignment-11-text-mining-ipynb-LC1194" class="blob-code blob-code-inner js-file-line">      <span class="pl-ent">"cell_type"</span>: <span class="pl-s"><span class="pl-pds">"</span>code<span class="pl-pds">"</span></span>,</td>
        </tr>
        <tr>
          <td id="file-assignment-11-text-mining-ipynb-L1195" class="blob-num js-line-number js-code-nav-line-number js-blob-rnum" data-line-number="1195"></td>
          <td id="file-assignment-11-text-mining-ipynb-LC1195" class="blob-code blob-code-inner js-file-line">      <span class="pl-ent">"source"</span>: <span class="pl-s"><span class="pl-pds">"</span>data = df.sort_values([<span class="pl-cce">\"</span>Price<span class="pl-cce">\"</span>], axis=0, ascending=False)[:15]<span class="pl-pds">"</span></span>,</td>
        </tr>
        <tr>
          <td id="file-assignment-11-text-mining-ipynb-L1196" class="blob-num js-line-number js-code-nav-line-number js-blob-rnum" data-line-number="1196"></td>
          <td id="file-assignment-11-text-mining-ipynb-LC1196" class="blob-code blob-code-inner js-file-line">      <span class="pl-ent">"execution_count"</span>: <span class="pl-c1">31</span>,</td>
        </tr>
        <tr>
          <td id="file-assignment-11-text-mining-ipynb-L1197" class="blob-num js-line-number js-code-nav-line-number js-blob-rnum" data-line-number="1197"></td>
          <td id="file-assignment-11-text-mining-ipynb-LC1197" class="blob-code blob-code-inner js-file-line">      <span class="pl-ent">"outputs"</span>: []</td>
        </tr>
        <tr>
          <td id="file-assignment-11-text-mining-ipynb-L1198" class="blob-num js-line-number js-code-nav-line-number js-blob-rnum" data-line-number="1198"></td>
          <td id="file-assignment-11-text-mining-ipynb-LC1198" class="blob-code blob-code-inner js-file-line">    },</td>
        </tr>
        <tr>
          <td id="file-assignment-11-text-mining-ipynb-L1199" class="blob-num js-line-number js-code-nav-line-number js-blob-rnum" data-line-number="1199"></td>
          <td id="file-assignment-11-text-mining-ipynb-LC1199" class="blob-code blob-code-inner js-file-line">    {</td>
        </tr>
        <tr>
          <td id="file-assignment-11-text-mining-ipynb-L1200" class="blob-num js-line-number js-code-nav-line-number js-blob-rnum" data-line-number="1200"></td>
          <td id="file-assignment-11-text-mining-ipynb-LC1200" class="blob-code blob-code-inner js-file-line">      <span class="pl-ent">"metadata"</span>: {</td>
        </tr>
        <tr>
          <td id="file-assignment-11-text-mining-ipynb-L1201" class="blob-num js-line-number js-code-nav-line-number js-blob-rnum" data-line-number="1201"></td>
          <td id="file-assignment-11-text-mining-ipynb-LC1201" class="blob-code blob-code-inner js-file-line">        <span class="pl-ent">"trusted"</span>: <span class="pl-c1">true</span></td>
        </tr>
        <tr>
          <td id="file-assignment-11-text-mining-ipynb-L1202" class="blob-num js-line-number js-code-nav-line-number js-blob-rnum" data-line-number="1202"></td>
          <td id="file-assignment-11-text-mining-ipynb-LC1202" class="blob-code blob-code-inner js-file-line">      },</td>
        </tr>
        <tr>
          <td id="file-assignment-11-text-mining-ipynb-L1203" class="blob-num js-line-number js-code-nav-line-number js-blob-rnum" data-line-number="1203"></td>
          <td id="file-assignment-11-text-mining-ipynb-LC1203" class="blob-code blob-code-inner js-file-line">      <span class="pl-ent">"cell_type"</span>: <span class="pl-s"><span class="pl-pds">"</span>code<span class="pl-pds">"</span></span>,</td>
        </tr>
        <tr>
          <td id="file-assignment-11-text-mining-ipynb-L1204" class="blob-num js-line-number js-code-nav-line-number js-blob-rnum" data-line-number="1204"></td>
          <td id="file-assignment-11-text-mining-ipynb-LC1204" class="blob-code blob-code-inner js-file-line">      <span class="pl-ent">"source"</span>: <span class="pl-s"><span class="pl-pds">"</span>data<span class="pl-pds">"</span></span>,</td>
        </tr>
        <tr>
          <td id="file-assignment-11-text-mining-ipynb-L1205" class="blob-num js-line-number js-code-nav-line-number js-blob-rnum" data-line-number="1205"></td>
          <td id="file-assignment-11-text-mining-ipynb-LC1205" class="blob-code blob-code-inner js-file-line">      <span class="pl-ent">"execution_count"</span>: <span class="pl-c1">32</span>,</td>
        </tr>
        <tr>
          <td id="file-assignment-11-text-mining-ipynb-L1206" class="blob-num js-line-number js-code-nav-line-number js-blob-rnum" data-line-number="1206"></td>
          <td id="file-assignment-11-text-mining-ipynb-LC1206" class="blob-code blob-code-inner js-file-line">      <span class="pl-ent">"outputs"</span>: [</td>
        </tr>
        <tr>
          <td id="file-assignment-11-text-mining-ipynb-L1207" class="blob-num js-line-number js-code-nav-line-number js-blob-rnum" data-line-number="1207"></td>
          <td id="file-assignment-11-text-mining-ipynb-LC1207" class="blob-code blob-code-inner js-file-line">        {</td>
        </tr>
        <tr>
          <td id="file-assignment-11-text-mining-ipynb-L1208" class="blob-num js-line-number js-code-nav-line-number js-blob-rnum" data-line-number="1208"></td>
          <td id="file-assignment-11-text-mining-ipynb-LC1208" class="blob-code blob-code-inner js-file-line">          <span class="pl-ent">"output_type"</span>: <span class="pl-s"><span class="pl-pds">"</span>execute_result<span class="pl-pds">"</span></span>,</td>
        </tr>
        <tr>
          <td id="file-assignment-11-text-mining-ipynb-L1209" class="blob-num js-line-number js-code-nav-line-number js-blob-rnum" data-line-number="1209"></td>
          <td id="file-assignment-11-text-mining-ipynb-LC1209" class="blob-code blob-code-inner js-file-line">          <span class="pl-ent">"execution_count"</span>: <span class="pl-c1">32</span>,</td>
        </tr>
        <tr>
          <td id="file-assignment-11-text-mining-ipynb-L1210" class="blob-num js-line-number js-code-nav-line-number js-blob-rnum" data-line-number="1210"></td>
          <td id="file-assignment-11-text-mining-ipynb-LC1210" class="blob-code blob-code-inner js-file-line">          <span class="pl-ent">"data"</span>: {</td>
        </tr>
        <tr>
          <td id="file-assignment-11-text-mining-ipynb-L1211" class="blob-num js-line-number js-code-nav-line-number js-blob-rnum" data-line-number="1211"></td>
          <td id="file-assignment-11-text-mining-ipynb-LC1211" class="blob-code blob-code-inner js-file-line">            "text/plain": "                                            Book Name  \\\n29  Combo Pack: Lakhmir Singh Class 10 Science (Bi...   \n75  My First Complete Learning Library: Boxset of ...   \n62  Computer Science with Python Textbook and Prac...   \n6   Indian Polity - For Civil Services and Other S...   \n40  Objective NCERT at your FINGERTIPS for NEET-AI...   \n23  Mathematics for Class 10 by R D Sharma (Examin...   \n51  A Modern Approach to Verbal &amp; Non-Verbal Reaso...   \n77  Indian Art and Culture for Civil Services and ...   \n41  Best of Children’s Classics (Set of 5 Books): ...   \n12  The Intelligent Investor (English) Paperback –...   \n96  Business Studies Class-12 Poonam Gandhi (Sessi...   \n14  Quantitative Aptitude for Competitive Examinat...   \n45  T.S. Grewal's Double Entry Book Keeping: Accou...   \n69                               Unfinished: A Memoir   \n9   Atomic Habits: The life-changing million copy ...   \n\n                                Author  Rating  Customers_Rated  Price  \n29           Manjit Kaur Lakhmir Singh     4.4            405.0   1198  \n75                  Wonder House Books     4.6           3716.0    799  \n62                        Sumita Arora     4.5            528.0    595  \n6                        M. Laxmikanth     4.6           7300.0    580  \n40                 MTG Editorial Board     4.7           1071.0    561  \n23                         R.D. Sharma     4.6           1120.0    545  \n51                       R.S. Aggarwal     4.4           4430.0    540  \n77                     Nitin Singhania     4.6           2139.0    501  \n41            Antoine de Saint-Exupéry     4.5            416.0    499  \n12                     Benjamin Graham     4.5          21526.0    499  \n96                       Poonam Gandhi     4.4            222.0    475  \n14                        R S Aggarwal     4.4          10246.0    470  \n45  CA. Dr. G.S. Grewal &amp; R.K. Khosla\n     4.7             30.0    460  \n69               Priyanka Chopra Jonas     4.4           1701.0    452  \n9                          James Clear     4.6          16898.0    445  ",</td>
        </tr>
        <tr>
          <td id="file-assignment-11-text-mining-ipynb-L1212" class="blob-num js-line-number js-code-nav-line-number js-blob-rnum" data-line-number="1212"></td>
          <td id="file-assignment-11-text-mining-ipynb-LC1212" class="blob-code blob-code-inner js-file-line">            "text/html": "&lt;div&gt;\n&lt;style scoped&gt;\n    .dataframe tbody tr th:only-of-type {\n        vertical-align: middle;\n    }\n\n    .dataframe tbody tr th {\n        vertical-align: top;\n    }\n\n    .dataframe thead th {\n        text-align: right;\n    }\n&lt;/style&gt;\n&lt;table border=\"1\" class=\"dataframe\"&gt;\n  &lt;thead&gt;\n    &lt;tr style=\"text-align: right;\"&gt;\n      &lt;th&gt;&lt;/th&gt;\n      &lt;th&gt;Book Name&lt;/th&gt;\n      &lt;th&gt;Author&lt;/th&gt;\n      &lt;th&gt;Rating&lt;/th&gt;\n      &lt;th&gt;Customers_Rated&lt;/th&gt;\n      &lt;th&gt;Price&lt;/th&gt;\n    &lt;/tr&gt;\n  &lt;/thead&gt;\n  &lt;tbody&gt;\n    &lt;tr&gt;\n      &lt;th&gt;29&lt;/th&gt;\n      &lt;td&gt;Combo Pack: Lakhmir Singh Class 10 Science (Bi...&lt;/td&gt;\n      &lt;td&gt;Manjit Kaur Lakhmir Singh&lt;/td&gt;\n      &lt;td&gt;4.4&lt;/td&gt;\n      &lt;td&gt;405.0&lt;/td&gt;\n      &lt;td&gt;1198&lt;/td&gt;\n    &lt;/tr&gt;\n    &lt;tr&gt;\n      &lt;th&gt;75&lt;/th&gt;\n      &lt;td&gt;My First Complete Learning Library: Boxset of ...&lt;/td&gt;\n      &lt;td&gt;Wonder House Books&lt;/td&gt;\n      &lt;td&gt;4.6&lt;/td&gt;\n      &lt;td&gt;3716.0&lt;/td&gt;\n      &lt;td&gt;799&lt;/td&gt;\n    &lt;/tr&gt;\n    &lt;tr&gt;\n      &lt;th&gt;62&lt;/th&gt;\n      &lt;td&gt;Computer Science with Python Textbook and Prac...&lt;/td&gt;\n      &lt;td&gt;Sumita Arora&lt;/td&gt;\n      &lt;td&gt;4.5&lt;/td&gt;\n      &lt;td&gt;528.0&lt;/td&gt;\n      &lt;td&gt;595&lt;/td&gt;\n    &lt;/tr&gt;\n    &lt;tr&gt;\n      &lt;th&gt;6&lt;/th&gt;\n      &lt;td&gt;Indian Polity - For Civil Services and Other S...&lt;/td&gt;\n      &lt;td&gt;M. Laxmikanth&lt;/td&gt;\n      &lt;td&gt;4.6&lt;/td&gt;\n      &lt;td&gt;7300.0&lt;/td&gt;\n      &lt;td&gt;580&lt;/td&gt;\n    &lt;/tr&gt;\n    &lt;tr&gt;\n      &lt;th&gt;40&lt;/th&gt;\n      &lt;td&gt;Objective NCERT at your FINGERTIPS for NEET-AI...&lt;/td&gt;\n      &lt;td&gt;MTG Editorial Board&lt;/td&gt;\n      &lt;td&gt;4.7&lt;/td&gt;\n      &lt;td&gt;1071.0&lt;/td&gt;\n      &lt;td&gt;561&lt;/td&gt;\n    &lt;/tr&gt;\n    &lt;tr&gt;\n      &lt;th&gt;23&lt;/th&gt;\n      &lt;td&gt;Mathematics for Class 10 by R D Sharma (Examin...&lt;/td&gt;\n      &lt;td&gt;R.D. Sharma&lt;/td&gt;\n      &lt;td&gt;4.6&lt;/td&gt;\n      &lt;td&gt;1120.0&lt;/td&gt;\n      &lt;td&gt;545&lt;/td&gt;\n    &lt;/tr&gt;\n    &lt;tr&gt;\n      &lt;th&gt;51&lt;/th&gt;\n      &lt;td&gt;A Modern Approach to Verbal &amp;amp; Non-Verbal Reaso...&lt;/td&gt;\n      &lt;td&gt;R.S. Aggarwal&lt;/td&gt;\n      &lt;td&gt;4.4&lt;/td&gt;\n      &lt;td&gt;4430.0&lt;/td&gt;\n      &lt;td&gt;540&lt;/td&gt;\n    &lt;/tr&gt;\n    &lt;tr&gt;\n      &lt;th&gt;77&lt;/th&gt;\n      &lt;td&gt;Indian Art and Culture for Civil Services and ...&lt;/td&gt;\n      &lt;td&gt;Nitin Singhania&lt;/td&gt;\n      &lt;td&gt;4.6&lt;/td&gt;\n      &lt;td&gt;2139.0&lt;/td&gt;\n      &lt;td&gt;501&lt;/td&gt;\n    &lt;/tr&gt;\n    &lt;tr&gt;\n      &lt;th&gt;41&lt;/th&gt;\n      &lt;td&gt;Best of Children’s Classics (Set of 5 Books): ...&lt;/td&gt;\n      &lt;td&gt;Antoine de Saint-Exupéry&lt;/td&gt;\n      &lt;td&gt;4.5&lt;/td&gt;\n      &lt;td&gt;416.0&lt;/td&gt;\n      &lt;td&gt;499&lt;/td&gt;\n    &lt;/tr&gt;\n    &lt;tr&gt;\n      &lt;th&gt;12&lt;/th&gt;\n      &lt;td&gt;The Intelligent Investor (English) Paperback –...&lt;/td&gt;\n      &lt;td&gt;Benjamin Graham&lt;/td&gt;\n      &lt;td&gt;4.5&lt;/td&gt;\n      &lt;td&gt;21526.0&lt;/td&gt;\n      &lt;td&gt;499&lt;/td&gt;\n    &lt;/tr&gt;\n    &lt;tr&gt;\n      &lt;th&gt;96&lt;/th&gt;\n      &lt;td&gt;Business Studies Class-12 Poonam Gandhi (Sessi...&lt;/td&gt;\n      &lt;td&gt;Poonam Gandhi&lt;/td&gt;\n      &lt;td&gt;4.4&lt;/td&gt;\n      &lt;td&gt;222.0&lt;/td&gt;\n      &lt;td&gt;475&lt;/td&gt;\n    &lt;/tr&gt;\n    &lt;tr&gt;\n      &lt;th&gt;14&lt;/th&gt;\n      &lt;td&gt;Quantitative Aptitude for Competitive Examinat...&lt;/td&gt;\n      &lt;td&gt;R S Aggarwal&lt;/td&gt;\n      &lt;td&gt;4.4&lt;/td&gt;\n      &lt;td&gt;10246.0&lt;/td&gt;\n      &lt;td&gt;470&lt;/td&gt;\n    &lt;/tr&gt;\n    &lt;tr&gt;\n      &lt;th&gt;45&lt;/th&gt;\n      &lt;td&gt;T.S. Grewal's Double Entry Book Keeping: Accou...&lt;/td&gt;\n      &lt;td&gt;CA. Dr. G.S. Grewal &amp;amp; R.K. Khosla&lt;/td&gt;\n      &lt;td&gt;4.7&lt;/td&gt;\n      &lt;td&gt;30.0&lt;/td&gt;\n      &lt;td&gt;460&lt;/td&gt;\n    &lt;/tr&gt;\n    &lt;tr&gt;\n      &lt;th&gt;69&lt;/th&gt;\n      &lt;td&gt;Unfinished: A Memoir&lt;/td&gt;\n      &lt;td&gt;Priyanka Chopra Jonas&lt;/td&gt;\n      &lt;td&gt;4.4&lt;/td&gt;\n      &lt;td&gt;1701.0&lt;/td&gt;\n      &lt;td&gt;452&lt;/td&gt;\n    &lt;/tr&gt;\n    &lt;tr&gt;\n      &lt;th&gt;9&lt;/th&gt;\n      &lt;td&gt;Atomic Habits: The life-changing million copy ...&lt;/td&gt;\n      &lt;td&gt;James Clear&lt;/td&gt;\n      &lt;td&gt;4.6&lt;/td&gt;\n      &lt;td&gt;16898.0&lt;/td&gt;\n      &lt;td&gt;445&lt;/td&gt;\n    &lt;/tr&gt;\n  &lt;/tbody&gt;\n&lt;/table&gt;\n&lt;/div&gt;"</td>
        </tr>
        <tr>
          <td id="file-assignment-11-text-mining-ipynb-L1213" class="blob-num js-line-number js-code-nav-line-number js-blob-rnum" data-line-number="1213"></td>
          <td id="file-assignment-11-text-mining-ipynb-LC1213" class="blob-code blob-code-inner js-file-line">          },</td>
        </tr>
        <tr>
          <td id="file-assignment-11-text-mining-ipynb-L1214" class="blob-num js-line-number js-code-nav-line-number js-blob-rnum" data-line-number="1214"></td>
          <td id="file-assignment-11-text-mining-ipynb-LC1214" class="blob-code blob-code-inner js-file-line">          <span class="pl-ent">"metadata"</span>: {}</td>
        </tr>
        <tr>
          <td id="file-assignment-11-text-mining-ipynb-L1215" class="blob-num js-line-number js-code-nav-line-number js-blob-rnum" data-line-number="1215"></td>
          <td id="file-assignment-11-text-mining-ipynb-LC1215" class="blob-code blob-code-inner js-file-line">        }</td>
        </tr>
        <tr>
          <td id="file-assignment-11-text-mining-ipynb-L1216" class="blob-num js-line-number js-code-nav-line-number js-blob-rnum" data-line-number="1216"></td>
          <td id="file-assignment-11-text-mining-ipynb-LC1216" class="blob-code blob-code-inner js-file-line">      ]</td>
        </tr>
        <tr>
          <td id="file-assignment-11-text-mining-ipynb-L1217" class="blob-num js-line-number js-code-nav-line-number js-blob-rnum" data-line-number="1217"></td>
          <td id="file-assignment-11-text-mining-ipynb-LC1217" class="blob-code blob-code-inner js-file-line">    },</td>
        </tr>
        <tr>
          <td id="file-assignment-11-text-mining-ipynb-L1218" class="blob-num js-line-number js-code-nav-line-number js-blob-rnum" data-line-number="1218"></td>
          <td id="file-assignment-11-text-mining-ipynb-LC1218" class="blob-code blob-code-inner js-file-line">    {</td>
        </tr>
        <tr>
          <td id="file-assignment-11-text-mining-ipynb-L1219" class="blob-num js-line-number js-code-nav-line-number js-blob-rnum" data-line-number="1219"></td>
          <td id="file-assignment-11-text-mining-ipynb-LC1219" class="blob-code blob-code-inner js-file-line">      <span class="pl-ent">"metadata"</span>: {</td>
        </tr>
        <tr>
          <td id="file-assignment-11-text-mining-ipynb-L1220" class="blob-num js-line-number js-code-nav-line-number js-blob-rnum" data-line-number="1220"></td>
          <td id="file-assignment-11-text-mining-ipynb-LC1220" class="blob-code blob-code-inner js-file-line">        <span class="pl-ent">"trusted"</span>: <span class="pl-c1">true</span></td>
        </tr>
        <tr>
          <td id="file-assignment-11-text-mining-ipynb-L1221" class="blob-num js-line-number js-code-nav-line-number js-blob-rnum" data-line-number="1221"></td>
          <td id="file-assignment-11-text-mining-ipynb-LC1221" class="blob-code blob-code-inner js-file-line">      },</td>
        </tr>
        <tr>
          <td id="file-assignment-11-text-mining-ipynb-L1222" class="blob-num js-line-number js-code-nav-line-number js-blob-rnum" data-line-number="1222"></td>
          <td id="file-assignment-11-text-mining-ipynb-LC1222" class="blob-code blob-code-inner js-file-line">      <span class="pl-ent">"cell_type"</span>: <span class="pl-s"><span class="pl-pds">"</span>code<span class="pl-pds">"</span></span>,</td>
        </tr>
        <tr>
          <td id="file-assignment-11-text-mining-ipynb-L1223" class="blob-num js-line-number js-code-nav-line-number js-blob-rnum" data-line-number="1223"></td>
          <td id="file-assignment-11-text-mining-ipynb-LC1223" class="blob-code blob-code-inner js-file-line">      <span class="pl-ent">"source"</span>: <span class="pl-s"><span class="pl-pds">"</span>from bokeh.models import ColumnDataSource<span class="pl-cce">\n</span>from bokeh.transform import dodge<span class="pl-cce">\n</span>import math<span class="pl-cce">\n</span>from bokeh.io import curdoc<span class="pl-cce">\n</span>curdoc().clear()<span class="pl-cce">\n</span>from bokeh.io import push_notebook, show, output_notebook<span class="pl-cce">\n</span>from bokeh.layouts import row<span class="pl-cce">\n</span>from bokeh.plotting import figure<span class="pl-cce">\n</span>from bokeh.transform import factor_cmap<span class="pl-cce">\n</span>from bokeh.models import Legend<span class="pl-cce">\n</span>output_notebook()<span class="pl-pds">"</span></span>,</td>
        </tr>
        <tr>
          <td id="file-assignment-11-text-mining-ipynb-L1224" class="blob-num js-line-number js-code-nav-line-number js-blob-rnum" data-line-number="1224"></td>
          <td id="file-assignment-11-text-mining-ipynb-LC1224" class="blob-code blob-code-inner js-file-line">      <span class="pl-ent">"execution_count"</span>: <span class="pl-c1">33</span>,</td>
        </tr>
        <tr>
          <td id="file-assignment-11-text-mining-ipynb-L1225" class="blob-num js-line-number js-code-nav-line-number js-blob-rnum" data-line-number="1225"></td>
          <td id="file-assignment-11-text-mining-ipynb-LC1225" class="blob-code blob-code-inner js-file-line">      <span class="pl-ent">"outputs"</span>: [</td>
        </tr>
        <tr>
          <td id="file-assignment-11-text-mining-ipynb-L1226" class="blob-num js-line-number js-code-nav-line-number js-blob-rnum" data-line-number="1226"></td>
          <td id="file-assignment-11-text-mining-ipynb-LC1226" class="blob-code blob-code-inner js-file-line">        {</td>
        </tr>
        <tr>
          <td id="file-assignment-11-text-mining-ipynb-L1227" class="blob-num js-line-number js-code-nav-line-number js-blob-rnum" data-line-number="1227"></td>
          <td id="file-assignment-11-text-mining-ipynb-LC1227" class="blob-code blob-code-inner js-file-line">          <span class="pl-ent">"output_type"</span>: <span class="pl-s"><span class="pl-pds">"</span>display_data<span class="pl-pds">"</span></span>,</td>
        </tr>
        <tr>
          <td id="file-assignment-11-text-mining-ipynb-L1228" class="blob-num js-line-number js-code-nav-line-number js-blob-rnum" data-line-number="1228"></td>
          <td id="file-assignment-11-text-mining-ipynb-LC1228" class="blob-code blob-code-inner js-file-line">          <span class="pl-ent">"data"</span>: {</td>
        </tr>
        <tr>
          <td id="file-assignment-11-text-mining-ipynb-L1229" class="blob-num js-line-number js-code-nav-line-number js-blob-rnum" data-line-number="1229"></td>
          <td id="file-assignment-11-text-mining-ipynb-LC1229" class="blob-code blob-code-inner js-file-line">            <span class="pl-ent">"text/html"</span>: <span class="pl-s"><span class="pl-pds">"</span><span class="pl-cce">\n</span>    &lt;div class=<span class="pl-cce">\"</span>bk-root<span class="pl-cce">\"</span>&gt;<span class="pl-cce">\n</span>        &lt;a href=<span class="pl-cce">\"</span>https://bokeh.org<span class="pl-cce">\"</span> target=<span class="pl-cce">\"</span>_blank<span class="pl-cce">\"</span> class=<span class="pl-cce">\"</span>bk-logo bk-logo-small bk-logo-notebook<span class="pl-cce">\"</span>&gt;&lt;/a&gt;<span class="pl-cce">\n</span>        &lt;span id=<span class="pl-cce">\"</span>1001<span class="pl-cce">\"</span>&gt;Loading BokehJS ...&lt;/span&gt;<span class="pl-cce">\n</span>    &lt;/div&gt;<span class="pl-pds">"</span></span></td>
        </tr>
        <tr>
          <td id="file-assignment-11-text-mining-ipynb-L1230" class="blob-num js-line-number js-code-nav-line-number js-blob-rnum" data-line-number="1230"></td>
          <td id="file-assignment-11-text-mining-ipynb-LC1230" class="blob-code blob-code-inner js-file-line">          },</td>
        </tr>
        <tr>
          <td id="file-assignment-11-text-mining-ipynb-L1231" class="blob-num js-line-number js-code-nav-line-number js-blob-rnum" data-line-number="1231"></td>
          <td id="file-assignment-11-text-mining-ipynb-LC1231" class="blob-code blob-code-inner js-file-line">          <span class="pl-ent">"metadata"</span>: {}</td>
        </tr>
        <tr>
          <td id="file-assignment-11-text-mining-ipynb-L1232" class="blob-num js-line-number js-code-nav-line-number js-blob-rnum" data-line-number="1232"></td>
          <td id="file-assignment-11-text-mining-ipynb-LC1232" class="blob-code blob-code-inner js-file-line">        },</td>
        </tr>
        <tr>
          <td id="file-assignment-11-text-mining-ipynb-L1233" class="blob-num js-line-number js-code-nav-line-number js-blob-rnum" data-line-number="1233"></td>
          <td id="file-assignment-11-text-mining-ipynb-LC1233" class="blob-code blob-code-inner js-file-line">        {</td>
        </tr>
        <tr>
          <td id="file-assignment-11-text-mining-ipynb-L1234" class="blob-num js-line-number js-code-nav-line-number js-blob-rnum" data-line-number="1234"></td>
          <td id="file-assignment-11-text-mining-ipynb-LC1234" class="blob-code blob-code-inner js-file-line">          <span class="pl-ent">"output_type"</span>: <span class="pl-s"><span class="pl-pds">"</span>display_data<span class="pl-pds">"</span></span>,</td>
        </tr>
        <tr>
          <td id="file-assignment-11-text-mining-ipynb-L1235" class="blob-num js-line-number js-code-nav-line-number js-blob-rnum" data-line-number="1235"></td>
          <td id="file-assignment-11-text-mining-ipynb-LC1235" class="blob-code blob-code-inner js-file-line">          <span class="pl-ent">"data"</span>: {</td>
        </tr>
        <tr>
          <td id="file-assignment-11-text-mining-ipynb-L1236" class="blob-num js-line-number js-code-nav-line-number js-blob-rnum" data-line-number="1236"></td>
          <td id="file-assignment-11-text-mining-ipynb-LC1236" class="blob-code blob-code-inner js-file-line">            "application/javascript": "\n(function(root) {\n  function now() {\n    return new Date();\n  }\n\n  var force = true;\n\n  if (typeof root._bokeh_onload_callbacks === \"undefined\" || force === true) {\n    root._bokeh_onload_callbacks = [];\n    root._bokeh_is_loading = undefined;\n  }\n\n  var JS_MIME_TYPE = 'application/javascript';\n  var HTML_MIME_TYPE = 'text/html';\n  var EXEC_MIME_TYPE = 'application/vnd.bokehjs_exec.v0+json';\n  var CLASS_NAME = 'output_bokeh rendered_html';\n\n  /**\n   * Render data to the DOM node\n   */\n  function render(props, node) {\n    var script = document.createElement(\"script\");\n    node.appendChild(script);\n  }\n\n  /**\n   * Handle when an output is cleared or removed\n   */\n  function handleClearOutput(event, handle) {\n    var cell = handle.cell;\n\n    var id = cell.output_area._bokeh_element_id;\n    var server_id = cell.output_area._bokeh_server_id;\n    // Clean up Bokeh references\n    if (id != null &amp;&amp; id in Bokeh.index) {\n      Bokeh.index[id].model.document.clear();\n      delete Bokeh.index[id];\n    }\n\n    if (server_id !== undefined) {\n      // Clean up Bokeh references\n      var cmd = \"from bokeh.io.state import curstate; print(curstate().uuid_to_server['\" + server_id + \"'].get_sessions()[0].document.roots[0]._id)\";\n      cell.notebook.kernel.execute(cmd, {\n        iopub: {\n          output: function(msg) {\n            var id = msg.content.text.trim();\n            if (id in Bokeh.index) {\n              Bokeh.index[id].model.document.clear();\n              delete Bokeh.index[id];\n            }\n          }\n        }\n      });\n      // Destroy server and session\n      var cmd = \"import bokeh.io.notebook as ion; ion.destroy_server('\" + server_id + \"')\";\n      cell.notebook.kernel.execute(cmd);\n    }\n  }\n\n  /**\n   * Handle when a new output is added\n   */\n  function handleAddOutput(event, handle) {\n    var output_area = handle.output_area;\n    var output = handle.output;\n\n    // limit handleAddOutput to display_data with EXEC_MIME_TYPE content only\n    if ((output.output_type != \"display_data\") || (!output.data.hasOwnProperty(EXEC_MIME_TYPE))) {\n      return\n    }\n\n    var toinsert = output_area.element.find(\".\" + CLASS_NAME.split(' ')[0]);\n\n    if (output.metadata[EXEC_MIME_TYPE][\"id\"] !== undefined) {\n      toinsert[toinsert.length - 1].firstChild.textContent = output.data[JS_MIME_TYPE];\n      // store reference to embed id on output_area\n      output_area._bokeh_element_id = output.metadata[EXEC_MIME_TYPE][\"id\"];\n    }\n    if (output.metadata[EXEC_MIME_TYPE][\"server_id\"] !== undefined) {\n      var bk_div = document.createElement(\"div\");\n      bk_div.innerHTML = output.data[HTML_MIME_TYPE];\n      var script_attrs = bk_div.children[0].attributes;\n      for (var i = 0; i &lt; script_attrs.length; i++) {\n        toinsert[toinsert.length - 1].firstChild.setAttribute(script_attrs[i].name, script_attrs[i].value);\n        toinsert[toinsert.length - 1].firstChild.textContent = bk_div.children[0].textContent\n      }\n      // store reference to server id on output_area\n      output_area._bokeh_server_id = output.metadata[EXEC_MIME_TYPE][\"server_id\"];\n    }\n  }\n\n  function register_renderer(events, OutputArea) {\n\n    function append_mime(data, metadata, element) {\n      // create a DOM node to render to\n      var toinsert = this.create_output_subarea(\n        metadata,\n        CLASS_NAME,\n        EXEC_MIME_TYPE\n      );\n      this.keyboard_manager.register_events(toinsert);\n      // Render to node\n      var props = {data: data, metadata: metadata[EXEC_MIME_TYPE]};\n      render(props, toinsert[toinsert.length - 1]);\n      element.append(toinsert);\n      return toinsert\n    }\n\n    /* Handle when an output is cleared or removed */\n    events.on('clear_output.CodeCell', handleClearOutput);\n    events.on('delete.Cell', handleClearOutput);\n\n    /* Handle when a new output is added */\n    events.on('output_added.OutputArea', handleAddOutput);\n\n    /**\n     * Register the mime type and append_mime function with output_area\n     */\n    OutputArea.prototype.register_mime_type(EXEC_MIME_TYPE, append_mime, {\n      /* Is output safe? */\n      safe: true,\n      /* Index of renderer in `output_area.display_order` */\n      index: 0\n    });\n  }\n\n  // register the mime type if in Jupyter Notebook environment and previously unregistered\n  if (root.Jupyter !== undefined) {\n    var events = require('base/js/events');\n    var OutputArea = require('notebook/js/outputarea').OutputArea;\n\n    if (OutputArea.prototype.mime_types().indexOf(EXEC_MIME_TYPE) == -1) {\n      register_renderer(events, OutputArea);\n    }\n  }\n\n  \n  if (typeof (root._bokeh_timeout) === \"undefined\" || force === true) {\n    root._bokeh_timeout = Date.now() + 5000;\n    root._bokeh_failed_load = false;\n  }\n\n  var NB_LOAD_WARNING = {'data': {'text/html':\n     \"&lt;div style='background-color: #fdd'&gt;\\n\"+\n     \"&lt;p&gt;\\n\"+\n     \"BokehJS does not appear to have successfully loaded. If loading BokehJS from CDN, this \\n\"+\n     \"may be due to a slow or bad network connection. Possible fixes:\\n\"+\n     \"&lt;/p&gt;\\n\"+\n     \"&lt;ul&gt;\\n\"+\n     \"&lt;li&gt;re-rerun `output_notebook()` to attempt to load from CDN again, or&lt;/li&gt;\\n\"+\n     \"&lt;li&gt;use INLINE resources instead, as so:&lt;/li&gt;\\n\"+\n     \"&lt;/ul&gt;\\n\"+\n     \"&lt;code&gt;\\n\"+\n     \"from bokeh.resources import INLINE\\n\"+\n     \"output_notebook(resources=INLINE)\\n\"+\n     \"&lt;/code&gt;\\n\"+\n     \"&lt;/div&gt;\"}};\n\n  function display_loaded() {\n    var el = document.getElementById(\"1001\");\n    if (el != null) {\n      el.textContent = \"BokehJS is loading...\";\n    }\n    if (root.Bokeh !== undefined) {\n      if (el != null) {\n        el.textContent = \"BokehJS \" + root.Bokeh.version + \" successfully loaded.\";\n      }\n    } else if (Date.now() &lt; root._bokeh_timeout) {\n      setTimeout(display_loaded, 100)\n    }\n  }\n\n\n  function run_callbacks() {\n    try {\n      root._bokeh_onload_callbacks.forEach(function(callback) {\n        if (callback != null)\n          callback();\n      });\n    } finally {\n      delete root._bokeh_onload_callbacks\n    }\n    console.debug(\"Bokeh: all callbacks have finished\");\n  }\n\n  function load_libs(css_urls, js_urls, callback) {\n    if (css_urls == null) css_urls = [];\n    if (js_urls == null) js_urls = [];\n\n    root._bokeh_onload_callbacks.push(callback);\n    if (root._bokeh_is_loading &gt; 0) {\n      console.debug(\"Bokeh: BokehJS is being loaded, scheduling callback at\", now());\n      return null;\n    }\n    if (js_urls == null || js_urls.length === 0) {\n      run_callbacks();\n      return null;\n    }\n    console.debug(\"Bokeh: BokehJS not loaded, scheduling load and callback at\", now());\n    root._bokeh_is_loading = css_urls.length + js_urls.length;\n\n    function on_load() {\n      root._bokeh_is_loading--;\n      if (root._bokeh_is_loading === 0) {\n        console.debug(\"Bokeh: all BokehJS libraries/stylesheets loaded\");\n        run_callbacks()\n      }\n    }\n\n    function on_error() {\n      console.error(\"failed to load \" + url);\n    }\n\n    for (var i = 0; i &lt; css_urls.length; i++) {\n      var url = css_urls[i];\n      const element = document.createElement(\"link\");\n      element.onload = on_load;\n      element.onerror = on_error;\n      element.rel = \"stylesheet\";\n      element.type = \"text/css\";\n      element.href = url;\n      console.debug(\"Bokeh: injecting link tag for BokehJS stylesheet: \", url);\n      document.body.appendChild(element);\n    }\n\n    const hashes = {\"https://cdn.bokeh.org/bokeh/release/bokeh-2.1.1.min.js\": \"kLr4fYcqcSpbuI95brIH3vnnYCquzzSxHPU6XGQCIkQRGJwhg0StNbj1eegrHs12\", \"https://cdn.bokeh.org/bokeh/release/bokeh-widgets-2.1.1.min.js\": \"xIGPmVtaOm+z0BqfSOMn4lOR6ciex448GIKG4eE61LsAvmGj48XcMQZtKcE/UXZe\", \"https://cdn.bokeh.org/bokeh/release/bokeh-tables-2.1.1.min.js\": \"Dc9u1wF/0zApGIWoBbH77iWEHtdmkuYWG839Uzmv8y8yBLXebjO9ZnERsde5Ln/P\", \"https://cdn.bokeh.org/bokeh/release/bokeh-gl-2.1.1.min.js\": \"cT9JaBz7GiRXdENrJLZNSC6eMNF3nh3fa5fTF51Svp+ukxPdwcU5kGXGPBgDCa2j\"};\n\n    for (var i = 0; i &lt; js_urls.length; i++) {\n      var url = js_urls[i];\n      var element = document.createElement('script');\n      element.onload = on_load;\n      element.onerror = on_error;\n      element.async = false;\n      element.src = url;\n      if (url in hashes) {\n        element.crossOrigin = \"anonymous\";\n        element.integrity = \"sha384-\" + hashes[url];\n      }\n      console.debug(\"Bokeh: injecting script tag for BokehJS library: \", url);\n      document.head.appendChild(element);\n    }\n  };\n\n  function inject_raw_css(css) {\n    const element = document.createElement(\"style\");\n    element.appendChild(document.createTextNode(css));\n    document.body.appendChild(element);\n  }\n\n  \n  var js_urls = [\"https://cdn.bokeh.org/bokeh/release/bokeh-2.1.1.min.js\", \"https://cdn.bokeh.org/bokeh/release/bokeh-widgets-2.1.1.min.js\", \"https://cdn.bokeh.org/bokeh/release/bokeh-tables-2.1.1.min.js\", \"https://cdn.bokeh.org/bokeh/release/bokeh-gl-2.1.1.min.js\"];\n  var css_urls = [];\n  \n\n  var inline_js = [\n    function(Bokeh) {\n      Bokeh.set_log_level(\"info\");\n    },\n    function(Bokeh) {\n    \n    \n    }\n  ];\n\n  function run_inline_js() {\n    \n    if (root.Bokeh !== undefined || force === true) {\n      \n    for (var i = 0; i &lt; inline_js.length; i++) {\n      inline_js[i].call(root, root.Bokeh);\n    }\n    if (force === true) {\n        display_loaded();\n      }} else if (Date.now() &lt; root._bokeh_timeout) {\n      setTimeout(run_inline_js, 100);\n    } else if (!root._bokeh_failed_load) {\n      console.log(\"Bokeh: BokehJS failed to load within specified timeout.\");\n      root._bokeh_failed_load = true;\n    } else if (force !== true) {\n      var cell = $(document.getElementById(\"1001\")).parents('.cell').data().cell;\n      cell.output_area.append_execute_result(NB_LOAD_WARNING)\n    }\n\n  }\n\n  if (root._bokeh_is_loading === 0) {\n    console.debug(\"Bokeh: BokehJS loaded, going straight to plotting\");\n    run_inline_js();\n  } else {\n    load_libs(css_urls, js_urls, function() {\n      console.debug(\"Bokeh: BokehJS plotting callback run at\", now());\n      run_inline_js();\n    });\n  }\n}(window));",</td>
        </tr>
        <tr>
          <td id="file-assignment-11-text-mining-ipynb-L1237" class="blob-num js-line-number js-code-nav-line-number js-blob-rnum" data-line-number="1237"></td>
          <td id="file-assignment-11-text-mining-ipynb-LC1237" class="blob-code blob-code-inner js-file-line">            "application/vnd.bokehjs_load.v0+json": "\n(function(root) {\n  function now() {\n    return new Date();\n  }\n\n  var force = true;\n\n  if (typeof root._bokeh_onload_callbacks === \"undefined\" || force === true) {\n    root._bokeh_onload_callbacks = [];\n    root._bokeh_is_loading = undefined;\n  }\n\n  \n\n  \n  if (typeof (root._bokeh_timeout) === \"undefined\" || force === true) {\n    root._bokeh_timeout = Date.now() + 5000;\n    root._bokeh_failed_load = false;\n  }\n\n  var NB_LOAD_WARNING = {'data': {'text/html':\n     \"&lt;div style='background-color: #fdd'&gt;\\n\"+\n     \"&lt;p&gt;\\n\"+\n     \"BokehJS does not appear to have successfully loaded. If loading BokehJS from CDN, this \\n\"+\n     \"may be due to a slow or bad network connection. Possible fixes:\\n\"+\n     \"&lt;/p&gt;\\n\"+\n     \"&lt;ul&gt;\\n\"+\n     \"&lt;li&gt;re-rerun `output_notebook()` to attempt to load from CDN again, or&lt;/li&gt;\\n\"+\n     \"&lt;li&gt;use INLINE resources instead, as so:&lt;/li&gt;\\n\"+\n     \"&lt;/ul&gt;\\n\"+\n     \"&lt;code&gt;\\n\"+\n     \"from bokeh.resources import INLINE\\n\"+\n     \"output_notebook(resources=INLINE)\\n\"+\n     \"&lt;/code&gt;\\n\"+\n     \"&lt;/div&gt;\"}};\n\n  function display_loaded() {\n    var el = document.getElementById(\"1001\");\n    if (el != null) {\n      el.textContent = \"BokehJS is loading...\";\n    }\n    if (root.Bokeh !== undefined) {\n      if (el != null) {\n        el.textContent = \"BokehJS \" + root.Bokeh.version + \" successfully loaded.\";\n      }\n    } else if (Date.now() &lt; root._bokeh_timeout) {\n      setTimeout(display_loaded, 100)\n    }\n  }\n\n\n  function run_callbacks() {\n    try {\n      root._bokeh_onload_callbacks.forEach(function(callback) {\n        if (callback != null)\n          callback();\n      });\n    } finally {\n      delete root._bokeh_onload_callbacks\n    }\n    console.debug(\"Bokeh: all callbacks have finished\");\n  }\n\n  function load_libs(css_urls, js_urls, callback) {\n    if (css_urls == null) css_urls = [];\n    if (js_urls == null) js_urls = [];\n\n    root._bokeh_onload_callbacks.push(callback);\n    if (root._bokeh_is_loading &gt; 0) {\n      console.debug(\"Bokeh: BokehJS is being loaded, scheduling callback at\", now());\n      return null;\n    }\n    if (js_urls == null || js_urls.length === 0) {\n      run_callbacks();\n      return null;\n    }\n    console.debug(\"Bokeh: BokehJS not loaded, scheduling load and callback at\", now());\n    root._bokeh_is_loading = css_urls.length + js_urls.length;\n\n    function on_load() {\n      root._bokeh_is_loading--;\n      if (root._bokeh_is_loading === 0) {\n        console.debug(\"Bokeh: all BokehJS libraries/stylesheets loaded\");\n        run_callbacks()\n      }\n    }\n\n    function on_error() {\n      console.error(\"failed to load \" + url);\n    }\n\n    for (var i = 0; i &lt; css_urls.length; i++) {\n      var url = css_urls[i];\n      const element = document.createElement(\"link\");\n      element.onload = on_load;\n      element.onerror = on_error;\n      element.rel = \"stylesheet\";\n      element.type = \"text/css\";\n      element.href = url;\n      console.debug(\"Bokeh: injecting link tag for BokehJS stylesheet: \", url);\n      document.body.appendChild(element);\n    }\n\n    const hashes = {\"https://cdn.bokeh.org/bokeh/release/bokeh-2.1.1.min.js\": \"kLr4fYcqcSpbuI95brIH3vnnYCquzzSxHPU6XGQCIkQRGJwhg0StNbj1eegrHs12\", \"https://cdn.bokeh.org/bokeh/release/bokeh-widgets-2.1.1.min.js\": \"xIGPmVtaOm+z0BqfSOMn4lOR6ciex448GIKG4eE61LsAvmGj48XcMQZtKcE/UXZe\", \"https://cdn.bokeh.org/bokeh/release/bokeh-tables-2.1.1.min.js\": \"Dc9u1wF/0zApGIWoBbH77iWEHtdmkuYWG839Uzmv8y8yBLXebjO9ZnERsde5Ln/P\", \"https://cdn.bokeh.org/bokeh/release/bokeh-gl-2.1.1.min.js\": \"cT9JaBz7GiRXdENrJLZNSC6eMNF3nh3fa5fTF51Svp+ukxPdwcU5kGXGPBgDCa2j\"};\n\n    for (var i = 0; i &lt; js_urls.length; i++) {\n      var url = js_urls[i];\n      var element = document.createElement('script');\n      element.onload = on_load;\n      element.onerror = on_error;\n      element.async = false;\n      element.src = url;\n      if (url in hashes) {\n        element.crossOrigin = \"anonymous\";\n        element.integrity = \"sha384-\" + hashes[url];\n      }\n      console.debug(\"Bokeh: injecting script tag for BokehJS library: \", url);\n      document.head.appendChild(element);\n    }\n  };\n\n  function inject_raw_css(css) {\n    const element = document.createElement(\"style\");\n    element.appendChild(document.createTextNode(css));\n    document.body.appendChild(element);\n  }\n\n  \n  var js_urls = [\"https://cdn.bokeh.org/bokeh/release/bokeh-2.1.1.min.js\", \"https://cdn.bokeh.org/bokeh/release/bokeh-widgets-2.1.1.min.js\", \"https://cdn.bokeh.org/bokeh/release/bokeh-tables-2.1.1.min.js\", \"https://cdn.bokeh.org/bokeh/release/bokeh-gl-2.1.1.min.js\"];\n  var css_urls = [];\n  \n\n  var inline_js = [\n    function(Bokeh) {\n      Bokeh.set_log_level(\"info\");\n    },\n    function(Bokeh) {\n    \n    \n    }\n  ];\n\n  function run_inline_js() {\n    \n    if (root.Bokeh !== undefined || force === true) {\n      \n    for (var i = 0; i &lt; inline_js.length; i++) {\n      inline_js[i].call(root, root.Bokeh);\n    }\n    if (force === true) {\n        display_loaded();\n      }} else if (Date.now() &lt; root._bokeh_timeout) {\n      setTimeout(run_inline_js, 100);\n    } else if (!root._bokeh_failed_load) {\n      console.log(\"Bokeh: BokehJS failed to load within specified timeout.\");\n      root._bokeh_failed_load = true;\n    } else if (force !== true) {\n      var cell = $(document.getElementById(\"1001\")).parents('.cell').data().cell;\n      cell.output_area.append_execute_result(NB_LOAD_WARNING)\n    }\n\n  }\n\n  if (root._bokeh_is_loading === 0) {\n    console.debug(\"Bokeh: BokehJS loaded, going straight to plotting\");\n    run_inline_js();\n  } else {\n    load_libs(css_urls, js_urls, function() {\n      console.debug(\"Bokeh: BokehJS plotting callback run at\", now());\n      run_inline_js();\n    });\n  }\n}(window));"</td>
        </tr>
        <tr>
          <td id="file-assignment-11-text-mining-ipynb-L1238" class="blob-num js-line-number js-code-nav-line-number js-blob-rnum" data-line-number="1238"></td>
          <td id="file-assignment-11-text-mining-ipynb-LC1238" class="blob-code blob-code-inner js-file-line">          },</td>
        </tr>
        <tr>
          <td id="file-assignment-11-text-mining-ipynb-L1239" class="blob-num js-line-number js-code-nav-line-number js-blob-rnum" data-line-number="1239"></td>
          <td id="file-assignment-11-text-mining-ipynb-LC1239" class="blob-code blob-code-inner js-file-line">          <span class="pl-ent">"metadata"</span>: {}</td>
        </tr>
        <tr>
          <td id="file-assignment-11-text-mining-ipynb-L1240" class="blob-num js-line-number js-code-nav-line-number js-blob-rnum" data-line-number="1240"></td>
          <td id="file-assignment-11-text-mining-ipynb-LC1240" class="blob-code blob-code-inner js-file-line">        }</td>
        </tr>
        <tr>
          <td id="file-assignment-11-text-mining-ipynb-L1241" class="blob-num js-line-number js-code-nav-line-number js-blob-rnum" data-line-number="1241"></td>
          <td id="file-assignment-11-text-mining-ipynb-LC1241" class="blob-code blob-code-inner js-file-line">      ]</td>
        </tr>
        <tr>
          <td id="file-assignment-11-text-mining-ipynb-L1242" class="blob-num js-line-number js-code-nav-line-number js-blob-rnum" data-line-number="1242"></td>
          <td id="file-assignment-11-text-mining-ipynb-LC1242" class="blob-code blob-code-inner js-file-line">    },</td>
        </tr>
        <tr>
          <td id="file-assignment-11-text-mining-ipynb-L1243" class="blob-num js-line-number js-code-nav-line-number js-blob-rnum" data-line-number="1243"></td>
          <td id="file-assignment-11-text-mining-ipynb-LC1243" class="blob-code blob-code-inner js-file-line">    {</td>
        </tr>
        <tr>
          <td id="file-assignment-11-text-mining-ipynb-L1244" class="blob-num js-line-number js-code-nav-line-number js-blob-rnum" data-line-number="1244"></td>
          <td id="file-assignment-11-text-mining-ipynb-LC1244" class="blob-code blob-code-inner js-file-line">      <span class="pl-ent">"metadata"</span>: {</td>
        </tr>
        <tr>
          <td id="file-assignment-11-text-mining-ipynb-L1245" class="blob-num js-line-number js-code-nav-line-number js-blob-rnum" data-line-number="1245"></td>
          <td id="file-assignment-11-text-mining-ipynb-LC1245" class="blob-code blob-code-inner js-file-line">        <span class="pl-ent">"trusted"</span>: <span class="pl-c1">true</span></td>
        </tr>
        <tr>
          <td id="file-assignment-11-text-mining-ipynb-L1246" class="blob-num js-line-number js-code-nav-line-number js-blob-rnum" data-line-number="1246"></td>
          <td id="file-assignment-11-text-mining-ipynb-LC1246" class="blob-code blob-code-inner js-file-line">      },</td>
        </tr>
        <tr>
          <td id="file-assignment-11-text-mining-ipynb-L1247" class="blob-num js-line-number js-code-nav-line-number js-blob-rnum" data-line-number="1247"></td>
          <td id="file-assignment-11-text-mining-ipynb-LC1247" class="blob-code blob-code-inner js-file-line">      <span class="pl-ent">"cell_type"</span>: <span class="pl-s"><span class="pl-pds">"</span>code<span class="pl-pds">"</span></span>,</td>
        </tr>
        <tr>
          <td id="file-assignment-11-text-mining-ipynb-L1248" class="blob-num js-line-number js-code-nav-line-number js-blob-rnum" data-line-number="1248"></td>
          <td id="file-assignment-11-text-mining-ipynb-LC1248" class="blob-code blob-code-inner js-file-line">      <span class="pl-ent">"source"</span>: <span class="pl-s"><span class="pl-pds">"</span>p = figure(x_range=data.iloc[:,1], plot_width=800, plot_height=550, title=<span class="pl-cce">\"</span>Authors Highest Priced Book<span class="pl-cce">\"</span>, toolbar_location=None, tools=<span class="pl-cce">\"\"</span>)<span class="pl-cce">\n\n</span>p.vbar(x=data.iloc[:,1], top=data.iloc[:,4], width=0.9)<span class="pl-cce">\n\n</span>p.xgrid.grid_line_color = None<span class="pl-cce">\n</span>p.y_range.start = 0<span class="pl-cce">\n</span>p.xaxis.major_label_orientation = math.pi/2<span class="pl-pds">"</span></span>,</td>
        </tr>
        <tr>
          <td id="file-assignment-11-text-mining-ipynb-L1249" class="blob-num js-line-number js-code-nav-line-number js-blob-rnum" data-line-number="1249"></td>
          <td id="file-assignment-11-text-mining-ipynb-LC1249" class="blob-code blob-code-inner js-file-line">      <span class="pl-ent">"execution_count"</span>: <span class="pl-c1">34</span>,</td>
        </tr>
        <tr>
          <td id="file-assignment-11-text-mining-ipynb-L1250" class="blob-num js-line-number js-code-nav-line-number js-blob-rnum" data-line-number="1250"></td>
          <td id="file-assignment-11-text-mining-ipynb-LC1250" class="blob-code blob-code-inner js-file-line">      <span class="pl-ent">"outputs"</span>: []</td>
        </tr>
        <tr>
          <td id="file-assignment-11-text-mining-ipynb-L1251" class="blob-num js-line-number js-code-nav-line-number js-blob-rnum" data-line-number="1251"></td>
          <td id="file-assignment-11-text-mining-ipynb-LC1251" class="blob-code blob-code-inner js-file-line">    },</td>
        </tr>
        <tr>
          <td id="file-assignment-11-text-mining-ipynb-L1252" class="blob-num js-line-number js-code-nav-line-number js-blob-rnum" data-line-number="1252"></td>
          <td id="file-assignment-11-text-mining-ipynb-LC1252" class="blob-code blob-code-inner js-file-line">    {</td>
        </tr>
        <tr>
          <td id="file-assignment-11-text-mining-ipynb-L1253" class="blob-num js-line-number js-code-nav-line-number js-blob-rnum" data-line-number="1253"></td>
          <td id="file-assignment-11-text-mining-ipynb-LC1253" class="blob-code blob-code-inner js-file-line">      <span class="pl-ent">"metadata"</span>: {</td>
        </tr>
        <tr>
          <td id="file-assignment-11-text-mining-ipynb-L1254" class="blob-num js-line-number js-code-nav-line-number js-blob-rnum" data-line-number="1254"></td>
          <td id="file-assignment-11-text-mining-ipynb-LC1254" class="blob-code blob-code-inner js-file-line">        <span class="pl-ent">"trusted"</span>: <span class="pl-c1">true</span></td>
        </tr>
        <tr>
          <td id="file-assignment-11-text-mining-ipynb-L1255" class="blob-num js-line-number js-code-nav-line-number js-blob-rnum" data-line-number="1255"></td>
          <td id="file-assignment-11-text-mining-ipynb-LC1255" class="blob-code blob-code-inner js-file-line">      },</td>
        </tr>
        <tr>
          <td id="file-assignment-11-text-mining-ipynb-L1256" class="blob-num js-line-number js-code-nav-line-number js-blob-rnum" data-line-number="1256"></td>
          <td id="file-assignment-11-text-mining-ipynb-LC1256" class="blob-code blob-code-inner js-file-line">      <span class="pl-ent">"cell_type"</span>: <span class="pl-s"><span class="pl-pds">"</span>code<span class="pl-pds">"</span></span>,</td>
        </tr>
        <tr>
          <td id="file-assignment-11-text-mining-ipynb-L1257" class="blob-num js-line-number js-code-nav-line-number js-blob-rnum" data-line-number="1257"></td>
          <td id="file-assignment-11-text-mining-ipynb-LC1257" class="blob-code blob-code-inner js-file-line">      <span class="pl-ent">"source"</span>: <span class="pl-s"><span class="pl-pds">"</span>show(p)<span class="pl-pds">"</span></span>,</td>
        </tr>
        <tr>
          <td id="file-assignment-11-text-mining-ipynb-L1258" class="blob-num js-line-number js-code-nav-line-number js-blob-rnum" data-line-number="1258"></td>
          <td id="file-assignment-11-text-mining-ipynb-LC1258" class="blob-code blob-code-inner js-file-line">      <span class="pl-ent">"execution_count"</span>: <span class="pl-c1">35</span>,</td>
        </tr>
        <tr>
          <td id="file-assignment-11-text-mining-ipynb-L1259" class="blob-num js-line-number js-code-nav-line-number js-blob-rnum" data-line-number="1259"></td>
          <td id="file-assignment-11-text-mining-ipynb-LC1259" class="blob-code blob-code-inner js-file-line">      <span class="pl-ent">"outputs"</span>: [</td>
        </tr>
        <tr>
          <td id="file-assignment-11-text-mining-ipynb-L1260" class="blob-num js-line-number js-code-nav-line-number js-blob-rnum" data-line-number="1260"></td>
          <td id="file-assignment-11-text-mining-ipynb-LC1260" class="blob-code blob-code-inner js-file-line">        {</td>
        </tr>
        <tr>
          <td id="file-assignment-11-text-mining-ipynb-L1261" class="blob-num js-line-number js-code-nav-line-number js-blob-rnum" data-line-number="1261"></td>
          <td id="file-assignment-11-text-mining-ipynb-LC1261" class="blob-code blob-code-inner js-file-line">          <span class="pl-ent">"output_type"</span>: <span class="pl-s"><span class="pl-pds">"</span>display_data<span class="pl-pds">"</span></span>,</td>
        </tr>
        <tr>
          <td id="file-assignment-11-text-mining-ipynb-L1262" class="blob-num js-line-number js-code-nav-line-number js-blob-rnum" data-line-number="1262"></td>
          <td id="file-assignment-11-text-mining-ipynb-LC1262" class="blob-code blob-code-inner js-file-line">          <span class="pl-ent">"data"</span>: {</td>
        </tr>
        <tr>
          <td id="file-assignment-11-text-mining-ipynb-L1263" class="blob-num js-line-number js-code-nav-line-number js-blob-rnum" data-line-number="1263"></td>
          <td id="file-assignment-11-text-mining-ipynb-LC1263" class="blob-code blob-code-inner js-file-line">            <span class="pl-ent">"text/html"</span>: <span class="pl-s"><span class="pl-pds">"</span><span class="pl-cce">\n\n\n\n\n\n</span>  &lt;div class=<span class="pl-cce">\"</span>bk-root<span class="pl-cce">\"</span> id=<span class="pl-cce">\"</span>8720e145-8c85-4115-987f-754fdb3bcab4<span class="pl-cce">\"</span> data-root-id=<span class="pl-cce">\"</span>1002<span class="pl-cce">\"</span>&gt;&lt;/div&gt;<span class="pl-cce">\n</span><span class="pl-pds">"</span></span></td>
        </tr>
        <tr>
          <td id="file-assignment-11-text-mining-ipynb-L1264" class="blob-num js-line-number js-code-nav-line-number js-blob-rnum" data-line-number="1264"></td>
          <td id="file-assignment-11-text-mining-ipynb-LC1264" class="blob-code blob-code-inner js-file-line">          },</td>
        </tr>
        <tr>
          <td id="file-assignment-11-text-mining-ipynb-L1265" class="blob-num js-line-number js-code-nav-line-number js-blob-rnum" data-line-number="1265"></td>
          <td id="file-assignment-11-text-mining-ipynb-LC1265" class="blob-code blob-code-inner js-file-line">          <span class="pl-ent">"metadata"</span>: {}</td>
        </tr>
        <tr>
          <td id="file-assignment-11-text-mining-ipynb-L1266" class="blob-num js-line-number js-code-nav-line-number js-blob-rnum" data-line-number="1266"></td>
          <td id="file-assignment-11-text-mining-ipynb-LC1266" class="blob-code blob-code-inner js-file-line">        },</td>
        </tr>
        <tr>
          <td id="file-assignment-11-text-mining-ipynb-L1267" class="blob-num js-line-number js-code-nav-line-number js-blob-rnum" data-line-number="1267"></td>
          <td id="file-assignment-11-text-mining-ipynb-LC1267" class="blob-code blob-code-inner js-file-line">        {</td>
        </tr>
        <tr>
          <td id="file-assignment-11-text-mining-ipynb-L1268" class="blob-num js-line-number js-code-nav-line-number js-blob-rnum" data-line-number="1268"></td>
          <td id="file-assignment-11-text-mining-ipynb-LC1268" class="blob-code blob-code-inner js-file-line">          <span class="pl-ent">"output_type"</span>: <span class="pl-s"><span class="pl-pds">"</span>display_data<span class="pl-pds">"</span></span>,</td>
        </tr>
        <tr>
          <td id="file-assignment-11-text-mining-ipynb-L1269" class="blob-num js-line-number js-code-nav-line-number js-blob-rnum" data-line-number="1269"></td>
          <td id="file-assignment-11-text-mining-ipynb-LC1269" class="blob-code blob-code-inner js-file-line">          <span class="pl-ent">"data"</span>: {</td>
        </tr>
        <tr>
          <td id="file-assignment-11-text-mining-ipynb-L1270" class="blob-num js-line-number js-code-nav-line-number js-blob-rnum" data-line-number="1270"></td>
          <td id="file-assignment-11-text-mining-ipynb-LC1270" class="blob-code blob-code-inner js-file-line">            "application/javascript": "(function(root) {\n  function embed_document(root) {\n    \n  var docs_json = {\"37bfe34f-ffda-4d05-a06f-409a6b0e8ffa\":{\"roots\":{\"references\":[{\"attributes\":{\"below\":[{\"id\":\"1013\"}],\"center\":[{\"id\":\"1015\"},{\"id\":\"1019\"}],\"left\":[{\"id\":\"1016\"}],\"plot_height\":550,\"plot_width\":800,\"renderers\":[{\"id\":\"1024\"}],\"title\":{\"id\":\"1003\"},\"toolbar\":{\"id\":\"1020\"},\"toolbar_location\":null,\"x_range\":{\"id\":\"1005\"},\"x_scale\":{\"id\":\"1009\"},\"y_range\":{\"id\":\"1007\"},\"y_scale\":{\"id\":\"1011\"}},\"id\":\"1002\",\"subtype\":\"Figure\",\"type\":\"Plot\"},{\"attributes\":{\"factors\":[\"Manjit Kaur Lakhmir Singh\",\"Wonder House Books\",\"Sumita Arora\",\"M. Laxmikanth\",\"MTG Editorial Board\",\"R.D. Sharma\",\"R.S. Aggarwal\",\"Nitin Singhania\",\"Antoine de Saint-Exup\\u00e9ry\",\"Benjamin Graham\",\"Poonam Gandhi\",\"R S Aggarwal\",\"CA. Dr. G.S. Grewal &amp; R.K. Khosla\\u0085\",\"Priyanka Chopra Jonas\",\"James Clear\"]},\"id\":\"1005\",\"type\":\"FactorRange\"},{\"attributes\":{\"start\":0},\"id\":\"1007\",\"type\":\"DataRange1d\"},{\"attributes\":{\"formatter\":{\"id\":\"1028\"},\"major_label_orientation\":1.5707963267948966,\"ticker\":{\"id\":\"1014\"}},\"id\":\"1013\",\"type\":\"CategoricalAxis\"},{\"attributes\":{},\"id\":\"1011\",\"type\":\"LinearScale\"},{\"attributes\":{},\"id\":\"1009\",\"type\":\"CategoricalScale\"},{\"attributes\":{\"text\":\"Authors Highest Priced Book\"},\"id\":\"1003\",\"type\":\"Title\"},{\"attributes\":{},\"id\":\"1014\",\"type\":\"CategoricalTicker\"},{\"attributes\":{\"axis\":{\"id\":\"1013\"},\"grid_line_color\":null,\"ticker\":null},\"id\":\"1015\",\"type\":\"Grid\"},{\"attributes\":{\"formatter\":{\"id\":\"1030\"},\"ticker\":{\"id\":\"1017\"}},\"id\":\"1016\",\"type\":\"LinearAxis\"},{\"attributes\":{},\"id\":\"1028\",\"type\":\"CategoricalTickFormatter\"},{\"attributes\":{},\"id\":\"1017\",\"type\":\"BasicTicker\"},{\"attributes\":{\"axis\":{\"id\":\"1016\"},\"dimension\":1,\"ticker\":null},\"id\":\"1019\",\"type\":\"Grid\"},{\"attributes\":{},\"id\":\"1030\",\"type\":\"BasicTickFormatter\"},{\"attributes\":{},\"id\":\"1032\",\"type\":\"UnionRenderers\"},{\"attributes\":{\"data_source\":{\"id\":\"1021\"},\"glyph\":{\"id\":\"1022\"},\"hover_glyph\":null,\"muted_glyph\":null,\"nonselection_glyph\":{\"id\":\"1023\"},\"selection_glyph\":null,\"view\":{\"id\":\"1025\"}},\"id\":\"1024\",\"type\":\"GlyphRenderer\"},{\"attributes\":{\"active_drag\":\"auto\",\"active_inspect\":\"auto\",\"active_multi\":null,\"active_scroll\":\"auto\",\"active_tap\":\"auto\"},\"id\":\"1020\",\"type\":\"Toolbar\"},{\"attributes\":{},\"id\":\"1031\",\"type\":\"Selection\"},{\"attributes\":{\"fill_color\":{\"value\":\"#1f77b4\"},\"line_color\":{\"value\":\"#1f77b4\"},\"top\":{\"field\":\"top\"},\"width\":{\"value\":0.9},\"x\":{\"field\":\"x\"}},\"id\":\"1022\",\"type\":\"VBar\"},{\"attributes\":{\"data\":{\"top\":{\"__ndarray__\":\"rgQAAB8DAABTAgAARAIAADECAAAhAgAAHAIAAPUBAADzAQAA8wEAANsBAADWAQAAzAEAAMQBAAC9AQAA\",\"dtype\":\"int32\",\"order\":\"little\",\"shape\":[15]},\"x\":[\"Manjit Kaur Lakhmir Singh\",\"Wonder House Books\",\"Sumita Arora\",\"M. Laxmikanth\",\"MTG Editorial Board\",\"R.D. Sharma\",\"R.S. Aggarwal\",\"Nitin Singhania\",\"Antoine de Saint-Exup\\u00e9ry\",\"Benjamin Graham\",\"Poonam Gandhi\",\"R S Aggarwal\",\"CA. Dr. G.S. Grewal &amp; R.K. Khosla\\u0085\",\"Priyanka Chopra Jonas\",\"James Clear\"]},\"selected\":{\"id\":\"1031\"},\"selection_policy\":{\"id\":\"1032\"}},\"id\":\"1021\",\"type\":\"ColumnDataSource\"},{\"attributes\":{\"source\":{\"id\":\"1021\"}},\"id\":\"1025\",\"type\":\"CDSView\"},{\"attributes\":{\"fill_alpha\":{\"value\":0.1},\"fill_color\":{\"value\":\"#1f77b4\"},\"line_alpha\":{\"value\":0.1},\"line_color\":{\"value\":\"#1f77b4\"},\"top\":{\"field\":\"top\"},\"width\":{\"value\":0.9},\"x\":{\"field\":\"x\"}},\"id\":\"1023\",\"type\":\"VBar\"}],\"root_ids\":[\"1002\"]},\"title\":\"Bokeh Application\",\"version\":\"2.1.1\"}};\n  var render_items = [{\"docid\":\"37bfe34f-ffda-4d05-a06f-409a6b0e8ffa\",\"root_ids\":[\"1002\"],\"roots\":{\"1002\":\"8720e145-8c85-4115-987f-754fdb3bcab4\"}}];\n  root.Bokeh.embed.embed_items_notebook(docs_json, render_items);\n\n  }\n  if (root.Bokeh !== undefined) {\n    embed_document(root);\n  } else {\n    var attempts = 0;\n    var timer = setInterval(function(root) {\n      if (root.Bokeh !== undefined) {\n        clearInterval(timer);\n        embed_document(root);\n      } else {\n        attempts++;\n        if (attempts &gt; 100) {\n          clearInterval(timer);\n          console.log(\"Bokeh: ERROR: Unable to run BokehJS code because BokehJS library is missing\");\n        }\n      }\n    }, 10, root)\n  }\n})(window);",</td>
        </tr>
        <tr>
          <td id="file-assignment-11-text-mining-ipynb-L1271" class="blob-num js-line-number js-code-nav-line-number js-blob-rnum" data-line-number="1271"></td>
          <td id="file-assignment-11-text-mining-ipynb-LC1271" class="blob-code blob-code-inner js-file-line">            <span class="pl-ent">"application/vnd.bokehjs_exec.v0+json"</span>: <span class="pl-s"><span class="pl-pds">"</span><span class="pl-pds">"</span></span></td>
        </tr>
        <tr>
          <td id="file-assignment-11-text-mining-ipynb-L1272" class="blob-num js-line-number js-code-nav-line-number js-blob-rnum" data-line-number="1272"></td>
          <td id="file-assignment-11-text-mining-ipynb-LC1272" class="blob-code blob-code-inner js-file-line">          },</td>
        </tr>
        <tr>
          <td id="file-assignment-11-text-mining-ipynb-L1273" class="blob-num js-line-number js-code-nav-line-number js-blob-rnum" data-line-number="1273"></td>
          <td id="file-assignment-11-text-mining-ipynb-LC1273" class="blob-code blob-code-inner js-file-line">          <span class="pl-ent">"metadata"</span>: {</td>
        </tr>
        <tr>
          <td id="file-assignment-11-text-mining-ipynb-L1274" class="blob-num js-line-number js-code-nav-line-number js-blob-rnum" data-line-number="1274"></td>
          <td id="file-assignment-11-text-mining-ipynb-LC1274" class="blob-code blob-code-inner js-file-line">            <span class="pl-ent">"application/vnd.bokehjs_exec.v0+json"</span>: {</td>
        </tr>
        <tr>
          <td id="file-assignment-11-text-mining-ipynb-L1275" class="blob-num js-line-number js-code-nav-line-number js-blob-rnum" data-line-number="1275"></td>
          <td id="file-assignment-11-text-mining-ipynb-LC1275" class="blob-code blob-code-inner js-file-line">              <span class="pl-ent">"id"</span>: <span class="pl-s"><span class="pl-pds">"</span>1002<span class="pl-pds">"</span></span></td>
        </tr>
        <tr>
          <td id="file-assignment-11-text-mining-ipynb-L1276" class="blob-num js-line-number js-code-nav-line-number js-blob-rnum" data-line-number="1276"></td>
          <td id="file-assignment-11-text-mining-ipynb-LC1276" class="blob-code blob-code-inner js-file-line">            }</td>
        </tr>
        <tr>
          <td id="file-assignment-11-text-mining-ipynb-L1277" class="blob-num js-line-number js-code-nav-line-number js-blob-rnum" data-line-number="1277"></td>
          <td id="file-assignment-11-text-mining-ipynb-LC1277" class="blob-code blob-code-inner js-file-line">          }</td>
        </tr>
        <tr>
          <td id="file-assignment-11-text-mining-ipynb-L1278" class="blob-num js-line-number js-code-nav-line-number js-blob-rnum" data-line-number="1278"></td>
          <td id="file-assignment-11-text-mining-ipynb-LC1278" class="blob-code blob-code-inner js-file-line">        }</td>
        </tr>
        <tr>
          <td id="file-assignment-11-text-mining-ipynb-L1279" class="blob-num js-line-number js-code-nav-line-number js-blob-rnum" data-line-number="1279"></td>
          <td id="file-assignment-11-text-mining-ipynb-LC1279" class="blob-code blob-code-inner js-file-line">      ]</td>
        </tr>
        <tr>
          <td id="file-assignment-11-text-mining-ipynb-L1280" class="blob-num js-line-number js-code-nav-line-number js-blob-rnum" data-line-number="1280"></td>
          <td id="file-assignment-11-text-mining-ipynb-LC1280" class="blob-code blob-code-inner js-file-line">    },</td>
        </tr>
        <tr>
          <td id="file-assignment-11-text-mining-ipynb-L1281" class="blob-num js-line-number js-code-nav-line-number js-blob-rnum" data-line-number="1281"></td>
          <td id="file-assignment-11-text-mining-ipynb-LC1281" class="blob-code blob-code-inner js-file-line">    {</td>
        </tr>
        <tr>
          <td id="file-assignment-11-text-mining-ipynb-L1282" class="blob-num js-line-number js-code-nav-line-number js-blob-rnum" data-line-number="1282"></td>
          <td id="file-assignment-11-text-mining-ipynb-LC1282" class="blob-code blob-code-inner js-file-line">      <span class="pl-ent">"metadata"</span>: {</td>
        </tr>
        <tr>
          <td id="file-assignment-11-text-mining-ipynb-L1283" class="blob-num js-line-number js-code-nav-line-number js-blob-rnum" data-line-number="1283"></td>
          <td id="file-assignment-11-text-mining-ipynb-LC1283" class="blob-code blob-code-inner js-file-line">        <span class="pl-ent">"trusted"</span>: <span class="pl-c1">true</span></td>
        </tr>
        <tr>
          <td id="file-assignment-11-text-mining-ipynb-L1284" class="blob-num js-line-number js-code-nav-line-number js-blob-rnum" data-line-number="1284"></td>
          <td id="file-assignment-11-text-mining-ipynb-LC1284" class="blob-code blob-code-inner js-file-line">      },</td>
        </tr>
        <tr>
          <td id="file-assignment-11-text-mining-ipynb-L1285" class="blob-num js-line-number js-code-nav-line-number js-blob-rnum" data-line-number="1285"></td>
          <td id="file-assignment-11-text-mining-ipynb-LC1285" class="blob-code blob-code-inner js-file-line">      <span class="pl-ent">"cell_type"</span>: <span class="pl-s"><span class="pl-pds">"</span>code<span class="pl-pds">"</span></span>,</td>
        </tr>
        <tr>
          <td id="file-assignment-11-text-mining-ipynb-L1286" class="blob-num js-line-number js-code-nav-line-number js-blob-rnum" data-line-number="1286"></td>
          <td id="file-assignment-11-text-mining-ipynb-LC1286" class="blob-code blob-code-inner js-file-line">      <span class="pl-ent">"source"</span>: <span class="pl-s"><span class="pl-pds">"</span>data = df[df['Customers_Rated'] &gt; 1000]<span class="pl-pds">"</span></span>,</td>
        </tr>
        <tr>
          <td id="file-assignment-11-text-mining-ipynb-L1287" class="blob-num js-line-number js-code-nav-line-number js-blob-rnum" data-line-number="1287"></td>
          <td id="file-assignment-11-text-mining-ipynb-LC1287" class="blob-code blob-code-inner js-file-line">      <span class="pl-ent">"execution_count"</span>: <span class="pl-c1">36</span>,</td>
        </tr>
        <tr>
          <td id="file-assignment-11-text-mining-ipynb-L1288" class="blob-num js-line-number js-code-nav-line-number js-blob-rnum" data-line-number="1288"></td>
          <td id="file-assignment-11-text-mining-ipynb-LC1288" class="blob-code blob-code-inner js-file-line">      <span class="pl-ent">"outputs"</span>: []</td>
        </tr>
        <tr>
          <td id="file-assignment-11-text-mining-ipynb-L1289" class="blob-num js-line-number js-code-nav-line-number js-blob-rnum" data-line-number="1289"></td>
          <td id="file-assignment-11-text-mining-ipynb-LC1289" class="blob-code blob-code-inner js-file-line">    },</td>
        </tr>
        <tr>
          <td id="file-assignment-11-text-mining-ipynb-L1290" class="blob-num js-line-number js-code-nav-line-number js-blob-rnum" data-line-number="1290"></td>
          <td id="file-assignment-11-text-mining-ipynb-LC1290" class="blob-code blob-code-inner js-file-line">    {</td>
        </tr>
        <tr>
          <td id="file-assignment-11-text-mining-ipynb-L1291" class="blob-num js-line-number js-code-nav-line-number js-blob-rnum" data-line-number="1291"></td>
          <td id="file-assignment-11-text-mining-ipynb-LC1291" class="blob-code blob-code-inner js-file-line">      <span class="pl-ent">"metadata"</span>: {</td>
        </tr>
        <tr>
          <td id="file-assignment-11-text-mining-ipynb-L1292" class="blob-num js-line-number js-code-nav-line-number js-blob-rnum" data-line-number="1292"></td>
          <td id="file-assignment-11-text-mining-ipynb-LC1292" class="blob-code blob-code-inner js-file-line">        <span class="pl-ent">"trusted"</span>: <span class="pl-c1">true</span></td>
        </tr>
        <tr>
          <td id="file-assignment-11-text-mining-ipynb-L1293" class="blob-num js-line-number js-code-nav-line-number js-blob-rnum" data-line-number="1293"></td>
          <td id="file-assignment-11-text-mining-ipynb-LC1293" class="blob-code blob-code-inner js-file-line">      },</td>
        </tr>
        <tr>
          <td id="file-assignment-11-text-mining-ipynb-L1294" class="blob-num js-line-number js-code-nav-line-number js-blob-rnum" data-line-number="1294"></td>
          <td id="file-assignment-11-text-mining-ipynb-LC1294" class="blob-code blob-code-inner js-file-line">      <span class="pl-ent">"cell_type"</span>: <span class="pl-s"><span class="pl-pds">"</span>code<span class="pl-pds">"</span></span>,</td>
        </tr>
        <tr>
          <td id="file-assignment-11-text-mining-ipynb-L1295" class="blob-num js-line-number js-code-nav-line-number js-blob-rnum" data-line-number="1295"></td>
          <td id="file-assignment-11-text-mining-ipynb-LC1295" class="blob-code blob-code-inner js-file-line">      <span class="pl-ent">"source"</span>: <span class="pl-s"><span class="pl-pds">"</span>data = data.sort_values(['Rating'],axis=0, ascending=False)[:15]<span class="pl-pds">"</span></span>,</td>
        </tr>
        <tr>
          <td id="file-assignment-11-text-mining-ipynb-L1296" class="blob-num js-line-number js-code-nav-line-number js-blob-rnum" data-line-number="1296"></td>
          <td id="file-assignment-11-text-mining-ipynb-LC1296" class="blob-code blob-code-inner js-file-line">      <span class="pl-ent">"execution_count"</span>: <span class="pl-c1">37</span>,</td>
        </tr>
        <tr>
          <td id="file-assignment-11-text-mining-ipynb-L1297" class="blob-num js-line-number js-code-nav-line-number js-blob-rnum" data-line-number="1297"></td>
          <td id="file-assignment-11-text-mining-ipynb-LC1297" class="blob-code blob-code-inner js-file-line">      <span class="pl-ent">"outputs"</span>: []</td>
        </tr>
        <tr>
          <td id="file-assignment-11-text-mining-ipynb-L1298" class="blob-num js-line-number js-code-nav-line-number js-blob-rnum" data-line-number="1298"></td>
          <td id="file-assignment-11-text-mining-ipynb-LC1298" class="blob-code blob-code-inner js-file-line">    },</td>
        </tr>
        <tr>
          <td id="file-assignment-11-text-mining-ipynb-L1299" class="blob-num js-line-number js-code-nav-line-number js-blob-rnum" data-line-number="1299"></td>
          <td id="file-assignment-11-text-mining-ipynb-LC1299" class="blob-code blob-code-inner js-file-line">    {</td>
        </tr>
        <tr>
          <td id="file-assignment-11-text-mining-ipynb-L1300" class="blob-num js-line-number js-code-nav-line-number js-blob-rnum" data-line-number="1300"></td>
          <td id="file-assignment-11-text-mining-ipynb-LC1300" class="blob-code blob-code-inner js-file-line">      <span class="pl-ent">"metadata"</span>: {</td>
        </tr>
        <tr>
          <td id="file-assignment-11-text-mining-ipynb-L1301" class="blob-num js-line-number js-code-nav-line-number js-blob-rnum" data-line-number="1301"></td>
          <td id="file-assignment-11-text-mining-ipynb-LC1301" class="blob-code blob-code-inner js-file-line">        <span class="pl-ent">"trusted"</span>: <span class="pl-c1">true</span></td>
        </tr>
        <tr>
          <td id="file-assignment-11-text-mining-ipynb-L1302" class="blob-num js-line-number js-code-nav-line-number js-blob-rnum" data-line-number="1302"></td>
          <td id="file-assignment-11-text-mining-ipynb-LC1302" class="blob-code blob-code-inner js-file-line">      },</td>
        </tr>
        <tr>
          <td id="file-assignment-11-text-mining-ipynb-L1303" class="blob-num js-line-number js-code-nav-line-number js-blob-rnum" data-line-number="1303"></td>
          <td id="file-assignment-11-text-mining-ipynb-LC1303" class="blob-code blob-code-inner js-file-line">      <span class="pl-ent">"cell_type"</span>: <span class="pl-s"><span class="pl-pds">"</span>code<span class="pl-pds">"</span></span>,</td>
        </tr>
        <tr>
          <td id="file-assignment-11-text-mining-ipynb-L1304" class="blob-num js-line-number js-code-nav-line-number js-blob-rnum" data-line-number="1304"></td>
          <td id="file-assignment-11-text-mining-ipynb-LC1304" class="blob-code blob-code-inner js-file-line">      <span class="pl-ent">"source"</span>: <span class="pl-s"><span class="pl-pds">"</span>data<span class="pl-pds">"</span></span>,</td>
        </tr>
        <tr>
          <td id="file-assignment-11-text-mining-ipynb-L1305" class="blob-num js-line-number js-code-nav-line-number js-blob-rnum" data-line-number="1305"></td>
          <td id="file-assignment-11-text-mining-ipynb-LC1305" class="blob-code blob-code-inner js-file-line">      <span class="pl-ent">"execution_count"</span>: <span class="pl-c1">38</span>,</td>
        </tr>
        <tr>
          <td id="file-assignment-11-text-mining-ipynb-L1306" class="blob-num js-line-number js-code-nav-line-number js-blob-rnum" data-line-number="1306"></td>
          <td id="file-assignment-11-text-mining-ipynb-LC1306" class="blob-code blob-code-inner js-file-line">      <span class="pl-ent">"outputs"</span>: [</td>
        </tr>
        <tr>
          <td id="file-assignment-11-text-mining-ipynb-L1307" class="blob-num js-line-number js-code-nav-line-number js-blob-rnum" data-line-number="1307"></td>
          <td id="file-assignment-11-text-mining-ipynb-LC1307" class="blob-code blob-code-inner js-file-line">        {</td>
        </tr>
        <tr>
          <td id="file-assignment-11-text-mining-ipynb-L1308" class="blob-num js-line-number js-code-nav-line-number js-blob-rnum" data-line-number="1308"></td>
          <td id="file-assignment-11-text-mining-ipynb-LC1308" class="blob-code blob-code-inner js-file-line">          <span class="pl-ent">"output_type"</span>: <span class="pl-s"><span class="pl-pds">"</span>execute_result<span class="pl-pds">"</span></span>,</td>
        </tr>
        <tr>
          <td id="file-assignment-11-text-mining-ipynb-L1309" class="blob-num js-line-number js-code-nav-line-number js-blob-rnum" data-line-number="1309"></td>
          <td id="file-assignment-11-text-mining-ipynb-LC1309" class="blob-code blob-code-inner js-file-line">          <span class="pl-ent">"execution_count"</span>: <span class="pl-c1">38</span>,</td>
        </tr>
        <tr>
          <td id="file-assignment-11-text-mining-ipynb-L1310" class="blob-num js-line-number js-code-nav-line-number js-blob-rnum" data-line-number="1310"></td>
          <td id="file-assignment-11-text-mining-ipynb-LC1310" class="blob-code blob-code-inner js-file-line">          <span class="pl-ent">"data"</span>: {</td>
        </tr>
        <tr>
          <td id="file-assignment-11-text-mining-ipynb-L1311" class="blob-num js-line-number js-code-nav-line-number js-blob-rnum" data-line-number="1311"></td>
          <td id="file-assignment-11-text-mining-ipynb-LC1311" class="blob-code blob-code-inner js-file-line">            "text/plain": "                                            Book Name  \\\n40  Objective NCERT at your FINGERTIPS for NEET-AI...   \n39  Think Like a Monk: The secret of how to harnes...   \n36              Sapiens: A Brief History of Humankind   \n94          Bhagvad gita as it is english new edition   \n55           Harry Potter and the Philosopher's Stone   \n60  Death; An Inside Story: A book for all those w...   \n27  The Magic of the Lost Temple: Illustrated, eas...   \n16  Life's Amazing Secrets: How to Find Balance an...   \n54  The Theory of Everything: The Origin and Fate ...   \n68           Inner Engineering: A Yogi’s Guide to Joy   \n73      Mathematics for Class 8 (Examination 2021-22)   \n23  Mathematics for Class 10 by R D Sharma (Examin...   \n75  My First Complete Learning Library: Boxset of ...   \n43  Refreshing Mandala - Colouring Book for Adults...   \n97  A Man Called Ove: The life-affirming bestselle...   \n\n                                  Author  Rating  Customers_Rated  Price  \n40                   MTG Editorial Board     4.7           1071.0    561  \n39                            Jay Shetty     4.7          11652.0    355  \n36                     Yuval Noah Harari     4.7          30966.0    345  \n94  His Divine Grace A.C. Bhaktivedanta\n     4.7           3844.0    237  \n55                          J.K. Rowling     4.7          25289.0    280  \n60                              Sadhguru     4.7           4102.0    199  \n27                           Sudha Murty     4.7           2061.0    133  \n16                        Gaur Gopal Das     4.6           6690.0    158  \n54                       Stephen Hawking     4.6           4936.0    155  \n68                              Sadhguru     4.6           8708.0    178  \n73                           R.D. Sharma     4.6           1425.0    395  \n23                           R.D. Sharma     4.6           1120.0    545  \n75                    Wonder House Books     4.6           3716.0    799  \n43                Dreamland Publications     4.6           2988.0    150  \n97                       Fredrik Backman     4.6          24912.0    255  ",</td>
        </tr>
        <tr>
          <td id="file-assignment-11-text-mining-ipynb-L1312" class="blob-num js-line-number js-code-nav-line-number js-blob-rnum" data-line-number="1312"></td>
          <td id="file-assignment-11-text-mining-ipynb-LC1312" class="blob-code blob-code-inner js-file-line">            "text/html": "&lt;div&gt;\n&lt;style scoped&gt;\n    .dataframe tbody tr th:only-of-type {\n        vertical-align: middle;\n    }\n\n    .dataframe tbody tr th {\n        vertical-align: top;\n    }\n\n    .dataframe thead th {\n        text-align: right;\n    }\n&lt;/style&gt;\n&lt;table border=\"1\" class=\"dataframe\"&gt;\n  &lt;thead&gt;\n    &lt;tr style=\"text-align: right;\"&gt;\n      &lt;th&gt;&lt;/th&gt;\n      &lt;th&gt;Book Name&lt;/th&gt;\n      &lt;th&gt;Author&lt;/th&gt;\n      &lt;th&gt;Rating&lt;/th&gt;\n      &lt;th&gt;Customers_Rated&lt;/th&gt;\n      &lt;th&gt;Price&lt;/th&gt;\n    &lt;/tr&gt;\n  &lt;/thead&gt;\n  &lt;tbody&gt;\n    &lt;tr&gt;\n      &lt;th&gt;40&lt;/th&gt;\n      &lt;td&gt;Objective NCERT at your FINGERTIPS for NEET-AI...&lt;/td&gt;\n      &lt;td&gt;MTG Editorial Board&lt;/td&gt;\n      &lt;td&gt;4.7&lt;/td&gt;\n      &lt;td&gt;1071.0&lt;/td&gt;\n      &lt;td&gt;561&lt;/td&gt;\n    &lt;/tr&gt;\n    &lt;tr&gt;\n      &lt;th&gt;39&lt;/th&gt;\n      &lt;td&gt;Think Like a Monk: The secret of how to harnes...&lt;/td&gt;\n      &lt;td&gt;Jay Shetty&lt;/td&gt;\n      &lt;td&gt;4.7&lt;/td&gt;\n      &lt;td&gt;11652.0&lt;/td&gt;\n      &lt;td&gt;355&lt;/td&gt;\n    &lt;/tr&gt;\n    &lt;tr&gt;\n      &lt;th&gt;36&lt;/th&gt;\n      &lt;td&gt;Sapiens: A Brief History of Humankind&lt;/td&gt;\n      &lt;td&gt;Yuval Noah Harari&lt;/td&gt;\n      &lt;td&gt;4.7&lt;/td&gt;\n      &lt;td&gt;30966.0&lt;/td&gt;\n      &lt;td&gt;345&lt;/td&gt;\n    &lt;/tr&gt;\n    &lt;tr&gt;\n      &lt;th&gt;94&lt;/th&gt;\n      &lt;td&gt;Bhagvad gita as it is english new edition&lt;/td&gt;\n      &lt;td&gt;His Divine Grace A.C. Bhaktivedanta&lt;/td&gt;\n      &lt;td&gt;4.7&lt;/td&gt;\n      &lt;td&gt;3844.0&lt;/td&gt;\n      &lt;td&gt;237&lt;/td&gt;\n    &lt;/tr&gt;\n    &lt;tr&gt;\n      &lt;th&gt;55&lt;/th&gt;\n      &lt;td&gt;Harry Potter and the Philosopher's Stone&lt;/td&gt;\n      &lt;td&gt;J.K. Rowling&lt;/td&gt;\n      &lt;td&gt;4.7&lt;/td&gt;\n      &lt;td&gt;25289.0&lt;/td&gt;\n      &lt;td&gt;280&lt;/td&gt;\n    &lt;/tr&gt;\n    &lt;tr&gt;\n      &lt;th&gt;60&lt;/th&gt;\n      &lt;td&gt;Death; An Inside Story: A book for all those w...&lt;/td&gt;\n      &lt;td&gt;Sadhguru&lt;/td&gt;\n      &lt;td&gt;4.7&lt;/td&gt;\n      &lt;td&gt;4102.0&lt;/td&gt;\n      &lt;td&gt;199&lt;/td&gt;\n    &lt;/tr&gt;\n    &lt;tr&gt;\n      &lt;th&gt;27&lt;/th&gt;\n      &lt;td&gt;The Magic of the Lost Temple: Illustrated, eas...&lt;/td&gt;\n      &lt;td&gt;Sudha Murty&lt;/td&gt;\n      &lt;td&gt;4.7&lt;/td&gt;\n      &lt;td&gt;2061.0&lt;/td&gt;\n      &lt;td&gt;133&lt;/td&gt;\n    &lt;/tr&gt;\n    &lt;tr&gt;\n      &lt;th&gt;16&lt;/th&gt;\n      &lt;td&gt;Life's Amazing Secrets: How to Find Balance an...&lt;/td&gt;\n      &lt;td&gt;Gaur Gopal Das&lt;/td&gt;\n      &lt;td&gt;4.6&lt;/td&gt;\n      &lt;td&gt;6690.0&lt;/td&gt;\n      &lt;td&gt;158&lt;/td&gt;\n    &lt;/tr&gt;\n    &lt;tr&gt;\n      &lt;th&gt;54&lt;/th&gt;\n      &lt;td&gt;The Theory of Everything: The Origin and Fate ...&lt;/td&gt;\n      &lt;td&gt;Stephen Hawking&lt;/td&gt;\n      &lt;td&gt;4.6&lt;/td&gt;\n      &lt;td&gt;4936.0&lt;/td&gt;\n      &lt;td&gt;155&lt;/td&gt;\n    &lt;/tr&gt;\n    &lt;tr&gt;\n      &lt;th&gt;68&lt;/th&gt;\n      &lt;td&gt;Inner Engineering: A Yogi’s Guide to Joy&lt;/td&gt;\n      &lt;td&gt;Sadhguru&lt;/td&gt;\n      &lt;td&gt;4.6&lt;/td&gt;\n      &lt;td&gt;8708.0&lt;/td&gt;\n      &lt;td&gt;178&lt;/td&gt;\n    &lt;/tr&gt;\n    &lt;tr&gt;\n      &lt;th&gt;73&lt;/th&gt;\n      &lt;td&gt;Mathematics for Class 8 (Examination 2021-22)&lt;/td&gt;\n      &lt;td&gt;R.D. Sharma&lt;/td&gt;\n      &lt;td&gt;4.6&lt;/td&gt;\n      &lt;td&gt;1425.0&lt;/td&gt;\n      &lt;td&gt;395&lt;/td&gt;\n    &lt;/tr&gt;\n    &lt;tr&gt;\n      &lt;th&gt;23&lt;/th&gt;\n      &lt;td&gt;Mathematics for Class 10 by R D Sharma (Examin...&lt;/td&gt;\n      &lt;td&gt;R.D. Sharma&lt;/td&gt;\n      &lt;td&gt;4.6&lt;/td&gt;\n      &lt;td&gt;1120.0&lt;/td&gt;\n      &lt;td&gt;545&lt;/td&gt;\n    &lt;/tr&gt;\n    &lt;tr&gt;\n      &lt;th&gt;75&lt;/th&gt;\n      &lt;td&gt;My First Complete Learning Library: Boxset of ...&lt;/td&gt;\n      &lt;td&gt;Wonder House Books&lt;/td&gt;\n      &lt;td&gt;4.6&lt;/td&gt;\n      &lt;td&gt;3716.0&lt;/td&gt;\n      &lt;td&gt;799&lt;/td&gt;\n    &lt;/tr&gt;\n    &lt;tr&gt;\n      &lt;th&gt;43&lt;/th&gt;\n      &lt;td&gt;Refreshing Mandala - Colouring Book for Adults...&lt;/td&gt;\n      &lt;td&gt;Dreamland Publications&lt;/td&gt;\n      &lt;td&gt;4.6&lt;/td&gt;\n      &lt;td&gt;2988.0&lt;/td&gt;\n      &lt;td&gt;150&lt;/td&gt;\n    &lt;/tr&gt;\n    &lt;tr&gt;\n      &lt;th&gt;97&lt;/th&gt;\n      &lt;td&gt;A Man Called Ove: The life-affirming bestselle...&lt;/td&gt;\n      &lt;td&gt;Fredrik Backman&lt;/td&gt;\n      &lt;td&gt;4.6&lt;/td&gt;\n      &lt;td&gt;24912.0&lt;/td&gt;\n      &lt;td&gt;255&lt;/td&gt;\n    &lt;/tr&gt;\n  &lt;/tbody&gt;\n&lt;/table&gt;\n&lt;/div&gt;"</td>
        </tr>
        <tr>
          <td id="file-assignment-11-text-mining-ipynb-L1313" class="blob-num js-line-number js-code-nav-line-number js-blob-rnum" data-line-number="1313"></td>
          <td id="file-assignment-11-text-mining-ipynb-LC1313" class="blob-code blob-code-inner js-file-line">          },</td>
        </tr>
        <tr>
          <td id="file-assignment-11-text-mining-ipynb-L1314" class="blob-num js-line-number js-code-nav-line-number js-blob-rnum" data-line-number="1314"></td>
          <td id="file-assignment-11-text-mining-ipynb-LC1314" class="blob-code blob-code-inner js-file-line">          <span class="pl-ent">"metadata"</span>: {}</td>
        </tr>
        <tr>
          <td id="file-assignment-11-text-mining-ipynb-L1315" class="blob-num js-line-number js-code-nav-line-number js-blob-rnum" data-line-number="1315"></td>
          <td id="file-assignment-11-text-mining-ipynb-LC1315" class="blob-code blob-code-inner js-file-line">        }</td>
        </tr>
        <tr>
          <td id="file-assignment-11-text-mining-ipynb-L1316" class="blob-num js-line-number js-code-nav-line-number js-blob-rnum" data-line-number="1316"></td>
          <td id="file-assignment-11-text-mining-ipynb-LC1316" class="blob-code blob-code-inner js-file-line">      ]</td>
        </tr>
        <tr>
          <td id="file-assignment-11-text-mining-ipynb-L1317" class="blob-num js-line-number js-code-nav-line-number js-blob-rnum" data-line-number="1317"></td>
          <td id="file-assignment-11-text-mining-ipynb-LC1317" class="blob-code blob-code-inner js-file-line">    },</td>
        </tr>
        <tr>
          <td id="file-assignment-11-text-mining-ipynb-L1318" class="blob-num js-line-number js-code-nav-line-number js-blob-rnum" data-line-number="1318"></td>
          <td id="file-assignment-11-text-mining-ipynb-LC1318" class="blob-code blob-code-inner js-file-line">    {</td>
        </tr>
        <tr>
          <td id="file-assignment-11-text-mining-ipynb-L1319" class="blob-num js-line-number js-code-nav-line-number js-blob-rnum" data-line-number="1319"></td>
          <td id="file-assignment-11-text-mining-ipynb-LC1319" class="blob-code blob-code-inner js-file-line">      <span class="pl-ent">"metadata"</span>: {</td>
        </tr>
        <tr>
          <td id="file-assignment-11-text-mining-ipynb-L1320" class="blob-num js-line-number js-code-nav-line-number js-blob-rnum" data-line-number="1320"></td>
          <td id="file-assignment-11-text-mining-ipynb-LC1320" class="blob-code blob-code-inner js-file-line">        <span class="pl-ent">"trusted"</span>: <span class="pl-c1">true</span></td>
        </tr>
        <tr>
          <td id="file-assignment-11-text-mining-ipynb-L1321" class="blob-num js-line-number js-code-nav-line-number js-blob-rnum" data-line-number="1321"></td>
          <td id="file-assignment-11-text-mining-ipynb-LC1321" class="blob-code blob-code-inner js-file-line">      },</td>
        </tr>
        <tr>
          <td id="file-assignment-11-text-mining-ipynb-L1322" class="blob-num js-line-number js-code-nav-line-number js-blob-rnum" data-line-number="1322"></td>
          <td id="file-assignment-11-text-mining-ipynb-LC1322" class="blob-code blob-code-inner js-file-line">      <span class="pl-ent">"cell_type"</span>: <span class="pl-s"><span class="pl-pds">"</span>code<span class="pl-pds">"</span></span>,</td>
        </tr>
        <tr>
          <td id="file-assignment-11-text-mining-ipynb-L1323" class="blob-num js-line-number js-code-nav-line-number js-blob-rnum" data-line-number="1323"></td>
          <td id="file-assignment-11-text-mining-ipynb-LC1323" class="blob-code blob-code-inner js-file-line">      <span class="pl-ent">"source"</span>: <span class="pl-s"><span class="pl-pds">"</span>p = figure(x_range=data.iloc[:,0], plot_width=800, plot_height=600, title=<span class="pl-cce">\"</span>Top Rated Books with more than 1000 Customers Rating<span class="pl-cce">\"</span>, toolbar_location=None, tools=<span class="pl-cce">\"\"</span>)<span class="pl-cce">\n\n</span>p.vbar(x=data.iloc[:,0], top=data.iloc[:,2], width=0.9)<span class="pl-cce">\n\n</span>p.xgrid.grid_line_color = None<span class="pl-cce">\n</span>p.y_range.start = 0<span class="pl-cce">\n</span>p.xaxis.major_label_orientation = math.pi/2<span class="pl-pds">"</span></span>,</td>
        </tr>
        <tr>
          <td id="file-assignment-11-text-mining-ipynb-L1324" class="blob-num js-line-number js-code-nav-line-number js-blob-rnum" data-line-number="1324"></td>
          <td id="file-assignment-11-text-mining-ipynb-LC1324" class="blob-code blob-code-inner js-file-line">      <span class="pl-ent">"execution_count"</span>: <span class="pl-c1">39</span>,</td>
        </tr>
        <tr>
          <td id="file-assignment-11-text-mining-ipynb-L1325" class="blob-num js-line-number js-code-nav-line-number js-blob-rnum" data-line-number="1325"></td>
          <td id="file-assignment-11-text-mining-ipynb-LC1325" class="blob-code blob-code-inner js-file-line">      <span class="pl-ent">"outputs"</span>: []</td>
        </tr>
        <tr>
          <td id="file-assignment-11-text-mining-ipynb-L1326" class="blob-num js-line-number js-code-nav-line-number js-blob-rnum" data-line-number="1326"></td>
          <td id="file-assignment-11-text-mining-ipynb-LC1326" class="blob-code blob-code-inner js-file-line">    },</td>
        </tr>
        <tr>
          <td id="file-assignment-11-text-mining-ipynb-L1327" class="blob-num js-line-number js-code-nav-line-number js-blob-rnum" data-line-number="1327"></td>
          <td id="file-assignment-11-text-mining-ipynb-LC1327" class="blob-code blob-code-inner js-file-line">    {</td>
        </tr>
        <tr>
          <td id="file-assignment-11-text-mining-ipynb-L1328" class="blob-num js-line-number js-code-nav-line-number js-blob-rnum" data-line-number="1328"></td>
          <td id="file-assignment-11-text-mining-ipynb-LC1328" class="blob-code blob-code-inner js-file-line">      <span class="pl-ent">"metadata"</span>: {</td>
        </tr>
        <tr>
          <td id="file-assignment-11-text-mining-ipynb-L1329" class="blob-num js-line-number js-code-nav-line-number js-blob-rnum" data-line-number="1329"></td>
          <td id="file-assignment-11-text-mining-ipynb-LC1329" class="blob-code blob-code-inner js-file-line">        <span class="pl-ent">"trusted"</span>: <span class="pl-c1">true</span></td>
        </tr>
        <tr>
          <td id="file-assignment-11-text-mining-ipynb-L1330" class="blob-num js-line-number js-code-nav-line-number js-blob-rnum" data-line-number="1330"></td>
          <td id="file-assignment-11-text-mining-ipynb-LC1330" class="blob-code blob-code-inner js-file-line">      },</td>
        </tr>
        <tr>
          <td id="file-assignment-11-text-mining-ipynb-L1331" class="blob-num js-line-number js-code-nav-line-number js-blob-rnum" data-line-number="1331"></td>
          <td id="file-assignment-11-text-mining-ipynb-LC1331" class="blob-code blob-code-inner js-file-line">      <span class="pl-ent">"cell_type"</span>: <span class="pl-s"><span class="pl-pds">"</span>code<span class="pl-pds">"</span></span>,</td>
        </tr>
        <tr>
          <td id="file-assignment-11-text-mining-ipynb-L1332" class="blob-num js-line-number js-code-nav-line-number js-blob-rnum" data-line-number="1332"></td>
          <td id="file-assignment-11-text-mining-ipynb-LC1332" class="blob-code blob-code-inner js-file-line">      <span class="pl-ent">"source"</span>: <span class="pl-s"><span class="pl-pds">"</span>show(p)<span class="pl-pds">"</span></span>,</td>
        </tr>
        <tr>
          <td id="file-assignment-11-text-mining-ipynb-L1333" class="blob-num js-line-number js-code-nav-line-number js-blob-rnum" data-line-number="1333"></td>
          <td id="file-assignment-11-text-mining-ipynb-LC1333" class="blob-code blob-code-inner js-file-line">      <span class="pl-ent">"execution_count"</span>: <span class="pl-c1">40</span>,</td>
        </tr>
        <tr>
          <td id="file-assignment-11-text-mining-ipynb-L1334" class="blob-num js-line-number js-code-nav-line-number js-blob-rnum" data-line-number="1334"></td>
          <td id="file-assignment-11-text-mining-ipynb-LC1334" class="blob-code blob-code-inner js-file-line">      <span class="pl-ent">"outputs"</span>: [</td>
        </tr>
        <tr>
          <td id="file-assignment-11-text-mining-ipynb-L1335" class="blob-num js-line-number js-code-nav-line-number js-blob-rnum" data-line-number="1335"></td>
          <td id="file-assignment-11-text-mining-ipynb-LC1335" class="blob-code blob-code-inner js-file-line">        {</td>
        </tr>
        <tr>
          <td id="file-assignment-11-text-mining-ipynb-L1336" class="blob-num js-line-number js-code-nav-line-number js-blob-rnum" data-line-number="1336"></td>
          <td id="file-assignment-11-text-mining-ipynb-LC1336" class="blob-code blob-code-inner js-file-line">          <span class="pl-ent">"output_type"</span>: <span class="pl-s"><span class="pl-pds">"</span>display_data<span class="pl-pds">"</span></span>,</td>
        </tr>
        <tr>
          <td id="file-assignment-11-text-mining-ipynb-L1337" class="blob-num js-line-number js-code-nav-line-number js-blob-rnum" data-line-number="1337"></td>
          <td id="file-assignment-11-text-mining-ipynb-LC1337" class="blob-code blob-code-inner js-file-line">          <span class="pl-ent">"data"</span>: {</td>
        </tr>
        <tr>
          <td id="file-assignment-11-text-mining-ipynb-L1338" class="blob-num js-line-number js-code-nav-line-number js-blob-rnum" data-line-number="1338"></td>
          <td id="file-assignment-11-text-mining-ipynb-LC1338" class="blob-code blob-code-inner js-file-line">            <span class="pl-ent">"text/html"</span>: <span class="pl-s"><span class="pl-pds">"</span><span class="pl-cce">\n\n\n\n\n\n</span>  &lt;div class=<span class="pl-cce">\"</span>bk-root<span class="pl-cce">\"</span> id=<span class="pl-cce">\"</span>6cb499a3-4202-4c76-a57b-86e619308e94<span class="pl-cce">\"</span> data-root-id=<span class="pl-cce">\"</span>1075<span class="pl-cce">\"</span>&gt;&lt;/div&gt;<span class="pl-cce">\n</span><span class="pl-pds">"</span></span></td>
        </tr>
        <tr>
          <td id="file-assignment-11-text-mining-ipynb-L1339" class="blob-num js-line-number js-code-nav-line-number js-blob-rnum" data-line-number="1339"></td>
          <td id="file-assignment-11-text-mining-ipynb-LC1339" class="blob-code blob-code-inner js-file-line">          },</td>
        </tr>
        <tr>
          <td id="file-assignment-11-text-mining-ipynb-L1340" class="blob-num js-line-number js-code-nav-line-number js-blob-rnum" data-line-number="1340"></td>
          <td id="file-assignment-11-text-mining-ipynb-LC1340" class="blob-code blob-code-inner js-file-line">          <span class="pl-ent">"metadata"</span>: {}</td>
        </tr>
        <tr>
          <td id="file-assignment-11-text-mining-ipynb-L1341" class="blob-num js-line-number js-code-nav-line-number js-blob-rnum" data-line-number="1341"></td>
          <td id="file-assignment-11-text-mining-ipynb-LC1341" class="blob-code blob-code-inner js-file-line">        },</td>
        </tr>
        <tr>
          <td id="file-assignment-11-text-mining-ipynb-L1342" class="blob-num js-line-number js-code-nav-line-number js-blob-rnum" data-line-number="1342"></td>
          <td id="file-assignment-11-text-mining-ipynb-LC1342" class="blob-code blob-code-inner js-file-line">        {</td>
        </tr>
        <tr>
          <td id="file-assignment-11-text-mining-ipynb-L1343" class="blob-num js-line-number js-code-nav-line-number js-blob-rnum" data-line-number="1343"></td>
          <td id="file-assignment-11-text-mining-ipynb-LC1343" class="blob-code blob-code-inner js-file-line">          <span class="pl-ent">"output_type"</span>: <span class="pl-s"><span class="pl-pds">"</span>display_data<span class="pl-pds">"</span></span>,</td>
        </tr>
        <tr>
          <td id="file-assignment-11-text-mining-ipynb-L1344" class="blob-num js-line-number js-code-nav-line-number js-blob-rnum" data-line-number="1344"></td>
          <td id="file-assignment-11-text-mining-ipynb-LC1344" class="blob-code blob-code-inner js-file-line">          <span class="pl-ent">"data"</span>: {</td>
        </tr>
        <tr>
          <td id="file-assignment-11-text-mining-ipynb-L1345" class="blob-num js-line-number js-code-nav-line-number js-blob-rnum" data-line-number="1345"></td>
          <td id="file-assignment-11-text-mining-ipynb-LC1345" class="blob-code blob-code-inner js-file-line">            "application/javascript": "(function(root) {\n  function embed_document(root) {\n    \n  var docs_json = {\"ef8be387-09a7-4162-85ee-6df2be11f361\":{\"roots\":{\"references\":[{\"attributes\":{\"below\":[{\"id\":\"1086\"}],\"center\":[{\"id\":\"1088\"},{\"id\":\"1092\"}],\"left\":[{\"id\":\"1089\"}],\"plot_width\":800,\"renderers\":[{\"id\":\"1097\"}],\"title\":{\"id\":\"1076\"},\"toolbar\":{\"id\":\"1093\"},\"toolbar_location\":null,\"x_range\":{\"id\":\"1078\"},\"x_scale\":{\"id\":\"1082\"},\"y_range\":{\"id\":\"1080\"},\"y_scale\":{\"id\":\"1084\"}},\"id\":\"1075\",\"subtype\":\"Figure\",\"type\":\"Plot\"},{\"attributes\":{},\"id\":\"1090\",\"type\":\"BasicTicker\"},{\"attributes\":{\"axis\":{\"id\":\"1089\"},\"dimension\":1,\"ticker\":null},\"id\":\"1092\",\"type\":\"Grid\"},{\"attributes\":{\"active_drag\":\"auto\",\"active_inspect\":\"auto\",\"active_multi\":null,\"active_scroll\":\"auto\",\"active_tap\":\"auto\"},\"id\":\"1093\",\"type\":\"Toolbar\"},{\"attributes\":{},\"id\":\"1108\",\"type\":\"CategoricalTickFormatter\"},{\"attributes\":{},\"id\":\"1110\",\"type\":\"BasicTickFormatter\"},{\"attributes\":{},\"id\":\"1112\",\"type\":\"UnionRenderers\"},{\"attributes\":{\"data\":{\"top\":{\"__ndarray__\":\"zczMzMzMEkDNzMzMzMwSQM3MzMzMzBJAzczMzMzMEkDNzMzMzMwSQM3MzMzMzBJAzczMzMzMEkBmZmZmZmYSQGZmZmZmZhJAZmZmZmZmEkBmZmZmZmYSQGZmZmZmZhJAZmZmZmZmEkBmZmZmZmYSQGZmZmZmZhJA\",\"dtype\":\"float64\",\"order\":\"little\",\"shape\":[15]},\"x\":[\"Objective NCERT at your FINGERTIPS for NEET-AIIMS - Biology\",\"Think Like a Monk: The secret of how to harness the power of positivity and be happy now\",\"Sapiens: A Brief History of Humankind\",\"Bhagvad gita as it is english new edition\",\"Harry Potter and the Philosopher's Stone\",\"Death; An Inside Story: A book for all those who shall die\",\"The Magic of the Lost Temple: Illustrated, easy to read and much-loved first full length children\\u2019s fiction novel by\\u2026\",\"Life's Amazing Secrets: How to Find Balance and Purpose in Your Life\",\"The Theory of Everything: The Origin and Fate of the Universe\",\"Inner Engineering: A Yogi\\u2019s Guide to Joy\",\"Mathematics for Class 8 (Examination 2021-22)\",\"Mathematics for Class 10 by R D Sharma (Examination 2021-22)\",\"My First Complete Learning Library: Boxset of 20 Board Books Gift Set for Kids (Horizontal Design)\",\"Refreshing Mandala - Colouring Book for Adults Book 1\",\"A Man Called Ove: The life-affirming bestseller that will brighten your day\"]},\"selected\":{\"id\":\"1111\"},\"selection_policy\":{\"id\":\"1112\"}},\"id\":\"1094\",\"type\":\"ColumnDataSource\"},{\"attributes\":{\"fill_color\":{\"value\":\"#1f77b4\"},\"line_color\":{\"value\":\"#1f77b4\"},\"top\":{\"field\":\"top\"},\"width\":{\"value\":0.9},\"x\":{\"field\":\"x\"}},\"id\":\"1095\",\"type\":\"VBar\"},{\"attributes\":{\"fill_alpha\":{\"value\":0.1},\"fill_color\":{\"value\":\"#1f77b4\"},\"line_alpha\":{\"value\":0.1},\"line_color\":{\"value\":\"#1f77b4\"},\"top\":{\"field\":\"top\"},\"width\":{\"value\":0.9},\"x\":{\"field\":\"x\"}},\"id\":\"1096\",\"type\":\"VBar\"},{\"attributes\":{\"source\":{\"id\":\"1094\"}},\"id\":\"1098\",\"type\":\"CDSView\"},{\"attributes\":{\"text\":\"Top Rated Books with more than 1000 Customers Rating\"},\"id\":\"1076\",\"type\":\"Title\"},{\"attributes\":{\"data_source\":{\"id\":\"1094\"},\"glyph\":{\"id\":\"1095\"},\"hover_glyph\":null,\"muted_glyph\":null,\"nonselection_glyph\":{\"id\":\"1096\"},\"selection_glyph\":null,\"view\":{\"id\":\"1098\"}},\"id\":\"1097\",\"type\":\"GlyphRenderer\"},{\"attributes\":{\"factors\":[\"Objective NCERT at your FINGERTIPS for NEET-AIIMS - Biology\",\"Think Like a Monk: The secret of how to harness the power of positivity and be happy now\",\"Sapiens: A Brief History of Humankind\",\"Bhagvad gita as it is english new edition\",\"Harry Potter and the Philosopher's Stone\",\"Death; An Inside Story: A book for all those who shall die\",\"The Magic of the Lost Temple: Illustrated, easy to read and much-loved first full length children\\u2019s fiction novel by\\u2026\",\"Life's Amazing Secrets: How to Find Balance and Purpose in Your Life\",\"The Theory of Everything: The Origin and Fate of the Universe\",\"Inner Engineering: A Yogi\\u2019s Guide to Joy\",\"Mathematics for Class 8 (Examination 2021-22)\",\"Mathematics for Class 10 by R D Sharma (Examination 2021-22)\",\"My First Complete Learning Library: Boxset of 20 Board Books Gift Set for Kids (Horizontal Design)\",\"Refreshing Mandala - Colouring Book for Adults Book 1\",\"A Man Called Ove: The life-affirming bestseller that will brighten your day\"]},\"id\":\"1078\",\"type\":\"FactorRange\"},{\"attributes\":{},\"id\":\"1111\",\"type\":\"Selection\"},{\"attributes\":{},\"id\":\"1082\",\"type\":\"CategoricalScale\"},{\"attributes\":{},\"id\":\"1084\",\"type\":\"LinearScale\"},{\"attributes\":{},\"id\":\"1087\",\"type\":\"CategoricalTicker\"},{\"attributes\":{\"start\":0},\"id\":\"1080\",\"type\":\"DataRange1d\"},{\"attributes\":{\"formatter\":{\"id\":\"1108\"},\"major_label_orientation\":1.5707963267948966,\"ticker\":{\"id\":\"1087\"}},\"id\":\"1086\",\"type\":\"CategoricalAxis\"},{\"attributes\":{\"axis\":{\"id\":\"1086\"},\"grid_line_color\":null,\"ticker\":null},\"id\":\"1088\",\"type\":\"Grid\"},{\"attributes\":{\"formatter\":{\"id\":\"1110\"},\"ticker\":{\"id\":\"1090\"}},\"id\":\"1089\",\"type\":\"LinearAxis\"}],\"root_ids\":[\"1075\"]},\"title\":\"Bokeh Application\",\"version\":\"2.1.1\"}};\n  var render_items = [{\"docid\":\"ef8be387-09a7-4162-85ee-6df2be11f361\",\"root_ids\":[\"1075\"],\"roots\":{\"1075\":\"6cb499a3-4202-4c76-a57b-86e619308e94\"}}];\n  root.Bokeh.embed.embed_items_notebook(docs_json, render_items);\n\n  }\n  if (root.Bokeh !== undefined) {\n    embed_document(root);\n  } else {\n    var attempts = 0;\n    var timer = setInterval(function(root) {\n      if (root.Bokeh !== undefined) {\n        clearInterval(timer);\n        embed_document(root);\n      } else {\n        attempts++;\n        if (attempts &gt; 100) {\n          clearInterval(timer);\n          console.log(\"Bokeh: ERROR: Unable to run BokehJS code because BokehJS library is missing\");\n        }\n      }\n    }, 10, root)\n  }\n})(window);",</td>
        </tr>
        <tr>
          <td id="file-assignment-11-text-mining-ipynb-L1346" class="blob-num js-line-number js-code-nav-line-number js-blob-rnum" data-line-number="1346"></td>
          <td id="file-assignment-11-text-mining-ipynb-LC1346" class="blob-code blob-code-inner js-file-line">            <span class="pl-ent">"application/vnd.bokehjs_exec.v0+json"</span>: <span class="pl-s"><span class="pl-pds">"</span><span class="pl-pds">"</span></span></td>
        </tr>
        <tr>
          <td id="file-assignment-11-text-mining-ipynb-L1347" class="blob-num js-line-number js-code-nav-line-number js-blob-rnum" data-line-number="1347"></td>
          <td id="file-assignment-11-text-mining-ipynb-LC1347" class="blob-code blob-code-inner js-file-line">          },</td>
        </tr>
        <tr>
          <td id="file-assignment-11-text-mining-ipynb-L1348" class="blob-num js-line-number js-code-nav-line-number js-blob-rnum" data-line-number="1348"></td>
          <td id="file-assignment-11-text-mining-ipynb-LC1348" class="blob-code blob-code-inner js-file-line">          <span class="pl-ent">"metadata"</span>: {</td>
        </tr>
        <tr>
          <td id="file-assignment-11-text-mining-ipynb-L1349" class="blob-num js-line-number js-code-nav-line-number js-blob-rnum" data-line-number="1349"></td>
          <td id="file-assignment-11-text-mining-ipynb-LC1349" class="blob-code blob-code-inner js-file-line">            <span class="pl-ent">"application/vnd.bokehjs_exec.v0+json"</span>: {</td>
        </tr>
        <tr>
          <td id="file-assignment-11-text-mining-ipynb-L1350" class="blob-num js-line-number js-code-nav-line-number js-blob-rnum" data-line-number="1350"></td>
          <td id="file-assignment-11-text-mining-ipynb-LC1350" class="blob-code blob-code-inner js-file-line">              <span class="pl-ent">"id"</span>: <span class="pl-s"><span class="pl-pds">"</span>1075<span class="pl-pds">"</span></span></td>
        </tr>
        <tr>
          <td id="file-assignment-11-text-mining-ipynb-L1351" class="blob-num js-line-number js-code-nav-line-number js-blob-rnum" data-line-number="1351"></td>
          <td id="file-assignment-11-text-mining-ipynb-LC1351" class="blob-code blob-code-inner js-file-line">            }</td>
        </tr>
        <tr>
          <td id="file-assignment-11-text-mining-ipynb-L1352" class="blob-num js-line-number js-code-nav-line-number js-blob-rnum" data-line-number="1352"></td>
          <td id="file-assignment-11-text-mining-ipynb-LC1352" class="blob-code blob-code-inner js-file-line">          }</td>
        </tr>
        <tr>
          <td id="file-assignment-11-text-mining-ipynb-L1353" class="blob-num js-line-number js-code-nav-line-number js-blob-rnum" data-line-number="1353"></td>
          <td id="file-assignment-11-text-mining-ipynb-LC1353" class="blob-code blob-code-inner js-file-line">        }</td>
        </tr>
        <tr>
          <td id="file-assignment-11-text-mining-ipynb-L1354" class="blob-num js-line-number js-code-nav-line-number js-blob-rnum" data-line-number="1354"></td>
          <td id="file-assignment-11-text-mining-ipynb-LC1354" class="blob-code blob-code-inner js-file-line">      ]</td>
        </tr>
        <tr>
          <td id="file-assignment-11-text-mining-ipynb-L1355" class="blob-num js-line-number js-code-nav-line-number js-blob-rnum" data-line-number="1355"></td>
          <td id="file-assignment-11-text-mining-ipynb-LC1355" class="blob-code blob-code-inner js-file-line">    },</td>
        </tr>
        <tr>
          <td id="file-assignment-11-text-mining-ipynb-L1356" class="blob-num js-line-number js-code-nav-line-number js-blob-rnum" data-line-number="1356"></td>
          <td id="file-assignment-11-text-mining-ipynb-LC1356" class="blob-code blob-code-inner js-file-line">    {</td>
        </tr>
        <tr>
          <td id="file-assignment-11-text-mining-ipynb-L1357" class="blob-num js-line-number js-code-nav-line-number js-blob-rnum" data-line-number="1357"></td>
          <td id="file-assignment-11-text-mining-ipynb-LC1357" class="blob-code blob-code-inner js-file-line">      <span class="pl-ent">"metadata"</span>: {</td>
        </tr>
        <tr>
          <td id="file-assignment-11-text-mining-ipynb-L1358" class="blob-num js-line-number js-code-nav-line-number js-blob-rnum" data-line-number="1358"></td>
          <td id="file-assignment-11-text-mining-ipynb-LC1358" class="blob-code blob-code-inner js-file-line">        <span class="pl-ent">"trusted"</span>: <span class="pl-c1">true</span></td>
        </tr>
        <tr>
          <td id="file-assignment-11-text-mining-ipynb-L1359" class="blob-num js-line-number js-code-nav-line-number js-blob-rnum" data-line-number="1359"></td>
          <td id="file-assignment-11-text-mining-ipynb-LC1359" class="blob-code blob-code-inner js-file-line">      },</td>
        </tr>
        <tr>
          <td id="file-assignment-11-text-mining-ipynb-L1360" class="blob-num js-line-number js-code-nav-line-number js-blob-rnum" data-line-number="1360"></td>
          <td id="file-assignment-11-text-mining-ipynb-LC1360" class="blob-code blob-code-inner js-file-line">      <span class="pl-ent">"cell_type"</span>: <span class="pl-s"><span class="pl-pds">"</span>code<span class="pl-pds">"</span></span>,</td>
        </tr>
        <tr>
          <td id="file-assignment-11-text-mining-ipynb-L1361" class="blob-num js-line-number js-code-nav-line-number js-blob-rnum" data-line-number="1361"></td>
          <td id="file-assignment-11-text-mining-ipynb-LC1361" class="blob-code blob-code-inner js-file-line">      <span class="pl-ent">"source"</span>: <span class="pl-s"><span class="pl-pds">"</span>p = figure(x_range=data.iloc[:,1], plot_width=800, plot_height=600, title=<span class="pl-cce">\"</span>Top Rated Books with more than 1000 Customers Rating<span class="pl-cce">\"</span>, toolbar_location=None, tools=<span class="pl-cce">\"\"</span>)<span class="pl-cce">\n\n</span>p.vbar(x=data.iloc[:,1], top=data.iloc[:,2], width=0.9)<span class="pl-cce">\n\n</span>p.xgrid.grid_line_color = None<span class="pl-cce">\n</span>p.y_range.start = 0<span class="pl-cce">\n</span>p.xaxis.major_label_orientation = math.pi/2<span class="pl-pds">"</span></span>,</td>
        </tr>
        <tr>
          <td id="file-assignment-11-text-mining-ipynb-L1362" class="blob-num js-line-number js-code-nav-line-number js-blob-rnum" data-line-number="1362"></td>
          <td id="file-assignment-11-text-mining-ipynb-LC1362" class="blob-code blob-code-inner js-file-line">      <span class="pl-ent">"execution_count"</span>: <span class="pl-c1">41</span>,</td>
        </tr>
        <tr>
          <td id="file-assignment-11-text-mining-ipynb-L1363" class="blob-num js-line-number js-code-nav-line-number js-blob-rnum" data-line-number="1363"></td>
          <td id="file-assignment-11-text-mining-ipynb-LC1363" class="blob-code blob-code-inner js-file-line">      <span class="pl-ent">"outputs"</span>: []</td>
        </tr>
        <tr>
          <td id="file-assignment-11-text-mining-ipynb-L1364" class="blob-num js-line-number js-code-nav-line-number js-blob-rnum" data-line-number="1364"></td>
          <td id="file-assignment-11-text-mining-ipynb-LC1364" class="blob-code blob-code-inner js-file-line">    },</td>
        </tr>
        <tr>
          <td id="file-assignment-11-text-mining-ipynb-L1365" class="blob-num js-line-number js-code-nav-line-number js-blob-rnum" data-line-number="1365"></td>
          <td id="file-assignment-11-text-mining-ipynb-LC1365" class="blob-code blob-code-inner js-file-line">    {</td>
        </tr>
        <tr>
          <td id="file-assignment-11-text-mining-ipynb-L1366" class="blob-num js-line-number js-code-nav-line-number js-blob-rnum" data-line-number="1366"></td>
          <td id="file-assignment-11-text-mining-ipynb-LC1366" class="blob-code blob-code-inner js-file-line">      <span class="pl-ent">"metadata"</span>: {</td>
        </tr>
        <tr>
          <td id="file-assignment-11-text-mining-ipynb-L1367" class="blob-num js-line-number js-code-nav-line-number js-blob-rnum" data-line-number="1367"></td>
          <td id="file-assignment-11-text-mining-ipynb-LC1367" class="blob-code blob-code-inner js-file-line">        <span class="pl-ent">"trusted"</span>: <span class="pl-c1">true</span></td>
        </tr>
        <tr>
          <td id="file-assignment-11-text-mining-ipynb-L1368" class="blob-num js-line-number js-code-nav-line-number js-blob-rnum" data-line-number="1368"></td>
          <td id="file-assignment-11-text-mining-ipynb-LC1368" class="blob-code blob-code-inner js-file-line">      },</td>
        </tr>
        <tr>
          <td id="file-assignment-11-text-mining-ipynb-L1369" class="blob-num js-line-number js-code-nav-line-number js-blob-rnum" data-line-number="1369"></td>
          <td id="file-assignment-11-text-mining-ipynb-LC1369" class="blob-code blob-code-inner js-file-line">      <span class="pl-ent">"cell_type"</span>: <span class="pl-s"><span class="pl-pds">"</span>code<span class="pl-pds">"</span></span>,</td>
        </tr>
        <tr>
          <td id="file-assignment-11-text-mining-ipynb-L1370" class="blob-num js-line-number js-code-nav-line-number js-blob-rnum" data-line-number="1370"></td>
          <td id="file-assignment-11-text-mining-ipynb-LC1370" class="blob-code blob-code-inner js-file-line">      <span class="pl-ent">"source"</span>: <span class="pl-s"><span class="pl-pds">"</span>show(p)<span class="pl-pds">"</span></span>,</td>
        </tr>
        <tr>
          <td id="file-assignment-11-text-mining-ipynb-L1371" class="blob-num js-line-number js-code-nav-line-number js-blob-rnum" data-line-number="1371"></td>
          <td id="file-assignment-11-text-mining-ipynb-LC1371" class="blob-code blob-code-inner js-file-line">      <span class="pl-ent">"execution_count"</span>: <span class="pl-c1">42</span>,</td>
        </tr>
        <tr>
          <td id="file-assignment-11-text-mining-ipynb-L1372" class="blob-num js-line-number js-code-nav-line-number js-blob-rnum" data-line-number="1372"></td>
          <td id="file-assignment-11-text-mining-ipynb-LC1372" class="blob-code blob-code-inner js-file-line">      <span class="pl-ent">"outputs"</span>: [</td>
        </tr>
        <tr>
          <td id="file-assignment-11-text-mining-ipynb-L1373" class="blob-num js-line-number js-code-nav-line-number js-blob-rnum" data-line-number="1373"></td>
          <td id="file-assignment-11-text-mining-ipynb-LC1373" class="blob-code blob-code-inner js-file-line">        {</td>
        </tr>
        <tr>
          <td id="file-assignment-11-text-mining-ipynb-L1374" class="blob-num js-line-number js-code-nav-line-number js-blob-rnum" data-line-number="1374"></td>
          <td id="file-assignment-11-text-mining-ipynb-LC1374" class="blob-code blob-code-inner js-file-line">          <span class="pl-ent">"output_type"</span>: <span class="pl-s"><span class="pl-pds">"</span>stream<span class="pl-pds">"</span></span>,</td>
        </tr>
        <tr>
          <td id="file-assignment-11-text-mining-ipynb-L1375" class="blob-num js-line-number js-code-nav-line-number js-blob-rnum" data-line-number="1375"></td>
          <td id="file-assignment-11-text-mining-ipynb-LC1375" class="blob-code blob-code-inner js-file-line">          <span class="pl-ent">"text"</span>: <span class="pl-s"><span class="pl-pds">"</span>ERROR:bokeh.core.validation.check:E-1019 (DUPLICATE_FACTORS): FactorRange must specify a unique list of categorical factors for an axis: duplicate factors found: 'Sadhguru', 'R.D. Sharma'<span class="pl-cce">\n</span><span class="pl-pds">"</span></span>,</td>
        </tr>
        <tr>
          <td id="file-assignment-11-text-mining-ipynb-L1376" class="blob-num js-line-number js-code-nav-line-number js-blob-rnum" data-line-number="1376"></td>
          <td id="file-assignment-11-text-mining-ipynb-LC1376" class="blob-code blob-code-inner js-file-line">          <span class="pl-ent">"name"</span>: <span class="pl-s"><span class="pl-pds">"</span>stderr<span class="pl-pds">"</span></span></td>
        </tr>
        <tr>
          <td id="file-assignment-11-text-mining-ipynb-L1377" class="blob-num js-line-number js-code-nav-line-number js-blob-rnum" data-line-number="1377"></td>
          <td id="file-assignment-11-text-mining-ipynb-LC1377" class="blob-code blob-code-inner js-file-line">        },</td>
        </tr>
        <tr>
          <td id="file-assignment-11-text-mining-ipynb-L1378" class="blob-num js-line-number js-code-nav-line-number js-blob-rnum" data-line-number="1378"></td>
          <td id="file-assignment-11-text-mining-ipynb-LC1378" class="blob-code blob-code-inner js-file-line">        {</td>
        </tr>
        <tr>
          <td id="file-assignment-11-text-mining-ipynb-L1379" class="blob-num js-line-number js-code-nav-line-number js-blob-rnum" data-line-number="1379"></td>
          <td id="file-assignment-11-text-mining-ipynb-LC1379" class="blob-code blob-code-inner js-file-line">          <span class="pl-ent">"output_type"</span>: <span class="pl-s"><span class="pl-pds">"</span>display_data<span class="pl-pds">"</span></span>,</td>
        </tr>
        <tr>
          <td id="file-assignment-11-text-mining-ipynb-L1380" class="blob-num js-line-number js-code-nav-line-number js-blob-rnum" data-line-number="1380"></td>
          <td id="file-assignment-11-text-mining-ipynb-LC1380" class="blob-code blob-code-inner js-file-line">          <span class="pl-ent">"data"</span>: {</td>
        </tr>
        <tr>
          <td id="file-assignment-11-text-mining-ipynb-L1381" class="blob-num js-line-number js-code-nav-line-number js-blob-rnum" data-line-number="1381"></td>
          <td id="file-assignment-11-text-mining-ipynb-LC1381" class="blob-code blob-code-inner js-file-line">            <span class="pl-ent">"text/html"</span>: <span class="pl-s"><span class="pl-pds">"</span><span class="pl-cce">\n\n\n\n\n\n</span>  &lt;div class=<span class="pl-cce">\"</span>bk-root<span class="pl-cce">\"</span> id=<span class="pl-cce">\"</span>918f16d5-4355-4798-948c-65433393b546<span class="pl-cce">\"</span> data-root-id=<span class="pl-cce">\"</span>1155<span class="pl-cce">\"</span>&gt;&lt;/div&gt;<span class="pl-cce">\n</span><span class="pl-pds">"</span></span></td>
        </tr>
        <tr>
          <td id="file-assignment-11-text-mining-ipynb-L1382" class="blob-num js-line-number js-code-nav-line-number js-blob-rnum" data-line-number="1382"></td>
          <td id="file-assignment-11-text-mining-ipynb-LC1382" class="blob-code blob-code-inner js-file-line">          },</td>
        </tr>
        <tr>
          <td id="file-assignment-11-text-mining-ipynb-L1383" class="blob-num js-line-number js-code-nav-line-number js-blob-rnum" data-line-number="1383"></td>
          <td id="file-assignment-11-text-mining-ipynb-LC1383" class="blob-code blob-code-inner js-file-line">          <span class="pl-ent">"metadata"</span>: {}</td>
        </tr>
        <tr>
          <td id="file-assignment-11-text-mining-ipynb-L1384" class="blob-num js-line-number js-code-nav-line-number js-blob-rnum" data-line-number="1384"></td>
          <td id="file-assignment-11-text-mining-ipynb-LC1384" class="blob-code blob-code-inner js-file-line">        },</td>
        </tr>
        <tr>
          <td id="file-assignment-11-text-mining-ipynb-L1385" class="blob-num js-line-number js-code-nav-line-number js-blob-rnum" data-line-number="1385"></td>
          <td id="file-assignment-11-text-mining-ipynb-LC1385" class="blob-code blob-code-inner js-file-line">        {</td>
        </tr>
        <tr>
          <td id="file-assignment-11-text-mining-ipynb-L1386" class="blob-num js-line-number js-code-nav-line-number js-blob-rnum" data-line-number="1386"></td>
          <td id="file-assignment-11-text-mining-ipynb-LC1386" class="blob-code blob-code-inner js-file-line">          <span class="pl-ent">"output_type"</span>: <span class="pl-s"><span class="pl-pds">"</span>display_data<span class="pl-pds">"</span></span>,</td>
        </tr>
        <tr>
          <td id="file-assignment-11-text-mining-ipynb-L1387" class="blob-num js-line-number js-code-nav-line-number js-blob-rnum" data-line-number="1387"></td>
          <td id="file-assignment-11-text-mining-ipynb-LC1387" class="blob-code blob-code-inner js-file-line">          <span class="pl-ent">"data"</span>: {</td>
        </tr>
        <tr>
          <td id="file-assignment-11-text-mining-ipynb-L1388" class="blob-num js-line-number js-code-nav-line-number js-blob-rnum" data-line-number="1388"></td>
          <td id="file-assignment-11-text-mining-ipynb-LC1388" class="blob-code blob-code-inner js-file-line">            "application/javascript": "(function(root) {\n  function embed_document(root) {\n    \n  var docs_json = {\"a78957e4-88b1-4d65-8248-ce937571c988\":{\"roots\":{\"references\":[{\"attributes\":{\"below\":[{\"id\":\"1166\"}],\"center\":[{\"id\":\"1168\"},{\"id\":\"1172\"}],\"left\":[{\"id\":\"1169\"}],\"plot_width\":800,\"renderers\":[{\"id\":\"1177\"}],\"title\":{\"id\":\"1156\"},\"toolbar\":{\"id\":\"1173\"},\"toolbar_location\":null,\"x_range\":{\"id\":\"1158\"},\"x_scale\":{\"id\":\"1162\"},\"y_range\":{\"id\":\"1160\"},\"y_scale\":{\"id\":\"1164\"}},\"id\":\"1155\",\"subtype\":\"Figure\",\"type\":\"Plot\"},{\"attributes\":{},\"id\":\"1197\",\"type\":\"BasicTickFormatter\"},{\"attributes\":{\"axis\":{\"id\":\"1169\"},\"dimension\":1,\"ticker\":null},\"id\":\"1172\",\"type\":\"Grid\"},{\"attributes\":{\"active_drag\":\"auto\",\"active_inspect\":\"auto\",\"active_multi\":null,\"active_scroll\":\"auto\",\"active_tap\":\"auto\"},\"id\":\"1173\",\"type\":\"Toolbar\"},{\"attributes\":{},\"id\":\"1170\",\"type\":\"BasicTicker\"},{\"attributes\":{\"fill_color\":{\"value\":\"#1f77b4\"},\"line_color\":{\"value\":\"#1f77b4\"},\"top\":{\"field\":\"top\"},\"width\":{\"value\":0.9},\"x\":{\"field\":\"x\"}},\"id\":\"1175\",\"type\":\"VBar\"},{\"attributes\":{\"formatter\":{\"id\":\"1197\"},\"ticker\":{\"id\":\"1170\"}},\"id\":\"1169\",\"type\":\"LinearAxis\"},{\"attributes\":{},\"id\":\"1198\",\"type\":\"Selection\"},{\"attributes\":{\"text\":\"Top Rated Books with more than 1000 Customers Rating\"},\"id\":\"1156\",\"type\":\"Title\"},{\"attributes\":{\"factors\":[\"MTG Editorial Board\",\"Jay Shetty\",\"Yuval Noah Harari\",\"His Divine Grace A.C. Bhaktivedanta\\u0085\",\"J.K. Rowling\",\"Sadhguru\",\"Sudha Murty\",\"Gaur Gopal Das\",\"Stephen Hawking\",\"Sadhguru\",\"R.D. Sharma\",\"R.D. Sharma\",\"Wonder House Books\",\"Dreamland Publications\",\"Fredrik Backman\"]},\"id\":\"1158\",\"type\":\"FactorRange\"},{\"attributes\":{},\"id\":\"1195\",\"type\":\"CategoricalTickFormatter\"},{\"attributes\":{},\"id\":\"1162\",\"type\":\"CategoricalScale\"},{\"attributes\":{},\"id\":\"1199\",\"type\":\"UnionRenderers\"},{\"attributes\":{\"axis\":{\"id\":\"1166\"},\"grid_line_color\":null,\"ticker\":null},\"id\":\"1168\",\"type\":\"Grid\"},{\"attributes\":{},\"id\":\"1164\",\"type\":\"LinearScale\"},{\"attributes\":{\"start\":0},\"id\":\"1160\",\"type\":\"DataRange1d\"},{\"attributes\":{\"fill_alpha\":{\"value\":0.1},\"fill_color\":{\"value\":\"#1f77b4\"},\"line_alpha\":{\"value\":0.1},\"line_color\":{\"value\":\"#1f77b4\"},\"top\":{\"field\":\"top\"},\"width\":{\"value\":0.9},\"x\":{\"field\":\"x\"}},\"id\":\"1176\",\"type\":\"VBar\"},{\"attributes\":{\"data\":{\"top\":{\"__ndarray__\":\"zczMzMzMEkDNzMzMzMwSQM3MzMzMzBJAzczMzMzMEkDNzMzMzMwSQM3MzMzMzBJAzczMzMzMEkBmZmZmZmYSQGZmZmZmZhJAZmZmZmZmEkBmZmZmZmYSQGZmZmZmZhJAZmZmZmZmEkBmZmZmZmYSQGZmZmZmZhJA\",\"dtype\":\"float64\",\"order\":\"little\",\"shape\":[15]},\"x\":[\"MTG Editorial Board\",\"Jay Shetty\",\"Yuval Noah Harari\",\"His Divine Grace A.C. Bhaktivedanta\\u0085\",\"J.K. Rowling\",\"Sadhguru\",\"Sudha Murty\",\"Gaur Gopal Das\",\"Stephen Hawking\",\"Sadhguru\",\"R.D. Sharma\",\"R.D. Sharma\",\"Wonder House Books\",\"Dreamland Publications\",\"Fredrik Backman\"]},\"selected\":{\"id\":\"1198\"},\"selection_policy\":{\"id\":\"1199\"}},\"id\":\"1174\",\"type\":\"ColumnDataSource\"},{\"attributes\":{\"source\":{\"id\":\"1174\"}},\"id\":\"1178\",\"type\":\"CDSView\"},{\"attributes\":{\"data_source\":{\"id\":\"1174\"},\"glyph\":{\"id\":\"1175\"},\"hover_glyph\":null,\"muted_glyph\":null,\"nonselection_glyph\":{\"id\":\"1176\"},\"selection_glyph\":null,\"view\":{\"id\":\"1178\"}},\"id\":\"1177\",\"type\":\"GlyphRenderer\"},{\"attributes\":{},\"id\":\"1167\",\"type\":\"CategoricalTicker\"},{\"attributes\":{\"formatter\":{\"id\":\"1195\"},\"major_label_orientation\":1.5707963267948966,\"ticker\":{\"id\":\"1167\"}},\"id\":\"1166\",\"type\":\"CategoricalAxis\"}],\"root_ids\":[\"1155\"]},\"title\":\"Bokeh Application\",\"version\":\"2.1.1\"}};\n  var render_items = [{\"docid\":\"a78957e4-88b1-4d65-8248-ce937571c988\",\"root_ids\":[\"1155\"],\"roots\":{\"1155\":\"918f16d5-4355-4798-948c-65433393b546\"}}];\n  root.Bokeh.embed.embed_items_notebook(docs_json, render_items);\n\n  }\n  if (root.Bokeh !== undefined) {\n    embed_document(root);\n  } else {\n    var attempts = 0;\n    var timer = setInterval(function(root) {\n      if (root.Bokeh !== undefined) {\n        clearInterval(timer);\n        embed_document(root);\n      } else {\n        attempts++;\n        if (attempts &gt; 100) {\n          clearInterval(timer);\n          console.log(\"Bokeh: ERROR: Unable to run BokehJS code because BokehJS library is missing\");\n        }\n      }\n    }, 10, root)\n  }\n})(window);",</td>
        </tr>
        <tr>
          <td id="file-assignment-11-text-mining-ipynb-L1389" class="blob-num js-line-number js-code-nav-line-number js-blob-rnum" data-line-number="1389"></td>
          <td id="file-assignment-11-text-mining-ipynb-LC1389" class="blob-code blob-code-inner js-file-line">            <span class="pl-ent">"application/vnd.bokehjs_exec.v0+json"</span>: <span class="pl-s"><span class="pl-pds">"</span><span class="pl-pds">"</span></span></td>
        </tr>
        <tr>
          <td id="file-assignment-11-text-mining-ipynb-L1390" class="blob-num js-line-number js-code-nav-line-number js-blob-rnum" data-line-number="1390"></td>
          <td id="file-assignment-11-text-mining-ipynb-LC1390" class="blob-code blob-code-inner js-file-line">          },</td>
        </tr>
        <tr>
          <td id="file-assignment-11-text-mining-ipynb-L1391" class="blob-num js-line-number js-code-nav-line-number js-blob-rnum" data-line-number="1391"></td>
          <td id="file-assignment-11-text-mining-ipynb-LC1391" class="blob-code blob-code-inner js-file-line">          <span class="pl-ent">"metadata"</span>: {</td>
        </tr>
        <tr>
          <td id="file-assignment-11-text-mining-ipynb-L1392" class="blob-num js-line-number js-code-nav-line-number js-blob-rnum" data-line-number="1392"></td>
          <td id="file-assignment-11-text-mining-ipynb-LC1392" class="blob-code blob-code-inner js-file-line">            <span class="pl-ent">"application/vnd.bokehjs_exec.v0+json"</span>: {</td>
        </tr>
        <tr>
          <td id="file-assignment-11-text-mining-ipynb-L1393" class="blob-num js-line-number js-code-nav-line-number js-blob-rnum" data-line-number="1393"></td>
          <td id="file-assignment-11-text-mining-ipynb-LC1393" class="blob-code blob-code-inner js-file-line">              <span class="pl-ent">"id"</span>: <span class="pl-s"><span class="pl-pds">"</span>1155<span class="pl-pds">"</span></span></td>
        </tr>
        <tr>
          <td id="file-assignment-11-text-mining-ipynb-L1394" class="blob-num js-line-number js-code-nav-line-number js-blob-rnum" data-line-number="1394"></td>
          <td id="file-assignment-11-text-mining-ipynb-LC1394" class="blob-code blob-code-inner js-file-line">            }</td>
        </tr>
        <tr>
          <td id="file-assignment-11-text-mining-ipynb-L1395" class="blob-num js-line-number js-code-nav-line-number js-blob-rnum" data-line-number="1395"></td>
          <td id="file-assignment-11-text-mining-ipynb-LC1395" class="blob-code blob-code-inner js-file-line">          }</td>
        </tr>
        <tr>
          <td id="file-assignment-11-text-mining-ipynb-L1396" class="blob-num js-line-number js-code-nav-line-number js-blob-rnum" data-line-number="1396"></td>
          <td id="file-assignment-11-text-mining-ipynb-LC1396" class="blob-code blob-code-inner js-file-line">        }</td>
        </tr>
        <tr>
          <td id="file-assignment-11-text-mining-ipynb-L1397" class="blob-num js-line-number js-code-nav-line-number js-blob-rnum" data-line-number="1397"></td>
          <td id="file-assignment-11-text-mining-ipynb-LC1397" class="blob-code blob-code-inner js-file-line">      ]</td>
        </tr>
        <tr>
          <td id="file-assignment-11-text-mining-ipynb-L1398" class="blob-num js-line-number js-code-nav-line-number js-blob-rnum" data-line-number="1398"></td>
          <td id="file-assignment-11-text-mining-ipynb-LC1398" class="blob-code blob-code-inner js-file-line">    },</td>
        </tr>
        <tr>
          <td id="file-assignment-11-text-mining-ipynb-L1399" class="blob-num js-line-number js-code-nav-line-number js-blob-rnum" data-line-number="1399"></td>
          <td id="file-assignment-11-text-mining-ipynb-LC1399" class="blob-code blob-code-inner js-file-line">    {</td>
        </tr>
        <tr>
          <td id="file-assignment-11-text-mining-ipynb-L1400" class="blob-num js-line-number js-code-nav-line-number js-blob-rnum" data-line-number="1400"></td>
          <td id="file-assignment-11-text-mining-ipynb-LC1400" class="blob-code blob-code-inner js-file-line">      <span class="pl-ent">"metadata"</span>: {</td>
        </tr>
        <tr>
          <td id="file-assignment-11-text-mining-ipynb-L1401" class="blob-num js-line-number js-code-nav-line-number js-blob-rnum" data-line-number="1401"></td>
          <td id="file-assignment-11-text-mining-ipynb-LC1401" class="blob-code blob-code-inner js-file-line">        <span class="pl-ent">"trusted"</span>: <span class="pl-c1">true</span></td>
        </tr>
        <tr>
          <td id="file-assignment-11-text-mining-ipynb-L1402" class="blob-num js-line-number js-code-nav-line-number js-blob-rnum" data-line-number="1402"></td>
          <td id="file-assignment-11-text-mining-ipynb-LC1402" class="blob-code blob-code-inner js-file-line">      },</td>
        </tr>
        <tr>
          <td id="file-assignment-11-text-mining-ipynb-L1403" class="blob-num js-line-number js-code-nav-line-number js-blob-rnum" data-line-number="1403"></td>
          <td id="file-assignment-11-text-mining-ipynb-LC1403" class="blob-code blob-code-inner js-file-line">      <span class="pl-ent">"cell_type"</span>: <span class="pl-s"><span class="pl-pds">"</span>code<span class="pl-pds">"</span></span>,</td>
        </tr>
        <tr>
          <td id="file-assignment-11-text-mining-ipynb-L1404" class="blob-num js-line-number js-code-nav-line-number js-blob-rnum" data-line-number="1404"></td>
          <td id="file-assignment-11-text-mining-ipynb-LC1404" class="blob-code blob-code-inner js-file-line">      <span class="pl-ent">"source"</span>: <span class="pl-s"><span class="pl-pds">"</span>data = df.sort_values([<span class="pl-cce">\"</span>Customers_Rated<span class="pl-cce">\"</span>], axis=0, ascending=False)[:20]<span class="pl-pds">"</span></span>,</td>
        </tr>
        <tr>
          <td id="file-assignment-11-text-mining-ipynb-L1405" class="blob-num js-line-number js-code-nav-line-number js-blob-rnum" data-line-number="1405"></td>
          <td id="file-assignment-11-text-mining-ipynb-LC1405" class="blob-code blob-code-inner js-file-line">      <span class="pl-ent">"execution_count"</span>: <span class="pl-c1">43</span>,</td>
        </tr>
        <tr>
          <td id="file-assignment-11-text-mining-ipynb-L1406" class="blob-num js-line-number js-code-nav-line-number js-blob-rnum" data-line-number="1406"></td>
          <td id="file-assignment-11-text-mining-ipynb-LC1406" class="blob-code blob-code-inner js-file-line">      <span class="pl-ent">"outputs"</span>: []</td>
        </tr>
        <tr>
          <td id="file-assignment-11-text-mining-ipynb-L1407" class="blob-num js-line-number js-code-nav-line-number js-blob-rnum" data-line-number="1407"></td>
          <td id="file-assignment-11-text-mining-ipynb-LC1407" class="blob-code blob-code-inner js-file-line">    },</td>
        </tr>
        <tr>
          <td id="file-assignment-11-text-mining-ipynb-L1408" class="blob-num js-line-number js-code-nav-line-number js-blob-rnum" data-line-number="1408"></td>
          <td id="file-assignment-11-text-mining-ipynb-LC1408" class="blob-code blob-code-inner js-file-line">    {</td>
        </tr>
        <tr>
          <td id="file-assignment-11-text-mining-ipynb-L1409" class="blob-num js-line-number js-code-nav-line-number js-blob-rnum" data-line-number="1409"></td>
          <td id="file-assignment-11-text-mining-ipynb-LC1409" class="blob-code blob-code-inner js-file-line">      <span class="pl-ent">"metadata"</span>: {</td>
        </tr>
        <tr>
          <td id="file-assignment-11-text-mining-ipynb-L1410" class="blob-num js-line-number js-code-nav-line-number js-blob-rnum" data-line-number="1410"></td>
          <td id="file-assignment-11-text-mining-ipynb-LC1410" class="blob-code blob-code-inner js-file-line">        <span class="pl-ent">"trusted"</span>: <span class="pl-c1">true</span></td>
        </tr>
        <tr>
          <td id="file-assignment-11-text-mining-ipynb-L1411" class="blob-num js-line-number js-code-nav-line-number js-blob-rnum" data-line-number="1411"></td>
          <td id="file-assignment-11-text-mining-ipynb-LC1411" class="blob-code blob-code-inner js-file-line">      },</td>
        </tr>
        <tr>
          <td id="file-assignment-11-text-mining-ipynb-L1412" class="blob-num js-line-number js-code-nav-line-number js-blob-rnum" data-line-number="1412"></td>
          <td id="file-assignment-11-text-mining-ipynb-LC1412" class="blob-code blob-code-inner js-file-line">      <span class="pl-ent">"cell_type"</span>: <span class="pl-s"><span class="pl-pds">"</span>code<span class="pl-pds">"</span></span>,</td>
        </tr>
        <tr>
          <td id="file-assignment-11-text-mining-ipynb-L1413" class="blob-num js-line-number js-code-nav-line-number js-blob-rnum" data-line-number="1413"></td>
          <td id="file-assignment-11-text-mining-ipynb-LC1413" class="blob-code blob-code-inner js-file-line">      <span class="pl-ent">"source"</span>: <span class="pl-s"><span class="pl-pds">"</span>data<span class="pl-pds">"</span></span>,</td>
        </tr>
        <tr>
          <td id="file-assignment-11-text-mining-ipynb-L1414" class="blob-num js-line-number js-code-nav-line-number js-blob-rnum" data-line-number="1414"></td>
          <td id="file-assignment-11-text-mining-ipynb-LC1414" class="blob-code blob-code-inner js-file-line">      <span class="pl-ent">"execution_count"</span>: <span class="pl-c1">44</span>,</td>
        </tr>
        <tr>
          <td id="file-assignment-11-text-mining-ipynb-L1415" class="blob-num js-line-number js-code-nav-line-number js-blob-rnum" data-line-number="1415"></td>
          <td id="file-assignment-11-text-mining-ipynb-LC1415" class="blob-code blob-code-inner js-file-line">      <span class="pl-ent">"outputs"</span>: [</td>
        </tr>
        <tr>
          <td id="file-assignment-11-text-mining-ipynb-L1416" class="blob-num js-line-number js-code-nav-line-number js-blob-rnum" data-line-number="1416"></td>
          <td id="file-assignment-11-text-mining-ipynb-LC1416" class="blob-code blob-code-inner js-file-line">        {</td>
        </tr>
        <tr>
          <td id="file-assignment-11-text-mining-ipynb-L1417" class="blob-num js-line-number js-code-nav-line-number js-blob-rnum" data-line-number="1417"></td>
          <td id="file-assignment-11-text-mining-ipynb-LC1417" class="blob-code blob-code-inner js-file-line">          <span class="pl-ent">"output_type"</span>: <span class="pl-s"><span class="pl-pds">"</span>execute_result<span class="pl-pds">"</span></span>,</td>
        </tr>
        <tr>
          <td id="file-assignment-11-text-mining-ipynb-L1418" class="blob-num js-line-number js-code-nav-line-number js-blob-rnum" data-line-number="1418"></td>
          <td id="file-assignment-11-text-mining-ipynb-LC1418" class="blob-code blob-code-inner js-file-line">          <span class="pl-ent">"execution_count"</span>: <span class="pl-c1">44</span>,</td>
        </tr>
        <tr>
          <td id="file-assignment-11-text-mining-ipynb-L1419" class="blob-num js-line-number js-code-nav-line-number js-blob-rnum" data-line-number="1419"></td>
          <td id="file-assignment-11-text-mining-ipynb-LC1419" class="blob-code blob-code-inner js-file-line">          <span class="pl-ent">"data"</span>: {</td>
        </tr>
        <tr>
          <td id="file-assignment-11-text-mining-ipynb-L1420" class="blob-num js-line-number js-code-nav-line-number js-blob-rnum" data-line-number="1420"></td>
          <td id="file-assignment-11-text-mining-ipynb-LC1420" class="blob-code blob-code-inner js-file-line">            "text/plain": "                                            Book Name              Author  \\\n82  The Silent Patient: The record-breaking, multi...    Alex Michaelides   \n11                                      The Alchemist        Paulo Coelho   \n72  The Subtle Art of Not Giving a F*ck: A Counter...         Mark Manson   \n7   Rich Dad Poor Dad: What the Rich Teach Their K...  Robert T. Kiyosaki   \n36              Sapiens: A Brief History of Humankind   Yuval Noah Harari   \n48  Man's Search For Meaning: The classic tribute ...     Viktor E Frankl   \n91                The Power of your Subconscious Mind       Joseph Murphy   \n10                The Power of Your Subconscious Mind       Joseph Murphy   \n55           Harry Potter and the Philosopher's Stone        J.K. Rowling   \n97  A Man Called Ove: The life-affirming bestselle...     Fredrik Backman   \n12  The Intelligent Investor (English) Paperback –...     Benjamin Graham   \n1   My First Library: Boxset of 10 Board Books for...  Wonder House Books   \n25                               Word Power Made Easy        Norman Lewis   \n28                               Word Power Made Easy        Norman Lewis   \n93  Thinking, Fast and Slow (Penguin Press Non-Fic...     Daniel Kahneman   \n9   Atomic Habits: The life-changing million copy ...         James Clear   \n33                         The Richest Man in Babylon    George S. Clason   \n47                      The Monk Who Sold His Ferrari        Robin Sharma   \n2   Ikigai: The Japanese secret to a long and happ...       Héctor García   \n39  Think Like a Monk: The secret of how to harnes...          Jay Shetty   \n\n    Rating  Customers_Rated  Price  \n82     4.5          64434.0    285  \n11     4.6          49429.0    229  \n72     4.5          44860.0    256  \n7      4.6          38266.0    383  \n36     4.7          30966.0    345  \n48     4.5          28796.0    180  \n91     4.5          28691.0    135  \n10     4.5          28691.0    109  \n55     4.7          25289.0    280  \n97     4.6          24912.0    255  \n12     4.5          21526.0    499  \n1      4.5          19845.0    399  \n25     4.4          18765.0     95  \n28     4.4          18765.0    170  \n93     4.4          17512.0    359  \n9      4.6          16898.0    445  \n33     4.4          16450.0     99  \n47     4.5          12207.0    153  \n2      4.6          12180.0    380  \n39     4.7          11652.0    355  ",</td>
        </tr>
        <tr>
          <td id="file-assignment-11-text-mining-ipynb-L1421" class="blob-num js-line-number js-code-nav-line-number js-blob-rnum" data-line-number="1421"></td>
          <td id="file-assignment-11-text-mining-ipynb-LC1421" class="blob-code blob-code-inner js-file-line">            "text/html": "&lt;div&gt;\n&lt;style scoped&gt;\n    .dataframe tbody tr th:only-of-type {\n        vertical-align: middle;\n    }\n\n    .dataframe tbody tr th {\n        vertical-align: top;\n    }\n\n    .dataframe thead th {\n        text-align: right;\n    }\n&lt;/style&gt;\n&lt;table border=\"1\" class=\"dataframe\"&gt;\n  &lt;thead&gt;\n    &lt;tr style=\"text-align: right;\"&gt;\n      &lt;th&gt;&lt;/th&gt;\n      &lt;th&gt;Book Name&lt;/th&gt;\n      &lt;th&gt;Author&lt;/th&gt;\n      &lt;th&gt;Rating&lt;/th&gt;\n      &lt;th&gt;Customers_Rated&lt;/th&gt;\n      &lt;th&gt;Price&lt;/th&gt;\n    &lt;/tr&gt;\n  &lt;/thead&gt;\n  &lt;tbody&gt;\n    &lt;tr&gt;\n      &lt;th&gt;82&lt;/th&gt;\n      &lt;td&gt;The Silent Patient: The record-breaking, multi...&lt;/td&gt;\n      &lt;td&gt;Alex Michaelides&lt;/td&gt;\n      &lt;td&gt;4.5&lt;/td&gt;\n      &lt;td&gt;64434.0&lt;/td&gt;\n      &lt;td&gt;285&lt;/td&gt;\n    &lt;/tr&gt;\n    &lt;tr&gt;\n      &lt;th&gt;11&lt;/th&gt;\n      &lt;td&gt;The Alchemist&lt;/td&gt;\n      &lt;td&gt;Paulo Coelho&lt;/td&gt;\n      &lt;td&gt;4.6&lt;/td&gt;\n      &lt;td&gt;49429.0&lt;/td&gt;\n      &lt;td&gt;229&lt;/td&gt;\n    &lt;/tr&gt;\n    &lt;tr&gt;\n      &lt;th&gt;72&lt;/th&gt;\n      &lt;td&gt;The Subtle Art of Not Giving a F*ck: A Counter...&lt;/td&gt;\n      &lt;td&gt;Mark Manson&lt;/td&gt;\n      &lt;td&gt;4.5&lt;/td&gt;\n      &lt;td&gt;44860.0&lt;/td&gt;\n      &lt;td&gt;256&lt;/td&gt;\n    &lt;/tr&gt;\n    &lt;tr&gt;\n      &lt;th&gt;7&lt;/th&gt;\n      &lt;td&gt;Rich Dad Poor Dad: What the Rich Teach Their K...&lt;/td&gt;\n      &lt;td&gt;Robert T. Kiyosaki&lt;/td&gt;\n      &lt;td&gt;4.6&lt;/td&gt;\n      &lt;td&gt;38266.0&lt;/td&gt;\n      &lt;td&gt;383&lt;/td&gt;\n    &lt;/tr&gt;\n    &lt;tr&gt;\n      &lt;th&gt;36&lt;/th&gt;\n      &lt;td&gt;Sapiens: A Brief History of Humankind&lt;/td&gt;\n      &lt;td&gt;Yuval Noah Harari&lt;/td&gt;\n      &lt;td&gt;4.7&lt;/td&gt;\n      &lt;td&gt;30966.0&lt;/td&gt;\n      &lt;td&gt;345&lt;/td&gt;\n    &lt;/tr&gt;\n    &lt;tr&gt;\n      &lt;th&gt;48&lt;/th&gt;\n      &lt;td&gt;Man's Search For Meaning: The classic tribute ...&lt;/td&gt;\n      &lt;td&gt;Viktor E Frankl&lt;/td&gt;\n      &lt;td&gt;4.5&lt;/td&gt;\n      &lt;td&gt;28796.0&lt;/td&gt;\n      &lt;td&gt;180&lt;/td&gt;\n    &lt;/tr&gt;\n    &lt;tr&gt;\n      &lt;th&gt;91&lt;/th&gt;\n      &lt;td&gt;The Power of your Subconscious Mind&lt;/td&gt;\n      &lt;td&gt;Joseph Murphy&lt;/td&gt;\n      &lt;td&gt;4.5&lt;/td&gt;\n      &lt;td&gt;28691.0&lt;/td&gt;\n      &lt;td&gt;135&lt;/td&gt;\n    &lt;/tr&gt;\n    &lt;tr&gt;\n      &lt;th&gt;10&lt;/th&gt;\n      &lt;td&gt;The Power of Your Subconscious Mind&lt;/td&gt;\n      &lt;td&gt;Joseph Murphy&lt;/td&gt;\n      &lt;td&gt;4.5&lt;/td&gt;\n      &lt;td&gt;28691.0&lt;/td&gt;\n      &lt;td&gt;109&lt;/td&gt;\n    &lt;/tr&gt;\n    &lt;tr&gt;\n      &lt;th&gt;55&lt;/th&gt;\n      &lt;td&gt;Harry Potter and the Philosopher's Stone&lt;/td&gt;\n      &lt;td&gt;J.K. Rowling&lt;/td&gt;\n      &lt;td&gt;4.7&lt;/td&gt;\n      &lt;td&gt;25289.0&lt;/td&gt;\n      &lt;td&gt;280&lt;/td&gt;\n    &lt;/tr&gt;\n    &lt;tr&gt;\n      &lt;th&gt;97&lt;/th&gt;\n      &lt;td&gt;A Man Called Ove: The life-affirming bestselle...&lt;/td&gt;\n      &lt;td&gt;Fredrik Backman&lt;/td&gt;\n      &lt;td&gt;4.6&lt;/td&gt;\n      &lt;td&gt;24912.0&lt;/td&gt;\n      &lt;td&gt;255&lt;/td&gt;\n    &lt;/tr&gt;\n    &lt;tr&gt;\n      &lt;th&gt;12&lt;/th&gt;\n      &lt;td&gt;The Intelligent Investor (English) Paperback –...&lt;/td&gt;\n      &lt;td&gt;Benjamin Graham&lt;/td&gt;\n      &lt;td&gt;4.5&lt;/td&gt;\n      &lt;td&gt;21526.0&lt;/td&gt;\n      &lt;td&gt;499&lt;/td&gt;\n    &lt;/tr&gt;\n    &lt;tr&gt;\n      &lt;th&gt;1&lt;/th&gt;\n      &lt;td&gt;My First Library: Boxset of 10 Board Books for...&lt;/td&gt;\n      &lt;td&gt;Wonder House Books&lt;/td&gt;\n      &lt;td&gt;4.5&lt;/td&gt;\n      &lt;td&gt;19845.0&lt;/td&gt;\n      &lt;td&gt;399&lt;/td&gt;\n    &lt;/tr&gt;\n    &lt;tr&gt;\n      &lt;th&gt;25&lt;/th&gt;\n      &lt;td&gt;Word Power Made Easy&lt;/td&gt;\n      &lt;td&gt;Norman Lewis&lt;/td&gt;\n      &lt;td&gt;4.4&lt;/td&gt;\n      &lt;td&gt;18765.0&lt;/td&gt;\n      &lt;td&gt;95&lt;/td&gt;\n    &lt;/tr&gt;\n    &lt;tr&gt;\n      &lt;th&gt;28&lt;/th&gt;\n      &lt;td&gt;Word Power Made Easy&lt;/td&gt;\n      &lt;td&gt;Norman Lewis&lt;/td&gt;\n      &lt;td&gt;4.4&lt;/td&gt;\n      &lt;td&gt;18765.0&lt;/td&gt;\n      &lt;td&gt;170&lt;/td&gt;\n    &lt;/tr&gt;\n    &lt;tr&gt;\n      &lt;th&gt;93&lt;/th&gt;\n      &lt;td&gt;Thinking, Fast and Slow (Penguin Press Non-Fic...&lt;/td&gt;\n      &lt;td&gt;Daniel Kahneman&lt;/td&gt;\n      &lt;td&gt;4.4&lt;/td&gt;\n      &lt;td&gt;17512.0&lt;/td&gt;\n      &lt;td&gt;359&lt;/td&gt;\n    &lt;/tr&gt;\n    &lt;tr&gt;\n      &lt;th&gt;9&lt;/th&gt;\n      &lt;td&gt;Atomic Habits: The life-changing million copy ...&lt;/td&gt;\n      &lt;td&gt;James Clear&lt;/td&gt;\n      &lt;td&gt;4.6&lt;/td&gt;\n      &lt;td&gt;16898.0&lt;/td&gt;\n      &lt;td&gt;445&lt;/td&gt;\n    &lt;/tr&gt;\n    &lt;tr&gt;\n      &lt;th&gt;33&lt;/th&gt;\n      &lt;td&gt;The Richest Man in Babylon&lt;/td&gt;\n      &lt;td&gt;George S. Clason&lt;/td&gt;\n      &lt;td&gt;4.4&lt;/td&gt;\n      &lt;td&gt;16450.0&lt;/td&gt;\n      &lt;td&gt;99&lt;/td&gt;\n    &lt;/tr&gt;\n    &lt;tr&gt;\n      &lt;th&gt;47&lt;/th&gt;\n      &lt;td&gt;The Monk Who Sold His Ferrari&lt;/td&gt;\n      &lt;td&gt;Robin Sharma&lt;/td&gt;\n      &lt;td&gt;4.5&lt;/td&gt;\n      &lt;td&gt;12207.0&lt;/td&gt;\n      &lt;td&gt;153&lt;/td&gt;\n    &lt;/tr&gt;\n    &lt;tr&gt;\n      &lt;th&gt;2&lt;/th&gt;\n      &lt;td&gt;Ikigai: The Japanese secret to a long and happ...&lt;/td&gt;\n      &lt;td&gt;Héctor García&lt;/td&gt;\n      &lt;td&gt;4.6&lt;/td&gt;\n      &lt;td&gt;12180.0&lt;/td&gt;\n      &lt;td&gt;380&lt;/td&gt;\n    &lt;/tr&gt;\n    &lt;tr&gt;\n      &lt;th&gt;39&lt;/th&gt;\n      &lt;td&gt;Think Like a Monk: The secret of how to harnes...&lt;/td&gt;\n      &lt;td&gt;Jay Shetty&lt;/td&gt;\n      &lt;td&gt;4.7&lt;/td&gt;\n      &lt;td&gt;11652.0&lt;/td&gt;\n      &lt;td&gt;355&lt;/td&gt;\n    &lt;/tr&gt;\n  &lt;/tbody&gt;\n&lt;/table&gt;\n&lt;/div&gt;"</td>
        </tr>
        <tr>
          <td id="file-assignment-11-text-mining-ipynb-L1422" class="blob-num js-line-number js-code-nav-line-number js-blob-rnum" data-line-number="1422"></td>
          <td id="file-assignment-11-text-mining-ipynb-LC1422" class="blob-code blob-code-inner js-file-line">          },</td>
        </tr>
        <tr>
          <td id="file-assignment-11-text-mining-ipynb-L1423" class="blob-num js-line-number js-code-nav-line-number js-blob-rnum" data-line-number="1423"></td>
          <td id="file-assignment-11-text-mining-ipynb-LC1423" class="blob-code blob-code-inner js-file-line">          <span class="pl-ent">"metadata"</span>: {}</td>
        </tr>
        <tr>
          <td id="file-assignment-11-text-mining-ipynb-L1424" class="blob-num js-line-number js-code-nav-line-number js-blob-rnum" data-line-number="1424"></td>
          <td id="file-assignment-11-text-mining-ipynb-LC1424" class="blob-code blob-code-inner js-file-line">        }</td>
        </tr>
        <tr>
          <td id="file-assignment-11-text-mining-ipynb-L1425" class="blob-num js-line-number js-code-nav-line-number js-blob-rnum" data-line-number="1425"></td>
          <td id="file-assignment-11-text-mining-ipynb-LC1425" class="blob-code blob-code-inner js-file-line">      ]</td>
        </tr>
        <tr>
          <td id="file-assignment-11-text-mining-ipynb-L1426" class="blob-num js-line-number js-code-nav-line-number js-blob-rnum" data-line-number="1426"></td>
          <td id="file-assignment-11-text-mining-ipynb-LC1426" class="blob-code blob-code-inner js-file-line">    },</td>
        </tr>
        <tr>
          <td id="file-assignment-11-text-mining-ipynb-L1427" class="blob-num js-line-number js-code-nav-line-number js-blob-rnum" data-line-number="1427"></td>
          <td id="file-assignment-11-text-mining-ipynb-LC1427" class="blob-code blob-code-inner js-file-line">    {</td>
        </tr>
        <tr>
          <td id="file-assignment-11-text-mining-ipynb-L1428" class="blob-num js-line-number js-code-nav-line-number js-blob-rnum" data-line-number="1428"></td>
          <td id="file-assignment-11-text-mining-ipynb-LC1428" class="blob-code blob-code-inner js-file-line">      <span class="pl-ent">"metadata"</span>: {</td>
        </tr>
        <tr>
          <td id="file-assignment-11-text-mining-ipynb-L1429" class="blob-num js-line-number js-code-nav-line-number js-blob-rnum" data-line-number="1429"></td>
          <td id="file-assignment-11-text-mining-ipynb-LC1429" class="blob-code blob-code-inner js-file-line">        <span class="pl-ent">"trusted"</span>: <span class="pl-c1">true</span></td>
        </tr>
        <tr>
          <td id="file-assignment-11-text-mining-ipynb-L1430" class="blob-num js-line-number js-code-nav-line-number js-blob-rnum" data-line-number="1430"></td>
          <td id="file-assignment-11-text-mining-ipynb-LC1430" class="blob-code blob-code-inner js-file-line">      },</td>
        </tr>
        <tr>
          <td id="file-assignment-11-text-mining-ipynb-L1431" class="blob-num js-line-number js-code-nav-line-number js-blob-rnum" data-line-number="1431"></td>
          <td id="file-assignment-11-text-mining-ipynb-LC1431" class="blob-code blob-code-inner js-file-line">      <span class="pl-ent">"cell_type"</span>: <span class="pl-s"><span class="pl-pds">"</span>code<span class="pl-pds">"</span></span>,</td>
        </tr>
        <tr>
          <td id="file-assignment-11-text-mining-ipynb-L1432" class="blob-num js-line-number js-code-nav-line-number js-blob-rnum" data-line-number="1432"></td>
          <td id="file-assignment-11-text-mining-ipynb-LC1432" class="blob-code blob-code-inner js-file-line">      <span class="pl-ent">"source"</span>: <span class="pl-s"><span class="pl-pds">"</span>from bokeh.transform import factor_cmap<span class="pl-cce">\n</span>from bokeh.models import Legend<span class="pl-cce">\n</span>from bokeh.palettes import Dark2_5 as palette<span class="pl-cce">\n</span>import itertools<span class="pl-cce">\n</span>from bokeh.palettes import d3<span class="pl-cce">\n</span>#colors has a list of colors which can be used in plots<span class="pl-cce">\n</span>colors = itertools.cycle(palette)<span class="pl-cce">\n\n</span>palette = d3['Category20'][20]<span class="pl-pds">"</span></span>,</td>
        </tr>
        <tr>
          <td id="file-assignment-11-text-mining-ipynb-L1433" class="blob-num js-line-number js-code-nav-line-number js-blob-rnum" data-line-number="1433"></td>
          <td id="file-assignment-11-text-mining-ipynb-LC1433" class="blob-code blob-code-inner js-file-line">      <span class="pl-ent">"execution_count"</span>: <span class="pl-c1">45</span>,</td>
        </tr>
        <tr>
          <td id="file-assignment-11-text-mining-ipynb-L1434" class="blob-num js-line-number js-code-nav-line-number js-blob-rnum" data-line-number="1434"></td>
          <td id="file-assignment-11-text-mining-ipynb-LC1434" class="blob-code blob-code-inner js-file-line">      <span class="pl-ent">"outputs"</span>: []</td>
        </tr>
        <tr>
          <td id="file-assignment-11-text-mining-ipynb-L1435" class="blob-num js-line-number js-code-nav-line-number js-blob-rnum" data-line-number="1435"></td>
          <td id="file-assignment-11-text-mining-ipynb-LC1435" class="blob-code blob-code-inner js-file-line">    },</td>
        </tr>
        <tr>
          <td id="file-assignment-11-text-mining-ipynb-L1436" class="blob-num js-line-number js-code-nav-line-number js-blob-rnum" data-line-number="1436"></td>
          <td id="file-assignment-11-text-mining-ipynb-LC1436" class="blob-code blob-code-inner js-file-line">    {</td>
        </tr>
        <tr>
          <td id="file-assignment-11-text-mining-ipynb-L1437" class="blob-num js-line-number js-code-nav-line-number js-blob-rnum" data-line-number="1437"></td>
          <td id="file-assignment-11-text-mining-ipynb-LC1437" class="blob-code blob-code-inner js-file-line">      <span class="pl-ent">"metadata"</span>: {</td>
        </tr>
        <tr>
          <td id="file-assignment-11-text-mining-ipynb-L1438" class="blob-num js-line-number js-code-nav-line-number js-blob-rnum" data-line-number="1438"></td>
          <td id="file-assignment-11-text-mining-ipynb-LC1438" class="blob-code blob-code-inner js-file-line">        <span class="pl-ent">"trusted"</span>: <span class="pl-c1">true</span></td>
        </tr>
        <tr>
          <td id="file-assignment-11-text-mining-ipynb-L1439" class="blob-num js-line-number js-code-nav-line-number js-blob-rnum" data-line-number="1439"></td>
          <td id="file-assignment-11-text-mining-ipynb-LC1439" class="blob-code blob-code-inner js-file-line">      },</td>
        </tr>
        <tr>
          <td id="file-assignment-11-text-mining-ipynb-L1440" class="blob-num js-line-number js-code-nav-line-number js-blob-rnum" data-line-number="1440"></td>
          <td id="file-assignment-11-text-mining-ipynb-LC1440" class="blob-code blob-code-inner js-file-line">      <span class="pl-ent">"cell_type"</span>: <span class="pl-s"><span class="pl-pds">"</span>code<span class="pl-pds">"</span></span>,</td>
        </tr>
        <tr>
          <td id="file-assignment-11-text-mining-ipynb-L1441" class="blob-num js-line-number js-code-nav-line-number js-blob-rnum" data-line-number="1441"></td>
          <td id="file-assignment-11-text-mining-ipynb-LC1441" class="blob-code blob-code-inner js-file-line">      <span class="pl-ent">"source"</span>: <span class="pl-s"><span class="pl-pds">"</span>index_cmap = factor_cmap('Author', palette=palette,<span class="pl-cce">\n</span>                         factors=data[<span class="pl-cce">\"</span>Author<span class="pl-cce">\"</span>])<span class="pl-cce">\n</span>p = figure(plot_width=700, plot_height=700, title = <span class="pl-cce">\"</span>Top Authors: Rating vs. Customers Rated<span class="pl-cce">\"</span>)<span class="pl-cce">\n</span>p.scatter('Rating','Customers_Rated',source=data,fill_alpha=0.6, fill_color=index_cmap,size=20,legend='Author')<span class="pl-cce">\n</span>p.xaxis.axis_label = 'RATING'<span class="pl-cce">\n</span>p.yaxis.axis_label = 'CUSTOMERS RATED'<span class="pl-cce">\n</span>p.legend.location = 'top_left'<span class="pl-pds">"</span></span>,</td>
        </tr>
        <tr>
          <td id="file-assignment-11-text-mining-ipynb-L1442" class="blob-num js-line-number js-code-nav-line-number js-blob-rnum" data-line-number="1442"></td>
          <td id="file-assignment-11-text-mining-ipynb-LC1442" class="blob-code blob-code-inner js-file-line">      <span class="pl-ent">"execution_count"</span>: <span class="pl-c1">46</span>,</td>
        </tr>
        <tr>
          <td id="file-assignment-11-text-mining-ipynb-L1443" class="blob-num js-line-number js-code-nav-line-number js-blob-rnum" data-line-number="1443"></td>
          <td id="file-assignment-11-text-mining-ipynb-LC1443" class="blob-code blob-code-inner js-file-line">      <span class="pl-ent">"outputs"</span>: [</td>
        </tr>
        <tr>
          <td id="file-assignment-11-text-mining-ipynb-L1444" class="blob-num js-line-number js-code-nav-line-number js-blob-rnum" data-line-number="1444"></td>
          <td id="file-assignment-11-text-mining-ipynb-LC1444" class="blob-code blob-code-inner js-file-line">        {</td>
        </tr>
        <tr>
          <td id="file-assignment-11-text-mining-ipynb-L1445" class="blob-num js-line-number js-code-nav-line-number js-blob-rnum" data-line-number="1445"></td>
          <td id="file-assignment-11-text-mining-ipynb-LC1445" class="blob-code blob-code-inner js-file-line">          <span class="pl-ent">"output_type"</span>: <span class="pl-s"><span class="pl-pds">"</span>stream<span class="pl-pds">"</span></span>,</td>
        </tr>
        <tr>
          <td id="file-assignment-11-text-mining-ipynb-L1446" class="blob-num js-line-number js-code-nav-line-number js-blob-rnum" data-line-number="1446"></td>
          <td id="file-assignment-11-text-mining-ipynb-LC1446" class="blob-code blob-code-inner js-file-line">          <span class="pl-ent">"text"</span>: <span class="pl-s"><span class="pl-pds">"</span>BokehDeprecationWarning: 'legend' keyword is deprecated, use explicit 'legend_label', 'legend_field', or 'legend_group' keywords instead<span class="pl-cce">\n</span><span class="pl-pds">"</span></span>,</td>
        </tr>
        <tr>
          <td id="file-assignment-11-text-mining-ipynb-L1447" class="blob-num js-line-number js-code-nav-line-number js-blob-rnum" data-line-number="1447"></td>
          <td id="file-assignment-11-text-mining-ipynb-LC1447" class="blob-code blob-code-inner js-file-line">          <span class="pl-ent">"name"</span>: <span class="pl-s"><span class="pl-pds">"</span>stderr<span class="pl-pds">"</span></span></td>
        </tr>
        <tr>
          <td id="file-assignment-11-text-mining-ipynb-L1448" class="blob-num js-line-number js-code-nav-line-number js-blob-rnum" data-line-number="1448"></td>
          <td id="file-assignment-11-text-mining-ipynb-LC1448" class="blob-code blob-code-inner js-file-line">        }</td>
        </tr>
        <tr>
          <td id="file-assignment-11-text-mining-ipynb-L1449" class="blob-num js-line-number js-code-nav-line-number js-blob-rnum" data-line-number="1449"></td>
          <td id="file-assignment-11-text-mining-ipynb-LC1449" class="blob-code blob-code-inner js-file-line">      ]</td>
        </tr>
        <tr>
          <td id="file-assignment-11-text-mining-ipynb-L1450" class="blob-num js-line-number js-code-nav-line-number js-blob-rnum" data-line-number="1450"></td>
          <td id="file-assignment-11-text-mining-ipynb-LC1450" class="blob-code blob-code-inner js-file-line">    },</td>
        </tr>
        <tr>
          <td id="file-assignment-11-text-mining-ipynb-L1451" class="blob-num js-line-number js-code-nav-line-number js-blob-rnum" data-line-number="1451"></td>
          <td id="file-assignment-11-text-mining-ipynb-LC1451" class="blob-code blob-code-inner js-file-line">    {</td>
        </tr>
        <tr>
          <td id="file-assignment-11-text-mining-ipynb-L1452" class="blob-num js-line-number js-code-nav-line-number js-blob-rnum" data-line-number="1452"></td>
          <td id="file-assignment-11-text-mining-ipynb-LC1452" class="blob-code blob-code-inner js-file-line">      <span class="pl-ent">"metadata"</span>: {</td>
        </tr>
        <tr>
          <td id="file-assignment-11-text-mining-ipynb-L1453" class="blob-num js-line-number js-code-nav-line-number js-blob-rnum" data-line-number="1453"></td>
          <td id="file-assignment-11-text-mining-ipynb-LC1453" class="blob-code blob-code-inner js-file-line">        <span class="pl-ent">"trusted"</span>: <span class="pl-c1">true</span></td>
        </tr>
        <tr>
          <td id="file-assignment-11-text-mining-ipynb-L1454" class="blob-num js-line-number js-code-nav-line-number js-blob-rnum" data-line-number="1454"></td>
          <td id="file-assignment-11-text-mining-ipynb-LC1454" class="blob-code blob-code-inner js-file-line">      },</td>
        </tr>
        <tr>
          <td id="file-assignment-11-text-mining-ipynb-L1455" class="blob-num js-line-number js-code-nav-line-number js-blob-rnum" data-line-number="1455"></td>
          <td id="file-assignment-11-text-mining-ipynb-LC1455" class="blob-code blob-code-inner js-file-line">      <span class="pl-ent">"cell_type"</span>: <span class="pl-s"><span class="pl-pds">"</span>code<span class="pl-pds">"</span></span>,</td>
        </tr>
        <tr>
          <td id="file-assignment-11-text-mining-ipynb-L1456" class="blob-num js-line-number js-code-nav-line-number js-blob-rnum" data-line-number="1456"></td>
          <td id="file-assignment-11-text-mining-ipynb-LC1456" class="blob-code blob-code-inner js-file-line">      <span class="pl-ent">"source"</span>: <span class="pl-s"><span class="pl-pds">"</span>show(p)<span class="pl-pds">"</span></span>,</td>
        </tr>
        <tr>
          <td id="file-assignment-11-text-mining-ipynb-L1457" class="blob-num js-line-number js-code-nav-line-number js-blob-rnum" data-line-number="1457"></td>
          <td id="file-assignment-11-text-mining-ipynb-LC1457" class="blob-code blob-code-inner js-file-line">      <span class="pl-ent">"execution_count"</span>: <span class="pl-c1">47</span>,</td>
        </tr>
        <tr>
          <td id="file-assignment-11-text-mining-ipynb-L1458" class="blob-num js-line-number js-code-nav-line-number js-blob-rnum" data-line-number="1458"></td>
          <td id="file-assignment-11-text-mining-ipynb-LC1458" class="blob-code blob-code-inner js-file-line">      <span class="pl-ent">"outputs"</span>: [</td>
        </tr>
        <tr>
          <td id="file-assignment-11-text-mining-ipynb-L1459" class="blob-num js-line-number js-code-nav-line-number js-blob-rnum" data-line-number="1459"></td>
          <td id="file-assignment-11-text-mining-ipynb-LC1459" class="blob-code blob-code-inner js-file-line">        {</td>
        </tr>
        <tr>
          <td id="file-assignment-11-text-mining-ipynb-L1460" class="blob-num js-line-number js-code-nav-line-number js-blob-rnum" data-line-number="1460"></td>
          <td id="file-assignment-11-text-mining-ipynb-LC1460" class="blob-code blob-code-inner js-file-line">          <span class="pl-ent">"output_type"</span>: <span class="pl-s"><span class="pl-pds">"</span>display_data<span class="pl-pds">"</span></span>,</td>
        </tr>
        <tr>
          <td id="file-assignment-11-text-mining-ipynb-L1461" class="blob-num js-line-number js-code-nav-line-number js-blob-rnum" data-line-number="1461"></td>
          <td id="file-assignment-11-text-mining-ipynb-LC1461" class="blob-code blob-code-inner js-file-line">          <span class="pl-ent">"data"</span>: {</td>
        </tr>
        <tr>
          <td id="file-assignment-11-text-mining-ipynb-L1462" class="blob-num js-line-number js-code-nav-line-number js-blob-rnum" data-line-number="1462"></td>
          <td id="file-assignment-11-text-mining-ipynb-LC1462" class="blob-code blob-code-inner js-file-line">            <span class="pl-ent">"text/html"</span>: <span class="pl-s"><span class="pl-pds">"</span><span class="pl-cce">\n\n\n\n\n\n</span>  &lt;div class=<span class="pl-cce">\"</span>bk-root<span class="pl-cce">\"</span> id=<span class="pl-cce">\"</span>af7fe816-1393-46c9-aad7-f524d0e27652<span class="pl-cce">\"</span> data-root-id=<span class="pl-cce">\"</span>1243<span class="pl-cce">\"</span>&gt;&lt;/div&gt;<span class="pl-cce">\n</span><span class="pl-pds">"</span></span></td>
        </tr>
        <tr>
          <td id="file-assignment-11-text-mining-ipynb-L1463" class="blob-num js-line-number js-code-nav-line-number js-blob-rnum" data-line-number="1463"></td>
          <td id="file-assignment-11-text-mining-ipynb-LC1463" class="blob-code blob-code-inner js-file-line">          },</td>
        </tr>
        <tr>
          <td id="file-assignment-11-text-mining-ipynb-L1464" class="blob-num js-line-number js-code-nav-line-number js-blob-rnum" data-line-number="1464"></td>
          <td id="file-assignment-11-text-mining-ipynb-LC1464" class="blob-code blob-code-inner js-file-line">          <span class="pl-ent">"metadata"</span>: {}</td>
        </tr>
        <tr>
          <td id="file-assignment-11-text-mining-ipynb-L1465" class="blob-num js-line-number js-code-nav-line-number js-blob-rnum" data-line-number="1465"></td>
          <td id="file-assignment-11-text-mining-ipynb-LC1465" class="blob-code blob-code-inner js-file-line">        },</td>
        </tr>
        <tr>
          <td id="file-assignment-11-text-mining-ipynb-L1466" class="blob-num js-line-number js-code-nav-line-number js-blob-rnum" data-line-number="1466"></td>
          <td id="file-assignment-11-text-mining-ipynb-LC1466" class="blob-code blob-code-inner js-file-line">        {</td>
        </tr>
        <tr>
          <td id="file-assignment-11-text-mining-ipynb-L1467" class="blob-num js-line-number js-code-nav-line-number js-blob-rnum" data-line-number="1467"></td>
          <td id="file-assignment-11-text-mining-ipynb-LC1467" class="blob-code blob-code-inner js-file-line">          <span class="pl-ent">"output_type"</span>: <span class="pl-s"><span class="pl-pds">"</span>display_data<span class="pl-pds">"</span></span>,</td>
        </tr>
        <tr>
          <td id="file-assignment-11-text-mining-ipynb-L1468" class="blob-num js-line-number js-code-nav-line-number js-blob-rnum" data-line-number="1468"></td>
          <td id="file-assignment-11-text-mining-ipynb-LC1468" class="blob-code blob-code-inner js-file-line">          <span class="pl-ent">"data"</span>: {</td>
        </tr>
        <tr>
          <td id="file-assignment-11-text-mining-ipynb-L1469" class="blob-num js-line-number js-code-nav-line-number js-blob-rnum" data-line-number="1469"></td>
          <td id="file-assignment-11-text-mining-ipynb-LC1469" class="blob-code blob-code-inner js-file-line">            "application/javascript": "(function(root) {\n  function embed_document(root) {\n    \n  var docs_json = {\"7bd2f31f-5592-42e7-a23e-9b3ea90fddb8\":{\"roots\":{\"references\":[{\"attributes\":{\"below\":[{\"id\":\"1254\"}],\"center\":[{\"id\":\"1257\"},{\"id\":\"1261\"},{\"id\":\"1290\"}],\"left\":[{\"id\":\"1258\"}],\"plot_height\":700,\"plot_width\":700,\"renderers\":[{\"id\":\"1280\"}],\"title\":{\"id\":\"1244\"},\"toolbar\":{\"id\":\"1269\"},\"x_range\":{\"id\":\"1246\"},\"x_scale\":{\"id\":\"1250\"},\"y_range\":{\"id\":\"1248\"},\"y_scale\":{\"id\":\"1252\"}},\"id\":\"1243\",\"subtype\":\"Figure\",\"type\":\"Plot\"},{\"attributes\":{},\"id\":\"1267\",\"type\":\"HelpTool\"},{\"attributes\":{},\"id\":\"1284\",\"type\":\"BasicTickFormatter\"},{\"attributes\":{\"axis_label\":\"CUSTOMERS RATED\",\"formatter\":{\"id\":\"1286\"},\"ticker\":{\"id\":\"1259\"}},\"id\":\"1258\",\"type\":\"LinearAxis\"},{\"attributes\":{},\"id\":\"1259\",\"type\":\"BasicTicker\"},{\"attributes\":{},\"id\":\"1266\",\"type\":\"ResetTool\"},{\"attributes\":{\"overlay\":{\"id\":\"1268\"}},\"id\":\"1264\",\"type\":\"BoxZoomTool\"},{\"attributes\":{\"fill_alpha\":{\"value\":0.6},\"fill_color\":{\"field\":\"Author\",\"transform\":{\"id\":\"1242\"}},\"line_color\":{\"value\":\"#1f77b4\"},\"size\":{\"units\":\"screen\",\"value\":20},\"x\":{\"field\":\"Rating\"},\"y\":{\"field\":\"Customers_Rated\"}},\"id\":\"1278\",\"type\":\"Scatter\"},{\"attributes\":{},\"id\":\"1286\",\"type\":\"BasicTickFormatter\"},{\"attributes\":{},\"id\":\"1263\",\"type\":\"WheelZoomTool\"},{\"attributes\":{\"fill_alpha\":{\"value\":0.1},\"fill_color\":{\"field\":\"Author\",\"transform\":{\"id\":\"1242\"}},\"line_alpha\":{\"value\":0.1},\"line_color\":{\"value\":\"#1f77b4\"},\"size\":{\"units\":\"screen\",\"value\":20},\"x\":{\"field\":\"Rating\"},\"y\":{\"field\":\"Customers_Rated\"}},\"id\":\"1279\",\"type\":\"Scatter\"},{\"attributes\":{},\"id\":\"1287\",\"type\":\"Selection\"},{\"attributes\":{\"text\":\"Top Authors: Rating vs. Customers Rated\"},\"id\":\"1244\",\"type\":\"Title\"},{\"attributes\":{},\"id\":\"1288\",\"type\":\"UnionRenderers\"},{\"attributes\":{\"data\":{\"Author\":[\"Alex Michaelides\",\"Paulo Coelho\",\"Mark Manson\",\"Robert T. Kiyosaki\",\"Yuval Noah Harari\",\"Viktor E Frankl\",\"Joseph Murphy\",\"Joseph Murphy\",\"J.K. Rowling\",\"Fredrik Backman\",\"Benjamin Graham\",\"Wonder House Books\",\"Norman Lewis\",\"Norman Lewis\",\"Daniel Kahneman\",\"James Clear\",\"George S. Clason\",\"Robin Sharma\",\"H\\u00e9ctor Garc\\u00eda\",\"Jay Shetty\"],\"Book Name\":[\"The Silent Patient: The record-breaking, multimillion copy Sunday Times bestselling thriller and Richard &amp; Judy book\\u2026\",\"The Alchemist\",\"The Subtle Art of Not Giving a F*ck: A Counterintuitive Approach to Living a Good Life\",\"Rich Dad Poor Dad: What the Rich Teach Their Kids About Money That the Poor and Middle Class Do Not!\",\"Sapiens: A Brief History of Humankind\",\"Man's Search For Meaning: The classic tribute to hope from the Holocaust\",\"The Power of your Subconscious Mind\",\"The Power of Your Subconscious Mind\",\"Harry Potter and the Philosopher's Stone\",\"A Man Called Ove: The life-affirming bestseller that will brighten your day\",\"The Intelligent Investor (English) Paperback \\u2013 2013\",\"My First Library: Boxset of 10 Board Books for Kids\",\"Word Power Made Easy\",\"Word Power Made Easy\",\"Thinking, Fast and Slow (Penguin Press Non-Fiction)\",\"Atomic Habits: The life-changing million copy bestseller\",\"The Richest Man in Babylon\",\"The Monk Who Sold His Ferrari\",\"Ikigai: The Japanese secret to a long and happy life\",\"Think Like a Monk: The secret of how to harness the power of positivity and be happy now\"],\"Customers_Rated\":{\"__ndarray__\":\"AAAAAEB270AAAAAAoCLoQAAAAACA5+VAAAAAAECv4kAAAAAAgD3eQAAAAAAAH9xAAAAAAMAE3EAAAAAAwATcQAAAAABAsthAAAAAAABU2EAAAAAAgAXVQAAAAABAYdNAAAAAAEBT0kAAAAAAQFPSQAAAAAAAGtFAAAAAAICA0EAAAAAAgBDQQAAAAACA18dAAAAAAADKx0AAAAAAAMLGQA==\",\"dtype\":\"float64\",\"order\":\"little\",\"shape\":[20]},\"Price\":{\"__ndarray__\":\"HQEAAOUAAAAAAQAAfwEAAFkBAAC0AAAAhwAAAG0AAAAYAQAA/wAAAPMBAACPAQAAXwAAAKoAAABnAQAAvQEAAGMAAACZAAAAfAEAAGMBAAA=\",\"dtype\":\"int32\",\"order\":\"little\",\"shape\":[20]},\"Rating\":{\"__ndarray__\":\"AAAAAAAAEkBmZmZmZmYSQAAAAAAAABJAZmZmZmZmEkDNzMzMzMwSQAAAAAAAABJAAAAAAAAAEkAAAAAAAAASQM3MzMzMzBJAZmZmZmZmEkAAAAAAAAASQAAAAAAAABJAmpmZmZmZEUCamZmZmZkRQJqZmZmZmRFAZmZmZmZmEkCamZmZmZkRQAAAAAAAABJAZmZmZmZmEkDNzMzMzMwSQA==\",\"dtype\":\"float64\",\"order\":\"little\",\"shape\":[20]},\"index\":[82,11,72,7,36,48,91,10,55,97,12,1,25,28,93,9,33,47,2,39]},\"selected\":{\"id\":\"1287\"},\"selection_policy\":{\"id\":\"1288\"}},\"id\":\"1276\",\"type\":\"ColumnDataSource\"},{\"attributes\":{\"source\":{\"id\":\"1276\"}},\"id\":\"1281\",\"type\":\"CDSView\"},{\"attributes\":{\"factors\":[\"Alex Michaelides\",\"Paulo Coelho\",\"Mark Manson\",\"Robert T. Kiyosaki\",\"Yuval Noah Harari\",\"Viktor E Frankl\",\"Joseph Murphy\",\"Joseph Murphy\",\"J.K. Rowling\",\"Fredrik Backman\",\"Benjamin Graham\",\"Wonder House Books\",\"Norman Lewis\",\"Norman Lewis\",\"Daniel Kahneman\",\"James Clear\",\"George S. Clason\",\"Robin Sharma\",\"H\\u00e9ctor Garc\\u00eda\",\"Jay Shetty\"],\"palette\":[\"#1f77b4\",\"#aec7e8\",\"#ff7f0e\",\"#ffbb78\",\"#2ca02c\",\"#98df8a\",\"#d62728\",\"#ff9896\",\"#9467bd\",\"#c5b0d5\",\"#8c564b\",\"#c49c94\",\"#e377c2\",\"#f7b6d2\",\"#7f7f7f\",\"#c7c7c7\",\"#bcbd22\",\"#dbdb8d\",\"#17becf\",\"#9edae5\"]},\"id\":\"1242\",\"type\":\"CategoricalColorMapper\"},{\"attributes\":{\"data_source\":{\"id\":\"1276\"},\"glyph\":{\"id\":\"1278\"},\"hover_glyph\":null,\"muted_glyph\":null,\"nonselection_glyph\":{\"id\":\"1279\"},\"selection_glyph\":null,\"view\":{\"id\":\"1281\"}},\"id\":\"1280\",\"type\":\"GlyphRenderer\"},{\"attributes\":{},\"id\":\"1250\",\"type\":\"LinearScale\"},{\"attributes\":{\"items\":[{\"id\":\"1291\"}],\"location\":\"top_left\"},\"id\":\"1290\",\"type\":\"Legend\"},{\"attributes\":{},\"id\":\"1246\",\"type\":\"DataRange1d\"},{\"attributes\":{},\"id\":\"1248\",\"type\":\"DataRange1d\"},{\"attributes\":{\"axis\":{\"id\":\"1254\"},\"ticker\":null},\"id\":\"1257\",\"type\":\"Grid\"},{\"attributes\":{},\"id\":\"1265\",\"type\":\"SaveTool\"},{\"attributes\":{\"axis_label\":\"RATING\",\"formatter\":{\"id\":\"1284\"},\"ticker\":{\"id\":\"1255\"}},\"id\":\"1254\",\"type\":\"LinearAxis\"},{\"attributes\":{},\"id\":\"1255\",\"type\":\"BasicTicker\"},{\"attributes\":{\"active_drag\":\"auto\",\"active_inspect\":\"auto\",\"active_multi\":null,\"active_scroll\":\"auto\",\"active_tap\":\"auto\",\"tools\":[{\"id\":\"1262\"},{\"id\":\"1263\"},{\"id\":\"1264\"},{\"id\":\"1265\"},{\"id\":\"1266\"},{\"id\":\"1267\"}]},\"id\":\"1269\",\"type\":\"Toolbar\"},{\"attributes\":{},\"id\":\"1252\",\"type\":\"LinearScale\"},{\"attributes\":{\"bottom_units\":\"screen\",\"fill_alpha\":0.5,\"fill_color\":\"lightgrey\",\"left_units\":\"screen\",\"level\":\"overlay\",\"line_alpha\":1.0,\"line_color\":\"black\",\"line_dash\":[4,4],\"line_width\":2,\"right_units\":\"screen\",\"top_units\":\"screen\"},\"id\":\"1268\",\"type\":\"BoxAnnotation\"},{\"attributes\":{},\"id\":\"1262\",\"type\":\"PanTool\"},{\"attributes\":{\"label\":{\"field\":\"Author\"},\"renderers\":[{\"id\":\"1280\"}]},\"id\":\"1291\",\"type\":\"LegendItem\"},{\"attributes\":{\"axis\":{\"id\":\"1258\"},\"dimension\":1,\"ticker\":null},\"id\":\"1261\",\"type\":\"Grid\"}],\"root_ids\":[\"1243\"]},\"title\":\"Bokeh Application\",\"version\":\"2.1.1\"}};\n  var render_items = [{\"docid\":\"7bd2f31f-5592-42e7-a23e-9b3ea90fddb8\",\"root_ids\":[\"1243\"],\"roots\":{\"1243\":\"af7fe816-1393-46c9-aad7-f524d0e27652\"}}];\n  root.Bokeh.embed.embed_items_notebook(docs_json, render_items);\n\n  }\n  if (root.Bokeh !== undefined) {\n    embed_document(root);\n  } else {\n    var attempts = 0;\n    var timer = setInterval(function(root) {\n      if (root.Bokeh !== undefined) {\n        clearInterval(timer);\n        embed_document(root);\n      } else {\n        attempts++;\n        if (attempts &gt; 100) {\n          clearInterval(timer);\n          console.log(\"Bokeh: ERROR: Unable to run BokehJS code because BokehJS library is missing\");\n        }\n      }\n    }, 10, root)\n  }\n})(window);",</td>
        </tr>
        <tr>
          <td id="file-assignment-11-text-mining-ipynb-L1470" class="blob-num js-line-number js-code-nav-line-number js-blob-rnum" data-line-number="1470"></td>
          <td id="file-assignment-11-text-mining-ipynb-LC1470" class="blob-code blob-code-inner js-file-line">            <span class="pl-ent">"application/vnd.bokehjs_exec.v0+json"</span>: <span class="pl-s"><span class="pl-pds">"</span><span class="pl-pds">"</span></span></td>
        </tr>
        <tr>
          <td id="file-assignment-11-text-mining-ipynb-L1471" class="blob-num js-line-number js-code-nav-line-number js-blob-rnum" data-line-number="1471"></td>
          <td id="file-assignment-11-text-mining-ipynb-LC1471" class="blob-code blob-code-inner js-file-line">          },</td>
        </tr>
        <tr>
          <td id="file-assignment-11-text-mining-ipynb-L1472" class="blob-num js-line-number js-code-nav-line-number js-blob-rnum" data-line-number="1472"></td>
          <td id="file-assignment-11-text-mining-ipynb-LC1472" class="blob-code blob-code-inner js-file-line">          <span class="pl-ent">"metadata"</span>: {</td>
        </tr>
        <tr>
          <td id="file-assignment-11-text-mining-ipynb-L1473" class="blob-num js-line-number js-code-nav-line-number js-blob-rnum" data-line-number="1473"></td>
          <td id="file-assignment-11-text-mining-ipynb-LC1473" class="blob-code blob-code-inner js-file-line">            <span class="pl-ent">"application/vnd.bokehjs_exec.v0+json"</span>: {</td>
        </tr>
        <tr>
          <td id="file-assignment-11-text-mining-ipynb-L1474" class="blob-num js-line-number js-code-nav-line-number js-blob-rnum" data-line-number="1474"></td>
          <td id="file-assignment-11-text-mining-ipynb-LC1474" class="blob-code blob-code-inner js-file-line">              <span class="pl-ent">"id"</span>: <span class="pl-s"><span class="pl-pds">"</span>1243<span class="pl-pds">"</span></span></td>
        </tr>
        <tr>
          <td id="file-assignment-11-text-mining-ipynb-L1475" class="blob-num js-line-number js-code-nav-line-number js-blob-rnum" data-line-number="1475"></td>
          <td id="file-assignment-11-text-mining-ipynb-LC1475" class="blob-code blob-code-inner js-file-line">            }</td>
        </tr>
        <tr>
          <td id="file-assignment-11-text-mining-ipynb-L1476" class="blob-num js-line-number js-code-nav-line-number js-blob-rnum" data-line-number="1476"></td>
          <td id="file-assignment-11-text-mining-ipynb-LC1476" class="blob-code blob-code-inner js-file-line">          }</td>
        </tr>
        <tr>
          <td id="file-assignment-11-text-mining-ipynb-L1477" class="blob-num js-line-number js-code-nav-line-number js-blob-rnum" data-line-number="1477"></td>
          <td id="file-assignment-11-text-mining-ipynb-LC1477" class="blob-code blob-code-inner js-file-line">        }</td>
        </tr>
        <tr>
          <td id="file-assignment-11-text-mining-ipynb-L1478" class="blob-num js-line-number js-code-nav-line-number js-blob-rnum" data-line-number="1478"></td>
          <td id="file-assignment-11-text-mining-ipynb-LC1478" class="blob-code blob-code-inner js-file-line">      ]</td>
        </tr>
        <tr>
          <td id="file-assignment-11-text-mining-ipynb-L1479" class="blob-num js-line-number js-code-nav-line-number js-blob-rnum" data-line-number="1479"></td>
          <td id="file-assignment-11-text-mining-ipynb-LC1479" class="blob-code blob-code-inner js-file-line">    }</td>
        </tr>
        <tr>
          <td id="file-assignment-11-text-mining-ipynb-L1480" class="blob-num js-line-number js-code-nav-line-number js-blob-rnum" data-line-number="1480"></td>
          <td id="file-assignment-11-text-mining-ipynb-LC1480" class="blob-code blob-code-inner js-file-line">  ],</td>
        </tr>
        <tr>
          <td id="file-assignment-11-text-mining-ipynb-L1481" class="blob-num js-line-number js-code-nav-line-number js-blob-rnum" data-line-number="1481"></td>
          <td id="file-assignment-11-text-mining-ipynb-LC1481" class="blob-code blob-code-inner js-file-line">  <span class="pl-ent">"metadata"</span>: {</td>
        </tr>
        <tr>
          <td id="file-assignment-11-text-mining-ipynb-L1482" class="blob-num js-line-number js-code-nav-line-number js-blob-rnum" data-line-number="1482"></td>
          <td id="file-assignment-11-text-mining-ipynb-LC1482" class="blob-code blob-code-inner js-file-line">    <span class="pl-ent">"kernelspec"</span>: {</td>
        </tr>
        <tr>
          <td id="file-assignment-11-text-mining-ipynb-L1483" class="blob-num js-line-number js-code-nav-line-number js-blob-rnum" data-line-number="1483"></td>
          <td id="file-assignment-11-text-mining-ipynb-LC1483" class="blob-code blob-code-inner js-file-line">      <span class="pl-ent">"name"</span>: <span class="pl-s"><span class="pl-pds">"</span>python3<span class="pl-pds">"</span></span>,</td>
        </tr>
        <tr>
          <td id="file-assignment-11-text-mining-ipynb-L1484" class="blob-num js-line-number js-code-nav-line-number js-blob-rnum" data-line-number="1484"></td>
          <td id="file-assignment-11-text-mining-ipynb-LC1484" class="blob-code blob-code-inner js-file-line">      <span class="pl-ent">"display_name"</span>: <span class="pl-s"><span class="pl-pds">"</span>Python 3<span class="pl-pds">"</span></span>,</td>
        </tr>
        <tr>
          <td id="file-assignment-11-text-mining-ipynb-L1485" class="blob-num js-line-number js-code-nav-line-number js-blob-rnum" data-line-number="1485"></td>
          <td id="file-assignment-11-text-mining-ipynb-LC1485" class="blob-code blob-code-inner js-file-line">      <span class="pl-ent">"language"</span>: <span class="pl-s"><span class="pl-pds">"</span>python<span class="pl-pds">"</span></span></td>
        </tr>
        <tr>
          <td id="file-assignment-11-text-mining-ipynb-L1486" class="blob-num js-line-number js-code-nav-line-number js-blob-rnum" data-line-number="1486"></td>
          <td id="file-assignment-11-text-mining-ipynb-LC1486" class="blob-code blob-code-inner js-file-line">    },</td>
        </tr>
        <tr>
          <td id="file-assignment-11-text-mining-ipynb-L1487" class="blob-num js-line-number js-code-nav-line-number js-blob-rnum" data-line-number="1487"></td>
          <td id="file-assignment-11-text-mining-ipynb-LC1487" class="blob-code blob-code-inner js-file-line">    <span class="pl-ent">"language_info"</span>: {</td>
        </tr>
        <tr>
          <td id="file-assignment-11-text-mining-ipynb-L1488" class="blob-num js-line-number js-code-nav-line-number js-blob-rnum" data-line-number="1488"></td>
          <td id="file-assignment-11-text-mining-ipynb-LC1488" class="blob-code blob-code-inner js-file-line">      <span class="pl-ent">"name"</span>: <span class="pl-s"><span class="pl-pds">"</span>python<span class="pl-pds">"</span></span>,</td>
        </tr>
        <tr>
          <td id="file-assignment-11-text-mining-ipynb-L1489" class="blob-num js-line-number js-code-nav-line-number js-blob-rnum" data-line-number="1489"></td>
          <td id="file-assignment-11-text-mining-ipynb-LC1489" class="blob-code blob-code-inner js-file-line">      <span class="pl-ent">"version"</span>: <span class="pl-s"><span class="pl-pds">"</span>3.8.3<span class="pl-pds">"</span></span>,</td>
        </tr>
        <tr>
          <td id="file-assignment-11-text-mining-ipynb-L1490" class="blob-num js-line-number js-code-nav-line-number js-blob-rnum" data-line-number="1490"></td>
          <td id="file-assignment-11-text-mining-ipynb-LC1490" class="blob-code blob-code-inner js-file-line">      <span class="pl-ent">"mimetype"</span>: <span class="pl-s"><span class="pl-pds">"</span>text/x-python<span class="pl-pds">"</span></span>,</td>
        </tr>
        <tr>
          <td id="file-assignment-11-text-mining-ipynb-L1491" class="blob-num js-line-number js-code-nav-line-number js-blob-rnum" data-line-number="1491"></td>
          <td id="file-assignment-11-text-mining-ipynb-LC1491" class="blob-code blob-code-inner js-file-line">      <span class="pl-ent">"codemirror_mode"</span>: {</td>
        </tr>
        <tr>
          <td id="file-assignment-11-text-mining-ipynb-L1492" class="blob-num js-line-number js-code-nav-line-number js-blob-rnum" data-line-number="1492"></td>
          <td id="file-assignment-11-text-mining-ipynb-LC1492" class="blob-code blob-code-inner js-file-line">        <span class="pl-ent">"name"</span>: <span class="pl-s"><span class="pl-pds">"</span>ipython<span class="pl-pds">"</span></span>,</td>
        </tr>
        <tr>
          <td id="file-assignment-11-text-mining-ipynb-L1493" class="blob-num js-line-number js-code-nav-line-number js-blob-rnum" data-line-number="1493"></td>
          <td id="file-assignment-11-text-mining-ipynb-LC1493" class="blob-code blob-code-inner js-file-line">        <span class="pl-ent">"version"</span>: <span class="pl-c1">3</span></td>
        </tr>
        <tr>
          <td id="file-assignment-11-text-mining-ipynb-L1494" class="blob-num js-line-number js-code-nav-line-number js-blob-rnum" data-line-number="1494"></td>
          <td id="file-assignment-11-text-mining-ipynb-LC1494" class="blob-code blob-code-inner js-file-line">      },</td>
        </tr>
        <tr>
          <td id="file-assignment-11-text-mining-ipynb-L1495" class="blob-num js-line-number js-code-nav-line-number js-blob-rnum" data-line-number="1495"></td>
          <td id="file-assignment-11-text-mining-ipynb-LC1495" class="blob-code blob-code-inner js-file-line">      <span class="pl-ent">"pygments_lexer"</span>: <span class="pl-s"><span class="pl-pds">"</span>ipython3<span class="pl-pds">"</span></span>,</td>
        </tr>
        <tr>
          <td id="file-assignment-11-text-mining-ipynb-L1496" class="blob-num js-line-number js-code-nav-line-number js-blob-rnum" data-line-number="1496"></td>
          <td id="file-assignment-11-text-mining-ipynb-LC1496" class="blob-code blob-code-inner js-file-line">      <span class="pl-ent">"nbconvert_exporter"</span>: <span class="pl-s"><span class="pl-pds">"</span>python<span class="pl-pds">"</span></span>,</td>
        </tr>
        <tr>
          <td id="file-assignment-11-text-mining-ipynb-L1497" class="blob-num js-line-number js-code-nav-line-number js-blob-rnum" data-line-number="1497"></td>
          <td id="file-assignment-11-text-mining-ipynb-LC1497" class="blob-code blob-code-inner js-file-line">      <span class="pl-ent">"file_extension"</span>: <span class="pl-s"><span class="pl-pds">"</span>.py<span class="pl-pds">"</span></span></td>
        </tr>
        <tr>
          <td id="file-assignment-11-text-mining-ipynb-L1498" class="blob-num js-line-number js-code-nav-line-number js-blob-rnum" data-line-number="1498"></td>
          <td id="file-assignment-11-text-mining-ipynb-LC1498" class="blob-code blob-code-inner js-file-line">    },</td>
        </tr>
        <tr>
          <td id="file-assignment-11-text-mining-ipynb-L1499" class="blob-num js-line-number js-code-nav-line-number js-blob-rnum" data-line-number="1499"></td>
          <td id="file-assignment-11-text-mining-ipynb-LC1499" class="blob-code blob-code-inner js-file-line">    <span class="pl-ent">"gist"</span>: {</td>
        </tr>
        <tr>
          <td id="file-assignment-11-text-mining-ipynb-L1500" class="blob-num js-line-number js-code-nav-line-number js-blob-rnum" data-line-number="1500"></td>
          <td id="file-assignment-11-text-mining-ipynb-LC1500" class="blob-code blob-code-inner js-file-line">      <span class="pl-ent">"id"</span>: <span class="pl-s"><span class="pl-pds">"</span>a234c3e5742e1ce26bc84f1c0c3b12d6<span class="pl-pds">"</span></span>,</td>
        </tr>
        <tr>
          <td id="file-assignment-11-text-mining-ipynb-L1501" class="blob-num js-line-number js-code-nav-line-number js-blob-rnum" data-line-number="1501"></td>
          <td id="file-assignment-11-text-mining-ipynb-LC1501" class="blob-code blob-code-inner js-file-line">      <span class="pl-ent">"data"</span>: {</td>
        </tr>
        <tr>
          <td id="file-assignment-11-text-mining-ipynb-L1502" class="blob-num js-line-number js-code-nav-line-number js-blob-rnum" data-line-number="1502"></td>
          <td id="file-assignment-11-text-mining-ipynb-LC1502" class="blob-code blob-code-inner js-file-line">        <span class="pl-ent">"description"</span>: <span class="pl-s"><span class="pl-pds">"</span>Assignment 11 - Text Mining.ipynb<span class="pl-pds">"</span></span>,</td>
        </tr>
        <tr>
          <td id="file-assignment-11-text-mining-ipynb-L1503" class="blob-num js-line-number js-code-nav-line-number js-blob-rnum" data-line-number="1503"></td>
          <td id="file-assignment-11-text-mining-ipynb-LC1503" class="blob-code blob-code-inner js-file-line">        <span class="pl-ent">"public"</span>: <span class="pl-c1">true</span></td>
        </tr>
        <tr>
          <td id="file-assignment-11-text-mining-ipynb-L1504" class="blob-num js-line-number js-code-nav-line-number js-blob-rnum" data-line-number="1504"></td>
          <td id="file-assignment-11-text-mining-ipynb-LC1504" class="blob-code blob-code-inner js-file-line">      }</td>
        </tr>
        <tr>
          <td id="file-assignment-11-text-mining-ipynb-L1505" class="blob-num js-line-number js-code-nav-line-number js-blob-rnum" data-line-number="1505"></td>
          <td id="file-assignment-11-text-mining-ipynb-LC1505" class="blob-code blob-code-inner js-file-line">    },</td>
        </tr>
        <tr>
          <td id="file-assignment-11-text-mining-ipynb-L1506" class="blob-num js-line-number js-code-nav-line-number js-blob-rnum" data-line-number="1506"></td>
          <td id="file-assignment-11-text-mining-ipynb-LC1506" class="blob-code blob-code-inner js-file-line">    <span class="pl-ent">"_draft"</span>: {</td>
        </tr>
        <tr>
          <td id="file-assignment-11-text-mining-ipynb-L1507" class="blob-num js-line-number js-code-nav-line-number js-blob-rnum" data-line-number="1507"></td>
          <td id="file-assignment-11-text-mining-ipynb-LC1507" class="blob-code blob-code-inner js-file-line">      <span class="pl-ent">"nbviewer_url"</span>: <span class="pl-s"><span class="pl-pds">"</span>https://gist.github.com/a234c3e5742e1ce26bc84f1c0c3b12d6<span class="pl-pds">"</span></span></td>
        </tr>
        <tr>
          <td id="file-assignment-11-text-mining-ipynb-L1508" class="blob-num js-line-number js-code-nav-line-number js-blob-rnum" data-line-number="1508"></td>
          <td id="file-assignment-11-text-mining-ipynb-LC1508" class="blob-code blob-code-inner js-file-line">    }</td>
        </tr>
        <tr>
          <td id="file-assignment-11-text-mining-ipynb-L1509" class="blob-num js-line-number js-code-nav-line-number js-blob-rnum" data-line-number="1509"></td>
          <td id="file-assignment-11-text-mining-ipynb-LC1509" class="blob-code blob-code-inner js-file-line">  },</td>
        </tr>
        <tr>
          <td id="file-assignment-11-text-mining-ipynb-L1510" class="blob-num js-line-number js-code-nav-line-number js-blob-rnum" data-line-number="1510"></td>
          <td id="file-assignment-11-text-mining-ipynb-LC1510" class="blob-code blob-code-inner js-file-line">  <span class="pl-ent">"nbformat"</span>: <span class="pl-c1">4</span>,</td>
        </tr>
        <tr>
          <td id="file-assignment-11-text-mining-ipynb-L1511" class="blob-num js-line-number js-code-nav-line-number js-blob-rnum" data-line-number="1511"></td>
          <td id="file-assignment-11-text-mining-ipynb-LC1511" class="blob-code blob-code-inner js-file-line">  <span class="pl-ent">"nbformat_minor"</span>: <span class="pl-c1">4</span></td>
        </tr>
        <tr>
          <td id="file-assignment-11-text-mining-ipynb-L1512" class="blob-num js-line-number js-code-nav-line-number js-blob-rnum" data-line-number="1512"></td>
          <td id="file-assignment-11-text-mining-ipynb-LC1512" class="blob-code blob-code-inner js-file-line">}</td>
        </tr>
  </tbody></table>
</div>


    </div>

  </div>
</div>


      <a name="comments"></a>
      <div class="js-quote-selection-container" data-quote-markdown=".js-comment-body">
        <div class="js-discussion js-socket-channel" data-channel="eyJjIjoibWFya2VkLWFzLXJlYWQ6MTExMTE3NjYyIiwidCI6MTY2NTU4MTA2M30=--1cb097837525b1109ebcdff97889d3481fb001ad9568a48447306ba32af37610" data-channel-target="MDQ6R2lzdGEwOTVmZjE3YWJjZTk1MjEyZGEwNDNmOWM1ZTA1OTA5">
          <div class="ml-md-6 pl-md-3 ml-0 pl-0">
            



<!-- Rendered timeline since 2021-04-11 23:44:53 -->
<div id="partial-timeline-marker" class="js-timeline-marker js-updatable-content" data-last-modified="Mon, 12 Apr 2021 06:44:53 GMT">
</div>

          </div>

          <div class="discussion-timeline-actions">
              <div class="pl-0 pl-md-6 ml-md-3 ml-0 timeline-comment-wrapper timeline-new-comment js-comment-container width-fit">
  <div class="d-md-block d-none">
    <span class="timeline-comment-avatar "><a class="d-inline-block" data-hovercard-type="user" data-hovercard-url="/users/akpatil14/hovercard" data-octo-click="hovercard-link-click" data-octo-dimensions="link_type:self" href="https://gist.github.com/akpatil14"><img class="avatar avatar-user" src="./Aniket Assignment -11 (Text Mining)_files/111117662(1)" width="40" height="40" alt="@akpatil14"></a></span>
  </div>

  <!-- '"` --><!-- </textarea></xmp> --><form class="js-new-comment-form js-needs-timeline-marker-header" data-turbo="false" action="https://gist.github.com/perlineanisha/a095ff17abce95212da043f9c5e05909/comments" accept-charset="UTF-8" method="post"><input type="hidden" name="authenticity_token" value="nOCVcfy6d_VEmmLkIoX6WuIrJ0XyHnrlqA-ek1NS1EtBovd4pz3gFX9tve8cE63QCD7gCDc1jKAVIG5i-yDo5g">
    <div class="border-md border-0 timeline-comment">
      <tab-container class="js-previewable-comment-form previewable-comment-form write-selected" data-preview-url="/preview?markdown_unsupported=false&amp;subject=a095ff17abce95212da043f9c5e05909&amp;subject_type=Gist">
  <input type="hidden" value="myP81r0HzQnECNEplX4EgJtfzlNsh2Ak1Sh4l1P3Onyke3sq3GYlcukgC2DwJfkUpK4hIKhIDZvkqbDaEvlTsQ" data-csrf="true" class="js-data-preview-url-csrf">
  <div class="tabnav comment-form-head mb-2 d-flex flex-justify-between p-0 tabnav--responsive flex-column border-bottom-0 mb-0 mb-lg-2 flex-items-stretch border-lg-bottom color-border-default flex-lg-items-center flex-lg-row">
      <div class="tabnav-tabs mx-0 mx-md-2 mt-0 mt-md-2 no-wrap d-flex flex-auto d-md-block" role="tablist">
        <button type="button" class="btn-link tabnav-tab write-tab js-write-tab px-3 px-sm-6 px-md-3 flex-1 flex-md-auto" role="tab" aria-selected="true" tabindex="0">
          Write
        </button>
        <button type="button" class="btn-link tabnav-tab preview-tab js-preview-tab flex-1 flex-md-auto" role="tab" aria-selected="false" tabindex="-1">
          Preview
        </button>
      </div>
      <markdown-toolbar role="toolbar" aria-label="Composition" for="new_comment_field" data-view-component="true" class="js-details-container Details toolbar-commenting no-wrap border-md-top border-lg-top-0 d-flex px-2 pt-2 pt-lg-0 flex-items-start flex-wrap mt-lg-2" tabindex="0">
      <div class="d-block d-md-none flex-auto">
        <button data-md-button="" tabindex="-1" type="button" aria-label="Toggle text tools" aria-expanded="false" class="js-details-target btn-link toolbar-item btn-octicon no-underline py-2 mr-1">
          <svg aria-hidden="true" height="16" viewBox="0 0 16 16" version="1.1" width="16" data-view-component="true" class="octicon octicon-typography">
    <path fill-rule="evenodd" d="M6.21 8.5L4.574 3.594 2.857 8.5H6.21zm.5 1.5l.829 2.487a.75.75 0 001.423-.474L5.735 2.332a1.216 1.216 0 00-2.302-.018l-3.39 9.688a.75.75 0 001.415.496L2.332 10H6.71zm3.13-4.358C10.53 4.374 11.87 4 13 4c1.5 0 3 .939 3 2.601v5.649a.75.75 0 01-1.448.275C13.995 12.82 13.3 13 12.5 13c-.77 0-1.514-.231-2.078-.709-.577-.488-.922-1.199-.922-2.041 0-.694.265-1.411.887-1.944C11 7.78 11.88 7.5 13 7.5h1.5v-.899c0-.54-.5-1.101-1.5-1.101-.869 0-1.528.282-1.84.858a.75.75 0 11-1.32-.716zM14.5 9H13c-.881 0-1.375.22-1.637.444-.253.217-.363.5-.363.806 0 .408.155.697.39.896.249.21.63.354 1.11.354.732 0 1.26-.209 1.588-.449.35-.257.412-.495.412-.551V9z"></path>
</svg>
          <svg aria-hidden="true" height="16" viewBox="0 0 16 16" version="1.1" width="16" data-view-component="true" class="octicon octicon-chevron-up Details-content--shown">
    <path fill-rule="evenodd" d="M3.22 9.78a.75.75 0 010-1.06l4.25-4.25a.75.75 0 011.06 0l4.25 4.25a.75.75 0 01-1.06 1.06L8 6.06 4.28 9.78a.75.75 0 01-1.06 0z"></path>
</svg>
          <svg aria-hidden="true" height="16" viewBox="0 0 16 16" version="1.1" width="16" data-view-component="true" class="octicon octicon-chevron-down Details-content--hidden">
    <path fill-rule="evenodd" d="M12.78 6.22a.75.75 0 010 1.06l-4.25 4.25a.75.75 0 01-1.06 0L3.22 7.28a.75.75 0 011.06-1.06L8 9.94l3.72-3.72a.75.75 0 011.06 0z"></path>
</svg>
        </button>
      </div>

    
    <div class="flex-nowrap d-none d-md-inline-block mr-md-0 mr-3">
      <md-header aria-label="Heading" id="md-heading-new_comment_field-1" role="button" tabindex="-1" class="toolbar-item btn-octicon" data-ga-click="Markdown Toolbar, click, header" aria-describedby="tooltip-1665581062697-3823">
        <svg aria-hidden="true" height="16" viewBox="0 0 16 16" version="1.1" width="16" data-view-component="true" class="octicon octicon-heading">
    <path fill-rule="evenodd" d="M3.75 2a.75.75 0 01.75.75V7h7V2.75a.75.75 0 011.5 0v10.5a.75.75 0 01-1.5 0V8.5h-7v4.75a.75.75 0 01-1.5 0V2.75A.75.75 0 013.75 2z"></path>
</svg>
      </md-header>
      <tool-tip for="md-heading-new_comment_field-1" data-direction="sw" data-type="description" data-view-component="true" class="js-modifier-label-key sr-only position-absolute" id="tooltip-1665581062697-3823" role="tooltip">Add heading text</tool-tip>

      <md-bold aria-label="Bold" id="md-bold-new_comment_field-1" role="button" tabindex="-1" class="toolbar-item btn-octicon" data-hotkey-scope="new_comment_field" data-hotkey="Control+b" data-ga-click="Markdown Toolbar, click, bold" aria-describedby="tooltip-1665581062697-5548">
        <svg aria-hidden="true" height="16" viewBox="0 0 16 16" version="1.1" width="16" data-view-component="true" class="octicon octicon-bold">
    <path fill-rule="evenodd" d="M4 2a1 1 0 00-1 1v10a1 1 0 001 1h5.5a3.5 3.5 0 001.852-6.47A3.5 3.5 0 008.5 2H4zm4.5 5a1.5 1.5 0 100-3H5v3h3.5zM5 9v3h4.5a1.5 1.5 0 000-3H5z"></path>
</svg>
      </md-bold>
      <tool-tip for="md-bold-new_comment_field-1" data-direction="sw" data-type="description" data-view-component="true" class="js-modifier-label-key sr-only position-absolute" id="tooltip-1665581062697-5548" role="tooltip">Add bold text, &lt;Ctrl+b&gt;</tool-tip>

      <md-italic aria-label="Italic" id="md-italic-new_comment_field-1" role="button" tabindex="-1" class="toolbar-item btn-octicon" data-hotkey-scope="new_comment_field" data-hotkey="Control+i" data-ga-click="Markdown Toolbar, click, italic" aria-describedby="tooltip-1665581062697-9202">
        <svg aria-hidden="true" height="16" viewBox="0 0 16 16" version="1.1" width="16" data-view-component="true" class="octicon octicon-italic">
    <path fill-rule="evenodd" d="M6 2.75A.75.75 0 016.75 2h6.5a.75.75 0 010 1.5h-2.505l-3.858 9H9.25a.75.75 0 010 1.5h-6.5a.75.75 0 010-1.5h2.505l3.858-9H6.75A.75.75 0 016 2.75z"></path>
</svg>
      </md-italic>
      <tool-tip for="md-italic-new_comment_field-1" data-direction="sw" data-type="description" data-view-component="true" class="js-modifier-label-key sr-only position-absolute" id="tooltip-1665581062697-9202" role="tooltip">Add italic text, &lt;Ctrl+i&gt;</tool-tip>
    </div>

    <div class="d-flex d-md-inline-block mr-0">
      <md-quote aria-label="Quote" id="md-quote-new_comment_field-1" role="button" tabindex="-1" class="toolbar-item btn-octicon p-2 p-md-1" data-hotkey-scope="new_comment_field" data-hotkey="Control+Shift+." data-ga-click="Markdown Toolbar, click, quote" aria-describedby="tooltip-1665581062697-1773">
        <svg aria-hidden="true" height="16" viewBox="0 0 16 16" version="1.1" width="16" data-view-component="true" class="octicon octicon-quote">
    <path fill-rule="evenodd" d="M1.75 2.5a.75.75 0 000 1.5h10.5a.75.75 0 000-1.5H1.75zm4 5a.75.75 0 000 1.5h8.5a.75.75 0 000-1.5h-8.5zm0 5a.75.75 0 000 1.5h8.5a.75.75 0 000-1.5h-8.5zM2.5 7.75a.75.75 0 00-1.5 0v6a.75.75 0 001.5 0v-6z"></path>
</svg>
      </md-quote>
      <tool-tip for="md-quote-new_comment_field-1" data-direction="sw" data-type="description" data-view-component="true" class="js-modifier-label-key sr-only position-absolute" id="tooltip-1665581062697-1773" role="tooltip">Add a quote, &lt;Ctrl+Shift+.&gt;</tool-tip>

      <md-code aria-label="Code" id="md-code-new_comment_field-1" role="button" tabindex="-1" class="toolbar-item btn-octicon p-2 p-md-1" data-hotkey-scope="new_comment_field" data-hotkey="Control+e" data-ga-click="Markdown Toolbar, click, code" aria-describedby="tooltip-1665581062698-1263">
        <svg aria-hidden="true" height="16" viewBox="0 0 16 16" version="1.1" width="16" data-view-component="true" class="octicon octicon-code">
    <path fill-rule="evenodd" d="M4.72 3.22a.75.75 0 011.06 1.06L2.06 8l3.72 3.72a.75.75 0 11-1.06 1.06L.47 8.53a.75.75 0 010-1.06l4.25-4.25zm6.56 0a.75.75 0 10-1.06 1.06L13.94 8l-3.72 3.72a.75.75 0 101.06 1.06l4.25-4.25a.75.75 0 000-1.06l-4.25-4.25z"></path>
</svg>
      </md-code>
      <tool-tip for="md-code-new_comment_field-1" data-direction="sw" data-type="description" data-view-component="true" class="js-modifier-label-key sr-only position-absolute" id="tooltip-1665581062698-1263" role="tooltip">Add code, &lt;Ctrl+e&gt;</tool-tip>

        <button type="button" data-md-button="" tabindex="-1" class="toolbar-item btn-octicon text-center p-2 d-md-none js-markdown-link-button" aria-label="Link" data-ga-click="Markdown Toolbar, click, saved reply">
          <svg aria-hidden="true" height="16" viewBox="0 0 16 16" version="1.1" width="16" data-view-component="true" class="octicon octicon-link">
    <path fill-rule="evenodd" d="M7.775 3.275a.75.75 0 001.06 1.06l1.25-1.25a2 2 0 112.83 2.83l-2.5 2.5a2 2 0 01-2.83 0 .75.75 0 00-1.06 1.06 3.5 3.5 0 004.95 0l2.5-2.5a3.5 3.5 0 00-4.95-4.95l-1.25 1.25zm-4.69 9.64a2 2 0 010-2.83l2.5-2.5a2 2 0 012.83 0 .75.75 0 001.06-1.06 3.5 3.5 0 00-4.95 0l-2.5 2.5a3.5 3.5 0 004.95 4.95l1.25-1.25a.75.75 0 00-1.06-1.06l-1.25 1.25a2 2 0 01-2.83 0z"></path>
</svg>
        </button>

        <template class="js-markdown-link-dialog"></template>

      <md-link aria-label="Link" id="md-link-new_comment_field-2" role="button" tabindex="-1" class="toolbar-item btn-octicon p-2 p-md-1 d-none d-md-block" data-hotkey-scope="new_comment_field" data-hotkey="Control+k" data-ga-click="Markdown Toolbar, click, link" aria-describedby="tooltip-1665581062698-6982">
        <svg aria-hidden="true" height="16" viewBox="0 0 16 16" version="1.1" width="16" data-view-component="true" class="octicon octicon-link">
    <path fill-rule="evenodd" d="M7.775 3.275a.75.75 0 001.06 1.06l1.25-1.25a2 2 0 112.83 2.83l-2.5 2.5a2 2 0 01-2.83 0 .75.75 0 00-1.06 1.06 3.5 3.5 0 004.95 0l2.5-2.5a3.5 3.5 0 00-4.95-4.95l-1.25 1.25zm-4.69 9.64a2 2 0 010-2.83l2.5-2.5a2 2 0 012.83 0 .75.75 0 001.06-1.06 3.5 3.5 0 00-4.95 0l-2.5 2.5a3.5 3.5 0 004.95 4.95l1.25-1.25a.75.75 0 00-1.06-1.06l-1.25 1.25a2 2 0 01-2.83 0z"></path>
</svg>
      </md-link>
      <tool-tip for="md-link-new_comment_field-2" data-direction="sw" data-type="description" data-view-component="true" class="js-modifier-label-key sr-only position-absolute" id="tooltip-1665581062698-6982" role="tooltip">Add a link, &lt;Ctrl+k&gt;</tool-tip>
    </div>

    <div class="d-none d-md-inline-block mr-md-0 mr-3">
      <md-unordered-list aria-label="Unordered list" id="md-unordered_list-new_comment_field-1" role="button" tabindex="-1" class="toolbar-item btn-octicon" data-hotkey-scope="new_comment_field" data-hotkey="Control+Shift+8" data-ga-click="Markdown Toolbar, click, unordered list" aria-describedby="tooltip-1665581062698-8397">
        <svg aria-hidden="true" height="16" viewBox="0 0 16 16" version="1.1" width="16" data-view-component="true" class="octicon octicon-list-unordered">
    <path fill-rule="evenodd" d="M2 4a1 1 0 100-2 1 1 0 000 2zm3.75-1.5a.75.75 0 000 1.5h8.5a.75.75 0 000-1.5h-8.5zm0 5a.75.75 0 000 1.5h8.5a.75.75 0 000-1.5h-8.5zm0 5a.75.75 0 000 1.5h8.5a.75.75 0 000-1.5h-8.5zM3 8a1 1 0 11-2 0 1 1 0 012 0zm-1 6a1 1 0 100-2 1 1 0 000 2z"></path>
</svg>
      </md-unordered-list>
      <tool-tip for="md-unordered_list-new_comment_field-1" data-direction="sw" data-type="description" data-view-component="true" class="js-modifier-label-key sr-only position-absolute" id="tooltip-1665581062698-8397" role="tooltip">Add a bulleted list, &lt;Ctrl+Shift+8&gt;</tool-tip>

      <md-ordered-list aria-label="Numbered list" id="md-ordered_list-new_comment_field-1" role="button" tabindex="-1" class="toolbar-item btn-octicon" data-hotkey-scope="new_comment_field" data-hotkey="Control+Shift+7" data-ga-click="Markdown Toolbar, click, ordered list" aria-describedby="tooltip-1665581062698-8168">
        <svg aria-hidden="true" height="16" viewBox="0 0 16 16" version="1.1" width="16" data-view-component="true" class="octicon octicon-list-ordered">
    <path fill-rule="evenodd" d="M2.003 2.5a.5.5 0 00-.723-.447l-1.003.5a.5.5 0 00.446.895l.28-.14V6H.5a.5.5 0 000 1h2.006a.5.5 0 100-1h-.503V2.5zM5 3.25a.75.75 0 01.75-.75h8.5a.75.75 0 010 1.5h-8.5A.75.75 0 015 3.25zm0 5a.75.75 0 01.75-.75h8.5a.75.75 0 010 1.5h-8.5A.75.75 0 015 8.25zm0 5a.75.75 0 01.75-.75h8.5a.75.75 0 010 1.5h-8.5a.75.75 0 01-.75-.75zM.924 10.32l.003-.004a.851.851 0 01.144-.153A.66.66 0 011.5 10c.195 0 .306.068.374.146a.57.57 0 01.128.376c0 .453-.269.682-.8 1.078l-.035.025C.692 11.98 0 12.495 0 13.5a.5.5 0 00.5.5h2.003a.5.5 0 000-1H1.146c.132-.197.351-.372.654-.597l.047-.035c.47-.35 1.156-.858 1.156-1.845 0-.365-.118-.744-.377-1.038-.268-.303-.658-.484-1.126-.484-.48 0-.84.202-1.068.392a1.858 1.858 0 00-.348.384l-.007.011-.002.004-.001.002-.001.001a.5.5 0 00.851.525zM.5 10.055l-.427-.26.427.26z"></path>
</svg>
      </md-ordered-list>
      <tool-tip for="md-ordered_list-new_comment_field-1" data-direction="sw" data-type="description" data-view-component="true" class="js-modifier-label-key sr-only position-absolute" id="tooltip-1665581062698-8168" role="tooltip">Add a numbered list, &lt;Ctrl+Shift+7&gt;</tool-tip>

      <md-task-list aria-label="Task list" id="md-task_list-new_comment_field-1" role="button" tabindex="-1" class="toolbar-item btn-octicon" data-hotkey-scope="new_comment_field" data-hotkey="Control+Shift+l" data-ga-click="Markdown Toolbar, click, task list" aria-describedby="tooltip-1665581062698-6004">
        <svg aria-hidden="true" height="16" viewBox="0 0 16 16" version="1.1" width="16" data-view-component="true" class="octicon octicon-tasklist">
    <path fill-rule="evenodd" d="M2.5 3.5v3h3v-3h-3zM2 2a1 1 0 00-1 1v4a1 1 0 001 1h4a1 1 0 001-1V3a1 1 0 00-1-1H2zm4.655 8.595a.75.75 0 010 1.06L4.03 14.28a.75.75 0 01-1.06 0l-1.5-1.5a.75.75 0 111.06-1.06l.97.97 2.095-2.095a.75.75 0 011.06 0zM9.75 2.5a.75.75 0 000 1.5h5.5a.75.75 0 000-1.5h-5.5zm0 5a.75.75 0 000 1.5h5.5a.75.75 0 000-1.5h-5.5zm0 5a.75.75 0 000 1.5h5.5a.75.75 0 000-1.5h-5.5z"></path>
</svg>
      </md-task-list>
      <tool-tip for="md-task_list-new_comment_field-1" data-direction="sw" data-type="description" data-view-component="true" class="js-modifier-label-key sr-only position-absolute" id="tooltip-1665581062698-6004" role="tooltip">Add a task list, &lt;Ctrl+Shift+l&gt;</tool-tip>
    </div>

            <div class="d-flex d-xs-inline-block">

            <md-mention aria-label="Mention" role="button" id="md-mention-new_comment_field" tabindex="-1" class="flex-auto text-center toolbar-item btn-octicon p-2 p-md-1 mx-1" data-ga-click="Markdown Toolbar, click, mention" aria-describedby="tooltip-1665581062699-687">
              <svg aria-hidden="true" height="16" viewBox="0 0 16 16" version="1.1" width="16" data-view-component="true" class="octicon octicon-mention">
    <path fill-rule="evenodd" d="M4.75 2.37a6.5 6.5 0 006.5 11.26.75.75 0 01.75 1.298 8 8 0 113.994-7.273.754.754 0 01.006.095v1.5a2.75 2.75 0 01-5.072 1.475A4 4 0 1112 8v1.25a1.25 1.25 0 002.5 0V7.867a6.5 6.5 0 00-9.75-5.496V2.37zM10.5 8a2.5 2.5 0 10-5 0 2.5 2.5 0 005 0z"></path>
</svg>
            </md-mention>
            <tool-tip for="md-mention-new_comment_field" data-direction="sw" data-type="description" data-view-component="true" class="sr-only position-absolute" id="tooltip-1665581062699-687" role="tooltip">Directly mention a user or team</tool-tip>

            <label for="fc-new_comment_field" data-md-button="" tabindex="-1" class="d-block d-md-none btn-link flex-auto text-center toolbar-item btn-octicon tooltipped tooltipped-sw p-2 mx-1" aria-label="Attach an image or video">
              <svg aria-hidden="true" height="16" viewBox="0 0 16 16" version="1.1" width="16" data-view-component="true" class="octicon octicon-image">
    <path fill-rule="evenodd" d="M1.75 2.5a.25.25 0 00-.25.25v10.5c0 .138.112.25.25.25h.94a.76.76 0 01.03-.03l6.077-6.078a1.75 1.75 0 012.412-.06L14.5 10.31V2.75a.25.25 0 00-.25-.25H1.75zm12.5 11H4.81l5.048-5.047a.25.25 0 01.344-.009l4.298 3.889v.917a.25.25 0 01-.25.25zm1.75-.25V2.75A1.75 1.75 0 0014.25 1H1.75A1.75 1.75 0 000 2.75v10.5C0 14.216.784 15 1.75 15h12.5A1.75 1.75 0 0016 13.25zM5.5 6a.5.5 0 11-1 0 .5.5 0 011 0zM7 6a2 2 0 11-4 0 2 2 0 014 0z"></path>
</svg>
            </label>

            <md-ref role="button" id="md-ref-new_comment_field" aria-label="Issue or pull request reference" tabindex="-1" class="flex-auto text-center toolbar-item btn-octicon p-2 p-md-1 mx-1" data-ga-click="Markdown Toolbar, click, reference" aria-describedby="tooltip-1665581062699-6156">
              <svg aria-hidden="true" height="16" viewBox="0 0 16 16" version="1.1" width="16" data-view-component="true" class="octicon octicon-cross-reference">
    <path fill-rule="evenodd" d="M16 1.25v4.146a.25.25 0 01-.427.177L14.03 4.03l-3.75 3.75a.75.75 0 11-1.06-1.06l3.75-3.75-1.543-1.543A.25.25 0 0111.604 1h4.146a.25.25 0 01.25.25zM2.75 3.5a.25.25 0 00-.25.25v7.5c0 .138.112.25.25.25h2a.75.75 0 01.75.75v2.19l2.72-2.72a.75.75 0 01.53-.22h4.5a.25.25 0 00.25-.25v-2.5a.75.75 0 111.5 0v2.5A1.75 1.75 0 0113.25 13H9.06l-2.573 2.573A1.457 1.457 0 014 14.543V13H2.75A1.75 1.75 0 011 11.25v-7.5C1 2.784 1.784 2 2.75 2h5.5a.75.75 0 010 1.5h-5.5z"></path>
</svg>
            </md-ref>
            <tool-tip for="md-ref-new_comment_field" data-direction="sw" data-type="description" data-view-component="true" class="sr-only position-absolute" id="tooltip-1665581062699-6156" role="tooltip">Reference an issue or pull request</tool-tip>


        </div>


      <div class="Details-content--hidden d-block d-md-none width-full">
        <md-header aria-label="Heading" id="md-heading-new_comment_field-2" role="button" tabindex="-1" class="toolbar-item btn-octicon py-2 pr-2 pl-1 mr-1" data-ga-click="Markdown Toolbar, click, header" aria-describedby="tooltip-1665581062699-1852">
          <svg aria-hidden="true" height="16" viewBox="0 0 16 16" version="1.1" width="16" data-view-component="true" class="octicon octicon-heading">
    <path fill-rule="evenodd" d="M3.75 2a.75.75 0 01.75.75V7h7V2.75a.75.75 0 011.5 0v10.5a.75.75 0 01-1.5 0V8.5h-7v4.75a.75.75 0 01-1.5 0V2.75A.75.75 0 013.75 2z"></path>
</svg>
        </md-header>
        <tool-tip for="md-heading-new_comment_field-2" data-direction="sw" data-type="description" data-view-component="true" class="js-modifier-label-key sr-only position-absolute" id="tooltip-1665581062699-1852" role="tooltip">Add heading text</tool-tip>

        <md-bold aria-label="Bold" id="md-bold-new_comment_field-2" role="button" tabindex="-1" class="toolbar-item btn-octicon p-2" data-hotkey-scope="new_comment_field" data-hotkey="Control+b" data-ga-click="Markdown Toolbar, click, bold" aria-describedby="tooltip-1665581062699-4566">
          <svg aria-hidden="true" height="16" viewBox="0 0 16 16" version="1.1" width="16" data-view-component="true" class="octicon octicon-bold">
    <path fill-rule="evenodd" d="M4 2a1 1 0 00-1 1v10a1 1 0 001 1h5.5a3.5 3.5 0 001.852-6.47A3.5 3.5 0 008.5 2H4zm4.5 5a1.5 1.5 0 100-3H5v3h3.5zM5 9v3h4.5a1.5 1.5 0 000-3H5z"></path>
</svg>
        </md-bold>
        <tool-tip for="md-bold-new_comment_field-2" data-direction="sw" data-type="description" data-view-component="true" class="js-modifier-label-key sr-only position-absolute" id="tooltip-1665581062699-4566" role="tooltip">Add bold text, &lt;Ctrl+b&gt;</tool-tip>

        <md-italic aria-label="Italic" id="md-italic-new_comment_field-2" role="button" tabindex="-1" class="toolbar-item btn-octicon p-2" data-hotkey-scope="new_comment_field" data-hotkey="Control+i" data-ga-click="Markdown Toolbar, click, italic" aria-describedby="tooltip-1665581062699-5820">
          <svg aria-hidden="true" height="16" viewBox="0 0 16 16" version="1.1" width="16" data-view-component="true" class="octicon octicon-italic">
    <path fill-rule="evenodd" d="M6 2.75A.75.75 0 016.75 2h6.5a.75.75 0 010 1.5h-2.505l-3.858 9H9.25a.75.75 0 010 1.5h-6.5a.75.75 0 010-1.5h2.505l3.858-9H6.75A.75.75 0 016 2.75z"></path>
</svg>
        </md-italic>
        <tool-tip for="md-italic-new_comment_field-2" data-direction="sw" data-type="description" data-view-component="true" class="js-modifier-label-key sr-only position-absolute" id="tooltip-1665581062699-5820" role="tooltip">Add italic text, &lt;Ctrl+i&gt;</tool-tip>

        <md-unordered-list aria-label="Unordered list" id="md-unordered_list-new_comment_field-2" role="button" tabindex="-1" class="toolbar-item btn-octicon p-2" data-hotkey-scope="new_comment_field" data-hotkey="Control+Shift+8" data-ga-click="Markdown Toolbar, click, unordered list" aria-describedby="tooltip-1665581062700-5931">
          <svg aria-hidden="true" height="16" viewBox="0 0 16 16" version="1.1" width="16" data-view-component="true" class="octicon octicon-list-unordered">
    <path fill-rule="evenodd" d="M2 4a1 1 0 100-2 1 1 0 000 2zm3.75-1.5a.75.75 0 000 1.5h8.5a.75.75 0 000-1.5h-8.5zm0 5a.75.75 0 000 1.5h8.5a.75.75 0 000-1.5h-8.5zm0 5a.75.75 0 000 1.5h8.5a.75.75 0 000-1.5h-8.5zM3 8a1 1 0 11-2 0 1 1 0 012 0zm-1 6a1 1 0 100-2 1 1 0 000 2z"></path>
</svg>
        </md-unordered-list>
        <tool-tip for="md-unordered_list-new_comment_field-2" data-direction="sw" data-type="description" data-view-component="true" class="js-modifier-label-key sr-only position-absolute" id="tooltip-1665581062700-5931" role="tooltip">Add a bulleted list, &lt;Ctrl+Shift+8&gt;</tool-tip>

        <md-ordered-list aria-label="Numbered list" id="md-ordered_list-new_comment_field-2" role="button" tabindex="-1" class="toolbar-item btn-octicon p-2" data-hotkey-scope="new_comment_field" data-hotkey="Control+Shift+7" data-ga-click="Markdown Toolbar, click, ordered list" aria-describedby="tooltip-1665581062700-7734">
          <svg aria-hidden="true" height="16" viewBox="0 0 16 16" version="1.1" width="16" data-view-component="true" class="octicon octicon-list-ordered">
    <path fill-rule="evenodd" d="M2.003 2.5a.5.5 0 00-.723-.447l-1.003.5a.5.5 0 00.446.895l.28-.14V6H.5a.5.5 0 000 1h2.006a.5.5 0 100-1h-.503V2.5zM5 3.25a.75.75 0 01.75-.75h8.5a.75.75 0 010 1.5h-8.5A.75.75 0 015 3.25zm0 5a.75.75 0 01.75-.75h8.5a.75.75 0 010 1.5h-8.5A.75.75 0 015 8.25zm0 5a.75.75 0 01.75-.75h8.5a.75.75 0 010 1.5h-8.5a.75.75 0 01-.75-.75zM.924 10.32l.003-.004a.851.851 0 01.144-.153A.66.66 0 011.5 10c.195 0 .306.068.374.146a.57.57 0 01.128.376c0 .453-.269.682-.8 1.078l-.035.025C.692 11.98 0 12.495 0 13.5a.5.5 0 00.5.5h2.003a.5.5 0 000-1H1.146c.132-.197.351-.372.654-.597l.047-.035c.47-.35 1.156-.858 1.156-1.845 0-.365-.118-.744-.377-1.038-.268-.303-.658-.484-1.126-.484-.48 0-.84.202-1.068.392a1.858 1.858 0 00-.348.384l-.007.011-.002.004-.001.002-.001.001a.5.5 0 00.851.525zM.5 10.055l-.427-.26.427.26z"></path>
</svg>
        </md-ordered-list>
        <tool-tip for="md-ordered_list-new_comment_field-2" data-direction="sw" data-type="description" data-view-component="true" class="js-modifier-label-key sr-only position-absolute" id="tooltip-1665581062700-7734" role="tooltip">Add a numbered list, &lt;Ctrl+Shift+7&gt;</tool-tip>

        <md-task-list aria-label="Task list" id="md-task_list-new_comment_field-2" role="button" tabindex="-1" class="toolbar-item btn-octicon p-2" data-hotkey-scope="new_comment_field" data-hotkey="Control+Shift+l" data-ga-click="Markdown Toolbar, click, task list" aria-describedby="tooltip-1665581062700-7101">
          <svg aria-hidden="true" height="16" viewBox="0 0 16 16" version="1.1" width="16" data-view-component="true" class="octicon octicon-tasklist">
    <path fill-rule="evenodd" d="M2.5 3.5v3h3v-3h-3zM2 2a1 1 0 00-1 1v4a1 1 0 001 1h4a1 1 0 001-1V3a1 1 0 00-1-1H2zm4.655 8.595a.75.75 0 010 1.06L4.03 14.28a.75.75 0 01-1.06 0l-1.5-1.5a.75.75 0 111.06-1.06l.97.97 2.095-2.095a.75.75 0 011.06 0zM9.75 2.5a.75.75 0 000 1.5h5.5a.75.75 0 000-1.5h-5.5zm0 5a.75.75 0 000 1.5h5.5a.75.75 0 000-1.5h-5.5zm0 5a.75.75 0 000 1.5h5.5a.75.75 0 000-1.5h-5.5z"></path>
</svg>
        </md-task-list>
        <tool-tip for="md-task_list-new_comment_field-2" data-direction="sw" data-type="description" data-view-component="true" class="js-modifier-label-key sr-only position-absolute" id="tooltip-1665581062700-7101" role="tooltip">Add a task list, &lt;Ctrl+Shift+l&gt;</tool-tip>
      </div>
</markdown-toolbar>
  </div>

  <div class="comment-form-error js-comment-form-error" role="alert" hidden="">
    There was an error creating your Gist.
  </div>

  <file-attachment class="js-upload-markdown-image is-default" input="fc-new_comment_field" role="tabpanel" data-tab-container-no-tabstop="true" data-subject-type="Gist" data-subject-param="a095ff17abce95212da043f9c5e05909" data-upload-policy-url="/upload/policies/assets"><input type="hidden" value="2YZJyOcoRVs5mMEh7J0Uhne8iGTWIkH5mzpWVKU4zec-KFnyRlImsP8VFpWs9AI6jW7bNurmF68CcA4-EgeVcw" data-csrf="true" class="js-data-upload-policy-url-csrf">
    <div class="js-write-bucket write-content tooltipped tooltipped-ne tooltipped-no-delay tooltipped-align-left-1 hide-reaction-suggestion upload-enabled mx-0 mt-2 mb-2 mx-md-2 hx_sm-hide-drag-drop">

      <text-expander keys=": @" data-mention-url="/perlineanisha/a095ff17abce95212da043f9c5e05909/suggestions?target=user" data-emoji-url="/perlineanisha/a095ff17abce95212da043f9c5e05909/suggestions">
          
          <textarea name="comment[body]" id="new_comment_field" placeholder="Leave a comment" aria-label="Comment body" class="js-comment-field js-paste-markdown js-task-list-field js-quick-submit form-control input-contrast comment-form-textarea js-size-to-fit js-session-resumable" dir="auto" data-gramm="false" wt-ignore-input="true"></textarea>

      </text-expander>
            <label class="text-normal drag-and-drop hx_drag-and-drop position-relative d-flex flex-justify-between">
    <input accept=".gif,.jpeg,.jpg,.mov,.mp4,.png,.svg,.webm" type="file" multiple="" class="manual-file-chooser manual-file-chooser-transparent top-0 right-0 bottom-0 left-0 width-full ml-0 form-control rounded-top-0" id="fc-new_comment_field">
    <span class="color-bg-subtle position-absolute top-0 left-0 rounded-bottom-2 width-full height-full" style="pointer-events: none;"></span>
    <span class="position-relative pr-2" style="pointer-events: none;">
      <span class="default">
        Attach files by dragging &amp; dropping, selecting or pasting them.
      </span>
      <span class="loading">
        <svg style="box-sizing: content-box; color: var(--color-icon-primary);" width="16" height="16" viewBox="0 0 16 16" fill="none" data-view-component="true" class="v-align-text-bottom mr-1 anim-rotate">
  <circle cx="8" cy="8" r="7" stroke="currentColor" stroke-opacity="0.25" stroke-width="2" vector-effect="non-scaling-stroke"></circle>
  <path d="M15 8a7.002 7.002 0 00-7-7" stroke="currentColor" stroke-width="2" stroke-linecap="round" vector-effect="non-scaling-stroke"></path>
</svg>
          <span class="js-file-upload-loading-text" data-file-upload-message="Uploading your files…">
            Uploading your files…
          </span>
      </span>
      <span class="error bad-file">
        We don’t support that file type.
        <span class="drag-and-drop-error-info">
          <span class="btn-link">Try again</span> with a
          GIF, JPEG, JPG, MOV, MP4, PNG, SVG or WEBM.
        </span>
      </span>
      <span class="error bad-permissions">
        Attaching documents requires write permission to this repository.
        <span class="drag-and-drop-error-info">
          <span class="btn-link">Try again</span> with a GIF, JPEG, JPG, MOV, MP4, PNG, SVG or WEBM.
        </span>
      </span>
      <span class="error repository-required">
        We don’t support that file type.
        <span class="drag-and-drop-error-info">
          <span class="btn-link">Try again</span> with a GIF, JPEG, JPG, MOV, MP4, PNG, SVG or WEBM.
        </span>
      </span>
      <span class="error too-big js-upload-too-big">
      </span>
      <span class="error empty">
        This file is empty.
        <span class="drag-and-drop-error-info">
          <span class="btn-link">Try again</span> with a file that’s not empty.
        </span>
      </span>
      <span class="error hidden-file">
        This file is hidden.
        <span class="drag-and-drop-error-info">
          <span class="btn-link">Try again</span> with another file.
        </span>
      </span>
      <span class="error failed-request">
        Something went really wrong, and we can’t process that file.
        <span class="drag-and-drop-error-info">
          <span class="btn-link">Try again.</span>
        </span>
      </span>
    </span>
    <a class="Link--muted position-relative d-inline" href="https://docs.github.com/github/writing-on-github/getting-started-with-writing-and-formatting-on-github/basic-writing-and-formatting-syntax" target="_blank" data-ga-click="Markdown Toolbar, click, help" id="dd_fc-new_comment_field_md_link" aria-labelledby="tooltip-1665581062700-7734">
      <svg aria-hidden="true" height="16" viewBox="0 0 16 16" version="1.1" width="16" data-view-component="true" class="octicon octicon-markdown v-align-bottom">
    <path fill-rule="evenodd" d="M14.85 3H1.15C.52 3 0 3.52 0 4.15v7.69C0 12.48.52 13 1.15 13h13.69c.64 0 1.15-.52 1.15-1.15v-7.7C16 3.52 15.48 3 14.85 3zM9 11H7V8L5.5 9.92 4 8v3H2V5h2l1.5 2L7 5h2v6zm2.99.5L9.5 8H11V5h2v3h1.5l-2.51 3.5z"></path>
</svg>
    </a>
    <tool-tip for="dd_fc-new_comment_field_md_link" data-direction="nw" data-type="label" data-view-component="true" class="sr-only position-absolute" id="tooltip-1665581062700-7734" aria-hidden="true" role="tooltip">Styling with Markdown is supported</tool-tip>
  </label>

    </div>
</file-attachment>
  <div role="tabpanel" class="js-preview-panel overflow-auto border-bottom mx-0 my-3 mx-md-2 mb-md-2" hidden="">
    <input type="hidden" name="path" value="" class="js-path">
    <input type="hidden" name="line" value="" class="js-line-number">
    <input type="hidden" name="start_line" value="" class="js-start-line-number">
    <input type="hidden" name="preview_side" value="" class="js-side">
    <input type="hidden" name="preview_start_side" value="" class="js-start-side">
    <input type="hidden" name="start_commit_oid" value="" class="js-start-commit-oid">
    <input type="hidden" name="end_commit_oid" value="" class="js-end-commit-oid">
    <input type="hidden" name="base_commit_oid" value="" class="js-base-commit-oid">
    <input type="hidden" name="comment_id" value="" class="js-comment-id">
    <div class="comment js-suggested-changes-container" data-thread-side="">
  <div class="comment-body markdown-body js-preview-body">
    <p>Nothing to preview</p>
  </div>
</div>

  </div>


  <div class="comment-form-error mb-2 js-comment-update-error" hidden=""></div>
</tab-container>

      <input type="text" name="required_field_26d7" hidden="hidden" class="form-control"><input type="hidden" name="timestamp" value="1665581063621" autocomplete="off" class="form-control"><input type="hidden" name="timestamp_secret" value="f36f13a7180dd6166967240d957fc328541cfb8cb29859413b8d9d849f5de96c" autocomplete="off" class="form-control">
      <div class="pr-0 pr-md-2 form-actions">
        <div id="partial-new-comment-form-actions">
    <button data-disable-with="" data-disable-invalid="" type="submit" data-view-component="true" class="btn-primary btn">    Comment
</button></div>

      </div>
    </div>
</form></div>

            
          </div>
        </div>
      </div>
</div>
  </div>
</div><!-- /.container -->

    </main>
  </div>

  </div>

          <footer class="footer width-full container-lg p-responsive">
  <h2 class="sr-only">Footer</h2>

  <div class="position-relative d-flex flex-items-center pb-2 f6 color-fg-muted border-top color-border-muted flex-column-reverse flex-lg-row flex-wrap flex-lg-nowrap mt-6 pt-6">
    <div class="list-style-none d-flex flex-wrap col-0 col-lg-2 flex-justify-start flex-lg-justify-between mb-2 mb-lg-0">
      <div class="mt-2 mt-lg-0 d-flex flex-items-center">
        <a aria-label="Homepage" title="GitHub" class="footer-octicon mr-2" href="https://github.com/">
          <svg aria-hidden="true" height="24" viewBox="0 0 16 16" version="1.1" width="24" data-view-component="true" class="octicon octicon-mark-github">
    <path fill-rule="evenodd" d="M8 0C3.58 0 0 3.58 0 8c0 3.54 2.29 6.53 5.47 7.59.4.07.55-.17.55-.38 0-.19-.01-.82-.01-1.49-2.01.37-2.53-.49-2.69-.94-.09-.23-.48-.94-.82-1.13-.28-.15-.68-.52-.01-.53.63-.01 1.08.58 1.23.82.72 1.21 1.87.87 2.33.66.07-.52.28-.87.51-1.07-1.78-.2-3.64-.89-3.64-3.95 0-.87.31-1.59.82-2.15-.08-.2-.36-1.02.08-2.12 0 0 .67-.21 2.2.82.64-.18 1.32-.27 2-.27.68 0 1.36.09 2 .27 1.53-1.04 2.2-.82 2.2-.82.44 1.1.16 1.92.08 2.12.51.56.82 1.27.82 2.15 0 3.07-1.87 3.75-3.65 3.95.29.25.54.73.54 1.48 0 1.07-.01 1.93-.01 2.2 0 .21.15.46.55.38A8.013 8.013 0 0016 8c0-4.42-3.58-8-8-8z"></path>
</svg>
</a>        <span>
        © 2022 GitHub, Inc.
        </span>
      </div>
    </div>

    <nav aria-label="footer" class="col-12 col-lg-8">
      <h3 class="sr-only" id="sr-footer-heading">Footer navigation</h3>
      <ul class="list-style-none d-flex flex-wrap col-12 flex-justify-center flex-lg-justify-between mb-2 mb-lg-0" aria-labelledby="sr-footer-heading">
          <li class="mr-3 mr-lg-0"><a href="https://docs.github.com/en/github/site-policy/github-terms-of-service" data-analytics-event="{&quot;category&quot;:&quot;Footer&quot;,&quot;action&quot;:&quot;go to terms&quot;,&quot;label&quot;:&quot;text:terms&quot;}">Terms</a></li>
          <li class="mr-3 mr-lg-0"><a href="https://docs.github.com/en/github/site-policy/github-privacy-statement" data-analytics-event="{&quot;category&quot;:&quot;Footer&quot;,&quot;action&quot;:&quot;go to privacy&quot;,&quot;label&quot;:&quot;text:privacy&quot;}">Privacy</a></li>
          <li class="mr-3 mr-lg-0"><a data-analytics-event="{&quot;category&quot;:&quot;Footer&quot;,&quot;action&quot;:&quot;go to security&quot;,&quot;label&quot;:&quot;text:security&quot;}" href="https://github.com/security">Security</a></li>
          <li class="mr-3 mr-lg-0"><a href="https://www.githubstatus.com/" data-analytics-event="{&quot;category&quot;:&quot;Footer&quot;,&quot;action&quot;:&quot;go to status&quot;,&quot;label&quot;:&quot;text:status&quot;}">Status</a></li>
          <li class="mr-3 mr-lg-0"><a data-ga-click="Footer, go to help, text:Docs" href="https://docs.github.com/">Docs</a></li>
          <li class="mr-3 mr-lg-0"><a href="https://support.github.com/?tags=dotcom-footer" data-analytics-event="{&quot;category&quot;:&quot;Footer&quot;,&quot;action&quot;:&quot;go to contact&quot;,&quot;label&quot;:&quot;text:contact&quot;}">Contact GitHub</a></li>
          <li class="mr-3 mr-lg-0"><a href="https://github.com/pricing" data-analytics-event="{&quot;category&quot;:&quot;Footer&quot;,&quot;action&quot;:&quot;go to Pricing&quot;,&quot;label&quot;:&quot;text:Pricing&quot;}">Pricing</a></li>
        <li class="mr-3 mr-lg-0"><a href="https://docs.github.com/" data-analytics-event="{&quot;category&quot;:&quot;Footer&quot;,&quot;action&quot;:&quot;go to api&quot;,&quot;label&quot;:&quot;text:api&quot;}">API</a></li>
        <li class="mr-3 mr-lg-0"><a href="https://services.github.com/" data-analytics-event="{&quot;category&quot;:&quot;Footer&quot;,&quot;action&quot;:&quot;go to training&quot;,&quot;label&quot;:&quot;text:training&quot;}">Training</a></li>
          <li class="mr-3 mr-lg-0"><a href="https://github.blog/" data-analytics-event="{&quot;category&quot;:&quot;Footer&quot;,&quot;action&quot;:&quot;go to blog&quot;,&quot;label&quot;:&quot;text:blog&quot;}">Blog</a></li>
          <li><a data-ga-click="Footer, go to about, text:about" href="https://github.com/about">About</a></li>
      </ul>
    </nav>
  </div>

  <div class="d-flex flex-justify-center pb-6">
    <span class="f6 color-fg-muted"></span>
  </div>
</footer>




  <div id="ajax-error-message" class="ajax-error-message flash flash-error" hidden="">
    <svg aria-hidden="true" height="16" viewBox="0 0 16 16" version="1.1" width="16" data-view-component="true" class="octicon octicon-alert">
    <path fill-rule="evenodd" d="M8.22 1.754a.25.25 0 00-.44 0L1.698 13.132a.25.25 0 00.22.368h12.164a.25.25 0 00.22-.368L8.22 1.754zm-1.763-.707c.659-1.234 2.427-1.234 3.086 0l6.082 11.378A1.75 1.75 0 0114.082 15H1.918a1.75 1.75 0 01-1.543-2.575L6.457 1.047zM9 11a1 1 0 11-2 0 1 1 0 012 0zm-.25-5.25a.75.75 0 00-1.5 0v2.5a.75.75 0 001.5 0v-2.5z"></path>
</svg>
    <button type="button" class="flash-close js-ajax-error-dismiss" aria-label="Dismiss error">
      <svg aria-hidden="true" height="16" viewBox="0 0 16 16" version="1.1" width="16" data-view-component="true" class="octicon octicon-x">
    <path fill-rule="evenodd" d="M3.72 3.72a.75.75 0 011.06 0L8 6.94l3.22-3.22a.75.75 0 111.06 1.06L9.06 8l3.22 3.22a.75.75 0 11-1.06 1.06L8 9.06l-3.22 3.22a.75.75 0 01-1.06-1.06L6.94 8 3.72 4.78a.75.75 0 010-1.06z"></path>
</svg>
    </button>
    You can’t perform that action at this time.
  </div>

  <div class="js-stale-session-flash flash flash-warn flash-banner" hidden="">
    <svg aria-hidden="true" height="16" viewBox="0 0 16 16" version="1.1" width="16" data-view-component="true" class="octicon octicon-alert">
    <path fill-rule="evenodd" d="M8.22 1.754a.25.25 0 00-.44 0L1.698 13.132a.25.25 0 00.22.368h12.164a.25.25 0 00.22-.368L8.22 1.754zm-1.763-.707c.659-1.234 2.427-1.234 3.086 0l6.082 11.378A1.75 1.75 0 0114.082 15H1.918a1.75 1.75 0 01-1.543-2.575L6.457 1.047zM9 11a1 1 0 11-2 0 1 1 0 012 0zm-.25-5.25a.75.75 0 00-1.5 0v2.5a.75.75 0 001.5 0v-2.5z"></path>
</svg>
    <span class="js-stale-session-flash-signed-in" hidden="">You signed in with another tab or window. <a href="https://gist.github.com/perlineanisha/a095ff17abce95212da043f9c5e05909?short_path=11c46c6">Reload</a> to refresh your session.</span>
    <span class="js-stale-session-flash-signed-out" hidden="">You signed out in another tab or window. <a href="https://gist.github.com/perlineanisha/a095ff17abce95212da043f9c5e05909?short_path=11c46c6">Reload</a> to refresh your session.</span>
  </div>
    <template id="site-details-dialog"></template>

    <div class="Popover js-hovercard-content position-absolute" style="display: none; outline: none;" tabindex="0">
  <div class="Popover-message Popover-message--bottom-left Popover-message--large Box color-shadow-large" style="width:360px;"></div>
</div>

    <template id="snippet-clipboard-copy-button"></template>


    <style>
      .user-mention[href$="/akpatil14"] {
        color: var(--color-user-mention-fg);
        background-color: var(--color-user-mention-bg);
        border-radius: 2px;
        margin-left: -2px;
        margin-right: -2px;
        padding: 0 2px;
      }
    </style>


  


<div aria-live="polite" class="sr-only"></div><quillbot-extension-portal></quillbot-extension-portal></body><quillbot-extension-root></quillbot-extension-root></html>